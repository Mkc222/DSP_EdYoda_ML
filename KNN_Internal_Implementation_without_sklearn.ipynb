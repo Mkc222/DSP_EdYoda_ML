{
 "cells": [
  {
   "cell_type": "markdown",
   "metadata": {},
   "source": [
    "### Implement Nearest Neighbour without sklearn\n",
    "* Recap of nearest Neighbour\n",
    "* Implement Nearest Neighbour Classifier"
   ]
  },
  {
   "cell_type": "markdown",
   "metadata": {},
   "source": [
    "### Algo:\n",
    "* During Training, data are stored in an optimized data structure suited for fast search.\n",
    "* During prediction, for each data we search for the nearest neighbours using euclidian/manhatten/humming distance vector calculation technique\n",
    "* Finally, decide based on majority"
   ]
  },
  {
   "cell_type": "code",
   "execution_count": 1,
   "metadata": {},
   "outputs": [],
   "source": [
    "from sklearn.datasets import load_iris"
   ]
  },
  {
   "cell_type": "code",
   "execution_count": 2,
   "metadata": {},
   "outputs": [],
   "source": [
    "iris = load_iris()"
   ]
  },
  {
   "cell_type": "code",
   "execution_count": 3,
   "metadata": {},
   "outputs": [
    {
     "data": {
      "text/plain": [
       "['sepal length (cm)',\n",
       " 'sepal width (cm)',\n",
       " 'petal length (cm)',\n",
       " 'petal width (cm)']"
      ]
     },
     "execution_count": 3,
     "metadata": {},
     "output_type": "execute_result"
    }
   ],
   "source": [
    "iris.feature_names"
   ]
  },
  {
   "cell_type": "code",
   "execution_count": 4,
   "metadata": {},
   "outputs": [
    {
     "data": {
      "text/plain": [
       "array(['setosa', 'versicolor', 'virginica'], dtype='<U10')"
      ]
     },
     "execution_count": 4,
     "metadata": {},
     "output_type": "execute_result"
    }
   ],
   "source": [
    "iris.target_names"
   ]
  },
  {
   "cell_type": "code",
   "execution_count": 5,
   "metadata": {},
   "outputs": [],
   "source": [
    "import pandas as pd"
   ]
  },
  {
   "cell_type": "code",
   "execution_count": 6,
   "metadata": {},
   "outputs": [],
   "source": [
    "df = pd.DataFrame(iris.data, columns=iris.feature_names)"
   ]
  },
  {
   "cell_type": "code",
   "execution_count": 7,
   "metadata": {},
   "outputs": [],
   "source": [
    "df['type'] = iris.target"
   ]
  },
  {
   "cell_type": "code",
   "execution_count": 8,
   "metadata": {},
   "outputs": [
    {
     "data": {
      "text/html": [
       "<div>\n",
       "<style scoped>\n",
       "    .dataframe tbody tr th:only-of-type {\n",
       "        vertical-align: middle;\n",
       "    }\n",
       "\n",
       "    .dataframe tbody tr th {\n",
       "        vertical-align: top;\n",
       "    }\n",
       "\n",
       "    .dataframe thead th {\n",
       "        text-align: right;\n",
       "    }\n",
       "</style>\n",
       "<table border=\"1\" class=\"dataframe\">\n",
       "  <thead>\n",
       "    <tr style=\"text-align: right;\">\n",
       "      <th></th>\n",
       "      <th>sepal length (cm)</th>\n",
       "      <th>sepal width (cm)</th>\n",
       "      <th>petal length (cm)</th>\n",
       "      <th>petal width (cm)</th>\n",
       "      <th>type</th>\n",
       "    </tr>\n",
       "  </thead>\n",
       "  <tbody>\n",
       "    <tr>\n",
       "      <th>46</th>\n",
       "      <td>5.1</td>\n",
       "      <td>3.8</td>\n",
       "      <td>1.6</td>\n",
       "      <td>0.2</td>\n",
       "      <td>0</td>\n",
       "    </tr>\n",
       "    <tr>\n",
       "      <th>51</th>\n",
       "      <td>6.4</td>\n",
       "      <td>3.2</td>\n",
       "      <td>4.5</td>\n",
       "      <td>1.5</td>\n",
       "      <td>1</td>\n",
       "    </tr>\n",
       "    <tr>\n",
       "      <th>92</th>\n",
       "      <td>5.8</td>\n",
       "      <td>2.6</td>\n",
       "      <td>4.0</td>\n",
       "      <td>1.2</td>\n",
       "      <td>1</td>\n",
       "    </tr>\n",
       "    <tr>\n",
       "      <th>83</th>\n",
       "      <td>6.0</td>\n",
       "      <td>2.7</td>\n",
       "      <td>5.1</td>\n",
       "      <td>1.6</td>\n",
       "      <td>1</td>\n",
       "    </tr>\n",
       "    <tr>\n",
       "      <th>33</th>\n",
       "      <td>5.5</td>\n",
       "      <td>4.2</td>\n",
       "      <td>1.4</td>\n",
       "      <td>0.2</td>\n",
       "      <td>0</td>\n",
       "    </tr>\n",
       "  </tbody>\n",
       "</table>\n",
       "</div>"
      ],
      "text/plain": [
       "    sepal length (cm)  sepal width (cm)  petal length (cm)  petal width (cm)  \\\n",
       "46                5.1               3.8                1.6               0.2   \n",
       "51                6.4               3.2                4.5               1.5   \n",
       "92                5.8               2.6                4.0               1.2   \n",
       "83                6.0               2.7                5.1               1.6   \n",
       "33                5.5               4.2                1.4               0.2   \n",
       "\n",
       "    type  \n",
       "46     0  \n",
       "51     1  \n",
       "92     1  \n",
       "83     1  \n",
       "33     0  "
      ]
     },
     "execution_count": 8,
     "metadata": {},
     "output_type": "execute_result"
    }
   ],
   "source": [
    "df.sample(5)"
   ]
  },
  {
   "cell_type": "code",
   "execution_count": 9,
   "metadata": {},
   "outputs": [],
   "source": [
    "def calculate_distance_between_vectors(v1,v2):\n",
    "    pass\n",
    "\n",
    "def store_training_data(train_data):\n",
    "    pass\n",
    "\n",
    "def find_k_neighbours(k,data):\n",
    "    pass\n",
    "\n",
    "def identify_class_from_neighbours(neighbours):\n",
    "    pass"
   ]
  },
  {
   "cell_type": "code",
   "execution_count": 10,
   "metadata": {},
   "outputs": [],
   "source": [
    "import numpy as np"
   ]
  },
  {
   "cell_type": "markdown",
   "metadata": {},
   "source": [
    "## KNN Classifier"
   ]
  },
  {
   "cell_type": "code",
   "execution_count": 11,
   "metadata": {},
   "outputs": [],
   "source": [
    "class MyKNN:\n",
    "    def __init__(self,k=5):\n",
    "        self.k = k\n",
    "        \n",
    "    def my_fit(self, feature_data, target_data):\n",
    "        self.feature_data = np.array(feature_data)\n",
    "        self.target_data = np.array(target_data)\n",
    "        \n",
    "    def calculate_distance_vector_matrix(self, one_data):\n",
    "        distances = np.sqrt(np.sum(np.square(self.feature_data - one_data),axis=1))\n",
    "        return distances\n",
    "    \n",
    "    def find_k_neighbours(self,one_data_feature):\n",
    "        res = self.calculate_distance_vector_matrix(one_data_feature)\n",
    "        return res.argsort()[:self.k]\n",
    "        \n",
    "    def find_k_neighbours_class(self, one_data_feature):\n",
    "        indexs_of_neighbours = self.find_k_neighbours(one_data_feature)\n",
    "        return self.target_data[indexs_of_neighbours]\n",
    "    \n",
    "    def my_predict(self, one_data_feature):\n",
    "        classes = self.find_k_neighbours_class(one_data_feature)\n",
    "        return np.bincount(classes).argmax()"
   ]
  },
  {
   "cell_type": "code",
   "execution_count": 12,
   "metadata": {},
   "outputs": [],
   "source": [
    "model = MyKNN(k=5)"
   ]
  },
  {
   "cell_type": "code",
   "execution_count": 13,
   "metadata": {},
   "outputs": [],
   "source": [
    "feature_data = df.drop(columns=['type'],axis=1)\n",
    "target_data = df.type"
   ]
  },
  {
   "cell_type": "code",
   "execution_count": 14,
   "metadata": {},
   "outputs": [],
   "source": [
    "model.my_fit(feature_data, target_data)"
   ]
  },
  {
   "cell_type": "markdown",
   "metadata": {},
   "source": [
    "* Can we calculate euclidian distance between one_data & comp_data in one shot\n",
    "* Below is euclidian distance between one_data & all the comp_data"
   ]
  },
  {
   "cell_type": "code",
   "execution_count": 16,
   "metadata": {},
   "outputs": [],
   "source": [
    "one_data = np.array([1,2,3,4])"
   ]
  },
  {
   "cell_type": "code",
   "execution_count": 17,
   "metadata": {},
   "outputs": [
    {
     "data": {
      "text/plain": [
       "array([2, 1, 1, 1, 1])"
      ]
     },
     "execution_count": 17,
     "metadata": {},
     "output_type": "execute_result"
    }
   ],
   "source": [
    "model.find_k_neighbours_class(one_data)"
   ]
  },
  {
   "cell_type": "code",
   "execution_count": 18,
   "metadata": {},
   "outputs": [
    {
     "data": {
      "text/plain": [
       "2"
      ]
     },
     "execution_count": 18,
     "metadata": {},
     "output_type": "execute_result"
    }
   ],
   "source": [
    "model.my_predict([4,4,4,4])"
   ]
  },
  {
   "cell_type": "markdown",
   "metadata": {},
   "source": [
    " # KNN Regressor"
   ]
  },
  {
   "cell_type": "code",
   "execution_count": 21,
   "metadata": {},
   "outputs": [],
   "source": [
    "class MyKNN_regressor:\n",
    "    def __init__(self,k=5):\n",
    "        self.k = k\n",
    "        \n",
    "    def my_fit(self, feature_data, target_data):\n",
    "        self.feature_data = np.array(feature_data)\n",
    "        self.target_data = np.array(target_data)\n",
    "        \n",
    "    def calculate_distance_vector_matrix(self, one_data):\n",
    "        distances = np.sqrt(np.sum(np.square(self.feature_data - one_data),axis=1))\n",
    "        return distances\n",
    "    \n",
    "    def find_k_neighbours(self,one_data_feature):\n",
    "        res = self.calculate_distance_vector_matrix(one_data_feature)\n",
    "        return res.argsort()[:self.k]\n",
    "        \n",
    "    def find_k_neighbours_values(self, one_data_feature):\n",
    "        indexs_of_neighbours = self.find_k_neighbours(one_data_feature)\n",
    "        return self.target_data[indexs_of_neighbours]\n",
    "    \n",
    "    def my_predict(self, one_data_feature):\n",
    "        values = self.find_k_neighbours_values(one_data_feature)\n",
    "        return np.mean(value)"
   ]
  },
  {
   "cell_type": "code",
   "execution_count": null,
   "metadata": {},
   "outputs": [],
   "source": []
  }
 ],
 "metadata": {
  "kernelspec": {
   "display_name": "Python 3",
   "language": "python",
   "name": "python3"
  },
  "language_info": {
   "codemirror_mode": {
    "name": "ipython",
    "version": 3
   },
   "file_extension": ".py",
   "mimetype": "text/x-python",
   "name": "python",
   "nbconvert_exporter": "python",
   "pygments_lexer": "ipython3",
   "version": "3.7.3"
  }
 },
 "nbformat": 4,
 "nbformat_minor": 2
}
