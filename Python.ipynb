{
 "cells": [
  {
   "cell_type": "markdown",
   "metadata": {},
   "source": [
    "# Session - 3: Python Basics"
   ]
  },
  {
   "cell_type": "code",
   "execution_count": null,
   "metadata": {},
   "outputs": [],
   "source": [
    "Why we need Datatype?\n",
    "Whenever we are writing a program or creating a logic to solve problems we will be dealing with different types of data and \n",
    "these are the data with which we deal in our real life. Ex: for placing an order to amazon we order 1 or 2 number of shoes \n",
    "but not 1.5 number of shoes, bank balance in banks are floating point numbers, blog is a large text, etc. are all different\n",
    "data. That is the reason every programming language allows us to deal with different types of data."
   ]
  },
  {
   "cell_type": "code",
   "execution_count": null,
   "metadata": {},
   "outputs": [],
   "source": [
    "Datatypes in Python:\n",
    "    int 10 20 30 --> immutable\n",
    "    float 10.23 50.005  --> immutable\n",
    "    str (anything which is enclosed in a single quotes or double or tripple quotes 'Python' \"Python\" '''Python''') --> immutable\n",
    "    list [10, 20, 30] --> mutable\n",
    "    tuple (10, 20, 30) --> immutable\n",
    "    dict {1:1,2:4,3:9,4:16}  --> mutable\n",
    "    set {2,5,6} --> mutable\n",
    "    bool True False --> immutable"
   ]
  },
  {
   "cell_type": "code",
   "execution_count": null,
   "metadata": {},
   "outputs": [],
   "source": [
    "Mutable : Change the value at same mem location : methods to add/update/delete \n",
    "Immutable : Can not change the value at same mem location : No methods to add/update and delete"
   ]
  },
  {
   "cell_type": "code",
   "execution_count": 1,
   "metadata": {},
   "outputs": [
    {
     "name": "stdout",
     "output_type": "stream",
     "text": [
      "300\n"
     ]
    }
   ],
   "source": [
    "num1 = 100           # num1 is referencing the memory location of 100\n",
    "num2 = 200           # num2 is referencing the memory location of 200\n",
    "num3 = num1 + num2\n",
    "print(num3)"
   ]
  },
  {
   "cell_type": "code",
   "execution_count": 2,
   "metadata": {},
   "outputs": [
    {
     "name": "stdout",
     "output_type": "stream",
     "text": [
      "<class 'str'>\n"
     ]
    }
   ],
   "source": [
    "s = \"Python is easy to learn\"\n",
    "print(type(s))   # type() returns the datatype of s"
   ]
  },
  {
   "cell_type": "code",
   "execution_count": 3,
   "metadata": {},
   "outputs": [
    {
     "name": "stdout",
     "output_type": "stream",
     "text": [
      "140735714455280\n"
     ]
    }
   ],
   "source": [
    "num1 = 100\n",
    "print(id(num1))   # id() returns the memory address to which num1 is referencing i.e. memory address of 100"
   ]
  },
  {
   "cell_type": "code",
   "execution_count": 4,
   "metadata": {},
   "outputs": [
    {
     "name": "stdout",
     "output_type": "stream",
     "text": [
      "140735714455280 140735714455280\n"
     ]
    }
   ],
   "source": [
    "# point to be noted for int datatype\n",
    "num1 = 100\n",
    "num2 = 100\n",
    "print(id(num1),id(num2))"
   ]
  },
  {
   "cell_type": "code",
   "execution_count": 5,
   "metadata": {},
   "outputs": [
    {
     "name": "stdout",
     "output_type": "stream",
     "text": [
      "2358597427440 2358597427696\n"
     ]
    }
   ],
   "source": [
    "# point to be noted for int datatype\n",
    "num1 = 1000\n",
    "num2 = 1000\n",
    "print(id(num1),id(num2))"
   ]
  },
  {
   "cell_type": "code",
   "execution_count": 11,
   "metadata": {},
   "outputs": [
    {
     "name": "stdout",
     "output_type": "stream",
     "text": [
      "2358539117488 2358539117488\n"
     ]
    }
   ],
   "source": [
    "# point to be noted for str datatype\n",
    "s = 'python'  # string of length 6\n",
    "s1 = 'python'\n",
    "print(id(s),id(s1))"
   ]
  },
  {
   "cell_type": "code",
   "execution_count": 7,
   "metadata": {},
   "outputs": [
    {
     "name": "stdout",
     "output_type": "stream",
     "text": [
      "2358597709456 2358597709296\n"
     ]
    }
   ],
   "source": [
    "# point to be noted for str datatype\n",
    "s = 'python is very easy to learn'\n",
    "s1 = 'python is very easy to learn'\n",
    "print(id(s),id(s1))"
   ]
  },
  {
   "cell_type": "code",
   "execution_count": null,
   "metadata": {},
   "outputs": [],
   "source": [
    "Note:\n",
    "    There is a concept of Python internal way of optimization for integers from 0 to 256. This concept is also called\n",
    "    Object intering. And same concept for string datatype for small length strings.\n",
    "    "
   ]
  },
  {
   "cell_type": "code",
   "execution_count": null,
   "metadata": {},
   "outputs": [],
   "source": [
    "iterable datatype:\n",
    "    list\n",
    "    tuple\n",
    "    dict\n",
    "    set\n",
    "    str\n",
    "not iterable datatype:\n",
    "    int\n",
    "    float\n",
    "    bool"
   ]
  },
  {
   "cell_type": "code",
   "execution_count": null,
   "metadata": {},
   "outputs": [],
   "source": [
    "Mutable and Iterable : \n",
    "    list \n",
    "    dict \n",
    "    set\n",
    "    \n",
    "Immutable and Iterable :\n",
    "    tuple \n",
    "    str\n",
    "Immutable and non iterable :\n",
    "    int \n",
    "    float \n",
    "    bool"
   ]
  },
  {
   "cell_type": "code",
   "execution_count": null,
   "metadata": {},
   "outputs": [],
   "source": [
    "PEP (Python Enhancement Proposal) 8: talks about how our python code should look like\n",
    "    "
   ]
  },
  {
   "cell_type": "code",
   "execution_count": null,
   "metadata": {},
   "outputs": [],
   "source": [
    "Naming conventios for variables: \n",
    "    1. Underscore casing  fisrtName = \"ABC\" first_name = \"ABC\"\n",
    "    2. Should start with alpha , digits are allowed but not at the start\n",
    "    3. Lower cases for variables and Upper for constants"
   ]
  },
  {
   "cell_type": "code",
   "execution_count": 12,
   "metadata": {
    "scrolled": true
   },
   "outputs": [
    {
     "name": "stdout",
     "output_type": "stream",
     "text": [
      "The Zen of Python, by Tim Peters\n",
      "\n",
      "Beautiful is better than ugly.\n",
      "Explicit is better than implicit.\n",
      "Simple is better than complex.\n",
      "Complex is better than complicated.\n",
      "Flat is better than nested.\n",
      "Sparse is better than dense.\n",
      "Readability counts.\n",
      "Special cases aren't special enough to break the rules.\n",
      "Although practicality beats purity.\n",
      "Errors should never pass silently.\n",
      "Unless explicitly silenced.\n",
      "In the face of ambiguity, refuse the temptation to guess.\n",
      "There should be one-- and preferably only one --obvious way to do it.\n",
      "Although that way may not be obvious at first unless you're Dutch.\n",
      "Now is better than never.\n",
      "Although never is often better than *right* now.\n",
      "If the implementation is hard to explain, it's a bad idea.\n",
      "If the implementation is easy to explain, it may be a good idea.\n",
      "Namespaces are one honking great idea -- let's do more of those!\n"
     ]
    }
   ],
   "source": [
    "import this"
   ]
  },
  {
   "cell_type": "code",
   "execution_count": null,
   "metadata": {},
   "outputs": [],
   "source": [
    "Operators : \n",
    "    1. Arithmetic operators +,-,*,/,// - floor division,** - power.%\n",
    "    2. Comparison operators ==,!=,<,>,<=,>=  True / False\n",
    "    3. Membership operators in not in\n",
    "    4. Identity Operators is is not\n",
    "    5. Logical operators and or not\n",
    "    6. Assignment operator =, +=, -=, *=, /=\n",
    "    7. Bitwise operator &, |, >>, <<    # It works on binary representation"
   ]
  },
  {
   "cell_type": "code",
   "execution_count": 13,
   "metadata": {},
   "outputs": [
    {
     "name": "stdout",
     "output_type": "stream",
     "text": [
      "True\n",
      "True\n"
     ]
    }
   ],
   "source": [
    "num1 = 100\n",
    "num2 = 100\n",
    "print(num1 == num2)   # cheching the value\n",
    "print(num1 is num2)  # checking id of num1 and num2, both num1 and num2 have the same id i.e. referenced to same memory location"
   ]
  },
  {
   "cell_type": "code",
   "execution_count": 14,
   "metadata": {},
   "outputs": [
    {
     "name": "stdout",
     "output_type": "stream",
     "text": [
      "2358568252872 2358568253960\n",
      "True\n",
      "False\n"
     ]
    }
   ],
   "source": [
    "l1 = [10,20,30]\n",
    "l2 = [10,20,30]\n",
    "print(id(l1),id(l2))\n",
    "print(l1 == l2)    # checking the values assigned to l1 and l2\n",
    "print(l1 is l2)   # checking id of l1 and l2 , both l1 and l2 have different id i.e. referenced to different memory location"
   ]
  },
  {
   "cell_type": "code",
   "execution_count": null,
   "metadata": {},
   "outputs": [],
   "source": [
    "True/False:\n",
    "    1. Comparison operator==, !=, <, >, <=, >=\n",
    "    2. Identity operator is, is not\n",
    "    3. Membership operator in, not in"
   ]
  },
  {
   "cell_type": "code",
   "execution_count": 4,
   "metadata": {},
   "outputs": [
    {
     "name": "stdout",
     "output_type": "stream",
     "text": [
      "0b10\n",
      "0b11\n",
      "2\n",
      "0b10\n"
     ]
    }
   ],
   "source": [
    "num1 = 2\n",
    "num2 = 3\n",
    "print(bin(num1))\n",
    "print(bin(num2))\n",
    "print(2 & 3)   # It will convert 2 and 3 into binary perform the & operation and will return the result in decimal\n",
    "print(bin(2 & 3))"
   ]
  },
  {
   "cell_type": "code",
   "execution_count": 6,
   "metadata": {},
   "outputs": [
    {
     "name": "stdout",
     "output_type": "stream",
     "text": [
      "0b1001\n",
      "0b10 2\n"
     ]
    }
   ],
   "source": [
    "num3 = 9\n",
    "print(bin(num3))\n",
    "num4 = num3 >> 2   # right shift two position\n",
    "print(bin(num4), num4)"
   ]
  },
  {
   "cell_type": "code",
   "execution_count": 7,
   "metadata": {},
   "outputs": [
    {
     "name": "stdout",
     "output_type": "stream",
     "text": [
      "0b101\n",
      "0b1010 10\n"
     ]
    }
   ],
   "source": [
    "num5 = 5\n",
    "print(bin(num5))\n",
    "num6 = num5 << 1  # left shift one position\n",
    "print(bin(num6), num6)"
   ]
  },
  {
   "cell_type": "markdown",
   "metadata": {},
   "source": [
    "# Session 4: Conditional Statements"
   ]
  },
  {
   "cell_type": "code",
   "execution_count": null,
   "metadata": {},
   "outputs": [],
   "source": [
    "if [condition]:\n",
    "   statement1\n",
    "   statement2\n",
    "   statement3\n",
    "elif [condition2]:\n",
    "    statement4\n",
    "    statement5\n",
    "    statement6\n",
    "else:\n",
    "    statement7"
   ]
  },
  {
   "cell_type": "code",
   "execution_count": 8,
   "metadata": {},
   "outputs": [
    {
     "name": "stdout",
     "output_type": "stream",
     "text": [
      "odd number\n"
     ]
    }
   ],
   "source": [
    "num1 = 101\n",
    "if num1 % 2 == 0:\n",
    "    print(\"even number\")\n",
    "else:\n",
    "    print(\"odd number\")"
   ]
  },
  {
   "cell_type": "code",
   "execution_count": 12,
   "metadata": {},
   "outputs": [
    {
     "name": "stdout",
     "output_type": "stream",
     "text": [
      "Hello\n"
     ]
    }
   ],
   "source": [
    "if 'Python':  # if you don't specify any condition, it will check whether the given value is zero or not\n",
    "                       # zero values are: 0, (), [], '', {}, dict()\n",
    "    print(\"Hello\")\n",
    "else:\n",
    "    print(\"hi\")"
   ]
  },
  {
   "cell_type": "markdown",
   "metadata": {},
   "source": [
    "# Session 5: Looping statement"
   ]
  },
  {
   "cell_type": "code",
   "execution_count": null,
   "metadata": {},
   "outputs": [],
   "source": [
    "Why we need looping statements?\n",
    "- To do repetitive actions\n",
    "Loops in python:\n",
    "    for\n",
    "    while"
   ]
  },
  {
   "cell_type": "code",
   "execution_count": null,
   "metadata": {},
   "outputs": [],
   "source": [
    "for var_name in [iterable dataype]:\n",
    "    print(var_name)"
   ]
  },
  {
   "cell_type": "code",
   "execution_count": 13,
   "metadata": {},
   "outputs": [
    {
     "name": "stdout",
     "output_type": "stream",
     "text": [
      "10 Even 100\n",
      "15 Odd 3375\n",
      "20 Even 400\n",
      "25 Odd 15625\n",
      "30 Even 900\n",
      "45 Odd 91125\n"
     ]
    }
   ],
   "source": [
    "l = [10,15,20,25,30,45]\n",
    "# even => sqr\n",
    "# odd => cube\n",
    "for value in l:\n",
    "    if value % 2 == 0:        \n",
    "        print(value,\"Even\",value ** 2)\n",
    "    else:\n",
    "        print(value,\"Odd\",value ** 3)"
   ]
  },
  {
   "cell_type": "code",
   "execution_count": 1,
   "metadata": {},
   "outputs": [
    {
     "name": "stdout",
     "output_type": "stream",
     "text": [
      "Element is present 4\n"
     ]
    }
   ],
   "source": [
    "l = [10,20,30,40,50,60,70]\n",
    "key = 50\n",
    "\n",
    "for index,value in enumerate(l):    # enumerate() is a function that generates index,value pair for the iterable datatype\n",
    "    if key == value:\n",
    "        print(\"Element is present\",index)\n",
    "        break\n",
    "else:           # here else block executes only if the value we are looking for is not present in the list (or after the \n",
    "                 #   execution of break statement)\n",
    "    print(\"Element is not present\")"
   ]
  },
  {
   "cell_type": "markdown",
   "metadata": {},
   "source": [
    "# Session 6: Looping"
   ]
  },
  {
   "cell_type": "code",
   "execution_count": null,
   "metadata": {},
   "outputs": [],
   "source": [
    "# program to find second maximum\n",
    "l = [10,20,45,100,2,70,14]\n",
    "\n",
    "max1 => max \n",
    "max2=> sec max \n",
    "\n",
    "COndition 1 :\n",
    "    max1 = 45\n",
    "    max2 = 20\n",
    "    \n",
    "    Current no = 100 \n",
    "    max1 = 100\n",
    "    max2 = 45\n",
    "    \n",
    "Condition 2:\n",
    "    max1 => 100\n",
    "    max2 => 45\n",
    "    \n",
    "    Current No : 70 \n",
    "    max1 => 100\n",
    "    max2 => 70\n",
    "    \n",
    "Condition 3 : \n",
    "    max1 =100\n",
    "    max2 = 70\n",
    "    \n",
    "    currentno : 14 \n",
    "    \n",
    "        \n",
    "    \n",
    "\n",
    "current no 10 : current_ no is greater than max1 and max2:\n",
    "                    max1 = current_no \n",
    "                    max2 = max1\n",
    "                current_no is less than max1 but greater than max 2 \n",
    "                    max2 = current_no\n",
    "                current_ no less than max1 and less than max2 \n",
    "                    continue"
   ]
  },
  {
   "cell_type": "code",
   "execution_count": 2,
   "metadata": {},
   "outputs": [
    {
     "name": "stdout",
     "output_type": "stream",
     "text": [
      "100 70\n"
     ]
    }
   ],
   "source": [
    "l = [10,20,45,100,2,70,14]\n",
    "max1 = 0\n",
    "max2 = 0\n",
    "\n",
    "for value in l:\n",
    "    if value > max1 and value > max2:\n",
    "        max2 = max1\n",
    "        max1 = value\n",
    "    elif value < max1 and value > max2:\n",
    "        max2 = value\n",
    "        \n",
    "print(max1,max2)"
   ]
  },
  {
   "cell_type": "code",
   "execution_count": 3,
   "metadata": {},
   "outputs": [
    {
     "ename": "TypeError",
     "evalue": "'int' object is not iterable",
     "output_type": "error",
     "traceback": [
      "\u001b[1;31m---------------------------------------------------------------------------\u001b[0m",
      "\u001b[1;31mTypeError\u001b[0m                                 Traceback (most recent call last)",
      "\u001b[1;32m<ipython-input-3-db007f7d897d>\u001b[0m in \u001b[0;36m<module>\u001b[1;34m\u001b[0m\n\u001b[1;32m----> 1\u001b[1;33m \u001b[1;32mfor\u001b[0m \u001b[0mvalue\u001b[0m \u001b[1;32min\u001b[0m \u001b[1;36m100\u001b[0m\u001b[1;33m:\u001b[0m\u001b[1;33m\u001b[0m\u001b[1;33m\u001b[0m\u001b[0m\n\u001b[0m\u001b[0;32m      2\u001b[0m     \u001b[0mprint\u001b[0m\u001b[1;33m(\u001b[0m\u001b[0mvalue\u001b[0m\u001b[1;33m)\u001b[0m\u001b[1;33m\u001b[0m\u001b[1;33m\u001b[0m\u001b[0m\n",
      "\u001b[1;31mTypeError\u001b[0m: 'int' object is not iterable"
     ]
    }
   ],
   "source": [
    "for value in 100:\n",
    "    print(value)\n"
   ]
  },
  {
   "cell_type": "code",
   "execution_count": null,
   "metadata": {},
   "outputs": [],
   "source": [
    "while [condition]:\n",
    "    statemnts1\n",
    "    \n",
    "    \n",
    "statement2"
   ]
  },
  {
   "cell_type": "code",
   "execution_count": 4,
   "metadata": {},
   "outputs": [
    {
     "name": "stdout",
     "output_type": "stream",
     "text": [
      "210\n"
     ]
    }
   ],
   "source": [
    "sum = 0\n",
    "count = 1 \n",
    "\n",
    "while count <= 20:\n",
    "    sum = sum + count \n",
    "    count+=1\n",
    "    \n",
    "print(sum)"
   ]
  },
  {
   "cell_type": "code",
   "execution_count": 5,
   "metadata": {},
   "outputs": [
    {
     "name": "stdout",
     "output_type": "stream",
     "text": [
      "120\n"
     ]
    }
   ],
   "source": [
    "num = 5 \n",
    "# fact = 5 * 4 * 3 * 2 * 1 => 120 \n",
    "fact = 1 \n",
    "\n",
    "while num > 0:\n",
    "    fact *= num\n",
    "    num -=1\n",
    "    \n",
    "print(fact)"
   ]
  },
  {
   "cell_type": "markdown",
   "metadata": {},
   "source": [
    "# Session 7: String"
   ]
  },
  {
   "cell_type": "code",
   "execution_count": null,
   "metadata": {},
   "outputs": [],
   "source": [
    "Str : \n",
    "    - 'Python'  \"Java\"  \"\"\" Python sample string\"\"\"\n",
    "    - immutable => no methods to add update and delete the values \n",
    "    - iterable\n",
    "    - ordered => supports indexing and slicing"
   ]
  },
  {
   "cell_type": "code",
   "execution_count": 1,
   "metadata": {},
   "outputs": [
    {
     "name": "stdout",
     "output_type": "stream",
     "text": [
      " \"Python\" is easy to learn\n"
     ]
    }
   ],
   "source": [
    "s1 = \"\"\" \"Python\" is easy to learn\"\"\"\n",
    "print(s1)"
   ]
  },
  {
   "cell_type": "code",
   "execution_count": 2,
   "metadata": {},
   "outputs": [
    {
     "name": "stdout",
     "output_type": "stream",
     "text": [
      "a\n",
      "a\n"
     ]
    },
    {
     "ename": "IndexError",
     "evalue": "string index out of range",
     "output_type": "error",
     "traceback": [
      "\u001b[1;31m---------------------------------------------------------------------------\u001b[0m",
      "\u001b[1;31mIndexError\u001b[0m                                Traceback (most recent call last)",
      "\u001b[1;32m<ipython-input-2-b367d66e7567>\u001b[0m in \u001b[0;36m<module>\u001b[1;34m\u001b[0m\n\u001b[0;32m      2\u001b[0m \u001b[0mprint\u001b[0m\u001b[1;33m(\u001b[0m\u001b[0ms\u001b[0m\u001b[1;33m[\u001b[0m\u001b[1;36m8\u001b[0m\u001b[1;33m]\u001b[0m\u001b[1;33m)\u001b[0m\u001b[1;33m\u001b[0m\u001b[1;33m\u001b[0m\u001b[0m\n\u001b[0;32m      3\u001b[0m \u001b[0mprint\u001b[0m\u001b[1;33m(\u001b[0m\u001b[0ms\u001b[0m\u001b[1;33m[\u001b[0m\u001b[1;33m-\u001b[0m\u001b[1;36m12\u001b[0m\u001b[1;33m]\u001b[0m\u001b[1;33m)\u001b[0m\u001b[1;33m\u001b[0m\u001b[1;33m\u001b[0m\u001b[0m\n\u001b[1;32m----> 4\u001b[1;33m \u001b[0mprint\u001b[0m\u001b[1;33m(\u001b[0m\u001b[0ms\u001b[0m\u001b[1;33m[\u001b[0m\u001b[1;36m100\u001b[0m\u001b[1;33m]\u001b[0m\u001b[1;33m)\u001b[0m\u001b[1;33m\u001b[0m\u001b[1;33m\u001b[0m\u001b[0m\n\u001b[0m",
      "\u001b[1;31mIndexError\u001b[0m: string index out of range"
     ]
    }
   ],
   "source": [
    "# Python indexing\n",
    "s = \"Python sample string\"\n",
    "print(s[8])\n",
    "print(s[-12])\n",
    "print(s[100])   # here the index is not valid as there are not 100 characters in this string"
   ]
  },
  {
   "cell_type": "code",
   "execution_count": 3,
   "metadata": {},
   "outputs": [
    {
     "name": "stdout",
     "output_type": "stream",
     "text": [
      "Python\n",
      "sample\n",
      "sample string\n",
      "Python\n"
     ]
    }
   ],
   "source": [
    "# Python slicing\n",
    "s = \"Python sample string\"\n",
    "print(s[0:6])\n",
    "print(s[7:-7])\n",
    "print(s[7:])\n",
    "print(s[:6])"
   ]
  },
  {
   "cell_type": "code",
   "execution_count": null,
   "metadata": {},
   "outputs": [],
   "source": [
    "1. start(inclu):end(not inclu)\n",
    "2. start: => fetch till end of the string \n",
    "3. :end   => fetch from start of the string to the specified end - 1"
   ]
  },
  {
   "cell_type": "code",
   "execution_count": null,
   "metadata": {},
   "outputs": [],
   "source": [
    "Stride : Alternate characters\n",
    "         Decides the direction of str traversal\n",
    "            +ve => Left to right => index should be left to right\n",
    "            -ve => Right to left => index should be right to left"
   ]
  },
  {
   "cell_type": "code",
   "execution_count": 4,
   "metadata": {},
   "outputs": [
    {
     "name": "stdout",
     "output_type": "stream",
     "text": [
      "gnirts elpmas nohtyP\n"
     ]
    }
   ],
   "source": [
    "s = \"Python sample string\"\n",
    "print(s[::-1])    # it will reverse the string"
   ]
  },
  {
   "cell_type": "code",
   "execution_count": 5,
   "metadata": {},
   "outputs": [
    {
     "name": "stdout",
     "output_type": "stream",
     "text": [
      "P\n",
      "y\n",
      "t\n",
      "h\n",
      "o\n",
      "n\n",
      " \n",
      "s\n",
      "a\n",
      "m\n",
      "p\n",
      "l\n",
      "e\n"
     ]
    }
   ],
   "source": [
    "# Python String is iterable \n",
    "s = \"Python sample string\"\n",
    "for value in s[:13]:\n",
    "    print(value)"
   ]
  },
  {
   "cell_type": "code",
   "execution_count": 6,
   "metadata": {},
   "outputs": [
    {
     "name": "stdout",
     "output_type": "stream",
     "text": [
      "[50, 40, 'Python']\n"
     ]
    }
   ],
   "source": [
    "# striding in Python\n",
    "l = [10,20,30,\"Python\",40,50]\n",
    "print(l[-1:-4:-1])\n"
   ]
  },
  {
   "cell_type": "code",
   "execution_count": 7,
   "metadata": {},
   "outputs": [
    {
     "name": "stdout",
     "output_type": "stream",
     "text": [
      "Help on class str in module builtins:\n",
      "\n",
      "class str(object)\n",
      " |  str(object='') -> str\n",
      " |  str(bytes_or_buffer[, encoding[, errors]]) -> str\n",
      " |  \n",
      " |  Create a new string object from the given object. If encoding or\n",
      " |  errors is specified, then the object must expose a data buffer\n",
      " |  that will be decoded using the given encoding and error handler.\n",
      " |  Otherwise, returns the result of object.__str__() (if defined)\n",
      " |  or repr(object).\n",
      " |  encoding defaults to sys.getdefaultencoding().\n",
      " |  errors defaults to 'strict'.\n",
      " |  \n",
      " |  Methods defined here:\n",
      " |  \n",
      " |  __add__(self, value, /)\n",
      " |      Return self+value.\n",
      " |  \n",
      " |  __contains__(self, key, /)\n",
      " |      Return key in self.\n",
      " |  \n",
      " |  __eq__(self, value, /)\n",
      " |      Return self==value.\n",
      " |  \n",
      " |  __format__(self, format_spec, /)\n",
      " |      Return a formatted version of the string as described by format_spec.\n",
      " |  \n",
      " |  __ge__(self, value, /)\n",
      " |      Return self>=value.\n",
      " |  \n",
      " |  __getattribute__(self, name, /)\n",
      " |      Return getattr(self, name).\n",
      " |  \n",
      " |  __getitem__(self, key, /)\n",
      " |      Return self[key].\n",
      " |  \n",
      " |  __getnewargs__(...)\n",
      " |  \n",
      " |  __gt__(self, value, /)\n",
      " |      Return self>value.\n",
      " |  \n",
      " |  __hash__(self, /)\n",
      " |      Return hash(self).\n",
      " |  \n",
      " |  __iter__(self, /)\n",
      " |      Implement iter(self).\n",
      " |  \n",
      " |  __le__(self, value, /)\n",
      " |      Return self<=value.\n",
      " |  \n",
      " |  __len__(self, /)\n",
      " |      Return len(self).\n",
      " |  \n",
      " |  __lt__(self, value, /)\n",
      " |      Return self<value.\n",
      " |  \n",
      " |  __mod__(self, value, /)\n",
      " |      Return self%value.\n",
      " |  \n",
      " |  __mul__(self, value, /)\n",
      " |      Return self*value.\n",
      " |  \n",
      " |  __ne__(self, value, /)\n",
      " |      Return self!=value.\n",
      " |  \n",
      " |  __repr__(self, /)\n",
      " |      Return repr(self).\n",
      " |  \n",
      " |  __rmod__(self, value, /)\n",
      " |      Return value%self.\n",
      " |  \n",
      " |  __rmul__(self, value, /)\n",
      " |      Return value*self.\n",
      " |  \n",
      " |  __sizeof__(self, /)\n",
      " |      Return the size of the string in memory, in bytes.\n",
      " |  \n",
      " |  __str__(self, /)\n",
      " |      Return str(self).\n",
      " |  \n",
      " |  capitalize(self, /)\n",
      " |      Return a capitalized version of the string.\n",
      " |      \n",
      " |      More specifically, make the first character have upper case and the rest lower\n",
      " |      case.\n",
      " |  \n",
      " |  casefold(self, /)\n",
      " |      Return a version of the string suitable for caseless comparisons.\n",
      " |  \n",
      " |  center(self, width, fillchar=' ', /)\n",
      " |      Return a centered string of length width.\n",
      " |      \n",
      " |      Padding is done using the specified fill character (default is a space).\n",
      " |  \n",
      " |  count(...)\n",
      " |      S.count(sub[, start[, end]]) -> int\n",
      " |      \n",
      " |      Return the number of non-overlapping occurrences of substring sub in\n",
      " |      string S[start:end].  Optional arguments start and end are\n",
      " |      interpreted as in slice notation.\n",
      " |  \n",
      " |  encode(self, /, encoding='utf-8', errors='strict')\n",
      " |      Encode the string using the codec registered for encoding.\n",
      " |      \n",
      " |      encoding\n",
      " |        The encoding in which to encode the string.\n",
      " |      errors\n",
      " |        The error handling scheme to use for encoding errors.\n",
      " |        The default is 'strict' meaning that encoding errors raise a\n",
      " |        UnicodeEncodeError.  Other possible values are 'ignore', 'replace' and\n",
      " |        'xmlcharrefreplace' as well as any other name registered with\n",
      " |        codecs.register_error that can handle UnicodeEncodeErrors.\n",
      " |  \n",
      " |  endswith(...)\n",
      " |      S.endswith(suffix[, start[, end]]) -> bool\n",
      " |      \n",
      " |      Return True if S ends with the specified suffix, False otherwise.\n",
      " |      With optional start, test S beginning at that position.\n",
      " |      With optional end, stop comparing S at that position.\n",
      " |      suffix can also be a tuple of strings to try.\n",
      " |  \n",
      " |  expandtabs(self, /, tabsize=8)\n",
      " |      Return a copy where all tab characters are expanded using spaces.\n",
      " |      \n",
      " |      If tabsize is not given, a tab size of 8 characters is assumed.\n",
      " |  \n",
      " |  find(...)\n",
      " |      S.find(sub[, start[, end]]) -> int\n",
      " |      \n",
      " |      Return the lowest index in S where substring sub is found,\n",
      " |      such that sub is contained within S[start:end].  Optional\n",
      " |      arguments start and end are interpreted as in slice notation.\n",
      " |      \n",
      " |      Return -1 on failure.\n",
      " |  \n",
      " |  format(...)\n",
      " |      S.format(*args, **kwargs) -> str\n",
      " |      \n",
      " |      Return a formatted version of S, using substitutions from args and kwargs.\n",
      " |      The substitutions are identified by braces ('{' and '}').\n",
      " |  \n",
      " |  format_map(...)\n",
      " |      S.format_map(mapping) -> str\n",
      " |      \n",
      " |      Return a formatted version of S, using substitutions from mapping.\n",
      " |      The substitutions are identified by braces ('{' and '}').\n",
      " |  \n",
      " |  index(...)\n",
      " |      S.index(sub[, start[, end]]) -> int\n",
      " |      \n",
      " |      Return the lowest index in S where substring sub is found, \n",
      " |      such that sub is contained within S[start:end].  Optional\n",
      " |      arguments start and end are interpreted as in slice notation.\n",
      " |      \n",
      " |      Raises ValueError when the substring is not found.\n",
      " |  \n",
      " |  isalnum(self, /)\n",
      " |      Return True if the string is an alpha-numeric string, False otherwise.\n",
      " |      \n",
      " |      A string is alpha-numeric if all characters in the string are alpha-numeric and\n",
      " |      there is at least one character in the string.\n",
      " |  \n",
      " |  isalpha(self, /)\n",
      " |      Return True if the string is an alphabetic string, False otherwise.\n",
      " |      \n",
      " |      A string is alphabetic if all characters in the string are alphabetic and there\n",
      " |      is at least one character in the string.\n",
      " |  \n",
      " |  isascii(self, /)\n",
      " |      Return True if all characters in the string are ASCII, False otherwise.\n",
      " |      \n",
      " |      ASCII characters have code points in the range U+0000-U+007F.\n",
      " |      Empty string is ASCII too.\n",
      " |  \n",
      " |  isdecimal(self, /)\n",
      " |      Return True if the string is a decimal string, False otherwise.\n",
      " |      \n",
      " |      A string is a decimal string if all characters in the string are decimal and\n",
      " |      there is at least one character in the string.\n",
      " |  \n",
      " |  isdigit(self, /)\n",
      " |      Return True if the string is a digit string, False otherwise.\n",
      " |      \n",
      " |      A string is a digit string if all characters in the string are digits and there\n",
      " |      is at least one character in the string.\n",
      " |  \n",
      " |  isidentifier(self, /)\n",
      " |      Return True if the string is a valid Python identifier, False otherwise.\n",
      " |      \n",
      " |      Use keyword.iskeyword() to test for reserved identifiers such as \"def\" and\n",
      " |      \"class\".\n",
      " |  \n",
      " |  islower(self, /)\n",
      " |      Return True if the string is a lowercase string, False otherwise.\n",
      " |      \n",
      " |      A string is lowercase if all cased characters in the string are lowercase and\n",
      " |      there is at least one cased character in the string.\n",
      " |  \n",
      " |  isnumeric(self, /)\n",
      " |      Return True if the string is a numeric string, False otherwise.\n",
      " |      \n",
      " |      A string is numeric if all characters in the string are numeric and there is at\n",
      " |      least one character in the string.\n",
      " |  \n",
      " |  isprintable(self, /)\n",
      " |      Return True if the string is printable, False otherwise.\n",
      " |      \n",
      " |      A string is printable if all of its characters are considered printable in\n",
      " |      repr() or if it is empty.\n",
      " |  \n",
      " |  isspace(self, /)\n",
      " |      Return True if the string is a whitespace string, False otherwise.\n",
      " |      \n",
      " |      A string is whitespace if all characters in the string are whitespace and there\n",
      " |      is at least one character in the string.\n",
      " |  \n",
      " |  istitle(self, /)\n",
      " |      Return True if the string is a title-cased string, False otherwise.\n",
      " |      \n",
      " |      In a title-cased string, upper- and title-case characters may only\n",
      " |      follow uncased characters and lowercase characters only cased ones.\n",
      " |  \n",
      " |  isupper(self, /)\n",
      " |      Return True if the string is an uppercase string, False otherwise.\n",
      " |      \n",
      " |      A string is uppercase if all cased characters in the string are uppercase and\n",
      " |      there is at least one cased character in the string.\n",
      " |  \n",
      " |  join(self, iterable, /)\n",
      " |      Concatenate any number of strings.\n",
      " |      \n",
      " |      The string whose method is called is inserted in between each given string.\n",
      " |      The result is returned as a new string.\n",
      " |      \n",
      " |      Example: '.'.join(['ab', 'pq', 'rs']) -> 'ab.pq.rs'\n",
      " |  \n",
      " |  ljust(self, width, fillchar=' ', /)\n",
      " |      Return a left-justified string of length width.\n",
      " |      \n",
      " |      Padding is done using the specified fill character (default is a space).\n",
      " |  \n",
      " |  lower(self, /)\n",
      " |      Return a copy of the string converted to lowercase.\n",
      " |  \n",
      " |  lstrip(self, chars=None, /)\n",
      " |      Return a copy of the string with leading whitespace removed.\n",
      " |      \n",
      " |      If chars is given and not None, remove characters in chars instead.\n",
      " |  \n",
      " |  partition(self, sep, /)\n",
      " |      Partition the string into three parts using the given separator.\n",
      " |      \n",
      " |      This will search for the separator in the string.  If the separator is found,\n",
      " |      returns a 3-tuple containing the part before the separator, the separator\n",
      " |      itself, and the part after it.\n",
      " |      \n",
      " |      If the separator is not found, returns a 3-tuple containing the original string\n",
      " |      and two empty strings.\n",
      " |  \n",
      " |  replace(self, old, new, count=-1, /)\n",
      " |      Return a copy with all occurrences of substring old replaced by new.\n",
      " |      \n",
      " |        count\n",
      " |          Maximum number of occurrences to replace.\n",
      " |          -1 (the default value) means replace all occurrences.\n",
      " |      \n",
      " |      If the optional argument count is given, only the first count occurrences are\n",
      " |      replaced.\n",
      " |  \n",
      " |  rfind(...)\n",
      " |      S.rfind(sub[, start[, end]]) -> int\n",
      " |      \n",
      " |      Return the highest index in S where substring sub is found,\n",
      " |      such that sub is contained within S[start:end].  Optional\n",
      " |      arguments start and end are interpreted as in slice notation.\n",
      " |      \n",
      " |      Return -1 on failure.\n",
      " |  \n",
      " |  rindex(...)\n",
      " |      S.rindex(sub[, start[, end]]) -> int\n",
      " |      \n",
      " |      Return the highest index in S where substring sub is found,\n",
      " |      such that sub is contained within S[start:end].  Optional\n",
      " |      arguments start and end are interpreted as in slice notation.\n",
      " |      \n",
      " |      Raises ValueError when the substring is not found.\n",
      " |  \n",
      " |  rjust(self, width, fillchar=' ', /)\n",
      " |      Return a right-justified string of length width.\n",
      " |      \n",
      " |      Padding is done using the specified fill character (default is a space).\n",
      " |  \n",
      " |  rpartition(self, sep, /)\n",
      " |      Partition the string into three parts using the given separator.\n",
      " |      \n",
      " |      This will search for the separator in the string, starting at the end. If\n",
      " |      the separator is found, returns a 3-tuple containing the part before the\n",
      " |      separator, the separator itself, and the part after it.\n",
      " |      \n",
      " |      If the separator is not found, returns a 3-tuple containing two empty strings\n",
      " |      and the original string.\n",
      " |  \n",
      " |  rsplit(self, /, sep=None, maxsplit=-1)\n",
      " |      Return a list of the words in the string, using sep as the delimiter string.\n",
      " |      \n",
      " |        sep\n",
      " |          The delimiter according which to split the string.\n",
      " |          None (the default value) means split according to any whitespace,\n",
      " |          and discard empty strings from the result.\n",
      " |        maxsplit\n",
      " |          Maximum number of splits to do.\n",
      " |          -1 (the default value) means no limit.\n",
      " |      \n",
      " |      Splits are done starting at the end of the string and working to the front.\n",
      " |  \n",
      " |  rstrip(self, chars=None, /)\n",
      " |      Return a copy of the string with trailing whitespace removed.\n",
      " |      \n",
      " |      If chars is given and not None, remove characters in chars instead.\n",
      " |  \n",
      " |  split(self, /, sep=None, maxsplit=-1)\n",
      " |      Return a list of the words in the string, using sep as the delimiter string.\n",
      " |      \n",
      " |      sep\n",
      " |        The delimiter according which to split the string.\n",
      " |        None (the default value) means split according to any whitespace,\n",
      " |        and discard empty strings from the result.\n",
      " |      maxsplit\n",
      " |        Maximum number of splits to do.\n",
      " |        -1 (the default value) means no limit.\n",
      " |  \n",
      " |  splitlines(self, /, keepends=False)\n",
      " |      Return a list of the lines in the string, breaking at line boundaries.\n",
      " |      \n",
      " |      Line breaks are not included in the resulting list unless keepends is given and\n",
      " |      true.\n",
      " |  \n",
      " |  startswith(...)\n",
      " |      S.startswith(prefix[, start[, end]]) -> bool\n",
      " |      \n",
      " |      Return True if S starts with the specified prefix, False otherwise.\n",
      " |      With optional start, test S beginning at that position.\n",
      " |      With optional end, stop comparing S at that position.\n",
      " |      prefix can also be a tuple of strings to try.\n",
      " |  \n",
      " |  strip(self, chars=None, /)\n",
      " |      Return a copy of the string with leading and trailing whitespace remove.\n",
      " |      \n",
      " |      If chars is given and not None, remove characters in chars instead.\n",
      " |  \n",
      " |  swapcase(self, /)\n",
      " |      Convert uppercase characters to lowercase and lowercase characters to uppercase.\n",
      " |  \n",
      " |  title(self, /)\n",
      " |      Return a version of the string where each word is titlecased.\n",
      " |      \n",
      " |      More specifically, words start with uppercased characters and all remaining\n",
      " |      cased characters have lower case.\n",
      " |  \n",
      " |  translate(self, table, /)\n",
      " |      Replace each character in the string using the given translation table.\n",
      " |      \n",
      " |        table\n",
      " |          Translation table, which must be a mapping of Unicode ordinals to\n",
      " |          Unicode ordinals, strings, or None.\n",
      " |      \n",
      " |      The table must implement lookup/indexing via __getitem__, for instance a\n",
      " |      dictionary or list.  If this operation raises LookupError, the character is\n",
      " |      left untouched.  Characters mapped to None are deleted.\n",
      " |  \n",
      " |  upper(self, /)\n",
      " |      Return a copy of the string converted to uppercase.\n",
      " |  \n",
      " |  zfill(self, width, /)\n",
      " |      Pad a numeric string with zeros on the left, to fill a field of the given width.\n",
      " |      \n",
      " |      The string is never truncated.\n",
      " |  \n",
      " |  ----------------------------------------------------------------------\n",
      " |  Static methods defined here:\n",
      " |  \n",
      " |  __new__(*args, **kwargs) from builtins.type\n",
      " |      Create and return a new object.  See help(type) for accurate signature.\n",
      " |  \n",
      " |  maketrans(x, y=None, z=None, /)\n",
      " |      Return a translation table usable for str.translate().\n",
      " |      \n",
      " |      If there is only one argument, it must be a dictionary mapping Unicode\n",
      " |      ordinals (integers) or characters to Unicode ordinals, strings or None.\n",
      " |      Character keys will be then converted to ordinals.\n",
      " |      If there are two arguments, they must be strings of equal length, and\n",
      " |      in the resulting dictionary, each character in x will be mapped to the\n",
      " |      character at the same position in y. If there is a third argument, it\n",
      " |      must be a string, whose characters will be mapped to None in the result.\n",
      "\n"
     ]
    }
   ],
   "source": [
    "# help(): To get help for any data type\n",
    "help(str)"
   ]
  },
  {
   "cell_type": "code",
   "execution_count": 8,
   "metadata": {},
   "outputs": [
    {
     "name": "stdout",
     "output_type": "stream",
     "text": [
      "['__add__', '__class__', '__contains__', '__delattr__', '__dir__', '__doc__', '__eq__', '__format__', '__ge__', '__getattribute__', '__getitem__', '__getnewargs__', '__gt__', '__hash__', '__init__', '__init_subclass__', '__iter__', '__le__', '__len__', '__lt__', '__mod__', '__mul__', '__ne__', '__new__', '__reduce__', '__reduce_ex__', '__repr__', '__rmod__', '__rmul__', '__setattr__', '__sizeof__', '__str__', '__subclasshook__', 'capitalize', 'casefold', 'center', 'count', 'encode', 'endswith', 'expandtabs', 'find', 'format', 'format_map', 'index', 'isalnum', 'isalpha', 'isascii', 'isdecimal', 'isdigit', 'isidentifier', 'islower', 'isnumeric', 'isprintable', 'isspace', 'istitle', 'isupper', 'join', 'ljust', 'lower', 'lstrip', 'maketrans', 'partition', 'replace', 'rfind', 'rindex', 'rjust', 'rpartition', 'rsplit', 'rstrip', 'split', 'splitlines', 'startswith', 'strip', 'swapcase', 'title', 'translate', 'upper', 'zfill']\n"
     ]
    }
   ],
   "source": [
    "# get all the built in functions for given data type\n",
    "print(dir(str))"
   ]
  },
  {
   "cell_type": "code",
   "execution_count": 9,
   "metadata": {},
   "outputs": [
    {
     "name": "stdout",
     "output_type": "stream",
     "text": [
      "The of num1 is 100 and value of num2 is 200\n"
     ]
    }
   ],
   "source": [
    "# .format()\n",
    "num1 = 100\n",
    "num2 = 200\n",
    "s = \"The of num1 is {} and value of num2 is {}\".format(num1,num2)\n",
    "print(s)"
   ]
  },
  {
   "cell_type": "code",
   "execution_count": 10,
   "metadata": {},
   "outputs": [
    {
     "name": "stdout",
     "output_type": "stream",
     "text": [
      "you have received email from abc@gmail.com and username is abc\n"
     ]
    }
   ],
   "source": [
    "subject = \"you have received email from {email} and username is {username}\"\n",
    "e = \"abc@gmail.com\"\n",
    "u = \"abc\"\n",
    "print(subject.format(username = u,email = e))"
   ]
  },
  {
   "cell_type": "code",
   "execution_count": 12,
   "metadata": {},
   "outputs": [
    {
     "name": "stdout",
     "output_type": "stream",
     "text": [
      "['Python', 'Java', 'C', 'C++']\n",
      "Python;Java;C;C++\n"
     ]
    }
   ],
   "source": [
    "# split() and join() methods\n",
    "s = \"Python,Java,C,C++\"\n",
    "l = s.split(\",\")\n",
    "print(l)\n",
    "s2 = (\";\").join(l)\n",
    "print(s2)"
   ]
  },
  {
   "cell_type": "code",
   "execution_count": 13,
   "metadata": {},
   "outputs": [
    {
     "name": "stdout",
     "output_type": "stream",
     "text": [
      "['C++', 'C', 'Java', 'Python']\n",
      "C++,C,Java,Python\n"
     ]
    }
   ],
   "source": [
    "s = \"Python,Java,C,C++\"\n",
    "# expected output => \"C++,C,Java,Python\"\n",
    "l = s.split(\",\")\n",
    "print(l[::-1])\n",
    "s2 = (\",\").join(l[::-1])\n",
    "print(s2)"
   ]
  },
  {
   "cell_type": "code",
   "execution_count": null,
   "metadata": {},
   "outputs": [],
   "source": [
    "# other functions\n",
    "count --> To count total occurence of particular character \n",
    "find --> finds the given char or substring in the given string\n",
    "index --> gets you the first occurence of given char or string\n",
    "replace --> it replaces the given str or char with another given str or char"
   ]
  },
  {
   "cell_type": "code",
   "execution_count": 14,
   "metadata": {},
   "outputs": [
    {
     "name": "stdout",
     "output_type": "stream",
     "text": [
      "4\n",
      "1996199863920\n",
      "Python3.8,Java,Java,C,Python3.8\n",
      "1996199865600\n"
     ]
    }
   ],
   "source": [
    "s = \"Python,Java,Java,C,Python\"\n",
    "print(s.count(\"a\"))\n",
    "print(id(s))\n",
    "# print(s.index('Ruby'))\n",
    "# print(s.find('Ruby'))\n",
    "s = s.replace(\"Python\",\"Python3.8\")\n",
    "print(s)\n",
    "print(id(s))"
   ]
  },
  {
   "cell_type": "code",
   "execution_count": null,
   "metadata": {},
   "outputs": [],
   "source": [
    "# functions for changing the case\n",
    "upper     isupper => checks if the given string is in upper case or not\n",
    "lower     islower => checks if the given string is in lower case or not\n",
    "title     istitle => checks if the given string is title or not i.e. the first character of every word should be capital\n",
    "capitalize"
   ]
  },
  {
   "cell_type": "code",
   "execution_count": 15,
   "metadata": {},
   "outputs": [
    {
     "name": "stdout",
     "output_type": "stream",
     "text": [
      "pythOn Is EAsy tO lEArn\n"
     ]
    }
   ],
   "source": [
    "s = \"python is easy to learn\"\n",
    "s1 = \"\"\n",
    "# s1 = > \"pythOn Is EAsy tO lEArn\"\n",
    "for value in s:\n",
    "    if value in ['a','e','i','o','u']:\n",
    "        s1 = s1+value.upper()\n",
    "    else:\n",
    "        s1 = s1+ value\n",
    "        \n",
    "print(s1)"
   ]
  },
  {
   "cell_type": "code",
   "execution_count": 16,
   "metadata": {},
   "outputs": [
    {
     "name": "stdout",
     "output_type": "stream",
     "text": [
      "pythOn Is EAsy tO lEArn\n"
     ]
    }
   ],
   "source": [
    "s = \"python is easy to learn\"\n",
    "\n",
    "# s1 = > \"pythOn Is EAsy tO lEArn\"\n",
    "for value in s:\n",
    "    if value in ['a','e','i','o','u']:\n",
    "        s = s.replace(value,value.upper())\n",
    "\n",
    "        \n",
    "print(s)"
   ]
  },
  {
   "cell_type": "code",
   "execution_count": null,
   "metadata": {},
   "outputs": [],
   "source": [
    "isalpha \n",
    "isdigit \n",
    "isspace\n",
    "isalnum\n",
    "# These functions check whether given string consists only alphabets, only digits, only spaces or mixture of alphabets and \n",
    "#    numbers respectively"
   ]
  },
  {
   "cell_type": "code",
   "execution_count": 17,
   "metadata": {},
   "outputs": [
    {
     "name": "stdout",
     "output_type": "stream",
     "text": [
      "Python sample string\n"
     ]
    }
   ],
   "source": [
    "# To remove specific symbols or spaces before and after the string\n",
    "s = \"         Python sample string         \"\n",
    "s1 = s.strip(\" \")\n",
    "print(s1)"
   ]
  },
  {
   "cell_type": "code",
   "execution_count": null,
   "metadata": {},
   "outputs": [],
   "source": [
    "mostly used functions:\n",
    "split \n",
    "join\n",
    "format\n",
    "\n",
    "lower   islower\n",
    "\n",
    "replace \n",
    "count \n",
    "\n",
    "strip\n",
    "\n",
    "isdigit\n",
    "isspace"
   ]
  },
  {
   "cell_type": "markdown",
   "metadata": {},
   "source": [
    "# Session 8: Lists"
   ]
  },
  {
   "cell_type": "code",
   "execution_count": 1,
   "metadata": {},
   "outputs": [
    {
     "name": "stdout",
     "output_type": "stream",
     "text": [
      "c is present max no times and the count is 13\n"
     ]
    }
   ],
   "source": [
    "s = \"aaabbcccccccccddaaaddcaaccc\"\n",
    "max_char = ''\n",
    "max_count = 0\n",
    "\n",
    "for value in s:\n",
    "    curr_char_count = s.count(value)\n",
    "#     print(value,curr_char_count)\n",
    "    if max_count < curr_char_count:\n",
    "        max_char = value\n",
    "        max_count = curr_char_count\n",
    "print(\"{} is present max no times and the count is {}\".format(max_char,max_count))"
   ]
  },
  {
   "cell_type": "code",
   "execution_count": null,
   "metadata": {},
   "outputs": [],
   "source": [
    "List :\n",
    "    - mutable => add/update/delete \n",
    "    - ordered => indexing and slicing \n",
    "    - heretogenious [10,20,30,\"Python\",[100,200,300],{1:1,2:4,3:9}]"
   ]
  },
  {
   "cell_type": "code",
   "execution_count": 2,
   "metadata": {},
   "outputs": [
    {
     "name": "stdout",
     "output_type": "stream",
     "text": [
      "[4000, 3000, 2000, 1000]\n"
     ]
    }
   ],
   "source": [
    "l = [\"Python\",\"Java\",[100,200,300,400,500,[1000,2000,3000,4000]],\"C\",\"C++\"]\n",
    "print(l[2][-1][::-1])"
   ]
  },
  {
   "cell_type": "code",
   "execution_count": null,
   "metadata": {},
   "outputs": [],
   "source": [
    "Add:\n",
    "    - append --> adds a element at the end of the list\n",
    "    - extend --> extends the list adding all the element of second list to the end of the first list\n",
    "    - insert --> adds a list at specific index, takes two argument, first-index, second-value"
   ]
  },
  {
   "cell_type": "code",
   "execution_count": 4,
   "metadata": {},
   "outputs": [
    {
     "name": "stdout",
     "output_type": "stream",
     "text": [
      "[10, 20, 30, 40, 100]\n"
     ]
    }
   ],
   "source": [
    "l1 = [10,20,30,40]\n",
    "l1.extend((100,))\n",
    "print(l1)\n"
   ]
  },
  {
   "cell_type": "code",
   "execution_count": null,
   "metadata": {},
   "outputs": [],
   "source": [
    "ord() --> returns the ascii representation of given character\n",
    "chr() --> opposite of ord"
   ]
  },
  {
   "cell_type": "code",
   "execution_count": 5,
   "metadata": {},
   "outputs": [
    {
     "name": "stdout",
     "output_type": "stream",
     "text": [
      "97 122\n",
      "a z\n"
     ]
    }
   ],
   "source": [
    "print(ord('a'),ord('z'))\n",
    "print(chr(97),chr(122))"
   ]
  },
  {
   "cell_type": "code",
   "execution_count": 7,
   "metadata": {},
   "outputs": [
    {
     "name": "stdout",
     "output_type": "stream",
     "text": [
      "['a', 'b', 'c', 'd', 'e', 'f', 'g', 'h', 'i', 'j', 'k', 'l', 'm', 'n', 'o', 'p', 'q', 'r', 's', 't', 'u', 'v', 'w', 'x', 'y', 'z']\n"
     ]
    }
   ],
   "source": [
    "# range('a','z') does not produce ['a','b','c',.......,'x','y','z']\n",
    "# we can do it in following way\n",
    "chars = []\n",
    "for value in range(ord('a'),ord('z')+1):\n",
    "    chars.append(chr(value))\n",
    "print(chars)"
   ]
  },
  {
   "cell_type": "code",
   "execution_count": 8,
   "metadata": {},
   "outputs": [
    {
     "name": "stdout",
     "output_type": "stream",
     "text": [
      "['__add__', '__class__', '__contains__', '__delattr__', '__delitem__', '__dir__', '__doc__', '__eq__', '__format__', '__ge__', '__getattribute__', '__getitem__', '__gt__', '__hash__', '__iadd__', '__imul__', '__init__', '__init_subclass__', '__iter__', '__le__', '__len__', '__lt__', '__mul__', '__ne__', '__new__', '__reduce__', '__reduce_ex__', '__repr__', '__reversed__', '__rmul__', '__setattr__', '__setitem__', '__sizeof__', '__str__', '__subclasshook__', 'append', 'clear', 'copy', 'count', 'extend', 'index', 'insert', 'pop', 'remove', 'reverse', 'sort']\n"
     ]
    }
   ],
   "source": [
    "print(dir(list))"
   ]
  },
  {
   "cell_type": "code",
   "execution_count": null,
   "metadata": {},
   "outputs": [],
   "source": [
    "Delete:\n",
    "    pop => if index not given pops the last element else pops the specific index element\n",
    "    remove => removes the first occurence of the given value\n",
    "    clear => deletes all the element from the list. we are left with empty list []\n",
    "    del => deletes the reference of the list"
   ]
  },
  {
   "cell_type": "markdown",
   "metadata": {},
   "source": [
    "# Session 9: Tuple and dictionary"
   ]
  },
  {
   "cell_type": "code",
   "execution_count": null,
   "metadata": {},
   "outputs": [],
   "source": [
    "Shallow copy => only copies the references, modifying any one list affects the other\n",
    "deep copy => copies the values at different location, modifying one list does not affect other"
   ]
  },
  {
   "cell_type": "code",
   "execution_count": 1,
   "metadata": {},
   "outputs": [
    {
     "name": "stdout",
     "output_type": "stream",
     "text": [
      "[10, 20, 30]\n",
      "2983854284104 2983855089224\n"
     ]
    }
   ],
   "source": [
    "l1 = [10,20,30]\n",
    "l2 = l1.copy()\n",
    "l1.append(40)\n",
    "print(l2)\n",
    "print(id(l1),id(l2))"
   ]
  },
  {
   "cell_type": "code",
   "execution_count": 2,
   "metadata": {},
   "outputs": [],
   "source": [
    "import sys"
   ]
  },
  {
   "cell_type": "code",
   "execution_count": 3,
   "metadata": {},
   "outputs": [
    {
     "name": "stdout",
     "output_type": "stream",
     "text": [
      "96\n",
      "96\n"
     ]
    }
   ],
   "source": [
    "l = [10,20,30,40]\n",
    "print(sys.getsizeof(l))\n",
    "l2 = [[100,200,300],\"Python\",\"Java\",\"Learning python is easy\"]\n",
    "print(sys.getsizeof(l2))"
   ]
  },
  {
   "cell_type": "code",
   "execution_count": null,
   "metadata": {},
   "outputs": [],
   "source": [
    "Tuple :\n",
    "    - (100,)\n",
    "    - immutable => no methods to add/update and delete \n",
    "    - ordered => supports indexing and slicing"
   ]
  },
  {
   "cell_type": "code",
   "execution_count": null,
   "metadata": {},
   "outputs": [],
   "source": [
    "Dict : \n",
    "    - {\"key1\":\"value1\",\"key2\":\"value2\"}\n",
    "    - mutable => add/update and delete \n",
    "    - unordered => not support indexing and slicing \n",
    "    - all keys should be immutable int float str tuple \n",
    "    - all the keys should be unique"
   ]
  },
  {
   "cell_type": "code",
   "execution_count": null,
   "metadata": {},
   "outputs": [],
   "source": [
    "100  => 1001 => num1\n",
    "[100] => 2001 => l\n",
    "\n",
    "Hash table  hash(key) => hash index \n",
    "\n",
    "hashindex key refvalue \n",
    "301      key1    5001\n",
    "302      key2    5002\n",
    "303      key3    5003"
   ]
  },
  {
   "cell_type": "code",
   "execution_count": 4,
   "metadata": {},
   "outputs": [
    {
     "name": "stdout",
     "output_type": "stream",
     "text": [
      "ABC\n"
     ]
    }
   ],
   "source": [
    "d = {\"name\":\"ABC\",\"email\":\"abc@gmail.com\"}\n",
    "print(d['name'])"
   ]
  },
  {
   "cell_type": "code",
   "execution_count": null,
   "metadata": {},
   "outputs": [],
   "source": [
    "Hash table\n",
    "1 key => name ; gen hash index hash(\"name\") => no => index"
   ]
  },
  {
   "cell_type": "code",
   "execution_count": 5,
   "metadata": {},
   "outputs": [
    {
     "name": "stdout",
     "output_type": "stream",
     "text": [
      "-7280304797885760068\n"
     ]
    }
   ],
   "source": [
    "print(hash(\"Hi\"))"
   ]
  },
  {
   "cell_type": "code",
   "execution_count": 6,
   "metadata": {},
   "outputs": [
    {
     "name": "stdout",
     "output_type": "stream",
     "text": [
      "-1\n",
      "50\n",
      "{'name': 'ABC', 'email': 'abc@gmail.com', 'age': 50, 'contact': 50}\n"
     ]
    }
   ],
   "source": [
    "d = {\"name\":\"ABC\",\"email\":\"abc@gmail.com\",\"age\":50}\n",
    "# print(d['contact'])\n",
    "print(d.get(\"contact\",-1))   # get method returns the value of key already present in the dict else returns -1 default value\n",
    "print(d.setdefault(\"contact\",50))   # setdefault returns the value if the key is present if not present it assigns the given value\n",
    "print(d)"
   ]
  },
  {
   "cell_type": "code",
   "execution_count": null,
   "metadata": {},
   "outputs": [],
   "source": [
    "# problem\n",
    "d ={}\n",
    "l = [15,21,25,36,11,1,2,3]\n",
    "d = {(1,10):0,(11,20):0,(21,30):0........(91,100):0}\n",
    "d = {(1,10):3,(11,20):2,(21,30):2........(91,100):0}"
   ]
  },
  {
   "cell_type": "code",
   "execution_count": null,
   "metadata": {},
   "outputs": [],
   "source": [
    "2.Generate the dict with default value 0 for every key: \n",
    "    1. 1,11,21,31,........ 91 range(1,92,10)\n",
    "              + 9 \n",
    "        10,20,30........  100\n",
    "    2. add the nums to the dict \n",
    "3. Find the correct position for one number and update the value in dict \n",
    "   num 15 : \n",
    "       1. Iterate over a dict \n",
    "       2. check num >= key[0] and num <= key[1]:\n",
    "              update the value count \n",
    "              (11,20) : 1  \n",
    "4. Repeat for all the elemnts"
   ]
  },
  {
   "cell_type": "code",
   "execution_count": 7,
   "metadata": {},
   "outputs": [
    {
     "name": "stdout",
     "output_type": "stream",
     "text": [
      "{(1, 10): 0, (11, 20): 0, (21, 30): 0, (31, 40): 0, (41, 50): 0, (51, 60): 0, (61, 70): 0, (71, 80): 0, (81, 90): 0, (91, 100): 0}\n",
      "{(1, 10): 3, (11, 20): 2, (21, 30): 2, (31, 40): 1, (41, 50): 0, (51, 60): 0, (61, 70): 0, (71, 80): 0, (81, 90): 0, (91, 100): 0}\n"
     ]
    }
   ],
   "source": [
    "d = {}\n",
    "l = [15,21,25,36,11,1,2,3]\n",
    "for key in range(1,92,10):\n",
    "    d.setdefault((key,key+9),0)\n",
    "print(d)\n",
    "\n",
    "for num in l:\n",
    "    for key in d:\n",
    "        if num >= key[0] and num <= key[1]:\n",
    "            d[key]+=1\n",
    "        \n",
    "print(d)"
   ]
  },
  {
   "cell_type": "code",
   "execution_count": 9,
   "metadata": {},
   "outputs": [
    {
     "name": "stdout",
     "output_type": "stream",
     "text": [
      "250 100\n"
     ]
    }
   ],
   "source": [
    "n1=250\n",
    "print(n1,n2)"
   ]
  },
  {
   "cell_type": "markdown",
   "metadata": {},
   "source": [
    "# Session 10: Dict 2"
   ]
  },
  {
   "cell_type": "code",
   "execution_count": null,
   "metadata": {},
   "outputs": [],
   "source": [
    "Methods to remove elements from dictionary:\n",
    "    popitem => returns the last inserted key value pair from dictionary and removes it from dict \n",
    "    pop => it removes the given key and its value from the dict\n",
    "    clear => it removes all the key value pair from dict and returns the empty dict\n",
    "    del => it removes the reference of the dictionary"
   ]
  },
  {
   "cell_type": "code",
   "execution_count": 2,
   "metadata": {},
   "outputs": [
    {
     "name": "stdout",
     "output_type": "stream",
     "text": [
      "<zip object at 0x0000025CA41F0288>\n"
     ]
    }
   ],
   "source": [
    "# zip(): a function which takes two or more lists and combine them element wise in tuple\n",
    "l1 = [1,2,3,4,5]\n",
    "l2 = [1,4,9,16,25]\n",
    "\n",
    "d = (zip(l1,l2))\n",
    "print(d)   # this will print the address that d is referencing to the zip object "
   ]
  },
  {
   "cell_type": "code",
   "execution_count": 3,
   "metadata": {},
   "outputs": [
    {
     "name": "stdout",
     "output_type": "stream",
     "text": [
      "[(1, 1), (2, 4), (3, 9), (4, 16), (5, 25)]\n"
     ]
    }
   ],
   "source": [
    "l1 = [1,2,3,4,5]\n",
    "l2 = [1,4,9,16,25]\n",
    "\n",
    "d = list(zip(l1,l2))\n",
    "print(d)"
   ]
  },
  {
   "cell_type": "code",
   "execution_count": 4,
   "metadata": {},
   "outputs": [
    {
     "name": "stdout",
     "output_type": "stream",
     "text": [
      "{1: 1, 2: 4, 3: 9, 4: 16, 5: 25}\n"
     ]
    }
   ],
   "source": [
    "l1 = [1,2,3,4,5]\n",
    "l2 = [1,4,9,16,25]\n",
    "\n",
    "d = dict(zip(l1,l2))\n",
    "print(d)"
   ]
  },
  {
   "cell_type": "code",
   "execution_count": 5,
   "metadata": {},
   "outputs": [
    {
     "name": "stdout",
     "output_type": "stream",
     "text": [
      "((1, 1), (2, 4), (3, 9), (4, 16), (5, 25))\n"
     ]
    }
   ],
   "source": [
    "l1 = [1,2,3,4,5]\n",
    "l2 = [1,4,9,16,25]\n",
    "\n",
    "d = tuple(zip(l1,l2))\n",
    "print(d)"
   ]
  },
  {
   "cell_type": "code",
   "execution_count": 7,
   "metadata": {},
   "outputs": [
    {
     "name": "stdout",
     "output_type": "stream",
     "text": [
      "{1: 1, 2: 8, 3: 16, 5: 25}\n"
     ]
    }
   ],
   "source": [
    "# update(): given two dictionary d1 and d2, d1.update(d2), combines d1 with d2 and updates the key's value already in d1 with \n",
    "# the key's value in d2, the example below:\n",
    "d1 = {1:1,2:4,3:4}\n",
    "d2 = {3:16,5:25,2:8}\n",
    "\n",
    "# d3 = {1:1,2:[4,8],3:[4,16],5:25}\n",
    "d1.update(d2)\n",
    "print(d1)"
   ]
  },
  {
   "cell_type": "markdown",
   "metadata": {},
   "source": [
    "# Session 11: Sets | Random Module"
   ]
  },
  {
   "cell_type": "code",
   "execution_count": null,
   "metadata": {},
   "outputs": [],
   "source": [
    "Sets:\n",
    "    - mutable \n",
    "    - Dict {10:None,20:None,30:None}\n",
    "    - Unordered => Indexing and slicing \n",
    "    - All the elemnts should be unique\n",
    "    - All the elements should be immutable => tuple,int,str,float"
   ]
  },
  {
   "cell_type": "code",
   "execution_count": null,
   "metadata": {},
   "outputs": [],
   "source": [
    "s1 = {10,20,30,40,50,60}\n",
    "s2 = {40,50,60,70,80,90}\n",
    "\n",
    "s1 union s2 = {10,20,30,40,50,60,70,80,90}\n",
    "s2 union s1 = {10,20,30,40,50,60,70,80,90}\n",
    "\n",
    "s1 intersection s2 = {40,50,60}\n",
    "\n",
    "s1 difference s2 = {10,20,30}\n",
    "s2 difference s1 = {70,80,90}\n",
    "\n",
    "s1 symmetric difference s2 = {10,20,30,70,80,90}   # it is the combination of s1 difference s2 and s2 difference s1\n",
    "\n",
    "\n",
    "s3 = {10,20,30}\n",
    "\n",
    "s3 is subset of s1 \n",
    "s1 is superset of s3"
   ]
  },
  {
   "cell_type": "code",
   "execution_count": 1,
   "metadata": {},
   "outputs": [
    {
     "name": "stdout",
     "output_type": "stream",
     "text": [
      "{70, 40, 10, 80, 50, 20, 90, 60, 30}\n"
     ]
    }
   ],
   "source": [
    "s1 = {10,20,30,40,50,60}\n",
    "s2 = {40,50,60,70,80,90}\n",
    "\n",
    "s3 = s1.union(s2)    # It returns the union of set s1 and s2\n",
    "print(s3)"
   ]
  },
  {
   "cell_type": "code",
   "execution_count": 4,
   "metadata": {},
   "outputs": [
    {
     "name": "stdout",
     "output_type": "stream",
     "text": [
      "{40, 50, 60}\n"
     ]
    }
   ],
   "source": [
    "s1 = {10,20,30,40,50,60}\n",
    "s2 = {40,50,60,70,80,90}\n",
    "\n",
    "s3 = s1.intersection(s2)    # it returns the intersection of set s1 and s2\n",
    "print(s3)"
   ]
  },
  {
   "cell_type": "code",
   "execution_count": 5,
   "metadata": {},
   "outputs": [
    {
     "name": "stdout",
     "output_type": "stream",
     "text": [
      "{10, 20, 30}\n"
     ]
    }
   ],
   "source": [
    "s1 = {10,20,30,40,50,60}\n",
    "s2 = {40,50,60,70,80,90}\n",
    "\n",
    "s3 = s1.difference(s2)    # it returns the all the elements present in s1 which are not in common with s2\n",
    "print(s3)"
   ]
  },
  {
   "cell_type": "code",
   "execution_count": 6,
   "metadata": {},
   "outputs": [
    {
     "name": "stdout",
     "output_type": "stream",
     "text": [
      "{70, 10, 80, 20, 90, 30}\n"
     ]
    }
   ],
   "source": [
    "s1 = {10,20,30,40,50,60}\n",
    "s2 = {40,50,60,70,80,90}\n",
    "\n",
    "s3 = s1.symmetric_difference(s2)    # it returns all the elements which are only present in s1 and only present in s2\n",
    "print(s3)"
   ]
  },
  {
   "cell_type": "code",
   "execution_count": 7,
   "metadata": {},
   "outputs": [
    {
     "name": "stdout",
     "output_type": "stream",
     "text": [
      "True\n",
      "True\n"
     ]
    }
   ],
   "source": [
    "s1 = {10,20,30,40,50,60}\n",
    "s3 = {10,20,30}\n",
    "print(s3.issubset(s1))   # it checks if the set s3 is subset of s1 or not\n",
    "print(s1.issuperset(s3))  # it checks if the set s1 is superset of s3 or not"
   ]
  },
  {
   "cell_type": "code",
   "execution_count": 8,
   "metadata": {},
   "outputs": [
    {
     "name": "stdout",
     "output_type": "stream",
     "text": [
      "{70, 40, 10, 50, 20, 60, 30}\n"
     ]
    }
   ],
   "source": [
    "s1 = {10,20,30,40,50,60}\n",
    "s1.add(70)   # Adds an element in set s1\n",
    "print(s1)"
   ]
  },
  {
   "cell_type": "code",
   "execution_count": 10,
   "metadata": {},
   "outputs": [
    {
     "name": "stdout",
     "output_type": "stream",
     "text": [
      "{70, 40, 10, 80, 50, 20, 90, 60, 30}\n"
     ]
    }
   ],
   "source": [
    "s1 = {10,20,30,40,50,60}\n",
    "s2 = {40,50,60,70,80,90}\n",
    "\n",
    "s1.update(s2)   # s1 is changed to s1 union s2\n",
    "print(s1)       # Point to be noted: here s1 is modified"
   ]
  },
  {
   "cell_type": "code",
   "execution_count": 11,
   "metadata": {},
   "outputs": [
    {
     "name": "stdout",
     "output_type": "stream",
     "text": [
      "{40, 50, 60}\n"
     ]
    }
   ],
   "source": [
    "s1 = {10,20,30,40,50,60}\n",
    "s2 = {40,50,60,70,80,90}\n",
    "\n",
    "s1.intersection_update(s2)   # s1 is changed to s1 intersection s2\n",
    "print(s1)       # Again s1 is modified"
   ]
  },
  {
   "cell_type": "code",
   "execution_count": 13,
   "metadata": {},
   "outputs": [
    {
     "name": "stdout",
     "output_type": "stream",
     "text": [
      "{10, 20, 30}\n"
     ]
    }
   ],
   "source": [
    "s1 = {10,20,30,40,50,60}\n",
    "s2 = {40,50,60,70,80,90}\n",
    "\n",
    "s1.difference_update(s2)   # s1 is changed to s1 difference s2\n",
    "print(s1)    # here again s1 is modified"
   ]
  },
  {
   "cell_type": "code",
   "execution_count": 15,
   "metadata": {},
   "outputs": [
    {
     "name": "stdout",
     "output_type": "stream",
     "text": [
      "{70, 10, 80, 20, 90, 30}\n"
     ]
    }
   ],
   "source": [
    "s1 = {10,20,30,40,50,60}\n",
    "s2 = {40,50,60,70,80,90}\n",
    "\n",
    "s1.symmetric_difference_update(s2)    # s1 is changed to s1 symmetric difference s2\n",
    "print(s1)"
   ]
  },
  {
   "cell_type": "code",
   "execution_count": null,
   "metadata": {},
   "outputs": [],
   "source": [
    "Delete operations on set:\n",
    "    - pop => pop is same as popitem() for dictionary, it removes any arbitrary value from the set\n",
    "    - remove => it removes the particular value from the set, if value is not present it throws key error\n",
    "    - discard => it removes the particular value from the set, if value is not present it will do nothing, doesn't throw any error\n",
    "    - clear => it removes all the elements from the set and leaves an empty set\n",
    "    - del => it removes the reference so the set is deleted"
   ]
  },
  {
   "cell_type": "code",
   "execution_count": 17,
   "metadata": {},
   "outputs": [],
   "source": [
    "import random"
   ]
  },
  {
   "cell_type": "code",
   "execution_count": 18,
   "metadata": {},
   "outputs": [
    {
     "name": "stdout",
     "output_type": "stream",
     "text": [
      "Help on module random:\n",
      "\n",
      "NAME\n",
      "    random - Random variable generators.\n",
      "\n",
      "DESCRIPTION\n",
      "        integers\n",
      "        --------\n",
      "               uniform within range\n",
      "    \n",
      "        sequences\n",
      "        ---------\n",
      "               pick random element\n",
      "               pick random sample\n",
      "               pick weighted random sample\n",
      "               generate random permutation\n",
      "    \n",
      "        distributions on the real line:\n",
      "        ------------------------------\n",
      "               uniform\n",
      "               triangular\n",
      "               normal (Gaussian)\n",
      "               lognormal\n",
      "               negative exponential\n",
      "               gamma\n",
      "               beta\n",
      "               pareto\n",
      "               Weibull\n",
      "    \n",
      "        distributions on the circle (angles 0 to 2pi)\n",
      "        ---------------------------------------------\n",
      "               circular uniform\n",
      "               von Mises\n",
      "    \n",
      "    General notes on the underlying Mersenne Twister core generator:\n",
      "    \n",
      "    * The period is 2**19937-1.\n",
      "    * It is one of the most extensively tested generators in existence.\n",
      "    * The random() method is implemented in C, executes in a single Python step,\n",
      "      and is, therefore, threadsafe.\n",
      "\n",
      "CLASSES\n",
      "    _random.Random(builtins.object)\n",
      "        Random\n",
      "            SystemRandom\n",
      "    \n",
      "    class Random(_random.Random)\n",
      "     |  Random(x=None)\n",
      "     |  \n",
      "     |  Random number generator base class used by bound module functions.\n",
      "     |  \n",
      "     |  Used to instantiate instances of Random to get generators that don't\n",
      "     |  share state.\n",
      "     |  \n",
      "     |  Class Random can also be subclassed if you want to use a different basic\n",
      "     |  generator of your own devising: in that case, override the following\n",
      "     |  methods:  random(), seed(), getstate(), and setstate().\n",
      "     |  Optionally, implement a getrandbits() method so that randrange()\n",
      "     |  can cover arbitrarily large ranges.\n",
      "     |  \n",
      "     |  Method resolution order:\n",
      "     |      Random\n",
      "     |      _random.Random\n",
      "     |      builtins.object\n",
      "     |  \n",
      "     |  Methods defined here:\n",
      "     |  \n",
      "     |  __getstate__(self)\n",
      "     |      # Issue 17489: Since __reduce__ was defined to fix #759889 this is no\n",
      "     |      # longer called; we leave it here because it has been here since random was\n",
      "     |      # rewritten back in 2001 and why risk breaking something.\n",
      "     |  \n",
      "     |  __init__(self, x=None)\n",
      "     |      Initialize an instance.\n",
      "     |      \n",
      "     |      Optional argument x controls seeding, as for Random.seed().\n",
      "     |  \n",
      "     |  __reduce__(self)\n",
      "     |      Helper for pickle.\n",
      "     |  \n",
      "     |  __setstate__(self, state)\n",
      "     |  \n",
      "     |  betavariate(self, alpha, beta)\n",
      "     |      Beta distribution.\n",
      "     |      \n",
      "     |      Conditions on the parameters are alpha > 0 and beta > 0.\n",
      "     |      Returned values range between 0 and 1.\n",
      "     |  \n",
      "     |  choice(self, seq)\n",
      "     |      Choose a random element from a non-empty sequence.\n",
      "     |  \n",
      "     |  choices(self, population, weights=None, *, cum_weights=None, k=1)\n",
      "     |      Return a k sized list of population elements chosen with replacement.\n",
      "     |      \n",
      "     |      If the relative weights or cumulative weights are not specified,\n",
      "     |      the selections are made with equal probability.\n",
      "     |  \n",
      "     |  expovariate(self, lambd)\n",
      "     |      Exponential distribution.\n",
      "     |      \n",
      "     |      lambd is 1.0 divided by the desired mean.  It should be\n",
      "     |      nonzero.  (The parameter would be called \"lambda\", but that is\n",
      "     |      a reserved word in Python.)  Returned values range from 0 to\n",
      "     |      positive infinity if lambd is positive, and from negative\n",
      "     |      infinity to 0 if lambd is negative.\n",
      "     |  \n",
      "     |  gammavariate(self, alpha, beta)\n",
      "     |      Gamma distribution.  Not the gamma function!\n",
      "     |      \n",
      "     |      Conditions on the parameters are alpha > 0 and beta > 0.\n",
      "     |      \n",
      "     |      The probability distribution function is:\n",
      "     |      \n",
      "     |                  x ** (alpha - 1) * math.exp(-x / beta)\n",
      "     |        pdf(x) =  --------------------------------------\n",
      "     |                    math.gamma(alpha) * beta ** alpha\n",
      "     |  \n",
      "     |  gauss(self, mu, sigma)\n",
      "     |      Gaussian distribution.\n",
      "     |      \n",
      "     |      mu is the mean, and sigma is the standard deviation.  This is\n",
      "     |      slightly faster than the normalvariate() function.\n",
      "     |      \n",
      "     |      Not thread-safe without a lock around calls.\n",
      "     |  \n",
      "     |  getstate(self)\n",
      "     |      Return internal state; can be passed to setstate() later.\n",
      "     |  \n",
      "     |  lognormvariate(self, mu, sigma)\n",
      "     |      Log normal distribution.\n",
      "     |      \n",
      "     |      If you take the natural logarithm of this distribution, you'll get a\n",
      "     |      normal distribution with mean mu and standard deviation sigma.\n",
      "     |      mu can have any value, and sigma must be greater than zero.\n",
      "     |  \n",
      "     |  normalvariate(self, mu, sigma)\n",
      "     |      Normal distribution.\n",
      "     |      \n",
      "     |      mu is the mean, and sigma is the standard deviation.\n",
      "     |  \n",
      "     |  paretovariate(self, alpha)\n",
      "     |      Pareto distribution.  alpha is the shape parameter.\n",
      "     |  \n",
      "     |  randint(self, a, b)\n",
      "     |      Return random integer in range [a, b], including both end points.\n",
      "     |  \n",
      "     |  randrange(self, start, stop=None, step=1, _int=<class 'int'>)\n",
      "     |      Choose a random item from range(start, stop[, step]).\n",
      "     |      \n",
      "     |      This fixes the problem with randint() which includes the\n",
      "     |      endpoint; in Python this is usually not what you want.\n",
      "     |  \n",
      "     |  sample(self, population, k)\n",
      "     |      Chooses k unique random elements from a population sequence or set.\n",
      "     |      \n",
      "     |      Returns a new list containing elements from the population while\n",
      "     |      leaving the original population unchanged.  The resulting list is\n",
      "     |      in selection order so that all sub-slices will also be valid random\n",
      "     |      samples.  This allows raffle winners (the sample) to be partitioned\n",
      "     |      into grand prize and second place winners (the subslices).\n",
      "     |      \n",
      "     |      Members of the population need not be hashable or unique.  If the\n",
      "     |      population contains repeats, then each occurrence is a possible\n",
      "     |      selection in the sample.\n",
      "     |      \n",
      "     |      To choose a sample in a range of integers, use range as an argument.\n",
      "     |      This is especially fast and space efficient for sampling from a\n",
      "     |      large population:   sample(range(10000000), 60)\n",
      "     |  \n",
      "     |  seed(self, a=None, version=2)\n",
      "     |      Initialize internal state from hashable object.\n",
      "     |      \n",
      "     |      None or no argument seeds from current time or from an operating\n",
      "     |      system specific randomness source if available.\n",
      "     |      \n",
      "     |      If *a* is an int, all bits are used.\n",
      "     |      \n",
      "     |      For version 2 (the default), all of the bits are used if *a* is a str,\n",
      "     |      bytes, or bytearray.  For version 1 (provided for reproducing random\n",
      "     |      sequences from older versions of Python), the algorithm for str and\n",
      "     |      bytes generates a narrower range of seeds.\n",
      "     |  \n",
      "     |  setstate(self, state)\n",
      "     |      Restore internal state from object returned by getstate().\n",
      "     |  \n",
      "     |  shuffle(self, x, random=None)\n",
      "     |      Shuffle list x in place, and return None.\n",
      "     |      \n",
      "     |      Optional argument random is a 0-argument function returning a\n",
      "     |      random float in [0.0, 1.0); if it is the default None, the\n",
      "     |      standard random.random will be used.\n",
      "     |  \n",
      "     |  triangular(self, low=0.0, high=1.0, mode=None)\n",
      "     |      Triangular distribution.\n",
      "     |      \n",
      "     |      Continuous distribution bounded by given lower and upper limits,\n",
      "     |      and having a given mode value in-between.\n",
      "     |      \n",
      "     |      http://en.wikipedia.org/wiki/Triangular_distribution\n",
      "     |  \n",
      "     |  uniform(self, a, b)\n",
      "     |      Get a random number in the range [a, b) or [a, b] depending on rounding.\n",
      "     |  \n",
      "     |  vonmisesvariate(self, mu, kappa)\n",
      "     |      Circular data distribution.\n",
      "     |      \n",
      "     |      mu is the mean angle, expressed in radians between 0 and 2*pi, and\n",
      "     |      kappa is the concentration parameter, which must be greater than or\n",
      "     |      equal to zero.  If kappa is equal to zero, this distribution reduces\n",
      "     |      to a uniform random angle over the range 0 to 2*pi.\n",
      "     |  \n",
      "     |  weibullvariate(self, alpha, beta)\n",
      "     |      Weibull distribution.\n",
      "     |      \n",
      "     |      alpha is the scale parameter and beta is the shape parameter.\n",
      "     |  \n",
      "     |  ----------------------------------------------------------------------\n",
      "     |  Data descriptors defined here:\n",
      "     |  \n",
      "     |  __dict__\n",
      "     |      dictionary for instance variables (if defined)\n",
      "     |  \n",
      "     |  __weakref__\n",
      "     |      list of weak references to the object (if defined)\n",
      "     |  \n",
      "     |  ----------------------------------------------------------------------\n",
      "     |  Data and other attributes defined here:\n",
      "     |  \n",
      "     |  VERSION = 3\n",
      "     |  \n",
      "     |  ----------------------------------------------------------------------\n",
      "     |  Methods inherited from _random.Random:\n",
      "     |  \n",
      "     |  __getattribute__(self, name, /)\n",
      "     |      Return getattr(self, name).\n",
      "     |  \n",
      "     |  getrandbits(...)\n",
      "     |      getrandbits(k) -> x.  Generates an int with k random bits.\n",
      "     |  \n",
      "     |  random(...)\n",
      "     |      random() -> x in the interval [0, 1).\n",
      "     |  \n",
      "     |  ----------------------------------------------------------------------\n",
      "     |  Static methods inherited from _random.Random:\n",
      "     |  \n",
      "     |  __new__(*args, **kwargs) from builtins.type\n",
      "     |      Create and return a new object.  See help(type) for accurate signature.\n",
      "    \n",
      "    class SystemRandom(Random)\n",
      "     |  SystemRandom(x=None)\n",
      "     |  \n",
      "     |  Alternate random number generator using sources provided\n",
      "     |  by the operating system (such as /dev/urandom on Unix or\n",
      "     |  CryptGenRandom on Windows).\n",
      "     |  \n",
      "     |   Not available on all systems (see os.urandom() for details).\n",
      "     |  \n",
      "     |  Method resolution order:\n",
      "     |      SystemRandom\n",
      "     |      Random\n",
      "     |      _random.Random\n",
      "     |      builtins.object\n",
      "     |  \n",
      "     |  Methods defined here:\n",
      "     |  \n",
      "     |  getrandbits(self, k)\n",
      "     |      getrandbits(k) -> x.  Generates an int with k random bits.\n",
      "     |  \n",
      "     |  getstate = _notimplemented(self, *args, **kwds)\n",
      "     |  \n",
      "     |  random(self)\n",
      "     |      Get the next random number in the range [0.0, 1.0).\n",
      "     |  \n",
      "     |  seed(self, *args, **kwds)\n",
      "     |      Stub method.  Not used for a system random number generator.\n",
      "     |  \n",
      "     |  setstate = _notimplemented(self, *args, **kwds)\n",
      "     |  \n",
      "     |  ----------------------------------------------------------------------\n",
      "     |  Methods inherited from Random:\n",
      "     |  \n",
      "     |  __getstate__(self)\n",
      "     |      # Issue 17489: Since __reduce__ was defined to fix #759889 this is no\n",
      "     |      # longer called; we leave it here because it has been here since random was\n",
      "     |      # rewritten back in 2001 and why risk breaking something.\n",
      "     |  \n",
      "     |  __init__(self, x=None)\n",
      "     |      Initialize an instance.\n",
      "     |      \n",
      "     |      Optional argument x controls seeding, as for Random.seed().\n",
      "     |  \n",
      "     |  __reduce__(self)\n",
      "     |      Helper for pickle.\n",
      "     |  \n",
      "     |  __setstate__(self, state)\n",
      "     |  \n",
      "     |  betavariate(self, alpha, beta)\n",
      "     |      Beta distribution.\n",
      "     |      \n",
      "     |      Conditions on the parameters are alpha > 0 and beta > 0.\n",
      "     |      Returned values range between 0 and 1.\n",
      "     |  \n",
      "     |  choice(self, seq)\n",
      "     |      Choose a random element from a non-empty sequence.\n",
      "     |  \n",
      "     |  choices(self, population, weights=None, *, cum_weights=None, k=1)\n",
      "     |      Return a k sized list of population elements chosen with replacement.\n",
      "     |      \n",
      "     |      If the relative weights or cumulative weights are not specified,\n",
      "     |      the selections are made with equal probability.\n",
      "     |  \n",
      "     |  expovariate(self, lambd)\n",
      "     |      Exponential distribution.\n",
      "     |      \n",
      "     |      lambd is 1.0 divided by the desired mean.  It should be\n",
      "     |      nonzero.  (The parameter would be called \"lambda\", but that is\n",
      "     |      a reserved word in Python.)  Returned values range from 0 to\n",
      "     |      positive infinity if lambd is positive, and from negative\n",
      "     |      infinity to 0 if lambd is negative.\n",
      "     |  \n",
      "     |  gammavariate(self, alpha, beta)\n",
      "     |      Gamma distribution.  Not the gamma function!\n",
      "     |      \n",
      "     |      Conditions on the parameters are alpha > 0 and beta > 0.\n",
      "     |      \n",
      "     |      The probability distribution function is:\n",
      "     |      \n",
      "     |                  x ** (alpha - 1) * math.exp(-x / beta)\n",
      "     |        pdf(x) =  --------------------------------------\n",
      "     |                    math.gamma(alpha) * beta ** alpha\n",
      "     |  \n",
      "     |  gauss(self, mu, sigma)\n",
      "     |      Gaussian distribution.\n",
      "     |      \n",
      "     |      mu is the mean, and sigma is the standard deviation.  This is\n",
      "     |      slightly faster than the normalvariate() function.\n",
      "     |      \n",
      "     |      Not thread-safe without a lock around calls.\n",
      "     |  \n",
      "     |  lognormvariate(self, mu, sigma)\n",
      "     |      Log normal distribution.\n",
      "     |      \n",
      "     |      If you take the natural logarithm of this distribution, you'll get a\n",
      "     |      normal distribution with mean mu and standard deviation sigma.\n",
      "     |      mu can have any value, and sigma must be greater than zero.\n",
      "     |  \n",
      "     |  normalvariate(self, mu, sigma)\n",
      "     |      Normal distribution.\n",
      "     |      \n",
      "     |      mu is the mean, and sigma is the standard deviation.\n",
      "     |  \n",
      "     |  paretovariate(self, alpha)\n",
      "     |      Pareto distribution.  alpha is the shape parameter.\n",
      "     |  \n",
      "     |  randint(self, a, b)\n",
      "     |      Return random integer in range [a, b], including both end points.\n",
      "     |  \n",
      "     |  randrange(self, start, stop=None, step=1, _int=<class 'int'>)\n",
      "     |      Choose a random item from range(start, stop[, step]).\n",
      "     |      \n",
      "     |      This fixes the problem with randint() which includes the\n",
      "     |      endpoint; in Python this is usually not what you want.\n",
      "     |  \n",
      "     |  sample(self, population, k)\n",
      "     |      Chooses k unique random elements from a population sequence or set.\n",
      "     |      \n",
      "     |      Returns a new list containing elements from the population while\n",
      "     |      leaving the original population unchanged.  The resulting list is\n",
      "     |      in selection order so that all sub-slices will also be valid random\n",
      "     |      samples.  This allows raffle winners (the sample) to be partitioned\n",
      "     |      into grand prize and second place winners (the subslices).\n",
      "     |      \n",
      "     |      Members of the population need not be hashable or unique.  If the\n",
      "     |      population contains repeats, then each occurrence is a possible\n",
      "     |      selection in the sample.\n",
      "     |      \n",
      "     |      To choose a sample in a range of integers, use range as an argument.\n",
      "     |      This is especially fast and space efficient for sampling from a\n",
      "     |      large population:   sample(range(10000000), 60)\n",
      "     |  \n",
      "     |  shuffle(self, x, random=None)\n",
      "     |      Shuffle list x in place, and return None.\n",
      "     |      \n",
      "     |      Optional argument random is a 0-argument function returning a\n",
      "     |      random float in [0.0, 1.0); if it is the default None, the\n",
      "     |      standard random.random will be used.\n",
      "     |  \n",
      "     |  triangular(self, low=0.0, high=1.0, mode=None)\n",
      "     |      Triangular distribution.\n",
      "     |      \n",
      "     |      Continuous distribution bounded by given lower and upper limits,\n",
      "     |      and having a given mode value in-between.\n",
      "     |      \n",
      "     |      http://en.wikipedia.org/wiki/Triangular_distribution\n",
      "     |  \n",
      "     |  uniform(self, a, b)\n",
      "     |      Get a random number in the range [a, b) or [a, b] depending on rounding.\n",
      "     |  \n",
      "     |  vonmisesvariate(self, mu, kappa)\n",
      "     |      Circular data distribution.\n",
      "     |      \n",
      "     |      mu is the mean angle, expressed in radians between 0 and 2*pi, and\n",
      "     |      kappa is the concentration parameter, which must be greater than or\n",
      "     |      equal to zero.  If kappa is equal to zero, this distribution reduces\n",
      "     |      to a uniform random angle over the range 0 to 2*pi.\n",
      "     |  \n",
      "     |  weibullvariate(self, alpha, beta)\n",
      "     |      Weibull distribution.\n",
      "     |      \n",
      "     |      alpha is the scale parameter and beta is the shape parameter.\n",
      "     |  \n",
      "     |  ----------------------------------------------------------------------\n",
      "     |  Data descriptors inherited from Random:\n",
      "     |  \n",
      "     |  __dict__\n",
      "     |      dictionary for instance variables (if defined)\n",
      "     |  \n",
      "     |  __weakref__\n",
      "     |      list of weak references to the object (if defined)\n",
      "     |  \n",
      "     |  ----------------------------------------------------------------------\n",
      "     |  Data and other attributes inherited from Random:\n",
      "     |  \n",
      "     |  VERSION = 3\n",
      "     |  \n",
      "     |  ----------------------------------------------------------------------\n",
      "     |  Methods inherited from _random.Random:\n",
      "     |  \n",
      "     |  __getattribute__(self, name, /)\n",
      "     |      Return getattr(self, name).\n",
      "     |  \n",
      "     |  ----------------------------------------------------------------------\n",
      "     |  Static methods inherited from _random.Random:\n",
      "     |  \n",
      "     |  __new__(*args, **kwargs) from builtins.type\n",
      "     |      Create and return a new object.  See help(type) for accurate signature.\n",
      "\n",
      "FUNCTIONS\n",
      "    betavariate(alpha, beta) method of Random instance\n",
      "        Beta distribution.\n",
      "        \n",
      "        Conditions on the parameters are alpha > 0 and beta > 0.\n",
      "        Returned values range between 0 and 1.\n",
      "    \n",
      "    choice(seq) method of Random instance\n",
      "        Choose a random element from a non-empty sequence.\n",
      "    \n",
      "    choices(population, weights=None, *, cum_weights=None, k=1) method of Random instance\n",
      "        Return a k sized list of population elements chosen with replacement.\n",
      "        \n",
      "        If the relative weights or cumulative weights are not specified,\n",
      "        the selections are made with equal probability.\n",
      "    \n",
      "    expovariate(lambd) method of Random instance\n",
      "        Exponential distribution.\n",
      "        \n",
      "        lambd is 1.0 divided by the desired mean.  It should be\n",
      "        nonzero.  (The parameter would be called \"lambda\", but that is\n",
      "        a reserved word in Python.)  Returned values range from 0 to\n",
      "        positive infinity if lambd is positive, and from negative\n",
      "        infinity to 0 if lambd is negative.\n",
      "    \n",
      "    gammavariate(alpha, beta) method of Random instance\n",
      "        Gamma distribution.  Not the gamma function!\n",
      "        \n",
      "        Conditions on the parameters are alpha > 0 and beta > 0.\n",
      "        \n",
      "        The probability distribution function is:\n",
      "        \n",
      "                    x ** (alpha - 1) * math.exp(-x / beta)\n",
      "          pdf(x) =  --------------------------------------\n",
      "                      math.gamma(alpha) * beta ** alpha\n",
      "    \n",
      "    gauss(mu, sigma) method of Random instance\n",
      "        Gaussian distribution.\n",
      "        \n",
      "        mu is the mean, and sigma is the standard deviation.  This is\n",
      "        slightly faster than the normalvariate() function.\n",
      "        \n",
      "        Not thread-safe without a lock around calls.\n",
      "    \n",
      "    getrandbits(...) method of Random instance\n",
      "        getrandbits(k) -> x.  Generates an int with k random bits.\n",
      "    \n",
      "    getstate() method of Random instance\n",
      "        Return internal state; can be passed to setstate() later.\n",
      "    \n",
      "    lognormvariate(mu, sigma) method of Random instance\n",
      "        Log normal distribution.\n",
      "        \n",
      "        If you take the natural logarithm of this distribution, you'll get a\n",
      "        normal distribution with mean mu and standard deviation sigma.\n",
      "        mu can have any value, and sigma must be greater than zero.\n",
      "    \n",
      "    normalvariate(mu, sigma) method of Random instance\n",
      "        Normal distribution.\n",
      "        \n",
      "        mu is the mean, and sigma is the standard deviation.\n",
      "    \n",
      "    paretovariate(alpha) method of Random instance\n",
      "        Pareto distribution.  alpha is the shape parameter.\n",
      "    \n",
      "    randint(a, b) method of Random instance\n",
      "        Return random integer in range [a, b], including both end points.\n",
      "    \n",
      "    random(...) method of Random instance\n",
      "        random() -> x in the interval [0, 1).\n",
      "    \n",
      "    randrange(start, stop=None, step=1, _int=<class 'int'>) method of Random instance\n",
      "        Choose a random item from range(start, stop[, step]).\n",
      "        \n",
      "        This fixes the problem with randint() which includes the\n",
      "        endpoint; in Python this is usually not what you want.\n",
      "    \n",
      "    sample(population, k) method of Random instance\n",
      "        Chooses k unique random elements from a population sequence or set.\n",
      "        \n",
      "        Returns a new list containing elements from the population while\n",
      "        leaving the original population unchanged.  The resulting list is\n",
      "        in selection order so that all sub-slices will also be valid random\n",
      "        samples.  This allows raffle winners (the sample) to be partitioned\n",
      "        into grand prize and second place winners (the subslices).\n",
      "        \n",
      "        Members of the population need not be hashable or unique.  If the\n",
      "        population contains repeats, then each occurrence is a possible\n",
      "        selection in the sample.\n",
      "        \n",
      "        To choose a sample in a range of integers, use range as an argument.\n",
      "        This is especially fast and space efficient for sampling from a\n",
      "        large population:   sample(range(10000000), 60)\n",
      "    \n",
      "    seed(a=None, version=2) method of Random instance\n",
      "        Initialize internal state from hashable object.\n",
      "        \n",
      "        None or no argument seeds from current time or from an operating\n",
      "        system specific randomness source if available.\n",
      "        \n",
      "        If *a* is an int, all bits are used.\n",
      "        \n",
      "        For version 2 (the default), all of the bits are used if *a* is a str,\n",
      "        bytes, or bytearray.  For version 1 (provided for reproducing random\n",
      "        sequences from older versions of Python), the algorithm for str and\n",
      "        bytes generates a narrower range of seeds.\n",
      "    \n",
      "    setstate(state) method of Random instance\n",
      "        Restore internal state from object returned by getstate().\n",
      "    \n",
      "    shuffle(x, random=None) method of Random instance\n",
      "        Shuffle list x in place, and return None.\n",
      "        \n",
      "        Optional argument random is a 0-argument function returning a\n",
      "        random float in [0.0, 1.0); if it is the default None, the\n",
      "        standard random.random will be used.\n",
      "    \n",
      "    triangular(low=0.0, high=1.0, mode=None) method of Random instance\n",
      "        Triangular distribution.\n",
      "        \n",
      "        Continuous distribution bounded by given lower and upper limits,\n",
      "        and having a given mode value in-between.\n",
      "        \n",
      "        http://en.wikipedia.org/wiki/Triangular_distribution\n",
      "    \n",
      "    uniform(a, b) method of Random instance\n",
      "        Get a random number in the range [a, b) or [a, b] depending on rounding.\n",
      "    \n",
      "    vonmisesvariate(mu, kappa) method of Random instance\n",
      "        Circular data distribution.\n",
      "        \n",
      "        mu is the mean angle, expressed in radians between 0 and 2*pi, and\n",
      "        kappa is the concentration parameter, which must be greater than or\n",
      "        equal to zero.  If kappa is equal to zero, this distribution reduces\n",
      "        to a uniform random angle over the range 0 to 2*pi.\n",
      "    \n",
      "    weibullvariate(alpha, beta) method of Random instance\n",
      "        Weibull distribution.\n",
      "        \n",
      "        alpha is the scale parameter and beta is the shape parameter.\n",
      "\n",
      "DATA\n",
      "    __all__ = ['Random', 'seed', 'random', 'uniform', 'randint', 'choice',...\n",
      "\n",
      "FILE\n",
      "    c:\\users\\manishkc\\appdata\\local\\programs\\python\\python37\\lib\\random.py\n",
      "\n",
      "\n"
     ]
    }
   ],
   "source": [
    "help(random)"
   ]
  },
  {
   "cell_type": "code",
   "execution_count": 19,
   "metadata": {},
   "outputs": [
    {
     "name": "stdout",
     "output_type": "stream",
     "text": [
      "0.1728439563303179\n"
     ]
    }
   ],
   "source": [
    "print(random.random())   # generates random numbers between 0 and 1"
   ]
  },
  {
   "cell_type": "code",
   "execution_count": 23,
   "metadata": {},
   "outputs": [
    {
     "name": "stdout",
     "output_type": "stream",
     "text": [
      "2\n"
     ]
    }
   ],
   "source": [
    "dice = [1,2,3,4,5,6]\n",
    "print(random.choice(dice))   # gives any value from the given list"
   ]
  },
  {
   "cell_type": "code",
   "execution_count": 25,
   "metadata": {},
   "outputs": [
    {
     "name": "stdout",
     "output_type": "stream",
     "text": [
      "5\n",
      "4\n"
     ]
    }
   ],
   "source": [
    "print(random.randint(1,5))   # generates random integers from 1 to 5 both inclusive\n",
    "print(random.randrange(1,5))  # generates random integers from 1(inclusive) to 5(exclusive)"
   ]
  },
  {
   "cell_type": "code",
   "execution_count": 26,
   "metadata": {},
   "outputs": [
    {
     "name": "stdout",
     "output_type": "stream",
     "text": [
      "16.8346007230501\n"
     ]
    }
   ],
   "source": [
    "print(random.uniform(10,20))  # generates any number between 10 and 20"
   ]
  },
  {
   "cell_type": "code",
   "execution_count": null,
   "metadata": {},
   "outputs": [],
   "source": [
    "Generate 8 char log default password \n",
    "    1. 1 Upper case letter \n",
    "    2. 1 Lower case \n",
    "    3. 1 Special char \n",
    "    4  5 Digits"
   ]
  },
  {
   "cell_type": "code",
   "execution_count": 27,
   "metadata": {},
   "outputs": [
    {
     "name": "stdout",
     "output_type": "stream",
     "text": [
      "Xn*40069\n",
      "n09X40*6\n"
     ]
    }
   ],
   "source": [
    "upper = chr(random.randint(ord('A'),ord('Z')))\n",
    "lower = chr(random.randint(ord('a'),ord('z')))\n",
    "\n",
    "all_chars = ['@','#','$','&','*']\n",
    "special = random.choice(all_chars)\n",
    "digits = str(random.randint(10000,99999))\n",
    "\n",
    "password_patt = upper+lower+special+digits\n",
    "print(password_patt)\n",
    "l = random.sample(password_patt,8)\n",
    "password_str = (\"\").join(l)\n",
    "print(password_str)\n",
    "# print(password_patt)"
   ]
  },
  {
   "cell_type": "code",
   "execution_count": null,
   "metadata": {},
   "outputs": [],
   "source": [
    "shuffle() method:\n",
    "    1. It is used to shuffle the given list and arrange them randomly\n",
    "    2. It does not return anything"
   ]
  },
  {
   "cell_type": "code",
   "execution_count": 39,
   "metadata": {},
   "outputs": [
    {
     "name": "stdout",
     "output_type": "stream",
     "text": [
      "[2, 500, 82, 1000, 100]\n"
     ]
    }
   ],
   "source": [
    "l = [100,500,2,1000,82]\n",
    "random.shuffle(l)\n",
    "print(l)"
   ]
  },
  {
   "cell_type": "code",
   "execution_count": null,
   "metadata": {},
   "outputs": [],
   "source": [
    "triangular() method:\n",
    "    1. It returns a floating point number between two specified values bot inclusive\n",
    "    2. Also, we can use a third parameter, and with this parameter we can get out the values closer to one of the two \n",
    "        specified values\n",
    "    3. For example consider below code:"
   ]
  },
  {
   "cell_type": "code",
   "execution_count": 54,
   "metadata": {},
   "outputs": [
    {
     "name": "stdout",
     "output_type": "stream",
     "text": [
      "28.30337690002294\n"
     ]
    }
   ],
   "source": [
    "import random\n",
    "\n",
    "print(random.triangular(20, 60, 30))  # 20 is the first value, 60 is the scond value and 30 is the third parameter\n",
    "                                        # 30 is closer to 20 so when you execute the code maximum time you will get a number \n",
    "                                        # which is closer to 20"
   ]
  },
  {
   "cell_type": "code",
   "execution_count": null,
   "metadata": {},
   "outputs": [],
   "source": [
    "getrandbits() method:\n",
    "    1. It takes one argument (size in bits)\n",
    "    2. returns an integer of the aforementioned size(in bits)"
   ]
  },
  {
   "cell_type": "code",
   "execution_count": 62,
   "metadata": {},
   "outputs": [
    {
     "name": "stdout",
     "output_type": "stream",
     "text": [
      "317\n"
     ]
    }
   ],
   "source": [
    "import random\n",
    "\n",
    "print(random.getrandbits(10))"
   ]
  },
  {
   "cell_type": "markdown",
   "metadata": {},
   "source": [
    "# Session 12: Problem Solving"
   ]
  },
  {
   "cell_type": "code",
   "execution_count": null,
   "metadata": {},
   "outputs": [],
   "source": [
    "1. Find an element in array such that sum of left array is equal to sum of right array. l = [1,4,2,5]\n",
    "\n",
    "Output : index : 2 [1,4] [5] 5 == 5\n",
    "\n",
    "Positive Tests\n",
    "\n",
    "1. [1,1,1,4,3] expected output index => 3\n",
    "\n",
    "Negative Scenarios :\n",
    "\n",
    "1. [2,1,3,2,7] expected output -1\n",
    "2. [] expected output -1\n",
    "3. [1,1,1,4,3,\"a\"]  expected output -1"
   ]
  },
  {
   "cell_type": "code",
   "execution_count": null,
   "metadata": {},
   "outputs": [],
   "source": [
    "TDD => Test Driven Development\n",
    "1 Failing Test cases\n",
    "2.Write just enough code to pass the test cases\n",
    "3.Refactoring"
   ]
  },
  {
   "cell_type": "code",
   "execution_count": null,
   "metadata": {},
   "outputs": [],
   "source": [
    "Approach:\n",
    "    \n",
    "1. \n",
    "l = [1,4,2,5]\n",
    "i. start with index => 1 , elemnet is  4\n",
    "ii find out left array and right sub array left = [1] right subarry = [2,5]\n",
    "ii sum left and right sub array :\n",
    "       if sum is equal print the index\n",
    "       else repeat for next element \n",
    "    \n",
    "  1 == 7 => No\n",
    "  [1,4]= [5] return index 2 \n",
    "\n",
    "\n",
    "2. \n",
    "[1,1,1,4,3]\n",
    "\n",
    "left_sum = 0 \n",
    "right_sum = 9 \n",
    "\n",
    "start from index 1 element => 1 \n",
    "   right_sum = right sum - current value  => 9 - 1 = 8  \n",
    "   left_sum  = leftsum + [current elemnt -1] 0 +1 = 1 \n",
    "\n",
    "   check left and right sum \n",
    "        if not equal repeat for the next element \n",
    "        \n",
    "        \n",
    "   current element => 1 \n",
    "   right sum => 8 - 1 => 7 \n",
    "   left_sum => 1 + 1 => 2 \n",
    "\n",
    "\n",
    "\n",
    "   current elemnt => 4 \n",
    "   right_sum = 7 - 4 => 3\n",
    "   left_sum =  2 + 1 => 3"
   ]
  },
  {
   "cell_type": "code",
   "execution_count": 1,
   "metadata": {},
   "outputs": [
    {
     "name": "stdout",
     "output_type": "stream",
     "text": [
      "[1] [4, 2, 5]\n",
      "[1, 4] [2, 5]\n",
      "[1, 4, 2] [5]\n"
     ]
    }
   ],
   "source": [
    "l = [1,4,2,5]\n",
    "for index,value in enumerate(l[1:]):\n",
    "    \n",
    "    print(l[:index+1],l[index+1:])"
   ]
  },
  {
   "cell_type": "code",
   "execution_count": 2,
   "metadata": {},
   "outputs": [
    {
     "name": "stdout",
     "output_type": "stream",
     "text": [
      "2\n"
     ]
    }
   ],
   "source": [
    "l = [1,4,2,5]\n",
    "for index in range(1,len(l)):\n",
    "    if sum(l[:index]) == sum(l[index+1:]):\n",
    "        print(index)"
   ]
  },
  {
   "cell_type": "code",
   "execution_count": 3,
   "metadata": {},
   "outputs": [
    {
     "name": "stdout",
     "output_type": "stream",
     "text": [
      "0 9\n",
      "3 4\n"
     ]
    }
   ],
   "source": [
    "l = [1,1,1,4,3]\n",
    "left_sum = 0\n",
    "right_sum = sum(l[1:])\n",
    "\n",
    "print(left_sum,right_sum)\n",
    "\n",
    "for index in range(1,len(l)-1):\n",
    "    right_sum = right_sum - l[index]\n",
    "    left_sum = left_sum + l[index -1]\n",
    "    \n",
    "    if right_sum == left_sum:\n",
    "        print(index,l[index])"
   ]
  },
  {
   "cell_type": "code",
   "execution_count": null,
   "metadata": {},
   "outputs": [],
   "source": [
    "2. A Program to check if strings are rotations of each other or not Given a string s1 and a string s2, \n",
    "    write a snippet to say whether s2 is a rotation of s1 \n",
    "    (eg given s1 = ABCD and s2 = CDAB, return true, given s1 = ABCD, and s2 = ACBD , return false)"
   ]
  },
  {
   "cell_type": "code",
   "execution_count": null,
   "metadata": {},
   "outputs": [],
   "source": [
    "s1 = ABCD\n",
    "\n",
    "1.Find all possible rotations \n",
    "    ABCD, BCDA,CDAB,DABC \n",
    "    check if s2 in rotations "
   ]
  },
  {
   "cell_type": "code",
   "execution_count": null,
   "metadata": {},
   "outputs": [],
   "source": [
    "3. Caesar's cipher shifts each letter by a number of letters. If the shift takes you past the end of the alphabet, \n",
    "just rotate back to the front of the alphabet. In the case of a rotation by 3, w, x, y and z would map to z, a, b and c. \n",
    "For example if string is : \"welcome\" and shift is 4 the output will be \"aipgtqi\""
   ]
  },
  {
   "cell_type": "code",
   "execution_count": null,
   "metadata": {},
   "outputs": [],
   "source": [
    "Approach:   Ascii value logic\n",
    "    given: string and shifts\n",
    "        1. take a empty string s\n",
    "        2. for each char in welcome:\n",
    "            1. convert the char to ascii representation\n",
    "            2. increase the ascii value by shifts\n",
    "            3. when the ascii value goes beyond ord(z) find the diff = ascii value - 122\n",
    "                1. Add this diff to ord(a)-1 i.e. we have ascii value after this operation ord(a)-1 + diff\n",
    "            4. convert this ascii to its character representation\n",
    "            4. concatenate it with s\n",
    "        3. print s"
   ]
  },
  {
   "cell_type": "code",
   "execution_count": 14,
   "metadata": {},
   "outputs": [
    {
     "name": "stdout",
     "output_type": "stream",
     "text": [
      "aipgsqi\n"
     ]
    }
   ],
   "source": [
    "string = 'welcome'\n",
    "shifts = 4\n",
    "s = ''\n",
    "# The ascii value logic\n",
    "for char in string:\n",
    "    char_ascii = ord(char)   # char to ascii\n",
    "    ascii_after_shift = char_ascii + shifts   # increase the ascii value by shifts\n",
    "    if ascii_after_shift > 122:    # check if ascii > 122 \n",
    "        diff = ascii_after_shift - 122    # by what number is the ascii exceeding 122 after shift\n",
    "        ascii_after_shift = ord('a') - 1 + diff   # rotating back to the front\n",
    "    char_after_shift = chr(ascii_after_shift)   # ascii to char\n",
    "    s = s + char_after_shift\n",
    "print(s)"
   ]
  },
  {
   "cell_type": "code",
   "execution_count": null,
   "metadata": {},
   "outputs": [],
   "source": [
    "4. find the missing number in given integer array of 1 to 10. l = [1,2,3,4,5,6,7,9,10] assuming that there are no \n",
    "    repetating numbers"
   ]
  },
  {
   "cell_type": "code",
   "execution_count": null,
   "metadata": {},
   "outputs": [],
   "source": [
    "Approach:   simple approach but complexity is high O(n^2)\n",
    "    1. run a for loop from 1 to 11, i\n",
    "    2. if i is present in l then pass\n",
    "    3. else print i is missing"
   ]
  },
  {
   "cell_type": "code",
   "execution_count": 25,
   "metadata": {},
   "outputs": [
    {
     "name": "stdout",
     "output_type": "stream",
     "text": [
      "8  is missing\n"
     ]
    }
   ],
   "source": [
    "l = [1,2,3,4,5,6,7,9,10]\n",
    "l.sort()\n",
    "for i in range(1, 11):\n",
    "    if i in l:\n",
    "        continue\n",
    "    else:\n",
    "        print(i,\" is missing\")"
   ]
  },
  {
   "cell_type": "code",
   "execution_count": null,
   "metadata": {},
   "outputs": [],
   "source": []
  },
  {
   "cell_type": "code",
   "execution_count": null,
   "metadata": {},
   "outputs": [],
   "source": [
    "5. Write aprogram to check if two given strings are anagram of each other or not. Anagram Strings : \n",
    "    if two given strings are anagrams of Each other. Two strings are anagrams if they are written using the same exact letters,\n",
    "    ignoring space, punctuation, and capitalization. Eg : Input : \"Army\" and \"Mary\" Output \"Strings are anagrams of each other\""
   ]
  },
  {
   "cell_type": "code",
   "execution_count": null,
   "metadata": {},
   "outputs": [],
   "source": [
    "Approach:\n",
    "    Given two strings s1 and s2\n",
    "    1. Change the case of s1 and s2 to lower\n",
    "    2. convert the data type of both strings to list say l1 and l2\n",
    "    3. sort both the lists\n",
    "    4. using join() method join the characters in individual list again say s1 and s2 after joining\n",
    "    5. if s1 == s2 print \"Strings are anagrams of each other\"\n",
    "    6. else print \"Strings are not anagrams of each other\""
   ]
  },
  {
   "cell_type": "code",
   "execution_count": 2,
   "metadata": {},
   "outputs": [
    {
     "name": "stdout",
     "output_type": "stream",
     "text": [
      "Strings are anagrams of each other\n"
     ]
    }
   ],
   "source": [
    "s1 = \"A;rm y!\"\n",
    "s1 = s1.lower()   # convert the case of s1 to lower\n",
    "s2 = \"Ma!r y;\"\n",
    "s2 = s2.lower()   # convert the case of s2 to lower\n",
    "l1 = list(s1)     # convert data type of s1 to list\n",
    "l1.sort()         # sort the list l1\n",
    "l2 = list(s2)     # convert the data type of s2 to list\n",
    "l2.sort()         # sort the list l2\n",
    "s1 = \"\".join(l1)  # joint the list l1\n",
    "s2 = \"\".join(l2)  # join the list l2\n",
    "if s1 == s2:      # check if both strings are same\n",
    "    print(\"Strings are anagrams of each other\")\n",
    "else:\n",
    "    print(\"Strings are not anagrams of each other\")"
   ]
  },
  {
   "cell_type": "code",
   "execution_count": 4,
   "metadata": {},
   "outputs": [
    {
     "name": "stdout",
     "output_type": "stream",
     "text": [
      "1679927533328\n",
      "ABC\n",
      "1679927533328\n"
     ]
    }
   ],
   "source": [
    "a = 'ABC'\n",
    "print(id(a))\n",
    "a.lower()\n",
    "print(a)\n",
    "print(id(a))"
   ]
  },
  {
   "cell_type": "markdown",
   "metadata": {},
   "source": [
    "# Session 14: User Defined Function"
   ]
  },
  {
   "cell_type": "code",
   "execution_count": null,
   "metadata": {},
   "outputs": [],
   "source": [
    "Modularity \n",
    "Code reuse"
   ]
  },
  {
   "cell_type": "code",
   "execution_count": null,
   "metadata": {},
   "outputs": [],
   "source": [
    "#fun def \n",
    "def [user_defined_function_name](arg1,arg2):\n",
    "    statements \n",
    "    \n",
    "#call the func\n",
    "user_defined_function_name(10,20)\n",
    "print()"
   ]
  },
  {
   "cell_type": "code",
   "execution_count": null,
   "metadata": {},
   "outputs": [],
   "source": [
    "Parameter passing techniques \n",
    "    1. Positional args => tot no of arg in fun def and in func call should be same, sequential mapping of args \n",
    "    2. Default args => set the default value in func def for specific arg\n",
    "    3. Variable length positional arg => packing \n",
    "    4. Keyword args"
   ]
  },
  {
   "cell_type": "code",
   "execution_count": 1,
   "metadata": {},
   "outputs": [
    {
     "name": "stdout",
     "output_type": "stream",
     "text": [
      "30\n"
     ]
    }
   ],
   "source": [
    "# positional args\n",
    "def add(num1,num2):\n",
    "    num3 = num1 + num2\n",
    "    return num3\n",
    "    \n",
    "result = add(10,20)\n",
    "print(result)"
   ]
  },
  {
   "cell_type": "code",
   "execution_count": 3,
   "metadata": {},
   "outputs": [
    {
     "name": "stdout",
     "output_type": "stream",
     "text": [
      "10 20 0\n",
      "30\n",
      "0 0 0\n",
      "0\n"
     ]
    }
   ],
   "source": [
    "# Default args\n",
    "def add(num1=0,num2=0,num3=0):\n",
    "    print(num1,num2,num3)\n",
    "    num3 = num1 + num2 + num3\n",
    "    return num3\n",
    "    \n",
    "result = add(10,20)\n",
    "print(result)\n",
    "\n",
    "result = add()\n",
    "print(result)"
   ]
  },
  {
   "cell_type": "code",
   "execution_count": 4,
   "metadata": {},
   "outputs": [
    {
     "name": "stdout",
     "output_type": "stream",
     "text": [
      "(10, 20, 30, 40, 50)\n",
      "150\n",
      "(10, 20, 30, 40, 50, 80, 80, 90)\n",
      "400\n",
      "(10, 20, 30)\n",
      "60\n",
      "()\n",
      "0\n"
     ]
    }
   ],
   "source": [
    "# Variable length positional args\n",
    "def add(*args):\n",
    "    print(args)\n",
    "    return sum(args)\n",
    "    \n",
    "result = add(10,20,30,40,50)\n",
    "print(result)\n",
    "\n",
    "result = add(10,20,30,40,50,80,80,90)\n",
    "print(result)\n",
    "\n",
    "result = add(10,20,30)\n",
    "print(result)\n",
    "\n",
    "result = add()\n",
    "print(result)"
   ]
  },
  {
   "cell_type": "code",
   "execution_count": 5,
   "metadata": {},
   "outputs": [
    {
     "name": "stdout",
     "output_type": "stream",
     "text": [
      "True\n",
      "True\n"
     ]
    }
   ],
   "source": [
    "# keywords args\n",
    "def login(username,password):\n",
    "    if username == \"abc\" and password == \"abc@123\":\n",
    "        return True\n",
    "    else:\n",
    "        return False \n",
    "    \n",
    "print(login(\"abc\",\"abc@123\"))\n",
    "print(login(password=\"abc@123\",username=\"abc\"))"
   ]
  },
  {
   "cell_type": "code",
   "execution_count": null,
   "metadata": {},
   "outputs": [],
   "source": [
    "1. positional => no arg in func def and in func call same,\n",
    "2. default in func def you can spcify default value , will be used only when value for arg is not passed \n",
    "3. variable length positional-  packing - *args => tuple  \n",
    "4. keyword args => call , keywords should be same as fun def\n",
    "5. variable length keyword args => packing = **kwargs => dictionary (keyword arguments)\n",
    "6. unpacking => pass a collection of value in func with *list, or *tuple, and **dict for keyword args"
   ]
  },
  {
   "cell_type": "markdown",
   "metadata": {},
   "source": [
    "# session 15: functions part 2"
   ]
  },
  {
   "cell_type": "code",
   "execution_count": 6,
   "metadata": {},
   "outputs": [
    {
     "name": "stdout",
     "output_type": "stream",
     "text": [
      "True\n"
     ]
    }
   ],
   "source": [
    "# Binary searc\n",
    "def binar_search(l,key):\n",
    "    if not l:\n",
    "        return False\n",
    "    else:\n",
    "        mid = len(l)//2\n",
    "        if l[mid] == key:\n",
    "            return True\n",
    "        elif key > l[mid]:\n",
    "            return binar_search(l[mid+1:],key)\n",
    "        else:\n",
    "            return binar_search(l[:mid],key)\n",
    "        \n",
    "l = [10,20,30,40,50,60,70,80,90]\n",
    "key = 70\n",
    "print(binar_search(l,key))"
   ]
  },
  {
   "cell_type": "code",
   "execution_count": 2,
   "metadata": {},
   "outputs": [
    {
     "name": "stdout",
     "output_type": "stream",
     "text": [
      "{'username': 'abc', 'email': 'abc@gmail.com', 'contact': '9123456789', 'dob': '1-1-2020'}\n",
      "username:abc email:abc@gmail.com contact:9123456789 dob: 1-1-2020\n",
      "{'username': 'abc', 'email': 'abc@gmail.com', 'dob': '1-1-2020'}\n",
      "username:abc email:abc@gmail.com contact:None dob: 1-1-2020\n",
      "{'username': 'abc', 'contact': '9123456789', 'dob': '1-1-2020'}\n",
      "username:abc email:None contact:9123456789 dob: 1-1-2020\n"
     ]
    }
   ],
   "source": [
    "def user_info(**kwargs):\n",
    "    print(kwargs)\n",
    "    subject = \"username:{} email:{} contact:{} dob: {}\".format(kwargs.get('username'),kwargs.get('email'),kwargs.get('contact'),kwargs.get('dob'))\n",
    "    print(subject)\n",
    "    \n",
    "user_info(username=\"abc\",email=\"abc@gmail.com\",contact=\"9123456789\",dob=\"1-1-2020\")\n",
    "user_info(username=\"abc\",email=\"abc@gmail.com\",dob=\"1-1-2020\")\n",
    "user_info(username=\"abc\",contact=\"9123456789\",dob=\"1-1-2020\")"
   ]
  },
  {
   "cell_type": "code",
   "execution_count": null,
   "metadata": {},
   "outputs": [],
   "source": [
    "order of passing parameters in function:\n",
    "    positional \n",
    "    default \n",
    "    variable length positional\n",
    "    variable length keyword"
   ]
  },
  {
   "cell_type": "code",
   "execution_count": 4,
   "metadata": {},
   "outputs": [
    {
     "name": "stdout",
     "output_type": "stream",
     "text": [
      "20 30 40\n",
      "90\n"
     ]
    }
   ],
   "source": [
    "def add(num1,num2,num3):\n",
    "    print(num1,num2,num3)\n",
    "    return num1+num2+num3\n",
    "\n",
    "l = [10,20,30,40]\n",
    "print(add(*l[1:]))    # unpacking multiple arguments"
   ]
  },
  {
   "cell_type": "code",
   "execution_count": 5,
   "metadata": {},
   "outputs": [
    {
     "name": "stdout",
     "output_type": "stream",
     "text": [
      "10 20 30\n",
      "60\n"
     ]
    }
   ],
   "source": [
    "def add(num1,num2,num3):\n",
    "    print(num1,num2,num3)\n",
    "    return num1+num2+num3\n",
    "\n",
    "d = {\"num1\":10,\"num3\":30,\"num2\":20}\n",
    "print(add(**d))   # unpacking multiple keyword arguments"
   ]
  },
  {
   "cell_type": "code",
   "execution_count": 7,
   "metadata": {},
   "outputs": [
    {
     "name": "stdout",
     "output_type": "stream",
     "text": [
      "num1 num3 num2\n",
      "num1num3num2\n"
     ]
    }
   ],
   "source": [
    "def add(num1,num2,num3):\n",
    "    print(num1,num2,num3)\n",
    "    return num1+num2+num3\n",
    "\n",
    "d = {\"num1\":10,\"num3\":30,\"num2\":20}\n",
    "print(add(*d))      # point to be noted"
   ]
  },
  {
   "cell_type": "code",
   "execution_count": 9,
   "metadata": {},
   "outputs": [
    {
     "name": "stdout",
     "output_type": "stream",
     "text": [
      "inside func call 500\n",
      "outside func call 100\n"
     ]
    }
   ],
   "source": [
    "def print_val():\n",
    "    \n",
    "#     print(\"inside func call\",num1)\n",
    "    num1 = 500\n",
    "    print(\"inside func call\",num1)     # num1 defined inside function will be called for print statement inside function\n",
    "\n",
    "num1 = 100\n",
    "print_val()\n",
    "print(\"outside func call\",num1)    # num1 defined outside function will be called for print statement outside function"
   ]
  },
  {
   "cell_type": "code",
   "execution_count": 11,
   "metadata": {},
   "outputs": [
    {
     "name": "stdout",
     "output_type": "stream",
     "text": [
      "inside func call 500\n",
      "outside func call 500\n"
     ]
    }
   ],
   "source": [
    "def print_val():\n",
    "    global num1    # num1 is given global reference and wherever num1 is used it will have same reference, num1 is 100\n",
    "#     print(\"inside func call\",num1)\n",
    "    num1 = 500    # here the global num1 value is changed. num1 is 500\n",
    "    print(\"inside func call\",num1)    # num1 is 500 inside the function\n",
    "\n",
    "num1 = 100   #num1 is 100\n",
    "print_val()\n",
    "print(\"outside func call\",num1) # num1 will be 500 as the reference for num1 was changed from 100(i.e. outside function) to \n",
    "                                # 500 (i.e. inside the function)"
   ]
  },
  {
   "cell_type": "code",
   "execution_count": null,
   "metadata": {},
   "outputs": [],
   "source": [
    "Recursion: Function calling itself again and again\n",
    "    fact 5 = 5 * fact(4) = 5 * 24 => 120 \n",
    "                4 * fact(3) => 4 * 6 = 24 \n",
    "                       3 * fact(2) = 3 * 2 = 6 \n",
    "                              2 * fact(1) = 2 * 1 = 2 \n",
    "                                      1"
   ]
  },
  {
   "cell_type": "code",
   "execution_count": 12,
   "metadata": {},
   "outputs": [
    {
     "name": "stdout",
     "output_type": "stream",
     "text": [
      "120\n"
     ]
    }
   ],
   "source": [
    "# Recursive program to find factorial of 5:\n",
    "def fact(n):\n",
    "    if n == 1:\n",
    "        return 1\n",
    "    else:\n",
    "        return n * fact(n-1)   #calling func(n) again\n",
    "\n",
    "n = 5\n",
    "print(fact(n))"
   ]
  },
  {
   "cell_type": "code",
   "execution_count": null,
   "metadata": {},
   "outputs": [],
   "source": [
    "how the above program is working:\n",
    "    fact(5) = return 5 * 24 = 120\n",
    "                return 4 * 6 => 24\n",
    "                 return 3 * 2 = > 6 \n",
    "                  return 2 * 1 => 2\n",
    "                   return 1"
   ]
  },
  {
   "cell_type": "code",
   "execution_count": null,
   "metadata": {},
   "outputs": [],
   "source": [
    "binary search logic\n",
    "\n",
    "l = [10,20,30,40,50,60,70,80,90]\n",
    "key = 70 \n",
    "\n",
    "1. find mid len(l)/2  9 /2 => 4 \n",
    "   70 == mid no 50\n",
    "   if key < mid \n",
    "\n",
    "   if key > mid \n",
    "       l = [60,70,80,90] key = 70\n",
    "       mid = 4 /2 =2  => 80\n",
    "    \n",
    "       70 == 80 \n",
    "        \n",
    "       if key > mid [60,70] key = 70\n",
    "                 mid = 2//2 = 1 \n",
    "                 70 == 70 : true \n",
    "    \n",
    "       if key < mid"
   ]
  },
  {
   "cell_type": "code",
   "execution_count": 13,
   "metadata": {},
   "outputs": [
    {
     "name": "stdout",
     "output_type": "stream",
     "text": [
      "False\n"
     ]
    }
   ],
   "source": [
    "# Binary search program\n",
    "\n",
    "def binary_search(l,key):\n",
    "    if not l:\n",
    "        return False\n",
    "    else:\n",
    "        mid_index = len(l) // 2\n",
    "        if key == l[mid_index]:\n",
    "            return True\n",
    "        elif key < l[mid_index]:\n",
    "            return binary_search(l[:mid_index],key)    \n",
    "        else:\n",
    "            return binary_search(l[mid_index+1:],key)\n",
    "    \n",
    "l = [10,20,30,40,50,60,70,80,90]\n",
    "key = 200\n",
    "print(binary_search(l,key))"
   ]
  },
  {
   "cell_type": "markdown",
   "metadata": {},
   "source": [
    "# Session 16: File operations"
   ]
  },
  {
   "cell_type": "code",
   "execution_count": null,
   "metadata": {},
   "outputs": [],
   "source": [
    "# Different modes of opening a file:\n",
    "r\n",
    "r+\n",
    "\n",
    "w\n",
    "w+\n",
    "\n",
    "a\n",
    "a+\n",
    "\n",
    "rb\n",
    "rb+\n",
    "\n",
    "wb\n",
    "wb+\n",
    "\n",
    "a\n",
    "ab+"
   ]
  },
  {
   "cell_type": "code",
   "execution_count": null,
   "metadata": {},
   "outputs": [],
   "source": [
    "fp = open(\"python3_new.txt\",\"r\",encoding=\"utf-8\")\n",
    "content = fp.read()\n",
    "print(content)\n",
    "print(\"----------------------------------------------\")\n",
    "content = fp.read()\n",
    "print(content)\n",
    "fp.close()"
   ]
  },
  {
   "cell_type": "code",
   "execution_count": null,
   "metadata": {},
   "outputs": [],
   "source": [
    "fp = open(\"python3_new.txt\",\"r\",encoding=\"utf-8\")\n",
    "content = fp.readline(5) # this will read the first 5 chars from first line, after this the file pointer is at 6\n",
    "print(content)\n",
    "\n",
    "content = fp.readline()   # this will read the full line after first 5 chars\n",
    "print(content)\n",
    "\n",
    "content = fp.readline() # this will read the next line\n",
    "print(content)\n",
    "fp.close()"
   ]
  },
  {
   "cell_type": "code",
   "execution_count": null,
   "metadata": {},
   "outputs": [],
   "source": [
    "fp = open(\"python3_new.txt\",\"r\",encoding=\"utf-8\")\n",
    "content = fp.readlines()   # returns you a list of all the lines\n",
    "print(content)\n",
    "\n",
    "fp.close()"
   ]
  },
  {
   "cell_type": "code",
   "execution_count": null,
   "metadata": {},
   "outputs": [],
   "source": [
    "fp = open(\"input2.txt\",\"w+\")\n",
    "print(fp.tell())   # it gives you the current position of the file pointer\n",
    "fp.write(\"Sample data in file\")\n",
    "print(fp.tell())  \n",
    "fp.seek(0,0)   # zero characters from start\n",
    "print(fp.tell())\n",
    "content = fp.read()\n",
    "print(content)\n",
    "fp.close()"
   ]
  },
  {
   "cell_type": "code",
   "execution_count": null,
   "metadata": {},
   "outputs": [],
   "source": [
    "tell()\n",
    "seek(offset,position)\n",
    "offset : how many char \n",
    "    \n",
    "position :\n",
    "    0 : start of the file \n",
    "    1 : current position\n",
    "    2 : end of the file \n",
    "        \n",
    "seek(15,0)\n",
    "seek(0,2)\n",
    "seek(0,0)\n",
    "\n",
    "seek(15,2) : error\n",
    "seek(15,1) : error"
   ]
  },
  {
   "cell_type": "code",
   "execution_count": null,
   "metadata": {},
   "outputs": [],
   "source": [
    "r fp => start, file not exist => error, read \n",
    "r+ fp=> start ,file not exist => error,read and write \n",
    "\n",
    "w => fp => start, file not exist => create new, write \n",
    "w+=> fp => start, file not exist => create new file, write + read \n",
    "\n",
    "a => fp => end of the file, file not exist => create new , write at the end \n",
    "a+ => fp => end of the file, file not exist => create new, write + read \n",
    "\n",
    "\n",
    "tell()\n",
    "seek()\n",
    "    offset, position \n",
    "    \n",
    " 0 : start of the file \n",
    " 1 : current position\n",
    " 2 : end of the file"
   ]
  },
  {
   "cell_type": "markdown",
   "metadata": {},
   "source": [
    "# Session 17: RegEx"
   ]
  },
  {
   "cell_type": "code",
   "execution_count": null,
   "metadata": {},
   "outputs": [],
   "source": [
    "Two reasons we use regular expressions:\n",
    "    - Validation \n",
    "    - Pattern Extraction"
   ]
  },
  {
   "cell_type": "code",
   "execution_count": 14,
   "metadata": {},
   "outputs": [],
   "source": [
    "import re   # all the functions of regular expressions are present in this module 're'"
   ]
  },
  {
   "cell_type": "code",
   "execution_count": null,
   "metadata": {},
   "outputs": [],
   "source": [
    "Meta char:   # used to define the pattern which we are looking for\n",
    "    -[a-z] : char class - single occurance a or b or c or d.....or z [a-e] \n",
    "      [a-z A-Z]    \n",
    "    -[0-9] : digit class - signgle occurance 0 -9    [100-1000]   \n",
    "    - + [a-z]+: atleast one occurance should be there and more are fine \n",
    "    - * [0-9]*: zero or more   \n",
    "    - [a-z]{5}\n",
    "    - [0-9]{2,5}\n",
    "    - ^ => start of the string \n",
    "    - $ => end of the string \n",
    "    - ? => optional\n",
    "    - . => match with anything"
   ]
  },
  {
   "cell_type": "code",
   "execution_count": 15,
   "metadata": {},
   "outputs": [
    {
     "name": "stdout",
     "output_type": "stream",
     "text": [
      "['a', 'b', 'c', 'd']\n"
     ]
    }
   ],
   "source": [
    "s = \"abcd1234\"\n",
    "r = re.compile(\"[a-z]\") # method used to construct a regular expression in python, [a-z] looks for single occurence of a...z\n",
    "l = re.findall(r,s)     # findall finds all the matching pattern r in s\n",
    "print(l)"
   ]
  },
  {
   "cell_type": "code",
   "execution_count": 16,
   "metadata": {},
   "outputs": [
    {
     "name": "stdout",
     "output_type": "stream",
     "text": [
      "['1', '2', '3', '4']\n"
     ]
    }
   ],
   "source": [
    "s = \"abcd1234\"\n",
    "r = re.compile(\"[0-9]\")  # checks for single occurence of 0 or 1 or....or 9\n",
    "l = re.findall(r,s)\n",
    "print(l)"
   ]
  },
  {
   "cell_type": "code",
   "execution_count": 17,
   "metadata": {},
   "outputs": [
    {
     "name": "stdout",
     "output_type": "stream",
     "text": [
      "['d1', 'r7']\n"
     ]
    }
   ],
   "source": [
    "s = \"abcd1234pqr789\"\n",
    "r = re.compile(\"[a-z][0-9]\")   # checks for cobined occurence of one alpha (from a to z) and one digit from zero to 9\n",
    "                                # first char has to be alpha and second char has to be a digit in between 0 to 9\n",
    "l = re.findall(r,s)\n",
    "print(l)"
   ]
  },
  {
   "cell_type": "code",
   "execution_count": 18,
   "metadata": {},
   "outputs": [
    {
     "name": "stdout",
     "output_type": "stream",
     "text": [
      "[]\n"
     ]
    }
   ],
   "source": [
    "s = \"1234\"\n",
    "r = re.compile(\"[a-z]+\")   # checks one or more number of alpha\n",
    "l = re.findall(r,s)    # since there is not any alpha in the string s , the findall will return an empty list\n",
    "print(l)"
   ]
  },
  {
   "cell_type": "code",
   "execution_count": 19,
   "metadata": {},
   "outputs": [
    {
     "name": "stdout",
     "output_type": "stream",
     "text": [
      "['abcd1', 'pqr7']\n"
     ]
    }
   ],
   "source": [
    "s = \"abcd1234pqr789\"\n",
    "r = re.compile(\"[a-z]+[0-9]\")   # check one or more occurence of alpha first and one occurence of digit (0 to 9)\n",
    "l = re.findall(r,s)\n",
    "print(l)"
   ]
  },
  {
   "cell_type": "code",
   "execution_count": 20,
   "metadata": {},
   "outputs": [
    {
     "name": "stdout",
     "output_type": "stream",
     "text": [
      "['abcd']\n"
     ]
    }
   ],
   "source": [
    "s = \"abcdPQR123\"\n",
    "r = re.compile(\"[a-z]+[0-9]*\")  # checks one or more occurence of alpha and zero or more occurence of digits\n",
    "l = re.findall(r,s)\n",
    "print(l)"
   ]
  },
  {
   "cell_type": "code",
   "execution_count": 21,
   "metadata": {},
   "outputs": [
    {
     "name": "stdout",
     "output_type": "stream",
     "text": [
      "['abcd12347']\n"
     ]
    }
   ],
   "source": [
    "s = \"abcd1234789\"\n",
    "r = re.compile(\"[a-z]{4}[0-9]{3,5}\")   # checks four occurence of alpha and min 3 to max 5 occurence of digit\n",
    "l = re.findall(r,s)\n",
    "print(l)"
   ]
  },
  {
   "cell_type": "code",
   "execution_count": 22,
   "metadata": {},
   "outputs": [
    {
     "name": "stdout",
     "output_type": "stream",
     "text": [
      "[]\n"
     ]
    }
   ],
   "source": [
    "s = \"abcd1234pqr789\"\n",
    "r = re.compile(\"^[a-z]+[0-9]+$\")   # the string must start with alph, there must be one or more occurence of alph, and one or \n",
    "                                    # more occurence of digits and the string must end with digit\n",
    "l = re.findall(r,s)\n",
    "print(l)"
   ]
  },
  {
   "cell_type": "code",
   "execution_count": 23,
   "metadata": {},
   "outputs": [
    {
     "name": "stdout",
     "output_type": "stream",
     "text": [
      "['ABCDE1234A', 'ABCDE1234A']\n"
     ]
    }
   ],
   "source": [
    "s = \"ABCDE1234A,ABCDE1234A\"\n",
    "# Indian PAN Card:\n",
    "# 5 chars \n",
    "# 4 digits \n",
    "# 1 char \n",
    "\n",
    "r = re.compile(\"[A-Z]{5}[0-9]{4}[A-Z]\")\n",
    "l = re.findall(r,s)\n",
    "print(l)"
   ]
  },
  {
   "cell_type": "code",
   "execution_count": 24,
   "metadata": {},
   "outputs": [
    {
     "name": "stdout",
     "output_type": "stream",
     "text": [
      "Not a valid PAN\n"
     ]
    }
   ],
   "source": [
    "# check if a given pan card is valid or not:\n",
    "s = \"ABCDE123A,ABCDE123A\"\n",
    "# 5 chars \n",
    "# 4 digits \n",
    "# 1 char \n",
    "\n",
    "r = re.compile(\"[A-Z]{5}[0-9]{4}[A-Z]\")\n",
    "m = re.search(r,s)   # search always gives the first occurence of r, it returns the first match object \n",
    "if m:\n",
    "    print(m.group())   # group prints the searched pattern by search\n",
    "else:\n",
    "    print(\"Not a valid PAN\")\n"
   ]
  },
  {
   "cell_type": "code",
   "execution_count": 4,
   "metadata": {},
   "outputs": [
    {
     "name": "stdout",
     "output_type": "stream",
     "text": [
      "2020\n"
     ]
    }
   ],
   "source": [
    "import re\n",
    "d = \"12-12-2020\"\n",
    "r = re.compile(\"([0-9]{2})-([0-9]{2})-([0-9]{4})\")\n",
    "m = re.search(r,d)\n",
    "if m :\n",
    "    print(m.group(3))   # 1: is date , 2: month, 3: year\n",
    "else:\n",
    "    print(\"Invalid date\")"
   ]
  },
  {
   "cell_type": "code",
   "execution_count": 26,
   "metadata": {},
   "outputs": [
    {
     "name": "stdout",
     "output_type": "stream",
     "text": [
      "2020\n"
     ]
    }
   ],
   "source": [
    "d = \"12-12-2020\"\n",
    "r = re.compile(\"(?P<day>[0-9]{2})-(?P<month>[0-9]{2})-(?P<year>[0-9]{4})\")\n",
    "m = re.search(r,d)\n",
    "if m :\n",
    "    print(m.group(\"year\"))   # getting values by keyword\n",
    "else:\n",
    "    print(\"Invalid date\")"
   ]
  },
  {
   "cell_type": "code",
   "execution_count": 27,
   "metadata": {},
   "outputs": [
    {
     "name": "stdout",
     "output_type": "stream",
     "text": [
      "(+91)9123456789\n"
     ]
    }
   ],
   "source": [
    "s = \"(+91)9123456789\"\n",
    "s1 = \"9123456789\"\n",
    "r = re.compile(\"^(\\(\\+91\\))?[6-9][0-9]{9}$\")   # (+91) is optional\n",
    "m = re.search(r,s)\n",
    "if m:\n",
    "    print(m.group())\n",
    "else:\n",
    "    print(\"Invalid phone number\")"
   ]
  },
  {
   "cell_type": "markdown",
   "metadata": {},
   "source": [
    "# Session 18: RegEx part 2"
   ]
  },
  {
   "cell_type": "code",
   "execution_count": null,
   "metadata": {},
   "outputs": [],
   "source": [
    "search => match object  => group\n",
    "findall => list \n",
    "compile"
   ]
  },
  {
   "cell_type": "code",
   "execution_count": null,
   "metadata": {},
   "outputs": [],
   "source": [
    "[^a-z] => this will match everything except a-z"
   ]
  },
  {
   "cell_type": "code",
   "execution_count": 40,
   "metadata": {},
   "outputs": [
    {
     "name": "stdout",
     "output_type": "stream",
     "text": [
      "['a', 'b', 'c', 'd']\n"
     ]
    }
   ],
   "source": [
    "s = \"abcd1234\"\n",
    "r = re.compile(\"[^0-9]\")\n",
    "l = re.findall(r,s)\n",
    "print(l)"
   ]
  },
  {
   "cell_type": "code",
   "execution_count": null,
   "metadata": {},
   "outputs": [],
   "source": [
    "[a-zA-Z0-9] => \\w\n",
    "[^a-zA-Z0-9] => \\W\n",
    "\n",
    "[0-9] => \\d\n",
    "[^0-9]=> \\D\n",
    "\n",
    "space => \\s\n",
    "^space => \\S"
   ]
  },
  {
   "cell_type": "code",
   "execution_count": 41,
   "metadata": {},
   "outputs": [
    {
     "name": "stdout",
     "output_type": "stream",
     "text": [
      "12-12-2020\n"
     ]
    }
   ],
   "source": [
    "d = \"12-12-2020\"\n",
    "r = re.compile(\"(?P<day>\\d{2})-(?P<month>\\d{2})-(?P<year>\\d{4})\")\n",
    "m = re.search(r,d)\n",
    "if m :\n",
    "    print(m.group())\n",
    "else:\n",
    "    print(\"Invalid date\")"
   ]
  },
  {
   "cell_type": "code",
   "execution_count": 42,
   "metadata": {},
   "outputs": [
    {
     "name": "stdout",
     "output_type": "stream",
     "text": [
      "(+91)9123456789\n"
     ]
    }
   ],
   "source": [
    "s = \"(+91)9123456789\"\n",
    "s1 = \"9123456789\"\n",
    "r = re.compile(\"^(\\(\\+91\\))?[6-9][0-9]{9}$\")\n",
    "m = re.search(r,s)\n",
    "if m:\n",
    "    print(m.group())\n",
    "else:\n",
    "    print(\"Invalid phone number\")"
   ]
  },
  {
   "cell_type": "code",
   "execution_count": null,
   "metadata": {},
   "outputs": [],
   "source": [
    "\n",
    "s = \"abc123@gmail.com\"\n",
    "\"abc123@xyz.ac.in\""
   ]
  },
  {
   "cell_type": "code",
   "execution_count": null,
   "metadata": {},
   "outputs": [],
   "source": [
    "- only 1 @\n",
    "- all lower case\n",
    "- . and _\n",
    "- . followed by atleast one char or digit and same with _"
   ]
  },
  {
   "cell_type": "code",
   "execution_count": null,
   "metadata": {},
   "outputs": [],
   "source": [
    "Valid:\n",
    "    abc@xyz.com => pass\n",
    "    abc@xyz.co.in => fail\n",
    "    123@xyz.com => pass\n",
    "    a1.b_3@xyz.com => fail\n",
    "    a1_3.b@xyz.com => fail\n",
    "    a.1.2.3_b_c_d@xyz.com => fail\n",
    "    a@gmail.com => pass\n",
    "    \n",
    "Invalid:\n",
    "    abc._@xyz.com\n",
    "    ab@123@xyz.com\n",
    "    ab12#34@xyz.com\n",
    "    @xyz.com"
   ]
  },
  {
   "cell_type": "code",
   "execution_count": 43,
   "metadata": {},
   "outputs": [
    {
     "name": "stdout",
     "output_type": "stream",
     "text": [
      "abc._h@vc.co\n"
     ]
    }
   ],
   "source": [
    "s = \"abc._h@vc.co.in\"\n",
    "r = re.compile(\"\\w+(\\.\\w+)?(\\_\\w+)?@\\w+\\.\\w{2,3}\")\n",
    "m = re.search(r,s)\n",
    "if m:\n",
    "    print(m.group())\n",
    "else:\n",
    "    print(\"Invalid pattern\")"
   ]
  },
  {
   "cell_type": "code",
   "execution_count": 7,
   "metadata": {},
   "outputs": [
    {
     "name": "stdout",
     "output_type": "stream",
     "text": [
      "Invalid pattern\n"
     ]
    }
   ],
   "source": [
    "s = \"abc._h@vc.com\"\n",
    "r = re.compile(\"^[a-z0-9]+(\\.[a-z0-9]+)*?(\\_[a-z0-9]+)*?@[a-z0-9]+\\.[a-z0-9]{2,3}$\")\n",
    "m = re.search(r,s)\n",
    "if m:\n",
    "    print(m.group())\n",
    "else:\n",
    "    print(\"Invalid pattern\")"
   ]
  },
  {
   "cell_type": "code",
   "execution_count": 45,
   "metadata": {},
   "outputs": [
    {
     "name": "stdout",
     "output_type": "stream",
     "text": [
      "Invalid pattern\n"
     ]
    }
   ],
   "source": [
    "s = \"abc@xyz.99\"\n",
    "r = re.compile(\"^[a-z0-9]+((\\.[a-z0-9]+)*(\\_[a-z0-9]+)*)*@[a-z0-9]+(\\.[a-z]{2,3})+$\")\n",
    "m = re.search(r,s)\n",
    "if m:\n",
    "    print(m.group())\n",
    "else:\n",
    "    print(\"Invalid pattern\")"
   ]
  },
  {
   "cell_type": "code",
   "execution_count": null,
   "metadata": {},
   "outputs": [],
   "source": [
    "s = \"the code is available here https://www.github.com/edyoda/ds/a.ipynb or http://www.edyoda.com/code/ds/a.ipynb\"\n",
    "\n",
    "<a href=\"www.google.com\">click here</a>\n",
    "\n",
    "https://www.github.com/edyoda/ds/a.ipynb\n",
    "<a href = \"https://www.github.com/edyoda/ds/a.ipynb\">https://www.github.com/edyoda/ds/a.ipynb</a>"
   ]
  },
  {
   "cell_type": "code",
   "execution_count": 22,
   "metadata": {},
   "outputs": [
    {
     "name": "stdout",
     "output_type": "stream",
     "text": [
      "[('https://www.github', '.com', '/a.ipynb'), ('http://www.edyoda', '.com', '/a.ipynb')]\n"
     ]
    }
   ],
   "source": [
    "s = \"the code is available here https://www.github.com/edyoda/ds/a.ipynb or http://www.edyoda.com/code/ds/a.ipynb\"\n",
    "r = re.compile(\"(https?://www\\.[a-z0-9-]+)(\\.[a-z]{2,3})+(/[a-z0-9]+\\.?[a-z0-9]*)*\")\n",
    "l = re.findall(r,s)\n",
    "print(l)\n",
    "# m = re.search(r,s)\n",
    "# print(m)\n",
    "# if m:\n",
    "#     print(m.group())\n",
    "# else:\n",
    "#     print(\"Invalid url\")"
   ]
  },
  {
   "cell_type": "code",
   "execution_count": null,
   "metadata": {},
   "outputs": [],
   "source": [
    "Problem Statement:\n",
    "\n",
    "Keyword density is a foundational aspect of on-page SEO. When used correctly, it can help attract search engines and \n",
    "boost a page’s visibility on search engine results pages (SERPs). Formula to calculate the keyword density :\n",
    "\n",
    "keyword density = Number of times the target keyword appears / Number of words on a webpage = Keyword density\n",
    "\n",
    "eg : 20 (Number of times “project management” appears on the page) / 1,000 (Number of words on the webpage) = \n",
    "    2% (Keyword density)\n",
    "\n",
    "Write a program to find out 10 words with highest keyword density from a given text file.\n",
    "Given a set of keywords calulate the keyword density for the same."
   ]
  },
  {
   "cell_type": "code",
   "execution_count": 18,
   "metadata": {},
   "outputs": [
    {
     "name": "stdout",
     "output_type": "stream",
     "text": [
      "data\n",
      "0.0014760147601476014\n",
      "|\n",
      "your\n",
      "you\n",
      "years\n",
      "For\n",
      "years\n",
      "would\n",
      "world\n",
      "worked\n",
      "work,\n",
      "work\n",
      "One\n"
     ]
    }
   ],
   "source": [
    "Problem Statement:\n",
    "\n",
    "Keyword density is a foundational aspect of on-page SEO. When used correctly, it can help attract search engines and \n",
    "boost a page’s visibility on search engine results pages (SERPs). Formula to calculate the keyword density :\n",
    "\n",
    "keyword density = Number of times the target keyword appears / Number of words on a webpage = Keyword density\n",
    "\n",
    "eg : 20 (Number of times “project management” appears on the page) / 1,000 (Number of words on the webpage) = \n",
    "    2% (Keyword density)\n",
    "\n",
    "Write a program to find out 10 words with highest keyword density from a given text file.\n",
    "Given a set of keywords calulate the keyword density for the same.\n",
    "\n",
    "\n",
    "fp = open(\"edyoda_story.txt\",\"r\")\n",
    "content = fp.read()\n",
    "fp.close()\n",
    "#print(content)\n",
    "total_words = content.split(\" \")\n",
    "# print(total_words)\n",
    "total_words_count = len(total_words)\n",
    "\n",
    "keyword = input()\n",
    "\n",
    "# Calculating keyword density\n",
    "keyword_density = content.count(keyword) / total_words_count\n",
    "print(keyword_density)\n",
    "\n",
    "# 10 words with highest keyword density\n",
    "d = {}\n",
    "for item in total_words:\n",
    "    d[item] = content.count(item)/total_words_count\n",
    "i = 0\n",
    "for item in sorted(d.items(),reverse=True):\n",
    "    print(item[0])\n",
    "    i += 1\n",
    "    if i == 10:\n",
    "        break\n",
    "        \n",
    "    "
   ]
  },
  {
   "cell_type": "markdown",
   "metadata": {},
   "source": [
    "# Session 19: Comprehension"
   ]
  },
  {
   "cell_type": "code",
   "execution_count": null,
   "metadata": {},
   "outputs": [],
   "source": [
    "When we use comprehension?\n",
    "When we are performing same set of operation on each and every element from the iterable and there is no connection between\n",
    "output of second element with the output of first element."
   ]
  },
  {
   "cell_type": "code",
   "execution_count": null,
   "metadata": {},
   "outputs": [],
   "source": [
    "List Comprehension:\n",
    "    [output expression for value in l filtering conditions]"
   ]
  },
  {
   "cell_type": "code",
   "execution_count": 1,
   "metadata": {},
   "outputs": [
    {
     "name": "stdout",
     "output_type": "stream",
     "text": [
      "[100, 400, 900, 1600, 2500, 3600]\n"
     ]
    }
   ],
   "source": [
    "l = [10,20,30,40,50,60]\n",
    "l2 = [value * value for value in l]\n",
    "print(l2)"
   ]
  },
  {
   "cell_type": "code",
   "execution_count": 2,
   "metadata": {},
   "outputs": [
    {
     "name": "stdout",
     "output_type": "stream",
     "text": [
      "[3, 4, 9, 13]\n"
     ]
    }
   ],
   "source": [
    "l = ['abc','abcd','aabbccddd','eeeeeeaaaaaaa']\n",
    "l2 =[len(value) for value in l]\n",
    "print(l2)"
   ]
  },
  {
   "cell_type": "code",
   "execution_count": 3,
   "metadata": {},
   "outputs": [
    {
     "name": "stdout",
     "output_type": "stream",
     "text": [
      "['ac', 'ad', 'ad', 'ea']\n"
     ]
    }
   ],
   "source": [
    "l = ['abc','abcd','aabbccddd','eeeeeeaaaaaaa']\n",
    "l2 = [value[0]+value[-1] for value in l]\n",
    "print(l2)"
   ]
  },
  {
   "cell_type": "code",
   "execution_count": 4,
   "metadata": {},
   "outputs": [
    {
     "name": "stdout",
     "output_type": "stream",
     "text": [
      "[24, 11, 14, 49, 21]\n"
     ]
    }
   ],
   "source": [
    "import random\n",
    "l2 = [random.randint(10,50) for index in range(5)]\n",
    "print(l2)"
   ]
  },
  {
   "cell_type": "code",
   "execution_count": 5,
   "metadata": {},
   "outputs": [],
   "source": [
    "import timeit    # this module is used to calculate the time of execution for given python program."
   ]
  },
  {
   "cell_type": "code",
   "execution_count": 28,
   "metadata": {},
   "outputs": [
    {
     "name": "stdout",
     "output_type": "stream",
     "text": [
      "0.10147389999997358\n"
     ]
    }
   ],
   "source": [
    "t = timeit.timeit(stmt = \"\"\" \n",
    "l2 =[]\n",
    "for value in range(1,100000):\n",
    "    l2.append(value * value)\n",
    "\"\"\",number = 1   # number is the total number of execution of python program we want, in this case the python program will be \n",
    "                 # executed one time)\n",
    "print(t)"
   ]
  },
  {
   "cell_type": "code",
   "execution_count": 29,
   "metadata": {},
   "outputs": [
    {
     "name": "stdout",
     "output_type": "stream",
     "text": [
      "0.040779899999961344\n"
     ]
    }
   ],
   "source": [
    "t = timeit.timeit(stmt = \"\"\"\n",
    "l2 = [value * value for value in range(1,100000)]\n",
    "\"\"\",number = 1)\n",
    "print(t)"
   ]
  },
  {
   "cell_type": "code",
   "execution_count": 8,
   "metadata": {},
   "outputs": [
    {
     "name": "stdout",
     "output_type": "stream",
     "text": [
      "[10, 20, 30, 40]\n"
     ]
    }
   ],
   "source": [
    "l = [10,15,20,25,30,35,40,45]\n",
    "l2 = [value for value in l if value % 2 == 0]\n",
    "print(l2)"
   ]
  },
  {
   "cell_type": "code",
   "execution_count": 9,
   "metadata": {},
   "outputs": [
    {
     "ename": "SyntaxError",
     "evalue": "invalid syntax (<ipython-input-9-27f0690465f1>, line 4)",
     "output_type": "error",
     "traceback": [
      "\u001b[1;36m  File \u001b[1;32m\"<ipython-input-9-27f0690465f1>\"\u001b[1;36m, line \u001b[1;32m4\u001b[0m\n\u001b[1;33m    l2 = [str1 for val in l if val % 2 == 0 str1 = \"even\" else str1 = \"odd\"]\u001b[0m\n\u001b[1;37m                                               ^\u001b[0m\n\u001b[1;31mSyntaxError\u001b[0m\u001b[1;31m:\u001b[0m invalid syntax\n"
     ]
    }
   ],
   "source": [
    "l = [10,15,20,25,30,35,40,45]\n",
    "# l2 = [Even,Odd,Even,Odd.....]\n",
    "str1 = \"\"\n",
    "l2 = [str1 for val in l if val % 2 == 0 str1 = \"even\" else str1 = \"odd\"]\n",
    "print(l2)"
   ]
  },
  {
   "cell_type": "code",
   "execution_count": 10,
   "metadata": {},
   "outputs": [
    {
     "name": "stdout",
     "output_type": "stream",
     "text": [
      "['Odd', 'Even', 'Odd']\n"
     ]
    }
   ],
   "source": [
    "l = [10,15,20,25,30,35,40,45]\n",
    "l2 = [\"Even\" if value %2 == 0 else \"Odd\" for value in l if value % 3 == 0]\n",
    "print(l2)"
   ]
  },
  {
   "cell_type": "code",
   "execution_count": null,
   "metadata": {},
   "outputs": [],
   "source": [
    "[output_true] condition else [output_false]"
   ]
  },
  {
   "cell_type": "code",
   "execution_count": 11,
   "metadata": {},
   "outputs": [
    {
     "name": "stdout",
     "output_type": "stream",
     "text": [
      "1 101\n",
      "1 102\n",
      "1 103\n",
      "1 104\n",
      "2 101\n",
      "2 102\n",
      "2 103\n",
      "2 104\n",
      "3 101\n",
      "3 102\n",
      "3 103\n",
      "3 104\n",
      "4 101\n",
      "4 102\n",
      "4 103\n",
      "4 104\n"
     ]
    }
   ],
   "source": [
    "for value1 in range(1,5):\n",
    "    for value2 in range(101,105):\n",
    "        print(value1,value2)"
   ]
  },
  {
   "cell_type": "code",
   "execution_count": 12,
   "metadata": {},
   "outputs": [
    {
     "name": "stdout",
     "output_type": "stream",
     "text": [
      "[(1, 101), (1, 102), (1, 103), (1, 104), (2, 101), (2, 102), (2, 103), (2, 104), (3, 101), (3, 102), (3, 103), (3, 104), (4, 101), (4, 102), (4, 103), (4, 104)]\n"
     ]
    }
   ],
   "source": [
    "l2 = [(value1,value2) for value1 in range(1,5) for value2 in range(101,105)]\n",
    "print(l2)"
   ]
  },
  {
   "cell_type": "code",
   "execution_count": 13,
   "metadata": {},
   "outputs": [
    {
     "name": "stdout",
     "output_type": "stream",
     "text": [
      "[1, 2, 3, 4, 5, 6, 7, 8, 9]\n"
     ]
    }
   ],
   "source": [
    "l = [[1,2,3],[4,5,6],[7,8,9]]\n",
    "# l2 = [1,2,3,4,5,6,7,8,9]\n",
    "l2 = [value2 for value in l for value2 in value]\n",
    "print(l2)"
   ]
  },
  {
   "cell_type": "code",
   "execution_count": null,
   "metadata": {},
   "outputs": [],
   "source": [
    "every comprehension can be converted into for loop but you can not convert every for loop to the comprehension"
   ]
  },
  {
   "cell_type": "code",
   "execution_count": 14,
   "metadata": {},
   "outputs": [
    {
     "name": "stdout",
     "output_type": "stream",
     "text": [
      "[[1, 4, 7], [2, 5, 8], [3, 6, 9]]\n"
     ]
    }
   ],
   "source": [
    "l = [[1,2,3],[4,5,6],[7,8,9]]\n",
    "# l2 = [[1,4,7],[2,5,8],[3,6,9]]\n",
    "l2 = [[value[index] for value in l] for index in range(len(l[0]))]\n",
    "print(l2)"
   ]
  },
  {
   "cell_type": "code",
   "execution_count": null,
   "metadata": {},
   "outputs": [],
   "source": [
    "[output loop filtering condition]\n",
    "\n",
    "[output_true condition else output_false ]"
   ]
  },
  {
   "cell_type": "code",
   "execution_count": 15,
   "metadata": {},
   "outputs": [
    {
     "name": "stdout",
     "output_type": "stream",
     "text": [
      "{1: 1, 2: 4, 3: 9, 4: 16, 5: 25, 6: 36, 7: 49, 8: 64, 9: 81, 10: 100}\n"
     ]
    }
   ],
   "source": [
    "d = {key:key*key for key in range(1,11)}\n",
    "print(d)"
   ]
  },
  {
   "cell_type": "code",
   "execution_count": 16,
   "metadata": {},
   "outputs": [
    {
     "name": "stdout",
     "output_type": "stream",
     "text": [
      "{'a': 97, 'b': 98, 'c': 99, 'd': 100, 'e': 101, 'f': 102, 'g': 103, 'h': 104, 'i': 105, 'j': 106, 'k': 107, 'l': 108, 'm': 109, 'n': 110, 'o': 111, 'p': 112, 'q': 113, 'r': 114, 's': 115, 't': 116, 'u': 117, 'v': 118, 'w': 119, 'x': 120, 'y': 121, 'z': 122}\n",
      "{98: 'b', 100: 'd', 102: 'f', 104: 'h', 106: 'j', 108: 'l', 110: 'n', 112: 'p', 114: 'r', 116: 't', 118: 'v', 120: 'x', 122: 'z'}\n"
     ]
    }
   ],
   "source": [
    "d = {chr(value):value for value in range(97,123)}\n",
    "print(d)\n",
    "\n",
    "d2 = {value:key for key,value in d.items() if value % 2 == 0}\n",
    "print(d2)"
   ]
  },
  {
   "cell_type": "code",
   "execution_count": 17,
   "metadata": {},
   "outputs": [
    {
     "name": "stdout",
     "output_type": "stream",
     "text": [
      "{'a': 97, 'b': 98, 'c': 99, 'd': 100, 'e': 101, 'f': 102, 'g': 103, 'h': 104, 'i': 105, 'j': 106, 'k': 107, 'l': 108, 'm': 109, 'n': 110, 'o': 111, 'p': 112, 'q': 113, 'r': 114, 's': 115, 't': 116, 'u': 117, 'v': 118, 'w': 119, 'x': 120, 'y': 121, 'z': 122}\n",
      "{'a': 97, 98: 'b', 'c': 99, 100: 'd', 'e': 101, 102: 'f', 'g': 103, 104: 'h', 'i': 105, 106: 'j', 'k': 107, 108: 'l', 'm': 109, 110: 'n', 'o': 111, 112: 'p', 'q': 113, 114: 'r', 's': 115, 116: 't', 'u': 117, 118: 'v', 'w': 119, 120: 'x', 'y': 121, 122: 'z'}\n"
     ]
    }
   ],
   "source": [
    "d = {chr(value):value for value in range(97,123)}\n",
    "print(d)\n",
    "\n",
    "d2 = {value if value % 2 == 0 else key : key if value%2 == 0 else value for key,value in d.items()}\n",
    "print(d2)"
   ]
  },
  {
   "cell_type": "code",
   "execution_count": 18,
   "metadata": {},
   "outputs": [
    {
     "name": "stdout",
     "output_type": "stream",
     "text": [
      "{0, 3, 4}\n"
     ]
    }
   ],
   "source": [
    "l = [10,15,20,15,45,43,85,78,89]\n",
    "l2 = {value%5 for value in l}\n",
    "print(l2)"
   ]
  },
  {
   "cell_type": "code",
   "execution_count": 19,
   "metadata": {},
   "outputs": [
    {
     "name": "stdout",
     "output_type": "stream",
     "text": [
      "<generator object <genexpr> at 0x00000192304F5A20>\n"
     ]
    }
   ],
   "source": [
    "l = [10,15,20,15,45,43,85,78,89]\n",
    "l2 = (value * value for value in l)\n",
    "print(l2)"
   ]
  },
  {
   "cell_type": "markdown",
   "metadata": {},
   "source": [
    "# Session 20: Map, filter and generator"
   ]
  },
  {
   "cell_type": "code",
   "execution_count": 20,
   "metadata": {},
   "outputs": [
    {
     "ename": "SyntaxError",
     "evalue": "invalid syntax (<ipython-input-20-d69ea90a562d>, line 4)",
     "output_type": "error",
     "traceback": [
      "\u001b[1;36m  File \u001b[1;32m\"<ipython-input-20-d69ea90a562d>\"\u001b[1;36m, line \u001b[1;32m4\u001b[0m\n\u001b[1;33m    d2 = {value : key if value % 2 == 0 else key: value for key,value in d.items()}\u001b[0m\n\u001b[1;37m                                                ^\u001b[0m\n\u001b[1;31mSyntaxError\u001b[0m\u001b[1;31m:\u001b[0m invalid syntax\n"
     ]
    }
   ],
   "source": [
    "d = {chr(value):value for value in range(97,123)}\n",
    "print(d)\n",
    "\n",
    "d2 = {value : key if value % 2 == 0 else key: value for key,value in d.items()}\n",
    "print(d2)"
   ]
  },
  {
   "cell_type": "code",
   "execution_count": 21,
   "metadata": {},
   "outputs": [
    {
     "name": "stdout",
     "output_type": "stream",
     "text": [
      "{'a': 97, 98: 'b', 'c': 99, 100: 'd', 'e': 101, 102: 'f', 'g': 103, 104: 'h', 'i': 105, 106: 'j', 'k': 107, 108: 'l', 'm': 109, 110: 'n', 'o': 111, 112: 'p', 'q': 113, 114: 'r', 's': 115, 116: 't', 'u': 117, 118: 'v', 'w': 119, 120: 'x', 'y': 121, 122: 'z'}\n"
     ]
    }
   ],
   "source": [
    "d = {chr(value):value for value in range(97,123)}\n",
    "# print(d)\n",
    "\n",
    "d2 = {value if value % 2 == 0 else key :key if value % 2 == 0 else value for key,value in d.items()}\n",
    "print(d2)"
   ]
  },
  {
   "cell_type": "code",
   "execution_count": null,
   "metadata": {},
   "outputs": [],
   "source": [
    "output_true if condtion else output_false"
   ]
  },
  {
   "cell_type": "code",
   "execution_count": null,
   "metadata": {},
   "outputs": [],
   "source": [
    "m = map(func,iterables)\n",
    "# map is a built in function which takes two arguments, first is function and sec is iterables like list dict, set, string, etc.\n",
    "# it takes one value at a time from the iterables and pass it to the function and give a call to the particular function\n"
   ]
  },
  {
   "cell_type": "code",
   "execution_count": 22,
   "metadata": {},
   "outputs": [
    {
     "name": "stdout",
     "output_type": "stream",
     "text": [
      "100\n"
     ]
    }
   ],
   "source": [
    "def sqr(num1):\n",
    "    return num1 * num1\n",
    "    \n",
    "l = [10,20,30,40,50]\n",
    "m = map(sqr,l)\n",
    "# print((m))\n",
    "\n",
    "# for value in m:\n",
    "#     print(value)\n",
    "\n",
    "print(next(m))    # next func will execute the above function only for one number at a time"
   ]
  },
  {
   "cell_type": "code",
   "execution_count": 33,
   "metadata": {},
   "outputs": [
    {
     "name": "stdout",
     "output_type": "stream",
     "text": [
      "3.5000000480067683e-06\n"
     ]
    }
   ],
   "source": [
    "t = timeit.timeit(stmt = \"\"\"\n",
    "def sqr(num1):\n",
    "    return num1 * num1\n",
    "\n",
    "m = map(sqr,range(1,100000))\n",
    "\n",
    "\"\"\",number = 1)\n",
    "print(t)     # map function is a lazy function, they have not calculated square for even a single number\n",
    "            # it has just created a map object which is referenced by m, and have not started the execution\n",
    "            # it will start executing when we evaluate this map object\n",
    "          # it will evaluate when we typecast it to list or tuple or set or we can iterate over m and print out the items in it\n",
    "# Below time is just for creating the map object"
   ]
  },
  {
   "cell_type": "code",
   "execution_count": null,
   "metadata": {},
   "outputs": [],
   "source": [
    "The main thing when exactly we will be using map and filter depends on how many values we need at a time\n",
    "Whenever we have a large set of values and we want a lazy execution\n",
    "what is lazy execution:\n",
    "    let's say we have one million records in a csv file, for training purpose definately we have limited resources so we cannot\n",
    "    just read the entire data at one go and use it for training purpose. so let's say we want a one chunk of it and train the \n",
    "    modell on the basis of that after this we want another chunk of it and then train the model on the basis of it. This way we \n",
    "    can pickle our operations as well.\n",
    "    \n",
    "    another case:\n",
    "        consider the db of instagram or facebook, where if they just fire up a select * from a table name then they will be \n",
    "        getting millions of records. here we cannot fetch each and every data present in the database and start processing\n",
    "        here we definitely divide these data into batches and will be doing batch processing. so in this type of scenarios map \n",
    "        and filter will be very handy.\n",
    "        \n",
    "in case of map if the length of the input is x then lenght of the output will also be x. using map we cannot filter out elements\n",
    "this is the reason we have another function called filter."
   ]
  },
  {
   "cell_type": "code",
   "execution_count": 32,
   "metadata": {},
   "outputs": [
    {
     "name": "stdout",
     "output_type": "stream",
     "text": [
      "0.02963640000007217\n"
     ]
    }
   ],
   "source": [
    "t = timeit.timeit(stmt = \"\"\"\n",
    "def sqr(num1):\n",
    "    return num1 * num1\n",
    "\n",
    "m = map(sqr,range(1,100000))\n",
    "l = list(m)\n",
    "\"\"\",number = 1)\n",
    "print(t)"
   ]
  },
  {
   "cell_type": "code",
   "execution_count": 34,
   "metadata": {},
   "outputs": [
    {
     "name": "stdout",
     "output_type": "stream",
     "text": [
      "[6, 28]\n"
     ]
    }
   ],
   "source": [
    "def perfect_num(num1):\n",
    "    total = 0\n",
    "    for value in range(1,num1):\n",
    "        if num1 % value == 0:\n",
    "            total+=value\n",
    "    if total == num1:\n",
    "        return True\n",
    "    else:\n",
    "        return False\n",
    "    \n",
    "f = filter(perfect_num,range(1,101))  # filter will filter out the values for which the answer is true\n",
    "print(list(f))"
   ]
  },
  {
   "cell_type": "code",
   "execution_count": 35,
   "metadata": {},
   "outputs": [
    {
     "name": "stdout",
     "output_type": "stream",
     "text": [
      "['abea', 'azwyu', 'qqqqqq', 'abzaaaaaaaa']\n"
     ]
    }
   ],
   "source": [
    "l = ['abzaaaaaaaa','abea','azwyu','qqqqqq']\n",
    "l2 = sorted(l,key = len)    # sorted on the basis of len of string\n",
    "print(l2)"
   ]
  },
  {
   "cell_type": "code",
   "execution_count": null,
   "metadata": {},
   "outputs": [],
   "source": [
    "the performace of map and filter can be improved further using lambda function\n",
    "lambda function:\n",
    "                these functions are anonymous function which will be executed then and there\n",
    "                we can relate this to cpp inline functions\n",
    "                a programming language does not need to transfer the control to the function call execute it and then come back\n",
    "                so no involvement of stack\n",
    "                this expression gets executed as an expression\n",
    "                lambda function is only for small set of statement"
   ]
  },
  {
   "cell_type": "code",
   "execution_count": 36,
   "metadata": {},
   "outputs": [
    {
     "name": "stdout",
     "output_type": "stream",
     "text": [
      "{40: 10, 50: 20, 30: 30, 20: 40, 10: 50}\n"
     ]
    }
   ],
   "source": [
    "d = {50:20,40:10,30:30,20:40,10:50}\n",
    "l = dict(sorted(d.items(),key= lambda x:x[1]))    # sorted on the basis of value of dictioinary\n",
    "print(l)"
   ]
  },
  {
   "cell_type": "code",
   "execution_count": null,
   "metadata": {},
   "outputs": [],
   "source": [
    "Iterators :\n",
    "    Any object which supports,\n",
    "    __iter__\n",
    "    __next__\n",
    "    that type of objects are known as iterators.\n",
    "If a particular object supports only __iter__ then this type of object can be converted into iterators.\n",
    "The job of iterator is just to iterate from start to end.\n",
    "iterators are not meant to access the individual element by using set of indexing."
   ]
  },
  {
   "cell_type": "code",
   "execution_count": 37,
   "metadata": {},
   "outputs": [
    {
     "name": "stdout",
     "output_type": "stream",
     "text": [
      "['__add__', '__class__', '__contains__', '__delattr__', '__delitem__', '__dir__', '__doc__', '__eq__', '__format__', '__ge__', '__getattribute__', '__getitem__', '__gt__', '__hash__', '__iadd__', '__imul__', '__init__', '__init_subclass__', '__iter__', '__le__', '__len__', '__lt__', '__mul__', '__ne__', '__new__', '__reduce__', '__reduce_ex__', '__repr__', '__reversed__', '__rmul__', '__setattr__', '__setitem__', '__sizeof__', '__str__', '__subclasshook__', 'append', 'clear', 'copy', 'count', 'extend', 'index', 'insert', 'pop', 'remove', 'reverse', 'sort']\n"
     ]
    }
   ],
   "source": [
    "print(dir(list))"
   ]
  },
  {
   "cell_type": "code",
   "execution_count": 38,
   "metadata": {},
   "outputs": [
    {
     "name": "stdout",
     "output_type": "stream",
     "text": [
      "<list_iterator object at 0x00000192305E9780>\n",
      "10\n",
      "20\n",
      "30\n",
      "40\n",
      "50\n",
      "60\n",
      "10\n",
      "20\n",
      "30\n",
      "40\n",
      "50\n",
      "60\n"
     ]
    }
   ],
   "source": [
    "l = [10,20,30,40,50,60]\n",
    "i = iter(l)\n",
    "print(i)    # here it has just created the list_iterator object not performed any set of operation.\n",
    "# for value in i:\n",
    "#     print(value)\n",
    "# in case of iterators it is consumed only once\n",
    "print(next(i))   # this line will print 10, after the execution of this line the pointer is at index 1\n",
    "\n",
    "# this for loop will print 20 30 40 50 60\n",
    "for value in i:\n",
    "    print(value)\n",
    "    \n",
    "# once an iterator is consumed we cannot use same iterator object to iterate\n",
    "# instead we can again define another iter j\n",
    "\n",
    "j = iter(l)\n",
    "# this for loop will print 10 20 30 40 50 60 \n",
    "for value in j:\n",
    "    print(value)"
   ]
  },
  {
   "cell_type": "code",
   "execution_count": null,
   "metadata": {},
   "outputs": [],
   "source": [
    "Generators :"
   ]
  },
  {
   "cell_type": "code",
   "execution_count": null,
   "metadata": {},
   "outputs": [],
   "source": [
    "normal functions doesn't maintain any state"
   ]
  },
  {
   "cell_type": "code",
   "execution_count": 39,
   "metadata": {},
   "outputs": [
    {
     "name": "stdout",
     "output_type": "stream",
     "text": [
      "30\n"
     ]
    }
   ],
   "source": [
    "def add(num1,num2):\n",
    "    return num1 + num2\n",
    "\n",
    "print(add(10,20))"
   ]
  },
  {
   "cell_type": "code",
   "execution_count": 41,
   "metadata": {},
   "outputs": [
    {
     "name": "stdout",
     "output_type": "stream",
     "text": [
      "<generator object fibo at 0x0000019230588228>\n",
      "0\n",
      "1\n",
      "1\n"
     ]
    }
   ],
   "source": [
    "def fibo():    # we can write any number of yield statement\n",
    "    first_num = 0\n",
    "    yield first_num\n",
    "    sec_num = 1 \n",
    "    yield sec_num\n",
    "    \n",
    "    while(True):\n",
    "        next_num = first_num + sec_num\n",
    "        yield next_num  \n",
    "        first_num,sec_num = sec_num,next_num\n",
    "\n",
    "r = fibo()\n",
    "print(r)\n",
    "print(next(r))\n",
    "print(next(r))\n",
    "print(next(r))"
   ]
  },
  {
   "cell_type": "code",
   "execution_count": 43,
   "metadata": {},
   "outputs": [
    {
     "name": "stdout",
     "output_type": "stream",
     "text": [
      "<generator object fibo at 0x00000192304F5A20>\n",
      "[0, 1, 1, 2, 3]\n",
      "[5, 8, 13, 21, 34]\n",
      "[55, 89, 144, 233, 377]\n"
     ]
    }
   ],
   "source": [
    "def fibo():    \n",
    "    first_num = 0\n",
    "    sec_num = 1 \n",
    "    result = [first_num,sec_num]\n",
    "    count = 2\n",
    "    while(True):\n",
    "        next_num = first_num + sec_num\n",
    "        result.append(next_num)\n",
    "        count+=1\n",
    "        if count == 5:\n",
    "            yield result\n",
    "            result = []\n",
    "            count = 0\n",
    "        first_num,sec_num = sec_num,next_num\n",
    "\n",
    "r = fibo()\n",
    "print(r)\n",
    "print(next(r))\n",
    "print(next(r))\n",
    "print(next(r))"
   ]
  },
  {
   "cell_type": "code",
   "execution_count": 44,
   "metadata": {},
   "outputs": [
    {
     "name": "stdout",
     "output_type": "stream",
     "text": [
      "<generator object print_val at 0x0000019230588228>\n",
      "10\n",
      "20\n",
      "30\n"
     ]
    },
    {
     "ename": "StopIteration",
     "evalue": "30",
     "output_type": "error",
     "traceback": [
      "\u001b[1;31m---------------------------------------------------------------------------\u001b[0m",
      "\u001b[1;31mStopIteration\u001b[0m                             Traceback (most recent call last)",
      "\u001b[1;32m<ipython-input-44-2800337a7a31>\u001b[0m in \u001b[0;36m<module>\u001b[1;34m\u001b[0m\n\u001b[0;32m     10\u001b[0m \u001b[0mprint\u001b[0m\u001b[1;33m(\u001b[0m\u001b[0mnext\u001b[0m\u001b[1;33m(\u001b[0m\u001b[0mg\u001b[0m\u001b[1;33m)\u001b[0m\u001b[1;33m)\u001b[0m\u001b[1;33m\u001b[0m\u001b[1;33m\u001b[0m\u001b[0m\n\u001b[0;32m     11\u001b[0m \u001b[0mprint\u001b[0m\u001b[1;33m(\u001b[0m\u001b[0mnext\u001b[0m\u001b[1;33m(\u001b[0m\u001b[0mg\u001b[0m\u001b[1;33m)\u001b[0m\u001b[1;33m)\u001b[0m\u001b[1;33m\u001b[0m\u001b[1;33m\u001b[0m\u001b[0m\n\u001b[1;32m---> 12\u001b[1;33m \u001b[0mprint\u001b[0m\u001b[1;33m(\u001b[0m\u001b[0mnext\u001b[0m\u001b[1;33m(\u001b[0m\u001b[0mg\u001b[0m\u001b[1;33m)\u001b[0m\u001b[1;33m)\u001b[0m\u001b[1;33m\u001b[0m\u001b[1;33m\u001b[0m\u001b[0m\n\u001b[0m",
      "\u001b[1;31mStopIteration\u001b[0m: 30"
     ]
    }
   ],
   "source": [
    "def print_val(l):    # we can combine yield and return statement in one function\n",
    "    for value in l:\n",
    "        yield value\n",
    "        if value == 30:\n",
    "            return 30     # when the value is 30 it will return from the func, from here onwards you don't have to maintain the\n",
    "                            # state, no need to generate the value so stop Iteration.\n",
    "l = [10,20,30,40,50,60]\n",
    "g = print_val(l)\n",
    "print(g)\n",
    "print(next(g))\n",
    "print(next(g))\n",
    "print(next(g))   # here the return statement will be executed and we will be out of the function\n",
    "print(next(g))   # since we returned out of thefunction in above line we do not have elements to iterate over."
   ]
  },
  {
   "cell_type": "code",
   "execution_count": 45,
   "metadata": {},
   "outputs": [
    {
     "name": "stdout",
     "output_type": "stream",
     "text": [
      "<generator object print_val at 0x0000019230628228>\n",
      "10\n",
      "20\n",
      "30\n",
      "40\n",
      "50\n",
      "60\n"
     ]
    },
    {
     "ename": "StopIteration",
     "evalue": "",
     "output_type": "error",
     "traceback": [
      "\u001b[1;31m---------------------------------------------------------------------------\u001b[0m",
      "\u001b[1;31mStopIteration\u001b[0m                             Traceback (most recent call last)",
      "\u001b[1;32m<ipython-input-45-68163885b28a>\u001b[0m in \u001b[0;36m<module>\u001b[1;34m\u001b[0m\n\u001b[0;32m     12\u001b[0m \u001b[0mprint\u001b[0m\u001b[1;33m(\u001b[0m\u001b[0mnext\u001b[0m\u001b[1;33m(\u001b[0m\u001b[0mg\u001b[0m\u001b[1;33m)\u001b[0m\u001b[1;33m)\u001b[0m\u001b[1;33m\u001b[0m\u001b[1;33m\u001b[0m\u001b[0m\n\u001b[0;32m     13\u001b[0m \u001b[0mprint\u001b[0m\u001b[1;33m(\u001b[0m\u001b[0mnext\u001b[0m\u001b[1;33m(\u001b[0m\u001b[0mg\u001b[0m\u001b[1;33m)\u001b[0m\u001b[1;33m)\u001b[0m\u001b[1;33m\u001b[0m\u001b[1;33m\u001b[0m\u001b[0m\n\u001b[1;32m---> 14\u001b[1;33m \u001b[0mprint\u001b[0m\u001b[1;33m(\u001b[0m\u001b[0mnext\u001b[0m\u001b[1;33m(\u001b[0m\u001b[0mg\u001b[0m\u001b[1;33m)\u001b[0m\u001b[1;33m)\u001b[0m\u001b[1;33m\u001b[0m\u001b[1;33m\u001b[0m\u001b[0m\n\u001b[0m",
      "\u001b[1;31mStopIteration\u001b[0m: "
     ]
    }
   ],
   "source": [
    "def print_val(l):\n",
    "    for value in l:\n",
    "        yield value\n",
    "\n",
    "l = [10,20,30,40,50,60]\n",
    "g = print_val(l)\n",
    "print(g)\n",
    "print(next(g))\n",
    "print(next(g))\n",
    "print(next(g))\n",
    "print(next(g))\n",
    "print(next(g))\n",
    "print(next(g))\n",
    "print(next(g))    # we reached the end of the list, there are no elements remain to iterate over the list.\n",
    "                    #from here onwards you don't have to maintain the\n",
    "                            # state, no need to generate the value so stop Iteration."
   ]
  },
  {
   "cell_type": "code",
   "execution_count": null,
   "metadata": {},
   "outputs": [],
   "source": [
    "Generators will help you to control the data processing side"
   ]
  },
  {
   "cell_type": "markdown",
   "metadata": {},
   "source": [
    "# Session 21: Itertools and Decorators"
   ]
  },
  {
   "cell_type": "code",
   "execution_count": 1,
   "metadata": {},
   "outputs": [],
   "source": [
    "import itertools"
   ]
  },
  {
   "cell_type": "code",
   "execution_count": 2,
   "metadata": {},
   "outputs": [
    {
     "name": "stdout",
     "output_type": "stream",
     "text": [
      "10\n",
      "20\n",
      "30\n",
      "40\n",
      "50\n",
      "P\n",
      "y\n",
      "t\n",
      "h\n",
      "o\n",
      "n\n",
      "1000\n",
      "1001\n",
      "1002\n",
      "1003\n",
      "1004\n"
     ]
    }
   ],
   "source": [
    "l1 = [10,20,30,40,50]\n",
    "l2 = \"Python\"\n",
    "l3 = range(1000,1005)\n",
    "\n",
    "i = itertools.chain(l1,l2,l3)  # it will create an object itertools_chain, and can evaluate using next, typecast, using for loop\n",
    "for value in i:\n",
    "    print(value)"
   ]
  },
  {
   "cell_type": "code",
   "execution_count": 3,
   "metadata": {},
   "outputs": [
    {
     "name": "stdout",
     "output_type": "stream",
     "text": [
      "(10, 'P', 1000)\n"
     ]
    }
   ],
   "source": [
    "l1 = [10,20,30,40,50]\n",
    "l2 = \"Python\"\n",
    "l3 = range(1000,1005)\n",
    "\n",
    "i = zip(l1,l2,l3)   # zip returns tuple of simultaneous elements from all iterables\n",
    "print(next(i))\n",
    "# for value in i:\n",
    "#     print(value)"
   ]
  },
  {
   "cell_type": "code",
   "execution_count": 4,
   "metadata": {},
   "outputs": [
    {
     "name": "stdout",
     "output_type": "stream",
     "text": [
      "(<itertools._tee object at 0x000001A9EDB9DE48>, <itertools._tee object at 0x000001A9EDB98B48>, <itertools._tee object at 0x000001A9EDB98708>, <itertools._tee object at 0x000001A9EDB98508>, <itertools._tee object at 0x000001A9EDB98808>)\n",
      "10\n",
      "20\n",
      "30\n",
      "40\n",
      "50\n",
      "P\n",
      "y\n",
      "t\n",
      "h\n",
      "o\n",
      "n\n",
      "1000\n",
      "1001\n",
      "1002\n",
      "1003\n",
      "1004\n",
      "10\n",
      "20\n",
      "30\n",
      "40\n",
      "50\n",
      "P\n",
      "y\n",
      "t\n",
      "h\n",
      "o\n",
      "n\n",
      "1000\n",
      "1001\n",
      "1002\n",
      "1003\n",
      "1004\n"
     ]
    }
   ],
   "source": [
    "l1 = [10,20,30,40,50]\n",
    "l2 = \"Python\"\n",
    "l3 = range(1000,1005)\n",
    "\n",
    "i = itertools.chain(l1,l2,l3)\n",
    "t = itertools.tee(i,5)   # it will create multiple 5 copies of itertools_chain object in a tuple, \n",
    "                        # if sec arg not passed it will create two copies\n",
    "print(t)\n",
    "\n",
    "for value in t[0]:\n",
    "    print(value)\n",
    "    \n",
    "\n",
    "for value in t[1]:\n",
    "    print(value)"
   ]
  },
  {
   "cell_type": "code",
   "execution_count": 5,
   "metadata": {},
   "outputs": [
    {
     "name": "stdout",
     "output_type": "stream",
     "text": [
      "[(1, 2, 3), (1, 2, 4), (1, 3, 4), (2, 3, 4)]\n",
      "[(10, 20), (10, 30), (20, 10), (20, 30), (30, 10), (30, 20)]\n"
     ]
    }
   ],
   "source": [
    "l = [10,20,30]\n",
    "print(list(itertools.combinations(range(1,5),3)))   # will give all possible combinations\n",
    "print(list(itertools.permutations(l,2)))  # will give all possible permutations"
   ]
  },
  {
   "cell_type": "code",
   "execution_count": 6,
   "metadata": {},
   "outputs": [
    {
     "name": "stdout",
     "output_type": "stream",
     "text": [
      "10\n",
      "20\n",
      "30\n",
      "40\n",
      "10\n",
      "20\n",
      "30\n",
      "40\n",
      "10\n",
      "20\n",
      "30\n",
      "40\n",
      "10\n",
      "20\n",
      "30\n",
      "40\n",
      "10\n",
      "20\n",
      "30\n",
      "40\n",
      "10\n"
     ]
    }
   ],
   "source": [
    "l = [10,20,30,40]\n",
    "i = itertools.cycle(l)    # infinite loop on the elements of same list, when reaches end will start from 0 again.\n",
    "count = 0\n",
    "\n",
    "for value in i:\n",
    "    print(value)\n",
    "    if count >= 20:  # infinite loop exit condition\n",
    "        break\n",
    "    count+=1"
   ]
  },
  {
   "cell_type": "code",
   "execution_count": 7,
   "metadata": {},
   "outputs": [
    {
     "name": "stdout",
     "output_type": "stream",
     "text": [
      "[10, 20, 30, 40]\n",
      "[10, 20, 30, 40]\n",
      "[10, 20, 30, 40]\n",
      "[10, 20, 30, 40]\n",
      "[10, 20, 30, 40]\n",
      "[10, 20, 30, 40]\n",
      "[10, 20, 30, 40]\n",
      "[10, 20, 30, 40]\n",
      "[10, 20, 30, 40]\n",
      "[10, 20, 30, 40]\n",
      "[10, 20, 30, 40]\n",
      "[10, 20, 30, 40]\n",
      "[10, 20, 30, 40]\n",
      "[10, 20, 30, 40]\n",
      "[10, 20, 30, 40]\n",
      "[10, 20, 30, 40]\n",
      "[10, 20, 30, 40]\n",
      "[10, 20, 30, 40]\n",
      "[10, 20, 30, 40]\n",
      "[10, 20, 30, 40]\n",
      "[10, 20, 30, 40]\n"
     ]
    }
   ],
   "source": [
    "l = [10,20,30,40]\n",
    "i = itertools.repeat(l)   # infinite loop on list while cycle was infinite loop on elements of the list\n",
    "count = 0\n",
    "\n",
    "for value in i:\n",
    "    print(value)\n",
    "    if count >= 20:\n",
    "        break\n",
    "    count+=1"
   ]
  },
  {
   "cell_type": "code",
   "execution_count": null,
   "metadata": {},
   "outputs": [],
   "source": [
    "islice \n",
    "count \n",
    "group"
   ]
  },
  {
   "cell_type": "code",
   "execution_count": 9,
   "metadata": {},
   "outputs": [
    {
     "name": "stdout",
     "output_type": "stream",
     "text": [
      "Help on class islice in module itertools:\n",
      "\n",
      "class islice(builtins.object)\n",
      " |  islice(iterable, stop) --> islice object\n",
      " |  islice(iterable, start, stop[, step]) --> islice object\n",
      " |  \n",
      " |  Return an iterator whose next() method returns selected values from an\n",
      " |  iterable.  If start is specified, will skip all preceding elements;\n",
      " |  otherwise, start defaults to zero.  Step defaults to one.  If\n",
      " |  specified as another value, step determines how many values are \n",
      " |  skipped between successive calls.  Works like a slice() on a list\n",
      " |  but returns an iterator.\n",
      " |  \n",
      " |  Methods defined here:\n",
      " |  \n",
      " |  __getattribute__(self, name, /)\n",
      " |      Return getattr(self, name).\n",
      " |  \n",
      " |  __iter__(self, /)\n",
      " |      Implement iter(self).\n",
      " |  \n",
      " |  __next__(self, /)\n",
      " |      Implement next(self).\n",
      " |  \n",
      " |  __reduce__(...)\n",
      " |      Return state information for pickling.\n",
      " |  \n",
      " |  __setstate__(...)\n",
      " |      Set state information for unpickling.\n",
      " |  \n",
      " |  ----------------------------------------------------------------------\n",
      " |  Static methods defined here:\n",
      " |  \n",
      " |  __new__(*args, **kwargs) from builtins.type\n",
      " |      Create and return a new object.  See help(type) for accurate signature.\n",
      "\n"
     ]
    }
   ],
   "source": [
    "help(itertools.islice)"
   ]
  },
  {
   "cell_type": "code",
   "execution_count": 15,
   "metadata": {},
   "outputs": [
    {
     "name": "stdout",
     "output_type": "stream",
     "text": [
      "[10, 30]\n"
     ]
    }
   ],
   "source": [
    "l = [10,20,30,40]\n",
    "i = itertools.islice(l,0, 3, 2)\n",
    "print(list(i))"
   ]
  },
  {
   "cell_type": "code",
   "execution_count": null,
   "metadata": {},
   "outputs": [],
   "source": [
    "Decorator : is a func, which takes a func as an arg and return a new function"
   ]
  },
  {
   "cell_type": "code",
   "execution_count": 1,
   "metadata": {},
   "outputs": [
    {
     "name": "stdout",
     "output_type": "stream",
     "text": [
      "30\n",
      "PythonJava\n",
      "Python10\n"
     ]
    }
   ],
   "source": [
    "def add_deco(func):\n",
    "    \n",
    "    def new_func(val1,val2):\n",
    "        if type(val1) == type(val2):\n",
    "            return func(val1,val2)\n",
    "        else:\n",
    "            return func(str(val1),str(val2))\n",
    "            \n",
    "    \n",
    "    return new_func\n",
    "\n",
    "\n",
    "@add_deco\n",
    "def add(val1,val2):\n",
    "    return val1 + val2\n",
    "\n",
    "print(add(10,20))\n",
    "print(add(\"Python\",\"Java\"))\n",
    "print(add(\"Python\",10))"
   ]
  },
  {
   "cell_type": "code",
   "execution_count": null,
   "metadata": {},
   "outputs": [],
   "source": [
    "add_same_type\n",
    "\n",
    "Decorator\n",
    "\n",
    "new_func_diff_type"
   ]
  },
  {
   "cell_type": "code",
   "execution_count": 2,
   "metadata": {},
   "outputs": [
    {
     "name": "stdout",
     "output_type": "stream",
     "text": [
      "Getting here\n",
      "pqr\n",
      "9123456789\n"
     ]
    }
   ],
   "source": [
    "def login(func):\n",
    "    \n",
    "    def new_func(username,password,val):\n",
    "        if username == \"abc\" and password == \"abc@123\":\n",
    "            return func(username,password,val)\n",
    "        else:\n",
    "            return \"Invalid credentials\"\n",
    "    return new_func\n",
    "\n",
    "@login\n",
    "def edit_name(username,password,new_name):\n",
    "    print(\"Getting here\")\n",
    "    return new_name\n",
    "\n",
    "@login\n",
    "def edit_email(username,password,new_email):\n",
    "    return new_email\n",
    "\n",
    "@login\n",
    "def edit_contact(username,password,new_contact):\n",
    "    return new_contact\n",
    "    \n",
    "    \n",
    "print(edit_name(\"abc\",\"abc@123\",\"pqr\"))\n",
    "\n",
    "print(edit_contact(\"abc\",\"abc@123\",9123456789))"
   ]
  },
  {
   "cell_type": "code",
   "execution_count": null,
   "metadata": {},
   "outputs": [],
   "source": [
    "print(edit_name(\"abc\",\"abc@123\",\"pqr\")) = > @login =>pqr => pqr=> return pqr"
   ]
  },
  {
   "cell_type": "code",
   "execution_count": 3,
   "metadata": {},
   "outputs": [
    {
     "name": "stdout",
     "output_type": "stream",
     "text": [
      "100\n"
     ]
    }
   ],
   "source": [
    "l = [10,20,30,40,50,60]\n",
    "t = (value * value for value in l)\n",
    "print(next(t))"
   ]
  },
  {
   "cell_type": "markdown",
   "metadata": {},
   "source": [
    "# Session 22: BeautifulSoup"
   ]
  },
  {
   "cell_type": "code",
   "execution_count": 4,
   "metadata": {},
   "outputs": [],
   "source": [
    "import requests   # we will use request library for GET and POST requests"
   ]
  },
  {
   "cell_type": "code",
   "execution_count": 5,
   "metadata": {},
   "outputs": [],
   "source": [
    "from bs4 import BeautifulSoup   # we will use this library to parse the response got from the request library"
   ]
  },
  {
   "cell_type": "code",
   "execution_count": null,
   "metadata": {},
   "outputs": [],
   "source": [
    "different types of requests (HTTP requests) that a browser makes:\n",
    "    Get=>We specify a url and expect some response (expect some data to be shown), this type of request is known as get request\n",
    "    Post => we want to send some data to the server and on the basis of data we are expecting some action, like we register on \n",
    "        some platform, we provide username, password, contact, etc and click on register, now our browser will send all these\n",
    "            detail to the web server in the background and on the basis of that it creates a account for us, so whenever we are \n",
    "            sending a data and creating a new account this time we are creating post request.\n",
    "    Put => full update, in a particular database we want to update all the fields, that is where we use put request\n",
    "    Patch => partial update, if we want to update a specific field let's say name, this time we use patch request\n",
    "            patch is not supported by all the browser, so generally put is used for any update in the database\n",
    "    Delete => when we want to delete some data from the database, our browser will make delete request\n",
    "    \n",
    "HTTP Status Codes :\n",
    "2xx => Success\n",
    "\n",
    "3xx => redirection\n",
    "\n",
    "4xx => Client side error\n",
    "     404 => Page not found \n",
    "     401 => Not authorized \n",
    "     403 \n",
    "\n",
    "5xx => Server side error"
   ]
  },
  {
   "cell_type": "code",
   "execution_count": null,
   "metadata": {},
   "outputs": [],
   "source": [
    "<html>\n",
    "    <head></head>\n",
    "    <body>\n",
    "        <div id=\"123\">\n",
    "            <a href=\"www.google.com\">Click Here</a>\n",
    "            <img src=\".jpg\">\n",
    "        </div>\n",
    "        <div>\n",
    "        </div class=\"abc\">\n",
    "        \n",
    "        <div class=\"abc\">\n",
    "        </div>\n",
    "\n",
    "        \n",
    "    </body>\n",
    "\n",
    "</html>"
   ]
  },
  {
   "cell_type": "code",
   "execution_count": 6,
   "metadata": {},
   "outputs": [
    {
     "name": "stdout",
     "output_type": "stream",
     "text": [
      "<Response [200]>\n"
     ]
    }
   ],
   "source": [
    "response = requests.get(\"https://www.flipkart.com/mobiles/pr?sid=tyy,4io&marketplace=FLIPKART\")\n",
    "print(response)"
   ]
  },
  {
   "cell_type": "code",
   "execution_count": 7,
   "metadata": {},
   "outputs": [
    {
     "name": "stdout",
     "output_type": "stream",
     "text": [
      "200\n"
     ]
    }
   ],
   "source": [
    "print(response.status_code)"
   ]
  },
  {
   "cell_type": "code",
   "execution_count": 8,
   "metadata": {},
   "outputs": [
    {
     "name": "stdout",
     "output_type": "stream",
     "text": [
      "b'<!DOCTYPE html>\\n<html lang=\"en\">\\n<head>\\n\\t<link href=\"https://rukminim1.flixcart.com\" rel=\"dns-prefetch\" />\\n\\t<link href=\"https://img1a.flixcart.com\" rel=\"dns-prefetch\" />\\n\\t<link rel=\"stylesheet\" href=\"//img1a.flixcart.com/www/linchpin/fk-cp-zion/css/app.chunk.2329d4.css\" />\\n\\n\\t<link rel=\"preload\" href=\"//img1a.flixcart.com/www/linchpin/fk-cp-zion/img/fk-logo_9fddff.png\" as=\"image\">\\n\\n\\t<meta http-equiv=\"Content-type\" content=\"text/html; charset=utf-8\"/>\\n\\t<meta http-equiv=\"X-UA-Compatible\" content=\"IE=Edge\" />\\n\\t<meta property=\"fb:page_id\" content=\"102988293558\"/>\\n\\t<meta property=\"fb:admins\" content=\"658873552,624500995,100000233612389\"/>\\n\\t<meta name=\"robots\" content=\"noodp\" />\\n\\n\\t<link rel=\\'shortcut icon\\' href=\"https://img1a.flixcart.com/www/promos/new/20150528-140547-favicon-retina.ico\" />\\n\\n\\t<link type=\"application/opensearchdescription+xml\" rel=\"search\" href=\"/osdd.xml?v=2\"/>\\n\\n\\t<meta property=\"og:type\" content=\"website\"/>\\n\\t<meta name=\"og_site_name\" property=\"og:site_name\" content=\"Flipkart.com\"/>\\n\\t<!-- Appple Touch Icons -->\\n\\t<link rel=\"apple-touch-icon\" sizes=\"57x57\" href=\"/apple-touch-icon-57x57.png\"/>\\n\\t<link rel=\"apple-touch-icon\" sizes=\"72x72\" href=\"/apple-touch-icon-72x72.png\"/>\\n\\t<link rel=\"apple-touch-icon\" sizes=\"114x114\" href=\"/apple-touch-icon-114x114.png\"/>\\n\\t<link rel=\"apple-touch-icon\" sizes=\"144x144\" href=\"/apple-touch-icon-144x144.png\"/>\\n\\t<link rel=\"apple-touch-icon\" href=\"/apple-touch-icon-57x57.png\"/>\\n\\n\\t<!-- Twitter Meta Data -->\\n\\t<meta name=\\'twitter:card\\' content=\"app\">\\n\\t<meta name=\"twitter:site\" content=\"@flipkart\">\\n\\t<meta name=\"twitter:creator\" content=\"@flipkart\">\\n\\t<meta name=\"twitter:title\" content=\"Mobile Price List | Compare Mobiles and Buy Online @ Flipkart\">\\n\\t<meta name=\\'twitter:description\\' content=\"Shop for electronics, apparels & more using our Flipkart app Free shipping & COD.\">\\n\\n\\t<meta name=\\'twitter:app:country\\' content=\"in\">\\n\\t<meta name=\"al:ios:app_name\" content=\"Flipkart\">\\n\\t<meta name=\"al:ios:app_store_id\" content=\"742044692\">\\n\\t<meta name=\"twitter:app:name:iphone\" content=\"Flipkart\">\\n\\t<meta name=\"twitter:app:id:iphone\" content=\"742044692\">\\n\\t<meta name=\"twitter:app:url:iphone\" content=\"http://dl.flipkart.com/dl/home?\">\\n\\t<meta name=\"twitter:app:name:ipad\" content=\"Flipkart\">\\n\\t<meta name=\"twitter:app:id:ipad\" content=\"742044692\">\\n\\t<meta name=\"twitter:app:url:ipad\" content=\"http://dl.flipkart.com/dl/home?\">\\n\\t<meta name=\"twitter:app:name:googleplay\" content=\"Flipkart\">\\n\\t<meta name=\"twitter:app:id:googleplay\" content=\"com.flipkart.android\">\\n\\t<meta name=\"twitter:app:url:googleplay\" content=\"http://dl.flipkart.com/dl/home?\">\\n\\t<style>\\n\\t\\t#container {\\n\\t\\t\\theight: 100%;\\n\\t\\t}\\n\\t</style>\\n\\n\\t<script src=\"//img1a.flixcart.com/www/linchpin/fk-cp-zion/js/runtime.6d1db249.js\" defer crossorigin=\"anonymous\"></script>\\n\\t<script src=\"//img1a.flixcart.com/www/linchpin/fk-cp-zion/js/vendor.chunk.988113e5.js\" defer crossorigin=\"anonymous\"></script>\\n\\t<script src=\"//img1a.flixcart.com/www/linchpin/fk-cp-zion/js/app.chunk.fe105d63.js\" defer crossorigin=\"anonymous\"></script>\\n\\n\\t\\t<link rel=\"stylesheet\" href=\"//img1a.flixcart.com/www/linchpin/fk-cp-zion/css/MultiWidgetBase.chunk.4d3cba.css\" />\\n\\t\\t<link rel=\"stylesheet\" href=\"//img1a.flixcart.com/www/linchpin/fk-cp-zion/css/Browse.chunk.963c4e.css\" />\\n\\n\\t<title>Mobile Price List | Compare Mobiles and Buy Online @ Flipkart</title>\\n\\t<meta name=\"og_title\" property=\"og:title\" content=\"Mobile Price List | Compare Mobiles and Buy Online @ Flipkart\"/>\\n\\n        <meta name=\"Keywords\" content=\"Mobiles, Mobiles online,mobile price\"/>\\n\\n    \\t<meta name=\"Description\" property=\"og:description\" content=\"Buy Mobile by comparing prices of different mobile brands.Check specification and read user reviews to choose the best mobile phone at Flipkart.\"/>\\n\\n        <meta name=\"robots\" content=\"noindex\"/>\\n\\n    \\t<meta name=\"og_url\" property=\"og:url\" content=\"https://www.flipkart.com/mobile-phones-store\"/>\\n\\n    <meta name=\"msvalidate.01\" content=\"F4EEB3A0AFFDD385992A06E6920C0AC3\" />\\n\\n\\n\\n\\t<!--[if IE 9 ]>\\n\\t<script nonce=\"10424577359185374968\">\\n\\t\\twindow.browserVersion = \\'IE9\\';\\n\\t\\tdocument.documentElement.className += \\' ie9\\';\\n\\t</script>\\n\\t<![endif]-->\\n\\t<!--[if !IE]><!-->\\n\\t<script nonce=\"10424577359185374968\">\\n\\t\\tif (/*@cc_on!@*/false) {\\n\\t\\t\\twindow.browserVersion = \\'IE10\\';\\n\\t\\t\\tdocument.documentElement.className += \\' ie10\\';\\n\\t\\t}\\n\\t</script>\\n\\t<!--<![endif]-->\\n    <script type=\"application/ld+json\" nonce=\"10424577359185374968\" id=\"jsonLD\">\\n        {\"@context\":\"http://schema.org\",\"@type\":\"ItemList\",\"itemListElement\":[{\"@type\":\"ListItem\",\"position\":1,\"url\":\"https://www.flipkart.com/realme-5i-forest-green-64-gb/p/itmdac0da867a9fa?pid=MOBFNG3GNW3BU2XE&lid=LSTMOBFNG3GNW3BU2XERAL9TG&marketplace=FLIPKART\",\"name\":\"Realme 5i (Forest Green, 64 GB)\"},{\"@type\":\"ListItem\",\"position\":2,\"url\":\"https://www.flipkart.com/realme-5i-aqua-blue-64-gb/p/itmdac0da867a9fa?pid=MOBFNG3GZXCV63BE&lid=LSTMOBFNG3GZXCV63BEMPJERT&marketplace=FLIPKART\",\"name\":\"Realme 5i (Aqua Blue, 64 GB)\"},{\"@type\":\"ListItem\",\"position\":3,\"url\":\"https://www.flipkart.com/redmi-8-sapphire-blue-64-gb/p/itme9614ba9b9bda?pid=MOBFKPYDENDXZZ7U&lid=LSTMOBFKPYDENDXZZ7U5KFCKA&marketplace=FLIPKART\",\"name\":\"Redmi 8 (Sapphire Blue, 64 GB)\"},{\"@type\":\"ListItem\",\"position\":4,\"url\":\"https://www.flipkart.com/redmi-8-onyx-black-64-gb/p/itmaf669d074ff27?pid=MOBFKPYDZJQHGJXA&lid=LSTMOBFKPYDZJQHGJXA5X8Q5G&marketplace=FLIPKART\",\"name\":\"Redmi 8 (Onyx Black, 64 GB)\"},{\"@type\":\"ListItem\",\"position\":5,\"url\":\"https://www.flipkart.com/redmi-8a-ocean-blue-32-gb/p/itm1f8d1cbb1d232?pid=MOBFKF98BHTYSAHZ&lid=LSTMOBFKF98BHTYSAHZCWZX8V&marketplace=FLIPKART\",\"name\":\"Redmi 8A (Ocean Blue, 32 GB)\"},{\"@type\":\"ListItem\",\"position\":6,\"url\":\"https://www.flipkart.com/redmi-8a-sunset-red-32-gb/p/itm5474ed67d23bf?pid=MOBFKF98FTTEN832&lid=LSTMOBFKF98FTTEN832NKEHTF&marketplace=FLIPKART\",\"name\":\"Redmi 8A (Sunset Red, 32 GB)\"},{\"@type\":\"ListItem\",\"position\":7,\"url\":\"https://www.flipkart.com/redmi-8a-midnight-black-32-gb/p/itme2e12a5859993?pid=MOBFKF98FFAAY8EB&lid=LSTMOBFKF98FFAAY8EBS8FFCJ&marketplace=FLIPKART\",\"name\":\"Redmi 8A (Midnight Black, 32 GB)\"},{\"@type\":\"ListItem\",\"position\":8,\"url\":\"https://www.flipkart.com/realme-5s-crystal-blue-128-gb/p/itm592977b0ba210?pid=MOBFM2WZW8VZEXK3&lid=LSTMOBFM2WZW8VZEXK34R7HCI&marketplace=FLIPKART\",\"name\":\"Realme 5s (Crystal Blue, 128 GB)\"},{\"@type\":\"ListItem\",\"position\":9,\"url\":\"https://www.flipkart.com/realme-5s-crystal-purple-64-gb/p/itm592977b0ba210?pid=MOBFM2WZGMU7DPZQ&lid=LSTMOBFM2WZGMU7DPZQGXSMJB&marketplace=FLIPKART\",\"name\":\"Realme 5s (Crystal Purple, 64 GB)\"},{\"@type\":\"ListItem\",\"position\":10,\"url\":\"https://www.flipkart.com/realme-5s-crystal-blue-64-gb/p/itm592977b0ba210?pid=MOBFM2WZ9AZUPTTZ&lid=LSTMOBFM2WZ9AZUPTTZXXEDBC&marketplace=FLIPKART\",\"name\":\"Realme 5s (Crystal Blue, 64 GB)\"}]}\\n    </script>\\n    <script nonce=\"10424577359185374968\">\\n        !function(){if(\"PerformancePaintTiming\" in window){var e=window.__perf={e:[]};e.o=new PerformanceObserver(function(n){e.e=e.e.concat(n.getEntries())});try{e.o.observe({entryTypes:[\"paint\"]})}catch(e){}}}();\\n    </script>\\n\\t<script nonce=\"10424577359185374968\">\\n\\t\\tif (requestAnimationFrame && performance && performance.mark) {\\n\\t\\t\\trequestAnimationFrame(function () {\\n\\t\\t\\t\\twindow.first_paint = performance.now();\\n\\t\\t\\t\\tperformance.mark(\"first_paint\");\\n\\t\\t\\t});\\n\\t\\t}\\n\\t</script>\\n\\n\\n        <link href=\"https://www.flipkart.com/mobiles/pr?sid&#x3D;tyy%2C4io&amp;marketplace&#x3D;FLIPKART&amp;page&#x3D;2\" id=\"next-page-link-tag\" rel=\"next\">\\n\\n        <link href=\"https://www.flipkart.com/amp/mobiles/pr?sid&#x3D;tyy,4io&amp;marketplace&#x3D;FLIPKART\" rel=\"amphtml\">\\n\\n</head>\\n<body>\\n<div id=\"container\"><div data-reactroot=\"\"><div class=\"_3ybBIU\"><div class=\"_1tz-RS\"><div class=\"_1S7OK2\"></div><div class=\"_3pNZKl\"><div class=\"_1T-JyI\"><div class=\"_3dGepu\"><a href=\"/\"><img width=\"75\" src=\"//img1a.flixcart.com/www/linchpin/fk-cp-zion/img/flipkart-plus_4ee2f9.png\" alt=\"Flipkart\" title=\"Flipkart\" class=\"_1e_EAo\"/></a><a class=\"_33x-Wq\" href=\"/plus\">Explore<!-- --> <span class=\"_2Ky4Ru\">Plus</span><img width=\"10\" src=\"//img1a.flixcart.com/www/linchpin/fk-cp-zion/img/plus_b13a8b.png\"/></a></div></div><div class=\"Y5-ZPI\"><form class=\"_1WMLwI header-form-search\" action=\"/search\" method=\"GET\"><div class=\"col-12-12 _2tVp4j\"><div class=\"O8ZS_U\"><input type=\"text\" value=\"\" class=\"LM6RPg\" title=\"Search for products, brands and more\" name=\"q\" autoComplete=\"off\" placeholder=\"Search for products, brands and more\"/></div><button class=\"vh79eN\" type=\"submit\"><svg width=\"20\" height=\"20\" viewBox=\"0 0 17 18\" class=\"\" xmlns=\"http://www.w3.org/2000/svg\"><g fill=\"#2874F1\" fill-rule=\"evenodd\"><path class=\"_2BhAHa\" d=\"m11.618 9.897l4.225 4.212c.092.092.101.232.02.313l-1.465 1.46c-.081.081-.221.072-.314-.02l-4.216-4.203\"></path><path class=\"_2BhAHa\" d=\"m6.486 10.901c-2.42 0-4.381-1.956-4.381-4.368 0-2.413 1.961-4.369 4.381-4.369 2.42 0 4.381 1.956 4.381 4.369 0 2.413-1.961 4.368-4.381 4.368m0-10.835c-3.582 0-6.486 2.895-6.486 6.467 0 3.572 2.904 6.467 6.486 6.467 3.582 0 6.486-2.895 6.486-6.467 0-3.572-2.904-6.467-6.486-6.467\"></path></g></svg></button><input type=\"hidden\" name=\"otracker\" value=\"search\"/><input type=\"hidden\" name=\"otracker1\" value=\"search\"/><input type=\"hidden\" name=\"marketplace\" value=\"FLIPKART\"/><input type=\"hidden\" name=\"as-show\" value=\"off\"/><input type=\"hidden\" name=\"as\" value=\"off\"/></div><ul class=\"col-12-12 _1PBbw8\"></ul></form></div><div class=\"_1jA3uo _34niwY\"><div class=\"dHGf8H\"><div class=\"_1jcwFN _3dmQRh\"><div><a class=\"_3Ep39l\" href=\"/account/login?ret=/mobiles/pr%3Fsid%3Dtyy%2C4io%26marketplace%3DFLIPKART\">Login</a></div></div></div></div><div class=\"_1jA3uo\"><div class=\"dHGf8H\"><div class=\"_1jcwFN _3dmQRh\"><div><div class=\"_2aUbKa\"> <!-- -->More<!-- --> </div></div></div><svg width=\"4.7\" height=\"8\" viewBox=\"0 0 16 27\" xmlns=\"http://www.w3.org/2000/svg\" class=\"_34Yjv1\"><path d=\"M16 23.207L6.11 13.161 16 3.093 12.955 0 0 13.161l12.955 13.161z\" fill=\"#fff\" class=\"_14jSvk\"></path></svg></div></div><div class=\"_1jA3uo\"><div class=\"_1jcwFN\"><div class=\"_3K4_9Q\"><a class=\"_3ko_Ud\" href=\"/viewcart?otracker=Cart_Icon_Click\"><svg class=\"_2fcmoV\" width=\"14\" height=\"14\" viewBox=\"0 0 16 16\" xmlns=\"http://www.w3.org/2000/svg\"><path class=\"_2JpNOH\" d=\"M15.32 2.405H4.887C3 2.405 2.46.805 2.46.805L2.257.21C2.208.085 2.083 0 1.946 0H.336C.1 0-.064.24.024.46l.644 1.945L3.11 9.767c.047.137.175.23.32.23h8.418l-.493 1.958H3.768l.002.003c-.017 0-.033-.003-.05-.003-1.06 0-1.92.86-1.92 1.92s.86 1.92 1.92 1.92c.99 0 1.805-.75 1.91-1.712l5.55.076c.12.922.91 1.636 1.867 1.636 1.04 0 1.885-.844 1.885-1.885 0-.866-.584-1.593-1.38-1.814l2.423-8.832c.12-.433-.206-.86-.655-.86\" fill=\"#fff\"></path></svg><span>Cart</span></a></div></div></div></div><div class=\"_1S7OK2\"></div></div><div class=\"_2hlh_L\"></div></div><div class=\"zi6sUf\"></div><div class=\"t-0M7P _2doH3V\"><div class=\"_1VV5Cf _1QHAXj\"><div class=\"_1SFos- _14bj8B\" style=\"transform:scaleX(0)\"></div></div><div class=\"_3e7xtJ\"><div class=\"_1HmYoV hCUpcT\"><div class=\"_1HmYoV _35HD7C\" style=\"flex:0 0 280px;max-width:280px;padding:0px 10px 0px 0px\"><div class=\"_1HmYoV _35HD7C col-12-12\"><div class=\"bhgxx2 col-12-12\"><div class=\"_1YuAuf\"><section class=\"xeGmCJ D_NGuZ\"><div class=\"_1iMC4O\"><div class=\"D0YrLF\"><span>Filters</span></div></div></section><div class=\"_1AsMpB\"><section class=\"_3aoPnm\"><div class=\"_1-5MDT\"><span>CATEGORIES</span></div><div><div class=\"sUG0yY\"><span><svg width=\"10\" height=\"10\" viewBox=\"0 0 16 27\" xmlns=\"http://www.w3.org/2000/svg\" class=\"_3OIXYL\"><path d=\"M16 23.207L6.11 13.161 16 3.093 12.955 0 0 13.161l12.955 13.161z\" fill=\"#fff\" class=\"zTtNVt\"></path></svg></span><a class=\"_3O_Sek _32ZSYo\" title=\"Mobiles &amp; Accessories\" href=\"/mobiles-accessories/pr?sid=tyy&amp;otracker=categorytree\">Mobiles &amp; Accessories</a></div></div><div><div class=\"sUG0yY\"><span><svg width=\"10\" height=\"10\" viewBox=\"0 0 16 27\" xmlns=\"http://www.w3.org/2000/svg\" class=\"_3OIXYL\"><path d=\"M16 23.207L6.11 13.161 16 3.093 12.955 0 0 13.161l12.955 13.161z\" fill=\"#fff\" class=\"\"></path></svg></span><a class=\"_3XS1AH _32ZSYo\" title=\"Mobiles\" href=\"/mobiles/pr?sid=tyy,4io&amp;otracker=categorytree\">Mobiles</a></div></div></section></div><section class=\"_1MCcAi D_NGuZ\"><div class=\"_1IqaqM _1iMC4O\"><div class=\"_2Bzspk D0YrLF\"><span>Price</span></div></div><div class=\"_1zXsFA\"><div class=\"_23Eu_p\"><div class=\"HKK57-\" style=\"height:0;width:0\"></div><div class=\"HKK57-\" style=\"height:0;width:0\"></div><div class=\"HKK57-\" style=\"height:0;width:0\"></div><div class=\"HKK57-\" style=\"height:0;width:0\"></div><div class=\"HKK57-\" style=\"height:0;width:0\"></div><div class=\"HKK57-\" style=\"height:0;width:0\"></div><div class=\"HKK57-\" style=\"height:0;width:0\"></div><div class=\"HKK57-\" style=\"height:0;width:0\"></div><div class=\"HKK57-\" style=\"height:0;width:0\"></div><div class=\"HKK57-\" style=\"height:0;width:0\"></div><div class=\"HKK57-\" style=\"height:0;width:0\"></div></div></div><div class=\"_1A0dov\"><div class=\"gl5Kwg\"><div class=\"_3G9WVX oVjMho\"><div class=\"_3aQU3C\"></div></div><div class=\"_3G9WVX _2N3EuE\"><div class=\"_3aQU3C\"></div></div><div class=\"_3QFE_k\"></div><div class=\"_3QFE_k _3bwhLT\"></div></div><div class=\"UkModz\"><div class=\"_3mWtXv\" style=\"width:undefinedpx\">.</div><div class=\"_3mWtXv\" style=\"width:undefinedpx\">.</div><div class=\"_3mWtXv\" style=\"width:undefinedpx\">.</div><div class=\"_3mWtXv\" style=\"width:undefinedpx\">.</div><div class=\"_3mWtXv\" style=\"width:undefinedpx\">.</div><div class=\"_3mWtXv\" style=\"width:undefinedpx\">.</div><div class=\"_3mWtXv\" style=\"width:undefinedpx\">.</div><div class=\"_3mWtXv\" style=\"width:undefinedpx\">.</div><div class=\"_3mWtXv\" style=\"width:undefinedpx\">.</div><div class=\"_3mWtXv\" style=\"width:undefinedpx\">.</div><div class=\"_3mWtXv\" style=\"width:undefinedpx\">.</div><div class=\"_3mWtXv\" style=\"width:0px\">.</div></div></div><div class=\"_3Uy12X\"><div class=\"_1qKb_B\"><select class=\"fPjUPw\"><option selected=\"\" value=\"Min\" class=\"OMc8Rd\">Min</option><option value=\"2000\" class=\"OMc8Rd\">\\xe2\\x82\\xb92000</option><option value=\"4000\" class=\"OMc8Rd\">\\xe2\\x82\\xb94000</option><option value=\"7000\" class=\"OMc8Rd\">\\xe2\\x82\\xb97000</option><option value=\"10000\" class=\"OMc8Rd\">\\xe2\\x82\\xb910000</option><option value=\"13000\" class=\"OMc8Rd\">\\xe2\\x82\\xb913000</option><option value=\"16000\" class=\"OMc8Rd\">\\xe2\\x82\\xb916000</option><option value=\"20000\" class=\"OMc8Rd\">\\xe2\\x82\\xb920000</option><option value=\"25000\" class=\"OMc8Rd\">\\xe2\\x82\\xb925000</option><option value=\"30000\" class=\"OMc8Rd\">\\xe2\\x82\\xb930000</option><option value=\"50000\" class=\"OMc8Rd\">\\xe2\\x82\\xb950000</option></select></div><div class=\"_2LchWD\">to</div><div class=\"_1YoBfV\"><select class=\"fPjUPw\"><option value=\"2000\" class=\"OMc8Rd\">\\xe2\\x82\\xb92000</option><option value=\"4000\" class=\"OMc8Rd\">\\xe2\\x82\\xb94000</option><option value=\"7000\" class=\"OMc8Rd\">\\xe2\\x82\\xb97000</option><option value=\"10000\" class=\"OMc8Rd\">\\xe2\\x82\\xb910000</option><option value=\"13000\" class=\"OMc8Rd\">\\xe2\\x82\\xb913000</option><option value=\"16000\" class=\"OMc8Rd\">\\xe2\\x82\\xb916000</option><option value=\"20000\" class=\"OMc8Rd\">\\xe2\\x82\\xb920000</option><option value=\"25000\" class=\"OMc8Rd\">\\xe2\\x82\\xb925000</option><option value=\"30000\" class=\"OMc8Rd\">\\xe2\\x82\\xb930000</option><option value=\"50000\" class=\"OMc8Rd\">\\xe2\\x82\\xb950000</option><option selected=\"\" value=\"Max\" class=\"OMc8Rd\">\\xe2\\x82\\xb950000+</option></select></div></div></section><section class=\"D_NGuZ _1KDdN8\"><div class=\"_2kFyHg _1_fxb2\"><label><input type=\"checkbox\" class=\"_3uUUD5\" readonly=\"\"/><div class=\"_1p7h2j _2irnD_\"></div><div class=\"_1GEhLw\"><div class=\"_2rIV_l\"><img height=\"21\" src=\"//img1a.flixcart.com/www/linchpin/fk-cp-zion/img/fa_8b4b59.png\" class=\"_2rIV_l\"/></div></div></label></div><div class=\"_20yN1P\"><span class=\"question\">?</span></div></section><section class=\"_1gjf4c D_NGuZ\"><div class=\"_3xglSm _1iMC4O\"><div class=\"_2yccxO D0YrLF\">RAM</div><svg width=\"16\" height=\"27\" viewBox=\"0 0 16 27\" xmlns=\"http://www.w3.org/2000/svg\" class=\"_3KyMh7 _2Gnm9R\"><path d=\"M16 23.207L6.11 13.161 16 3.093 12.955 0 0 13.161l12.955 13.161z\" fill=\"#fff\" class=\"_1ooUW7\"></path></svg></div><div class=\"_3mk-PQ\"><div class=\"_36jUgy\"><div class=\"_4IiNRh _2mtkou\" title=\"6 GB &amp; Above\"><div class=\"_2wQvxh _1WV8jE\"><div class=\"_2kFyHg _2mtkou\"><label><input type=\"checkbox\" class=\"_3uUUD5\" readonly=\"\"/><div class=\"_1p7h2j\"></div><div class=\"_1GEhLw\">6 GB &amp; Above</div></label></div></div></div><div class=\"_4IiNRh _2mtkou\" title=\"4 GB\"><div class=\"_2wQvxh _1WV8jE\"><div class=\"_2kFyHg _2mtkou\"><label><input type=\"checkbox\" class=\"_3uUUD5\" readonly=\"\"/><div class=\"_1p7h2j\"></div><div class=\"_1GEhLw\">4 GB</div></label></div></div></div><div class=\"_4IiNRh _2mtkou\" title=\"3 GB\"><div class=\"_2wQvxh _1WV8jE\"><div class=\"_2kFyHg _2mtkou\"><label><input type=\"checkbox\" class=\"_3uUUD5\" readonly=\"\"/><div class=\"_1p7h2j\"></div><div class=\"_1GEhLw\">3 GB</div></label></div></div></div><div class=\"_4IiNRh _2mtkou\" title=\"2 GB\"><div class=\"_2wQvxh _1WV8jE\"><div class=\"_2kFyHg _2mtkou\"><label><input type=\"checkbox\" class=\"_3uUUD5\" readonly=\"\"/><div class=\"_1p7h2j\"></div><div class=\"_1GEhLw\">2 GB</div></label></div></div></div><div class=\"_4IiNRh _2mtkou\" title=\"1 GB\"><div class=\"_2wQvxh _1WV8jE\"><div class=\"_2kFyHg _2mtkou\"><label><input type=\"checkbox\" class=\"_3uUUD5\" readonly=\"\"/><div class=\"_1p7h2j\"></div><div class=\"_1GEhLw\">1 GB</div></label></div></div></div><div class=\"_4IiNRh _2mtkou\" title=\"512 MB - 1 GB\"><div class=\"_2wQvxh _1WV8jE\"><div class=\"_2kFyHg _2mtkou\"><label><input type=\"checkbox\" class=\"_3uUUD5\" readonly=\"\"/><div class=\"_1p7h2j\"></div><div class=\"_1GEhLw\">512 MB - 1 GB</div></label></div></div></div><div class=\"_4IiNRh _2mtkou\" title=\"Less than 512 MB\"><div class=\"_2wQvxh _1WV8jE\"><div class=\"_2kFyHg _2mtkou\"><label><input type=\"checkbox\" class=\"_3uUUD5\" readonly=\"\"/><div class=\"_1p7h2j\"></div><div class=\"_1GEhLw\">Less than 512 MB</div></label></div></div></div></div></div></section><section class=\"_1gjf4c D_NGuZ\"><div class=\"_3xglSm _1iMC4O\"><div class=\"_2yccxO D0YrLF\">Brand</div><svg width=\"16\" height=\"27\" viewBox=\"0 0 16 27\" xmlns=\"http://www.w3.org/2000/svg\" class=\"_3KyMh7 _2Gnm9R\"><path d=\"M16 23.207L6.11 13.161 16 3.093 12.955 0 0 13.161l12.955 13.161z\" fill=\"#fff\" class=\"_1ooUW7\"></path></svg></div><div class=\"_3mk-PQ\"><div class=\"_36jUgy\"><div class=\"-FTLnR\"><svg width=\"20\" height=\"20\" viewBox=\"0 0 17 18\" class=\"_2oWmkA\" xmlns=\"http://www.w3.org/2000/svg\"><g fill=\"#2874F1\" fill-rule=\"evenodd\"><path class=\"_2Re8ik\" d=\"m11.618 9.897l4.225 4.212c.092.092.101.232.02.313l-1.465 1.46c-.081.081-.221.072-.314-.02l-4.216-4.203\"></path><path class=\"_2Re8ik\" d=\"m6.486 10.901c-2.42 0-4.381-1.956-4.381-4.368 0-2.413 1.961-4.369 4.381-4.369 2.42 0 4.381 1.956 4.381 4.369 0 2.413-1.961 4.368-4.381 4.368m0-10.835c-3.582 0-6.486 2.895-6.486 6.467 0 3.572 2.904 6.467 6.486 6.467 3.582 0 6.486-2.895 6.486-6.467 0-3.572-2.904-6.467-6.486-6.467\"></path></g></svg><input type=\"text\" value=\"\" class=\"_3vKPvR\" placeholder=\"Search Brand\"/></div><div class=\"_4IiNRh _2mtkou\" title=\"Realme\"><div class=\"_2wQvxh _1WV8jE\"><div class=\"_2kFyHg _2mtkou\"><label><input type=\"checkbox\" class=\"_3uUUD5\" readonly=\"\"/><div class=\"_1p7h2j\"></div><div class=\"_1GEhLw\">Realme</div></label></div></div></div><div class=\"_4IiNRh _2mtkou\" title=\"Micromax\"><div class=\"_2wQvxh _1WV8jE\"><div class=\"_2kFyHg _2mtkou\"><label><input type=\"checkbox\" class=\"_3uUUD5\" readonly=\"\"/><div class=\"_1p7h2j\"></div><div class=\"_1GEhLw\">Micromax</div></label></div></div></div><div class=\"_4IiNRh _2mtkou\" title=\"Samsung\"><div class=\"_2wQvxh _1WV8jE\"><div class=\"_2kFyHg _2mtkou\"><label><input type=\"checkbox\" class=\"_3uUUD5\" readonly=\"\"/><div class=\"_1p7h2j\"></div><div class=\"_1GEhLw\">Samsung</div></label></div></div></div><div class=\"_4IiNRh _2mtkou\" title=\"Mi\"><div class=\"_2wQvxh _1WV8jE\"><div class=\"_2kFyHg _2mtkou\"><label><input type=\"checkbox\" class=\"_3uUUD5\" readonly=\"\"/><div class=\"_1p7h2j\"></div><div class=\"_1GEhLw\">Mi</div></label></div></div></div><div class=\"_4IiNRh _2mtkou\" title=\"Honor\"><div class=\"_2wQvxh _1WV8jE\"><div class=\"_2kFyHg _2mtkou\"><label><input type=\"checkbox\" class=\"_3uUUD5\" readonly=\"\"/><div class=\"_1p7h2j\"></div><div class=\"_1GEhLw\">Honor</div></label></div></div></div><div class=\"_4IiNRh _2mtkou\" title=\"Infinix\"><div class=\"_2wQvxh _1WV8jE\"><div class=\"_2kFyHg _2mtkou\"><label><input type=\"checkbox\" class=\"_3uUUD5\" readonly=\"\"/><div class=\"_1p7h2j\"></div><div class=\"_1GEhLw\">Infinix</div></label></div></div></div></div><div class=\"opNt-w _2Tprpw\"><span>309 MORE</span></div></div></section><section class=\"_1gjf4c D_NGuZ\"><div class=\"_3xglSm _1iMC4O\"><div class=\"_2yccxO D0YrLF\">Customer Ratings</div><svg width=\"16\" height=\"27\" viewBox=\"0 0 16 27\" xmlns=\"http://www.w3.org/2000/svg\" class=\"_3KyMh7 _2Gnm9R\"><path d=\"M16 23.207L6.11 13.161 16 3.093 12.955 0 0 13.161l12.955 13.161z\" fill=\"#fff\" class=\"_1ooUW7\"></path></svg></div><div class=\"_3mk-PQ\"><div class=\"_36jUgy\"><div class=\"_4IiNRh _2mtkou\" title=\"4\\xe2\\x98\\x85 &amp; above\"><div class=\"_2wQvxh _1WV8jE\"><div class=\"_2kFyHg _2mtkou\"><label><input type=\"checkbox\" class=\"_3uUUD5\" readonly=\"\"/><div class=\"_1p7h2j\"></div><div class=\"_1GEhLw\">4\\xe2\\x98\\x85 &amp; above</div></label></div></div></div><div class=\"_4IiNRh _2mtkou\" title=\"3\\xe2\\x98\\x85 &amp; above\"><div class=\"_2wQvxh _1WV8jE\"><div class=\"_2kFyHg _2mtkou\"><label><input type=\"checkbox\" class=\"_3uUUD5\" readonly=\"\"/><div class=\"_1p7h2j\"></div><div class=\"_1GEhLw\">3\\xe2\\x98\\x85 &amp; above</div></label></div></div></div><div class=\"_4IiNRh _2mtkou\" title=\"2\\xe2\\x98\\x85 &amp; above\"><div class=\"_2wQvxh _1WV8jE\"><div class=\"_2kFyHg _2mtkou\"><label><input type=\"checkbox\" class=\"_3uUUD5\" readonly=\"\"/><div class=\"_1p7h2j\"></div><div class=\"_1GEhLw\">2\\xe2\\x98\\x85 &amp; above</div></label></div></div></div><div class=\"_4IiNRh _2mtkou\" title=\"1\\xe2\\x98\\x85 &amp; above\"><div class=\"_2wQvxh _1WV8jE\"><div class=\"_2kFyHg _2mtkou\"><label><input type=\"checkbox\" class=\"_3uUUD5\" readonly=\"\"/><div class=\"_1p7h2j\"></div><div class=\"_1GEhLw\">1\\xe2\\x98\\x85 &amp; above</div></label></div></div></div></div></div></section><section class=\"_1gjf4c D_NGuZ\"><div class=\"_3xglSm _1iMC4O\"><div class=\"_2yccxO D0YrLF\">Internal Storage</div><svg width=\"16\" height=\"27\" viewBox=\"0 0 16 27\" xmlns=\"http://www.w3.org/2000/svg\" class=\"_3KyMh7\"><path d=\"M16 23.207L6.11 13.161 16 3.093 12.955 0 0 13.161l12.955 13.161z\" fill=\"#fff\" class=\"_1ooUW7\"></path></svg></div></section><section class=\"_1gjf4c D_NGuZ\"><div class=\"_3xglSm _1iMC4O\"><div class=\"_2yccxO D0YrLF\">Battery Capacity</div><svg width=\"16\" height=\"27\" viewBox=\"0 0 16 27\" xmlns=\"http://www.w3.org/2000/svg\" class=\"_3KyMh7\"><path d=\"M16 23.207L6.11 13.161 16 3.093 12.955 0 0 13.161l12.955 13.161z\" fill=\"#fff\" class=\"_1ooUW7\"></path></svg></div></section><section class=\"_1gjf4c D_NGuZ\"><div class=\"_3xglSm _1iMC4O\"><div class=\"_2yccxO D0YrLF\">Operating System</div><svg width=\"16\" height=\"27\" viewBox=\"0 0 16 27\" xmlns=\"http://www.w3.org/2000/svg\" class=\"_3KyMh7\"><path d=\"M16 23.207L6.11 13.161 16 3.093 12.955 0 0 13.161l12.955 13.161z\" fill=\"#fff\" class=\"_1ooUW7\"></path></svg></div></section><section class=\"_1gjf4c D_NGuZ\"><div class=\"_3xglSm _1iMC4O\"><div class=\"_2yccxO D0YrLF\">Network Type</div><svg width=\"16\" height=\"27\" viewBox=\"0 0 16 27\" xmlns=\"http://www.w3.org/2000/svg\" class=\"_3KyMh7\"><path d=\"M16 23.207L6.11 13.161 16 3.093 12.955 0 0 13.161l12.955 13.161z\" fill=\"#fff\" class=\"_1ooUW7\"></path></svg></div></section><section class=\"_1gjf4c D_NGuZ\"><div class=\"_3xglSm _1iMC4O\"><div class=\"_2yccxO D0YrLF\">Screen Size</div><svg width=\"16\" height=\"27\" viewBox=\"0 0 16 27\" xmlns=\"http://www.w3.org/2000/svg\" class=\"_3KyMh7\"><path d=\"M16 23.207L6.11 13.161 16 3.093 12.955 0 0 13.161l12.955 13.161z\" fill=\"#fff\" class=\"_1ooUW7\"></path></svg></div></section><section class=\"_1gjf4c D_NGuZ\"><div class=\"_3xglSm _1iMC4O\"><div class=\"_2yccxO D0YrLF\">Sim Type</div><svg width=\"16\" height=\"27\" viewBox=\"0 0 16 27\" xmlns=\"http://www.w3.org/2000/svg\" class=\"_3KyMh7\"><path d=\"M16 23.207L6.11 13.161 16 3.093 12.955 0 0 13.161l12.955 13.161z\" fill=\"#fff\" class=\"_1ooUW7\"></path></svg></div></section><section class=\"_1gjf4c D_NGuZ\"><div class=\"_3xglSm _1iMC4O\"><div class=\"_2yccxO D0YrLF\">Primary Camera</div><svg width=\"16\" height=\"27\" viewBox=\"0 0 16 27\" xmlns=\"http://www.w3.org/2000/svg\" class=\"_3KyMh7\"><path d=\"M16 23.207L6.11 13.161 16 3.093 12.955 0 0 13.161l12.955 13.161z\" fill=\"#fff\" class=\"_1ooUW7\"></path></svg></div></section><section class=\"_1gjf4c D_NGuZ\"><div class=\"_3xglSm _1iMC4O\"><div class=\"_2yccxO D0YrLF\">Secondary Camera</div><svg width=\"16\" height=\"27\" viewBox=\"0 0 16 27\" xmlns=\"http://www.w3.org/2000/svg\" class=\"_3KyMh7\"><path d=\"M16 23.207L6.11 13.161 16 3.093 12.955 0 0 13.161l12.955 13.161z\" fill=\"#fff\" class=\"_1ooUW7\"></path></svg></div></section><section class=\"_1gjf4c D_NGuZ\"><div class=\"_3xglSm _1iMC4O\"><div class=\"_2yccxO D0YrLF\">Offers</div><svg width=\"16\" height=\"27\" viewBox=\"0 0 16 27\" xmlns=\"http://www.w3.org/2000/svg\" class=\"_3KyMh7 _2Gnm9R\"><path d=\"M16 23.207L6.11 13.161 16 3.093 12.955 0 0 13.161l12.955 13.161z\" fill=\"#fff\" class=\"_1ooUW7\"></path></svg></div><div class=\"_3mk-PQ\"><div class=\"_36jUgy\"><div class=\"_4IiNRh _2mtkou\" title=\"Bank Offer\"><div class=\"_2wQvxh _1WV8jE\"><div class=\"_2kFyHg _2mtkou\"><label><input type=\"checkbox\" class=\"_3uUUD5\" readonly=\"\"/><div class=\"_1p7h2j\"></div><div class=\"_1GEhLw\">Bank Offer</div></label></div></div></div><div class=\"_4IiNRh _2mtkou\" title=\"Exchange Offer\"><div class=\"_2wQvxh _1WV8jE\"><div class=\"_2kFyHg _2mtkou\"><label><input type=\"checkbox\" class=\"_3uUUD5\" readonly=\"\"/><div class=\"_1p7h2j\"></div><div class=\"_1GEhLw\">Exchange Offer</div></label></div></div></div><div class=\"_4IiNRh _2mtkou\" title=\"No Cost EMI\"><div class=\"_2wQvxh _1WV8jE\"><div class=\"_2kFyHg _2mtkou\"><label><input type=\"checkbox\" class=\"_3uUUD5\" readonly=\"\"/><div class=\"_1p7h2j\"></div><div class=\"_1GEhLw\">No Cost EMI</div></label></div></div></div><div class=\"_4IiNRh _2mtkou\" title=\"Special Price\"><div class=\"_2wQvxh _1WV8jE\"><div class=\"_2kFyHg _2mtkou\"><label><input type=\"checkbox\" class=\"_3uUUD5\" readonly=\"\"/><div class=\"_1p7h2j\"></div><div class=\"_1GEhLw\">Special Price</div></label></div></div></div></div></div></section><section class=\"_1gjf4c D_NGuZ\"><div class=\"_3xglSm _1iMC4O\"><div class=\"_2yccxO D0YrLF\">Processor Brand</div><svg width=\"16\" height=\"27\" viewBox=\"0 0 16 27\" xmlns=\"http://www.w3.org/2000/svg\" class=\"_3KyMh7\"><path d=\"M16 23.207L6.11 13.161 16 3.093 12.955 0 0 13.161l12.955 13.161z\" fill=\"#fff\" class=\"_1ooUW7\"></path></svg></div></section><section class=\"_1gjf4c D_NGuZ\"><div class=\"_3xglSm _1iMC4O\"><div class=\"_2yccxO D0YrLF\">Speciality</div><svg width=\"16\" height=\"27\" viewBox=\"0 0 16 27\" xmlns=\"http://www.w3.org/2000/svg\" class=\"_3KyMh7\"><path d=\"M16 23.207L6.11 13.161 16 3.093 12.955 0 0 13.161l12.955 13.161z\" fill=\"#fff\" class=\"_1ooUW7\"></path></svg></div></section><section class=\"_1gjf4c D_NGuZ\"><div class=\"_3xglSm _1iMC4O\"><div class=\"_2yccxO D0YrLF\">Resolution Type</div><svg width=\"16\" height=\"27\" viewBox=\"0 0 16 27\" xmlns=\"http://www.w3.org/2000/svg\" class=\"_3KyMh7\"><path d=\"M16 23.207L6.11 13.161 16 3.093 12.955 0 0 13.161l12.955 13.161z\" fill=\"#fff\" class=\"_1ooUW7\"></path></svg></div></section><section class=\"_1gjf4c D_NGuZ\"><div class=\"_3xglSm _1iMC4O\"><div class=\"_2yccxO D0YrLF\">Type</div><svg width=\"16\" height=\"27\" viewBox=\"0 0 16 27\" xmlns=\"http://www.w3.org/2000/svg\" class=\"_3KyMh7\"><path d=\"M16 23.207L6.11 13.161 16 3.093 12.955 0 0 13.161l12.955 13.161z\" fill=\"#fff\" class=\"_1ooUW7\"></path></svg></div></section><section class=\"_1gjf4c D_NGuZ\"><div class=\"_3xglSm _1iMC4O\"><div class=\"_2yccxO D0YrLF\">Operating System Version Name</div><svg width=\"16\" height=\"27\" viewBox=\"0 0 16 27\" xmlns=\"http://www.w3.org/2000/svg\" class=\"_3KyMh7\"><path d=\"M16 23.207L6.11 13.161 16 3.093 12.955 0 0 13.161l12.955 13.161z\" fill=\"#fff\" class=\"_1ooUW7\"></path></svg></div></section><section class=\"_1gjf4c D_NGuZ\"><div class=\"_3xglSm _1iMC4O\"><div class=\"_2yccxO D0YrLF\">Availability</div><svg width=\"16\" height=\"27\" viewBox=\"0 0 16 27\" xmlns=\"http://www.w3.org/2000/svg\" class=\"_3KyMh7\"><path d=\"M16 23.207L6.11 13.161 16 3.093 12.955 0 0 13.161l12.955 13.161z\" fill=\"#fff\" class=\"_1ooUW7\"></path></svg></div></section><section class=\"_1gjf4c D_NGuZ\"><div class=\"_3xglSm _1iMC4O\"><div class=\"_2yccxO D0YrLF\">Clock Speed</div><svg width=\"16\" height=\"27\" viewBox=\"0 0 16 27\" xmlns=\"http://www.w3.org/2000/svg\" class=\"_3KyMh7\"><path d=\"M16 23.207L6.11 13.161 16 3.093 12.955 0 0 13.161l12.955 13.161z\" fill=\"#fff\" class=\"_1ooUW7\"></path></svg></div></section><section class=\"_1gjf4c D_NGuZ\"><div class=\"_3xglSm _1iMC4O\"><div class=\"_2yccxO D0YrLF\">Features</div><svg width=\"16\" height=\"27\" viewBox=\"0 0 16 27\" xmlns=\"http://www.w3.org/2000/svg\" class=\"_3KyMh7\"><path d=\"M16 23.207L6.11 13.161 16 3.093 12.955 0 0 13.161l12.955 13.161z\" fill=\"#fff\" class=\"_1ooUW7\"></path></svg></div></section><section class=\"_1gjf4c D_NGuZ\"><div class=\"_3xglSm _1iMC4O\"><div class=\"_2yccxO D0YrLF\">Number of Cores</div><svg width=\"16\" height=\"27\" viewBox=\"0 0 16 27\" xmlns=\"http://www.w3.org/2000/svg\" class=\"_3KyMh7\"><path d=\"M16 23.207L6.11 13.161 16 3.093 12.955 0 0 13.161l12.955 13.161z\" fill=\"#fff\" class=\"_1ooUW7\"></path></svg></div></section><section class=\"_1gjf4c D_NGuZ\"><div class=\"_3xglSm _1iMC4O\"><div class=\"_2yccxO D0YrLF\">Budget</div><svg width=\"16\" height=\"27\" viewBox=\"0 0 16 27\" xmlns=\"http://www.w3.org/2000/svg\" class=\"_3KyMh7\"><path d=\"M16 23.207L6.11 13.161 16 3.093 12.955 0 0 13.161l12.955 13.161z\" fill=\"#fff\" class=\"_1ooUW7\"></path></svg></div></section></div></div><div class=\"bhgxx2 col-12-12\"><a class=\"_2cPh2h\" title=\"Buying Guide\" href=\"/buying-guide/mobiles?sid=tyy,4io&amp;otracker=bg_from_browse_lhs\"><div><span>Need help?</span></div><div class=\"_3OzbwH\"><span>Help me decide</span><svg width=\"16\" height=\"27\" viewBox=\"0 0 16 27\" xmlns=\"http://www.w3.org/2000/svg\" class=\"_1fiSL1\"><path d=\"M16 23.207L6.11 13.161 16 3.093 12.955 0 0 13.161l12.955 13.161z\" fill=\"#fff\" class=\"_3fPZ07\"></path></svg></div><img alt=\"Buying Guide\" src=\"//img1a.flixcart.com/www/linchpin/fk-cp-zion/img/buying-guide-illustration_48642c.png\"/></a></div></div></div><div class=\"_1HmYoV _35HD7C\" style=\"flex-grow:1;overflow:auto\"><div class=\"_1HmYoV hCUpcT col-12-12\" style=\"background-color:#ffffff;align-items:flex-end\"><div class=\"bhgxx2\" style=\"flex-grow:1;overflow:auto\"><div class=\"_3UEiDE\"><div class=\"_1joEet\"><div class=\"_1HEvv0\"><a class=\"_1KHd47\" href=\"/\">Home</a><svg width=\"16\" height=\"27\" viewBox=\"0 0 16 27\" xmlns=\"http://www.w3.org/2000/svg\" class=\"_2XP0B_\"><path d=\"M16 23.207L6.11 13.161 16 3.093 12.955 0 0 13.161l12.955 13.161z\" fill=\"#fff\" class=\"_24NaUy\"></path></svg></div><div class=\"_1HEvv0\"><a class=\"_1KHd47\" href=\"/mobiles-accessories/pr?sid=tyy&amp;marketplace=FLIPKART\">Mobiles &amp; Accessories</a><svg width=\"16\" height=\"27\" viewBox=\"0 0 16 27\" xmlns=\"http://www.w3.org/2000/svg\" class=\"_2XP0B_\"><path d=\"M16 23.207L6.11 13.161 16 3.093 12.955 0 0 13.161l12.955 13.161z\" fill=\"#fff\" class=\"_24NaUy\"></path></svg></div><div class=\"_1HEvv0\"><a class=\"_1KHd47\" href=\"/mobiles/pr?sid=tyy,4io&amp;marketplace=FLIPKART\">Mobiles</a><svg width=\"16\" height=\"27\" viewBox=\"0 0 16 27\" xmlns=\"http://www.w3.org/2000/svg\" class=\"_2XP0B_\"><path d=\"M16 23.207L6.11 13.161 16 3.093 12.955 0 0 13.161l12.955 13.161z\" fill=\"#fff\" class=\"_24NaUy\"></path></svg></div></div><h1 class=\"_2yAnYN\">Mobiles</h1><span class=\"eGD5BM\">(Showing 1 \\xe2\\x80\\x93 24 products of 11,018 products)</span><div class=\"_3ywJNQ\"><span class=\"_3YmFT8\">Sort By</span><div class=\"_1xHtJz xufquN\">Popularity</div><div class=\"_1xHtJz\">Price -- Low to High</div><div class=\"_1xHtJz\">Price -- High to Low</div><div class=\"_1xHtJz\">Newest First</div></div></div></div></div><div class=\"bhgxx2 col-12-12\"><div class=\"_3O0U0u\"><div data-id=\"MOBFNG3GNW3BU2XE\" style=\"width:100%\"><div class=\"_1UoZlX\"><a class=\"_31qSD5\" target=\"_blank\" rel=\"noopener noreferrer\" href=\"/realme-5i-forest-green-64-gb/p/itmdac0da867a9fa?pid=MOBFNG3GNW3BU2XE&amp;lid=LSTMOBFNG3GNW3BU2XERAL9TG&amp;marketplace=FLIPKART&amp;srno=b_1_1&amp;otracker=browse&amp;fm=organic&amp;iid=ca2a97c1-5bf3-41f3-b761-d5131d72f603.MOBFNG3GNW3BU2XE.SEARCH&amp;ssid=9avi3i4a1s0000001580111835974\"><div class=\"_3SQWE6\"><div class=\"_1OCn9C\"><div><div class=\"_3BTv9X\" style=\"height:200px;width:200px\"><img class=\"_1Nyybr\" alt=\"Realme 5i (Forest Green, 64 GB)\" src=\"//img1a.flixcart.com/www/linchpin/fk-cp-zion/img/placeholder_9951d0.svg\"/></div></div></div><div class=\"_2lesQu\"><div class=\"_1O_CiZ\"><span class=\"_1iHA1p\"><div class=\"_2kFyHg\"><label><input type=\"checkbox\" class=\"_3uUUD5\" readonly=\"\"/><div class=\"_1p7h2j\"></div></label></div></span><label class=\"_10TB-Q\"><span>Add to Compare</span></label></div></div><div class=\"_3gDSOa _32A6AP\"><div class=\"DsQ2eg\"><svg xmlns=\"http://www.w3.org/2000/svg\" class=\"_2oLiqr\" width=\"16\" height=\"16\" viewBox=\"0 0 20 16\"><path d=\"M8.695 16.682C4.06 12.382 1 9.536 1 6.065 1 3.219 3.178 1 5.95 1c1.566 0 3.069.746 4.05 1.915C10.981 1.745 12.484 1 14.05 1 16.822 1 19 3.22 19 6.065c0 3.471-3.06 6.316-7.695 10.617L10 17.897l-1.305-1.215z\" fill=\"#2874F0\" class=\"_35Y7Yo\" stroke=\"#FFF\" fill-rule=\"evenodd\" opacity=\".9\"></path></svg></div></div></div><div class=\"_1-2Iqu row\"><div class=\"col col-7-12\"><div class=\"_3wU53n\">Realme 5i (Forest Green, 64 GB)</div><div class=\"niH0FQ\"><span id=\"productRating_LSTMOBFNG3GNW3BU2XERAL9TG_MOBFNG3GNW3BU2XE_\" class=\"_2_KrJI\"><div class=\"hGSR34\">4.5<img src=\"data:image/svg+xml;base64,PHN2ZyB4bWxucz0iaHR0cDovL3d3dy53My5vcmcvMjAwMC9zdmciIHdpZHRoPSIxMyIgaGVpZ2h0PSIxMiI+PHBhdGggZmlsbD0iI0ZGRiIgZD0iTTYuNSA5LjQzOWwtMy42NzQgMi4yMy45NC00LjI2LTMuMjEtMi44ODMgNC4yNTQtLjQwNEw2LjUuMTEybDEuNjkgNC4wMSA0LjI1NC40MDQtMy4yMSAyLjg4Mi45NCA0LjI2eiIvPjwvc3ZnPg==\" class=\"_2lQ_WZ\"/></div></span><span class=\"_38sUEc\"><span><span>21,766 Ratings\\xc2\\xa0</span><span class=\"_1VpSqZ\">&amp;</span><span>\\xc2\\xa01,870 Reviews</span></span></span></div><div class=\"_3ULzGw\"><ul class=\"vFw0gD\"><li class=\"tVe95H\">4 GB RAM | 64 GB ROM |</li><li class=\"tVe95H\">16.56 cm (6.52 inch) HD+ Display</li><li class=\"tVe95H\">12MP + 8MP + 2MP + 2MP | 8MP Front Camera</li><li class=\"tVe95H\">5000 mAh Battery</li><li class=\"tVe95H\">Qualcomm Snapdragon 665 2 GHz Processor</li><li class=\"tVe95H\">Sunrise Design</li><li class=\"tVe95H\">Reverse Charging</li><li class=\"tVe95H\">Brand Warranty of 1 Year Available for Mobile and 6 Months for Accessories</li></ul></div></div><div class=\"col col-5-12 _2o7WAb\"><div class=\"_6BWGkk\"><div class=\"_1uv9Cb\"><div class=\"_1vC4OE _2rQ-NK\">\\xe2\\x82\\xb98,999</div><div class=\"_3auQ3N _2GcJzG\">\\xe2\\x82\\xb9<!-- -->10,999</div><div class=\"VGWI6T\"><span>18% off</span></div></div></div><div class=\"_3n6o0t\"><img height=\"21\" src=\"//img1a.flixcart.com/www/linchpin/fk-cp-zion/img/fa_8b4b59.png\"/></div><div class=\"_2nE8_R\"><div class=\"_3_G5Wj\" style=\"color:#000000;font-size:14px;font-family:inherit;font-weight:normal\">No Cost EMI</div></div><div class=\"_2nE8_R\"><div class=\"_3_G5Wj\" style=\"color:#000000;font-size:14px;font-family:inherit;font-weight:normal\">Upto </div><div class=\"_3_G5Wj\" style=\"color:#000000;font-size:14px;font-family:inherit;font-weight:bold\">\\xe2\\x82\\xb98,850</div><div class=\"_3_G5Wj\" style=\"color:#000000;font-size:14px;font-family:inherit;font-weight:normal\"> Off on Exchange</div></div></div></div></a></div></div></div></div><div class=\"bhgxx2 col-12-12\"><div class=\"_3O0U0u\"><div data-id=\"MOBFNG3GZXCV63BE\" style=\"width:100%\"><div class=\"_1UoZlX\"><a class=\"_31qSD5\" target=\"_blank\" rel=\"noopener noreferrer\" href=\"/realme-5i-aqua-blue-64-gb/p/itmdac0da867a9fa?pid=MOBFNG3GZXCV63BE&amp;lid=LSTMOBFNG3GZXCV63BEMPJERT&amp;marketplace=FLIPKART&amp;srno=b_1_2&amp;otracker=browse&amp;fm=organic&amp;iid=af2f18bc-ab2e-42a9-9590-0c0f5aa74c83.MOBFNG3GZXCV63BE.SEARCH&amp;ssid=9avi3i4a1s0000001580111835974\"><div class=\"_3SQWE6\"><div class=\"_1OCn9C\"><div><div class=\"_3BTv9X\" style=\"height:200px;width:200px\"><img class=\"_1Nyybr\" alt=\"Realme 5i (Aqua Blue, 64 GB)\" src=\"//img1a.flixcart.com/www/linchpin/fk-cp-zion/img/placeholder_9951d0.svg\"/></div></div></div><div class=\"_2lesQu\"><div class=\"_1O_CiZ\"><span class=\"_1iHA1p\"><div class=\"_2kFyHg\"><label><input type=\"checkbox\" class=\"_3uUUD5\" readonly=\"\"/><div class=\"_1p7h2j\"></div></label></div></span><label class=\"_10TB-Q\"><span>Add to Compare</span></label></div></div><div class=\"_3gDSOa _32A6AP\"><div class=\"DsQ2eg\"><svg xmlns=\"http://www.w3.org/2000/svg\" class=\"_2oLiqr\" width=\"16\" height=\"16\" viewBox=\"0 0 20 16\"><path d=\"M8.695 16.682C4.06 12.382 1 9.536 1 6.065 1 3.219 3.178 1 5.95 1c1.566 0 3.069.746 4.05 1.915C10.981 1.745 12.484 1 14.05 1 16.822 1 19 3.22 19 6.065c0 3.471-3.06 6.316-7.695 10.617L10 17.897l-1.305-1.215z\" fill=\"#2874F0\" class=\"_35Y7Yo\" stroke=\"#FFF\" fill-rule=\"evenodd\" opacity=\".9\"></path></svg></div></div></div><div class=\"_1-2Iqu row\"><div class=\"col col-7-12\"><div class=\"_3wU53n\">Realme 5i (Aqua Blue, 64 GB)</div><div class=\"niH0FQ\"><span id=\"productRating_LSTMOBFNG3GZXCV63BEMPJERT_MOBFNG3GZXCV63BE_\" class=\"_2_KrJI\"><div class=\"hGSR34\">4.5<img src=\"data:image/svg+xml;base64,PHN2ZyB4bWxucz0iaHR0cDovL3d3dy53My5vcmcvMjAwMC9zdmciIHdpZHRoPSIxMyIgaGVpZ2h0PSIxMiI+PHBhdGggZmlsbD0iI0ZGRiIgZD0iTTYuNSA5LjQzOWwtMy42NzQgMi4yMy45NC00LjI2LTMuMjEtMi44ODMgNC4yNTQtLjQwNEw2LjUuMTEybDEuNjkgNC4wMSA0LjI1NC40MDQtMy4yMSAyLjg4Mi45NCA0LjI2eiIvPjwvc3ZnPg==\" class=\"_2lQ_WZ\"/></div></span><span class=\"_38sUEc\"><span><span>21,766 Ratings\\xc2\\xa0</span><span class=\"_1VpSqZ\">&amp;</span><span>\\xc2\\xa01,870 Reviews</span></span></span></div><div class=\"_3ULzGw\"><ul class=\"vFw0gD\"><li class=\"tVe95H\">4 GB RAM | 64 GB ROM |</li><li class=\"tVe95H\">16.56 cm (6.52 inch) HD+ Display</li><li class=\"tVe95H\">12MP + 8MP + 2MP + 2MP | 8MP Front Camera</li><li class=\"tVe95H\">5000 mAh Battery</li><li class=\"tVe95H\">Qualcomm Snapdragon 665 2 GHz Processor</li><li class=\"tVe95H\">Sunrise Design</li><li class=\"tVe95H\">Reverse Charging</li><li class=\"tVe95H\">Brand Warranty of 1 Year Available for Mobile and 6 Months for Accessories</li></ul></div></div><div class=\"col col-5-12 _2o7WAb\"><div class=\"_6BWGkk\"><div class=\"_1uv9Cb\"><div class=\"_1vC4OE _2rQ-NK\">\\xe2\\x82\\xb98,999</div><div class=\"_3auQ3N _2GcJzG\">\\xe2\\x82\\xb9<!-- -->10,999</div><div class=\"VGWI6T\"><span>18% off</span></div></div></div><div class=\"_3n6o0t\"><img height=\"21\" src=\"//img1a.flixcart.com/www/linchpin/fk-cp-zion/img/fa_8b4b59.png\"/></div><div class=\"_2nE8_R\"><div class=\"_3_G5Wj\" style=\"color:#000000;font-size:14px;font-family:inherit;font-weight:normal\">No Cost EMI</div></div><div class=\"_2nE8_R\"><div class=\"_3_G5Wj\" style=\"color:#000000;font-size:14px;font-family:inherit;font-weight:normal\">Upto </div><div class=\"_3_G5Wj\" style=\"color:#000000;font-size:14px;font-family:inherit;font-weight:bold\">\\xe2\\x82\\xb98,850</div><div class=\"_3_G5Wj\" style=\"color:#000000;font-size:14px;font-family:inherit;font-weight:normal\"> Off on Exchange</div></div></div></div></a></div></div></div></div><div class=\"bhgxx2 col-12-12\"><div class=\"_3O0U0u\"><div data-id=\"MOBFKPYDENDXZZ7U\" style=\"width:100%\"><div class=\"_1UoZlX\"><a class=\"_31qSD5\" target=\"_blank\" rel=\"noopener noreferrer\" href=\"/redmi-8-sapphire-blue-64-gb/p/itme9614ba9b9bda?pid=MOBFKPYDENDXZZ7U&amp;lid=LSTMOBFKPYDENDXZZ7U5KFCKA&amp;marketplace=FLIPKART&amp;srno=b_1_3&amp;otracker=browse&amp;fm=organic&amp;iid=df4b0fa5-af8b-4e25-bd21-a054f0050258.MOBFKPYDENDXZZ7U.SEARCH&amp;ssid=9avi3i4a1s0000001580111835974\"><div class=\"_3SQWE6\"><div class=\"_1OCn9C\"><div><div class=\"_3BTv9X\" style=\"height:200px;width:200px\"><img class=\"_1Nyybr\" alt=\"Redmi 8 (Sapphire Blue, 64 GB)\" src=\"//img1a.flixcart.com/www/linchpin/fk-cp-zion/img/placeholder_9951d0.svg\"/></div></div></div><div class=\"_2lesQu\"><div class=\"_1O_CiZ\"><span class=\"_1iHA1p\"><div class=\"_2kFyHg\"><label><input type=\"checkbox\" class=\"_3uUUD5\" readonly=\"\"/><div class=\"_1p7h2j\"></div></label></div></span><label class=\"_10TB-Q\"><span>Add to Compare</span></label></div></div><div class=\"_3gDSOa _32A6AP\"><div class=\"DsQ2eg\"><svg xmlns=\"http://www.w3.org/2000/svg\" class=\"_2oLiqr\" width=\"16\" height=\"16\" viewBox=\"0 0 20 16\"><path d=\"M8.695 16.682C4.06 12.382 1 9.536 1 6.065 1 3.219 3.178 1 5.95 1c1.566 0 3.069.746 4.05 1.915C10.981 1.745 12.484 1 14.05 1 16.822 1 19 3.22 19 6.065c0 3.471-3.06 6.316-7.695 10.617L10 17.897l-1.305-1.215z\" fill=\"#2874F0\" class=\"_35Y7Yo\" stroke=\"#FFF\" fill-rule=\"evenodd\" opacity=\".9\"></path></svg></div></div></div><div class=\"_1-2Iqu row\"><div class=\"col col-7-12\"><div class=\"_3wU53n\">Redmi 8 (Sapphire Blue, 64 GB)</div><div class=\"niH0FQ\"><span id=\"productRating_LSTMOBFKPYDENDXZZ7U5KFCKA_MOBFKPYDENDXZZ7U_\" class=\"_2_KrJI\"><div class=\"hGSR34\">4.4<img src=\"data:image/svg+xml;base64,PHN2ZyB4bWxucz0iaHR0cDovL3d3dy53My5vcmcvMjAwMC9zdmciIHdpZHRoPSIxMyIgaGVpZ2h0PSIxMiI+PHBhdGggZmlsbD0iI0ZGRiIgZD0iTTYuNSA5LjQzOWwtMy42NzQgMi4yMy45NC00LjI2LTMuMjEtMi44ODMgNC4yNTQtLjQwNEw2LjUuMTEybDEuNjkgNC4wMSA0LjI1NC40MDQtMy4yMSAyLjg4Mi45NCA0LjI2eiIvPjwvc3ZnPg==\" class=\"_2lQ_WZ\"/></div></span><span class=\"_38sUEc\"><span><span>3,08,948 Ratings\\xc2\\xa0</span><span class=\"_1VpSqZ\">&amp;</span><span>\\xc2\\xa027,494 Reviews</span></span></span></div><div class=\"_3ULzGw\"><ul class=\"vFw0gD\"><li class=\"tVe95H\">4 GB RAM | 64 GB ROM | Expandable Upto 512 GB</li><li class=\"tVe95H\">15.8 cm (6.22 inch) HD+ Display</li><li class=\"tVe95H\">12MP + 2MP | 8MP Front Camera</li><li class=\"tVe95H\">5000 mAh Battery</li><li class=\"tVe95H\">Qualcomm Snapdragon 439 Processor</li><li class=\"tVe95H\">Brand Warranty of 1 Year Available for Mobile and 6 Months for Accessories</li></ul></div></div><div class=\"col col-5-12 _2o7WAb\"><div class=\"_6BWGkk\"><div class=\"_1uv9Cb\"><div class=\"_1vC4OE _2rQ-NK\">\\xe2\\x82\\xb97,999</div><div class=\"_3auQ3N _2GcJzG\">\\xe2\\x82\\xb9<!-- -->10,999</div><div class=\"VGWI6T\"><span>27% off</span></div></div></div><div class=\"_3n6o0t\"><img height=\"21\" src=\"//img1a.flixcart.com/www/linchpin/fk-cp-zion/img/fa_8b4b59.png\"/></div><div class=\"_2nE8_R\"><div class=\"_3_G5Wj\" style=\"color:#000000;font-size:14px;font-family:inherit;font-weight:normal\">No Cost EMI</div></div><div class=\"_2nE8_R\"><div class=\"_3_G5Wj\" style=\"color:#000000;font-size:14px;font-family:inherit;font-weight:normal\">Upto </div><div class=\"_3_G5Wj\" style=\"color:#000000;font-size:14px;font-family:inherit;font-weight:bold\">\\xe2\\x82\\xb97,950</div><div class=\"_3_G5Wj\" style=\"color:#000000;font-size:14px;font-family:inherit;font-weight:normal\"> Off on Exchange</div></div></div></div></a></div></div></div></div><div class=\"bhgxx2 col-12-12\"><div class=\"_3O0U0u\"><div data-id=\"MOBFKPYDZJQHGJXA\" style=\"width:100%\"><div class=\"_1UoZlX\"><a class=\"_31qSD5\" target=\"_blank\" rel=\"noopener noreferrer\" href=\"/redmi-8-onyx-black-64-gb/p/itmaf669d074ff27?pid=MOBFKPYDZJQHGJXA&amp;lid=LSTMOBFKPYDZJQHGJXA5X8Q5G&amp;marketplace=FLIPKART&amp;srno=b_1_4&amp;otracker=browse&amp;fm=organic&amp;iid=8850c621-ebaf-4ffa-9319-6a59a48a766a.MOBFKPYDZJQHGJXA.SEARCH&amp;ssid=9avi3i4a1s0000001580111835974\"><div class=\"_3SQWE6\"><div class=\"_1OCn9C\"><div><div class=\"_3BTv9X\" style=\"height:200px;width:200px\"><img class=\"_1Nyybr\" alt=\"Redmi 8 (Onyx Black, 64 GB)\" src=\"//img1a.flixcart.com/www/linchpin/fk-cp-zion/img/placeholder_9951d0.svg\"/></div></div></div><div class=\"_2lesQu\"><div class=\"_1O_CiZ\"><span class=\"_1iHA1p\"><div class=\"_2kFyHg\"><label><input type=\"checkbox\" class=\"_3uUUD5\" readonly=\"\"/><div class=\"_1p7h2j\"></div></label></div></span><label class=\"_10TB-Q\"><span>Add to Compare</span></label></div></div><div class=\"_3gDSOa _32A6AP\"><div class=\"DsQ2eg\"><svg xmlns=\"http://www.w3.org/2000/svg\" class=\"_2oLiqr\" width=\"16\" height=\"16\" viewBox=\"0 0 20 16\"><path d=\"M8.695 16.682C4.06 12.382 1 9.536 1 6.065 1 3.219 3.178 1 5.95 1c1.566 0 3.069.746 4.05 1.915C10.981 1.745 12.484 1 14.05 1 16.822 1 19 3.22 19 6.065c0 3.471-3.06 6.316-7.695 10.617L10 17.897l-1.305-1.215z\" fill=\"#2874F0\" class=\"_35Y7Yo\" stroke=\"#FFF\" fill-rule=\"evenodd\" opacity=\".9\"></path></svg></div></div></div><div class=\"_1-2Iqu row\"><div class=\"col col-7-12\"><div class=\"_3wU53n\">Redmi 8 (Onyx Black, 64 GB)</div><div class=\"niH0FQ\"><span id=\"productRating_LSTMOBFKPYDZJQHGJXA5X8Q5G_MOBFKPYDZJQHGJXA_\" class=\"_2_KrJI\"><div class=\"hGSR34\">4.4<img src=\"data:image/svg+xml;base64,PHN2ZyB4bWxucz0iaHR0cDovL3d3dy53My5vcmcvMjAwMC9zdmciIHdpZHRoPSIxMyIgaGVpZ2h0PSIxMiI+PHBhdGggZmlsbD0iI0ZGRiIgZD0iTTYuNSA5LjQzOWwtMy42NzQgMi4yMy45NC00LjI2LTMuMjEtMi44ODMgNC4yNTQtLjQwNEw2LjUuMTEybDEuNjkgNC4wMSA0LjI1NC40MDQtMy4yMSAyLjg4Mi45NCA0LjI2eiIvPjwvc3ZnPg==\" class=\"_2lQ_WZ\"/></div></span><span class=\"_38sUEc\"><span><span>3,08,948 Ratings\\xc2\\xa0</span><span class=\"_1VpSqZ\">&amp;</span><span>\\xc2\\xa027,494 Reviews</span></span></span></div><div class=\"_3ULzGw\"><ul class=\"vFw0gD\"><li class=\"tVe95H\">4 GB RAM | 64 GB ROM | Expandable Upto 512 GB</li><li class=\"tVe95H\">15.8 cm (6.22 inch) HD+ Display</li><li class=\"tVe95H\">12MP + 2MP | 8MP Front Camera</li><li class=\"tVe95H\">5000 mAh Battery</li><li class=\"tVe95H\">Qualcomm Snapdragon 439 Processor</li><li class=\"tVe95H\">Brand Warranty of 1 Year Available for Mobile and 6 Months for Accessories</li></ul></div></div><div class=\"col col-5-12 _2o7WAb\"><div class=\"_6BWGkk\"><div class=\"_1uv9Cb\"><div class=\"_1vC4OE _2rQ-NK\">\\xe2\\x82\\xb97,999</div><div class=\"_3auQ3N _2GcJzG\">\\xe2\\x82\\xb9<!-- -->10,999</div><div class=\"VGWI6T\"><span>27% off</span></div></div></div><div class=\"_3n6o0t\"><img height=\"21\" src=\"//img1a.flixcart.com/www/linchpin/fk-cp-zion/img/fa_8b4b59.png\"/></div><div class=\"_2nE8_R\"><div class=\"_3_G5Wj\" style=\"color:#000000;font-size:14px;font-family:inherit;font-weight:normal\">No Cost EMI</div></div><div class=\"_2nE8_R\"><div class=\"_3_G5Wj\" style=\"color:#000000;font-size:14px;font-family:inherit;font-weight:normal\">Upto </div><div class=\"_3_G5Wj\" style=\"color:#000000;font-size:14px;font-family:inherit;font-weight:bold\">\\xe2\\x82\\xb97,950</div><div class=\"_3_G5Wj\" style=\"color:#000000;font-size:14px;font-family:inherit;font-weight:normal\"> Off on Exchange</div></div></div></div></a></div></div></div></div><div class=\"bhgxx2 col-12-12\"><div class=\"_3O0U0u\"><div data-id=\"MOBFKF98BHTYSAHZ\" style=\"width:100%\"><div class=\"_1UoZlX\"><a class=\"_31qSD5\" target=\"_blank\" rel=\"noopener noreferrer\" href=\"/redmi-8a-ocean-blue-32-gb/p/itm1f8d1cbb1d232?pid=MOBFKF98BHTYSAHZ&amp;lid=LSTMOBFKF98BHTYSAHZCWZX8V&amp;marketplace=FLIPKART&amp;srno=b_1_5&amp;otracker=browse&amp;fm=organic&amp;iid=cb9a9d4f-5775-4485-b87e-8f4458821942.MOBFKF98BHTYSAHZ.SEARCH&amp;ssid=9avi3i4a1s0000001580111835974\"><div class=\"_3SQWE6\"><div class=\"_1OCn9C\"><div><div class=\"_3BTv9X\" style=\"height:200px;width:200px\"><img class=\"_1Nyybr\" alt=\"Redmi 8A (Ocean Blue, 32 GB)\" src=\"//img1a.flixcart.com/www/linchpin/fk-cp-zion/img/placeholder_9951d0.svg\"/></div></div></div><div class=\"_2lesQu\"><div class=\"_1O_CiZ\"><span class=\"_1iHA1p\"><div class=\"_2kFyHg\"><label><input type=\"checkbox\" class=\"_3uUUD5\" readonly=\"\"/><div class=\"_1p7h2j\"></div></label></div></span><label class=\"_10TB-Q\"><span>Add to Compare</span></label></div></div><div class=\"_3gDSOa _32A6AP\"><div class=\"DsQ2eg\"><svg xmlns=\"http://www.w3.org/2000/svg\" class=\"_2oLiqr\" width=\"16\" height=\"16\" viewBox=\"0 0 20 16\"><path d=\"M8.695 16.682C4.06 12.382 1 9.536 1 6.065 1 3.219 3.178 1 5.95 1c1.566 0 3.069.746 4.05 1.915C10.981 1.745 12.484 1 14.05 1 16.822 1 19 3.22 19 6.065c0 3.471-3.06 6.316-7.695 10.617L10 17.897l-1.305-1.215z\" fill=\"#2874F0\" class=\"_35Y7Yo\" stroke=\"#FFF\" fill-rule=\"evenodd\" opacity=\".9\"></path></svg></div></div></div><div class=\"_1-2Iqu row\"><div class=\"col col-7-12\"><div class=\"_3wU53n\">Redmi 8A (Ocean Blue, 32 GB)</div><div class=\"niH0FQ\"><span id=\"productRating_LSTMOBFKF98BHTYSAHZCWZX8V_MOBFKF98BHTYSAHZ_\" class=\"_2_KrJI\"><div class=\"hGSR34\">4.4<img src=\"data:image/svg+xml;base64,PHN2ZyB4bWxucz0iaHR0cDovL3d3dy53My5vcmcvMjAwMC9zdmciIHdpZHRoPSIxMyIgaGVpZ2h0PSIxMiI+PHBhdGggZmlsbD0iI0ZGRiIgZD0iTTYuNSA5LjQzOWwtMy42NzQgMi4yMy45NC00LjI2LTMuMjEtMi44ODMgNC4yNTQtLjQwNEw2LjUuMTEybDEuNjkgNC4wMSA0LjI1NC40MDQtMy4yMSAyLjg4Mi45NCA0LjI2eiIvPjwvc3ZnPg==\" class=\"_2lQ_WZ\"/></div></span><span class=\"_38sUEc\"><span><span>80,620 Ratings\\xc2\\xa0</span><span class=\"_1VpSqZ\">&amp;</span><span>\\xc2\\xa06,311 Reviews</span></span></span></div><div class=\"_3ULzGw\"><ul class=\"vFw0gD\"><li class=\"tVe95H\">2 GB RAM | 32 GB ROM | Expandable Upto 512 GB</li><li class=\"tVe95H\">15.8 cm (6.22 inch) HD+ Display</li><li class=\"tVe95H\">12MP Rear Camera | 8MP Front Camera</li><li class=\"tVe95H\">5000 mAh Battery</li><li class=\"tVe95H\">Qualcomm Snapdragon 439 Processor</li><li class=\"tVe95H\">Brand Warranty of 1 Year Available for Mobile and 6 Months for Accessories</li></ul></div></div><div class=\"col col-5-12 _2o7WAb\"><div class=\"_6BWGkk\"><div class=\"_1uv9Cb\"><div class=\"_1vC4OE _2rQ-NK\">\\xe2\\x82\\xb96,499</div><div class=\"_3auQ3N _2GcJzG\">\\xe2\\x82\\xb9<!-- -->7,999</div><div class=\"VGWI6T\"><span>18% off</span></div></div></div><div class=\"_3n6o0t\"><img height=\"21\" src=\"//img1a.flixcart.com/www/linchpin/fk-cp-zion/img/fa_8b4b59.png\"/></div><div class=\"_2nE8_R\"><div class=\"_3_G5Wj\" style=\"color:#000000;font-size:14px;font-family:inherit;font-weight:normal\">No Cost EMI</div></div><div class=\"_2nE8_R\"><div class=\"_3_G5Wj\" style=\"color:#000000;font-size:14px;font-family:inherit;font-weight:normal\">Upto </div><div class=\"_3_G5Wj\" style=\"color:#000000;font-size:14px;font-family:inherit;font-weight:bold\">\\xe2\\x82\\xb96,450</div><div class=\"_3_G5Wj\" style=\"color:#000000;font-size:14px;font-family:inherit;font-weight:normal\"> Off on Exchange</div></div></div></div></a></div></div></div></div><div class=\"bhgxx2 col-12-12\"><div class=\"_3O0U0u\"><div data-id=\"MOBFKF98FTTEN832\" style=\"width:100%\"><div class=\"_1UoZlX\"><a class=\"_31qSD5\" target=\"_blank\" rel=\"noopener noreferrer\" href=\"/redmi-8a-sunset-red-32-gb/p/itm5474ed67d23bf?pid=MOBFKF98FTTEN832&amp;lid=LSTMOBFKF98FTTEN832NKEHTF&amp;marketplace=FLIPKART&amp;srno=b_1_6&amp;otracker=browse&amp;fm=organic&amp;iid=a0b11b01-b393-4f17-acd8-8754999f5bdb.MOBFKF98FTTEN832.SEARCH&amp;ssid=9avi3i4a1s0000001580111835974\"><div class=\"_3SQWE6\"><div class=\"_1OCn9C\"><div><div class=\"_3BTv9X\" style=\"height:200px;width:200px\"><img class=\"_1Nyybr\" alt=\"Redmi 8A (Sunset Red, 32 GB)\" src=\"//img1a.flixcart.com/www/linchpin/fk-cp-zion/img/placeholder_9951d0.svg\"/></div></div></div><div class=\"_2lesQu\"><div class=\"_1O_CiZ\"><span class=\"_1iHA1p\"><div class=\"_2kFyHg\"><label><input type=\"checkbox\" class=\"_3uUUD5\" readonly=\"\"/><div class=\"_1p7h2j\"></div></label></div></span><label class=\"_10TB-Q\"><span>Add to Compare</span></label></div></div><div class=\"_3gDSOa _32A6AP\"><div class=\"DsQ2eg\"><svg xmlns=\"http://www.w3.org/2000/svg\" class=\"_2oLiqr\" width=\"16\" height=\"16\" viewBox=\"0 0 20 16\"><path d=\"M8.695 16.682C4.06 12.382 1 9.536 1 6.065 1 3.219 3.178 1 5.95 1c1.566 0 3.069.746 4.05 1.915C10.981 1.745 12.484 1 14.05 1 16.822 1 19 3.22 19 6.065c0 3.471-3.06 6.316-7.695 10.617L10 17.897l-1.305-1.215z\" fill=\"#2874F0\" class=\"_35Y7Yo\" stroke=\"#FFF\" fill-rule=\"evenodd\" opacity=\".9\"></path></svg></div></div></div><div class=\"_1-2Iqu row\"><div class=\"col col-7-12\"><div class=\"_3wU53n\">Redmi 8A (Sunset Red, 32 GB)</div><div class=\"niH0FQ\"><span id=\"productRating_LSTMOBFKF98FTTEN832NKEHTF_MOBFKF98FTTEN832_\" class=\"_2_KrJI\"><div class=\"hGSR34\">4.4<img src=\"data:image/svg+xml;base64,PHN2ZyB4bWxucz0iaHR0cDovL3d3dy53My5vcmcvMjAwMC9zdmciIHdpZHRoPSIxMyIgaGVpZ2h0PSIxMiI+PHBhdGggZmlsbD0iI0ZGRiIgZD0iTTYuNSA5LjQzOWwtMy42NzQgMi4yMy45NC00LjI2LTMuMjEtMi44ODMgNC4yNTQtLjQwNEw2LjUuMTEybDEuNjkgNC4wMSA0LjI1NC40MDQtMy4yMSAyLjg4Mi45NCA0LjI2eiIvPjwvc3ZnPg==\" class=\"_2lQ_WZ\"/></div></span><span class=\"_38sUEc\"><span><span>80,620 Ratings\\xc2\\xa0</span><span class=\"_1VpSqZ\">&amp;</span><span>\\xc2\\xa06,311 Reviews</span></span></span></div><div class=\"_3ULzGw\"><ul class=\"vFw0gD\"><li class=\"tVe95H\">2 GB RAM | 32 GB ROM | Expandable Upto 512 GB</li><li class=\"tVe95H\">15.8 cm (6.22 inch) HD+ Display</li><li class=\"tVe95H\">12MP Rear Camera | 8MP Front Camera</li><li class=\"tVe95H\">5000 mAh Battery</li><li class=\"tVe95H\">Qualcomm Snapdragon 439 Processor</li><li class=\"tVe95H\">Brand Warranty of 1 Year Available for Mobile and 6 Months for Accessories</li></ul></div></div><div class=\"col col-5-12 _2o7WAb\"><div class=\"_6BWGkk\"><div class=\"_1uv9Cb\"><div class=\"_1vC4OE _2rQ-NK\">\\xe2\\x82\\xb96,499</div><div class=\"_3auQ3N _2GcJzG\">\\xe2\\x82\\xb9<!-- -->7,999</div><div class=\"VGWI6T\"><span>18% off</span></div></div></div><div class=\"_3n6o0t\"><img height=\"21\" src=\"//img1a.flixcart.com/www/linchpin/fk-cp-zion/img/fa_8b4b59.png\"/></div><div class=\"_2nE8_R\"><div class=\"_3_G5Wj\" style=\"color:#000000;font-size:14px;font-family:inherit;font-weight:normal\">No Cost EMI</div></div><div class=\"_2nE8_R\"><div class=\"_3_G5Wj\" style=\"color:#000000;font-size:14px;font-family:inherit;font-weight:normal\">Upto </div><div class=\"_3_G5Wj\" style=\"color:#000000;font-size:14px;font-family:inherit;font-weight:bold\">\\xe2\\x82\\xb96,450</div><div class=\"_3_G5Wj\" style=\"color:#000000;font-size:14px;font-family:inherit;font-weight:normal\"> Off on Exchange</div></div></div></div></a></div></div></div></div><div class=\"bhgxx2 col-12-12\"><div class=\"_3O0U0u\"><div data-id=\"MOBFKF98FFAAY8EB\" style=\"width:100%\"><div class=\"_1UoZlX\"><a class=\"_31qSD5\" target=\"_blank\" rel=\"noopener noreferrer\" href=\"/redmi-8a-midnight-black-32-gb/p/itme2e12a5859993?pid=MOBFKF98FFAAY8EB&amp;lid=LSTMOBFKF98FFAAY8EBS8FFCJ&amp;marketplace=FLIPKART&amp;srno=b_1_7&amp;otracker=browse&amp;fm=organic&amp;iid=d560703a-01fd-467e-bc5a-515a96c836a5.MOBFKF98FFAAY8EB.SEARCH&amp;ssid=9avi3i4a1s0000001580111835974\"><div class=\"_3SQWE6\"><div class=\"_1OCn9C\"><div><div class=\"_3BTv9X\" style=\"height:200px;width:200px\"><img class=\"_1Nyybr\" alt=\"Redmi 8A (Midnight Black, 32 GB)\" src=\"//img1a.flixcart.com/www/linchpin/fk-cp-zion/img/placeholder_9951d0.svg\"/></div></div></div><div class=\"_2lesQu\"><div class=\"_1O_CiZ\"><span class=\"_1iHA1p\"><div class=\"_2kFyHg\"><label><input type=\"checkbox\" class=\"_3uUUD5\" readonly=\"\"/><div class=\"_1p7h2j\"></div></label></div></span><label class=\"_10TB-Q\"><span>Add to Compare</span></label></div></div><div class=\"_3gDSOa _32A6AP\"><div class=\"DsQ2eg\"><svg xmlns=\"http://www.w3.org/2000/svg\" class=\"_2oLiqr\" width=\"16\" height=\"16\" viewBox=\"0 0 20 16\"><path d=\"M8.695 16.682C4.06 12.382 1 9.536 1 6.065 1 3.219 3.178 1 5.95 1c1.566 0 3.069.746 4.05 1.915C10.981 1.745 12.484 1 14.05 1 16.822 1 19 3.22 19 6.065c0 3.471-3.06 6.316-7.695 10.617L10 17.897l-1.305-1.215z\" fill=\"#2874F0\" class=\"_35Y7Yo\" stroke=\"#FFF\" fill-rule=\"evenodd\" opacity=\".9\"></path></svg></div></div></div><div class=\"_1-2Iqu row\"><div class=\"col col-7-12\"><div class=\"_3wU53n\">Redmi 8A (Midnight Black, 32 GB)</div><div class=\"niH0FQ\"><span id=\"productRating_LSTMOBFKF98FFAAY8EBS8FFCJ_MOBFKF98FFAAY8EB_\" class=\"_2_KrJI\"><div class=\"hGSR34\">4.4<img src=\"data:image/svg+xml;base64,PHN2ZyB4bWxucz0iaHR0cDovL3d3dy53My5vcmcvMjAwMC9zdmciIHdpZHRoPSIxMyIgaGVpZ2h0PSIxMiI+PHBhdGggZmlsbD0iI0ZGRiIgZD0iTTYuNSA5LjQzOWwtMy42NzQgMi4yMy45NC00LjI2LTMuMjEtMi44ODMgNC4yNTQtLjQwNEw2LjUuMTEybDEuNjkgNC4wMSA0LjI1NC40MDQtMy4yMSAyLjg4Mi45NCA0LjI2eiIvPjwvc3ZnPg==\" class=\"_2lQ_WZ\"/></div></span><span class=\"_38sUEc\"><span><span>80,620 Ratings\\xc2\\xa0</span><span class=\"_1VpSqZ\">&amp;</span><span>\\xc2\\xa06,311 Reviews</span></span></span></div><div class=\"_3ULzGw\"><ul class=\"vFw0gD\"><li class=\"tVe95H\">2 GB RAM | 32 GB ROM | Expandable Upto 512 GB</li><li class=\"tVe95H\">15.8 cm (6.22 inch) HD+ Display</li><li class=\"tVe95H\">12MP Rear Camera | 8MP Front Camera</li><li class=\"tVe95H\">5000 mAh Battery</li><li class=\"tVe95H\">Qualcomm Snapdragon 439 Processor</li><li class=\"tVe95H\">Brand Warranty of 1 Year Available for Mobile and 6 Months for Accessories</li></ul></div></div><div class=\"col col-5-12 _2o7WAb\"><div class=\"_6BWGkk\"><div class=\"_1uv9Cb\"><div class=\"_1vC4OE _2rQ-NK\">\\xe2\\x82\\xb96,499</div><div class=\"_3auQ3N _2GcJzG\">\\xe2\\x82\\xb9<!-- -->7,999</div><div class=\"VGWI6T\"><span>18% off</span></div></div></div><div class=\"_3n6o0t\"><img height=\"21\" src=\"//img1a.flixcart.com/www/linchpin/fk-cp-zion/img/fa_8b4b59.png\"/></div><div class=\"_2nE8_R\"><div class=\"_3_G5Wj\" style=\"color:#000000;font-size:14px;font-family:inherit;font-weight:normal\">No Cost EMI</div></div><div class=\"_2nE8_R\"><div class=\"_3_G5Wj\" style=\"color:#000000;font-size:14px;font-family:inherit;font-weight:normal\">Upto </div><div class=\"_3_G5Wj\" style=\"color:#000000;font-size:14px;font-family:inherit;font-weight:bold\">\\xe2\\x82\\xb96,450</div><div class=\"_3_G5Wj\" style=\"color:#000000;font-size:14px;font-family:inherit;font-weight:normal\"> Off on Exchange</div></div></div></div></a></div></div></div></div><div class=\"bhgxx2 col-12-12\"><div class=\"_3O0U0u\"><div data-id=\"MOBFM2WZW8VZEXK3\" style=\"width:100%\"><div class=\"_1UoZlX\"><a class=\"_31qSD5\" target=\"_blank\" rel=\"noopener noreferrer\" href=\"/realme-5s-crystal-blue-128-gb/p/itm592977b0ba210?pid=MOBFM2WZW8VZEXK3&amp;lid=LSTMOBFM2WZW8VZEXK34R7HCI&amp;marketplace=FLIPKART&amp;srno=b_1_8&amp;otracker=browse&amp;fm=organic&amp;iid=8db96bcd-fa87-4932-8522-ef5cdc038a1e.MOBFM2WZW8VZEXK3.SEARCH&amp;ssid=9avi3i4a1s0000001580111835974\"><div class=\"_3SQWE6\"><div class=\"_1OCn9C\"><div><div class=\"_3BTv9X\" style=\"height:200px;width:200px\"><img class=\"_1Nyybr\" alt=\"Realme 5s (Crystal Blue, 128 GB)\" src=\"//img1a.flixcart.com/www/linchpin/fk-cp-zion/img/placeholder_9951d0.svg\"/></div></div></div><div class=\"_2lesQu\"><div class=\"_1O_CiZ\"><span class=\"_1iHA1p\"><div class=\"_2kFyHg\"><label><input type=\"checkbox\" class=\"_3uUUD5\" readonly=\"\"/><div class=\"_1p7h2j\"></div></label></div></span><label class=\"_10TB-Q\"><span>Add to Compare</span></label></div></div><div class=\"_3gDSOa _32A6AP\"><div class=\"DsQ2eg\"><svg xmlns=\"http://www.w3.org/2000/svg\" class=\"_2oLiqr\" width=\"16\" height=\"16\" viewBox=\"0 0 20 16\"><path d=\"M8.695 16.682C4.06 12.382 1 9.536 1 6.065 1 3.219 3.178 1 5.95 1c1.566 0 3.069.746 4.05 1.915C10.981 1.745 12.484 1 14.05 1 16.822 1 19 3.22 19 6.065c0 3.471-3.06 6.316-7.695 10.617L10 17.897l-1.305-1.215z\" fill=\"#2874F0\" class=\"_35Y7Yo\" stroke=\"#FFF\" fill-rule=\"evenodd\" opacity=\".9\"></path></svg></div></div></div><div class=\"_1-2Iqu row\"><div class=\"col col-7-12\"><div class=\"_3wU53n\">Realme 5s (Crystal Blue, 128 GB)</div><div class=\"niH0FQ\"><span id=\"productRating_LSTMOBFM2WZW8VZEXK34R7HCI_MOBFM2WZW8VZEXK3_\" class=\"_2_KrJI\"><div class=\"hGSR34\">4.4<img src=\"data:image/svg+xml;base64,PHN2ZyB4bWxucz0iaHR0cDovL3d3dy53My5vcmcvMjAwMC9zdmciIHdpZHRoPSIxMyIgaGVpZ2h0PSIxMiI+PHBhdGggZmlsbD0iI0ZGRiIgZD0iTTYuNSA5LjQzOWwtMy42NzQgMi4yMy45NC00LjI2LTMuMjEtMi44ODMgNC4yNTQtLjQwNEw2LjUuMTEybDEuNjkgNC4wMSA0LjI1NC40MDQtMy4yMSAyLjg4Mi45NCA0LjI2eiIvPjwvc3ZnPg==\" class=\"_2lQ_WZ\"/></div></span><span class=\"_38sUEc\"><span><span>1,39,728 Ratings\\xc2\\xa0</span><span class=\"_1VpSqZ\">&amp;</span><span>\\xc2\\xa013,248 Reviews</span></span></span></div><div class=\"_3ULzGw\"><ul class=\"vFw0gD\"><li class=\"tVe95H\">4 GB RAM | 128 GB ROM | Expandable Upto 256 GB</li><li class=\"tVe95H\">16.51 cm (6.5 inch) HD+ Display</li><li class=\"tVe95H\">48MP + 8MP + 2MP + 2MP | 13MP Front Camera</li><li class=\"tVe95H\">5000 mAh Battery</li><li class=\"tVe95H\">Qualcomm Snapdragon 665 Processor</li><li class=\"tVe95H\">HD+ Mini Drop Display</li><li class=\"tVe95H\">48 MP AI Quad camera</li><li class=\"tVe95H\">Brand Warranty of 1 Year Available for Mobile and 6 Months for Accessories</li></ul></div></div><div class=\"col col-5-12 _2o7WAb\"><div class=\"_6BWGkk\"><div class=\"_1uv9Cb\"><div class=\"_1vC4OE _2rQ-NK\">\\xe2\\x82\\xb910,999</div><div class=\"_3auQ3N _2GcJzG\">\\xe2\\x82\\xb9<!-- -->12,999</div><div class=\"VGWI6T\"><span>15% off</span></div></div></div><div class=\"_3n6o0t\"><img height=\"21\" src=\"//img1a.flixcart.com/www/linchpin/fk-cp-zion/img/fa_8b4b59.png\"/></div><div class=\"_2nE8_R\"><div class=\"_3_G5Wj\" style=\"color:#000000;font-size:14px;font-family:inherit;font-weight:normal\">No Cost EMI</div></div><div class=\"_2nE8_R\"><div class=\"_3_G5Wj\" style=\"color:#000000;font-size:14px;font-family:inherit;font-weight:normal\">Upto </div><div class=\"_3_G5Wj\" style=\"color:#000000;font-size:14px;font-family:inherit;font-weight:bold\">\\xe2\\x82\\xb910,750</div><div class=\"_3_G5Wj\" style=\"color:#000000;font-size:14px;font-family:inherit;font-weight:normal\"> Off on Exchange</div></div></div></div></a></div></div></div></div><div class=\"bhgxx2 col-12-12\"><div class=\"_3O0U0u\"><div data-id=\"MOBFM2WZGMU7DPZQ\" style=\"width:100%\"><div class=\"_1UoZlX\"><a class=\"_31qSD5\" target=\"_blank\" rel=\"noopener noreferrer\" href=\"/realme-5s-crystal-purple-64-gb/p/itm592977b0ba210?pid=MOBFM2WZGMU7DPZQ&amp;lid=LSTMOBFM2WZGMU7DPZQGXSMJB&amp;marketplace=FLIPKART&amp;srno=b_1_9&amp;otracker=browse&amp;fm=organic&amp;iid=e2aadff2-70f0-4556-83f6-dc3af3f628db.MOBFM2WZGMU7DPZQ.SEARCH&amp;ssid=9avi3i4a1s0000001580111835974\"><div class=\"_3SQWE6\"><div class=\"_1OCn9C\"><div><div class=\"_3BTv9X\" style=\"height:200px;width:200px\"><img class=\"_1Nyybr\" alt=\"Realme 5s (Crystal Purple, 64 GB)\" src=\"//img1a.flixcart.com/www/linchpin/fk-cp-zion/img/placeholder_9951d0.svg\"/></div></div></div><div class=\"_2lesQu\"><div class=\"_1O_CiZ\"><span class=\"_1iHA1p\"><div class=\"_2kFyHg\"><label><input type=\"checkbox\" class=\"_3uUUD5\" readonly=\"\"/><div class=\"_1p7h2j\"></div></label></div></span><label class=\"_10TB-Q\"><span>Add to Compare</span></label></div></div><div class=\"_3gDSOa _32A6AP\"><div class=\"DsQ2eg\"><svg xmlns=\"http://www.w3.org/2000/svg\" class=\"_2oLiqr\" width=\"16\" height=\"16\" viewBox=\"0 0 20 16\"><path d=\"M8.695 16.682C4.06 12.382 1 9.536 1 6.065 1 3.219 3.178 1 5.95 1c1.566 0 3.069.746 4.05 1.915C10.981 1.745 12.484 1 14.05 1 16.822 1 19 3.22 19 6.065c0 3.471-3.06 6.316-7.695 10.617L10 17.897l-1.305-1.215z\" fill=\"#2874F0\" class=\"_35Y7Yo\" stroke=\"#FFF\" fill-rule=\"evenodd\" opacity=\".9\"></path></svg></div></div></div><div class=\"_1-2Iqu row\"><div class=\"col col-7-12\"><div class=\"_3wU53n\">Realme 5s (Crystal Purple, 64 GB)</div><div class=\"niH0FQ\"><span id=\"productRating_LSTMOBFM2WZGMU7DPZQGXSMJB_MOBFM2WZGMU7DPZQ_\" class=\"_2_KrJI\"><div class=\"hGSR34\">4.4<img src=\"data:image/svg+xml;base64,PHN2ZyB4bWxucz0iaHR0cDovL3d3dy53My5vcmcvMjAwMC9zdmciIHdpZHRoPSIxMyIgaGVpZ2h0PSIxMiI+PHBhdGggZmlsbD0iI0ZGRiIgZD0iTTYuNSA5LjQzOWwtMy42NzQgMi4yMy45NC00LjI2LTMuMjEtMi44ODMgNC4yNTQtLjQwNEw2LjUuMTEybDEuNjkgNC4wMSA0LjI1NC40MDQtMy4yMSAyLjg4Mi45NCA0LjI2eiIvPjwvc3ZnPg==\" class=\"_2lQ_WZ\"/></div></span><span class=\"_38sUEc\"><span><span>1,39,728 Ratings\\xc2\\xa0</span><span class=\"_1VpSqZ\">&amp;</span><span>\\xc2\\xa013,248 Reviews</span></span></span></div><div class=\"_3ULzGw\"><ul class=\"vFw0gD\"><li class=\"tVe95H\">4 GB RAM | 64 GB ROM | Expandable Upto 256 GB</li><li class=\"tVe95H\">16.51 cm (6.5 inch) HD+ Display</li><li class=\"tVe95H\">48MP + 8MP + 2MP + 2MP | 13MP Front Camera</li><li class=\"tVe95H\">5000 mAh Battery</li><li class=\"tVe95H\">Qualcomm Snapdragon 665 Processor</li><li class=\"tVe95H\">HD+ Mini Drop Display</li><li class=\"tVe95H\">48 MP AI Quad camera</li><li class=\"tVe95H\">Brand Warranty of 1 Year Available for Mobile and 6 Months for Accessories</li></ul></div></div><div class=\"col col-5-12 _2o7WAb\"><div class=\"_6BWGkk\"><div class=\"_1uv9Cb\"><div class=\"_1vC4OE _2rQ-NK\">\\xe2\\x82\\xb99,999</div><div class=\"_3auQ3N _2GcJzG\">\\xe2\\x82\\xb9<!-- -->11,999</div><div class=\"VGWI6T\"><span>16% off</span></div></div></div><div class=\"_3n6o0t\"><img height=\"21\" src=\"//img1a.flixcart.com/www/linchpin/fk-cp-zion/img/fa_8b4b59.png\"/></div><div class=\"_2nE8_R\"><div class=\"_3_G5Wj\" style=\"color:#000000;font-size:14px;font-family:inherit;font-weight:normal\">No Cost EMI</div></div><div class=\"_2nE8_R\"><div class=\"_3_G5Wj\" style=\"color:#000000;font-size:14px;font-family:inherit;font-weight:normal\">Upto </div><div class=\"_3_G5Wj\" style=\"color:#000000;font-size:14px;font-family:inherit;font-weight:bold\">\\xe2\\x82\\xb99,750</div><div class=\"_3_G5Wj\" style=\"color:#000000;font-size:14px;font-family:inherit;font-weight:normal\"> Off on Exchange</div></div></div></div></a></div></div></div></div><div class=\"bhgxx2 col-12-12\"><div class=\"_3O0U0u\"><div data-id=\"MOBFM2WZ9AZUPTTZ\" style=\"width:100%\"><div class=\"_1UoZlX\"><a class=\"_31qSD5\" target=\"_blank\" rel=\"noopener noreferrer\" href=\"/realme-5s-crystal-blue-64-gb/p/itm592977b0ba210?pid=MOBFM2WZ9AZUPTTZ&amp;lid=LSTMOBFM2WZ9AZUPTTZXXEDBC&amp;marketplace=FLIPKART&amp;srno=b_1_10&amp;otracker=browse&amp;fm=organic&amp;iid=8c77cac4-4468-428e-b56a-96b3e0c6e1c0.MOBFM2WZ9AZUPTTZ.SEARCH&amp;ssid=9avi3i4a1s0000001580111835974\"><div class=\"_3SQWE6\"><div class=\"_1OCn9C\"><div><div class=\"_3BTv9X\" style=\"height:200px;width:200px\"><img class=\"_1Nyybr\" alt=\"Realme 5s (Crystal Blue, 64 GB)\" src=\"//img1a.flixcart.com/www/linchpin/fk-cp-zion/img/placeholder_9951d0.svg\"/></div></div></div><div class=\"_2lesQu\"><div class=\"_1O_CiZ\"><span class=\"_1iHA1p\"><div class=\"_2kFyHg\"><label><input type=\"checkbox\" class=\"_3uUUD5\" readonly=\"\"/><div class=\"_1p7h2j\"></div></label></div></span><label class=\"_10TB-Q\"><span>Add to Compare</span></label></div></div><div class=\"_3gDSOa _32A6AP\"><div class=\"DsQ2eg\"><svg xmlns=\"http://www.w3.org/2000/svg\" class=\"_2oLiqr\" width=\"16\" height=\"16\" viewBox=\"0 0 20 16\"><path d=\"M8.695 16.682C4.06 12.382 1 9.536 1 6.065 1 3.219 3.178 1 5.95 1c1.566 0 3.069.746 4.05 1.915C10.981 1.745 12.484 1 14.05 1 16.822 1 19 3.22 19 6.065c0 3.471-3.06 6.316-7.695 10.617L10 17.897l-1.305-1.215z\" fill=\"#2874F0\" class=\"_35Y7Yo\" stroke=\"#FFF\" fill-rule=\"evenodd\" opacity=\".9\"></path></svg></div></div></div><div class=\"_1-2Iqu row\"><div class=\"col col-7-12\"><div class=\"_3wU53n\">Realme 5s (Crystal Blue, 64 GB)</div><div class=\"niH0FQ\"><span id=\"productRating_LSTMOBFM2WZ9AZUPTTZXXEDBC_MOBFM2WZ9AZUPTTZ_\" class=\"_2_KrJI\"><div class=\"hGSR34\">4.4<img src=\"data:image/svg+xml;base64,PHN2ZyB4bWxucz0iaHR0cDovL3d3dy53My5vcmcvMjAwMC9zdmciIHdpZHRoPSIxMyIgaGVpZ2h0PSIxMiI+PHBhdGggZmlsbD0iI0ZGRiIgZD0iTTYuNSA5LjQzOWwtMy42NzQgMi4yMy45NC00LjI2LTMuMjEtMi44ODMgNC4yNTQtLjQwNEw2LjUuMTEybDEuNjkgNC4wMSA0LjI1NC40MDQtMy4yMSAyLjg4Mi45NCA0LjI2eiIvPjwvc3ZnPg==\" class=\"_2lQ_WZ\"/></div></span><span class=\"_38sUEc\"><span><span>1,39,728 Ratings\\xc2\\xa0</span><span class=\"_1VpSqZ\">&amp;</span><span>\\xc2\\xa013,248 Reviews</span></span></span></div><div class=\"_3ULzGw\"><ul class=\"vFw0gD\"><li class=\"tVe95H\">4 GB RAM | 64 GB ROM | Expandable Upto 256 GB</li><li class=\"tVe95H\">16.51 cm (6.5 inch) HD+ Display</li><li class=\"tVe95H\">48MP + 8MP + 2MP + 2MP | 13MP Front Camera</li><li class=\"tVe95H\">5000 mAh Battery</li><li class=\"tVe95H\">Qualcomm Snapdragon 665 Processor</li><li class=\"tVe95H\">HD+ Mini Drop Display</li><li class=\"tVe95H\">48 MP AI Quad camera</li><li class=\"tVe95H\">Brand Warranty of 1 Year Available for Mobile and 6 Months for Accessories</li></ul></div></div><div class=\"col col-5-12 _2o7WAb\"><div class=\"_6BWGkk\"><div class=\"_1uv9Cb\"><div class=\"_1vC4OE _2rQ-NK\">\\xe2\\x82\\xb99,999</div><div class=\"_3auQ3N _2GcJzG\">\\xe2\\x82\\xb9<!-- -->11,999</div><div class=\"VGWI6T\"><span>16% off</span></div></div></div><div class=\"_3n6o0t\"><img height=\"21\" src=\"//img1a.flixcart.com/www/linchpin/fk-cp-zion/img/fa_8b4b59.png\"/></div><div class=\"_2nE8_R\"><div class=\"_3_G5Wj\" style=\"color:#000000;font-size:14px;font-family:inherit;font-weight:normal\">No Cost EMI</div></div><div class=\"_2nE8_R\"><div class=\"_3_G5Wj\" style=\"color:#000000;font-size:14px;font-family:inherit;font-weight:normal\">Upto </div><div class=\"_3_G5Wj\" style=\"color:#000000;font-size:14px;font-family:inherit;font-weight:bold\">\\xe2\\x82\\xb99,750</div><div class=\"_3_G5Wj\" style=\"color:#000000;font-size:14px;font-family:inherit;font-weight:normal\"> Off on Exchange</div></div></div></div></a></div></div></div></div><div class=\"bhgxx2 col-12-12\"><div class=\"_3O0U0u\"><div data-id=\"MOBFKPYDCVSCZBYR\" style=\"width:100%\"><div class=\"_1UoZlX\"><a class=\"_31qSD5\" target=\"_blank\" rel=\"noopener noreferrer\" href=\"/redmi-8-ruby-red-64-gb/p/itm77e109b951360?pid=MOBFKPYDCVSCZBYR&amp;lid=LSTMOBFKPYDCVSCZBYRIZZUTP&amp;marketplace=FLIPKART&amp;srno=b_1_11&amp;otracker=browse&amp;fm=organic&amp;iid=5d53c871-53ac-477e-97fb-bf9d0821d97e.MOBFKPYDCVSCZBYR.SEARCH&amp;ssid=9avi3i4a1s0000001580111835974\"><div class=\"_3SQWE6\"><div class=\"_1OCn9C\"><div><div class=\"_3BTv9X\" style=\"height:200px;width:200px\"><img class=\"_1Nyybr\" alt=\"Redmi 8 (Ruby Red, 64 GB)\" src=\"//img1a.flixcart.com/www/linchpin/fk-cp-zion/img/placeholder_9951d0.svg\"/></div></div></div><div class=\"_2lesQu\"><div class=\"_1O_CiZ\"><span class=\"_1iHA1p\"><div class=\"_2kFyHg\"><label><input type=\"checkbox\" class=\"_3uUUD5\" readonly=\"\"/><div class=\"_1p7h2j\"></div></label></div></span><label class=\"_10TB-Q\"><span>Add to Compare</span></label></div></div><div class=\"_3gDSOa _32A6AP\"><div class=\"DsQ2eg\"><svg xmlns=\"http://www.w3.org/2000/svg\" class=\"_2oLiqr\" width=\"16\" height=\"16\" viewBox=\"0 0 20 16\"><path d=\"M8.695 16.682C4.06 12.382 1 9.536 1 6.065 1 3.219 3.178 1 5.95 1c1.566 0 3.069.746 4.05 1.915C10.981 1.745 12.484 1 14.05 1 16.822 1 19 3.22 19 6.065c0 3.471-3.06 6.316-7.695 10.617L10 17.897l-1.305-1.215z\" fill=\"#2874F0\" class=\"_35Y7Yo\" stroke=\"#FFF\" fill-rule=\"evenodd\" opacity=\".9\"></path></svg></div></div></div><div class=\"_1-2Iqu row\"><div class=\"col col-7-12\"><div class=\"_3wU53n\">Redmi 8 (Ruby Red, 64 GB)</div><div class=\"niH0FQ\"><span id=\"productRating_LSTMOBFKPYDCVSCZBYRIZZUTP_MOBFKPYDCVSCZBYR_\" class=\"_2_KrJI\"><div class=\"hGSR34\">4.4<img src=\"data:image/svg+xml;base64,PHN2ZyB4bWxucz0iaHR0cDovL3d3dy53My5vcmcvMjAwMC9zdmciIHdpZHRoPSIxMyIgaGVpZ2h0PSIxMiI+PHBhdGggZmlsbD0iI0ZGRiIgZD0iTTYuNSA5LjQzOWwtMy42NzQgMi4yMy45NC00LjI2LTMuMjEtMi44ODMgNC4yNTQtLjQwNEw2LjUuMTEybDEuNjkgNC4wMSA0LjI1NC40MDQtMy4yMSAyLjg4Mi45NCA0LjI2eiIvPjwvc3ZnPg==\" class=\"_2lQ_WZ\"/></div></span><span class=\"_38sUEc\"><span><span>3,08,948 Ratings\\xc2\\xa0</span><span class=\"_1VpSqZ\">&amp;</span><span>\\xc2\\xa027,494 Reviews</span></span></span></div><div class=\"_3ULzGw\"><ul class=\"vFw0gD\"><li class=\"tVe95H\">4 GB RAM | 64 GB ROM | Expandable Upto 512 GB</li><li class=\"tVe95H\">15.8 cm (6.22 inch) HD+ Display</li><li class=\"tVe95H\">12MP + 2MP | 8MP Front Camera</li><li class=\"tVe95H\">5000 mAh Battery</li><li class=\"tVe95H\">Qualcomm Snapdragon 439 Processor</li><li class=\"tVe95H\">Brand Warranty of 1 Year Available for Mobile and 6 Months for Accessories</li></ul></div></div><div class=\"col col-5-12 _2o7WAb\"><div class=\"_6BWGkk\"><div class=\"_1uv9Cb\"><div class=\"_1vC4OE _2rQ-NK\">\\xe2\\x82\\xb97,999</div><div class=\"_3auQ3N _2GcJzG\">\\xe2\\x82\\xb9<!-- -->10,999</div><div class=\"VGWI6T\"><span>27% off</span></div></div></div><div class=\"_3n6o0t\"><img height=\"21\" src=\"//img1a.flixcart.com/www/linchpin/fk-cp-zion/img/fa_8b4b59.png\"/></div><div class=\"_2nE8_R\"><div class=\"_3_G5Wj\" style=\"color:#000000;font-size:14px;font-family:inherit;font-weight:normal\">No Cost EMI</div></div><div class=\"_2nE8_R\"><div class=\"_3_G5Wj\" style=\"color:#000000;font-size:14px;font-family:inherit;font-weight:normal\">Upto </div><div class=\"_3_G5Wj\" style=\"color:#000000;font-size:14px;font-family:inherit;font-weight:bold\">\\xe2\\x82\\xb97,950</div><div class=\"_3_G5Wj\" style=\"color:#000000;font-size:14px;font-family:inherit;font-weight:normal\"> Off on Exchange</div></div></div></div></a></div></div></div></div><div class=\"bhgxx2 col-12-12\"><div class=\"_3O0U0u\"><div data-id=\"MOBFHHT5DEGWB9JE\" style=\"width:100%\"><div class=\"_1UoZlX\"><a class=\"_31qSD5\" target=\"_blank\" rel=\"noopener noreferrer\" href=\"/vivo-z1pro-sonic-black-64-gb/p/itmfghyebfrvjzfs?pid=MOBFHHT5DEGWB9JE&amp;lid=LSTMOBFHHT5DEGWB9JEJSQP1F&amp;marketplace=FLIPKART&amp;srno=b_1_12&amp;otracker=browse&amp;fm=organic&amp;iid=49569d13-9caa-4943-a2f2-1f4982af467e.MOBFHHT5DEGWB9JE.SEARCH&amp;ssid=9avi3i4a1s0000001580111835974\"><div class=\"_3SQWE6\"><div class=\"_1OCn9C\"><div><div class=\"_3BTv9X\" style=\"height:200px;width:200px\"><img class=\"_1Nyybr\" alt=\"Vivo Z1Pro (Sonic Black, 64 GB)\" src=\"//img1a.flixcart.com/www/linchpin/fk-cp-zion/img/placeholder_9951d0.svg\"/></div></div></div><div class=\"_2lesQu\"><div class=\"_1O_CiZ\"><span class=\"_1iHA1p\"><div class=\"_2kFyHg\"><label><input type=\"checkbox\" class=\"_3uUUD5\" readonly=\"\"/><div class=\"_1p7h2j\"></div></label></div></span><label class=\"_10TB-Q\"><span>Add to Compare</span></label></div></div><div class=\"_3gDSOa _32A6AP\"><div class=\"DsQ2eg\"><svg xmlns=\"http://www.w3.org/2000/svg\" class=\"_2oLiqr\" width=\"16\" height=\"16\" viewBox=\"0 0 20 16\"><path d=\"M8.695 16.682C4.06 12.382 1 9.536 1 6.065 1 3.219 3.178 1 5.95 1c1.566 0 3.069.746 4.05 1.915C10.981 1.745 12.484 1 14.05 1 16.822 1 19 3.22 19 6.065c0 3.471-3.06 6.316-7.695 10.617L10 17.897l-1.305-1.215z\" fill=\"#2874F0\" class=\"_35Y7Yo\" stroke=\"#FFF\" fill-rule=\"evenodd\" opacity=\".9\"></path></svg></div></div></div><div class=\"_1-2Iqu row\"><div class=\"col col-7-12\"><div class=\"_3wU53n\">Vivo Z1Pro (Sonic Black, 64 GB)</div><div class=\"niH0FQ\"><span id=\"productRating_LSTMOBFHHT5DEGWB9JEJSQP1F_MOBFHHT5DEGWB9JE_\" class=\"_2_KrJI\"><div class=\"hGSR34\">4.5<img src=\"data:image/svg+xml;base64,PHN2ZyB4bWxucz0iaHR0cDovL3d3dy53My5vcmcvMjAwMC9zdmciIHdpZHRoPSIxMyIgaGVpZ2h0PSIxMiI+PHBhdGggZmlsbD0iI0ZGRiIgZD0iTTYuNSA5LjQzOWwtMy42NzQgMi4yMy45NC00LjI2LTMuMjEtMi44ODMgNC4yNTQtLjQwNEw2LjUuMTEybDEuNjkgNC4wMSA0LjI1NC40MDQtMy4yMSAyLjg4Mi45NCA0LjI2eiIvPjwvc3ZnPg==\" class=\"_2lQ_WZ\"/></div></span><span class=\"_38sUEc\"><span><span>1,06,045 Ratings\\xc2\\xa0</span><span class=\"_1VpSqZ\">&amp;</span><span>\\xc2\\xa010,665 Reviews</span></span></span></div><div class=\"_3ULzGw\"><ul class=\"vFw0gD\"><li class=\"tVe95H\">6 GB RAM | 64 GB ROM | Expandable Upto 256 GB</li><li class=\"tVe95H\">16.59 cm (6.53 inch) Full HD+ Display</li><li class=\"tVe95H\">16MP + 2MP + 8MP | 32MP Front Camera</li><li class=\"tVe95H\">5000 mAh Battery</li><li class=\"tVe95H\">Qualcomm Snapdragon 712 AIE Octa Core 2.3GHz Processor</li><li class=\"tVe95H\">Fast Charging</li><li class=\"tVe95H\">Triple Card Slot</li><li class=\"tVe95H\">Brand Warranty of 1 Year Available for Mobile and 6 Months for Accessories</li></ul></div></div><div class=\"col col-5-12 _2o7WAb\"><div class=\"_6BWGkk\"><div class=\"_1uv9Cb\"><div class=\"_1vC4OE _2rQ-NK\">\\xe2\\x82\\xb913,990</div><div class=\"_3auQ3N _2GcJzG\">\\xe2\\x82\\xb9<!-- -->17,990</div><div class=\"VGWI6T\"><span>22% off</span></div></div></div><div class=\"_3n6o0t\"><img height=\"21\" src=\"//img1a.flixcart.com/www/linchpin/fk-cp-zion/img/fa_8b4b59.png\"/></div><div class=\"_2nE8_R\"><div class=\"_3_G5Wj\" style=\"color:#000000;font-size:14px;font-family:inherit;font-weight:normal\">No Cost EMI</div></div><div class=\"_2nE8_R\"><div class=\"_3_G5Wj\" style=\"color:#000000;font-size:14px;font-family:inherit;font-weight:normal\">Upto </div><div class=\"_3_G5Wj\" style=\"color:#000000;font-size:14px;font-family:inherit;font-weight:bold\">\\xe2\\x82\\xb913,650</div><div class=\"_3_G5Wj\" style=\"color:#000000;font-size:14px;font-family:inherit;font-weight:normal\"> Off on Exchange</div></div></div></div></a></div></div></div></div><div class=\"bhgxx2 col-12-12\"><div class=\"_3O0U0u\"><div data-id=\"MOBFHHT56NTTZKZ5\" style=\"width:100%\"><div class=\"_1UoZlX\"><a class=\"_31qSD5\" target=\"_blank\" rel=\"noopener noreferrer\" href=\"/vivo-z1pro-sonic-black-64-gb/p/itmfghyebfrvjzfs?pid=MOBFHHT56NTTZKZ5&amp;lid=LSTMOBFHHT56NTTZKZ5PWUNSS&amp;marketplace=FLIPKART&amp;srno=b_1_13&amp;otracker=browse&amp;fm=organic&amp;iid=d0630e11-cbe1-4f54-820d-409507ed7b13.MOBFHHT56NTTZKZ5.SEARCH&amp;ssid=9avi3i4a1s0000001580111835974\"><div class=\"_3SQWE6\"><div class=\"_1OCn9C\"><div><div class=\"_3BTv9X\" style=\"height:200px;width:200px\"><img class=\"_1Nyybr\" alt=\"Vivo Z1Pro (Sonic Black, 64 GB)\" src=\"//img1a.flixcart.com/www/linchpin/fk-cp-zion/img/placeholder_9951d0.svg\"/></div></div></div><div class=\"_2lesQu\"><div class=\"_1O_CiZ\"><span class=\"_1iHA1p\"><div class=\"_2kFyHg\"><label><input type=\"checkbox\" class=\"_3uUUD5\" readonly=\"\"/><div class=\"_1p7h2j\"></div></label></div></span><label class=\"_10TB-Q\"><span>Add to Compare</span></label></div></div><div class=\"_3gDSOa _32A6AP\"><div class=\"DsQ2eg\"><svg xmlns=\"http://www.w3.org/2000/svg\" class=\"_2oLiqr\" width=\"16\" height=\"16\" viewBox=\"0 0 20 16\"><path d=\"M8.695 16.682C4.06 12.382 1 9.536 1 6.065 1 3.219 3.178 1 5.95 1c1.566 0 3.069.746 4.05 1.915C10.981 1.745 12.484 1 14.05 1 16.822 1 19 3.22 19 6.065c0 3.471-3.06 6.316-7.695 10.617L10 17.897l-1.305-1.215z\" fill=\"#2874F0\" class=\"_35Y7Yo\" stroke=\"#FFF\" fill-rule=\"evenodd\" opacity=\".9\"></path></svg></div></div></div><div class=\"_1-2Iqu row\"><div class=\"col col-7-12\"><div class=\"_3wU53n\">Vivo Z1Pro (Sonic Black, 64 GB)</div><div class=\"niH0FQ\"><span id=\"productRating_LSTMOBFHHT56NTTZKZ5PWUNSS_MOBFHHT56NTTZKZ5_\" class=\"_2_KrJI\"><div class=\"hGSR34\">4.5<img src=\"data:image/svg+xml;base64,PHN2ZyB4bWxucz0iaHR0cDovL3d3dy53My5vcmcvMjAwMC9zdmciIHdpZHRoPSIxMyIgaGVpZ2h0PSIxMiI+PHBhdGggZmlsbD0iI0ZGRiIgZD0iTTYuNSA5LjQzOWwtMy42NzQgMi4yMy45NC00LjI2LTMuMjEtMi44ODMgNC4yNTQtLjQwNEw2LjUuMTEybDEuNjkgNC4wMSA0LjI1NC40MDQtMy4yMSAyLjg4Mi45NCA0LjI2eiIvPjwvc3ZnPg==\" class=\"_2lQ_WZ\"/></div></span><span class=\"_38sUEc\"><span><span>2,78,242 Ratings\\xc2\\xa0</span><span class=\"_1VpSqZ\">&amp;</span><span>\\xc2\\xa028,623 Reviews</span></span></span></div><div class=\"_3ULzGw\"><ul class=\"vFw0gD\"><li class=\"tVe95H\">4 GB RAM | 64 GB ROM | Expandable Upto 256 GB</li><li class=\"tVe95H\">16.59 cm (6.53 inch) Full HD+ Display</li><li class=\"tVe95H\">16MP + 2MP + 8MP | 32MP Front Camera</li><li class=\"tVe95H\">5000 mAh Battery</li><li class=\"tVe95H\">Qualcomm Snapdragon 712 AIE Octa Core 2.3GHz Processor</li><li class=\"tVe95H\">Fast Charging</li><li class=\"tVe95H\">Triple Card Slot</li><li class=\"tVe95H\">Brand Warranty of 1 Year Available for Mobile and 6 Months for Accessories</li></ul></div></div><div class=\"col col-5-12 _2o7WAb\"><div class=\"_6BWGkk\"><div class=\"_1uv9Cb\"><div class=\"_1vC4OE _2rQ-NK\">\\xe2\\x82\\xb912,990</div><div class=\"_3auQ3N _2GcJzG\">\\xe2\\x82\\xb9<!-- -->15,990</div><div class=\"VGWI6T\"><span>18% off</span></div></div></div><div class=\"_3n6o0t\"><img height=\"21\" src=\"//img1a.flixcart.com/www/linchpin/fk-cp-zion/img/fa_8b4b59.png\"/></div><div class=\"_2nE8_R\"><div class=\"_3_G5Wj\" style=\"color:#000000;font-size:14px;font-family:inherit;font-weight:normal\">No Cost EMI</div></div><div class=\"_2nE8_R\"><div class=\"_3_G5Wj\" style=\"color:#000000;font-size:14px;font-family:inherit;font-weight:normal\">Upto </div><div class=\"_3_G5Wj\" style=\"color:#000000;font-size:14px;font-family:inherit;font-weight:bold\">\\xe2\\x82\\xb911,700</div><div class=\"_3_G5Wj\" style=\"color:#000000;font-size:14px;font-family:inherit;font-weight:normal\"> Off on Exchange</div></div></div></div></a></div></div></div></div><div class=\"bhgxx2 col-12-12\"><div class=\"_3O0U0u\"><div data-id=\"MOBFNFGYPF5PRDQK\" style=\"width:100%\"><div class=\"_1UoZlX\"><div class=\"_1lkeIA\"><span>Ad</span></div><a class=\"_31qSD5\" target=\"_blank\" rel=\"noopener noreferrer\" href=\"/kall-k1000-green-64-gb/p/itm56e7fe626a312?pid=MOBFNFGYPF5PRDQK&amp;lid=LSTMOBFNFGYPF5PRDQKTGKHD5&amp;marketplace=FLIPKART&amp;srno=b_1_14&amp;otracker=browse&amp;fm=organic&amp;iid=en_D29BGRD9O6bWEOF9mExIhzsZtSz3ijdz12pZy%2FYo1%2FtCjVqPg8kOzgZy5FcK4BBm%2FwyXBPMCDcyIKhYqPR40AQ%3D%3D&amp;ssid=9avi3i4a1s0000001580111835974\"><div class=\"_3SQWE6\"><div class=\"_1OCn9C\"><div><div class=\"_3BTv9X\" style=\"height:200px;width:200px\"><img class=\"_1Nyybr\" alt=\"I Kall K1000 (Green, 64 GB)\" src=\"//img1a.flixcart.com/www/linchpin/fk-cp-zion/img/placeholder_9951d0.svg\"/></div></div></div><div class=\"_2lesQu\"><div class=\"_1O_CiZ\"><span class=\"_1iHA1p\"><div class=\"_2kFyHg\"><label><input type=\"checkbox\" class=\"_3uUUD5\" readonly=\"\"/><div class=\"_1p7h2j\"></div></label></div></span><label class=\"_10TB-Q\"><span>Add to Compare</span></label></div></div><div class=\"_3gDSOa _32A6AP\"><div class=\"DsQ2eg\"><svg xmlns=\"http://www.w3.org/2000/svg\" class=\"_2oLiqr\" width=\"16\" height=\"16\" viewBox=\"0 0 20 16\"><path d=\"M8.695 16.682C4.06 12.382 1 9.536 1 6.065 1 3.219 3.178 1 5.95 1c1.566 0 3.069.746 4.05 1.915C10.981 1.745 12.484 1 14.05 1 16.822 1 19 3.22 19 6.065c0 3.471-3.06 6.316-7.695 10.617L10 17.897l-1.305-1.215z\" fill=\"#2874F0\" class=\"_35Y7Yo\" stroke=\"#FFF\" fill-rule=\"evenodd\" opacity=\".9\"></path></svg></div></div></div><div class=\"_1-2Iqu row\"><div class=\"col col-7-12\"><div class=\"_3wU53n\">I Kall K1000 (Green, 64 GB)</div><div class=\"niH0FQ\"><span id=\"productRating_LSTMOBFNFGYPF5PRDQKTGKHD5_MOBFNFGYPF5PRDQK_\" class=\"_2_KrJI\"><div class=\"hGSR34\">3.7<img src=\"data:image/svg+xml;base64,PHN2ZyB4bWxucz0iaHR0cDovL3d3dy53My5vcmcvMjAwMC9zdmciIHdpZHRoPSIxMyIgaGVpZ2h0PSIxMiI+PHBhdGggZmlsbD0iI0ZGRiIgZD0iTTYuNSA5LjQzOWwtMy42NzQgMi4yMy45NC00LjI2LTMuMjEtMi44ODMgNC4yNTQtLjQwNEw2LjUuMTEybDEuNjkgNC4wMSA0LjI1NC40MDQtMy4yMSAyLjg4Mi45NCA0LjI2eiIvPjwvc3ZnPg==\" class=\"_2lQ_WZ\"/></div></span><span class=\"_38sUEc\"><span><span>10 Ratings\\xc2\\xa0</span><span class=\"_1VpSqZ\">&amp;</span><span>\\xc2\\xa02 Reviews</span></span></span></div><div class=\"_3ULzGw\"><ul class=\"vFw0gD\"><li class=\"tVe95H\">4 GB RAM | 64 GB ROM |</li><li class=\"tVe95H\">15.24 cm (6 inch) Display</li><li class=\"tVe95H\">8MP Rear Camera | 5MP Front Camera</li><li class=\"tVe95H\">3000 mAh Battery</li><li class=\"tVe95H\">Brand Warranty of 1 Year Available for Mobile and 6 Months for Accessories</li></ul></div></div><div class=\"col col-5-12 _2o7WAb\"><div class=\"_6BWGkk\"><div class=\"_1uv9Cb\"><div class=\"_1vC4OE _2rQ-NK\">\\xe2\\x82\\xb94,999</div><div class=\"_3auQ3N _2GcJzG\">\\xe2\\x82\\xb9<!-- -->7,999</div><div class=\"VGWI6T\"><span>37% off</span></div></div></div><div class=\"_3n6o0t\"><img height=\"21\" src=\"//img1a.flixcart.com/www/linchpin/fk-cp-zion/img/fa_8b4b59.png\"/></div></div></div></a></div></div></div></div><div class=\"bhgxx2 col-12-12\"><div class=\"_3O0U0u\"><div data-id=\"MOBFHHT5ZETVHC4H\" style=\"width:100%\"><div class=\"_1UoZlX\"><a class=\"_31qSD5\" target=\"_blank\" rel=\"noopener noreferrer\" href=\"/vivo-z1pro-sonic-blue-64-gb/p/itmfghyebfrvjzfs?pid=MOBFHHT5ZETVHC4H&amp;lid=LSTMOBFHHT5ZETVHC4H1MJSRL&amp;marketplace=FLIPKART&amp;srno=b_1_15&amp;otracker=browse&amp;fm=organic&amp;iid=ecf01924-a3ae-4be4-9159-7cb2bf5d9614.MOBFHHT5ZETVHC4H.SEARCH&amp;ssid=9avi3i4a1s0000001580111835974\"><div class=\"_3SQWE6\"><div class=\"_1OCn9C\"><div><div class=\"_3BTv9X\" style=\"height:200px;width:200px\"><img class=\"_1Nyybr\" alt=\"Vivo Z1Pro (Sonic Blue, 64 GB)\" src=\"//img1a.flixcart.com/www/linchpin/fk-cp-zion/img/placeholder_9951d0.svg\"/></div></div></div><div class=\"_2lesQu\"><div class=\"_1O_CiZ\"><span class=\"_1iHA1p\"><div class=\"_2kFyHg\"><label><input type=\"checkbox\" class=\"_3uUUD5\" readonly=\"\"/><div class=\"_1p7h2j\"></div></label></div></span><label class=\"_10TB-Q\"><span>Add to Compare</span></label></div></div><div class=\"_3gDSOa _32A6AP\"><div class=\"DsQ2eg\"><svg xmlns=\"http://www.w3.org/2000/svg\" class=\"_2oLiqr\" width=\"16\" height=\"16\" viewBox=\"0 0 20 16\"><path d=\"M8.695 16.682C4.06 12.382 1 9.536 1 6.065 1 3.219 3.178 1 5.95 1c1.566 0 3.069.746 4.05 1.915C10.981 1.745 12.484 1 14.05 1 16.822 1 19 3.22 19 6.065c0 3.471-3.06 6.316-7.695 10.617L10 17.897l-1.305-1.215z\" fill=\"#2874F0\" class=\"_35Y7Yo\" stroke=\"#FFF\" fill-rule=\"evenodd\" opacity=\".9\"></path></svg></div></div></div><div class=\"_1-2Iqu row\"><div class=\"col col-7-12\"><div class=\"_3wU53n\">Vivo Z1Pro (Sonic Blue, 64 GB)</div><div class=\"niH0FQ\"><span id=\"productRating_LSTMOBFHHT5ZETVHC4H1MJSRL_MOBFHHT5ZETVHC4H_\" class=\"_2_KrJI\"><div class=\"hGSR34\">4.5<img src=\"data:image/svg+xml;base64,PHN2ZyB4bWxucz0iaHR0cDovL3d3dy53My5vcmcvMjAwMC9zdmciIHdpZHRoPSIxMyIgaGVpZ2h0PSIxMiI+PHBhdGggZmlsbD0iI0ZGRiIgZD0iTTYuNSA5LjQzOWwtMy42NzQgMi4yMy45NC00LjI2LTMuMjEtMi44ODMgNC4yNTQtLjQwNEw2LjUuMTEybDEuNjkgNC4wMSA0LjI1NC40MDQtMy4yMSAyLjg4Mi45NCA0LjI2eiIvPjwvc3ZnPg==\" class=\"_2lQ_WZ\"/></div></span><span class=\"_38sUEc\"><span><span>1,06,045 Ratings\\xc2\\xa0</span><span class=\"_1VpSqZ\">&amp;</span><span>\\xc2\\xa010,665 Reviews</span></span></span></div><div class=\"_3ULzGw\"><ul class=\"vFw0gD\"><li class=\"tVe95H\">6 GB RAM | 64 GB ROM | Expandable Upto 256 GB</li><li class=\"tVe95H\">16.59 cm (6.53 inch) Full HD+ Display</li><li class=\"tVe95H\">16MP + 2MP + 8MP | 32MP Front Camera</li><li class=\"tVe95H\">5000 mAh Battery</li><li class=\"tVe95H\">Qualcomm Snapdragon 712 AIE Octa Core 2.3GHz Processor</li><li class=\"tVe95H\">Fast Charging</li><li class=\"tVe95H\">Triple Card Slot</li><li class=\"tVe95H\">Brand Warranty of 1 Year Available for Mobile and 6 Months for Accessories</li></ul></div></div><div class=\"col col-5-12 _2o7WAb\"><div class=\"_6BWGkk\"><div class=\"_1uv9Cb\"><div class=\"_1vC4OE _2rQ-NK\">\\xe2\\x82\\xb913,990</div><div class=\"_3auQ3N _2GcJzG\">\\xe2\\x82\\xb9<!-- -->17,990</div><div class=\"VGWI6T\"><span>22% off</span></div></div></div><div class=\"_3n6o0t\"><img height=\"21\" src=\"//img1a.flixcart.com/www/linchpin/fk-cp-zion/img/fa_8b4b59.png\"/></div><div class=\"_2nE8_R\"><div class=\"_3_G5Wj\" style=\"color:#000000;font-size:14px;font-family:inherit;font-weight:normal\">No Cost EMI</div></div><div class=\"_2nE8_R\"><div class=\"_3_G5Wj\" style=\"color:#000000;font-size:14px;font-family:inherit;font-weight:normal\">Upto </div><div class=\"_3_G5Wj\" style=\"color:#000000;font-size:14px;font-family:inherit;font-weight:bold\">\\xe2\\x82\\xb913,650</div><div class=\"_3_G5Wj\" style=\"color:#000000;font-size:14px;font-family:inherit;font-weight:normal\"> Off on Exchange</div></div></div></div></a></div></div></div></div><div class=\"bhgxx2 col-12-12\"><div class=\"_3O0U0u\"><div data-id=\"MOBFHHT5NZH8XCGB\" style=\"width:100%\"><div class=\"_1UoZlX\"><a class=\"_31qSD5\" target=\"_blank\" rel=\"noopener noreferrer\" href=\"/vivo-z1pro-sonic-blue-64-gb/p/itmfghyebfrvjzfs?pid=MOBFHHT5NZH8XCGB&amp;lid=LSTMOBFHHT5NZH8XCGBSRHJKG&amp;marketplace=FLIPKART&amp;srno=b_1_16&amp;otracker=browse&amp;fm=organic&amp;iid=3bb44e82-954b-4f3f-83e6-b440e8066880.MOBFHHT5NZH8XCGB.SEARCH&amp;ssid=9avi3i4a1s0000001580111835974\"><div class=\"_3SQWE6\"><div class=\"_1OCn9C\"><div><div class=\"_3BTv9X\" style=\"height:200px;width:200px\"><img class=\"_1Nyybr\" alt=\"Vivo Z1Pro (Sonic Blue, 64 GB)\" src=\"//img1a.flixcart.com/www/linchpin/fk-cp-zion/img/placeholder_9951d0.svg\"/></div></div></div><div class=\"_2lesQu\"><div class=\"_1O_CiZ\"><span class=\"_1iHA1p\"><div class=\"_2kFyHg\"><label><input type=\"checkbox\" class=\"_3uUUD5\" readonly=\"\"/><div class=\"_1p7h2j\"></div></label></div></span><label class=\"_10TB-Q\"><span>Add to Compare</span></label></div></div><div class=\"_3gDSOa _32A6AP\"><div class=\"DsQ2eg\"><svg xmlns=\"http://www.w3.org/2000/svg\" class=\"_2oLiqr\" width=\"16\" height=\"16\" viewBox=\"0 0 20 16\"><path d=\"M8.695 16.682C4.06 12.382 1 9.536 1 6.065 1 3.219 3.178 1 5.95 1c1.566 0 3.069.746 4.05 1.915C10.981 1.745 12.484 1 14.05 1 16.822 1 19 3.22 19 6.065c0 3.471-3.06 6.316-7.695 10.617L10 17.897l-1.305-1.215z\" fill=\"#2874F0\" class=\"_35Y7Yo\" stroke=\"#FFF\" fill-rule=\"evenodd\" opacity=\".9\"></path></svg></div></div></div><div class=\"_1-2Iqu row\"><div class=\"col col-7-12\"><div class=\"_3wU53n\">Vivo Z1Pro (Sonic Blue, 64 GB)</div><div class=\"niH0FQ\"><span id=\"productRating_LSTMOBFHHT5NZH8XCGBSRHJKG_MOBFHHT5NZH8XCGB_\" class=\"_2_KrJI\"><div class=\"hGSR34\">4.5<img src=\"data:image/svg+xml;base64,PHN2ZyB4bWxucz0iaHR0cDovL3d3dy53My5vcmcvMjAwMC9zdmciIHdpZHRoPSIxMyIgaGVpZ2h0PSIxMiI+PHBhdGggZmlsbD0iI0ZGRiIgZD0iTTYuNSA5LjQzOWwtMy42NzQgMi4yMy45NC00LjI2LTMuMjEtMi44ODMgNC4yNTQtLjQwNEw2LjUuMTEybDEuNjkgNC4wMSA0LjI1NC40MDQtMy4yMSAyLjg4Mi45NCA0LjI2eiIvPjwvc3ZnPg==\" class=\"_2lQ_WZ\"/></div></span><span class=\"_38sUEc\"><span><span>2,78,242 Ratings\\xc2\\xa0</span><span class=\"_1VpSqZ\">&amp;</span><span>\\xc2\\xa028,623 Reviews</span></span></span></div><div class=\"_3ULzGw\"><ul class=\"vFw0gD\"><li class=\"tVe95H\">4 GB RAM | 64 GB ROM | Expandable Upto 256 GB</li><li class=\"tVe95H\">16.59 cm (6.53 inch) Full HD+ Display</li><li class=\"tVe95H\">16MP + 2MP + 8MP | 32MP Front Camera</li><li class=\"tVe95H\">5000 mAh Battery</li><li class=\"tVe95H\">Qualcomm Snapdragon 712 AIE Octa Core 2.3GHz Processor</li><li class=\"tVe95H\">Fast Charging</li><li class=\"tVe95H\">Triple Card Slot</li><li class=\"tVe95H\">Brand Warranty of 1 Year Available for Mobile and 6 Months for Accessories</li></ul></div></div><div class=\"col col-5-12 _2o7WAb\"><div class=\"_6BWGkk\"><div class=\"_1uv9Cb\"><div class=\"_1vC4OE _2rQ-NK\">\\xe2\\x82\\xb912,990</div><div class=\"_3auQ3N _2GcJzG\">\\xe2\\x82\\xb9<!-- -->15,990</div><div class=\"VGWI6T\"><span>18% off</span></div></div></div><div class=\"_3n6o0t\"><img height=\"21\" src=\"//img1a.flixcart.com/www/linchpin/fk-cp-zion/img/fa_8b4b59.png\"/></div><div class=\"_2nE8_R\"><div class=\"_3_G5Wj\" style=\"color:#000000;font-size:14px;font-family:inherit;font-weight:normal\">No Cost EMI</div></div><div class=\"_2nE8_R\"><div class=\"_3_G5Wj\" style=\"color:#000000;font-size:14px;font-family:inherit;font-weight:normal\">Upto </div><div class=\"_3_G5Wj\" style=\"color:#000000;font-size:14px;font-family:inherit;font-weight:bold\">\\xe2\\x82\\xb911,700</div><div class=\"_3_G5Wj\" style=\"color:#000000;font-size:14px;font-family:inherit;font-weight:normal\"> Off on Exchange</div></div></div></div></a></div></div></div></div><div class=\"bhgxx2 col-12-12\"><div class=\"_3O0U0u\"><div data-id=\"MOBFHHT529KQHT8Z\" style=\"width:100%\"><div class=\"_1UoZlX\"><a class=\"_31qSD5\" target=\"_blank\" rel=\"noopener noreferrer\" href=\"/vivo-z1pro-sonic-black-128-gb/p/itmfghyebfrvjzfs?pid=MOBFHHT529KQHT8Z&amp;lid=LSTMOBFHHT529KQHT8Z7WZJL1&amp;marketplace=FLIPKART&amp;srno=b_1_17&amp;otracker=browse&amp;fm=organic&amp;iid=ecccecca-0783-4073-a4df-b439f7c562d2.MOBFHHT529KQHT8Z.SEARCH&amp;ssid=9avi3i4a1s0000001580111835974\"><div class=\"_3SQWE6\"><div class=\"_1OCn9C\"><div><div class=\"_3BTv9X\" style=\"height:200px;width:200px\"><img class=\"_1Nyybr\" alt=\"Vivo Z1Pro (Sonic Black, 128 GB)\" src=\"//img1a.flixcart.com/www/linchpin/fk-cp-zion/img/placeholder_9951d0.svg\"/></div></div></div><div class=\"_2lesQu\"><div class=\"_1O_CiZ\"><span class=\"_1iHA1p\"><div class=\"_2kFyHg\"><label><input type=\"checkbox\" class=\"_3uUUD5\" readonly=\"\"/><div class=\"_1p7h2j\"></div></label></div></span><label class=\"_10TB-Q\"><span>Add to Compare</span></label></div></div><div class=\"_3gDSOa _32A6AP\"><div class=\"DsQ2eg\"><svg xmlns=\"http://www.w3.org/2000/svg\" class=\"_2oLiqr\" width=\"16\" height=\"16\" viewBox=\"0 0 20 16\"><path d=\"M8.695 16.682C4.06 12.382 1 9.536 1 6.065 1 3.219 3.178 1 5.95 1c1.566 0 3.069.746 4.05 1.915C10.981 1.745 12.484 1 14.05 1 16.822 1 19 3.22 19 6.065c0 3.471-3.06 6.316-7.695 10.617L10 17.897l-1.305-1.215z\" fill=\"#2874F0\" class=\"_35Y7Yo\" stroke=\"#FFF\" fill-rule=\"evenodd\" opacity=\".9\"></path></svg></div></div></div><div class=\"_1-2Iqu row\"><div class=\"col col-7-12\"><div class=\"_3wU53n\">Vivo Z1Pro (Sonic Black, 128 GB)</div><div class=\"niH0FQ\"><span id=\"productRating_LSTMOBFHHT529KQHT8Z7WZJL1_MOBFHHT529KQHT8Z_\" class=\"_2_KrJI\"><div class=\"hGSR34\">4.5<img src=\"data:image/svg+xml;base64,PHN2ZyB4bWxucz0iaHR0cDovL3d3dy53My5vcmcvMjAwMC9zdmciIHdpZHRoPSIxMyIgaGVpZ2h0PSIxMiI+PHBhdGggZmlsbD0iI0ZGRiIgZD0iTTYuNSA5LjQzOWwtMy42NzQgMi4yMy45NC00LjI2LTMuMjEtMi44ODMgNC4yNTQtLjQwNEw2LjUuMTEybDEuNjkgNC4wMSA0LjI1NC40MDQtMy4yMSAyLjg4Mi45NCA0LjI2eiIvPjwvc3ZnPg==\" class=\"_2lQ_WZ\"/></div></span><span class=\"_38sUEc\"><span><span>1,06,045 Ratings\\xc2\\xa0</span><span class=\"_1VpSqZ\">&amp;</span><span>\\xc2\\xa010,665 Reviews</span></span></span></div><div class=\"_3ULzGw\"><ul class=\"vFw0gD\"><li class=\"tVe95H\">6 GB RAM | 128 GB ROM | Expandable Upto 256 GB</li><li class=\"tVe95H\">16.59 cm (6.53 inch) Full HD+ Display</li><li class=\"tVe95H\">16MP + 2MP + 8MP | 32MP Front Camera</li><li class=\"tVe95H\">5000 mAh Battery</li><li class=\"tVe95H\">Qualcomm Snapdragon 712 AIE Octa Core 2.3GHz Processor</li><li class=\"tVe95H\">Fast Charging</li><li class=\"tVe95H\">Triple Card Slot</li><li class=\"tVe95H\">Brand Warranty of 1 Year Available for Mobile and 6 Months for Accessories</li></ul></div></div><div class=\"col col-5-12 _2o7WAb\"><div class=\"_6BWGkk\"><div class=\"_1uv9Cb\"><div class=\"_1vC4OE _2rQ-NK\">\\xe2\\x82\\xb915,990</div><div class=\"_3auQ3N _2GcJzG\">\\xe2\\x82\\xb9<!-- -->20,990</div><div class=\"VGWI6T\"><span>23% off</span></div></div></div><div class=\"_3n6o0t\"><img height=\"21\" src=\"//img1a.flixcart.com/www/linchpin/fk-cp-zion/img/fa_8b4b59.png\"/></div><div class=\"_2nE8_R\"><div class=\"_3_G5Wj\" style=\"color:#000000;font-size:14px;font-family:inherit;font-weight:normal\">No Cost EMI</div></div><div class=\"_2nE8_R\"><div class=\"_3_G5Wj\" style=\"color:#000000;font-size:14px;font-family:inherit;font-weight:normal\">Upto </div><div class=\"_3_G5Wj\" style=\"color:#000000;font-size:14px;font-family:inherit;font-weight:bold\">\\xe2\\x82\\xb914,050</div><div class=\"_3_G5Wj\" style=\"color:#000000;font-size:14px;font-family:inherit;font-weight:normal\"> Off on Exchange</div></div></div></div></a></div></div></div></div><div class=\"bhgxx2 col-12-12\"><div class=\"_3O0U0u\"><div data-id=\"MOBFKF98ZVHXHUEP\" style=\"width:100%\"><div class=\"_1UoZlX\"><a class=\"_31qSD5\" target=\"_blank\" rel=\"noopener noreferrer\" href=\"/redmi-8a-ocean-blue-32-gb/p/itmeeddf84c49585?pid=MOBFKF98ZVHXHUEP&amp;lid=LSTMOBFKF98ZVHXHUEPBOY0ET&amp;marketplace=FLIPKART&amp;srno=b_1_18&amp;otracker=browse&amp;fm=organic&amp;iid=4815a901-c6d2-46ad-ab47-ae33e0a91c65.MOBFKF98ZVHXHUEP.SEARCH&amp;ssid=9avi3i4a1s0000001580111835974\"><div class=\"_3SQWE6\"><div class=\"_1OCn9C\"><div><div class=\"_3BTv9X\" style=\"height:200px;width:200px\"><img class=\"_1Nyybr\" alt=\"Redmi 8A (Ocean Blue, 32 GB)\" src=\"//img1a.flixcart.com/www/linchpin/fk-cp-zion/img/placeholder_9951d0.svg\"/></div></div></div><div class=\"_2lesQu\"><div class=\"_1O_CiZ\"><span class=\"_1iHA1p\"><div class=\"_2kFyHg\"><label><input type=\"checkbox\" class=\"_3uUUD5\" readonly=\"\"/><div class=\"_1p7h2j\"></div></label></div></span><label class=\"_10TB-Q\"><span>Add to Compare</span></label></div></div><div class=\"_3gDSOa _32A6AP\"><div class=\"DsQ2eg\"><svg xmlns=\"http://www.w3.org/2000/svg\" class=\"_2oLiqr\" width=\"16\" height=\"16\" viewBox=\"0 0 20 16\"><path d=\"M8.695 16.682C4.06 12.382 1 9.536 1 6.065 1 3.219 3.178 1 5.95 1c1.566 0 3.069.746 4.05 1.915C10.981 1.745 12.484 1 14.05 1 16.822 1 19 3.22 19 6.065c0 3.471-3.06 6.316-7.695 10.617L10 17.897l-1.305-1.215z\" fill=\"#2874F0\" class=\"_35Y7Yo\" stroke=\"#FFF\" fill-rule=\"evenodd\" opacity=\".9\"></path></svg></div></div></div><div class=\"_1-2Iqu row\"><div class=\"col col-7-12\"><div class=\"_3wU53n\">Redmi 8A (Ocean Blue, 32 GB)</div><div class=\"niH0FQ\"><span id=\"productRating_LSTMOBFKF98ZVHXHUEPBOY0ET_MOBFKF98ZVHXHUEP_\" class=\"_2_KrJI\"><div class=\"hGSR34\">4.4<img src=\"data:image/svg+xml;base64,PHN2ZyB4bWxucz0iaHR0cDovL3d3dy53My5vcmcvMjAwMC9zdmciIHdpZHRoPSIxMyIgaGVpZ2h0PSIxMiI+PHBhdGggZmlsbD0iI0ZGRiIgZD0iTTYuNSA5LjQzOWwtMy42NzQgMi4yMy45NC00LjI2LTMuMjEtMi44ODMgNC4yNTQtLjQwNEw2LjUuMTEybDEuNjkgNC4wMSA0LjI1NC40MDQtMy4yMSAyLjg4Mi45NCA0LjI2eiIvPjwvc3ZnPg==\" class=\"_2lQ_WZ\"/></div></span><span class=\"_38sUEc\"><span><span>75,779 Ratings\\xc2\\xa0</span><span class=\"_1VpSqZ\">&amp;</span><span>\\xc2\\xa06,320 Reviews</span></span></span></div><div class=\"_3ULzGw\"><ul class=\"vFw0gD\"><li class=\"tVe95H\">3 GB RAM | 32 GB ROM | Expandable Upto 512 GB</li><li class=\"tVe95H\">15.8 cm (6.22 inch) HD+ Display</li><li class=\"tVe95H\">12MP Rear Camera | 8MP Front Camera</li><li class=\"tVe95H\">5000 mAh Battery</li><li class=\"tVe95H\">Qualcomm Snapdragon 439 Processor</li><li class=\"tVe95H\">Brand Warranty of 1 Year Available for Mobile and 6 Months for Accessories</li></ul></div></div><div class=\"col col-5-12 _2o7WAb\"><div class=\"_6BWGkk\"><div class=\"_1uv9Cb\"><div class=\"_1vC4OE _2rQ-NK\">\\xe2\\x82\\xb96,999</div><div class=\"_3auQ3N _2GcJzG\">\\xe2\\x82\\xb9<!-- -->8,999</div><div class=\"VGWI6T\"><span>22% off</span></div></div></div><div class=\"_3n6o0t\"><img height=\"21\" src=\"//img1a.flixcart.com/www/linchpin/fk-cp-zion/img/fa_8b4b59.png\"/></div><div class=\"_2nE8_R\"><div class=\"_3_G5Wj\" style=\"color:#000000;font-size:14px;font-family:inherit;font-weight:normal\">No Cost EMI</div></div><div class=\"_2nE8_R\"><div class=\"_3_G5Wj\" style=\"color:#000000;font-size:14px;font-family:inherit;font-weight:normal\">Upto </div><div class=\"_3_G5Wj\" style=\"color:#000000;font-size:14px;font-family:inherit;font-weight:bold\">\\xe2\\x82\\xb96,950</div><div class=\"_3_G5Wj\" style=\"color:#000000;font-size:14px;font-family:inherit;font-weight:normal\"> Off on Exchange</div></div></div></div></a></div></div></div></div><div class=\"bhgxx2 col-12-12\"><div class=\"_3O0U0u\"><div data-id=\"MOBFM2WZG7AGFGJE\" style=\"width:100%\"><div class=\"_1UoZlX\"><a class=\"_31qSD5\" target=\"_blank\" rel=\"noopener noreferrer\" href=\"/realme-5s-crystal-purple-128-gb/p/itm592977b0ba210?pid=MOBFM2WZG7AGFGJE&amp;lid=LSTMOBFM2WZG7AGFGJEXD8LE2&amp;marketplace=FLIPKART&amp;srno=b_1_19&amp;otracker=browse&amp;fm=organic&amp;iid=bfadb053-49b0-4c11-a928-6ed3643d9fc5.MOBFM2WZG7AGFGJE.SEARCH&amp;ssid=9avi3i4a1s0000001580111835974\"><div class=\"_3SQWE6\"><div class=\"_1OCn9C\"><div><div class=\"_3BTv9X\" style=\"height:200px;width:200px\"><img class=\"_1Nyybr\" alt=\"Realme 5s (Crystal Purple, 128 GB)\" src=\"//img1a.flixcart.com/www/linchpin/fk-cp-zion/img/placeholder_9951d0.svg\"/></div></div></div><div class=\"_2lesQu\"><div class=\"_1O_CiZ\"><span class=\"_1iHA1p\"><div class=\"_2kFyHg\"><label><input type=\"checkbox\" class=\"_3uUUD5\" readonly=\"\"/><div class=\"_1p7h2j\"></div></label></div></span><label class=\"_10TB-Q\"><span>Add to Compare</span></label></div></div><div class=\"_3gDSOa _32A6AP\"><div class=\"DsQ2eg\"><svg xmlns=\"http://www.w3.org/2000/svg\" class=\"_2oLiqr\" width=\"16\" height=\"16\" viewBox=\"0 0 20 16\"><path d=\"M8.695 16.682C4.06 12.382 1 9.536 1 6.065 1 3.219 3.178 1 5.95 1c1.566 0 3.069.746 4.05 1.915C10.981 1.745 12.484 1 14.05 1 16.822 1 19 3.22 19 6.065c0 3.471-3.06 6.316-7.695 10.617L10 17.897l-1.305-1.215z\" fill=\"#2874F0\" class=\"_35Y7Yo\" stroke=\"#FFF\" fill-rule=\"evenodd\" opacity=\".9\"></path></svg></div></div></div><div class=\"_1-2Iqu row\"><div class=\"col col-7-12\"><div class=\"_3wU53n\">Realme 5s (Crystal Purple, 128 GB)</div><div class=\"niH0FQ\"><span id=\"productRating_LSTMOBFM2WZG7AGFGJEXD8LE2_MOBFM2WZG7AGFGJE_\" class=\"_2_KrJI\"><div class=\"hGSR34\">4.4<img src=\"data:image/svg+xml;base64,PHN2ZyB4bWxucz0iaHR0cDovL3d3dy53My5vcmcvMjAwMC9zdmciIHdpZHRoPSIxMyIgaGVpZ2h0PSIxMiI+PHBhdGggZmlsbD0iI0ZGRiIgZD0iTTYuNSA5LjQzOWwtMy42NzQgMi4yMy45NC00LjI2LTMuMjEtMi44ODMgNC4yNTQtLjQwNEw2LjUuMTEybDEuNjkgNC4wMSA0LjI1NC40MDQtMy4yMSAyLjg4Mi45NCA0LjI2eiIvPjwvc3ZnPg==\" class=\"_2lQ_WZ\"/></div></span><span class=\"_38sUEc\"><span><span>1,39,728 Ratings\\xc2\\xa0</span><span class=\"_1VpSqZ\">&amp;</span><span>\\xc2\\xa013,248 Reviews</span></span></span></div><div class=\"_3ULzGw\"><ul class=\"vFw0gD\"><li class=\"tVe95H\">4 GB RAM | 128 GB ROM | Expandable Upto 256 GB</li><li class=\"tVe95H\">16.51 cm (6.5 inch) HD+ Display</li><li class=\"tVe95H\">48MP + 8MP + 2MP + 2MP | 13MP Front Camera</li><li class=\"tVe95H\">5000 mAh Battery</li><li class=\"tVe95H\">Qualcomm Snapdragon 665 Processor</li><li class=\"tVe95H\">HD+ Mini Drop Display</li><li class=\"tVe95H\">48 MP AI Quad camera</li><li class=\"tVe95H\">Brand Warranty of 1 Year Available for Mobile and 6 Months for Accessories</li></ul></div></div><div class=\"col col-5-12 _2o7WAb\"><div class=\"_6BWGkk\"><div class=\"_1uv9Cb\"><div class=\"_1vC4OE _2rQ-NK\">\\xe2\\x82\\xb910,999</div><div class=\"_3auQ3N _2GcJzG\">\\xe2\\x82\\xb9<!-- -->12,999</div><div class=\"VGWI6T\"><span>15% off</span></div></div></div><div class=\"_3n6o0t\"><img height=\"21\" src=\"//img1a.flixcart.com/www/linchpin/fk-cp-zion/img/fa_8b4b59.png\"/></div><div class=\"_2nE8_R\"><div class=\"_3_G5Wj\" style=\"color:#000000;font-size:14px;font-family:inherit;font-weight:normal\">No Cost EMI</div></div><div class=\"_2nE8_R\"><div class=\"_3_G5Wj\" style=\"color:#000000;font-size:14px;font-family:inherit;font-weight:normal\">Upto </div><div class=\"_3_G5Wj\" style=\"color:#000000;font-size:14px;font-family:inherit;font-weight:bold\">\\xe2\\x82\\xb910,750</div><div class=\"_3_G5Wj\" style=\"color:#000000;font-size:14px;font-family:inherit;font-weight:normal\"> Off on Exchange</div></div></div></div></a></div></div></div></div><div class=\"bhgxx2 col-12-12\"><div class=\"_3O0U0u\"><div data-id=\"MOBFNFHDSY8B5CKV\" style=\"width:100%\"><div class=\"_1UoZlX\"><div class=\"_1lkeIA\"><span>Ad</span></div><a class=\"_31qSD5\" target=\"_blank\" rel=\"noopener noreferrer\" href=\"/kall-k1000-blue-64-gb/p/itm56e7fe626a312?pid=MOBFNFHDSY8B5CKV&amp;lid=LSTMOBFNFHDSY8B5CKVZHB7WJ&amp;marketplace=FLIPKART&amp;srno=b_1_20&amp;otracker=browse&amp;fm=organic&amp;iid=en_D29BGRD9O6bWEOF9mExIhzsZtSz3ijdz12pZy%2FYo1%2Fuy8R6ZfuzPGvtIvqaYD6iTpqjoiBQlzCKf1qkyZf2F%2Fg%3D%3D&amp;ssid=9avi3i4a1s0000001580111835974\"><div class=\"_3SQWE6\"><div class=\"_1OCn9C\"><div><div class=\"_3BTv9X\" style=\"height:200px;width:200px\"><img class=\"_1Nyybr\" alt=\"I Kall K1000 (Blue, 64 GB)\" src=\"//img1a.flixcart.com/www/linchpin/fk-cp-zion/img/placeholder_9951d0.svg\"/></div></div></div><div class=\"_2lesQu\"><div class=\"_1O_CiZ\"><span class=\"_1iHA1p\"><div class=\"_2kFyHg\"><label><input type=\"checkbox\" class=\"_3uUUD5\" readonly=\"\"/><div class=\"_1p7h2j\"></div></label></div></span><label class=\"_10TB-Q\"><span>Add to Compare</span></label></div></div><div class=\"_3gDSOa _32A6AP\"><div class=\"DsQ2eg\"><svg xmlns=\"http://www.w3.org/2000/svg\" class=\"_2oLiqr\" width=\"16\" height=\"16\" viewBox=\"0 0 20 16\"><path d=\"M8.695 16.682C4.06 12.382 1 9.536 1 6.065 1 3.219 3.178 1 5.95 1c1.566 0 3.069.746 4.05 1.915C10.981 1.745 12.484 1 14.05 1 16.822 1 19 3.22 19 6.065c0 3.471-3.06 6.316-7.695 10.617L10 17.897l-1.305-1.215z\" fill=\"#2874F0\" class=\"_35Y7Yo\" stroke=\"#FFF\" fill-rule=\"evenodd\" opacity=\".9\"></path></svg></div></div></div><div class=\"_1-2Iqu row\"><div class=\"col col-7-12\"><div class=\"_3wU53n\">I Kall K1000 (Blue, 64 GB)</div><div class=\"niH0FQ\"><span id=\"productRating_LSTMOBFNFHDSY8B5CKVZHB7WJ_MOBFNFHDSY8B5CKV_\" class=\"_2_KrJI\"><div class=\"hGSR34\">3.7<img src=\"data:image/svg+xml;base64,PHN2ZyB4bWxucz0iaHR0cDovL3d3dy53My5vcmcvMjAwMC9zdmciIHdpZHRoPSIxMyIgaGVpZ2h0PSIxMiI+PHBhdGggZmlsbD0iI0ZGRiIgZD0iTTYuNSA5LjQzOWwtMy42NzQgMi4yMy45NC00LjI2LTMuMjEtMi44ODMgNC4yNTQtLjQwNEw2LjUuMTEybDEuNjkgNC4wMSA0LjI1NC40MDQtMy4yMSAyLjg4Mi45NCA0LjI2eiIvPjwvc3ZnPg==\" class=\"_2lQ_WZ\"/></div></span><span class=\"_38sUEc\"><span><span>10 Ratings\\xc2\\xa0</span><span class=\"_1VpSqZ\">&amp;</span><span>\\xc2\\xa02 Reviews</span></span></span></div><div class=\"_3ULzGw\"><ul class=\"vFw0gD\"><li class=\"tVe95H\">4 GB RAM | 64 GB ROM |</li><li class=\"tVe95H\">15.24 cm (6 inch) Display</li><li class=\"tVe95H\">8MP Rear Camera | 5MP Front Camera</li><li class=\"tVe95H\">3000 mAh Battery</li><li class=\"tVe95H\">Brand Warranty of 1 Year Available for Mobile and 6 Months for Accessories</li></ul></div></div><div class=\"col col-5-12 _2o7WAb\"><div class=\"_6BWGkk\"><div class=\"_1uv9Cb\"><div class=\"_1vC4OE _2rQ-NK\">\\xe2\\x82\\xb94,999</div><div class=\"_3auQ3N _2GcJzG\">\\xe2\\x82\\xb9<!-- -->7,999</div><div class=\"VGWI6T\"><span>37% off</span></div></div></div><div class=\"_3n6o0t\"><img height=\"21\" src=\"//img1a.flixcart.com/www/linchpin/fk-cp-zion/img/fa_8b4b59.png\"/></div></div></div></a></div></div></div></div><div class=\"bhgxx2 col-12-12\"><div class=\"_3O0U0u\"><div data-id=\"MOBFKPYDTSZ8SFHH\" style=\"width:100%\"><div class=\"_1UoZlX\"><a class=\"_31qSD5\" target=\"_blank\" rel=\"noopener noreferrer\" href=\"/redmi-8-emerald-green-64-gb/p/itm19c0fbd7fc3a2?pid=MOBFKPYDTSZ8SFHH&amp;lid=LSTMOBFKPYDTSZ8SFHHCHXWZT&amp;marketplace=FLIPKART&amp;srno=b_1_21&amp;otracker=browse&amp;fm=organic&amp;iid=630bd8d0-8ea8-4769-894f-7cf474a01e84.MOBFKPYDTSZ8SFHH.SEARCH&amp;ssid=9avi3i4a1s0000001580111835974\"><div class=\"_3SQWE6\"><div class=\"_1OCn9C\"><div><div class=\"_3BTv9X\" style=\"height:200px;width:200px\"><img class=\"_1Nyybr\" alt=\"Redmi 8 (Emerald Green, 64 GB)\" src=\"//img1a.flixcart.com/www/linchpin/fk-cp-zion/img/placeholder_9951d0.svg\"/></div></div></div><div class=\"_2lesQu\"><div class=\"_1O_CiZ\"><span class=\"_1iHA1p\"><div class=\"_2kFyHg\"><label><input type=\"checkbox\" class=\"_3uUUD5\" readonly=\"\"/><div class=\"_1p7h2j\"></div></label></div></span><label class=\"_10TB-Q\"><span>Add to Compare</span></label></div></div><div class=\"_3gDSOa _32A6AP\"><div class=\"DsQ2eg\"><svg xmlns=\"http://www.w3.org/2000/svg\" class=\"_2oLiqr\" width=\"16\" height=\"16\" viewBox=\"0 0 20 16\"><path d=\"M8.695 16.682C4.06 12.382 1 9.536 1 6.065 1 3.219 3.178 1 5.95 1c1.566 0 3.069.746 4.05 1.915C10.981 1.745 12.484 1 14.05 1 16.822 1 19 3.22 19 6.065c0 3.471-3.06 6.316-7.695 10.617L10 17.897l-1.305-1.215z\" fill=\"#2874F0\" class=\"_35Y7Yo\" stroke=\"#FFF\" fill-rule=\"evenodd\" opacity=\".9\"></path></svg></div></div></div><div class=\"_1-2Iqu row\"><div class=\"col col-7-12\"><div class=\"_3wU53n\">Redmi 8 (Emerald Green, 64 GB)</div><div class=\"niH0FQ\"><span id=\"productRating_LSTMOBFKPYDTSZ8SFHHCHXWZT_MOBFKPYDTSZ8SFHH_\" class=\"_2_KrJI\"><div class=\"hGSR34\">4.4<img src=\"data:image/svg+xml;base64,PHN2ZyB4bWxucz0iaHR0cDovL3d3dy53My5vcmcvMjAwMC9zdmciIHdpZHRoPSIxMyIgaGVpZ2h0PSIxMiI+PHBhdGggZmlsbD0iI0ZGRiIgZD0iTTYuNSA5LjQzOWwtMy42NzQgMi4yMy45NC00LjI2LTMuMjEtMi44ODMgNC4yNTQtLjQwNEw2LjUuMTEybDEuNjkgNC4wMSA0LjI1NC40MDQtMy4yMSAyLjg4Mi45NCA0LjI2eiIvPjwvc3ZnPg==\" class=\"_2lQ_WZ\"/></div></span><span class=\"_38sUEc\"><span><span>3,08,948 Ratings\\xc2\\xa0</span><span class=\"_1VpSqZ\">&amp;</span><span>\\xc2\\xa027,494 Reviews</span></span></span></div><div class=\"_3ULzGw\"><ul class=\"vFw0gD\"><li class=\"tVe95H\">4 GB RAM | 64 GB ROM | Expandable Upto 512 GB</li><li class=\"tVe95H\">15.8 cm (6.22 inch) HD+ Display</li><li class=\"tVe95H\">12MP + 2MP | 8MP Front Camera</li><li class=\"tVe95H\">5000 mAh Battery</li><li class=\"tVe95H\">Qualcomm Snapdragon 439 Processor</li><li class=\"tVe95H\">Brand Warranty of 1 Year Available for Mobile and 6 Months for Accessories</li></ul></div></div><div class=\"col col-5-12 _2o7WAb\"><div class=\"_6BWGkk\"><div class=\"_1uv9Cb\"><div class=\"_1vC4OE _2rQ-NK\">\\xe2\\x82\\xb97,999</div><div class=\"_3auQ3N _2GcJzG\">\\xe2\\x82\\xb9<!-- -->10,999</div><div class=\"VGWI6T\"><span>27% off</span></div></div></div><div class=\"_3n6o0t\"><img height=\"21\" src=\"//img1a.flixcart.com/www/linchpin/fk-cp-zion/img/fa_8b4b59.png\"/></div><div class=\"_2nE8_R\"><div class=\"_3_G5Wj\" style=\"color:#000000;font-size:14px;font-family:inherit;font-weight:normal\">No Cost EMI</div></div><div class=\"_2nE8_R\"><div class=\"_3_G5Wj\" style=\"color:#000000;font-size:14px;font-family:inherit;font-weight:normal\">Upto </div><div class=\"_3_G5Wj\" style=\"color:#000000;font-size:14px;font-family:inherit;font-weight:bold\">\\xe2\\x82\\xb97,950</div><div class=\"_3_G5Wj\" style=\"color:#000000;font-size:14px;font-family:inherit;font-weight:normal\"> Off on Exchange</div></div></div></div></a></div></div></div></div><div class=\"bhgxx2 col-12-12\"><div class=\"_3O0U0u\"><div data-id=\"MOBFHBZ4MDMCNHNK\" style=\"width:100%\"><div class=\"_1UoZlX\"><a class=\"_31qSD5\" target=\"_blank\" rel=\"noopener noreferrer\" href=\"/realme-c2-diamond-black-32-gb/p/itmfgwba8kmejqpe?pid=MOBFHBZ4MDMCNHNK&amp;lid=LSTMOBFHBZ4MDMCNHNKOFORJ3&amp;marketplace=FLIPKART&amp;srno=b_1_22&amp;otracker=browse&amp;fm=organic&amp;iid=02460f57-057f-447d-9475-cbb876262c11.MOBFHBZ4MDMCNHNK.SEARCH&amp;ssid=9avi3i4a1s0000001580111835974\"><div class=\"_3SQWE6\"><div class=\"_1OCn9C\"><div><div class=\"_3BTv9X\" style=\"height:200px;width:200px\"><img class=\"_1Nyybr\" alt=\"Realme C2 (Diamond Black, 32 GB)\" src=\"//img1a.flixcart.com/www/linchpin/fk-cp-zion/img/placeholder_9951d0.svg\"/></div></div></div><div class=\"_2lesQu\"><div class=\"_1O_CiZ\"><span class=\"_1iHA1p\"><div class=\"_2kFyHg\"><label><input type=\"checkbox\" class=\"_3uUUD5\" readonly=\"\"/><div class=\"_1p7h2j\"></div></label></div></span><label class=\"_10TB-Q\"><span>Add to Compare</span></label></div></div><div class=\"_3gDSOa _32A6AP\"><div class=\"DsQ2eg\"><svg xmlns=\"http://www.w3.org/2000/svg\" class=\"_2oLiqr\" width=\"16\" height=\"16\" viewBox=\"0 0 20 16\"><path d=\"M8.695 16.682C4.06 12.382 1 9.536 1 6.065 1 3.219 3.178 1 5.95 1c1.566 0 3.069.746 4.05 1.915C10.981 1.745 12.484 1 14.05 1 16.822 1 19 3.22 19 6.065c0 3.471-3.06 6.316-7.695 10.617L10 17.897l-1.305-1.215z\" fill=\"#2874F0\" class=\"_35Y7Yo\" stroke=\"#FFF\" fill-rule=\"evenodd\" opacity=\".9\"></path></svg></div></div></div><div class=\"_1-2Iqu row\"><div class=\"col col-7-12\"><div class=\"_3wU53n\">Realme C2 (Diamond Black, 32 GB)</div><div class=\"niH0FQ\"><span id=\"productRating_LSTMOBFHBZ4MDMCNHNKOFORJ3_MOBFHBZ4MDMCNHNK_\" class=\"_2_KrJI\"><div class=\"hGSR34\">4.4<img src=\"data:image/svg+xml;base64,PHN2ZyB4bWxucz0iaHR0cDovL3d3dy53My5vcmcvMjAwMC9zdmciIHdpZHRoPSIxMyIgaGVpZ2h0PSIxMiI+PHBhdGggZmlsbD0iI0ZGRiIgZD0iTTYuNSA5LjQzOWwtMy42NzQgMi4yMy45NC00LjI2LTMuMjEtMi44ODMgNC4yNTQtLjQwNEw2LjUuMTEybDEuNjkgNC4wMSA0LjI1NC40MDQtMy4yMSAyLjg4Mi45NCA0LjI2eiIvPjwvc3ZnPg==\" class=\"_2lQ_WZ\"/></div></span><span class=\"_38sUEc\"><span><span>6,72,578 Ratings\\xc2\\xa0</span><span class=\"_1VpSqZ\">&amp;</span><span>\\xc2\\xa058,645 Reviews</span></span></span></div><div class=\"_3ULzGw\"><ul class=\"vFw0gD\"><li class=\"tVe95H\">2 GB RAM | 32 GB ROM | Expandable Upto 256 GB</li><li class=\"tVe95H\">15.49 cm (6.1 inch) HD+ Display</li><li class=\"tVe95H\">13MP + 2MP | 5MP Front Camera</li><li class=\"tVe95H\">4000 mAh Battery</li><li class=\"tVe95H\">MediaTek P22 Octa Core 2.0 GHz Processor</li><li class=\"tVe95H\">Dual Nano SIM slots and Memory Card Slot</li><li class=\"tVe95H\">Face Unlock</li><li class=\"tVe95H\">Brand Warranty of 1 Year Available for Mobile and 6 Months for Accessories</li></ul></div></div><div class=\"col col-5-12 _2o7WAb\"><div class=\"_6BWGkk\"><div class=\"_1uv9Cb\"><div class=\"_1vC4OE _2rQ-NK\">\\xe2\\x82\\xb95,999</div><div class=\"_3auQ3N _2GcJzG\">\\xe2\\x82\\xb9<!-- -->7,999</div><div class=\"VGWI6T\"><span>25% off</span></div></div></div><div class=\"_3n6o0t\"><img height=\"21\" src=\"//img1a.flixcart.com/www/linchpin/fk-cp-zion/img/fa_8b4b59.png\"/></div><div class=\"_2nE8_R\"><div class=\"_3_G5Wj\" style=\"color:#000000;font-size:14px;font-family:inherit;font-weight:normal\">No Cost EMI</div></div><div class=\"_2nE8_R\"><div class=\"_3_G5Wj\" style=\"color:#000000;font-size:14px;font-family:inherit;font-weight:normal\">Upto </div><div class=\"_3_G5Wj\" style=\"color:#000000;font-size:14px;font-family:inherit;font-weight:bold\">\\xe2\\x82\\xb95,950</div><div class=\"_3_G5Wj\" style=\"color:#000000;font-size:14px;font-family:inherit;font-weight:normal\"> Off on Exchange</div></div></div></div></a></div></div></div></div><div class=\"bhgxx2 col-12-12\"><div class=\"_3O0U0u\"><div data-id=\"MOBFHBZ4ZQB3CTZW\" style=\"width:100%\"><div class=\"_1UoZlX\"><a class=\"_31qSD5\" target=\"_blank\" rel=\"noopener noreferrer\" href=\"/realme-c2-diamond-blue-32-gb/p/itmfgwba8kmejqpe?pid=MOBFHBZ4ZQB3CTZW&amp;lid=LSTMOBFHBZ4ZQB3CTZWUFZDQI&amp;marketplace=FLIPKART&amp;srno=b_1_23&amp;otracker=browse&amp;fm=organic&amp;iid=f9ad3851-c452-4ff8-a559-cf0f2d46ba3c.MOBFHBZ4ZQB3CTZW.SEARCH&amp;ssid=9avi3i4a1s0000001580111835974\"><div class=\"_3SQWE6\"><div class=\"_1OCn9C\"><div><div class=\"_3BTv9X\" style=\"height:200px;width:200px\"><img class=\"_1Nyybr\" alt=\"Realme C2 (Diamond Blue, 32 GB)\" src=\"//img1a.flixcart.com/www/linchpin/fk-cp-zion/img/placeholder_9951d0.svg\"/></div></div></div><div class=\"_2lesQu\"><div class=\"_1O_CiZ\"><span class=\"_1iHA1p\"><div class=\"_2kFyHg\"><label><input type=\"checkbox\" class=\"_3uUUD5\" readonly=\"\"/><div class=\"_1p7h2j\"></div></label></div></span><label class=\"_10TB-Q\"><span>Add to Compare</span></label></div></div><div class=\"_3gDSOa _32A6AP\"><div class=\"DsQ2eg\"><svg xmlns=\"http://www.w3.org/2000/svg\" class=\"_2oLiqr\" width=\"16\" height=\"16\" viewBox=\"0 0 20 16\"><path d=\"M8.695 16.682C4.06 12.382 1 9.536 1 6.065 1 3.219 3.178 1 5.95 1c1.566 0 3.069.746 4.05 1.915C10.981 1.745 12.484 1 14.05 1 16.822 1 19 3.22 19 6.065c0 3.471-3.06 6.316-7.695 10.617L10 17.897l-1.305-1.215z\" fill=\"#2874F0\" class=\"_35Y7Yo\" stroke=\"#FFF\" fill-rule=\"evenodd\" opacity=\".9\"></path></svg></div></div></div><div class=\"_1-2Iqu row\"><div class=\"col col-7-12\"><div class=\"_3wU53n\">Realme C2 (Diamond Blue, 32 GB)</div><div class=\"niH0FQ\"><span id=\"productRating_LSTMOBFHBZ4ZQB3CTZWUFZDQI_MOBFHBZ4ZQB3CTZW_\" class=\"_2_KrJI\"><div class=\"hGSR34\">4.4<img src=\"data:image/svg+xml;base64,PHN2ZyB4bWxucz0iaHR0cDovL3d3dy53My5vcmcvMjAwMC9zdmciIHdpZHRoPSIxMyIgaGVpZ2h0PSIxMiI+PHBhdGggZmlsbD0iI0ZGRiIgZD0iTTYuNSA5LjQzOWwtMy42NzQgMi4yMy45NC00LjI2LTMuMjEtMi44ODMgNC4yNTQtLjQwNEw2LjUuMTEybDEuNjkgNC4wMSA0LjI1NC40MDQtMy4yMSAyLjg4Mi45NCA0LjI2eiIvPjwvc3ZnPg==\" class=\"_2lQ_WZ\"/></div></span><span class=\"_38sUEc\"><span><span>6,72,578 Ratings\\xc2\\xa0</span><span class=\"_1VpSqZ\">&amp;</span><span>\\xc2\\xa058,645 Reviews</span></span></span></div><div class=\"_3ULzGw\"><ul class=\"vFw0gD\"><li class=\"tVe95H\">2 GB RAM | 32 GB ROM | Expandable Upto 256 GB</li><li class=\"tVe95H\">15.49 cm (6.1 inch) HD+ Display</li><li class=\"tVe95H\">13MP + 2MP | 5MP Front Camera</li><li class=\"tVe95H\">4000 mAh Battery</li><li class=\"tVe95H\">MediaTek P22 Octa Core 2.0 GHz Processor</li><li class=\"tVe95H\">Dual Nano SIM slots and Memory Card Slot</li><li class=\"tVe95H\">Face Unlock</li><li class=\"tVe95H\">Brand Warranty of 1 Year Available for Mobile and 6 Months for Accessories</li></ul></div></div><div class=\"col col-5-12 _2o7WAb\"><div class=\"_6BWGkk\"><div class=\"_1uv9Cb\"><div class=\"_1vC4OE _2rQ-NK\">\\xe2\\x82\\xb95,999</div><div class=\"_3auQ3N _2GcJzG\">\\xe2\\x82\\xb9<!-- -->7,999</div><div class=\"VGWI6T\"><span>25% off</span></div></div></div><div class=\"_3n6o0t\"><img height=\"21\" src=\"//img1a.flixcart.com/www/linchpin/fk-cp-zion/img/fa_8b4b59.png\"/></div><div class=\"_2nE8_R\"><div class=\"_3_G5Wj\" style=\"color:#000000;font-size:14px;font-family:inherit;font-weight:normal\">No Cost EMI</div></div><div class=\"_2nE8_R\"><div class=\"_3_G5Wj\" style=\"color:#000000;font-size:14px;font-family:inherit;font-weight:normal\">Upto </div><div class=\"_3_G5Wj\" style=\"color:#000000;font-size:14px;font-family:inherit;font-weight:bold\">\\xe2\\x82\\xb95,950</div><div class=\"_3_G5Wj\" style=\"color:#000000;font-size:14px;font-family:inherit;font-weight:normal\"> Off on Exchange</div></div></div></div></a></div></div></div></div><div class=\"bhgxx2 col-12-12\"><div class=\"_3O0U0u\"><div data-id=\"MOBFMYZZJJ4FPE3U\" style=\"width:100%\"><div class=\"_1UoZlX\"><div class=\"_1lkeIA\"><span>Ad</span></div><a class=\"_31qSD5\" target=\"_blank\" rel=\"noopener noreferrer\" href=\"/kall-k900-dark-blue-64-gb/p/itmc5f10316af1f1?pid=MOBFMYZZJJ4FPE3U&amp;lid=LSTMOBFMYZZJJ4FPE3UDAUHAH&amp;marketplace=FLIPKART&amp;srno=b_1_24&amp;otracker=browse&amp;fm=organic&amp;iid=en_D29BGRD9O6bWEOF9mExIhzsZtSz3ijdz12pZy%2FYo1%2Fs%2FPE6io5CJuVaDBEF75VpyGgzvwa%2ByTrUAwjZoXR766g%3D%3D&amp;ssid=9avi3i4a1s0000001580111835974\"><div class=\"_3SQWE6\"><div class=\"_1OCn9C\"><div><div class=\"_3BTv9X\" style=\"height:200px;width:200px\"><img class=\"_1Nyybr\" alt=\"I Kall K900 (Dark Blue, 64 GB)\" src=\"//img1a.flixcart.com/www/linchpin/fk-cp-zion/img/placeholder_9951d0.svg\"/></div></div></div><div class=\"_2lesQu\"><div class=\"_1O_CiZ\"><span class=\"_1iHA1p\"><div class=\"_2kFyHg\"><label><input type=\"checkbox\" class=\"_3uUUD5\" readonly=\"\"/><div class=\"_1p7h2j\"></div></label></div></span><label class=\"_10TB-Q\"><span>Add to Compare</span></label></div></div><div class=\"_3gDSOa _32A6AP\"><div class=\"DsQ2eg\"><svg xmlns=\"http://www.w3.org/2000/svg\" class=\"_2oLiqr\" width=\"16\" height=\"16\" viewBox=\"0 0 20 16\"><path d=\"M8.695 16.682C4.06 12.382 1 9.536 1 6.065 1 3.219 3.178 1 5.95 1c1.566 0 3.069.746 4.05 1.915C10.981 1.745 12.484 1 14.05 1 16.822 1 19 3.22 19 6.065c0 3.471-3.06 6.316-7.695 10.617L10 17.897l-1.305-1.215z\" fill=\"#2874F0\" class=\"_35Y7Yo\" stroke=\"#FFF\" fill-rule=\"evenodd\" opacity=\".9\"></path></svg></div></div></div><div class=\"_1-2Iqu row\"><div class=\"col col-7-12\"><div class=\"_3wU53n\">I Kall K900 (Dark Blue, 64 GB)</div><div class=\"niH0FQ\"><span id=\"productRating_LSTMOBFMYZZJJ4FPE3UDAUHAH_MOBFMYZZJJ4FPE3U_\" class=\"_2_KrJI\"><div class=\"hGSR34\">3.5<img src=\"data:image/svg+xml;base64,PHN2ZyB4bWxucz0iaHR0cDovL3d3dy53My5vcmcvMjAwMC9zdmciIHdpZHRoPSIxMyIgaGVpZ2h0PSIxMiI+PHBhdGggZmlsbD0iI0ZGRiIgZD0iTTYuNSA5LjQzOWwtMy42NzQgMi4yMy45NC00LjI2LTMuMjEtMi44ODMgNC4yNTQtLjQwNEw2LjUuMTEybDEuNjkgNC4wMSA0LjI1NC40MDQtMy4yMSAyLjg4Mi45NCA0LjI2eiIvPjwvc3ZnPg==\" class=\"_2lQ_WZ\"/></div></span><span class=\"_38sUEc\"><span><span>297 Ratings\\xc2\\xa0</span><span class=\"_1VpSqZ\">&amp;</span><span>\\xc2\\xa027 Reviews</span></span></span></div><div class=\"_3ULzGw\"><ul class=\"vFw0gD\"><li class=\"tVe95H\">4 GB RAM | 64 GB ROM |</li><li class=\"tVe95H\">13.97 cm (5.5 inch) Display</li><li class=\"tVe95H\">8MP Rear Camera | 5MP Front Camera</li><li class=\"tVe95H\">3000 mAh Battery</li><li class=\"tVe95H\">1 year manufacturing warranty for mobile and 6 months for box accessories</li></ul></div></div><div class=\"col col-5-12 _2o7WAb\"><div class=\"_6BWGkk\"><div class=\"_1uv9Cb\"><div class=\"_1vC4OE _2rQ-NK\">\\xe2\\x82\\xb94,499</div><div class=\"_3auQ3N _2GcJzG\">\\xe2\\x82\\xb9<!-- -->7,999</div><div class=\"VGWI6T\"><span>43% off</span></div></div></div><div class=\"_3n6o0t\"><img height=\"21\" src=\"//img1a.flixcart.com/www/linchpin/fk-cp-zion/img/fa_8b4b59.png\"/></div></div></div></a></div></div></div></div><div class=\"bhgxx2 col-12-12\"><div><div class=\"_2zg3yZ\"><span>Page 1 of 459</span><nav class=\"_1ypTlJ\"><a class=\"_2Xp0TH fyt9Eu\" href=\"/mobiles/pr?sid=tyy%2C4io&amp;marketplace=FLIPKART&amp;page=1\">1</a><a class=\"_2Xp0TH\" href=\"/mobiles/pr?sid=tyy%2C4io&amp;marketplace=FLIPKART&amp;page=2\">2</a><a class=\"_2Xp0TH\" href=\"/mobiles/pr?sid=tyy%2C4io&amp;marketplace=FLIPKART&amp;page=3\">3</a><a class=\"_2Xp0TH\" href=\"/mobiles/pr?sid=tyy%2C4io&amp;marketplace=FLIPKART&amp;page=4\">4</a><a class=\"_2Xp0TH\" href=\"/mobiles/pr?sid=tyy%2C4io&amp;marketplace=FLIPKART&amp;page=5\">5</a><a class=\"_2Xp0TH\" href=\"/mobiles/pr?sid=tyy%2C4io&amp;marketplace=FLIPKART&amp;page=6\">6</a><a class=\"_2Xp0TH\" href=\"/mobiles/pr?sid=tyy%2C4io&amp;marketplace=FLIPKART&amp;page=7\">7</a><a class=\"_2Xp0TH\" href=\"/mobiles/pr?sid=tyy%2C4io&amp;marketplace=FLIPKART&amp;page=8\">8</a><a class=\"_2Xp0TH\" href=\"/mobiles/pr?sid=tyy%2C4io&amp;marketplace=FLIPKART&amp;page=9\">9</a><a class=\"_2Xp0TH\" href=\"/mobiles/pr?sid=tyy%2C4io&amp;marketplace=FLIPKART&amp;page=10\">10</a><a class=\"_3fVaIS\" href=\"/mobiles/pr?sid=tyy%2C4io&amp;marketplace=FLIPKART&amp;page=2\"><span>Next</span></a></nav><span class=\"_293mUA\"></span></div></div></div><div class=\"bhgxx2 col-12-12\" style=\"margin:10px 0px 0px 0px\"><div class=\"_28sj8v\"><span class=\"EgB3Zj\">Did you find what you were looking for?</span><div class=\"_3A99sh _22Xrnv\"><span class=\"_2SL4bA _2ipQ_6\">Yes</span><span class=\"_2SL4bA _2ipQ_6\">No</span></div></div></div></div></div><div class=\"bhgxx2 col-12-12\" style=\"padding:16px 0px 0px 0px\"><div class=\"_1GRhLX _27HPXz row\"><div class=\"_2Rj2OX\">Reviews for Popular Mobiles</div><div class=\"_KigyA\"><div class=\"u6Ux6y\"><div class=\"_2Ez7wv\"><div class=\"_3BTv9X\" style=\"height:150px;width:150px\"><img class=\"_1Nyybr\" alt=\"Realme 5s (Crystal Blue, 128 GB)\" src=\"//img1a.flixcart.com/www/linchpin/fk-cp-zion/img/placeholder_9951d0.svg\"/></div></div><div class=\"_1-WJZn\"><a target=\"_blank\" rel=\"noopener noreferrer\" href=\"/realme-5s-crystal-blue-128-gb/p/itm592977b0ba210?pid=MOBFM2WZW8VZEXK3&amp;marketplace=FLIPKART\"><div class=\"_2hJpKs\"><div>1. Realme 5s (Crystal Blue, 12...</div></div><div class=\"_2FzRLf\"><div class=\"hGSR34\">4.4<img src=\"data:image/svg+xml;base64,PHN2ZyB4bWxucz0iaHR0cDovL3d3dy53My5vcmcvMjAwMC9zdmciIHdpZHRoPSIxMyIgaGVpZ2h0PSIxMiI+PHBhdGggZmlsbD0iI0ZGRiIgZD0iTTYuNSA5LjQzOWwtMy42NzQgMi4yMy45NC00LjI2LTMuMjEtMi44ODMgNC4yNTQtLjQwNEw2LjUuMTEybDEuNjkgNC4wMSA0LjI1NC40MDQtMy4yMSAyLjg4Mi45NCA0LjI2eiIvPjwvc3ZnPg==\" class=\"_2lQ_WZ\"/></div><span class=\"_1SMN2T\"><span>1,39,728 Ratings</span><span><span class=\"_2GCkCJ\">&amp;</span><span>13,248 Reviews</span></span></span></div><div class=\"_25N4oN\"><div class=\"_1uv9Cb\"><div class=\"_1vC4OE _1DTbR5\">\\xe2\\x82\\xb910,999</div><div class=\"VGWI6T _2YXy_Y\"><span>15% off</span></div></div></div></a><ul class=\"_356gTV\"><li class=\"_3qdW4F\">4 GB RAM | 128 GB ROM | Expandable Upto 256 GB</li><li class=\"_3qdW4F\">16.51 cm (6.5 inch) HD+ Display</li><li class=\"_3qdW4F\">48MP + 8MP + 2MP + 2MP | 13MP Front Camera</li></ul></div></div><div class=\"_2Otlc1\"><div class=\"_1gH7KG\">Most Helpful Review</div><div class=\"col\"><div class=\"col _390CkK jc3RMt\"><div class=\"row\"><div class=\"hGSR34 E_uFuv\">5<img src=\"data:image/svg+xml;base64,PHN2ZyB4bWxucz0iaHR0cDovL3d3dy53My5vcmcvMjAwMC9zdmciIHdpZHRoPSIxMyIgaGVpZ2h0PSIxMiI+PHBhdGggZmlsbD0iI0ZGRiIgZD0iTTYuNSA5LjQzOWwtMy42NzQgMi4yMy45NC00LjI2LTMuMjEtMi44ODMgNC4yNTQtLjQwNEw2LjUuMTEybDEuNjkgNC4wMSA0LjI1NC40MDQtMy4yMSAyLjg4Mi45NCA0LjI2eiIvPjwvc3ZnPg==\" class=\"_2lQ_WZ\"/></div><p class=\"_2xg6Ul\">Awesome</p></div><div class=\"row\"><div class=\"qwjRop\"><div><div class=\"\">beautiful camera.. high quality picture click.. screen is very good performance.....high processor.... very nice mobile.....</div><span class=\"_2jRR3v\"><span>Read full review</span></span></div></div></div><div class=\"row _2pclJg\"><div class=\"row\"><p class=\"_3LYOAd _3sxSiS\">Ramavatar Singh  Dhaked</p><svg width=\"14\" height=\"14\" viewBox=\"0 0 12 12\" xmlns=\"http://www.w3.org/2000/svg\" class=\"_3Zp_NJ\"><g><circle cx=\"6\" cy=\"6\" r=\"6\" fill=\"#878787\"></circle><path stroke=\"#FFF\" stroke-width=\"1.5\" d=\"M3 6l2 2 4-4\" fill=\"#878787\"></path></g></svg><p id=\"review-cd88812d-eed9-44bd-8f98-723aa8e841bf\" class=\"_19inI8\"><span>Certified Buyer</span></p><p class=\"_3LYOAd\">1 month ago</p></div></div></div></div></div><div class=\"_2Otlc1\"><div class=\"_1gH7KG\">Recent Review</div><div class=\"col\"><div class=\"col _390CkK jc3RMt\"><div class=\"row\"><div class=\"hGSR34 E_uFuv\">4<img src=\"data:image/svg+xml;base64,PHN2ZyB4bWxucz0iaHR0cDovL3d3dy53My5vcmcvMjAwMC9zdmciIHdpZHRoPSIxMyIgaGVpZ2h0PSIxMiI+PHBhdGggZmlsbD0iI0ZGRiIgZD0iTTYuNSA5LjQzOWwtMy42NzQgMi4yMy45NC00LjI2LTMuMjEtMi44ODMgNC4yNTQtLjQwNEw2LjUuMTEybDEuNjkgNC4wMSA0LjI1NC40MDQtMy4yMSAyLjg4Mi45NCA0LjI2eiIvPjwvc3ZnPg==\" class=\"_2lQ_WZ\"/></div><p class=\"_2xg6Ul\">Good quality product</p></div><div class=\"row\"><div class=\"qwjRop\"><div><div class=\"\">excellent camera but battery is not long lasting. I have to charge it daily the charging is finishing very fast. rest other features of phone are good.</div><span class=\"_2jRR3v\"><span>Read full review</span></span></div></div></div><div class=\"row _2pclJg\"><div class=\"row\"><p class=\"_3LYOAd _3sxSiS\">Flipkart Customer</p><svg width=\"14\" height=\"14\" viewBox=\"0 0 12 12\" xmlns=\"http://www.w3.org/2000/svg\" class=\"_3Zp_NJ\"><g><circle cx=\"6\" cy=\"6\" r=\"6\" fill=\"#878787\"></circle><path stroke=\"#FFF\" stroke-width=\"1.5\" d=\"M3 6l2 2 4-4\" fill=\"#878787\"></path></g></svg><p id=\"review-df28e632-7f3b-4f31-9747-4887d36bb7b7\" class=\"_19inI8\"><span>Certified Buyer</span></p><p class=\"_3LYOAd\">Today</p></div></div></div></div></div></div><div class=\"_KigyA\"><div class=\"u6Ux6y\"><div class=\"_2Ez7wv\"><div class=\"_3BTv9X\" style=\"height:150px;width:150px\"><img class=\"_1Nyybr\" alt=\"Vivo Z1Pro (Sonic Black, 64 GB)\" src=\"//img1a.flixcart.com/www/linchpin/fk-cp-zion/img/placeholder_9951d0.svg\"/></div></div><div class=\"_1-WJZn\"><a target=\"_blank\" rel=\"noopener noreferrer\" href=\"/vivo-z1pro-sonic-black-64-gb/p/itmfghyebfrvjzfs?pid=MOBFHHT56NTTZKZ5&amp;marketplace=FLIPKART\"><div class=\"_2hJpKs\"><div>2. Vivo Z1Pro (Sonic Black, 64...</div></div><div class=\"_2FzRLf\"><div class=\"hGSR34\">4.5<img src=\"data:image/svg+xml;base64,PHN2ZyB4bWxucz0iaHR0cDovL3d3dy53My5vcmcvMjAwMC9zdmciIHdpZHRoPSIxMyIgaGVpZ2h0PSIxMiI+PHBhdGggZmlsbD0iI0ZGRiIgZD0iTTYuNSA5LjQzOWwtMy42NzQgMi4yMy45NC00LjI2LTMuMjEtMi44ODMgNC4yNTQtLjQwNEw2LjUuMTEybDEuNjkgNC4wMSA0LjI1NC40MDQtMy4yMSAyLjg4Mi45NCA0LjI2eiIvPjwvc3ZnPg==\" class=\"_2lQ_WZ\"/></div><span class=\"_1SMN2T\"><span>2,78,239 Ratings</span><span><span class=\"_2GCkCJ\">&amp;</span><span>28,623 Reviews</span></span></span></div><div class=\"_25N4oN\"><div class=\"_1uv9Cb\"><div class=\"_1vC4OE _1DTbR5\">\\xe2\\x82\\xb912,990</div><div class=\"VGWI6T _2YXy_Y\"><span>18% off</span></div></div></div></a><ul class=\"_356gTV\"><li class=\"_3qdW4F\">4 GB RAM | 64 GB ROM | Expandable Upto 256 GB</li><li class=\"_3qdW4F\">16.59 cm (6.53 inch) Full HD+ Display</li><li class=\"_3qdW4F\">16MP + 2MP + 8MP | 32MP Front Camera</li></ul></div></div><div class=\"_2Otlc1\"><div class=\"_1gH7KG\">Most Helpful Review</div><div class=\"col\"><div class=\"col _390CkK jc3RMt\"><div class=\"row\"><div class=\"hGSR34 E_uFuv\">5<img src=\"data:image/svg+xml;base64,PHN2ZyB4bWxucz0iaHR0cDovL3d3dy53My5vcmcvMjAwMC9zdmciIHdpZHRoPSIxMyIgaGVpZ2h0PSIxMiI+PHBhdGggZmlsbD0iI0ZGRiIgZD0iTTYuNSA5LjQzOWwtMy42NzQgMi4yMy45NC00LjI2LTMuMjEtMi44ODMgNC4yNTQtLjQwNEw2LjUuMTEybDEuNjkgNC4wMSA0LjI1NC40MDQtMy4yMSAyLjg4Mi45NCA0LjI2eiIvPjwvc3ZnPg==\" class=\"_2lQ_WZ\"/></div><p class=\"_2xg6Ul\">Great product</p></div><div class=\"row\"><div class=\"qwjRop\"><div><div class=\"\">absolutely amazing device in this price range ... In hand feel is awesome , Thank you team #vivo @vivo for provide such an amazing device , it has decent cam...</div><span class=\"_1EPkIx\"><span>Read full review</span></span></div></div></div><div class=\"row _2pclJg\"><div class=\"row\"><p class=\"_3LYOAd _3sxSiS\">Swaraj Mukherjee</p><svg width=\"14\" height=\"14\" viewBox=\"0 0 12 12\" xmlns=\"http://www.w3.org/2000/svg\" class=\"_3Zp_NJ\"><g><circle cx=\"6\" cy=\"6\" r=\"6\" fill=\"#878787\"></circle><path stroke=\"#FFF\" stroke-width=\"1.5\" d=\"M3 6l2 2 4-4\" fill=\"#878787\"></path></g></svg><p id=\"review-152b90af-0949-4418-8e20-397ccf459ae8\" class=\"_19inI8\"><span>Certified Buyer</span></p><p class=\"_3LYOAd\">6 months ago</p></div></div></div></div></div><div class=\"_2Otlc1\"><div class=\"_1gH7KG\">Recent Review</div><div class=\"col\"><div class=\"col _390CkK jc3RMt\"><div class=\"row\"><div class=\"hGSR34 E_uFuv\">5<img src=\"data:image/svg+xml;base64,PHN2ZyB4bWxucz0iaHR0cDovL3d3dy53My5vcmcvMjAwMC9zdmciIHdpZHRoPSIxMyIgaGVpZ2h0PSIxMiI+PHBhdGggZmlsbD0iI0ZGRiIgZD0iTTYuNSA5LjQzOWwtMy42NzQgMi4yMy45NC00LjI2LTMuMjEtMi44ODMgNC4yNTQtLjQwNEw2LjUuMTEybDEuNjkgNC4wMSA0LjI1NC40MDQtMy4yMSAyLjg4Mi45NCA0LjI2eiIvPjwvc3ZnPg==\" class=\"_2lQ_WZ\"/></div><p class=\"_2xg6Ul\">Brilliant</p></div><div class=\"row\"><div class=\"qwjRop\"><div><div class=\"\">Review After the 4 months usage of the mobile..<br/>Pro\\'s: 1. 712 AIE processor<br/>           2. Bigger Battery of 5000mah with 18 watt fast                       C...</div><span class=\"_1EPkIx\"><span>Read full review</span></span></div></div></div><div class=\"row _2pclJg\"><div class=\"row\"><p class=\"_3LYOAd _3sxSiS\">ravi kumar reddy tangella</p><svg width=\"14\" height=\"14\" viewBox=\"0 0 12 12\" xmlns=\"http://www.w3.org/2000/svg\" class=\"_3Zp_NJ\"><g><circle cx=\"6\" cy=\"6\" r=\"6\" fill=\"#878787\"></circle><path stroke=\"#FFF\" stroke-width=\"1.5\" d=\"M3 6l2 2 4-4\" fill=\"#878787\"></path></g></svg><p id=\"review-276e4df6-5382-43b5-8827-d633dc9c4532\" class=\"_19inI8\"><span>Certified Buyer</span></p><p class=\"_3LYOAd\">Today</p></div></div></div></div></div></div><div class=\"_KigyA\"><div class=\"u6Ux6y\"><div class=\"_2Ez7wv\"><div class=\"_3BTv9X\" style=\"height:150px;width:150px\"><img class=\"_1Nyybr\" alt=\"Redmi 8 (Sapphire Blue, 64 GB)\" src=\"//img1a.flixcart.com/www/linchpin/fk-cp-zion/img/placeholder_9951d0.svg\"/></div></div><div class=\"_1-WJZn\"><a target=\"_blank\" rel=\"noopener noreferrer\" href=\"/redmi-8-sapphire-blue-64-gb/p/itme9614ba9b9bda?pid=MOBFKPYDENDXZZ7U&amp;marketplace=FLIPKART\"><div class=\"_2hJpKs\"><div>3. Redmi 8 (Sapphire Blue, 64 ...</div></div><div class=\"_2FzRLf\"><div class=\"hGSR34\">4.4<img src=\"data:image/svg+xml;base64,PHN2ZyB4bWxucz0iaHR0cDovL3d3dy53My5vcmcvMjAwMC9zdmciIHdpZHRoPSIxMyIgaGVpZ2h0PSIxMiI+PHBhdGggZmlsbD0iI0ZGRiIgZD0iTTYuNSA5LjQzOWwtMy42NzQgMi4yMy45NC00LjI2LTMuMjEtMi44ODMgNC4yNTQtLjQwNEw2LjUuMTEybDEuNjkgNC4wMSA0LjI1NC40MDQtMy4yMSAyLjg4Mi45NCA0LjI2eiIvPjwvc3ZnPg==\" class=\"_2lQ_WZ\"/></div><span class=\"_1SMN2T\"><span>3,08,947 Ratings</span><span><span class=\"_2GCkCJ\">&amp;</span><span>27,494 Reviews</span></span></span></div><div class=\"_25N4oN\"><div class=\"_1uv9Cb\"><div class=\"_1vC4OE _1DTbR5\">\\xe2\\x82\\xb97,999</div><div class=\"VGWI6T _2YXy_Y\"><span>27% off</span></div></div></div></a><ul class=\"_356gTV\"><li class=\"_3qdW4F\">4 GB RAM | 64 GB ROM | Expandable Upto 512 GB</li><li class=\"_3qdW4F\">15.8 cm (6.22 inch) HD+ Display</li><li class=\"_3qdW4F\">12MP + 2MP | 8MP Front Camera</li></ul></div></div><div class=\"_2Otlc1\"><div class=\"_1gH7KG\">Most Helpful Review</div><div class=\"col\"><div class=\"col _390CkK jc3RMt\"><div class=\"row\"><div class=\"hGSR34 E_uFuv\">5<img src=\"data:image/svg+xml;base64,PHN2ZyB4bWxucz0iaHR0cDovL3d3dy53My5vcmcvMjAwMC9zdmciIHdpZHRoPSIxMyIgaGVpZ2h0PSIxMiI+PHBhdGggZmlsbD0iI0ZGRiIgZD0iTTYuNSA5LjQzOWwtMy42NzQgMi4yMy45NC00LjI2LTMuMjEtMi44ODMgNC4yNTQtLjQwNEw2LjUuMTEybDEuNjkgNC4wMSA0LjI1NC40MDQtMy4yMSAyLjg4Mi45NCA0LjI2eiIvPjwvc3ZnPg==\" class=\"_2lQ_WZ\"/></div><p class=\"_2xg6Ul\">Highly recommended</p></div><div class=\"row\"><div class=\"qwjRop\"><div><div class=\"\">Ah. At last a budget phone with massive 5000 mAh battery and superb camera.<br/>BTW, If you want a good smartphone in this price segment I will highly recommend ...</div><span class=\"_1EPkIx\"><span>Read full review</span></span></div></div></div><div class=\"row _2pclJg\"><div class=\"row\"><p class=\"_3LYOAd _3sxSiS\">Arpan Dawn</p><svg width=\"14\" height=\"14\" viewBox=\"0 0 12 12\" xmlns=\"http://www.w3.org/2000/svg\" class=\"_3Zp_NJ\"><g><circle cx=\"6\" cy=\"6\" r=\"6\" fill=\"#878787\"></circle><path stroke=\"#FFF\" stroke-width=\"1.5\" d=\"M3 6l2 2 4-4\" fill=\"#878787\"></path></g></svg><p id=\"review-4676e4d6-16fa-46cd-8a07-6b810f2e077b\" class=\"_19inI8\"><span>Certified Buyer</span></p><p class=\"_3LYOAd\">3 months ago</p></div></div></div></div></div><div class=\"_2Otlc1\"><div class=\"_1gH7KG\">Recent Review</div><div class=\"col\"><div class=\"col _390CkK jc3RMt\"><div class=\"row\"><div class=\"hGSR34 E_uFuv\">4<img src=\"data:image/svg+xml;base64,PHN2ZyB4bWxucz0iaHR0cDovL3d3dy53My5vcmcvMjAwMC9zdmciIHdpZHRoPSIxMyIgaGVpZ2h0PSIxMiI+PHBhdGggZmlsbD0iI0ZGRiIgZD0iTTYuNSA5LjQzOWwtMy42NzQgMi4yMy45NC00LjI2LTMuMjEtMi44ODMgNC4yNTQtLjQwNEw2LjUuMTEybDEuNjkgNC4wMSA0LjI1NC40MDQtMy4yMSAyLjg4Mi45NCA0LjI2eiIvPjwvc3ZnPg==\" class=\"_2lQ_WZ\"/></div><p class=\"_2xg6Ul\">Really Nice</p></div><div class=\"row\"><div class=\"qwjRop\"><div><div class=\"\">Ordered Sapphire Blue. It looks good. <br/><br/>Like the high capacity battery. All features satisfactory considering its 8k price.</div><span class=\"_2jRR3v\"><span>Read full review</span></span></div></div></div><div class=\"row _2pclJg\"><div class=\"row\"><p class=\"_3LYOAd _3sxSiS\">Mahendhran</p><svg width=\"14\" height=\"14\" viewBox=\"0 0 12 12\" xmlns=\"http://www.w3.org/2000/svg\" class=\"_3Zp_NJ\"><g><circle cx=\"6\" cy=\"6\" r=\"6\" fill=\"#878787\"></circle><path stroke=\"#FFF\" stroke-width=\"1.5\" d=\"M3 6l2 2 4-4\" fill=\"#878787\"></path></g></svg><p id=\"review-be65c5b7-3f4f-4ce9-af7b-5c9cd4a9757f\" class=\"_19inI8\"><span>Certified Buyer</span></p><p class=\"_3LYOAd\">Today</p></div></div></div></div></div></div><div class=\"_KigyA\"><div class=\"u6Ux6y\"><div class=\"_2Ez7wv\"><div class=\"_3BTv9X\" style=\"height:150px;width:150px\"><img class=\"_1Nyybr\" alt=\"Realme 5s (Crystal Purple, 64 GB)\" src=\"//img1a.flixcart.com/www/linchpin/fk-cp-zion/img/placeholder_9951d0.svg\"/></div></div><div class=\"_1-WJZn\"><a target=\"_blank\" rel=\"noopener noreferrer\" href=\"/realme-5s-crystal-purple-64-gb/p/itm592977b0ba210?pid=MOBFM2WZGMU7DPZQ&amp;marketplace=FLIPKART\"><div class=\"_2hJpKs\"><div>4. Realme 5s (Crystal Purple, ...</div></div><div class=\"_2FzRLf\"><div class=\"hGSR34\">4.4<img src=\"data:image/svg+xml;base64,PHN2ZyB4bWxucz0iaHR0cDovL3d3dy53My5vcmcvMjAwMC9zdmciIHdpZHRoPSIxMyIgaGVpZ2h0PSIxMiI+PHBhdGggZmlsbD0iI0ZGRiIgZD0iTTYuNSA5LjQzOWwtMy42NzQgMi4yMy45NC00LjI2LTMuMjEtMi44ODMgNC4yNTQtLjQwNEw2LjUuMTEybDEuNjkgNC4wMSA0LjI1NC40MDQtMy4yMSAyLjg4Mi45NCA0LjI2eiIvPjwvc3ZnPg==\" class=\"_2lQ_WZ\"/></div><span class=\"_1SMN2T\"><span>1,39,728 Ratings</span><span><span class=\"_2GCkCJ\">&amp;</span><span>13,248 Reviews</span></span></span></div><div class=\"_25N4oN\"><div class=\"_1uv9Cb\"><div class=\"_1vC4OE _1DTbR5\">\\xe2\\x82\\xb99,999</div><div class=\"VGWI6T _2YXy_Y\"><span>16% off</span></div></div></div></a><ul class=\"_356gTV\"><li class=\"_3qdW4F\">4 GB RAM | 64 GB ROM | Expandable Upto 256 GB</li><li class=\"_3qdW4F\">16.51 cm (6.5 inch) HD+ Display</li><li class=\"_3qdW4F\">48MP + 8MP + 2MP + 2MP | 13MP Front Camera</li></ul></div></div><div class=\"_2Otlc1\"><div class=\"_1gH7KG\">Most Helpful Review</div><div class=\"col\"><div class=\"col _390CkK jc3RMt\"><div class=\"row\"><div class=\"hGSR34 E_uFuv\">5<img src=\"data:image/svg+xml;base64,PHN2ZyB4bWxucz0iaHR0cDovL3d3dy53My5vcmcvMjAwMC9zdmciIHdpZHRoPSIxMyIgaGVpZ2h0PSIxMiI+PHBhdGggZmlsbD0iI0ZGRiIgZD0iTTYuNSA5LjQzOWwtMy42NzQgMi4yMy45NC00LjI2LTMuMjEtMi44ODMgNC4yNTQtLjQwNEw2LjUuMTEybDEuNjkgNC4wMSA0LjI1NC40MDQtMy4yMSAyLjg4Mi45NCA0LjI2eiIvPjwvc3ZnPg==\" class=\"_2lQ_WZ\"/></div><p class=\"_2xg6Ul\">Terrific purchase</p></div><div class=\"row\"><div class=\"qwjRop\"><div><div class=\"\">Nice performance at this price range also google looking style but display performance average. Battery backup also super by realme and Thanks to flipkart fo...</div><span class=\"_1EPkIx\"><span>Read full review</span></span></div></div></div><div class=\"row _2pclJg\"><div class=\"row\"><p class=\"_3LYOAd _3sxSiS\">Amarjit  Das</p><svg width=\"14\" height=\"14\" viewBox=\"0 0 12 12\" xmlns=\"http://www.w3.org/2000/svg\" class=\"_3Zp_NJ\"><g><circle cx=\"6\" cy=\"6\" r=\"6\" fill=\"#878787\"></circle><path stroke=\"#FFF\" stroke-width=\"1.5\" d=\"M3 6l2 2 4-4\" fill=\"#878787\"></path></g></svg><p id=\"review-d42c7942-d7b8-434f-bc32-645493fef5c8\" class=\"_19inI8\"><span>Certified Buyer</span></p><p class=\"_3LYOAd\">1 month ago</p></div></div></div></div></div><div class=\"_2Otlc1\"><div class=\"_1gH7KG\">Recent Review</div><div class=\"col\"><div class=\"col _390CkK jc3RMt\"><div class=\"row\"><div class=\"hGSR34 E_uFuv\">5<img src=\"data:image/svg+xml;base64,PHN2ZyB4bWxucz0iaHR0cDovL3d3dy53My5vcmcvMjAwMC9zdmciIHdpZHRoPSIxMyIgaGVpZ2h0PSIxMiI+PHBhdGggZmlsbD0iI0ZGRiIgZD0iTTYuNSA5LjQzOWwtMy42NzQgMi4yMy45NC00LjI2LTMuMjEtMi44ODMgNC4yNTQtLjQwNEw2LjUuMTEybDEuNjkgNC4wMSA0LjI1NC40MDQtMy4yMSAyLjg4Mi45NCA0LjI2eiIvPjwvc3ZnPg==\" class=\"_2lQ_WZ\"/></div><p class=\"_2xg6Ul\">Worth every penny</p></div><div class=\"row\"><div class=\"qwjRop\"><div><div class=\"\">Camera not like pro.. but its good <br/>battery is awesome <br/>and gaming me to bawaal</div><span class=\"_2jRR3v\"><span>Read full review</span></span></div></div></div><div class=\"row _2pclJg\"><div class=\"row\"><p class=\"_3LYOAd _3sxSiS\">Roushan Raj</p><svg width=\"14\" height=\"14\" viewBox=\"0 0 12 12\" xmlns=\"http://www.w3.org/2000/svg\" class=\"_3Zp_NJ\"><g><circle cx=\"6\" cy=\"6\" r=\"6\" fill=\"#878787\"></circle><path stroke=\"#FFF\" stroke-width=\"1.5\" d=\"M3 6l2 2 4-4\" fill=\"#878787\"></path></g></svg><p id=\"review-e09a0b7f-d869-4256-a45a-bcc2060f8f09\" class=\"_19inI8\"><span>Certified Buyer</span></p><p class=\"_3LYOAd\">Today</p></div></div></div></div></div></div><div class=\"_KigyA\"><div class=\"u6Ux6y\"><div class=\"_2Ez7wv\"><div class=\"_3BTv9X\" style=\"height:150px;width:150px\"><img class=\"_1Nyybr\" alt=\"Vivo Z1Pro (Sonic Blue, 64 GB)\" src=\"//img1a.flixcart.com/www/linchpin/fk-cp-zion/img/placeholder_9951d0.svg\"/></div></div><div class=\"_1-WJZn\"><a target=\"_blank\" rel=\"noopener noreferrer\" href=\"/vivo-z1pro-sonic-blue-64-gb/p/itmfghyebfrvjzfs?pid=MOBFHHT5NZH8XCGB&amp;marketplace=FLIPKART\"><div class=\"_2hJpKs\"><div>5. Vivo Z1Pro (Sonic Blue, 64 ...</div></div><div class=\"_2FzRLf\"><div class=\"hGSR34\">4.5<img src=\"data:image/svg+xml;base64,PHN2ZyB4bWxucz0iaHR0cDovL3d3dy53My5vcmcvMjAwMC9zdmciIHdpZHRoPSIxMyIgaGVpZ2h0PSIxMiI+PHBhdGggZmlsbD0iI0ZGRiIgZD0iTTYuNSA5LjQzOWwtMy42NzQgMi4yMy45NC00LjI2LTMuMjEtMi44ODMgNC4yNTQtLjQwNEw2LjUuMTEybDEuNjkgNC4wMSA0LjI1NC40MDQtMy4yMSAyLjg4Mi45NCA0LjI2eiIvPjwvc3ZnPg==\" class=\"_2lQ_WZ\"/></div><span class=\"_1SMN2T\"><span>2,78,239 Ratings</span><span><span class=\"_2GCkCJ\">&amp;</span><span>28,623 Reviews</span></span></span></div><div class=\"_25N4oN\"><div class=\"_1uv9Cb\"><div class=\"_1vC4OE _1DTbR5\">\\xe2\\x82\\xb912,990</div><div class=\"VGWI6T _2YXy_Y\"><span>18% off</span></div></div></div></a><ul class=\"_356gTV\"><li class=\"_3qdW4F\">4 GB RAM | 64 GB ROM | Expandable Upto 256 GB</li><li class=\"_3qdW4F\">16.59 cm (6.53 inch) Full HD+ Display</li><li class=\"_3qdW4F\">16MP + 2MP + 8MP | 32MP Front Camera</li></ul></div></div><div class=\"_2Otlc1\"><div class=\"_1gH7KG\">Most Helpful Review</div><div class=\"col\"><div class=\"col _390CkK jc3RMt\"><div class=\"row\"><div class=\"hGSR34 E_uFuv\">5<img src=\"data:image/svg+xml;base64,PHN2ZyB4bWxucz0iaHR0cDovL3d3dy53My5vcmcvMjAwMC9zdmciIHdpZHRoPSIxMyIgaGVpZ2h0PSIxMiI+PHBhdGggZmlsbD0iI0ZGRiIgZD0iTTYuNSA5LjQzOWwtMy42NzQgMi4yMy45NC00LjI2LTMuMjEtMi44ODMgNC4yNTQtLjQwNEw2LjUuMTEybDEuNjkgNC4wMSA0LjI1NC40MDQtMy4yMSAyLjg4Mi45NCA0LjI2eiIvPjwvc3ZnPg==\" class=\"_2lQ_WZ\"/></div><p class=\"_2xg6Ul\">Best in the market!</p></div><div class=\"row\"><div class=\"qwjRop\"><div><div class=\"\">awesome phone in this price segment \\xf0\\x9f\\x98\\x8a\\xf0\\x9f\\x98\\x8a\\xf0\\x9f\\x98\\x8a\\xf0\\x9f\\x98\\x8a\\xf0\\x9f\\x98\\x8a       face detection  very fast.... i love face detection feature of vivo z1 pro</div><span class=\"_2jRR3v\"><span>Read full review</span></span></div></div></div><div class=\"row _2pclJg\"><div class=\"row\"><p class=\"_3LYOAd _3sxSiS\">Sagar verma Verma</p><svg width=\"14\" height=\"14\" viewBox=\"0 0 12 12\" xmlns=\"http://www.w3.org/2000/svg\" class=\"_3Zp_NJ\"><g><circle cx=\"6\" cy=\"6\" r=\"6\" fill=\"#878787\"></circle><path stroke=\"#FFF\" stroke-width=\"1.5\" d=\"M3 6l2 2 4-4\" fill=\"#878787\"></path></g></svg><p id=\"review-2dd453b4-240f-4766-b332-ab5255793058\" class=\"_19inI8\"><span>Certified Buyer</span></p><p class=\"_3LYOAd\">5 months ago</p></div></div></div></div></div><div class=\"_2Otlc1\"><div class=\"_1gH7KG\">Recent Review</div><div class=\"col\"><div class=\"col _390CkK jc3RMt\"><div class=\"row\"><div class=\"hGSR34 E_uFuv\">5<img src=\"data:image/svg+xml;base64,PHN2ZyB4bWxucz0iaHR0cDovL3d3dy53My5vcmcvMjAwMC9zdmciIHdpZHRoPSIxMyIgaGVpZ2h0PSIxMiI+PHBhdGggZmlsbD0iI0ZGRiIgZD0iTTYuNSA5LjQzOWwtMy42NzQgMi4yMy45NC00LjI2LTMuMjEtMi44ODMgNC4yNTQtLjQwNEw2LjUuMTEybDEuNjkgNC4wMSA0LjI1NC40MDQtMy4yMSAyLjg4Mi45NCA0LjI2eiIvPjwvc3ZnPg==\" class=\"_2lQ_WZ\"/></div><p class=\"_2xg6Ul\">Mind-blowing purchase</p></div><div class=\"row\"><div class=\"qwjRop\"><div><div class=\"\">This phone is outstanding at its price. but if u buy at 12k of 6 gb variant. screen is very fluidic of 6.5 inch big screen.its punch hole camera make this ph...</div><span class=\"_1EPkIx\"><span>Read full review</span></span></div></div></div><div class=\"row _2pclJg\"><div class=\"row\"><p class=\"_3LYOAd _3sxSiS\">Rahul  Kumar</p><svg width=\"14\" height=\"14\" viewBox=\"0 0 12 12\" xmlns=\"http://www.w3.org/2000/svg\" class=\"_3Zp_NJ\"><g><circle cx=\"6\" cy=\"6\" r=\"6\" fill=\"#878787\"></circle><path stroke=\"#FFF\" stroke-width=\"1.5\" d=\"M3 6l2 2 4-4\" fill=\"#878787\"></path></g></svg><p id=\"review-436e19b6-66fb-472d-bfd1-51bbc4967aed\" class=\"_19inI8\"><span>Certified Buyer</span></p><p class=\"_3LYOAd\">Today</p></div></div></div></div></div></div></div></div><div class=\"bhgxx2 col-12-12\"></div></div></div><footer class=\"HJlsB9\"><div class=\"TW4owM\"><div class=\"row\"><div class=\"col gu12 _2-C188\"><div class=\"_2w8bgn\"><section class=\"_13UvS1\"><h2 class=\"QWjzru\">Mobiles Price List</h2><div class=\"_3vyXs8 _3112CP\"><div class=\"_3gm0O6\">Mobiles</div><div class=\"_4OaRpi\">Price</div></div><ol><li class=\"_3vyXs8\"><div class=\"_3gm0O6\"><a href=\"/redmi-8a-sunset-red-32-gb/p/itm5474ed67d23bf?pid=MOBFKF98FTTEN832&amp;lid=LSTMOBFKF98FTTEN832NKEHTF&amp;marketplace=FLIPKART\">Redmi 8A (Sunset Red, 32 GB)</a></div><div class=\"_4OaRpi\">Rs. 6499</div></li><li class=\"_3vyXs8\"><div class=\"_3gm0O6\"><a href=\"/realme-5i-forest-green-64-gb/p/itmdac0da867a9fa?pid=MOBFNG3GNW3BU2XE&amp;lid=LSTMOBFNG3GNW3BU2XERAL9TG&amp;marketplace=FLIPKART\">Realme 5i (Forest Green, 64 GB)</a></div><div class=\"_4OaRpi\">Rs. 8999</div></li><li class=\"_3vyXs8\"><div class=\"_3gm0O6\"><a href=\"/vivo-z1pro-sonic-blue-64-gb/p/itmfghyebfrvjzfs?pid=MOBFHHT5ZETVHC4H&amp;lid=LSTMOBFHHT5ZETVHC4H1MJSRL&amp;marketplace=FLIPKART\">Vivo Z1Pro (Sonic Blue, 64 GB)</a></div><div class=\"_4OaRpi\">Rs. 13990</div></li><li class=\"_3vyXs8\"><div class=\"_3gm0O6\"><a href=\"/vivo-z1pro-sonic-black-64-gb/p/itmfghyebfrvjzfs?pid=MOBFHHT5DEGWB9JE&amp;lid=LSTMOBFHHT5DEGWB9JEJSQP1F&amp;marketplace=FLIPKART\">Vivo Z1Pro (Sonic Black, 64 GB)</a></div><div class=\"_4OaRpi\">Rs. 13990</div></li><li class=\"_3vyXs8\"><div class=\"_3gm0O6\"><a href=\"/vivo-z1pro-sonic-black-64-gb/p/itmfghyebfrvjzfs?pid=MOBFHHT56NTTZKZ5&amp;lid=LSTMOBFHHT56NTTZKZ5PWUNSS&amp;marketplace=FLIPKART\">Vivo Z1Pro (Sonic Black, 64 GB)</a></div><div class=\"_4OaRpi\">Rs. 12990</div></li><li class=\"_3vyXs8\"><div class=\"_3gm0O6\"><a href=\"/redmi-8-sapphire-blue-64-gb/p/itme9614ba9b9bda?pid=MOBFKPYDENDXZZ7U&amp;lid=LSTMOBFKPYDENDXZZ7U5KFCKA&amp;marketplace=FLIPKART\">Redmi 8 (Sapphire Blue, 64 GB)</a></div><div class=\"_4OaRpi\">Rs. 7999</div></li><li class=\"_3vyXs8\"><div class=\"_3gm0O6\"><a href=\"/kall-k1000-green-64-gb/p/itm56e7fe626a312?pid=MOBFNFGYPF5PRDQK&amp;lid=LSTMOBFNFGYPF5PRDQKTGKHD5&amp;marketplace=FLIPKART\">I Kall K1000 (Green, 64 GB)</a></div><div class=\"_4OaRpi\">Rs. 4999</div></li><li class=\"_3vyXs8\"><div class=\"_3gm0O6\"><a href=\"/realme-c2-diamond-black-32-gb/p/itmfgwba8kmejqpe?pid=MOBFHBZ4MDMCNHNK&amp;lid=LSTMOBFHBZ4MDMCNHNKOFORJ3&amp;marketplace=FLIPKART\">Realme C2 (Diamond Black, 32 GB)</a></div><div class=\"_4OaRpi\">Rs. 5999</div></li><li class=\"_3vyXs8\"><div class=\"_3gm0O6\"><a href=\"/realme-5s-crystal-purple-128-gb/p/itm592977b0ba210?pid=MOBFM2WZG7AGFGJE&amp;lid=LSTMOBFM2WZG7AGFGJEXD8LE2&amp;marketplace=FLIPKART\">Realme 5s (Crystal Purple, 128 GB)</a></div><div class=\"_4OaRpi\">Rs. 10999</div></li><li class=\"_3vyXs8\"><div class=\"_3gm0O6\"><a href=\"/realme-c2-diamond-blue-32-gb/p/itmfgwba8kmejqpe?pid=MOBFHBZ4ZQB3CTZW&amp;lid=LSTMOBFHBZ4ZQB3CTZWUFZDQI&amp;marketplace=FLIPKART\">Realme C2 (Diamond Blue, 32 GB)</a></div><div class=\"_4OaRpi\">Rs. 5999</div></li></ol><div class=\"_2I9szM\">This data was last updated on 2020/01/27</div></section><div><p></p><h2>Mobile Phones Online @ Best Price</h2><div><br/></div><div><br/></div><div>Everyone is in a constant hunt for the <a href=\"/mobile-phones-store\">mobile</a> phone, or more correctly called the smartphone, that will fit all his/her requirements and would assure a guarantee of good performance. With a plethora of mobile phone brands foraying on a regular basis into the market, it&#8217;s a tough a call for the consumer to pick the right one. It&#8217;s always a wiser idea to buy mobile phones online, as the internet is the best place you can invest your time into, in order to conduct your share of investigation about the right smartphone by analysing mobile phone online reviews.&#160;</div><div><br/></div><div><br/></div><h2>Best mobile brands to look out for</h2><p><br/></p><div>There have been some brands in the market which have stayed for the longest time and have earned the trust of consumers. These brands offer you a minimum guarantee regarding the performance and longevity of the smartphone. But again, it depends on your requirements about which brand you must choose. For instance, the Xiaomi phones are quite a sought-after brand these days. They are high on demand for their battery life and performance. Xiaomi phones are perfect budget Android mobile and they are pretty reasonably priced for their features. On the other hand, if you are looking for a high-end technology mobile with ultimate security, sophisticated software and great design, the iPhone by Apple would be the first and last choice. Although these are priced higher than mobile phones from other brands, the iOS software based on which iPhone operates is unbeatable.If you are a fan of great design and style along with feature-richness in your smartphone, <a href=\"/mobiles/samsung~brand/pr?sid=tyy,4io\">Samsung mobiles</a> are the ones to own.Samsung keeps refreshing their phone design and style, and you are sure to find a phone that fits your style.Lenovo and Motorola are two other brands that have become quite popular. Consumers can get budget phones from these brands as well as expensive phones.</div><div>Lenovo mobiles have caught the eye of consumers with their great display, battery power and other features. Motorola has always been a safe choice and provides the guarantee that a good, feature rich smartphone should give.</div><div><br/></div><h2>How to buy a good mobile phone online?</h2><div><br/></div><div>When one plans to buy a mobile phone online, It&#8217;s advised that she/he considers factors like the network type, screen size, battery capacity, internal memory storage, sim type, the resolution of the front and back camera lens, what operating system and the specific version of operating system is used, how many cores are present in the processor, resolution of the screen and the like. These factors are very important to be considered as filtering out these will tell you exactly which smartphone to buy. If you are a light user you can easily go for a dual core mobile phone. If you are a gamer or someone who used his smartphone for a lot of high-speed activities, you must go for a hexa-core or octa-core phone. Similarly, all other factors have to be considered, or else, you might end up buying a phone that does not fit your requirements, or in another case one that is too sophisticated for your requirements.</div><div><br/></div><h2>Other popular smartphone brands</h2><div><br/></div><div>Some other top brands in mobiles that will suit your requirements and style would be from Vivo mobiles,Panasonic mobiles, Asus mobiles,LG mobiles and the like. Lately popular phone Lyf has been purchased by lakhs of consumers for its highlight data providing feature along with other features..HTC is another sought-after brand which provides expensive as well as budget phones with awesome features. They provide some great phones like HTC Desire 620G, HTC Desire 626 and more. Windows based Nokia and Micromax are brands that give you most of the necessary features at a pretty low price.</div><div><br/></div><div><a href=\"/mobiles/oppo~brand/pr?sid=tyy,4io\">Oppo mobiles</a> are widely purchased for their top notch hardware specifications, awesome display and amazing camera.<a href=\"/oppo-f1-plus-gold-64-gb/p/itmehzhgq9rsyyzb\">Oppo f1 plus</a>, Oppo A57,<a href=\"/oppo-f1s-gold-32-gb/p/itmehcwevtzgv5ft\">Oppo f1S</a>, <a href=\"/oppo-k1-astral-blue-64-gb/p/itmfdy9keddxqvbt\">Oppo K1</a> are some of them that you don&#8217;t want to miss. Sony has always stood out against the competition. Their front and rear glass panels set a trend with their IP68 waterproof feature being a highlight.</div><div><br/></div><h2>What&#8217;s trending in mobile phones?</h2><div><br/></div><div>Stay plugged into what&#8217;s happening latest in the smartphone world by getting regularly updated online. All best brands try experimenting with their products with varying features and specifications. One phone you need to look out for is the Redmi Note 4 which gives you a great hand feel with its curvy design, 4GB RAM and awesome camera specs. The latest dual sim phone Lenovo K6 Power has a 3GB RAM and 32GB internal storage is a budget phone with striking features.</div><div><br/></div><div>Samsung Galaxy On Nxt is one of the sought-after mobile phones which has 1.6 GHz octa-core processor with 3GB RAM.With a high-resolution camera, this is definitely one to look out for. With advanced digital sound technology, Full HD display and large battery one that is selling like hot cakes is the Lenovo Vibe K5 Note. Yet another budget phone with great features has been launched by Mi, called the Redmi 3S.Much lighter and thinner than its predecessor Redmi 2, this piece of technology has a large battery, great design and great processor. Other phones that have to be unboxed and discovered for yourself are the iPhone7, Google Pixel, Samsung Galaxy On 8, Galaxy J5-6,Moto M and the like.</div><p><br/></p><h2>Realme 3i - The Construct of Smartphones Re imagined</h2><p><br/></p><p>The Realme 3i smartphone is designed for everyone, regardless of whether you&#8217;re someone who is all about a phone that looks good, someone who prioritizes the camera quality of a phone over everything else, or if you&#8217;re a gamer who wants a handheld device that facilitates smooth gaming.&#160;</p><p><br/></p><h2>Let&#8217;s Explore Some of the Specifications and Features That Make the Realme 3i a Catch:</h2><p><br/></p><p>Powered by an octa-core CPU and a high-performance GPU, the&#160;<a href=\"/realme-3i-diamond-blue-32-gb/p/itmfgybqvazmnmmd\">Realme 3i</a>&#160;boasts a boost in efficiency even when you&#8217;re playing data-heavy games on your phone. Throughout this time, its 12 nm process technology ensures an efficient power consumption without any compromise on the phone&#8217;s performance.&#160;</p><p><br/></p><p>What is a smartphone if it doesn&#8217;t have a good camera system, right? Not one to disappoint, the Realme 3i comes with a 13 MP high-definition front camera. This selfie camera is further aided by a 5 P high-concentration lens which results in the phone&#8217;s selfie camera clearly identifying multiple face points, details which are as minute as your eyelashes.</p><p><br/></p><p>The Realme 3i&#8217;s 13 MP + 2 MP dual-rear camera system is equipped with an f/1.8-large aperture and the super nightscape feature which deliver night-scenery pictures that clearly capture the beauty of the scenic view around you. Added features, such as Scene Recognition, Chroma Boost, and AI Engine work to recognize different scenes so every picture you click using the Realme 3i boasts accurate colours.&#160;</p><p><br/></p><p>Discover &#8216;Beauty without boundaries&#8217; with the Realme 3i&#8217;s ColorOS 6. This operating system is based on the Android P. With this AI operating system in place, the Realme 3i smartphone boasts a boosted performance and reduced power consumption.</p><p><br/></p><h2>Buy Realme 3i Phone Online</h2><p><br/></p><p>Buy the Realme 3i phone online to enjoy the luxury of familiarising yourself with its features, checking out its price, and reading reviews left by other interested buyers/users, all with just a few mouse-button clicks/phone-swipes. On our online mobile store, you also stand the chance to avail enticing offers and discounts on the Realme 3i phone and even the Realme X phone!&#160;</p><p><br/></p><h2>Realme X - Made for the Pop-up Generation</h2><p><br/></p><p>Say hello to the&#160;<a href=\"/realme-x-space-blue-128-gb/p/itmfgybqzcgbxs26\">Realme X</a>&#160;smartphone whose set of features will make it your new favourite go-to for all your work and entertainment needs. From its pop-up camera to its AMOLED full-screen display, the Realme X smartphone&#8217;s specifications and features will enliven your smartphone experience. You can head to your favourite shopping app and buy the Realme X smartphone online. So, let&#8217;s have a look at some of its features that make it a phone totally worth its price, what say?</p><p><br/></p><h2>Click Selfies with the Realme X Smartphone&#8217;s Pop-up Camera</h2><p><br/></p><p>The next time you are clicking a selfie, do so in style, with this smartphone&#8217;s pop-up camera. It&#8217;s time to raise the bar of your selfies because of this phone&#8217;s 16 MP camera that lets you click immersive ultra HD selfies. This camera&#8217;s advanced pulse motor ensures that it pops up quickly when you opt for the front camera mode so that you can click your selfie without any delay.&#160;</p><p><br/></p><h2>In-display Fingerprint Scanner</h2><p><br/></p><p>Unlocking your phone will be simpler and fuss-free with this smartphone in your hands. It features an in-display fingerprint scanner that uses DSP acceleration engine and light compensation solutions for quick unlocking.&#160;</p><p><br/></p><h2>Dual-rear Camera (48 MP + 5 MP)</h2><p><br/></p><p>Whether it&#8217;s the beautiful landscapes of your hometown or just a daily object that you want to click, this smartphone&#8217;s 48 MP + 5 MP dual-rear camera system with the Sony IMX 586 sensor lets you click stunning images. With features, such as the Super Nightscape mode, you can continue to click beautiful pictures even in the night.&#160;</p><p><br/></p><h2>VOOC Flash Charge 3.0</h2><p><br/></p><p>When it comes to charging, this smartphone is a mile ahead, thanks to the VOOC Flash Charge 3.0 charging technology. So, the next time you are engrossed in playing your favourite game, you can count on this phone to get charged quickly and get you back on track.</p><p><br/></p><h2>Hyper Boost 2.0 Acceleration Engine</h2><p><br/></p><p>Now that we are talking about gaming, this smartphone has one more feature to enhance your gaming experience - the Hyper Boost 2.0 acceleration engine. With the presence of features, such as the Game Space and Game Assistant, you can be assured to have a fuss-free gaming session on your phone.&#160;</p><p>Meet the Awe-inspiring Redmi Note 7S<br/></p><p><br/></p><p>Are you someone who clicks a lot of pictures and selfies? Are you someone who plays a lot of games? Or, are you someone who watches videos and listens to songs all day? No matter what you might be into, the Redmi Note 7S goes above and beyond in meeting your expectations. Featuring a 48 MP + 5 MP AI dual camera, a 13 MP AI front camera, a powerful Qualcomm Snapdragon 660 AIE processor, a 16-cm (6.3) FHD+ Dot Notch display and a massive 4000 mAh battery, the Redmi Note 7S comes with specifications &amp; features that easily provide you with an enriched smartphone experience.</p><p><br/></p><h2>Let&#8217;s dig a little deeper and take a closer look at a few features of the Redmi Note 7S:</h2><p><br/></p><p><span>Click Stunning Pictures</span></p><p><br/></p><p>For those who are bitten by the photography bug, the&#160;<a href=\"/redmi-note-7s-sapphire-blue-64-gb/p/itmfgjfjujkgyrax\">Redmi Note 7S</a>&#160;comes as a boon with its 48 MP + 5 MP AI dual camera. Packing four times the pixels than a typical 12 MP sensor, the Redmi Note 7S captures more details, and delivers crisp and clear pictures. It also features a 13 MP AI front camera which lets you click amazing selfies for your Instagram page.</p><p><br/></p><p><span>Night Mode</span></p><p><br/></p><p>Whether you&#8217;re clicking a picture in a dimly-lit theatre or at a party, the Night Mode takes in more details even in low-lighting conditions. Also, it captures multiple images to deliver a brilliant low-light photo.</p><p><br/></p><p><span>Redmi Note 7S&#8217;s Next-level Performance</span></p><p><br/></p><p>This smartphone features a Qualcomm Snapdragon 660 AIE 2.2 GHz 14nm octa-core Kryo processor and 4 GB of RAM. Also, with its expandable storage capacity of up to 256 GB, storing and accessing your pictures, music, videos, and other files are easy. It also comes with a massive 4000 mAh battery, so you don&#8217;t need to worry about your phone running out of juice that easily.</p><p><br/></p><p><span>Built to Last</span></p><p><br/></p><p>Featuring a Corning Gorilla Glass 5 on the front and the back, a 2.5D glass back, and four reinforced corners, the Redmi Note 7S is highly durable.</p><p><br/></p><p><span>Splash-proof</span></p><p><br/></p><p>If you&#8217;re worried about getting a few splashes on your phone, don&#8217;t. The Redmi Note 7S is protected against liquid damage, thanks to P2i\\'s pulsed plasma deposition process.</p><p><br/></p><p><span>Buy the Redmi Note 7S Online</span></p><p><br/></p><p>With such enticing features, there is hardly any reason to wait. So, go ahead. Check out the price, the awesome specifications &amp; features, and buy Redmi Note 7S online to enjoy a smartphone experience like never before!</p><h2>Redmi K20 and Redmi K20 Pro - Get Ready to Be Wowed</h2><p><br/></p><p>Redmi has been on a roll since its launch a few years ago and has become one of the most successful models to be introduced by Xiaomi. The latest offering from the Redmi stable - the Redmi K20 and the Redmi K20 Pro are being touted as powerhouses of entertainment and performance.</p><p><br/></p><p><span>AI Camera</span></p><p>With the&#160;<a href=\"/redmi-k20-carbon-black-128-gb/p/itmfggktjkrahjwm\">Redmi K20</a>&#160;and&#160;<a href=\"/redmi-k20-pro-flame-red-128-gb/p/itmfg7uysw6gs55a\">Redmi K20 Pro</a>, capturing images will never be the same. The primary 48 MP Sony ultra-high-resolution sensor, a 13 MP 124.8 degree FOV ultra-wide-angle camera and the 8 MP telephoto camera work in sync to help you capture your precious moments in unmatched detail. Aided by AI, the triple camera setup lets you view the world around you from a different perspective. The phone also comes with a 20 MP pop-up selfie camera so that you look your best in all your social media posts. You can also record 4K videos at 60 fps as well as 960 fps slo-mo videos.</p><p><br/></p><p><span>Flagship Performance</span></p><p>The Redmi K20 and Redmi K20 Pro come with blazing-fast processors so that there&#8217;s no lag while multitasking on the phone. The Redmi K20 Pro comes equipped with the Qualcomm Snapdragon 855, while Redmi K20 comes with Qualcomm Snapdragon 730. Both these processors are not only known for their performance but also for managing the phone&#8217;s vitals in the best possible manner.</p><p><br/></p><p><span>For the Gamer in You</span></p><p>With flagship-level specs, the Redmi K20 series brings the ultimate gaming experience to the table. The phones also come with the 2nd generation Game Turbo mode that not only reduces network delay but also optimizes the touch latency for you to have the best gaming action possible.</p><p><br/></p><p><span>Display</span></p><p>The Redmi K20 series comes with the company&#8217;s innovative Horizon AMOLED Display. The 16.23 cm (6.39) AMOLED display is a visual treat to the eyes. The impressive 91.9% screen-to-body ratio is sure to make all your media content visually impressive. With the Corning Gorilla Glass 5 and the 3D curved glass on the back, the phone is incredible to hold.</p><p><br/></p><p><span>Battery</span></p><p>The Redmi K20 series comes with a 4000 mAh battery that lets you work and play uninterrupted for hours together. Both phones come with a fast-charging feature. The Redmi K20 supports 18 W fast-charging while the Redmi K20 Pro supports 27 W fast-charging.</p><p><br/></p><p>The Redmi K20 series phones come with the Qualcomm WCD9340 audio chip which provides 192 kHz/24 bit audio playback. It also comes with a 3.5 mm audio jack, so that you can plug in your favourite headset to listen to your favourite band. With a dual-band GPS feature that helps improve navigation accuracy, and an advanced 7th generation in-display fingerprint sensor, you know that the Redmi K20 and Redmi K20 Pro have arrived to give you the mobile experience that you had always craved for.</p><p><br/></p><p><br/></p><div><br/></div><p><span>Trending in Mobile Phones</span>&#160;:&#160;<a href=\"/mobiles/~infinix-zero-5-series/pr?sid=tyy,4io\">Infinix Zero 5 Series</a>&#160;,&#160;&#160;<a href=\"/mobiles/~vivo-v7/pr?sid=tyy,4io\">Vivo V7</a>,&#160;<a href=\"/mobiles/~nokia-5/pr?sid=tyy,4io\">Nokia 5</a>&#160;,&#160;<a href=\"/mobiles/~lava-zseries/pr?sid=tyy,4io\">Lava Z Series</a>,&#160;<a href=\"/mi-mix-2-black-128-gb/p/itmeyk8z8cwf6faz\">Mi Mix 2</a>,&#160;<a href=\"/honor-9i-prestige-gold-64-gb/p/itmexnp94kcvdnqw\">Honor 9i</a>,&#160;<a href=\"/mobiles/~iphone-8-and-8-plus/pr?sid=tyy,4io\">iphone 8&#160;Plus</a>&#160;,&#160;<a href=\"/mobiles/~vivo-v7-plus/pr?sid=tyy,4io\">VIVO V7 Plus</a>,&#160;<a href=\"/mobiles/~mia1/pr?sid=tyy%2C4io\">Mi A1</a>,&#160;<a href=\"/mobiles/~vivo-y69/pr?sid=tyy,4io\">VIVO Y69</a>,&#160;<a href=\"/mobiles/~redmi-4a/pr?sid=tyy%2C4io\">Redmi 4A</a>,&#160;<a href=\"/mobiles/~redmi-note-4/pr?sid=tyy,4io\">Redmi Note 4</a>,&#160;<a href=\"/mobiles/~panasonic-p77/pr?sid=tyy,4io\">Panasonic P77</a>,&#160;<a href=\"/apple-iphone-6-gold-32-gb/p/itmewxhuufbzchrn\">iphone 6 Gold 32 GB</a>,&#160;<a href=\"/mi-max-2-black-64-gb/p/itmevkftufr4d5e2\">Mi Max 2</a>&#160;,&#160;<a href=\"/mobiles/infinix~brand/pr?sid=tyy,4io\">Infinix Mobile</a>,&#160;<a href=\"/infinix-note-4-champagne-gold-32-gb/p/itmewf3utfdfh3nf\">Infinix Note 4</a>,&#160;<a href=\"/infinix-hot-4-pro-quartz-black-16-gb/p/itmeuyd9kzvzmyx6\">Infinix Hot 4 Pro</a>,&#160;<a href=\"/xolo-era-3-slate-black-8-gb/p/itmeycfmg2fmfggf\">Xolo Era 3&#160;</a>,&#160;<a href=\"/xolo-era-2v-jet-black-16-gb/p/itmeycfmvmzghzsu\">Xolo Era 2V&#160;</a>,&#160;<a href=\"/xolo-era-3x-posh-black-16-gb/p/itmeycfmgwgdhywy\">Xolo Era 3X</a><br/></p><p><span>Launches</span>:&#160;<a href=\"/mobiles/~oppo-f5/pr?sid=tyy,4io\">Oppo F5</a>&#160;,&#160;<a href=\"/mobiles/~iphone-x-64gb-and-256gb/pr?sid=tyy,4io\">iPhone X</a>,&#160;<a href=\"/lenovo-k8-plus-venom-black-32-gb/p/itmex9kpgkxmgpzc\">Lenovo K8 Plus</a>,&#160;<a href=\"/mobiles/~samsung-on-max/pr?sid=tyy,4io\">Samsung On Max</a>,&#160;<a href=\"/mobiles/~moto-e4-plus/pr?sid=tyy,4io\">Moto E4 Plus</a></p><p></p></div></div></div></div><div><div class=\"_2NHqR1 row\"><div class=\"_3qd5C5\"><div class=\"_18wTSA\">ABOUT</div><a href=\"/helpcentre?otracker=undefined_footer_navlinks\" class=\"_287FRX\">Contact Us</a><a href=\"/about-us?otracker=undefined_footer_navlinks\" class=\"_287FRX\">About Us</a><a href=\"https://www.flipkartcareers.com/?otracker=undefined_footer_navlinks\" class=\"_287FRX\">Careers</a><a href=\"http://stories.flipkart.com/?otracker=undefined_footer_navlinks\" class=\"_287FRX\">Flipkart Stories</a><a href=\"/s/press?otracker=undefined_footer_navlinks\" class=\"_287FRX\">Press</a></div><div class=\"_3qd5C5\"><div class=\"_18wTSA\">HELP</div><a href=\"/pages/payments\" class=\"_287FRX\">Payments</a><a href=\"/pages/shipping\" class=\"_287FRX\">Shipping</a><a href=\"/helpcentre?catalog=55c9c6edb000002e002c1701&amp;view=CATALOG\" class=\"_287FRX\">Cancellation &amp; Returns</a><a href=\"/helpcentre?catalog=55c9c8e2b0000023002c1702&amp;view=CATALOG\" class=\"_287FRX\">FAQ</a><a href=\"https://seller.flipkart.com/fiv?otracker=undefined_footer_navlinks\" class=\"_287FRX\">Report Infringement</a></div><div class=\"_3qd5C5\"><div class=\"_18wTSA\">POLICY</div><a href=\"/pages/returnpolicy?otracker=undefined_footer_navlinks\" class=\"_287FRX\">Return Policy</a><a href=\"/pages/terms?otracker=undefined_footer_navlinks\" class=\"_287FRX\">Terms Of Use</a><a href=\"/pages/paymentsecurity?otracker=undefined_footer_navlinks\" class=\"_287FRX\">Security</a><a href=\"/pages/privacypolicy?otracker=undefined_footer_navlinks\" class=\"_287FRX\">Privacy</a><a href=\"/sitemap?otracker=undefined_footer_navlinks\" class=\"_287FRX\">Sitemap</a><a href=\"/pages/ewaste-compliance-tnc?otracker=undefined_footer_navlinks\" class=\"_287FRX\">EPR Compliance</a></div><div class=\"_3qd5C5\"><div class=\"_18wTSA\">SOCIAL</div><a href=\"https://www.facebook.com/flipkart\" class=\"_287FRX\">Facebook</a><a href=\"https://www.twitter.com/flipkart\" class=\"_287FRX\">Twitter</a><a href=\"https://www.youtube.com/flipkart\" class=\"_287FRX\">YouTube</a></div><div class=\"_3qd5C5 address\"><div class=\"_38DIp6\"><div class=\"_18wTSA\"><span>Mail Us:</span></div><div class=\"_2V3TtE\"><div class=\"_3Lv0nZ\"><div class=\"_3aS5mM _2V3TtE\"><p>Flipkart Internet Private Limited, </p>\\n<p> Buildings Alyssa, Begonia &amp; </p>\\n<p> Clove Embassy Tech Village, </p>\\n<p> Outer Ring Road, Devarabeesanahalli Village, </p>\\n<p> Bengaluru, 560103, </p>\\n<p> Karnataka, India.</p>\\n</div></div></div></div></div><div class=\"_3qd5C5 address\"><div class=\"m6ABEi\"><div class=\"_18wTSA\"><span>Registered Office Address:</span></div><div class=\"_2V3TtE\"><div class=\"_3Lv0nZ\"><div class=\"_3aS5mM _2V3TtE\"><p>Flipkart Internet Private Limited, </p>\\n<p> Buildings Alyssa, Begonia &amp; </p>\\n<p> Clove Embassy Tech Village, </p>\\n<p> Outer Ring Road, Devarabeesanahalli Village, </p>\\n<p> Bengaluru, 560103, </p>\\n<p> Karnataka, India </p>\\n<p> CIN : U51109KA2012PTC066107 </p>\\n<p> Telephone: <a href=\"tel:18002089898\">1800 208 9898</a></p>\\n</div></div></div></div></div></div><div><div class=\"_1DXv5h\"><div><img src=\"data:image/svg+xml;base64,PHN2ZyB4bWxucz0iaHR0cDovL3d3dy53My5vcmcvMjAwMC9zdmciIHdpZHRoPSIxNiIgaGVpZ2h0PSIxNSIgdmlld0JveD0iMCAwIDE2IDE1Ij4KICAgIDxkZWZzPgogICAgICAgIDxsaW5lYXJHcmFkaWVudCBpZD0iYSIgeDE9IjAlIiB4Mj0iODYuODc2JSIgeTE9IjAlIiB5Mj0iODAuMjAyJSI+CiAgICAgICAgICAgIDxzdG9wIG9mZnNldD0iMCUiIHN0b3AtY29sb3I9IiNGRkQ4MDAiLz4KICAgICAgICAgICAgPHN0b3Agb2Zmc2V0PSIxMDAlIiBzdG9wLWNvbG9yPSIjRkZBRjAwIi8+CiAgICAgICAgPC9saW5lYXJHcmFkaWVudD4KICAgIDwvZGVmcz4KICAgIDxnIGZpbGw9Im5vbmUiIGZpbGwtcnVsZT0iZXZlbm9kZCI+CiAgICAgICAgPHBhdGggZD0iTS0yLTJoMjB2MjBILTJ6Ii8+CiAgICAgICAgPHBhdGggZmlsbD0idXJsKCNhKSIgZmlsbC1ydWxlPSJub256ZXJvIiBkPSJNMTUuOTMgNS42MTRoLTIuOTQ4VjQuMTRjMC0uODE4LS42NTUtMS40NzMtMS40NzMtMS40NzNIOC41NmMtLjgxNyAwLTEuNDczLjY1NS0xLjQ3MyAxLjQ3M3YxLjQ3NEg0LjE0Yy0uODE4IDAtMS40NjYuNjU2LTEuNDY2IDEuNDc0bC0uMDA3IDguMTA1YzAgLjgxOC42NTUgMS40NzQgMS40NzMgMS40NzRoMTEuNzljLjgxOCAwIDEuNDc0LS42NTYgMS40NzQtMS40NzRWNy4wODhjMC0uODE4LS42NTYtMS40NzQtMS40NzQtMS40NzR6bS00LjQyMSAwSDguNTZWNC4xNGgyLjk0OHYxLjQ3NHoiIHRyYW5zZm9ybT0idHJhbnNsYXRlKC0yIC0yKSIvPgogICAgPC9nPgo8L3N2Zz4K\"/><a href=\"https://seller.flipkart.com/?utm_source=fkwebsite&amp;utm_medium=websitedirect\"><span class=\"_1Dwg_s\">Sell On Flipkart</span></a></div><div><img src=\"data:image/svg+xml;base64,PHN2ZyB4bWxucz0iaHR0cDovL3d3dy53My5vcmcvMjAwMC9zdmciIHdpZHRoPSIxNSIgaGVpZ2h0PSIxNSIgdmlld0JveD0iMCAwIDE1IDE1Ij4KICAgIDxkZWZzPgogICAgICAgIDxsaW5lYXJHcmFkaWVudCBpZD0iYSIgeDE9IjAlIiB4Mj0iODYuODc2JSIgeTE9IjAlIiB5Mj0iODAuMjAyJSI+CiAgICAgICAgICAgIDxzdG9wIG9mZnNldD0iMCUiIHN0b3AtY29sb3I9IiNGRkQ4MDAiLz4KICAgICAgICAgICAgPHN0b3Agb2Zmc2V0PSIxMDAlIiBzdG9wLWNvbG9yPSIjRkZBRjAwIi8+CiAgICAgICAgPC9saW5lYXJHcmFkaWVudD4KICAgIDwvZGVmcz4KICAgIDxnIGZpbGw9Im5vbmUiIGZpbGwtcnVsZT0iZXZlbm9kZCI+CiAgICAgICAgPHBhdGggZD0iTS0zLTNoMjB2MjBILTN6Ii8+CiAgICAgICAgPHBhdGggZmlsbD0idXJsKCNhKSIgZmlsbC1ydWxlPSJub256ZXJvIiBkPSJNMTAuNDkyIDNDNi4zNTMgMyAzIDYuMzYgMyAxMC41YzAgNC4xNCAzLjM1MyA3LjUgNy40OTIgNy41QzE0LjY0IDE4IDE4IDE0LjY0IDE4IDEwLjUgMTggNi4zNiAxNC42NCAzIDEwLjQ5MiAzem0zLjE4IDEyTDEwLjUgMTMuMDg4IDcuMzI3IDE1bC44NC0zLjYwN0w1LjM3IDguOTdsMy42OS0uMzE1TDEwLjUgNS4yNWwxLjQ0IDMuMzk4IDMuNjkuMzE1LTIuNzk4IDIuNDIyLjg0IDMuNjE1eiIgdHJhbnNmb3JtPSJ0cmFuc2xhdGUoLTMgLTMpIi8+CiAgICA8L2c+Cjwvc3ZnPgo=\"/><a href=\"https://brands.flipkart.com\"><span class=\"_1Dwg_s\">Advertise</span></a></div><div><img src=\"data:image/svg+xml;base64,PHN2ZyB4bWxucz0iaHR0cDovL3d3dy53My5vcmcvMjAwMC9zdmciIHdpZHRoPSIxOCIgaGVpZ2h0PSIxNyIgdmlld0JveD0iMCAwIDE4IDE3Ij4KICAgIDxkZWZzPgogICAgICAgIDxsaW5lYXJHcmFkaWVudCBpZD0iYSIgeDE9IjAlIiB4Mj0iODYuODc2JSIgeTE9IjAlIiB5Mj0iODAuMjAyJSI+CiAgICAgICAgICAgIDxzdG9wIG9mZnNldD0iMCUiIHN0b3AtY29sb3I9IiNGRkQ4MDAiLz4KICAgICAgICAgICAgPHN0b3Agb2Zmc2V0PSIxMDAlIiBzdG9wLWNvbG9yPSIjRkZBRjAwIi8+CiAgICAgICAgPC9saW5lYXJHcmFkaWVudD4KICAgIDwvZGVmcz4KICAgIDxnIGZpbGw9Im5vbmUiIGZpbGwtcnVsZT0iZXZlbm9kZCI+CiAgICAgICAgPHBhdGggZD0iTS0xLTFoMjB2MjBILTF6Ii8+CiAgICAgICAgPHBhdGggZmlsbD0idXJsKCNhKSIgZmlsbC1ydWxlPSJub256ZXJvIiBkPSJNMTYuNjY3IDVIMTQuODVjLjA5Mi0uMjU4LjE1LS41NDIuMTUtLjgzM2EyLjQ5NyAyLjQ5NyAwIDAgMC00LjU4My0xLjM3NUwxMCAzLjM1bC0uNDE3LS41NjdBMi41MSAyLjUxIDAgMCAwIDcuNSAxLjY2N2EyLjQ5NyAyLjQ5NyAwIDAgMC0yLjUgMi41YzAgLjI5MS4wNTguNTc1LjE1LjgzM0gzLjMzM2MtLjkyNSAwLTEuNjU4Ljc0Mi0xLjY1OCAxLjY2N2wtLjAwOCA5LjE2NkExLjY2IDEuNjYgMCAwIDAgMy4zMzMgMTcuNWgxMy4zMzRhMS42NiAxLjY2IDAgMCAwIDEuNjY2LTEuNjY3VjYuNjY3QTEuNjYgMS42NiAwIDAgMCAxNi42NjcgNXptMCA2LjY2N0gzLjMzM3YtNWg0LjIzNEw1LjgzMyA5LjAyNWwxLjM1Ljk3NSAxLjk4NC0yLjdMMTAgNi4xNjdsLjgzMyAxLjEzMyAxLjk4NCAyLjcgMS4zNS0uOTc1LTEuNzM0LTIuMzU4aDQuMjM0djV6IiB0cmFuc2Zvcm09InRyYW5zbGF0ZSgtMSAtMSkiLz4KICAgIDwvZz4KPC9zdmc+Cg==\"/><a href=\"/account/giftcard?otracker=undefined_footer_footer_navlinks\"><span class=\"_1Dwg_s\">Gift Cards</span></a></div><div><img src=\"data:image/svg+xml;base64,PHN2ZyB4bWxucz0iaHR0cDovL3d3dy53My5vcmcvMjAwMC9zdmciIHdpZHRoPSIxNSIgaGVpZ2h0PSIxNSIgdmlld0JveD0iMCAwIDE1IDE1Ij4KICAgIDxkZWZzPgogICAgICAgIDxsaW5lYXJHcmFkaWVudCBpZD0iYSIgeDE9IjAlIiB4Mj0iODYuODc2JSIgeTE9IjAlIiB5Mj0iODAuMjAyJSI+CiAgICAgICAgICAgIDxzdG9wIG9mZnNldD0iMCUiIHN0b3AtY29sb3I9IiNGRkQ4MDAiLz4KICAgICAgICAgICAgPHN0b3Agb2Zmc2V0PSIxMDAlIiBzdG9wLWNvbG9yPSIjRkZBRjAwIi8+CiAgICAgICAgPC9saW5lYXJHcmFkaWVudD4KICAgIDwvZGVmcz4KICAgIDxnIGZpbGw9Im5vbmUiIGZpbGwtcnVsZT0iZXZlbm9kZCI+CiAgICAgICAgPHBhdGggZD0iTS0yLTNoMjB2MjBILTJ6Ii8+CiAgICAgICAgPHBhdGggZmlsbD0idXJsKCNhKSIgZmlsbC1ydWxlPSJub256ZXJvIiBkPSJNOS41IDNDNS4zNiAzIDIgNi4zNiAyIDEwLjUgMiAxNC42NCA1LjM2IDE4IDkuNSAxOGM0LjE0IDAgNy41LTMuMzYgNy41LTcuNUMxNyA2LjM2IDEzLjY0IDMgOS41IDN6bS43NSAxMi43NWgtMS41di0xLjVoMS41djEuNXptMS41NTMtNS44MTNsLS42NzYuNjljLS41NC41NDgtLjg3Ny45OTgtLjg3NyAyLjEyM2gtMS41di0uMzc1YzAtLjgyNS4zMzgtMS41NzUuODc3LTIuMTIzbC45My0uOTQ1Yy4yNzgtLjI3LjQ0My0uNjQ1LjQ0My0xLjA1NyAwLS44MjUtLjY3NS0xLjUtMS41LTEuNVM4IDcuNDI1IDggOC4yNUg2LjVhMyAzIDAgMSAxIDYgMGMwIC42Ni0uMjcgMS4yNi0uNjk3IDEuNjg4eiIgdHJhbnNmb3JtPSJ0cmFuc2xhdGUoLTIgLTMpIi8+CiAgICA8L2c+Cjwvc3ZnPgo=\"/><a href=\"/helpcentre?otracker=undefined_footer_footer_navlinks\"><span class=\"_1Dwg_s\">Help Center</span></a></div><span class=\"_2tFDQF\">\\xc2\\xa9 2007-<!-- -->2020<!-- --> <span>Flipkart.com.</span></span><img src=\"//img1a.flixcart.com/www/linchpin/fk-cp-zion/img/payment-method_2dd397.svg\"/></div></div></div></div></footer><div class=\"_16c-eX _16DdHx\"><div class=\"kxUxS5\"><svg width=\"16\" height=\"27\" viewBox=\"0 0 16 27\" xmlns=\"http://www.w3.org/2000/svg\" class=\"j43Uvy\"><path d=\"M16 23.207L6.11 13.161 16 3.093 12.955 0 0 13.161l12.955 13.161z\" fill=\"#fff\" class=\"_14b0BE\"></path></svg><span>Back to top</span></div></div></div></div>\\n<script type=\"application/ld+json\" nonce=\"10424577359185374968\">\\n{\\n    \"@context\": \"http://schema.org\",\\n    \"@type\": \"WebSite\",\\n    \"url\": \"http://www.flipkart.com/\",\\n    \"potentialAction\": [{\\n        \"@type\": \"SearchAction\",\\n        \"target\": \"http://www.flipkart.com/search?q={search_term_string}\",\\n        \"query-input\": \"required name=search_term_string\"\\n        },{\\n        \"@type\": \"SearchAction\",\\n        \"target\": \"android-app://com.flipkart.android/flipkart/de_sq_seg_-search.flipkart.com-_{search_term_string}\",\\n        \"query-input\": \"required name=search_term_string\"\\n    }]\\n}\\n</script>\\n<script nonce=\"10424577359185374968\" id=\"is_script\">\\n\\twindow.__INITIAL_STATE__ = {\"abExperiments\":{\"bucket[]\":{\"value\":\"vernacEnable\",\"abId\":\"20fdaef5\"},\"trackingId\":{\"value\":\"vernacEnable\",\"abId\":\"20fdaef5\"},\"cnc_strong_auth_enabled\":{\"value\":true,\"abId\":\"463707bf\"},\"newap-homep-d9b50\":{\"value\":\"mgd16-homep-8f308\",\"abId\":\"4778f558\"},\"newap-homep-55db3\":{\"value\":\"mgd16-homep-55c67\",\"abId\":\"4778f558\"},\"bbdgr-categ-097db\":{\"value\":\"groce-categ-89abf\",\"abId\":\"654a29d3\"},\"rankingBucket\":{\"value\":\"nrt_AB_19dec\",\"abId\":\"8761dc32\"},\"spotlightRulesAbBucket\":{\"value\":\"reverse\",\"abId\":\"b9cc4de3\"},\"phoneNoPersistExp\":{\"value\":true,\"abId\":\"dace4df5\"}},\"activateVip\":{\"asyncStatus\":\"INIT\",\"widget\":[]},\"autosuggest\":{\"query\":null,\"payloadId\":null,\"searchHistory\":[],\"asyncStatus\":\"INIT\",\"words\":{},\"searchBrowseHistoryRequest\":{}},\"basket\":{\"asyncStatus\":\"INIT\",\"pageLevelError\":false},\"buyingGuides\":{},\"cartData\":{\"asyncStatus\":\"INIT\",\"pageLevelError\":false},\"saveForLaterData\":{\"asyncStatus\":\"INIT\",\"data\":{\"requestedStores\":[]}},\"checkoutPage\":{\"summary\":{\"asyncStatus\":\"INIT\"},\"checkoutAsyncStatus\":\"INIT\",\"addressCache\":{\"newAddressForm\":{\"id\":\"newAddressForm\",\"name\":\"\",\"addressLine1\":\"\",\"addressLine2\":\"\",\"landmark\":\"\",\"city\":\"\",\"state\":\"\",\"pincode\":\"\",\"phone\":\"\",\"alternatePhone\":\"\",\"locationTypeTag\":\"\"}},\"visualState\":{\"login\":\"EXPANDED\",\"address\":\"COLLAPSED\",\"orderSummary\":\"COLLAPSED\",\"payment\":\"COLLAPSED\"},\"loginState\":{\"asyncStatus\":\"INIT\"},\"buyNow\":{\"eids\":\"\",\"domain\":\"physical\",\"analytics\":{}},\"addressLocation\":{\"asyncStatus\":\"INIT\"}},\"claimedReward\":{\"asyncStatus\":\"INIT\",\"widget\":[]},\"compareAddProductData\":{\"asyncStatus\":\"INIT\",\"brandvsproduct\":{},\"brand\":null},\"compareBrandData\":{\"asyncStatus\":\"INIT\"},\"comparePageData\":{\"asyncStatus\":\"INIT\",\"showDifference\":false},\"compareWidgetData\":[],\"config\":{\"asyncStatus\":\"SUCCESS\",\"data\":{\"globalConfig\":{\"deferReco\":true,\"disableRecentlyViewed\":false,\"disableReco\":false,\"disableSearch\":false,\"disableSeo\":false,\"enableCLPv4\":true,\"enableProductPageServerRendering\":true,\"enableBrowsePageServerRendering\":true,\"enableHomePageServerRendering\":true,\"enableCLPServerRendering\":true,\"enableStreaming\":true,\"enableAllReviewsPageServerRendering\":true,\"enablePaymentDegrade\":false,\"enableYahooPixel\":false,\"enableCriteo\":false,\"enableFingerPrint\":true,\"skipCTARender\":false,\"enableGroceryV2Experience\":true,\"enable11x11\":false,\"enableGroceryV2Experience_test\":true,\"enableNewProductTitle\":true,\"enableStickyBasketV2\":true,\"enableMWFrameworkForProductPage\":true,\"enableMWFrameworkForCartPage\":true,\"enableMWFrameworkForBrowsePage\":false,\"checkBnplMigration\":true,\"autoSuggestCacheTTLInMillis\":0,\"supportHeliosRedirection\":false},\"cobrandedExperience\":{\"yahoo\":{\"logo\":\"https://img1a.flixcart.com/www/promos/new/20161121-160909-yahoo-store.png\",\"class\":\"yahoo-store\",\"store-link\":\"https://in.yahoo.com/\",\"store-name\":\"Go Back to Yahoo.in\",\"tracking-name\":\"yahoocobr\",\"pixel-tracking-url\":\"https://sp.analytics.yahoo.com/spp.pl?a=10000&.yp=10021645\",\"search-pixel-url\":\"https://bat.bing.com/action/0?ti=4003414&Ver=2\"},\"airtel\":{\"logo\":\"http://img5a.flixcart.com/www/promos/new/20150618-144245-header-airtel-white.png\",\"class\":\"airtel-store\",\"store-link\":\"www.airtel.in\",\"store-name\":\"Go Back to Airtel.in\",\"tracking-name\":\"airtel-cobrand-store\"},\"axis\":{\"logo\":\"https://rukminim1.flixcart.com/www/245/50/promos/02/06/2017/4a815cb2-29f5-4c5b-a5af-a9278feb1a1b.png?q=90\",\"class\":\"axis-store\",\"store-link\":\"https://www.axisbank.com\",\"store-name\":\"Go back to Axis Bank\",\"tracking-name\":\"axiscobr\",\"footer\":\"Exclusive Store, for Axis Bank Customers!\"},\"offers\":{\"logo\":\"https://img1a.flixcart.com/www/promos/new/20150618-145909-header-smartbuy-white.png\",\"class\":\"hdfc-store \",\"store-link\":\"www.smartbuy.hdfcbank.com\",\"store-name\":\"Go Back to Smart buy\",\"tracking-name\":\"hdfc-cobrand-store\",\"footer\":\"10x Reward points or 5% cashback on your HDFC Bank cards\"},\"bhaskar\":{\"logo\":\"http://img6a.flixcart.com/www/promos/new/20150618-142842-header-logo-bhaskar.png\",\"class\":\"bhasker-store \",\"store-link\":\"www.dainikbhaskar.com\",\"store-name\":\"Go Back to Dainik Bhaskar\",\"tracking-name\":\"dainik-cobrand-store\"},\"itzcash\":{\"logo\":\"https://rukminim1.flixcart.com/www/245/50/promos/09/01/2017/c1c2c887-ba6f-4346-9bac-fd98e208bb03.png?q=90\",\"class\":\"itzcash-store\",\"store-link\":\"http://itzcash.com\",\"store-name\":\"Go Back to Itzcash-store\",\"tracking-name\":\"itzcash-cobrand-store\",\"footer\":\"Exclusive store, for Itz cash store customers!\"},\"indusind\":{\"logo\":\"https://img1a.flixcart.com/www/promos/new/20160620-133321-powered-header-indusindbank-new.png\",\"class\":\"indusind-store\",\"store-link\":\"http://indusind.store.flipkart.com/\",\"store-name\":\"Go back go indsland store\",\"tracking-name\":\"indusind-cobrand-store\",\"footer\":\"Exclusive store for Induslnd Bank customers!\"},\"yono\":{\"logo\":\"https://rukminim1.flixcart.com/www/245/50/promos/13/12/2019/2ad891cf-64df-4873-a27d-2a352a36c4e3.jpg?q=100\",\"class\":\"sbiyono-store \",\"store-link\":\"http://yono.store.flipkart.com/\",\"store-name\":\"Go Back to SBI Yono\",\"tracking-name\":\"sbiyono-cobrand-store\",\"footer\":\"Exclusive offer for SBI Yono customers - Get a Flipkart Gift Voucher worth 5% of your transaction\"}},\"MultiWidgetPageUriMatcherConfig\":{}},\"responseMeta\":{\"params\":null,\"versions\":{\"globalConfig\":\"globalConfig.device.desktop.281\",\"cobrandedExperience\":\"cobrandedExperience.device.desktop.30\",\"MultiWidgetPageUriMatcherConfig\":\"{ \\\\\"device\\\\\": \\\\\"android\\\\\", \\\\\"appVersion\\\\\": \\\\\"6.3\\\\\" }.MultiWidgetPageUriMatcherConfig.1\"}}},\"deferredContent\":{},\"filters\":{\"asyncStatus\":\"INIT\"},\"gamification\":{\"bidAndWin\":{\"asyncStatus\":\"INIT\",\"timeStamp\":0,\"data\":null,\"bidModal\":null},\"bidAndWinWinners\":{\"asyncStatus\":\"INIT\",\"data\":[]}},\"giveAwayData\":{\"asyncStatus\":\"INIT\"},\"grocery\":{\"offers\":{\"listingIds\":[],\"offerData\":{}},\"marketplaceServiceability\":true,\"marketPlacePincodeReducer\":{\"widgetTitle\":\"Where do you want the delivery ?\",\"serviceable\":false,\"asyncStatus\":\"INIT\",\"widgetText\":\"Select city\"}},\"helpCentre\":{\"breadCrumbs\":[{\"title\":\"Help Centre\",\"url\":\"/helpcentre\"}],\"catalogs\":{\"asyncStatus\":\"INIT\",\"list\":[],\"selectedCatalogId\":null},\"contact\":{\"callback\":{\"asyncStatus\":\"INIT\"},\"channels\":{\"asyncStatus\":\"INIT\"},\"emailUs\":{\"asyncStatus\":\"INIT\"},\"postal\":{\"asyncStatus\":\"INIT\"}},\"faqs\":{\"asyncStatus\":\"INIT\",\"faqs\":{},\"selectedFaqId\":null,\"selectedFaqTitle\":null},\"getContext\":{\"asyncStatus\":\"INIT\",\"contextFetched\":false},\"incidents\":{\"data\":{},\"asyncStatus\":\"INIT\"},\"issueFaq\":{\"data\":{},\"asyncStatus\":\"INIT\",\"selectedIssueFaq\":null,\"parentIssue\":null},\"nonOrderIssue\":{\"asyncStatus\":\"INIT\"},\"orderIssue\":{\"currentOrderItem\":null,\"orderIssueItem\":null,\"showViewMore\":false,\"asyncStatus\":\"INIT\"},\"orderList\":{\"asyncStatus\":\"INIT\",\"orders\":{},\"pages\":0},\"search\":{\"asyncStatus\":\"INIT\"},\"selectedCatalog\":{\"asyncStatus\":\"INIT\",\"data\":{}},\"serviceTickets\":{\"incidents\":{},\"asyncStatus\":\"INIT\"},\"subCatalog\":{\"asyncStatus\":\"INIT\",\"data\":{},\"selectedSubCatalogId\":null},\"suggestion\":{\"asyncStatus\":\"INIT\"},\"viewType\":\"INIT\"},\"inAppNotifications\":{\"isFetching\":false,\"notifications\":[],\"asyncStatus\":\"INIT\"},\"infiniteMU\":{},\"layouts\":{\"asyncStatus\":\"INIT\"},\"lockInData\":{\"asyncStatus\":\"INIT\"},\"lockinTnc\":{\"asyncStatus\":\"INIT\"},\"misc\":{\"hostname\":\"www.flipkart.com\",\"port\":8081,\"nonce\":\"10424577359185374968\",\"anchorTagMap\":{\"atlc2\":true,\"atlssmo\":true}},\"modal\":null,\"myAccount\":{\"myReviews\":{\"myCompleteReview\":{\"asyncStatus\":\"INIT\"},\"myRecentReview\":{\"asyncStatus\":\"INIT\"},\"myReviewDelete\":{\"asyncStatus\":\"INIT\"}},\"myProfileInfo\":{\"myPersonalInfo\":{\"asyncStatus\":\"INIT\"},\"updateEmailAndMobile\":{\"asyncStatus\":\"INIT\"},\"changePassword\":{\"asyncStatus\":\"INIT\"},\"deactivateAccount\":{\"asyncStatus\":\"INIT\"}},\"myRewards\":{\"asyncStatus\":\"INIT\"},\"wallet\":{\"walletBalance\":{\"asyncStatus\":\"INIT\"},\"drawBalance\":{\"asyncStatus\":\"INIT\"},\"activatePhonePe\":{\"asyncStatus\":\"INIT\"}},\"giftcard\":{\"giftCardList\":{\"asyncStatus\":\"INIT\"},\"addGiftCard\":{\"asyncStatus\":\"INIT\"},\"checkBalance\":{\"asyncStatus\":\"INIT\"},\"buyGiftCard\":{\"asyncStatus\":\"INIT\"},\"denomination\":{\"asyncStatus\":\"INIT\"},\"updateGiftList\":{},\"sendNotification\":{\"asyncStatus\":\"INIT\"},\"getStateList\":{\"asyncStatus\":\"INIT\"},\"mailer\":{\"asyncStatus\":\"INIT\"}},\"myAddresses\":{\"asyncStatus\":\"INIT\"},\"wishlistPageData\":{\"asyncStatus\":\"INIT\",\"data\":{},\"products\":[]},\"savedCards\":{\"savedCards\":{\"asyncStatus\":\"INIT\"},\"savedCardToken\":{\"asyncStatus\":\"INIT\"}},\"bnpl\":{\"buyNowPayLater\":{\"asyncStatus\":\"INIT\",\"data\":[]},\"bnplSummary\":{\"asyncStatus\":\"INIT\",\"data\":[]},\"bnplToken\":{\"asyncStatus\":\"INIT\",\"data\":[]},\"bnplAccountSummary\":{\"asyncStatus\":\"INIT\",\"data\":[]},\"bnplLinkedAccounts\":{\"asyncStatus\":\"INIT\"},\"bnplMigration\":{\"asyncStatus\":\"INIT\",\"data\":[]}},\"panCard\":{\"pancard\":{\"asyncStatus\":\"INIT\"},\"pancardUploaded\":{\"asyncStatus\":\"INIT\"}}},\"navigation\":{\"asyncStatus\":\"INIT\",\"navData\":{}},\"networkStatus\":\"ONLINE\",\"offerInfo\":{\"items\":[]},\"pageDataV4\":{\"page\":{\"asyncStatus\":\"SUCCESS\",\"data\":{\"10000\":[{\"slotType\":\"LOGICAL\",\"id\":10001,\"parentId\":10000,\"layoutParams\":{\"fixedWidth\":280,\"margin\":\"0,0,10,0\",\"orientation\":\"\",\"widgetHeight\":450,\"widgetWidth\":2},\"childArrangement\":\"STACK\"},{\"slotType\":\"LOGICAL\",\"id\":10003,\"parentId\":10000,\"layoutParams\":{\"flexibleWidth\":true,\"orientation\":\"\",\"widgetHeight\":450,\"widgetWidth\":10},\"childArrangement\":\"STACK\"}],\"10001\":[{\"slotType\":\"LOGICAL\",\"id\":10002,\"parentId\":10001,\"layoutParams\":{\"orientation\":\"\",\"stickyScroll\":false,\"widgetHeight\":300,\"widgetWidth\":12},\"childArrangement\":\"STACK\"}],\"10002\":[{\"slotType\":\"WIDGET\",\"id\":2,\"parentId\":10002,\"layoutParams\":{\"orientation\":\"\",\"widgetHeight\":300,\"widgetWidth\":12},\"dataId\":\"2041828421\",\"elementId\":\"2-FILTERS\",\"hasWidgetDataChanged\":true,\"ttl\":3000,\"widget\":{\"type\":\"FILTERS\",\"data\":{\"filters\":{\"type\":\"FiltersValue\",\"facetResponse\":{\"count\":11015,\"facets\":[{\"id\":\"price_range\",\"metadata\":{\"isDefault\":true,\"showCount\":false,\"sub_facet_order\":\"cnc\",\"subtext\":\"\",\"prefix\":\"\\xe2\\x82\\xb9\",\"noFilter\":true,\"facetCountThreshold\":30,\"start\":\"Min Price\",\"end\":\"Max Price\"},\"values\":[{\"type\":\"range\",\"histogramValues\":[8,8,8,7,8,8,8,8,6,7,4],\"resource\":{\"params\":\"facets.price_range.from=Min,facets.price_range.to=Max\",\"selected\":false},\"selectedRange\":{\"from\":{\"displayValue\":\"Min\",\"key\":\"Min\"},\"to\":{\"displayValue\":\"\\xe2\\x82\\xb950000+\",\"key\":\"Max\"}},\"values\":[{\"displayValue\":\"Min\",\"key\":\"Min\"},{\"displayValue\":\"\\xe2\\x82\\xb92000\",\"key\":\"2000\"},{\"displayValue\":\"\\xe2\\x82\\xb94000\",\"key\":\"4000\"},{\"displayValue\":\"\\xe2\\x82\\xb97000\",\"key\":\"7000\"},{\"displayValue\":\"\\xe2\\x82\\xb910000\",\"key\":\"10000\"},{\"displayValue\":\"\\xe2\\x82\\xb913000\",\"key\":\"13000\"},{\"displayValue\":\"\\xe2\\x82\\xb916000\",\"key\":\"16000\"},{\"displayValue\":\"\\xe2\\x82\\xb920000\",\"key\":\"20000\"},{\"displayValue\":\"\\xe2\\x82\\xb925000\",\"key\":\"25000\"},{\"displayValue\":\"\\xe2\\x82\\xb930000\",\"key\":\"30000\"},{\"displayValue\":\"\\xe2\\x82\\xb950000\",\"key\":\"50000\"},{\"displayValue\":\"\\xe2\\x82\\xb950000+\",\"key\":\"Max\"}]}]},{\"type\":\"scrollableView\",\"id\":\"fulfilled_by\",\"metadata\":{\"isDefault\":true,\"showCount\":false,\"subtext\":\"\",\"showTitle\":false,\"showToolTip\":true,\"facetCountThreshold\":30,\"nested\":false},\"title\":\"F-Assured\",\"values\":[{\"type\":\"checkbox\",\"id\":\"alphabetical\",\"values\":[{\"childCategory\":false,\"count\":8,\"highlighted\":false,\"leafNode\":false,\"parentCategory\":false,\"resource\":{\"params\":\"facets.fulfilled_by%5B%5D=Flipkart+Assured\",\"selected\":false},\"selectedCount\":0,\"title\":\"Flipkart Assured\"}]}]},{\"type\":\"scrollableView\",\"id\":\"ram\",\"metadata\":{\"isDefault\":true,\"showCount\":false,\"subtext\":\"Higher the RAM, Better the Performance\",\"facetCountThreshold\":30,\"nested\":false},\"title\":\"RAM\",\"values\":[{\"type\":\"checkbox\",\"id\":\"fixed\",\"values\":[{\"childCategory\":false,\"count\":398,\"highlighted\":false,\"leafNode\":false,\"parentCategory\":false,\"resource\":{\"params\":\"facets.ram%5B%5D=6+GB+%26+Above\",\"selected\":false},\"selectedCount\":0,\"title\":\"6 GB & Above\"},{\"childCategory\":false,\"count\":702,\"highlighted\":false,\"leafNode\":false,\"parentCategory\":false,\"resource\":{\"params\":\"facets.ram%5B%5D=4+GB\",\"selected\":false},\"selectedCount\":0,\"title\":\"4 GB\"},{\"childCategory\":false,\"count\":822,\"highlighted\":false,\"leafNode\":false,\"parentCategory\":false,\"resource\":{\"params\":\"facets.ram%5B%5D=3+GB\",\"selected\":false},\"selectedCount\":0,\"title\":\"3 GB\"},{\"childCategory\":false,\"count\":1027,\"highlighted\":false,\"leafNode\":false,\"parentCategory\":false,\"resource\":{\"params\":\"facets.ram%5B%5D=2+GB\",\"selected\":false},\"selectedCount\":0,\"title\":\"2 GB\"},{\"childCategory\":false,\"count\":1365,\"highlighted\":false,\"leafNode\":false,\"parentCategory\":false,\"resource\":{\"params\":\"facets.ram%5B%5D=1+GB\",\"selected\":false},\"selectedCount\":0,\"title\":\"1 GB\"},{\"childCategory\":false,\"count\":597,\"highlighted\":false,\"leafNode\":false,\"parentCategory\":false,\"resource\":{\"params\":\"facets.ram%5B%5D=512+MB+-+1+GB\",\"selected\":false},\"selectedCount\":0,\"title\":\"512 MB - 1 GB\"},{\"childCategory\":false,\"count\":4993,\"highlighted\":false,\"leafNode\":false,\"parentCategory\":false,\"resource\":{\"params\":\"facets.ram%5B%5D=Less+than+512+MB\",\"selected\":false},\"selectedCount\":0,\"title\":\"Less than 512 MB\"}]}]},{\"type\":\"expandableView\",\"id\":\"brand\",\"metadata\":{\"multiselect\":\"true\",\"isDefault\":true,\"showCount\":false,\"subtext\":\"\",\"DisplayTitle\":\"Explore our various best selling brands\",\"sort\":true,\"isSearchable\":true,\"facetCountThreshold\":30,\"nested\":true},\"title\":\"Brand\",\"values\":[{\"type\":\"checkbox\",\"id\":\"popularity\",\"title\":\"Popular\",\"values\":[{\"childCategory\":false,\"count\":121,\"highlighted\":false,\"leafNode\":false,\"parentCategory\":false,\"resource\":{\"params\":\"facets.brand%5B%5D=Realme\",\"selected\":false},\"selectedCount\":0,\"title\":\"Realme\"},{\"childCategory\":false,\"count\":569,\"highlighted\":false,\"leafNode\":false,\"parentCategory\":false,\"resource\":{\"params\":\"facets.brand%5B%5D=Micromax\",\"selected\":false},\"selectedCount\":0,\"title\":\"Micromax\"},{\"childCategory\":false,\"count\":512,\"highlighted\":false,\"leafNode\":false,\"parentCategory\":false,\"resource\":{\"params\":\"facets.brand%5B%5D=Samsung\",\"selected\":false},\"selectedCount\":0,\"title\":\"Samsung\"},{\"childCategory\":false,\"count\":244,\"highlighted\":false,\"leafNode\":false,\"parentCategory\":false,\"resource\":{\"params\":\"facets.brand%5B%5D=Mi\",\"selected\":false},\"selectedCount\":0,\"title\":\"Mi\"},{\"childCategory\":false,\"count\":124,\"highlighted\":false,\"leafNode\":false,\"parentCategory\":false,\"resource\":{\"params\":\"facets.brand%5B%5D=Honor\",\"selected\":false},\"selectedCount\":0,\"title\":\"Honor\"},{\"childCategory\":false,\"count\":63,\"highlighted\":false,\"leafNode\":false,\"parentCategory\":false,\"resource\":{\"params\":\"facets.brand%5B%5D=Infinix\",\"selected\":false},\"selectedCount\":0,\"title\":\"Infinix\"}]},{\"type\":\"checkbox\",\"id\":\"alphabetical\",\"title\":\"Rest all\",\"values\":[{\"childCategory\":false,\"count\":101,\"highlighted\":false,\"leafNode\":false,\"parentCategory\":false,\"resource\":{\"params\":\"facets.brand%5B%5D=1%2B1%3D2\",\"selected\":false},\"selectedCount\":0,\"title\":\"1+1=2\"},{\"childCategory\":false,\"count\":2,\"highlighted\":false,\"leafNode\":false,\"parentCategory\":false,\"resource\":{\"params\":\"facets.brand%5B%5D=Acer\",\"selected\":false},\"selectedCount\":0,\"title\":\"Acer\"},{\"childCategory\":false,\"count\":108,\"highlighted\":false,\"leafNode\":false,\"parentCategory\":false,\"resource\":{\"params\":\"facets.brand%5B%5D=Adcom\",\"selected\":false},\"selectedCount\":0,\"title\":\"Adcom\"},{\"childCategory\":false,\"count\":3,\"highlighted\":false,\"leafNode\":false,\"parentCategory\":false,\"resource\":{\"params\":\"facets.brand%5B%5D=AIEK\",\"selected\":false},\"selectedCount\":0,\"title\":\"AIEK\"},{\"childCategory\":false,\"count\":1,\"highlighted\":false,\"leafNode\":false,\"parentCategory\":false,\"resource\":{\"params\":\"facets.brand%5B%5D=AIRI+Mobile\",\"selected\":false},\"selectedCount\":0,\"title\":\"AIRI Mobile\"},{\"childCategory\":false,\"count\":71,\"highlighted\":false,\"leafNode\":false,\"parentCategory\":false,\"resource\":{\"params\":\"facets.brand%5B%5D=AK\",\"selected\":false},\"selectedCount\":0,\"title\":\"AK\"},{\"childCategory\":false,\"count\":24,\"highlighted\":false,\"leafNode\":false,\"parentCategory\":false,\"resource\":{\"params\":\"facets.brand%5B%5D=Alcatel\",\"selected\":false},\"selectedCount\":0,\"title\":\"Alcatel\"},{\"childCategory\":false,\"count\":1,\"highlighted\":false,\"leafNode\":false,\"parentCategory\":false,\"resource\":{\"params\":\"facets.brand%5B%5D=Alco\",\"selected\":false},\"selectedCount\":0,\"title\":\"Alco\"},{\"childCategory\":false,\"count\":1,\"highlighted\":false,\"leafNode\":false,\"parentCategory\":false,\"resource\":{\"params\":\"facets.brand%5B%5D=Alive\",\"selected\":false},\"selectedCount\":0,\"title\":\"Alive\"},{\"childCategory\":false,\"count\":4,\"highlighted\":false,\"leafNode\":false,\"parentCategory\":false,\"resource\":{\"params\":\"facets.brand%5B%5D=Alive+Plus\",\"selected\":false},\"selectedCount\":0,\"title\":\"Alive Plus\"},{\"childCategory\":false,\"count\":6,\"highlighted\":false,\"leafNode\":false,\"parentCategory\":false,\"resource\":{\"params\":\"facets.brand%5B%5D=Anee\",\"selected\":false},\"selectedCount\":0,\"title\":\"Anee\"},{\"childCategory\":false,\"count\":1,\"highlighted\":false,\"leafNode\":false,\"parentCategory\":false,\"resource\":{\"params\":\"facets.brand%5B%5D=Animate\",\"selected\":false},\"selectedCount\":0,\"title\":\"Animate\"},{\"childCategory\":false,\"count\":210,\"highlighted\":false,\"leafNode\":false,\"parentCategory\":false,\"resource\":{\"params\":\"facets.brand%5B%5D=Apple\",\"selected\":false},\"selectedCount\":0,\"title\":\"Apple\"},{\"childCategory\":false,\"count\":56,\"highlighted\":false,\"leafNode\":false,\"parentCategory\":false,\"resource\":{\"params\":\"facets.brand%5B%5D=Aqua\",\"selected\":false},\"selectedCount\":0,\"title\":\"Aqua\"},{\"childCategory\":false,\"count\":1,\"highlighted\":false,\"leafNode\":false,\"parentCategory\":false,\"resource\":{\"params\":\"facets.brand%5B%5D=Archos\",\"selected\":false},\"selectedCount\":0,\"title\":\"Archos\"},{\"childCategory\":false,\"count\":174,\"highlighted\":false,\"leafNode\":false,\"parentCategory\":false,\"resource\":{\"params\":\"facets.brand%5B%5D=Asus\",\"selected\":false},\"selectedCount\":0,\"title\":\"Asus\"},{\"childCategory\":false,\"count\":3,\"highlighted\":false,\"leafNode\":false,\"parentCategory\":false,\"resource\":{\"params\":\"facets.brand%5B%5D=Billion\",\"selected\":false},\"selectedCount\":0,\"title\":\"Billion\"},{\"childCategory\":false,\"count\":1,\"highlighted\":false,\"leafNode\":false,\"parentCategory\":false,\"resource\":{\"params\":\"facets.brand%5B%5D=Binatone\",\"selected\":false},\"selectedCount\":0,\"title\":\"Binatone\"},{\"childCategory\":false,\"count\":2,\"highlighted\":false,\"leafNode\":false,\"parentCategory\":false,\"resource\":{\"params\":\"facets.brand%5B%5D=Black+Shark\",\"selected\":false},\"selectedCount\":0,\"title\":\"Black Shark\"},{\"childCategory\":false,\"count\":3,\"highlighted\":false,\"leafNode\":false,\"parentCategory\":false,\"resource\":{\"params\":\"facets.brand%5B%5D=blackbear\",\"selected\":false},\"selectedCount\":0,\"title\":\"blackbear\"},{\"childCategory\":false,\"count\":36,\"highlighted\":false,\"leafNode\":false,\"parentCategory\":false,\"resource\":{\"params\":\"facets.brand%5B%5D=BlackBear\",\"selected\":false},\"selectedCount\":0,\"title\":\"BlackBear\"},{\"childCategory\":false,\"count\":67,\"highlighted\":false,\"leafNode\":false,\"parentCategory\":false,\"resource\":{\"params\":\"facets.brand%5B%5D=Blackbear\",\"selected\":false},\"selectedCount\":0,\"title\":\"Blackbear\"},{\"childCategory\":false,\"count\":18,\"highlighted\":false,\"leafNode\":false,\"parentCategory\":false,\"resource\":{\"params\":\"facets.brand%5B%5D=Blackberry\",\"selected\":false},\"selectedCount\":0,\"title\":\"Blackberry\"},{\"childCategory\":false,\"count\":23,\"highlighted\":false,\"leafNode\":false,\"parentCategory\":false,\"resource\":{\"params\":\"facets.brand%5B%5D=Blackzone\",\"selected\":false},\"selectedCount\":0,\"title\":\"Blackzone\"},{\"childCategory\":false,\"count\":60,\"highlighted\":false,\"leafNode\":false,\"parentCategory\":false,\"resource\":{\"params\":\"facets.brand%5B%5D=BlackZone\",\"selected\":false},\"selectedCount\":0,\"title\":\"BlackZone\"},{\"childCategory\":false,\"count\":3,\"highlighted\":false,\"leafNode\":false,\"parentCategory\":false,\"resource\":{\"params\":\"facets.brand%5B%5D=Blaupunkt\",\"selected\":false},\"selectedCount\":0,\"title\":\"Blaupunkt\"},{\"childCategory\":false,\"count\":18,\"highlighted\":false,\"leafNode\":false,\"parentCategory\":false,\"resource\":{\"params\":\"facets.brand%5B%5D=Bloom\",\"selected\":false},\"selectedCount\":0,\"title\":\"Bloom\"},{\"childCategory\":false,\"count\":6,\"highlighted\":false,\"leafNode\":false,\"parentCategory\":false,\"resource\":{\"params\":\"facets.brand%5B%5D=BLU\",\"selected\":false},\"selectedCount\":0,\"title\":\"BLU\"},{\"childCategory\":false,\"count\":4,\"highlighted\":false,\"leafNode\":false,\"parentCategory\":false,\"resource\":{\"params\":\"facets.brand%5B%5D=BQ\",\"selected\":false},\"selectedCount\":0,\"title\":\"BQ\"},{\"childCategory\":false,\"count\":15,\"highlighted\":false,\"leafNode\":false,\"parentCategory\":false,\"resource\":{\"params\":\"facets.brand%5B%5D=BSNL\",\"selected\":false},\"selectedCount\":0,\"title\":\"BSNL\"},{\"childCategory\":false,\"count\":3,\"highlighted\":false,\"leafNode\":false,\"parentCategory\":false,\"resource\":{\"params\":\"facets.brand%5B%5D=BSNL+Penta\",\"selected\":false},\"selectedCount\":0,\"title\":\"BSNL Penta\"},{\"childCategory\":false,\"count\":17,\"highlighted\":false,\"leafNode\":false,\"parentCategory\":false,\"resource\":{\"params\":\"facets.brand%5B%5D=Callbar\",\"selected\":false},\"selectedCount\":0,\"title\":\"Callbar\"},{\"childCategory\":false,\"count\":4,\"highlighted\":false,\"leafNode\":false,\"parentCategory\":false,\"resource\":{\"params\":\"facets.brand%5B%5D=Camerii\",\"selected\":false},\"selectedCount\":0,\"title\":\"Camerii\"},{\"childCategory\":false,\"count\":2,\"highlighted\":false,\"leafNode\":false,\"parentCategory\":false,\"resource\":{\"params\":\"facets.brand%5B%5D=CAT\",\"selected\":false},\"selectedCount\":0,\"title\":\"CAT\"},{\"childCategory\":false,\"count\":85,\"highlighted\":false,\"leafNode\":false,\"parentCategory\":false,\"resource\":{\"params\":\"facets.brand%5B%5D=Celkon\",\"selected\":false},\"selectedCount\":0,\"title\":\"Celkon\"},{\"childCategory\":false,\"count\":16,\"highlighted\":false,\"leafNode\":false,\"parentCategory\":false,\"resource\":{\"params\":\"facets.brand%5B%5D=Cellecor\",\"selected\":false},\"selectedCount\":0,\"title\":\"Cellecor\"},{\"childCategory\":false,\"count\":6,\"highlighted\":false,\"leafNode\":false,\"parentCategory\":false,\"resource\":{\"params\":\"facets.brand%5B%5D=Centric\",\"selected\":false},\"selectedCount\":0,\"title\":\"Centric\"},{\"childCategory\":false,\"count\":59,\"highlighted\":false,\"leafNode\":false,\"parentCategory\":false,\"resource\":{\"params\":\"facets.brand%5B%5D=Champion\",\"selected\":false},\"selectedCount\":0,\"title\":\"Champion\"},{\"childCategory\":false,\"count\":4,\"highlighted\":false,\"leafNode\":false,\"parentCategory\":false,\"resource\":{\"params\":\"facets.brand%5B%5D=Cheers\",\"selected\":false},\"selectedCount\":0,\"title\":\"Cheers\"},{\"childCategory\":false,\"count\":37,\"highlighted\":false,\"leafNode\":false,\"parentCategory\":false,\"resource\":{\"params\":\"facets.brand%5B%5D=Chilli\",\"selected\":false},\"selectedCount\":0,\"title\":\"Chilli\"},{\"childCategory\":false,\"count\":4,\"highlighted\":false,\"leafNode\":false,\"parentCategory\":false,\"resource\":{\"params\":\"facets.brand%5B%5D=Citycall\",\"selected\":false},\"selectedCount\":0,\"title\":\"Citycall\"},{\"childCategory\":false,\"count\":1,\"highlighted\":false,\"leafNode\":false,\"parentCategory\":false,\"resource\":{\"params\":\"facets.brand%5B%5D=Cloudfone\",\"selected\":false},\"selectedCount\":0,\"title\":\"Cloudfone\"},{\"childCategory\":false,\"count\":4,\"highlighted\":false,\"leafNode\":false,\"parentCategory\":false,\"resource\":{\"params\":\"facets.brand%5B%5D=Clout\",\"selected\":false},\"selectedCount\":0,\"title\":\"Clout\"},{\"childCategory\":false,\"count\":1,\"highlighted\":false,\"leafNode\":false,\"parentCategory\":false,\"resource\":{\"params\":\"facets.brand%5B%5D=Colors\",\"selected\":false},\"selectedCount\":0,\"title\":\"Colors\"},{\"childCategory\":false,\"count\":22,\"highlighted\":false,\"leafNode\":false,\"parentCategory\":false,\"resource\":{\"params\":\"facets.brand%5B%5D=Comio\",\"selected\":false},\"selectedCount\":0,\"title\":\"Comio\"},{\"childCategory\":false,\"count\":46,\"highlighted\":false,\"leafNode\":false,\"parentCategory\":false,\"resource\":{\"params\":\"facets.brand%5B%5D=Coolpad\",\"selected\":false},\"selectedCount\":0,\"title\":\"Coolpad\"},{\"childCategory\":false,\"count\":1,\"highlighted\":false,\"leafNode\":false,\"parentCategory\":false,\"resource\":{\"params\":\"facets.brand%5B%5D=DAD\",\"selected\":false},\"selectedCount\":0,\"title\":\"DAD\"},{\"childCategory\":false,\"count\":3,\"highlighted\":false,\"leafNode\":false,\"parentCategory\":false,\"resource\":{\"params\":\"facets.brand%5B%5D=Daps\",\"selected\":false},\"selectedCount\":0,\"title\":\"Daps\"},{\"childCategory\":false,\"count\":9,\"highlighted\":false,\"leafNode\":false,\"parentCategory\":false,\"resource\":{\"params\":\"facets.brand%5B%5D=DAPS\",\"selected\":false},\"selectedCount\":0,\"title\":\"DAPS\"},{\"childCategory\":false,\"count\":21,\"highlighted\":false,\"leafNode\":false,\"parentCategory\":false,\"resource\":{\"params\":\"facets.brand%5B%5D=Darago\",\"selected\":false},\"selectedCount\":0,\"title\":\"Darago\"},{\"childCategory\":false,\"count\":8,\"highlighted\":false,\"leafNode\":false,\"parentCategory\":false,\"resource\":{\"params\":\"facets.brand%5B%5D=Datawind\",\"selected\":false},\"selectedCount\":0,\"title\":\"Datawind\"},{\"childCategory\":false,\"count\":2,\"highlighted\":false,\"leafNode\":false,\"parentCategory\":false,\"resource\":{\"params\":\"facets.brand%5B%5D=DETEL\",\"selected\":false},\"selectedCount\":0,\"title\":\"DETEL\"},{\"childCategory\":false,\"count\":29,\"highlighted\":false,\"leafNode\":false,\"parentCategory\":false,\"resource\":{\"params\":\"facets.brand%5B%5D=Detel\",\"selected\":false},\"selectedCount\":0,\"title\":\"Detel\"},{\"childCategory\":false,\"count\":1,\"highlighted\":false,\"leafNode\":false,\"parentCategory\":false,\"resource\":{\"params\":\"facets.brand%5B%5D=Diamond\",\"selected\":false},\"selectedCount\":0,\"title\":\"Diamond\"},{\"childCategory\":false,\"count\":22,\"highlighted\":false,\"leafNode\":false,\"parentCategory\":false,\"resource\":{\"params\":\"facets.brand%5B%5D=Do\",\"selected\":false},\"selectedCount\":0,\"title\":\"Do\"},{\"childCategory\":false,\"count\":3,\"highlighted\":false,\"leafNode\":false,\"parentCategory\":false,\"resource\":{\"params\":\"facets.brand%5B%5D=Doel\",\"selected\":false},\"selectedCount\":0,\"title\":\"Doel\"},{\"childCategory\":false,\"count\":3,\"highlighted\":false,\"leafNode\":false,\"parentCategory\":false,\"resource\":{\"params\":\"facets.brand%5B%5D=Doogee\",\"selected\":false},\"selectedCount\":0,\"title\":\"Doogee\"},{\"childCategory\":false,\"count\":5,\"highlighted\":false,\"leafNode\":false,\"parentCategory\":false,\"resource\":{\"params\":\"facets.brand%5B%5D=Douzo\",\"selected\":false},\"selectedCount\":0,\"title\":\"Douzo\"},{\"childCategory\":false,\"count\":1,\"highlighted\":false,\"leafNode\":false,\"parentCategory\":false,\"resource\":{\"params\":\"facets.brand%5B%5D=Dynacon\",\"selected\":false},\"selectedCount\":0,\"title\":\"Dynacon\"},{\"childCategory\":false,\"count\":7,\"highlighted\":false,\"leafNode\":false,\"parentCategory\":false,\"resource\":{\"params\":\"facets.brand%5B%5D=Easyfone\",\"selected\":false},\"selectedCount\":0,\"title\":\"Easyfone\"},{\"childCategory\":false,\"count\":1,\"highlighted\":false,\"leafNode\":false,\"parentCategory\":false,\"resource\":{\"params\":\"facets.brand%5B%5D=Ecotel\",\"selected\":false},\"selectedCount\":0,\"title\":\"Ecotel\"},{\"childCategory\":false,\"count\":20,\"highlighted\":false,\"leafNode\":false,\"parentCategory\":false,\"resource\":{\"params\":\"facets.brand%5B%5D=EcoTel\",\"selected\":false},\"selectedCount\":0,\"title\":\"EcoTel\"},{\"childCategory\":false,\"count\":1,\"highlighted\":false,\"leafNode\":false,\"parentCategory\":false,\"resource\":{\"params\":\"facets.brand%5B%5D=Elari\",\"selected\":false},\"selectedCount\":0,\"title\":\"Elari\"},{\"childCategory\":false,\"count\":1,\"highlighted\":false,\"leafNode\":false,\"parentCategory\":false,\"resource\":{\"params\":\"facets.brand%5B%5D=Elephone\",\"selected\":false},\"selectedCount\":0,\"title\":\"Elephone\"},{\"childCategory\":false,\"count\":2,\"highlighted\":false,\"leafNode\":false,\"parentCategory\":false,\"resource\":{\"params\":\"facets.brand%5B%5D=Energy+Sistem\",\"selected\":false},\"selectedCount\":0,\"title\":\"Energy Sistem\"},{\"childCategory\":false,\"count\":10,\"highlighted\":false,\"leafNode\":false,\"parentCategory\":false,\"resource\":{\"params\":\"facets.brand%5B%5D=F-Fook\",\"selected\":false},\"selectedCount\":0,\"title\":\"F-Fook\"},{\"childCategory\":false,\"count\":1,\"highlighted\":false,\"leafNode\":false,\"parentCategory\":false,\"resource\":{\"params\":\"facets.brand%5B%5D=Fluo\",\"selected\":false},\"selectedCount\":0,\"title\":\"Fluo\"},{\"childCategory\":false,\"count\":310,\"highlighted\":false,\"leafNode\":false,\"parentCategory\":false,\"resource\":{\"params\":\"facets.brand%5B%5D=Forme\",\"selected\":false},\"selectedCount\":0,\"title\":\"Forme\"},{\"childCategory\":false,\"count\":18,\"highlighted\":false,\"leafNode\":false,\"parentCategory\":false,\"resource\":{\"params\":\"facets.brand%5B%5D=Fox\",\"selected\":false},\"selectedCount\":0,\"title\":\"Fox\"},{\"childCategory\":false,\"count\":4,\"highlighted\":false,\"leafNode\":false,\"parentCategory\":false,\"resource\":{\"params\":\"facets.brand%5B%5D=Gamexy\",\"selected\":false},\"selectedCount\":0,\"title\":\"Gamexy\"},{\"childCategory\":false,\"count\":2,\"highlighted\":false,\"leafNode\":false,\"parentCategory\":false,\"resource\":{\"params\":\"facets.brand%5B%5D=Gamma\",\"selected\":false},\"selectedCount\":0,\"title\":\"Gamma\"},{\"childCategory\":false,\"count\":24,\"highlighted\":false,\"leafNode\":false,\"parentCategory\":false,\"resource\":{\"params\":\"facets.brand%5B%5D=GAMMA\",\"selected\":false},\"selectedCount\":0,\"title\":\"GAMMA\"},{\"childCategory\":false,\"count\":1,\"highlighted\":false,\"leafNode\":false,\"parentCategory\":false,\"resource\":{\"params\":\"facets.brand%5B%5D=Geotel\",\"selected\":false},\"selectedCount\":0,\"title\":\"Geotel\"},{\"childCategory\":false,\"count\":209,\"highlighted\":false,\"leafNode\":false,\"parentCategory\":false,\"resource\":{\"params\":\"facets.brand%5B%5D=Gfive\",\"selected\":false},\"selectedCount\":0,\"title\":\"Gfive\"},{\"childCategory\":false,\"count\":1,\"highlighted\":false,\"leafNode\":false,\"parentCategory\":false,\"resource\":{\"params\":\"facets.brand%5B%5D=Gigaset\",\"selected\":false},\"selectedCount\":0,\"title\":\"Gigaset\"},{\"childCategory\":false,\"count\":5,\"highlighted\":false,\"leafNode\":false,\"parentCategory\":false,\"resource\":{\"params\":\"facets.brand%5B%5D=Ginger\",\"selected\":false},\"selectedCount\":0,\"title\":\"Ginger\"},{\"childCategory\":false,\"count\":137,\"highlighted\":false,\"leafNode\":false,\"parentCategory\":false,\"resource\":{\"params\":\"facets.brand%5B%5D=Gionee\",\"selected\":false},\"selectedCount\":0,\"title\":\"Gionee\"},{\"childCategory\":false,\"count\":3,\"highlighted\":false,\"leafNode\":false,\"parentCategory\":false,\"resource\":{\"params\":\"facets.brand%5B%5D=GIVA\",\"selected\":false},\"selectedCount\":0,\"title\":\"GIVA\"},{\"childCategory\":false,\"count\":55,\"highlighted\":false,\"leafNode\":false,\"parentCategory\":false,\"resource\":{\"params\":\"facets.brand%5B%5D=GLX\",\"selected\":false},\"selectedCount\":0,\"title\":\"GLX\"},{\"childCategory\":false,\"count\":6,\"highlighted\":false,\"leafNode\":false,\"parentCategory\":false,\"resource\":{\"params\":\"facets.brand%5B%5D=Gome\",\"selected\":false},\"selectedCount\":0,\"title\":\"Gome\"},{\"childCategory\":false,\"count\":18,\"highlighted\":false,\"leafNode\":false,\"parentCategory\":false,\"resource\":{\"params\":\"facets.brand%5B%5D=Good+One\",\"selected\":false},\"selectedCount\":0,\"title\":\"Good One\"},{\"childCategory\":false,\"count\":33,\"highlighted\":false,\"leafNode\":false,\"parentCategory\":false,\"resource\":{\"params\":\"facets.brand%5B%5D=Google\",\"selected\":false},\"selectedCount\":0,\"title\":\"Google\"},{\"childCategory\":false,\"count\":4,\"highlighted\":false,\"leafNode\":false,\"parentCategory\":false,\"resource\":{\"params\":\"facets.brand%5B%5D=Grabo\",\"selected\":false},\"selectedCount\":0,\"title\":\"Grabo\"},{\"childCategory\":false,\"count\":64,\"highlighted\":false,\"leafNode\":false,\"parentCategory\":false,\"resource\":{\"params\":\"facets.brand%5B%5D=GreenBerry\",\"selected\":false},\"selectedCount\":0,\"title\":\"GreenBerry\"},{\"childCategory\":false,\"count\":1,\"highlighted\":false,\"leafNode\":false,\"parentCategory\":false,\"resource\":{\"params\":\"facets.brand%5B%5D=GS\",\"selected\":false},\"selectedCount\":0,\"title\":\"GS\"},{\"childCategory\":false,\"count\":2,\"highlighted\":false,\"leafNode\":false,\"parentCategory\":false,\"resource\":{\"params\":\"facets.brand%5B%5D=GTStar\",\"selected\":false},\"selectedCount\":0,\"title\":\"GTStar\"},{\"childCategory\":false,\"count\":3,\"highlighted\":false,\"leafNode\":false,\"parentCategory\":false,\"resource\":{\"params\":\"facets.brand%5B%5D=Haier\",\"selected\":false},\"selectedCount\":0,\"title\":\"Haier\"},{\"childCategory\":false,\"count\":43,\"highlighted\":false,\"leafNode\":false,\"parentCategory\":false,\"resource\":{\"params\":\"facets.brand%5B%5D=Heemax\",\"selected\":false},\"selectedCount\":0,\"title\":\"Heemax\"},{\"childCategory\":false,\"count\":67,\"highlighted\":false,\"leafNode\":false,\"parentCategory\":false,\"resource\":{\"params\":\"facets.brand%5B%5D=Hicell\",\"selected\":false},\"selectedCount\":0,\"title\":\"Hicell\"},{\"childCategory\":false,\"count\":8,\"highlighted\":false,\"leafNode\":false,\"parentCategory\":false,\"resource\":{\"params\":\"facets.brand%5B%5D=Homtom\",\"selected\":false},\"selectedCount\":0,\"title\":\"Homtom\"},{\"childCategory\":false,\"count\":1,\"highlighted\":false,\"leafNode\":false,\"parentCategory\":false,\"resource\":{\"params\":\"facets.brand%5B%5D=HP\",\"selected\":false},\"selectedCount\":0,\"title\":\"HP\"},{\"childCategory\":false,\"count\":5,\"highlighted\":false,\"leafNode\":false,\"parentCategory\":false,\"resource\":{\"params\":\"facets.brand%5B%5D=HPL\",\"selected\":false},\"selectedCount\":0,\"title\":\"HPL\"},{\"childCategory\":false,\"count\":58,\"highlighted\":false,\"leafNode\":false,\"parentCategory\":false,\"resource\":{\"params\":\"facets.brand%5B%5D=HTC\",\"selected\":false},\"selectedCount\":0,\"title\":\"HTC\"},{\"childCategory\":false,\"count\":22,\"highlighted\":false,\"leafNode\":false,\"parentCategory\":false,\"resource\":{\"params\":\"facets.brand%5B%5D=Huawei\",\"selected\":false},\"selectedCount\":0,\"title\":\"Huawei\"},{\"childCategory\":false,\"count\":1,\"highlighted\":false,\"leafNode\":false,\"parentCategory\":false,\"resource\":{\"params\":\"facets.brand%5B%5D=HYVE\",\"selected\":false},\"selectedCount\":0,\"title\":\"HYVE\"},{\"childCategory\":false,\"count\":2,\"highlighted\":false,\"leafNode\":false,\"parentCategory\":false,\"resource\":{\"params\":\"facets.brand%5B%5D=Hyve\",\"selected\":false},\"selectedCount\":0,\"title\":\"Hyve\"},{\"childCategory\":false,\"count\":505,\"highlighted\":false,\"leafNode\":false,\"parentCategory\":false,\"resource\":{\"params\":\"facets.brand%5B%5D=I+Kall\",\"selected\":false},\"selectedCount\":0,\"title\":\"I Kall\"},{\"childCategory\":false,\"count\":10,\"highlighted\":false,\"leafNode\":false,\"parentCategory\":false,\"resource\":{\"params\":\"facets.brand%5B%5D=I-Plus\",\"selected\":false},\"selectedCount\":0,\"title\":\"I-Plus\"},{\"childCategory\":false,\"count\":96,\"highlighted\":false,\"leafNode\":false,\"parentCategory\":false,\"resource\":{\"params\":\"facets.brand%5B%5D=Iball\",\"selected\":false},\"selectedCount\":0,\"title\":\"Iball\"},{\"childCategory\":false,\"count\":1,\"highlighted\":false,\"leafNode\":false,\"parentCategory\":false,\"resource\":{\"params\":\"facets.brand%5B%5D=Icubex\",\"selected\":false},\"selectedCount\":0,\"title\":\"Icubex\"},{\"childCategory\":false,\"count\":17,\"highlighted\":false,\"leafNode\":false,\"parentCategory\":false,\"resource\":{\"params\":\"facets.brand%5B%5D=Infix\",\"selected\":false},\"selectedCount\":0,\"title\":\"Infix\"},{\"childCategory\":false,\"count\":9,\"highlighted\":false,\"leafNode\":false,\"parentCategory\":false,\"resource\":{\"params\":\"facets.brand%5B%5D=Inflix\",\"selected\":false},\"selectedCount\":0,\"title\":\"Inflix\"},{\"childCategory\":false,\"count\":97,\"highlighted\":false,\"leafNode\":false,\"parentCategory\":false,\"resource\":{\"params\":\"facets.brand%5B%5D=InFocus\",\"selected\":false},\"selectedCount\":0,\"title\":\"InFocus\"},{\"childCategory\":false,\"count\":6,\"highlighted\":false,\"leafNode\":false,\"parentCategory\":false,\"resource\":{\"params\":\"facets.brand%5B%5D=Infx\",\"selected\":false},\"selectedCount\":0,\"title\":\"Infx\"},{\"childCategory\":false,\"count\":47,\"highlighted\":false,\"leafNode\":false,\"parentCategory\":false,\"resource\":{\"params\":\"facets.brand%5B%5D=Inovu\",\"selected\":false},\"selectedCount\":0,\"title\":\"Inovu\"},{\"childCategory\":false,\"count\":2,\"highlighted\":false,\"leafNode\":false,\"parentCategory\":false,\"resource\":{\"params\":\"facets.brand%5B%5D=Inoyo\",\"selected\":false},\"selectedCount\":0,\"title\":\"Inoyo\"},{\"childCategory\":false,\"count\":457,\"highlighted\":false,\"leafNode\":false,\"parentCategory\":false,\"resource\":{\"params\":\"facets.brand%5B%5D=Intex\",\"selected\":false},\"selectedCount\":0,\"title\":\"Intex\"},{\"childCategory\":false,\"count\":1,\"highlighted\":false,\"leafNode\":false,\"parentCategory\":false,\"resource\":{\"params\":\"facets.brand%5B%5D=IQ\",\"selected\":false},\"selectedCount\":0,\"title\":\"IQ\"},{\"childCategory\":false,\"count\":65,\"highlighted\":false,\"leafNode\":false,\"parentCategory\":false,\"resource\":{\"params\":\"facets.brand%5B%5D=Ismart\",\"selected\":false},\"selectedCount\":0,\"title\":\"Ismart\"},{\"childCategory\":false,\"count\":3,\"highlighted\":false,\"leafNode\":false,\"parentCategory\":false,\"resource\":{\"params\":\"facets.brand%5B%5D=itel\",\"selected\":false},\"selectedCount\":0,\"title\":\"itel\"},{\"childCategory\":false,\"count\":7,\"highlighted\":false,\"leafNode\":false,\"parentCategory\":false,\"resource\":{\"params\":\"facets.brand%5B%5D=ITEL\",\"selected\":false},\"selectedCount\":0,\"title\":\"ITEL\"},{\"childCategory\":false,\"count\":125,\"highlighted\":false,\"leafNode\":false,\"parentCategory\":false,\"resource\":{\"params\":\"facets.brand%5B%5D=Itel\",\"selected\":false},\"selectedCount\":0,\"title\":\"Itel\"},{\"childCategory\":false,\"count\":1,\"highlighted\":false,\"leafNode\":false,\"parentCategory\":false,\"resource\":{\"params\":\"facets.brand%5B%5D=ivoomi\",\"selected\":false},\"selectedCount\":0,\"title\":\"ivoomi\"},{\"childCategory\":false,\"count\":23,\"highlighted\":false,\"leafNode\":false,\"parentCategory\":false,\"resource\":{\"params\":\"facets.brand%5B%5D=iVooMi\",\"selected\":false},\"selectedCount\":0,\"title\":\"iVooMi\"},{\"childCategory\":false,\"count\":36,\"highlighted\":false,\"leafNode\":false,\"parentCategory\":false,\"resource\":{\"params\":\"facets.brand%5B%5D=Jivi\",\"selected\":false},\"selectedCount\":0,\"title\":\"Jivi\"},{\"childCategory\":false,\"count\":97,\"highlighted\":false,\"leafNode\":false,\"parentCategory\":false,\"resource\":{\"params\":\"facets.brand%5B%5D=JIVI\",\"selected\":false},\"selectedCount\":0,\"title\":\"JIVI\"},{\"childCategory\":false,\"count\":2,\"highlighted\":false,\"leafNode\":false,\"parentCategory\":false,\"resource\":{\"params\":\"facets.brand%5B%5D=Josh\",\"selected\":false},\"selectedCount\":0,\"title\":\"Josh\"},{\"childCategory\":false,\"count\":3,\"highlighted\":false,\"leafNode\":false,\"parentCategory\":false,\"resource\":{\"params\":\"facets.brand%5B%5D=K-tel\",\"selected\":false},\"selectedCount\":0,\"title\":\"K-tel\"},{\"childCategory\":false,\"count\":80,\"highlighted\":false,\"leafNode\":false,\"parentCategory\":false,\"resource\":{\"params\":\"facets.brand%5B%5D=Kara\",\"selected\":false},\"selectedCount\":0,\"title\":\"Kara\"},{\"childCategory\":false,\"count\":417,\"highlighted\":false,\"leafNode\":false,\"parentCategory\":false,\"resource\":{\"params\":\"facets.brand%5B%5D=Karbonn\",\"selected\":false},\"selectedCount\":0,\"title\":\"Karbonn\"},{\"childCategory\":false,\"count\":176,\"highlighted\":false,\"leafNode\":false,\"parentCategory\":false,\"resource\":{\"params\":\"facets.brand%5B%5D=Kechaoda\",\"selected\":false},\"selectedCount\":0,\"title\":\"Kechaoda\"},{\"childCategory\":false,\"count\":4,\"highlighted\":false,\"leafNode\":false,\"parentCategory\":false,\"resource\":{\"params\":\"facets.brand%5B%5D=Ked\",\"selected\":false},\"selectedCount\":0,\"title\":\"Ked\"},{\"childCategory\":false,\"count\":20,\"highlighted\":false,\"leafNode\":false,\"parentCategory\":false,\"resource\":{\"params\":\"facets.brand%5B%5D=Kekai\",\"selected\":false},\"selectedCount\":0,\"title\":\"Kekai\"},{\"childCategory\":false,\"count\":36,\"highlighted\":false,\"leafNode\":false,\"parentCategory\":false,\"resource\":{\"params\":\"facets.brand%5B%5D=Kenxinda\",\"selected\":false},\"selectedCount\":0,\"title\":\"Kenxinda\"},{\"childCategory\":false,\"count\":1,\"highlighted\":false,\"leafNode\":false,\"parentCategory\":false,\"resource\":{\"params\":\"facets.brand%5B%5D=Kingstar\",\"selected\":false},\"selectedCount\":0,\"title\":\"Kingstar\"},{\"childCategory\":false,\"count\":7,\"highlighted\":false,\"leafNode\":false,\"parentCategory\":false,\"resource\":{\"params\":\"facets.brand%5B%5D=Kult\",\"selected\":false},\"selectedCount\":0,\"title\":\"Kult\"},{\"childCategory\":false,\"count\":8,\"highlighted\":false,\"leafNode\":false,\"parentCategory\":false,\"resource\":{\"params\":\"facets.brand%5B%5D=KXD\",\"selected\":false},\"selectedCount\":0,\"title\":\"KXD\"},{\"childCategory\":false,\"count\":1,\"highlighted\":false,\"leafNode\":false,\"parentCategory\":false,\"resource\":{\"params\":\"facets.brand%5B%5D=L%27Exotique\",\"selected\":false},\"selectedCount\":0,\"title\":\"L\\'Exotique\"},{\"childCategory\":false,\"count\":392,\"highlighted\":false,\"leafNode\":false,\"parentCategory\":false,\"resource\":{\"params\":\"facets.brand%5B%5D=Lava\",\"selected\":false},\"selectedCount\":0,\"title\":\"Lava\"},{\"childCategory\":false,\"count\":4,\"highlighted\":false,\"leafNode\":false,\"parentCategory\":false,\"resource\":{\"params\":\"facets.brand%5B%5D=Leagoo\",\"selected\":false},\"selectedCount\":0,\"title\":\"Leagoo\"},{\"childCategory\":false,\"count\":37,\"highlighted\":false,\"leafNode\":false,\"parentCategory\":false,\"resource\":{\"params\":\"facets.brand%5B%5D=Lemon\",\"selected\":false},\"selectedCount\":0,\"title\":\"Lemon\"},{\"childCategory\":false,\"count\":129,\"highlighted\":false,\"leafNode\":false,\"parentCategory\":false,\"resource\":{\"params\":\"facets.brand%5B%5D=Lenovo\",\"selected\":false},\"selectedCount\":0,\"title\":\"Lenovo\"},{\"childCategory\":false,\"count\":13,\"highlighted\":false,\"leafNode\":false,\"parentCategory\":false,\"resource\":{\"params\":\"facets.brand%5B%5D=Lephone\",\"selected\":false},\"selectedCount\":0,\"title\":\"Lephone\"},{\"childCategory\":false,\"count\":91,\"highlighted\":false,\"leafNode\":false,\"parentCategory\":false,\"resource\":{\"params\":\"facets.brand%5B%5D=LG\",\"selected\":false},\"selectedCount\":0,\"title\":\"LG\"},{\"childCategory\":false,\"count\":2,\"highlighted\":false,\"leafNode\":false,\"parentCategory\":false,\"resource\":{\"params\":\"facets.brand%5B%5D=Lianke\",\"selected\":false},\"selectedCount\":0,\"title\":\"Lianke\"},{\"childCategory\":false,\"count\":4,\"highlighted\":false,\"leafNode\":false,\"parentCategory\":false,\"resource\":{\"params\":\"facets.brand%5B%5D=LvTel\",\"selected\":false},\"selectedCount\":0,\"title\":\"LvTel\"},{\"childCategory\":false,\"count\":1,\"highlighted\":false,\"leafNode\":false,\"parentCategory\":false,\"resource\":{\"params\":\"facets.brand%5B%5D=lychee\",\"selected\":false},\"selectedCount\":0,\"title\":\"lychee\"},{\"childCategory\":false,\"count\":4,\"highlighted\":false,\"leafNode\":false,\"parentCategory\":false,\"resource\":{\"params\":\"facets.brand%5B%5D=Lychee\",\"selected\":false},\"selectedCount\":0,\"title\":\"Lychee\"},{\"childCategory\":false,\"count\":5,\"highlighted\":false,\"leafNode\":false,\"parentCategory\":false,\"resource\":{\"params\":\"facets.brand%5B%5D=LYCHEE\",\"selected\":false},\"selectedCount\":0,\"title\":\"LYCHEE\"},{\"childCategory\":false,\"count\":56,\"highlighted\":false,\"leafNode\":false,\"parentCategory\":false,\"resource\":{\"params\":\"facets.brand%5B%5D=LYF\",\"selected\":false},\"selectedCount\":0,\"title\":\"LYF\"},{\"childCategory\":false,\"count\":10,\"highlighted\":false,\"leafNode\":false,\"parentCategory\":false,\"resource\":{\"params\":\"facets.brand%5B%5D=M-Horse\",\"selected\":false},\"selectedCount\":0,\"title\":\"M-Horse\"},{\"childCategory\":false,\"count\":3,\"highlighted\":false,\"leafNode\":false,\"parentCategory\":false,\"resource\":{\"params\":\"facets.brand%5B%5D=M-Smart\",\"selected\":false},\"selectedCount\":0,\"title\":\"M-Smart\"},{\"childCategory\":false,\"count\":95,\"highlighted\":false,\"leafNode\":false,\"parentCategory\":false,\"resource\":{\"params\":\"facets.brand%5B%5D=M-tech\",\"selected\":false},\"selectedCount\":0,\"title\":\"M-tech\"},{\"childCategory\":false,\"count\":1,\"highlighted\":false,\"leafNode\":false,\"parentCategory\":false,\"resource\":{\"params\":\"facets.brand%5B%5D=MAFE\",\"selected\":false},\"selectedCount\":0,\"title\":\"MAFE\"},{\"childCategory\":false,\"count\":140,\"highlighted\":false,\"leafNode\":false,\"parentCategory\":false,\"resource\":{\"params\":\"facets.brand%5B%5D=Mafe\",\"selected\":false},\"selectedCount\":0,\"title\":\"Mafe\"},{\"childCategory\":false,\"count\":3,\"highlighted\":false,\"leafNode\":false,\"parentCategory\":false,\"resource\":{\"params\":\"facets.brand%5B%5D=Masstel\",\"selected\":false},\"selectedCount\":0,\"title\":\"Masstel\"},{\"childCategory\":false,\"count\":5,\"highlighted\":false,\"leafNode\":false,\"parentCategory\":false,\"resource\":{\"params\":\"facets.brand%5B%5D=Maxfone\",\"selected\":false},\"selectedCount\":0,\"title\":\"Maxfone\"},{\"childCategory\":false,\"count\":1,\"highlighted\":false,\"leafNode\":false,\"parentCategory\":false,\"resource\":{\"params\":\"facets.brand%5B%5D=MAXX\",\"selected\":false},\"selectedCount\":0,\"title\":\"MAXX\"},{\"childCategory\":false,\"count\":3,\"highlighted\":false,\"leafNode\":false,\"parentCategory\":false,\"resource\":{\"params\":\"facets.brand%5B%5D=Maze\",\"selected\":false},\"selectedCount\":0,\"title\":\"Maze\"},{\"childCategory\":false,\"count\":2,\"highlighted\":false,\"leafNode\":false,\"parentCategory\":false,\"resource\":{\"params\":\"facets.brand%5B%5D=MBO\",\"selected\":false},\"selectedCount\":0,\"title\":\"MBO\"},{\"childCategory\":false,\"count\":9,\"highlighted\":false,\"leafNode\":false,\"parentCategory\":false,\"resource\":{\"params\":\"facets.brand%5B%5D=Megus\",\"selected\":false},\"selectedCount\":0,\"title\":\"Megus\"},{\"childCategory\":false,\"count\":16,\"highlighted\":false,\"leafNode\":false,\"parentCategory\":false,\"resource\":{\"params\":\"facets.brand%5B%5D=Meizu\",\"selected\":false},\"selectedCount\":0,\"title\":\"Meizu\"},{\"childCategory\":false,\"count\":2,\"highlighted\":false,\"leafNode\":false,\"parentCategory\":false,\"resource\":{\"params\":\"facets.brand%5B%5D=Mesee\",\"selected\":false},\"selectedCount\":0,\"title\":\"Mesee\"},{\"childCategory\":false,\"count\":1,\"highlighted\":false,\"leafNode\":false,\"parentCategory\":false,\"resource\":{\"params\":\"facets.brand%5B%5D=MFONE\",\"selected\":false},\"selectedCount\":0,\"title\":\"MFONE\"},{\"childCategory\":false,\"count\":2,\"highlighted\":false,\"leafNode\":false,\"parentCategory\":false,\"resource\":{\"params\":\"facets.brand%5B%5D=MHL\",\"selected\":false},\"selectedCount\":0,\"title\":\"MHL\"},{\"childCategory\":false,\"count\":2,\"highlighted\":false,\"leafNode\":false,\"parentCategory\":false,\"resource\":{\"params\":\"facets.brand%5B%5D=mi-TRiBE\",\"selected\":false},\"selectedCount\":0,\"title\":\"mi-TRiBE\"},{\"childCategory\":false,\"count\":2,\"highlighted\":false,\"leafNode\":false,\"parentCategory\":false,\"resource\":{\"params\":\"facets.brand%5B%5D=Microkey\",\"selected\":false},\"selectedCount\":0,\"title\":\"Microkey\"},{\"childCategory\":false,\"count\":22,\"highlighted\":false,\"leafNode\":false,\"parentCategory\":false,\"resource\":{\"params\":\"facets.brand%5B%5D=Microsoft\",\"selected\":false},\"selectedCount\":0,\"title\":\"Microsoft\"},{\"childCategory\":false,\"count\":59,\"highlighted\":false,\"leafNode\":false,\"parentCategory\":false,\"resource\":{\"params\":\"facets.brand%5B%5D=Mido\",\"selected\":false},\"selectedCount\":0,\"title\":\"Mido\"},{\"childCategory\":false,\"count\":1,\"highlighted\":false,\"leafNode\":false,\"parentCategory\":false,\"resource\":{\"params\":\"facets.brand%5B%5D=MIG+51\",\"selected\":false},\"selectedCount\":0,\"title\":\"MIG 51\"},{\"childCategory\":false,\"count\":1,\"highlighted\":false,\"leafNode\":false,\"parentCategory\":false,\"resource\":{\"params\":\"facets.brand%5B%5D=Mobi+Store\",\"selected\":false},\"selectedCount\":0,\"title\":\"Mobi Store\"},{\"childCategory\":false,\"count\":26,\"highlighted\":false,\"leafNode\":false,\"parentCategory\":false,\"resource\":{\"params\":\"facets.brand%5B%5D=Mobiistar\",\"selected\":false},\"selectedCount\":0,\"title\":\"Mobiistar\"},{\"childCategory\":false,\"count\":2,\"highlighted\":false,\"leafNode\":false,\"parentCategory\":false,\"resource\":{\"params\":\"facets.brand%5B%5D=Mobo\",\"selected\":false},\"selectedCount\":0,\"title\":\"Mobo\"},{\"childCategory\":false,\"count\":10,\"highlighted\":false,\"leafNode\":false,\"parentCategory\":false,\"resource\":{\"params\":\"facets.brand%5B%5D=Monix\",\"selected\":false},\"selectedCount\":0,\"title\":\"Monix\"},{\"childCategory\":false,\"count\":88,\"highlighted\":false,\"leafNode\":false,\"parentCategory\":false,\"resource\":{\"params\":\"facets.brand%5B%5D=Motorola\",\"selected\":false},\"selectedCount\":0,\"title\":\"Motorola\"},{\"childCategory\":false,\"count\":1,\"highlighted\":false,\"leafNode\":false,\"parentCategory\":false,\"resource\":{\"params\":\"facets.brand%5B%5D=MPal\",\"selected\":false},\"selectedCount\":0,\"title\":\"MPal\"},{\"childCategory\":false,\"count\":1,\"highlighted\":false,\"leafNode\":false,\"parentCategory\":false,\"resource\":{\"params\":\"facets.brand%5B%5D=mPal\",\"selected\":false},\"selectedCount\":0,\"title\":\"mPal\"},{\"childCategory\":false,\"count\":5,\"highlighted\":false,\"leafNode\":false,\"parentCategory\":false,\"resource\":{\"params\":\"facets.brand%5B%5D=Mpal\",\"selected\":false},\"selectedCount\":0,\"title\":\"Mpal\"},{\"childCategory\":false,\"count\":8,\"highlighted\":false,\"leafNode\":false,\"parentCategory\":false,\"resource\":{\"params\":\"facets.brand%5B%5D=mPhone\",\"selected\":false},\"selectedCount\":0,\"title\":\"mPhone\"},{\"childCategory\":false,\"count\":12,\"highlighted\":false,\"leafNode\":false,\"parentCategory\":false,\"resource\":{\"params\":\"facets.brand%5B%5D=Mtech\",\"selected\":false},\"selectedCount\":0,\"title\":\"Mtech\"},{\"childCategory\":false,\"count\":83,\"highlighted\":false,\"leafNode\":false,\"parentCategory\":false,\"resource\":{\"params\":\"facets.brand%5B%5D=MTR\",\"selected\":false},\"selectedCount\":0,\"title\":\"MTR\"},{\"childCategory\":false,\"count\":4,\"highlighted\":false,\"leafNode\":false,\"parentCategory\":false,\"resource\":{\"params\":\"facets.brand%5B%5D=MTS\",\"selected\":false},\"selectedCount\":0,\"title\":\"MTS\"},{\"childCategory\":false,\"count\":1,\"highlighted\":false,\"leafNode\":false,\"parentCategory\":false,\"resource\":{\"params\":\"facets.brand%5B%5D=Mu\",\"selected\":false},\"selectedCount\":0,\"title\":\"Mu\"},{\"childCategory\":false,\"count\":19,\"highlighted\":false,\"leafNode\":false,\"parentCategory\":false,\"resource\":{\"params\":\"facets.brand%5B%5D=MU\",\"selected\":false},\"selectedCount\":0,\"title\":\"MU\"},{\"childCategory\":false,\"count\":50,\"highlighted\":false,\"leafNode\":false,\"parentCategory\":false,\"resource\":{\"params\":\"facets.brand%5B%5D=Muphone\",\"selected\":false},\"selectedCount\":0,\"title\":\"Muphone\"},{\"childCategory\":false,\"count\":22,\"highlighted\":false,\"leafNode\":false,\"parentCategory\":false,\"resource\":{\"params\":\"facets.brand%5B%5D=My+Phone\",\"selected\":false},\"selectedCount\":0,\"title\":\"My Phone\"},{\"childCategory\":false,\"count\":54,\"highlighted\":false,\"leafNode\":false,\"parentCategory\":false,\"resource\":{\"params\":\"facets.brand%5B%5D=Mymax\",\"selected\":false},\"selectedCount\":0,\"title\":\"Mymax\"},{\"childCategory\":false,\"count\":1,\"highlighted\":false,\"leafNode\":false,\"parentCategory\":false,\"resource\":{\"params\":\"facets.brand%5B%5D=Mymobi\",\"selected\":false},\"selectedCount\":0,\"title\":\"Mymobi\"},{\"childCategory\":false,\"count\":2,\"highlighted\":false,\"leafNode\":false,\"parentCategory\":false,\"resource\":{\"params\":\"facets.brand%5B%5D=Nexian\",\"selected\":false},\"selectedCount\":0,\"title\":\"Nexian\"},{\"childCategory\":false,\"count\":3,\"highlighted\":false,\"leafNode\":false,\"parentCategory\":false,\"resource\":{\"params\":\"facets.brand%5B%5D=Nextbit\",\"selected\":false},\"selectedCount\":0,\"title\":\"Nextbit\"},{\"childCategory\":false,\"count\":84,\"highlighted\":false,\"leafNode\":false,\"parentCategory\":false,\"resource\":{\"params\":\"facets.brand%5B%5D=Niamia\",\"selected\":false},\"selectedCount\":0,\"title\":\"Niamia\"},{\"childCategory\":false,\"count\":1,\"highlighted\":false,\"leafNode\":false,\"parentCategory\":false,\"resource\":{\"params\":\"facets.brand%5B%5D=Nibiru\",\"selected\":false},\"selectedCount\":0,\"title\":\"Nibiru\"},{\"childCategory\":false,\"count\":185,\"highlighted\":false,\"leafNode\":false,\"parentCategory\":false,\"resource\":{\"params\":\"facets.brand%5B%5D=Nokia\",\"selected\":false},\"selectedCount\":0,\"title\":\"Nokia\"},{\"childCategory\":false,\"count\":6,\"highlighted\":false,\"leafNode\":false,\"parentCategory\":false,\"resource\":{\"params\":\"facets.brand%5B%5D=Nubia\",\"selected\":false},\"selectedCount\":0,\"title\":\"Nubia\"},{\"childCategory\":false,\"count\":3,\"highlighted\":false,\"leafNode\":false,\"parentCategory\":false,\"resource\":{\"params\":\"facets.brand%5B%5D=Nuu\",\"selected\":false},\"selectedCount\":0,\"title\":\"Nuu\"},{\"childCategory\":false,\"count\":1,\"highlighted\":false,\"leafNode\":false,\"parentCategory\":false,\"resource\":{\"params\":\"facets.brand%5B%5D=Nuvo\",\"selected\":false},\"selectedCount\":0,\"title\":\"Nuvo\"},{\"childCategory\":false,\"count\":17,\"highlighted\":false,\"leafNode\":false,\"parentCategory\":false,\"resource\":{\"params\":\"facets.brand%5B%5D=nuvo\",\"selected\":false},\"selectedCount\":0,\"title\":\"nuvo\"},{\"childCategory\":false,\"count\":4,\"highlighted\":false,\"leafNode\":false,\"parentCategory\":false,\"resource\":{\"params\":\"facets.brand%5B%5D=OBI\",\"selected\":false},\"selectedCount\":0,\"title\":\"OBI\"},{\"childCategory\":false,\"count\":1,\"highlighted\":false,\"leafNode\":false,\"parentCategory\":false,\"resource\":{\"params\":\"facets.brand%5B%5D=OGO\",\"selected\":false},\"selectedCount\":0,\"title\":\"OGO\"},{\"childCategory\":false,\"count\":21,\"highlighted\":false,\"leafNode\":false,\"parentCategory\":false,\"resource\":{\"params\":\"facets.brand%5B%5D=OnePlus\",\"selected\":false},\"selectedCount\":0,\"title\":\"OnePlus\"},{\"childCategory\":false,\"count\":11,\"highlighted\":false,\"leafNode\":false,\"parentCategory\":false,\"resource\":{\"params\":\"facets.brand%5B%5D=Onida\",\"selected\":false},\"selectedCount\":0,\"title\":\"Onida\"},{\"childCategory\":false,\"count\":133,\"highlighted\":false,\"leafNode\":false,\"parentCategory\":false,\"resource\":{\"params\":\"facets.brand%5B%5D=OPPO\",\"selected\":false},\"selectedCount\":0,\"title\":\"OPPO\"},{\"childCategory\":false,\"count\":17,\"highlighted\":false,\"leafNode\":false,\"parentCategory\":false,\"resource\":{\"params\":\"facets.brand%5B%5D=Otho\",\"selected\":false},\"selectedCount\":0,\"title\":\"Otho\"},{\"childCategory\":false,\"count\":243,\"highlighted\":false,\"leafNode\":false,\"parentCategory\":false,\"resource\":{\"params\":\"facets.brand%5B%5D=Panasonic\",\"selected\":false},\"selectedCount\":0,\"title\":\"Panasonic\"},{\"childCategory\":false,\"count\":72,\"highlighted\":false,\"leafNode\":false,\"parentCategory\":false,\"resource\":{\"params\":\"facets.brand%5B%5D=Peace\",\"selected\":false},\"selectedCount\":0,\"title\":\"Peace\"},{\"childCategory\":false,\"count\":21,\"highlighted\":false,\"leafNode\":false,\"parentCategory\":false,\"resource\":{\"params\":\"facets.brand%5B%5D=Philips\",\"selected\":false},\"selectedCount\":0,\"title\":\"Philips\"},{\"childCategory\":false,\"count\":1,\"highlighted\":false,\"leafNode\":false,\"parentCategory\":false,\"resource\":{\"params\":\"facets.brand%5B%5D=Phonemax\",\"selected\":false},\"selectedCount\":0,\"title\":\"Phonemax\"},{\"childCategory\":false,\"count\":11,\"highlighted\":false,\"leafNode\":false,\"parentCategory\":false,\"resource\":{\"params\":\"facets.brand%5B%5D=POCO\",\"selected\":false},\"selectedCount\":0,\"title\":\"POCO\"},{\"childCategory\":false,\"count\":16,\"highlighted\":false,\"leafNode\":false,\"parentCategory\":false,\"resource\":{\"params\":\"facets.brand%5B%5D=Poya\",\"selected\":false},\"selectedCount\":0,\"title\":\"Poya\"},{\"childCategory\":false,\"count\":8,\"highlighted\":false,\"leafNode\":false,\"parentCategory\":false,\"resource\":{\"params\":\"facets.brand%5B%5D=Q-Tel\",\"selected\":false},\"selectedCount\":0,\"title\":\"Q-Tel\"},{\"childCategory\":false,\"count\":4,\"highlighted\":false,\"leafNode\":false,\"parentCategory\":false,\"resource\":{\"params\":\"facets.brand%5B%5D=QFX\",\"selected\":false},\"selectedCount\":0,\"title\":\"QFX\"},{\"childCategory\":false,\"count\":1,\"highlighted\":false,\"leafNode\":false,\"parentCategory\":false,\"resource\":{\"params\":\"facets.brand%5B%5D=Qmart\",\"selected\":false},\"selectedCount\":0,\"title\":\"Qmart\"},{\"childCategory\":false,\"count\":11,\"highlighted\":false,\"leafNode\":false,\"parentCategory\":false,\"resource\":{\"params\":\"facets.brand%5B%5D=Rage\",\"selected\":false},\"selectedCount\":0,\"title\":\"Rage\"},{\"childCategory\":false,\"count\":100,\"highlighted\":false,\"leafNode\":false,\"parentCategory\":false,\"resource\":{\"params\":\"facets.brand%5B%5D=Reach\",\"selected\":false},\"selectedCount\":0,\"title\":\"Reach\"},{\"childCategory\":false,\"count\":2,\"highlighted\":false,\"leafNode\":false,\"parentCategory\":false,\"resource\":{\"params\":\"facets.brand%5B%5D=Reinvent\",\"selected\":false},\"selectedCount\":0,\"title\":\"Reinvent\"},{\"childCategory\":false,\"count\":3,\"highlighted\":false,\"leafNode\":false,\"parentCategory\":false,\"resource\":{\"params\":\"facets.brand%5B%5D=Reliance\",\"selected\":false},\"selectedCount\":0,\"title\":\"Reliance\"},{\"childCategory\":false,\"count\":3,\"highlighted\":false,\"leafNode\":false,\"parentCategory\":false,\"resource\":{\"params\":\"facets.brand%5B%5D=Rextel\",\"selected\":false},\"selectedCount\":0,\"title\":\"Rextel\"},{\"childCategory\":false,\"count\":1,\"highlighted\":false,\"leafNode\":false,\"parentCategory\":false,\"resource\":{\"params\":\"facets.brand%5B%5D=Ringing+Bell\",\"selected\":false},\"selectedCount\":0,\"title\":\"Ringing Bell\"},{\"childCategory\":false,\"count\":3,\"highlighted\":false,\"leafNode\":false,\"parentCategory\":false,\"resource\":{\"params\":\"facets.brand%5B%5D=Rio\",\"selected\":false},\"selectedCount\":0,\"title\":\"Rio\"},{\"childCategory\":false,\"count\":4,\"highlighted\":false,\"leafNode\":false,\"parentCategory\":false,\"resource\":{\"params\":\"facets.brand%5B%5D=Rivo\",\"selected\":false},\"selectedCount\":0,\"title\":\"Rivo\"},{\"childCategory\":false,\"count\":9,\"highlighted\":false,\"leafNode\":false,\"parentCategory\":false,\"resource\":{\"params\":\"facets.brand%5B%5D=Rocktel\",\"selected\":false},\"selectedCount\":0,\"title\":\"Rocktel\"},{\"childCategory\":false,\"count\":9,\"highlighted\":false,\"leafNode\":false,\"parentCategory\":false,\"resource\":{\"params\":\"facets.brand%5B%5D=ROKEA\",\"selected\":false},\"selectedCount\":0,\"title\":\"ROKEA\"},{\"childCategory\":false,\"count\":23,\"highlighted\":false,\"leafNode\":false,\"parentCategory\":false,\"resource\":{\"params\":\"facets.brand%5B%5D=Salora\",\"selected\":false},\"selectedCount\":0,\"title\":\"Salora\"},{\"childCategory\":false,\"count\":5,\"highlighted\":false,\"leafNode\":false,\"parentCategory\":false,\"resource\":{\"params\":\"facets.brand%5B%5D=SAMSOTEL\",\"selected\":false},\"selectedCount\":0,\"title\":\"SAMSOTEL\"},{\"childCategory\":false,\"count\":8,\"highlighted\":false,\"leafNode\":false,\"parentCategory\":false,\"resource\":{\"params\":\"facets.brand%5B%5D=Saral+Sigmatel\",\"selected\":false},\"selectedCount\":0,\"title\":\"Saral Sigmatel\"},{\"childCategory\":false,\"count\":4,\"highlighted\":false,\"leafNode\":false,\"parentCategory\":false,\"resource\":{\"params\":\"facets.brand%5B%5D=Satcomm\",\"selected\":false},\"selectedCount\":0,\"title\":\"Satcomm\"},{\"childCategory\":false,\"count\":2,\"highlighted\":false,\"leafNode\":false,\"parentCategory\":false,\"resource\":{\"params\":\"facets.brand%5B%5D=SCOSMOS\",\"selected\":false},\"selectedCount\":0,\"title\":\"SCOSMOS\"},{\"childCategory\":false,\"count\":2,\"highlighted\":false,\"leafNode\":false,\"parentCategory\":false,\"resource\":{\"params\":\"facets.brand%5B%5D=Scosmos\",\"selected\":false},\"selectedCount\":0,\"title\":\"Scosmos\"},{\"childCategory\":false,\"count\":5,\"highlighted\":false,\"leafNode\":false,\"parentCategory\":false,\"resource\":{\"params\":\"facets.brand%5B%5D=Seatel\",\"selected\":false},\"selectedCount\":0,\"title\":\"Seatel\"},{\"childCategory\":false,\"count\":6,\"highlighted\":false,\"leafNode\":false,\"parentCategory\":false,\"resource\":{\"params\":\"facets.brand%5B%5D=Seeken\",\"selected\":false},\"selectedCount\":0,\"title\":\"Seeken\"},{\"childCategory\":false,\"count\":2,\"highlighted\":false,\"leafNode\":false,\"parentCategory\":false,\"resource\":{\"params\":\"facets.brand%5B%5D=Seniorworld\",\"selected\":false},\"selectedCount\":0,\"title\":\"Seniorworld\"},{\"childCategory\":false,\"count\":1,\"highlighted\":false,\"leafNode\":false,\"parentCategory\":false,\"resource\":{\"params\":\"facets.brand%5B%5D=SHOMI\",\"selected\":false},\"selectedCount\":0,\"title\":\"SHOMI\"},{\"childCategory\":false,\"count\":7,\"highlighted\":false,\"leafNode\":false,\"parentCategory\":false,\"resource\":{\"params\":\"facets.brand%5B%5D=Shomi\",\"selected\":false},\"selectedCount\":0,\"title\":\"Shomi\"},{\"childCategory\":false,\"count\":8,\"highlighted\":false,\"leafNode\":false,\"parentCategory\":false,\"resource\":{\"params\":\"facets.brand%5B%5D=SICT\",\"selected\":false},\"selectedCount\":0,\"title\":\"SICT\"},{\"childCategory\":false,\"count\":6,\"highlighted\":false,\"leafNode\":false,\"parentCategory\":false,\"resource\":{\"params\":\"facets.brand%5B%5D=Skyonn\",\"selected\":false},\"selectedCount\":0,\"title\":\"Skyonn\"},{\"childCategory\":false,\"count\":1,\"highlighted\":false,\"leafNode\":false,\"parentCategory\":false,\"resource\":{\"params\":\"facets.brand%5B%5D=Skyshop\",\"selected\":false},\"selectedCount\":0,\"title\":\"Skyshop\"},{\"childCategory\":false,\"count\":3,\"highlighted\":false,\"leafNode\":false,\"parentCategory\":false,\"resource\":{\"params\":\"facets.brand%5B%5D=Skywin\",\"selected\":false},\"selectedCount\":0,\"title\":\"Skywin\"},{\"childCategory\":false,\"count\":4,\"highlighted\":false,\"leafNode\":false,\"parentCategory\":false,\"resource\":{\"params\":\"facets.brand%5B%5D=SmartOne\",\"selected\":false},\"selectedCount\":0,\"title\":\"SmartOne\"},{\"childCategory\":false,\"count\":8,\"highlighted\":false,\"leafNode\":false,\"parentCategory\":false,\"resource\":{\"params\":\"facets.brand%5B%5D=Smartron\",\"selected\":false},\"selectedCount\":0,\"title\":\"Smartron\"},{\"childCategory\":false,\"count\":105,\"highlighted\":false,\"leafNode\":false,\"parentCategory\":false,\"resource\":{\"params\":\"facets.brand%5B%5D=Snexian\",\"selected\":false},\"selectedCount\":0,\"title\":\"Snexian\"},{\"childCategory\":false,\"count\":16,\"highlighted\":false,\"leafNode\":false,\"parentCategory\":false,\"resource\":{\"params\":\"facets.brand%5B%5D=Snowtel\",\"selected\":false},\"selectedCount\":0,\"title\":\"Snowtel\"},{\"childCategory\":false,\"count\":60,\"highlighted\":false,\"leafNode\":false,\"parentCategory\":false,\"resource\":{\"params\":\"facets.brand%5B%5D=Sony\",\"selected\":false},\"selectedCount\":0,\"title\":\"Sony\"},{\"childCategory\":false,\"count\":109,\"highlighted\":false,\"leafNode\":false,\"parentCategory\":false,\"resource\":{\"params\":\"facets.brand%5B%5D=Spice\",\"selected\":false},\"selectedCount\":0,\"title\":\"Spice\"},{\"childCategory\":false,\"count\":9,\"highlighted\":false,\"leafNode\":false,\"parentCategory\":false,\"resource\":{\"params\":\"facets.brand%5B%5D=SPINP\",\"selected\":false},\"selectedCount\":0,\"title\":\"SPINP\"},{\"childCategory\":false,\"count\":1,\"highlighted\":false,\"leafNode\":false,\"parentCategory\":false,\"resource\":{\"params\":\"facets.brand%5B%5D=SPIRIA\",\"selected\":false},\"selectedCount\":0,\"title\":\"SPIRIA\"},{\"childCategory\":false,\"count\":1,\"highlighted\":false,\"leafNode\":false,\"parentCategory\":false,\"resource\":{\"params\":\"facets.brand%5B%5D=ssky\",\"selected\":false},\"selectedCount\":0,\"title\":\"ssky\"},{\"childCategory\":false,\"count\":20,\"highlighted\":false,\"leafNode\":false,\"parentCategory\":false,\"resource\":{\"params\":\"facets.brand%5B%5D=SSKY\",\"selected\":false},\"selectedCount\":0,\"title\":\"SSKY\"},{\"childCategory\":false,\"count\":164,\"highlighted\":false,\"leafNode\":false,\"parentCategory\":false,\"resource\":{\"params\":\"facets.brand%5B%5D=Ssky\",\"selected\":false},\"selectedCount\":0,\"title\":\"Ssky\"},{\"childCategory\":false,\"count\":2,\"highlighted\":false,\"leafNode\":false,\"parentCategory\":false,\"resource\":{\"params\":\"facets.brand%5B%5D=STK\",\"selected\":false},\"selectedCount\":0,\"title\":\"STK\"},{\"childCategory\":false,\"count\":1,\"highlighted\":false,\"leafNode\":false,\"parentCategory\":false,\"resource\":{\"params\":\"facets.brand%5B%5D=STYLE+SPOT\",\"selected\":false},\"selectedCount\":0,\"title\":\"STYLE SPOT\"},{\"childCategory\":false,\"count\":2,\"highlighted\":false,\"leafNode\":false,\"parentCategory\":false,\"resource\":{\"params\":\"facets.brand%5B%5D=Subor\",\"selected\":false},\"selectedCount\":0,\"title\":\"Subor\"},{\"childCategory\":false,\"count\":1,\"highlighted\":false,\"leafNode\":false,\"parentCategory\":false,\"resource\":{\"params\":\"facets.brand%5B%5D=Sugar\",\"selected\":false},\"selectedCount\":0,\"title\":\"Sugar\"},{\"childCategory\":false,\"count\":7,\"highlighted\":false,\"leafNode\":false,\"parentCategory\":false,\"resource\":{\"params\":\"facets.brand%5B%5D=Supertel\",\"selected\":false},\"selectedCount\":0,\"title\":\"Supertel\"},{\"childCategory\":false,\"count\":10,\"highlighted\":false,\"leafNode\":false,\"parentCategory\":false,\"resource\":{\"params\":\"facets.brand%5B%5D=Swipe\",\"selected\":false},\"selectedCount\":0,\"title\":\"Swipe\"},{\"childCategory\":false,\"count\":2,\"highlighted\":false,\"leafNode\":false,\"parentCategory\":false,\"resource\":{\"params\":\"facets.brand%5B%5D=T-Com\",\"selected\":false},\"selectedCount\":0,\"title\":\"T-Com\"},{\"childCategory\":false,\"count\":14,\"highlighted\":false,\"leafNode\":false,\"parentCategory\":false,\"resource\":{\"params\":\"facets.brand%5B%5D=T-Max\",\"selected\":false},\"selectedCount\":0,\"title\":\"T-Max\"},{\"childCategory\":false,\"count\":1,\"highlighted\":false,\"leafNode\":false,\"parentCategory\":false,\"resource\":{\"params\":\"facets.brand%5B%5D=Takee\",\"selected\":false},\"selectedCount\":0,\"title\":\"Takee\"},{\"childCategory\":false,\"count\":1,\"highlighted\":false,\"leafNode\":false,\"parentCategory\":false,\"resource\":{\"params\":\"facets.brand%5B%5D=tambo\",\"selected\":false},\"selectedCount\":0,\"title\":\"tambo\"},{\"childCategory\":false,\"count\":14,\"highlighted\":false,\"leafNode\":false,\"parentCategory\":false,\"resource\":{\"params\":\"facets.brand%5B%5D=Tambo\",\"selected\":false},\"selectedCount\":0,\"title\":\"Tambo\"},{\"childCategory\":false,\"count\":54,\"highlighted\":false,\"leafNode\":false,\"parentCategory\":false,\"resource\":{\"params\":\"facets.brand%5B%5D=Tashan\",\"selected\":false},\"selectedCount\":0,\"title\":\"Tashan\"},{\"childCategory\":false,\"count\":3,\"highlighted\":false,\"leafNode\":false,\"parentCategory\":false,\"resource\":{\"params\":\"facets.brand%5B%5D=TCL\",\"selected\":false},\"selectedCount\":0,\"title\":\"TCL\"},{\"childCategory\":false,\"count\":3,\"highlighted\":false,\"leafNode\":false,\"parentCategory\":false,\"resource\":{\"params\":\"facets.brand%5B%5D=Teckmax\",\"selected\":false},\"selectedCount\":0,\"title\":\"Teckmax\"},{\"childCategory\":false,\"count\":2,\"highlighted\":false,\"leafNode\":false,\"parentCategory\":false,\"resource\":{\"params\":\"facets.brand%5B%5D=tecno\",\"selected\":false},\"selectedCount\":0,\"title\":\"tecno\"},{\"childCategory\":false,\"count\":53,\"highlighted\":false,\"leafNode\":false,\"parentCategory\":false,\"resource\":{\"params\":\"facets.brand%5B%5D=Tecno\",\"selected\":false},\"selectedCount\":0,\"title\":\"Tecno\"},{\"childCategory\":false,\"count\":1,\"highlighted\":false,\"leafNode\":false,\"parentCategory\":false,\"resource\":{\"params\":\"facets.brand%5B%5D=Telup\",\"selected\":false},\"selectedCount\":0,\"title\":\"Telup\"},{\"childCategory\":false,\"count\":3,\"highlighted\":false,\"leafNode\":false,\"parentCategory\":false,\"resource\":{\"params\":\"facets.brand%5B%5D=Tiitan\",\"selected\":false},\"selectedCount\":0,\"title\":\"Tiitan\"},{\"childCategory\":false,\"count\":35,\"highlighted\":false,\"leafNode\":false,\"parentCategory\":false,\"resource\":{\"params\":\"facets.brand%5B%5D=Tork\",\"selected\":false},\"selectedCount\":0,\"title\":\"Tork\"},{\"childCategory\":false,\"count\":1,\"highlighted\":false,\"leafNode\":false,\"parentCategory\":false,\"resource\":{\"params\":\"facets.brand%5B%5D=TP-Link\",\"selected\":false},\"selectedCount\":0,\"title\":\"TP-Link\"},{\"childCategory\":false,\"count\":32,\"highlighted\":false,\"leafNode\":false,\"parentCategory\":false,\"resource\":{\"params\":\"facets.brand%5B%5D=Trio\",\"selected\":false},\"selectedCount\":0,\"title\":\"Trio\"},{\"childCategory\":false,\"count\":1,\"highlighted\":false,\"leafNode\":false,\"parentCategory\":false,\"resource\":{\"params\":\"facets.brand%5B%5D=Tru+Ray\",\"selected\":false},\"selectedCount\":0,\"title\":\"Tru Ray\"},{\"childCategory\":false,\"count\":5,\"highlighted\":false,\"leafNode\":false,\"parentCategory\":false,\"resource\":{\"params\":\"facets.brand%5B%5D=TYMES\",\"selected\":false},\"selectedCount\":0,\"title\":\"TYMES\"},{\"childCategory\":false,\"count\":11,\"highlighted\":false,\"leafNode\":false,\"parentCategory\":false,\"resource\":{\"params\":\"facets.brand%5B%5D=Tymes\",\"selected\":false},\"selectedCount\":0,\"title\":\"Tymes\"},{\"childCategory\":false,\"count\":18,\"highlighted\":false,\"leafNode\":false,\"parentCategory\":false,\"resource\":{\"params\":\"facets.brand%5B%5D=UI+Phones\",\"selected\":false},\"selectedCount\":0,\"title\":\"UI Phones\"},{\"childCategory\":false,\"count\":2,\"highlighted\":false,\"leafNode\":false,\"parentCategory\":false,\"resource\":{\"params\":\"facets.brand%5B%5D=Uinitel\",\"selected\":false},\"selectedCount\":0,\"title\":\"Uinitel\"},{\"childCategory\":false,\"count\":1,\"highlighted\":false,\"leafNode\":false,\"parentCategory\":false,\"resource\":{\"params\":\"facets.brand%5B%5D=Ulefone\",\"selected\":false},\"selectedCount\":0,\"title\":\"Ulefone\"},{\"childCategory\":false,\"count\":16,\"highlighted\":false,\"leafNode\":false,\"parentCategory\":false,\"resource\":{\"params\":\"facets.brand%5B%5D=UNI\",\"selected\":false},\"selectedCount\":0,\"title\":\"UNI\"},{\"childCategory\":false,\"count\":1,\"highlighted\":false,\"leafNode\":false,\"parentCategory\":false,\"resource\":{\"params\":\"facets.brand%5B%5D=Unifone\",\"selected\":false},\"selectedCount\":0,\"title\":\"Unifone\"},{\"childCategory\":false,\"count\":2,\"highlighted\":false,\"leafNode\":false,\"parentCategory\":false,\"resource\":{\"params\":\"facets.brand%5B%5D=Uniscope\",\"selected\":false},\"selectedCount\":0,\"title\":\"Uniscope\"},{\"childCategory\":false,\"count\":5,\"highlighted\":false,\"leafNode\":false,\"parentCategory\":false,\"resource\":{\"params\":\"facets.brand%5B%5D=Usha+Shriram\",\"selected\":false},\"selectedCount\":0,\"title\":\"Usha Shriram\"},{\"childCategory\":false,\"count\":2,\"highlighted\":false,\"leafNode\":false,\"parentCategory\":false,\"resource\":{\"params\":\"facets.brand%5B%5D=Vaku\",\"selected\":false},\"selectedCount\":0,\"title\":\"Vaku\"},{\"childCategory\":false,\"count\":1,\"highlighted\":false,\"leafNode\":false,\"parentCategory\":false,\"resource\":{\"params\":\"facets.brand%5B%5D=Vell+Com\",\"selected\":false},\"selectedCount\":0,\"title\":\"Vell Com\"},{\"childCategory\":false,\"count\":1,\"highlighted\":false,\"leafNode\":false,\"parentCategory\":false,\"resource\":{\"params\":\"facets.brand%5B%5D=Vellcom\",\"selected\":false},\"selectedCount\":0,\"title\":\"Vellcom\"},{\"childCategory\":false,\"count\":4,\"highlighted\":false,\"leafNode\":false,\"parentCategory\":false,\"resource\":{\"params\":\"facets.brand%5B%5D=Viaan\",\"selected\":false},\"selectedCount\":0,\"title\":\"Viaan\"},{\"childCategory\":false,\"count\":107,\"highlighted\":false,\"leafNode\":false,\"parentCategory\":false,\"resource\":{\"params\":\"facets.brand%5B%5D=Videocon\",\"selected\":false},\"selectedCount\":0,\"title\":\"Videocon\"},{\"childCategory\":false,\"count\":2,\"highlighted\":false,\"leafNode\":false,\"parentCategory\":false,\"resource\":{\"params\":\"facets.brand%5B%5D=Vinner\",\"selected\":false},\"selectedCount\":0,\"title\":\"Vinner\"},{\"childCategory\":false,\"count\":1,\"highlighted\":false,\"leafNode\":false,\"parentCategory\":false,\"resource\":{\"params\":\"facets.brand%5B%5D=Virat+FanBox\",\"selected\":false},\"selectedCount\":0,\"title\":\"Virat FanBox\"},{\"childCategory\":false,\"count\":1,\"highlighted\":false,\"leafNode\":false,\"parentCategory\":false,\"resource\":{\"params\":\"facets.brand%5B%5D=VIVO\",\"selected\":false},\"selectedCount\":0,\"title\":\"VIVO\"},{\"childCategory\":false,\"count\":1,\"highlighted\":false,\"leafNode\":false,\"parentCategory\":false,\"resource\":{\"params\":\"facets.brand%5B%5D=vivo\",\"selected\":false},\"selectedCount\":0,\"title\":\"vivo\"},{\"childCategory\":false,\"count\":152,\"highlighted\":false,\"leafNode\":false,\"parentCategory\":false,\"resource\":{\"params\":\"facets.brand%5B%5D=Vivo\",\"selected\":false},\"selectedCount\":0,\"title\":\"Vivo\"},{\"childCategory\":false,\"count\":2,\"highlighted\":false,\"leafNode\":false,\"parentCategory\":false,\"resource\":{\"params\":\"facets.brand%5B%5D=Voicair\",\"selected\":false},\"selectedCount\":0,\"title\":\"Voicair\"},{\"childCategory\":false,\"count\":10,\"highlighted\":false,\"leafNode\":false,\"parentCategory\":false,\"resource\":{\"params\":\"facets.brand%5B%5D=Voto\",\"selected\":false},\"selectedCount\":0,\"title\":\"Voto\"},{\"childCategory\":false,\"count\":11,\"highlighted\":false,\"leafNode\":false,\"parentCategory\":false,\"resource\":{\"params\":\"facets.brand%5B%5D=VOTO\",\"selected\":false},\"selectedCount\":0,\"title\":\"VOTO\"},{\"childCategory\":false,\"count\":1,\"highlighted\":false,\"leafNode\":false,\"parentCategory\":false,\"resource\":{\"params\":\"facets.brand%5B%5D=Vow\",\"selected\":false},\"selectedCount\":0,\"title\":\"Vow\"},{\"childCategory\":false,\"count\":8,\"highlighted\":false,\"leafNode\":false,\"parentCategory\":false,\"resource\":{\"params\":\"facets.brand%5B%5D=Vox\",\"selected\":false},\"selectedCount\":0,\"title\":\"Vox\"},{\"childCategory\":false,\"count\":10,\"highlighted\":false,\"leafNode\":false,\"parentCategory\":false,\"resource\":{\"params\":\"facets.brand%5B%5D=Wham\",\"selected\":false},\"selectedCount\":0,\"title\":\"Wham\"},{\"childCategory\":false,\"count\":40,\"highlighted\":false,\"leafNode\":false,\"parentCategory\":false,\"resource\":{\"params\":\"facets.brand%5B%5D=Whitecherry\",\"selected\":false},\"selectedCount\":0,\"title\":\"Whitecherry\"},{\"childCategory\":false,\"count\":1,\"highlighted\":false,\"leafNode\":false,\"parentCategory\":false,\"resource\":{\"params\":\"facets.brand%5B%5D=Wingfone\",\"selected\":false},\"selectedCount\":0,\"title\":\"Wingfone\"},{\"childCategory\":false,\"count\":17,\"highlighted\":false,\"leafNode\":false,\"parentCategory\":false,\"resource\":{\"params\":\"facets.brand%5B%5D=Winstar\",\"selected\":false},\"selectedCount\":0,\"title\":\"Winstar\"},{\"childCategory\":false,\"count\":1,\"highlighted\":false,\"leafNode\":false,\"parentCategory\":false,\"resource\":{\"params\":\"facets.brand%5B%5D=Wishtel\",\"selected\":false},\"selectedCount\":0,\"title\":\"Wishtel\"},{\"childCategory\":false,\"count\":1,\"highlighted\":false,\"leafNode\":false,\"parentCategory\":false,\"resource\":{\"params\":\"facets.brand%5B%5D=Wowi\",\"selected\":false},\"selectedCount\":0,\"title\":\"Wowi\"},{\"childCategory\":false,\"count\":7,\"highlighted\":false,\"leafNode\":false,\"parentCategory\":false,\"resource\":{\"params\":\"facets.brand%5B%5D=Xage\",\"selected\":false},\"selectedCount\":0,\"title\":\"Xage\"},{\"childCategory\":false,\"count\":24,\"highlighted\":false,\"leafNode\":false,\"parentCategory\":false,\"resource\":{\"params\":\"facets.brand%5B%5D=XCCESS\",\"selected\":false},\"selectedCount\":0,\"title\":\"XCCESS\"},{\"childCategory\":false,\"count\":1,\"highlighted\":false,\"leafNode\":false,\"parentCategory\":false,\"resource\":{\"params\":\"facets.brand%5B%5D=xiaomi\",\"selected\":false},\"selectedCount\":0,\"title\":\"xiaomi\"},{\"childCategory\":false,\"count\":4,\"highlighted\":false,\"leafNode\":false,\"parentCategory\":false,\"resource\":{\"params\":\"facets.brand%5B%5D=Xillion\",\"selected\":false},\"selectedCount\":0,\"title\":\"Xillion\"},{\"childCategory\":false,\"count\":93,\"highlighted\":false,\"leafNode\":false,\"parentCategory\":false,\"resource\":{\"params\":\"facets.brand%5B%5D=XOLO\",\"selected\":false},\"selectedCount\":0,\"title\":\"XOLO\"},{\"childCategory\":false,\"count\":3,\"highlighted\":false,\"leafNode\":false,\"parentCategory\":false,\"resource\":{\"params\":\"facets.brand%5B%5D=Xome\",\"selected\":false},\"selectedCount\":0,\"title\":\"Xome\"},{\"childCategory\":false,\"count\":2,\"highlighted\":false,\"leafNode\":false,\"parentCategory\":false,\"resource\":{\"params\":\"facets.brand%5B%5D=Yking\",\"selected\":false},\"selectedCount\":0,\"title\":\"Yking\"},{\"childCategory\":false,\"count\":26,\"highlighted\":false,\"leafNode\":false,\"parentCategory\":false,\"resource\":{\"params\":\"facets.brand%5B%5D=Yu\",\"selected\":false},\"selectedCount\":0,\"title\":\"Yu\"},{\"childCategory\":false,\"count\":1,\"highlighted\":false,\"leafNode\":false,\"parentCategory\":false,\"resource\":{\"params\":\"facets.brand%5B%5D=YUHO\",\"selected\":false},\"selectedCount\":0,\"title\":\"YUHO\"},{\"childCategory\":false,\"count\":25,\"highlighted\":false,\"leafNode\":false,\"parentCategory\":false,\"resource\":{\"params\":\"facets.brand%5B%5D=Yuho\",\"selected\":false},\"selectedCount\":0,\"title\":\"Yuho\"},{\"childCategory\":false,\"count\":19,\"highlighted\":false,\"leafNode\":false,\"parentCategory\":false,\"resource\":{\"params\":\"facets.brand%5B%5D=Yxtel\",\"selected\":false},\"selectedCount\":0,\"title\":\"Yxtel\"},{\"childCategory\":false,\"count\":1,\"highlighted\":false,\"leafNode\":false,\"parentCategory\":false,\"resource\":{\"params\":\"facets.brand%5B%5D=Zeal\",\"selected\":false},\"selectedCount\":0,\"title\":\"Zeal\"},{\"childCategory\":false,\"count\":197,\"highlighted\":false,\"leafNode\":false,\"parentCategory\":false,\"resource\":{\"params\":\"facets.brand%5B%5D=Zen\",\"selected\":false},\"selectedCount\":0,\"title\":\"Zen\"},{\"childCategory\":false,\"count\":1,\"highlighted\":false,\"leafNode\":false,\"parentCategory\":false,\"resource\":{\"params\":\"facets.brand%5B%5D=Zice\",\"selected\":false},\"selectedCount\":0,\"title\":\"Zice\"},{\"childCategory\":false,\"count\":14,\"highlighted\":false,\"leafNode\":false,\"parentCategory\":false,\"resource\":{\"params\":\"facets.brand%5B%5D=ziox\",\"selected\":false},\"selectedCount\":0,\"title\":\"ziox\"},{\"childCategory\":false,\"count\":15,\"highlighted\":false,\"leafNode\":false,\"parentCategory\":false,\"resource\":{\"params\":\"facets.brand%5B%5D=ZIOX\",\"selected\":false},\"selectedCount\":0,\"title\":\"ZIOX\"},{\"childCategory\":false,\"count\":156,\"highlighted\":false,\"leafNode\":false,\"parentCategory\":false,\"resource\":{\"params\":\"facets.brand%5B%5D=Ziox\",\"selected\":false},\"selectedCount\":0,\"title\":\"Ziox\"},{\"childCategory\":false,\"count\":7,\"highlighted\":false,\"leafNode\":false,\"parentCategory\":false,\"resource\":{\"params\":\"facets.brand%5B%5D=Zopo\",\"selected\":false},\"selectedCount\":0,\"title\":\"Zopo\"},{\"childCategory\":false,\"count\":60,\"highlighted\":false,\"leafNode\":false,\"parentCategory\":false,\"resource\":{\"params\":\"facets.brand%5B%5D=ZOPO\",\"selected\":false},\"selectedCount\":0,\"title\":\"ZOPO\"}]}]},{\"type\":\"scrollableView\",\"id\":\"rating\",\"metadata\":{\"showCount\":false,\"isDefault\":true,\"subtext\":\"\",\"facetCountThreshold\":30,\"nested\":false},\"title\":\"Customer Ratings\",\"values\":[{\"type\":\"checkbox\",\"id\":\"fixed\",\"values\":[{\"childCategory\":false,\"count\":2957,\"highlighted\":false,\"leafNode\":false,\"parentCategory\":false,\"resource\":{\"params\":\"facets.rating%5B%5D=4%E2%98%85+%26+above\",\"selected\":false},\"selectedCount\":0,\"title\":\"4\\xe2\\x98\\x85 & above\"},{\"childCategory\":false,\"count\":9549,\"highlighted\":false,\"leafNode\":false,\"parentCategory\":false,\"resource\":{\"params\":\"facets.rating%5B%5D=3%E2%98%85+%26+above\",\"selected\":false},\"selectedCount\":0,\"title\":\"3\\xe2\\x98\\x85 & above\"},{\"childCategory\":false,\"count\":10134,\"highlighted\":false,\"leafNode\":false,\"parentCategory\":false,\"resource\":{\"params\":\"facets.rating%5B%5D=2%E2%98%85+%26+above\",\"selected\":false},\"selectedCount\":0,\"title\":\"2\\xe2\\x98\\x85 & above\"},{\"childCategory\":false,\"count\":10175,\"highlighted\":false,\"leafNode\":false,\"parentCategory\":false,\"resource\":{\"params\":\"facets.rating%5B%5D=1%E2%98%85+%26+above\",\"selected\":false},\"selectedCount\":0,\"title\":\"1\\xe2\\x98\\x85 & above\"}]}]},{\"type\":\"scrollableView\",\"id\":\"internal_storage\",\"metadata\":{\"showCount\":false,\"subtext\":\"\",\"facetCountThreshold\":30,\"nested\":false},\"title\":\"Internal Storage\",\"values\":[{\"type\":\"checkbox\",\"id\":\"fixed\",\"values\":[{\"childCategory\":false,\"count\":119,\"highlighted\":false,\"leafNode\":false,\"parentCategory\":false,\"resource\":{\"params\":\"facets.internal_storage%5B%5D=256+GB+%26+Above\",\"selected\":false},\"selectedCount\":0,\"title\":\"256 GB & Above\"},{\"childCategory\":false,\"count\":320,\"highlighted\":false,\"leafNode\":false,\"parentCategory\":false,\"resource\":{\"params\":\"facets.internal_storage%5B%5D=128+-+255.9+GB\",\"selected\":false},\"selectedCount\":0,\"title\":\"128 - 255.9 GB\"},{\"childCategory\":false,\"count\":699,\"highlighted\":false,\"leafNode\":false,\"parentCategory\":false,\"resource\":{\"params\":\"facets.internal_storage%5B%5D=64+-+127.9+GB\",\"selected\":false},\"selectedCount\":0,\"title\":\"64 - 127.9 GB\"},{\"childCategory\":false,\"count\":887,\"highlighted\":false,\"leafNode\":false,\"parentCategory\":false,\"resource\":{\"params\":\"facets.internal_storage%5B%5D=32+-+63.9+GB\",\"selected\":false},\"selectedCount\":0,\"title\":\"32 - 63.9 GB\"},{\"childCategory\":false,\"count\":1279,\"highlighted\":false,\"leafNode\":false,\"parentCategory\":false,\"resource\":{\"params\":\"facets.internal_storage%5B%5D=16+-+31.9+GB\",\"selected\":false},\"selectedCount\":0,\"title\":\"16 - 31.9 GB\"},{\"childCategory\":false,\"count\":1173,\"highlighted\":false,\"leafNode\":false,\"parentCategory\":false,\"resource\":{\"params\":\"facets.internal_storage%5B%5D=8+-+15.9+GB\",\"selected\":false},\"selectedCount\":0,\"title\":\"8 - 15.9 GB\"},{\"childCategory\":false,\"count\":477,\"highlighted\":false,\"leafNode\":false,\"parentCategory\":false,\"resource\":{\"params\":\"facets.internal_storage%5B%5D=4+-+7.9+GB\",\"selected\":false},\"selectedCount\":0,\"title\":\"4 - 7.9 GB\"},{\"childCategory\":false,\"count\":29,\"highlighted\":false,\"leafNode\":false,\"parentCategory\":false,\"resource\":{\"params\":\"facets.internal_storage%5B%5D=2+GB+-+3.9+GB\",\"selected\":false},\"selectedCount\":0,\"title\":\"2 GB - 3.9 GB\"},{\"childCategory\":false,\"count\":25,\"highlighted\":false,\"leafNode\":false,\"parentCategory\":false,\"resource\":{\"params\":\"facets.internal_storage%5B%5D=1+GB+-+1.9+GB\",\"selected\":false},\"selectedCount\":0,\"title\":\"1 GB - 1.9 GB\"},{\"childCategory\":false,\"count\":5375,\"highlighted\":false,\"leafNode\":false,\"parentCategory\":false,\"resource\":{\"params\":\"facets.internal_storage%5B%5D=Less+than+1+GB\",\"selected\":false},\"selectedCount\":0,\"title\":\"Less than 1 GB\"}]}]},{\"type\":\"scrollableView\",\"id\":\"battery_capacity\",\"metadata\":{\"showCount\":false,\"subtext\":\"\",\"facetCountThreshold\":30,\"nested\":false},\"title\":\"Battery Capacity\",\"values\":[{\"type\":\"checkbox\",\"id\":\"alphabetical\",\"values\":[{\"childCategory\":false,\"count\":4493,\"highlighted\":false,\"leafNode\":false,\"parentCategory\":false,\"resource\":{\"params\":\"facets.battery_capacity%5B%5D=1000+-+1999+mAh\",\"selected\":false},\"selectedCount\":0,\"title\":\"1000 - 1999 mAh\"},{\"childCategory\":false,\"count\":2380,\"highlighted\":false,\"leafNode\":false,\"parentCategory\":false,\"resource\":{\"params\":\"facets.battery_capacity%5B%5D=2000+-+2999+mAh\",\"selected\":false},\"selectedCount\":0,\"title\":\"2000 - 2999 mAh\"},{\"childCategory\":false,\"count\":1588,\"highlighted\":false,\"leafNode\":false,\"parentCategory\":false,\"resource\":{\"params\":\"facets.battery_capacity%5B%5D=3000+-+3999+mAh\",\"selected\":false},\"selectedCount\":0,\"title\":\"3000 - 3999 mAh\"},{\"childCategory\":false,\"count\":813,\"highlighted\":false,\"leafNode\":false,\"parentCategory\":false,\"resource\":{\"params\":\"facets.battery_capacity%5B%5D=4000+-+4999+mAh\",\"selected\":false},\"selectedCount\":0,\"title\":\"4000 - 4999 mAh\"},{\"childCategory\":false,\"count\":212,\"highlighted\":false,\"leafNode\":false,\"parentCategory\":false,\"resource\":{\"params\":\"facets.battery_capacity%5B%5D=5000+mAh+%26+Above\",\"selected\":false},\"selectedCount\":0,\"title\":\"5000 mAh & Above\"},{\"childCategory\":false,\"count\":1428,\"highlighted\":false,\"leafNode\":false,\"parentCategory\":false,\"resource\":{\"params\":\"facets.battery_capacity%5B%5D=Less+than+1000+mAh\",\"selected\":false},\"selectedCount\":0,\"title\":\"Less than 1000 mAh\"}]}]},{\"type\":\"scrollableView\",\"id\":\"operating_system\",\"metadata\":{\"showCount\":false,\"subtext\":\"\",\"facetCountThreshold\":30,\"nested\":false},\"title\":\"Operating System\",\"values\":[{\"type\":\"checkbox\",\"id\":\"alphabetical\",\"values\":[{\"childCategory\":false,\"count\":4938,\"highlighted\":false,\"leafNode\":false,\"parentCategory\":false,\"resource\":{\"params\":\"facets.operating_system%5B%5D=Android\",\"selected\":false},\"selectedCount\":0,\"title\":\"Android\"},{\"childCategory\":false,\"count\":5,\"highlighted\":false,\"leafNode\":false,\"parentCategory\":false,\"resource\":{\"params\":\"facets.operating_system%5B%5D=Blackberry\",\"selected\":false},\"selectedCount\":0,\"title\":\"Blackberry\"},{\"childCategory\":false,\"count\":2,\"highlighted\":false,\"leafNode\":false,\"parentCategory\":false,\"resource\":{\"params\":\"facets.operating_system%5B%5D=Brew\",\"selected\":false},\"selectedCount\":0,\"title\":\"Brew\"},{\"childCategory\":false,\"count\":209,\"highlighted\":false,\"leafNode\":false,\"parentCategory\":false,\"resource\":{\"params\":\"facets.operating_system%5B%5D=iOS\",\"selected\":false},\"selectedCount\":0,\"title\":\"iOS\"},{\"childCategory\":false,\"count\":3,\"highlighted\":false,\"leafNode\":false,\"parentCategory\":false,\"resource\":{\"params\":\"facets.operating_system%5B%5D=KaiOS\",\"selected\":false},\"selectedCount\":0,\"title\":\"KaiOS\"},{\"childCategory\":false,\"count\":11,\"highlighted\":false,\"leafNode\":false,\"parentCategory\":false,\"resource\":{\"params\":\"facets.operating_system%5B%5D=Linux\",\"selected\":false},\"selectedCount\":0,\"title\":\"Linux\"},{\"childCategory\":false,\"count\":1,\"highlighted\":false,\"leafNode\":false,\"parentCategory\":false,\"resource\":{\"params\":\"facets.operating_system%5B%5D=Sailfish\",\"selected\":false},\"selectedCount\":0,\"title\":\"Sailfish\"},{\"childCategory\":false,\"count\":39,\"highlighted\":false,\"leafNode\":false,\"parentCategory\":false,\"resource\":{\"params\":\"facets.operating_system%5B%5D=Symbian\",\"selected\":false},\"selectedCount\":0,\"title\":\"Symbian\"},{\"childCategory\":false,\"count\":9,\"highlighted\":false,\"leafNode\":false,\"parentCategory\":false,\"resource\":{\"params\":\"facets.operating_system%5B%5D=Tizen\",\"selected\":false},\"selectedCount\":0,\"title\":\"Tizen\"},{\"childCategory\":false,\"count\":27,\"highlighted\":false,\"leafNode\":false,\"parentCategory\":false,\"resource\":{\"params\":\"facets.operating_system%5B%5D=Windows\",\"selected\":false},\"selectedCount\":0,\"title\":\"Windows\"}]}]},{\"type\":\"scrollableView\",\"id\":\"network_type\",\"metadata\":{\"showCount\":false,\"subtext\":\"\",\"facetCountThreshold\":30,\"nested\":false},\"title\":\"Network Type\",\"values\":[{\"type\":\"checkbox\",\"id\":\"alphabetical\",\"values\":[{\"childCategory\":false,\"count\":8293,\"highlighted\":false,\"leafNode\":false,\"parentCategory\":false,\"resource\":{\"params\":\"facets.network_type%5B%5D=2G\",\"selected\":false},\"selectedCount\":0,\"title\":\"2G\"},{\"childCategory\":false,\"count\":4722,\"highlighted\":false,\"leafNode\":false,\"parentCategory\":false,\"resource\":{\"params\":\"facets.network_type%5B%5D=3G\",\"selected\":false},\"selectedCount\":0,\"title\":\"3G\"},{\"childCategory\":false,\"count\":2448,\"highlighted\":false,\"leafNode\":false,\"parentCategory\":false,\"resource\":{\"params\":\"facets.network_type%5B%5D=4G\",\"selected\":false},\"selectedCount\":0,\"title\":\"4G\"},{\"childCategory\":false,\"count\":1949,\"highlighted\":false,\"leafNode\":false,\"parentCategory\":false,\"resource\":{\"params\":\"facets.network_type%5B%5D=4G+VOLTE\",\"selected\":false},\"selectedCount\":0,\"title\":\"4G VOLTE\"}]}]},{\"type\":\"scrollableView\",\"id\":\"screen_size\",\"metadata\":{\"showCount\":false,\"subtext\":\"\",\"facetCountThreshold\":30,\"nested\":false},\"title\":\"Screen Size\",\"values\":[{\"type\":\"checkbox\",\"id\":\"fixed\",\"values\":[{\"childCategory\":false,\"count\":386,\"highlighted\":false,\"leafNode\":false,\"parentCategory\":false,\"resource\":{\"params\":\"facets.screen_size%5B%5D=5.7+-+5.9+inch\",\"selected\":false},\"selectedCount\":0,\"title\":\"5.7 - 5.9 inch\"},{\"childCategory\":false,\"count\":785,\"highlighted\":false,\"leafNode\":false,\"parentCategory\":false,\"resource\":{\"params\":\"facets.screen_size%5B%5D=5.5+-+5.6+inch\",\"selected\":false},\"selectedCount\":0,\"title\":\"5.5 - 5.6 inch\"},{\"childCategory\":false,\"count\":401,\"highlighted\":false,\"leafNode\":false,\"parentCategory\":false,\"resource\":{\"params\":\"facets.screen_size%5B%5D=5.2+-+5.4+inch\",\"selected\":false},\"selectedCount\":0,\"title\":\"5.2 - 5.4 inch\"},{\"childCategory\":false,\"count\":37,\"highlighted\":false,\"leafNode\":false,\"parentCategory\":false,\"resource\":{\"params\":\"facets.screen_size%5B%5D=5+-+5.1+inch\",\"selected\":false},\"selectedCount\":0,\"title\":\"5 - 5.1 inch\"},{\"childCategory\":false,\"count\":527,\"highlighted\":false,\"leafNode\":false,\"parentCategory\":false,\"resource\":{\"params\":\"facets.screen_size%5B%5D=4.5+-+4.9+inch\",\"selected\":false},\"selectedCount\":0,\"title\":\"4.5 - 4.9 inch\"},{\"childCategory\":false,\"count\":452,\"highlighted\":false,\"leafNode\":false,\"parentCategory\":false,\"resource\":{\"params\":\"facets.screen_size%5B%5D=4+-+4.4+inch\",\"selected\":false},\"selectedCount\":0,\"title\":\"4 - 4.4 inch\"},{\"childCategory\":false,\"count\":145,\"highlighted\":false,\"leafNode\":false,\"parentCategory\":false,\"resource\":{\"params\":\"facets.screen_size%5B%5D=3.5+-+3.9+inch\",\"selected\":false},\"selectedCount\":0,\"title\":\"3.5 - 3.9 inch\"},{\"childCategory\":false,\"count\":42,\"highlighted\":false,\"leafNode\":false,\"parentCategory\":false,\"resource\":{\"params\":\"facets.screen_size%5B%5D=3+-+3.4+inch\",\"selected\":false},\"selectedCount\":0,\"title\":\"3 - 3.4 inch\"},{\"childCategory\":false,\"count\":5707,\"highlighted\":false,\"leafNode\":false,\"parentCategory\":false,\"resource\":{\"params\":\"facets.screen_size%5B%5D=Less+than+3+inch\",\"selected\":false},\"selectedCount\":0,\"title\":\"Less than 3 inch\"},{\"childCategory\":false,\"count\":1057,\"highlighted\":false,\"leafNode\":false,\"parentCategory\":false,\"resource\":{\"params\":\"facets.screen_size%5B%5D=6+inch+%26+above\",\"selected\":false},\"selectedCount\":0,\"title\":\"6 inch & above\"}]}]},{\"type\":\"scrollableView\",\"id\":\"sim_type\",\"metadata\":{\"showCount\":false,\"subtext\":\"\",\"facetCountThreshold\":30,\"nested\":false},\"title\":\"Sim Type\",\"values\":[{\"type\":\"checkbox\",\"id\":\"alphabetical\",\"values\":[{\"childCategory\":false,\"count\":10398,\"highlighted\":false,\"leafNode\":false,\"parentCategory\":false,\"resource\":{\"params\":\"facets.sim_type%5B%5D=Dual+Sim\",\"selected\":false},\"selectedCount\":0,\"title\":\"Dual Sim\"},{\"childCategory\":false,\"count\":31,\"highlighted\":false,\"leafNode\":false,\"parentCategory\":false,\"resource\":{\"params\":\"facets.sim_type%5B%5D=Four+Sim\",\"selected\":false},\"selectedCount\":0,\"title\":\"Four Sim\"},{\"childCategory\":false,\"count\":535,\"highlighted\":false,\"leafNode\":false,\"parentCategory\":false,\"resource\":{\"params\":\"facets.sim_type%5B%5D=Single+Sim\",\"selected\":false},\"selectedCount\":0,\"title\":\"Single Sim\"},{\"childCategory\":false,\"count\":51,\"highlighted\":false,\"leafNode\":false,\"parentCategory\":false,\"resource\":{\"params\":\"facets.sim_type%5B%5D=Triple+Sim\",\"selected\":false},\"selectedCount\":0,\"title\":\"Triple Sim\"}]}]},{\"type\":\"scrollableView\",\"id\":\"primary_camera\",\"metadata\":{\"showCount\":false,\"subtext\":\"\",\"facetCountThreshold\":30,\"nested\":false},\"title\":\"Primary Camera\",\"values\":[{\"type\":\"checkbox\",\"id\":\"first-numeric\",\"values\":[{\"childCategory\":false,\"count\":555,\"highlighted\":false,\"leafNode\":false,\"parentCategory\":false,\"resource\":{\"params\":\"facets.primary_camera%5B%5D=2+-+2.9+MP\",\"selected\":false},\"selectedCount\":0,\"title\":\"2 - 2.9 MP\"},{\"childCategory\":false,\"count\":5305,\"highlighted\":false,\"leafNode\":false,\"parentCategory\":false,\"resource\":{\"params\":\"facets.primary_camera%5B%5D=Below+2+MP\",\"selected\":false},\"selectedCount\":0,\"title\":\"Below 2 MP\"},{\"childCategory\":false,\"count\":205,\"highlighted\":false,\"leafNode\":false,\"parentCategory\":false,\"resource\":{\"params\":\"facets.primary_camera%5B%5D=3+-+4.9+MP\",\"selected\":false},\"selectedCount\":0,\"title\":\"3 - 4.9 MP\"},{\"childCategory\":false,\"count\":1025,\"highlighted\":false,\"leafNode\":false,\"parentCategory\":false,\"resource\":{\"params\":\"facets.primary_camera%5B%5D=5+-+7.9+MP\",\"selected\":false},\"selectedCount\":0,\"title\":\"5 - 7.9 MP\"},{\"childCategory\":false,\"count\":1031,\"highlighted\":false,\"leafNode\":false,\"parentCategory\":false,\"resource\":{\"params\":\"facets.primary_camera%5B%5D=8+-+11.9+MP\",\"selected\":false},\"selectedCount\":0,\"title\":\"8 - 11.9 MP\"},{\"childCategory\":false,\"count\":507,\"highlighted\":false,\"leafNode\":false,\"parentCategory\":false,\"resource\":{\"params\":\"facets.primary_camera%5B%5D=12+-+12.9+MP\",\"selected\":false},\"selectedCount\":0,\"title\":\"12 - 12.9 MP\"},{\"childCategory\":false,\"count\":1452,\"highlighted\":false,\"leafNode\":false,\"parentCategory\":false,\"resource\":{\"params\":\"facets.primary_camera%5B%5D=13+-+15.9+MP\",\"selected\":false},\"selectedCount\":0,\"title\":\"13 - 15.9 MP\"},{\"childCategory\":false,\"count\":383,\"highlighted\":false,\"leafNode\":false,\"parentCategory\":false,\"resource\":{\"params\":\"facets.primary_camera%5B%5D=16+-+20.9+MP\",\"selected\":false},\"selectedCount\":0,\"title\":\"16 - 20.9 MP\"},{\"childCategory\":false,\"count\":305,\"highlighted\":false,\"leafNode\":false,\"parentCategory\":false,\"resource\":{\"params\":\"facets.primary_camera%5B%5D=21+MP+%26+Above\",\"selected\":false},\"selectedCount\":0,\"title\":\"21 MP & Above\"}]}]},{\"type\":\"scrollableView\",\"id\":\"secondary_camera\",\"metadata\":{\"showCount\":false,\"subtext\":\"\",\"facetCountThreshold\":30,\"nested\":false},\"title\":\"Secondary Camera\",\"values\":[{\"type\":\"checkbox\",\"id\":\"alphabetical\",\"values\":[{\"childCategory\":false,\"count\":844,\"highlighted\":false,\"leafNode\":false,\"parentCategory\":false,\"resource\":{\"params\":\"facets.secondary_camera%5B%5D=0+-+1.9+MP\",\"selected\":false},\"selectedCount\":0,\"title\":\"0 - 1.9 MP\"},{\"childCategory\":false,\"count\":46,\"highlighted\":false,\"leafNode\":false,\"parentCategory\":false,\"resource\":{\"params\":\"facets.secondary_camera%5B%5D=12+-+12.9+MP\",\"selected\":false},\"selectedCount\":0,\"title\":\"12 - 12.9 MP\"},{\"childCategory\":false,\"count\":215,\"highlighted\":false,\"leafNode\":false,\"parentCategory\":false,\"resource\":{\"params\":\"facets.secondary_camera%5B%5D=13+-+15.9+MP\",\"selected\":false},\"selectedCount\":0,\"title\":\"13 - 15.9 MP\"},{\"childCategory\":false,\"count\":387,\"highlighted\":false,\"leafNode\":false,\"parentCategory\":false,\"resource\":{\"params\":\"facets.secondary_camera%5B%5D=16+-+20.9+MP\",\"selected\":false},\"selectedCount\":0,\"title\":\"16 - 20.9 MP\"},{\"childCategory\":false,\"count\":561,\"highlighted\":false,\"leafNode\":false,\"parentCategory\":false,\"resource\":{\"params\":\"facets.secondary_camera%5B%5D=2+-+2.9+MP\",\"selected\":false},\"selectedCount\":0,\"title\":\"2 - 2.9 MP\"},{\"childCategory\":false,\"count\":189,\"highlighted\":false,\"leafNode\":false,\"parentCategory\":false,\"resource\":{\"params\":\"facets.secondary_camera%5B%5D=21+MP+%26+Above\",\"selected\":false},\"selectedCount\":0,\"title\":\"21 MP & Above\"},{\"childCategory\":false,\"count\":53,\"highlighted\":false,\"leafNode\":false,\"parentCategory\":false,\"resource\":{\"params\":\"facets.secondary_camera%5B%5D=3+-+4.9+MP\",\"selected\":false},\"selectedCount\":0,\"title\":\"3 - 4.9 MP\"},{\"childCategory\":false,\"count\":1345,\"highlighted\":false,\"leafNode\":false,\"parentCategory\":false,\"resource\":{\"params\":\"facets.secondary_camera%5B%5D=5+-+7.9+MP\",\"selected\":false},\"selectedCount\":0,\"title\":\"5 - 7.9 MP\"},{\"childCategory\":false,\"count\":691,\"highlighted\":false,\"leafNode\":false,\"parentCategory\":false,\"resource\":{\"params\":\"facets.secondary_camera%5B%5D=8+-+11.9+MP\",\"selected\":false},\"selectedCount\":0,\"title\":\"8 - 11.9 MP\"}]}]},{\"type\":\"scrollableView\",\"id\":\"offer_type\",\"metadata\":{\"isDefault\":true,\"showCount\":false,\"subtext\":\"\",\"facetCountThreshold\":30,\"nested\":false},\"title\":\"Offers\",\"values\":[{\"type\":\"checkbox\",\"id\":\"alphabetical\",\"values\":[{\"childCategory\":false,\"count\":4,\"highlighted\":false,\"leafNode\":false,\"parentCategory\":false,\"resource\":{\"params\":\"facets.offer_type%5B%5D=Bank+Offer\",\"selected\":false},\"selectedCount\":0,\"title\":\"Bank Offer\"},{\"childCategory\":false,\"count\":8,\"highlighted\":false,\"leafNode\":false,\"parentCategory\":false,\"resource\":{\"params\":\"facets.offer_type%5B%5D=Exchange+Offer\",\"selected\":false},\"selectedCount\":0,\"title\":\"Exchange Offer\"},{\"childCategory\":false,\"count\":8,\"highlighted\":false,\"leafNode\":false,\"parentCategory\":false,\"resource\":{\"params\":\"facets.offer_type%5B%5D=No+Cost+EMI\",\"selected\":false},\"selectedCount\":0,\"title\":\"No Cost EMI\"},{\"childCategory\":false,\"count\":8,\"highlighted\":false,\"leafNode\":false,\"parentCategory\":false,\"resource\":{\"params\":\"facets.offer_type%5B%5D=Special+Price\",\"selected\":false},\"selectedCount\":0,\"title\":\"Special Price\"}]}]},{\"type\":\"scrollableView\",\"id\":\"processor_brand\",\"metadata\":{\"showCount\":false,\"subtext\":\"\",\"facetCountThreshold\":30,\"nested\":false},\"title\":\"Processor Brand\",\"values\":[{\"type\":\"checkbox\",\"id\":\"alphabetical\",\"values\":[{\"childCategory\":false,\"count\":10,\"highlighted\":false,\"leafNode\":false,\"parentCategory\":false,\"resource\":{\"params\":\"facets.processor_brand%5B%5D=AMD\",\"selected\":false},\"selectedCount\":0,\"title\":\"AMD\"},{\"childCategory\":false,\"count\":203,\"highlighted\":false,\"leafNode\":false,\"parentCategory\":false,\"resource\":{\"params\":\"facets.processor_brand%5B%5D=Apple\",\"selected\":false},\"selectedCount\":0,\"title\":\"Apple\"},{\"childCategory\":false,\"count\":63,\"highlighted\":false,\"leafNode\":false,\"parentCategory\":false,\"resource\":{\"params\":\"facets.processor_brand%5B%5D=ARM\",\"selected\":false},\"selectedCount\":0,\"title\":\"ARM\"},{\"childCategory\":false,\"count\":207,\"highlighted\":false,\"leafNode\":false,\"parentCategory\":false,\"resource\":{\"params\":\"facets.processor_brand%5B%5D=Exynos\",\"selected\":false},\"selectedCount\":0,\"title\":\"Exynos\"},{\"childCategory\":false,\"count\":38,\"highlighted\":false,\"leafNode\":false,\"parentCategory\":false,\"resource\":{\"params\":\"facets.processor_brand%5B%5D=HiSilicon\",\"selected\":false},\"selectedCount\":0,\"title\":\"HiSilicon\"},{\"childCategory\":false,\"count\":44,\"highlighted\":false,\"leafNode\":false,\"parentCategory\":false,\"resource\":{\"params\":\"facets.processor_brand%5B%5D=Huawei\",\"selected\":false},\"selectedCount\":0,\"title\":\"Huawei\"},{\"childCategory\":false,\"count\":1,\"highlighted\":false,\"leafNode\":false,\"parentCategory\":false,\"resource\":{\"params\":\"facets.processor_brand%5B%5D=Infineon\",\"selected\":false},\"selectedCount\":0,\"title\":\"Infineon\"},{\"childCategory\":false,\"count\":3,\"highlighted\":false,\"leafNode\":false,\"parentCategory\":false,\"resource\":{\"params\":\"facets.processor_brand%5B%5D=Intel\",\"selected\":false},\"selectedCount\":0,\"title\":\"Intel\"},{\"childCategory\":false,\"count\":1239,\"highlighted\":false,\"leafNode\":false,\"parentCategory\":false,\"resource\":{\"params\":\"facets.processor_brand%5B%5D=Mediatek\",\"selected\":false},\"selectedCount\":0,\"title\":\"Mediatek\"},{\"childCategory\":false,\"count\":973,\"highlighted\":false,\"leafNode\":false,\"parentCategory\":false,\"resource\":{\"params\":\"facets.processor_brand%5B%5D=Snapdragon\",\"selected\":false},\"selectedCount\":0,\"title\":\"Snapdragon\"},{\"childCategory\":false,\"count\":621,\"highlighted\":false,\"leafNode\":false,\"parentCategory\":false,\"resource\":{\"params\":\"facets.processor_brand%5B%5D=Spreadtrum\",\"selected\":false},\"selectedCount\":0,\"title\":\"Spreadtrum\"},{\"childCategory\":false,\"count\":2,\"highlighted\":false,\"leafNode\":false,\"parentCategory\":false,\"resource\":{\"params\":\"facets.processor_brand%5B%5D=Unisoc\",\"selected\":false},\"selectedCount\":0,\"title\":\"Unisoc\"}]}]},{\"type\":\"scrollableView\",\"id\":\"speciality\",\"metadata\":{\"multiselect\":\"true\",\"showCount\":false,\"subtext\":\"\",\"DisplayTitle\":\"What feature are you looking for?\",\"facetCountThreshold\":30,\"nested\":false},\"title\":\"Speciality\",\"values\":[{\"type\":\"checkbox\",\"id\":\"alphabetical\",\"values\":[{\"childCategory\":false,\"count\":1138,\"highlighted\":false,\"leafNode\":false,\"parentCategory\":false,\"resource\":{\"params\":\"facets.speciality%5B%5D=Big+Storage\",\"selected\":false},\"selectedCount\":0,\"title\":\"Big Storage\"},{\"childCategory\":false,\"count\":1100,\"highlighted\":false,\"leafNode\":false,\"parentCategory\":false,\"resource\":{\"params\":\"facets.speciality%5B%5D=Higher+Performance\",\"selected\":false},\"selectedCount\":0,\"title\":\"Higher Performance\"},{\"childCategory\":false,\"count\":949,\"highlighted\":false,\"leafNode\":false,\"parentCategory\":false,\"resource\":{\"params\":\"facets.speciality%5B%5D=Long-Lasting+Battery\",\"selected\":false},\"selectedCount\":0,\"title\":\"Long-Lasting Battery\"},{\"childCategory\":false,\"count\":837,\"highlighted\":false,\"leafNode\":false,\"parentCategory\":false,\"resource\":{\"params\":\"facets.speciality%5B%5D=Selfie+Camera\",\"selected\":false},\"selectedCount\":0,\"title\":\"Selfie Camera\"}]}]},{\"type\":\"scrollableView\",\"id\":\"resolution_type\",\"metadata\":{\"showCount\":false,\"subtext\":\"\",\"facetCountThreshold\":30,\"nested\":false},\"title\":\"Resolution Type\",\"values\":[{\"type\":\"checkbox\",\"id\":\"alphabetical\",\"values\":[{\"childCategory\":false,\"count\":526,\"highlighted\":false,\"leafNode\":false,\"parentCategory\":false,\"resource\":{\"params\":\"facets.resolution_type%5B%5D=Full+HD\",\"selected\":false},\"selectedCount\":0,\"title\":\"Full HD\"},{\"childCategory\":false,\"count\":451,\"highlighted\":false,\"leafNode\":false,\"parentCategory\":false,\"resource\":{\"params\":\"facets.resolution_type%5B%5D=Full+HD%2B\",\"selected\":false},\"selectedCount\":0,\"title\":\"Full HD+\"},{\"childCategory\":false,\"count\":525,\"highlighted\":false,\"leafNode\":false,\"parentCategory\":false,\"resource\":{\"params\":\"facets.resolution_type%5B%5D=FWVGA\",\"selected\":false},\"selectedCount\":0,\"title\":\"FWVGA\"},{\"childCategory\":false,\"count\":3,\"highlighted\":false,\"leafNode\":false,\"parentCategory\":false,\"resource\":{\"params\":\"facets.resolution_type%5B%5D=FWVGA%2B\",\"selected\":false},\"selectedCount\":0,\"title\":\"FWVGA+\"},{\"childCategory\":false,\"count\":1271,\"highlighted\":false,\"leafNode\":false,\"parentCategory\":false,\"resource\":{\"params\":\"facets.resolution_type%5B%5D=HD\",\"selected\":false},\"selectedCount\":0,\"title\":\"HD\"},{\"childCategory\":false,\"count\":476,\"highlighted\":false,\"leafNode\":false,\"parentCategory\":false,\"resource\":{\"params\":\"facets.resolution_type%5B%5D=HD%2B\",\"selected\":false},\"selectedCount\":0,\"title\":\"HD+\"},{\"childCategory\":false,\"count\":42,\"highlighted\":false,\"leafNode\":false,\"parentCategory\":false,\"resource\":{\"params\":\"facets.resolution_type%5B%5D=HQVGA\",\"selected\":false},\"selectedCount\":0,\"title\":\"HQVGA\"},{\"childCategory\":false,\"count\":341,\"highlighted\":false,\"leafNode\":false,\"parentCategory\":false,\"resource\":{\"params\":\"facets.resolution_type%5B%5D=HVGA\",\"selected\":false},\"selectedCount\":0,\"title\":\"HVGA\"},{\"childCategory\":false,\"count\":18,\"highlighted\":false,\"leafNode\":false,\"parentCategory\":false,\"resource\":{\"params\":\"facets.resolution_type%5B%5D=Liquid+Retina+HD+Display\",\"selected\":false},\"selectedCount\":0,\"title\":\"Liquid Retina HD Display\"},{\"childCategory\":false,\"count\":84,\"highlighted\":false,\"leafNode\":false,\"parentCategory\":false,\"resource\":{\"params\":\"facets.resolution_type%5B%5D=Quad+HD\",\"selected\":false},\"selectedCount\":0,\"title\":\"Quad HD\"},{\"childCategory\":false,\"count\":73,\"highlighted\":false,\"leafNode\":false,\"parentCategory\":false,\"resource\":{\"params\":\"facets.resolution_type%5B%5D=Quad+HD%2B\",\"selected\":false},\"selectedCount\":0,\"title\":\"Quad HD+\"},{\"childCategory\":false,\"count\":129,\"highlighted\":false,\"leafNode\":false,\"parentCategory\":false,\"resource\":{\"params\":\"facets.resolution_type%5B%5D=quarter+HD\",\"selected\":false},\"selectedCount\":0,\"title\":\"quarter HD\"},{\"childCategory\":false,\"count\":461,\"highlighted\":false,\"leafNode\":false,\"parentCategory\":false,\"resource\":{\"params\":\"facets.resolution_type%5B%5D=Quarter+QVGA\",\"selected\":false},\"selectedCount\":0,\"title\":\"Quarter QVGA\"},{\"childCategory\":false,\"count\":1581,\"highlighted\":false,\"leafNode\":false,\"parentCategory\":false,\"resource\":{\"params\":\"facets.resolution_type%5B%5D=QVGA\",\"selected\":false},\"selectedCount\":0,\"title\":\"QVGA\"},{\"childCategory\":false,\"count\":22,\"highlighted\":false,\"leafNode\":false,\"parentCategory\":false,\"resource\":{\"params\":\"facets.resolution_type%5B%5D=Retina+Display\",\"selected\":false},\"selectedCount\":0,\"title\":\"Retina Display\"},{\"childCategory\":false,\"count\":101,\"highlighted\":false,\"leafNode\":false,\"parentCategory\":false,\"resource\":{\"params\":\"facets.resolution_type%5B%5D=Retina+HD+Display\",\"selected\":false},\"selectedCount\":0,\"title\":\"Retina HD Display\"},{\"childCategory\":false,\"count\":32,\"highlighted\":false,\"leafNode\":false,\"parentCategory\":false,\"resource\":{\"params\":\"facets.resolution_type%5B%5D=Super+Retina+HD+Display\",\"selected\":false},\"selectedCount\":0,\"title\":\"Super Retina HD Display\"},{\"childCategory\":false,\"count\":24,\"highlighted\":false,\"leafNode\":false,\"parentCategory\":false,\"resource\":{\"params\":\"facets.resolution_type%5B%5D=Super+Retina+XDR+Display\",\"selected\":false},\"selectedCount\":0,\"title\":\"Super Retina XDR Display\"},{\"childCategory\":false,\"count\":2,\"highlighted\":false,\"leafNode\":false,\"parentCategory\":false,\"resource\":{\"params\":\"facets.resolution_type%5B%5D=UHD+4K\",\"selected\":false},\"selectedCount\":0,\"title\":\"UHD 4K\"},{\"childCategory\":false,\"count\":166,\"highlighted\":false,\"leafNode\":false,\"parentCategory\":false,\"resource\":{\"params\":\"facets.resolution_type%5B%5D=VGA\",\"selected\":false},\"selectedCount\":0,\"title\":\"VGA\"},{\"childCategory\":false,\"count\":1,\"highlighted\":false,\"leafNode\":false,\"parentCategory\":false,\"resource\":{\"params\":\"facets.resolution_type%5B%5D=WQHD\",\"selected\":false},\"selectedCount\":0,\"title\":\"WQHD\"},{\"childCategory\":false,\"count\":346,\"highlighted\":false,\"leafNode\":false,\"parentCategory\":false,\"resource\":{\"params\":\"facets.resolution_type%5B%5D=WVGA\",\"selected\":false},\"selectedCount\":0,\"title\":\"WVGA\"}]}]},{\"type\":\"scrollableView\",\"id\":\"type\",\"metadata\":{\"showCount\":false,\"subtext\":\"\",\"sort\":true,\"facetCountThreshold\":30,\"nested\":false},\"title\":\"Type\",\"values\":[{\"type\":\"checkbox\",\"id\":\"count\",\"values\":[{\"childCategory\":false,\"count\":5719,\"highlighted\":false,\"leafNode\":false,\"parentCategory\":false,\"resource\":{\"params\":\"facets.type%5B%5D=Feature+Phones\",\"selected\":false},\"selectedCount\":0,\"title\":\"Feature Phones\"},{\"childCategory\":false,\"count\":5227,\"highlighted\":false,\"leafNode\":false,\"parentCategory\":false,\"resource\":{\"params\":\"facets.type%5B%5D=Smartphones\",\"selected\":false},\"selectedCount\":0,\"title\":\"Smartphones\"}]}]},{\"type\":\"scrollableView\",\"id\":\"operating_system_version_name\",\"metadata\":{\"showCount\":false,\"subtext\":\"\",\"sort\":true,\"facetCountThreshold\":30,\"nested\":false},\"title\":\"Operating System Version Name\",\"values\":[{\"type\":\"checkbox\",\"id\":\"alphabetical\",\"values\":[{\"childCategory\":false,\"count\":9,\"highlighted\":false,\"leafNode\":false,\"parentCategory\":false,\"resource\":{\"params\":\"facets.operating_system_version_name%5B%5D=Android+Q\",\"selected\":false},\"selectedCount\":0,\"title\":\"Android Q\"},{\"childCategory\":false,\"count\":6,\"highlighted\":false,\"leafNode\":false,\"parentCategory\":false,\"resource\":{\"params\":\"facets.operating_system_version_name%5B%5D=Anna\",\"selected\":false},\"selectedCount\":0,\"title\":\"Anna\"},{\"childCategory\":false,\"count\":4,\"highlighted\":false,\"leafNode\":false,\"parentCategory\":false,\"resource\":{\"params\":\"facets.operating_system_version_name%5B%5D=Belle\",\"selected\":false},\"selectedCount\":0,\"title\":\"Belle\"},{\"childCategory\":false,\"count\":3,\"highlighted\":false,\"leafNode\":false,\"parentCategory\":false,\"resource\":{\"params\":\"facets.operating_system_version_name%5B%5D=Donut\",\"selected\":false},\"selectedCount\":0,\"title\":\"Donut\"},{\"childCategory\":false,\"count\":9,\"highlighted\":false,\"leafNode\":false,\"parentCategory\":false,\"resource\":{\"params\":\"facets.operating_system_version_name%5B%5D=Eclair\",\"selected\":false},\"selectedCount\":0,\"title\":\"Eclair\"},{\"childCategory\":false,\"count\":2,\"highlighted\":false,\"leafNode\":false,\"parentCategory\":false,\"resource\":{\"params\":\"facets.operating_system_version_name%5B%5D=Froyo\",\"selected\":false},\"selectedCount\":0,\"title\":\"Froyo\"},{\"childCategory\":false,\"count\":31,\"highlighted\":false,\"leafNode\":false,\"parentCategory\":false,\"resource\":{\"params\":\"facets.operating_system_version_name%5B%5D=Gingerbread\",\"selected\":false},\"selectedCount\":0,\"title\":\"Gingerbread\"},{\"childCategory\":false,\"count\":20,\"highlighted\":false,\"leafNode\":false,\"parentCategory\":false,\"resource\":{\"params\":\"facets.operating_system_version_name%5B%5D=Ice+Cream+Sandwich\",\"selected\":false},\"selectedCount\":0,\"title\":\"Ice Cream Sandwich\"},{\"childCategory\":false,\"count\":291,\"highlighted\":false,\"leafNode\":false,\"parentCategory\":false,\"resource\":{\"params\":\"facets.operating_system_version_name%5B%5D=Jelly+Bean\",\"selected\":false},\"selectedCount\":0,\"title\":\"Jelly Bean\"},{\"childCategory\":false,\"count\":658,\"highlighted\":false,\"leafNode\":false,\"parentCategory\":false,\"resource\":{\"params\":\"facets.operating_system_version_name%5B%5D=KitKat\",\"selected\":false},\"selectedCount\":0,\"title\":\"KitKat\"},{\"childCategory\":false,\"count\":905,\"highlighted\":false,\"leafNode\":false,\"parentCategory\":false,\"resource\":{\"params\":\"facets.operating_system_version_name%5B%5D=Lollipop\",\"selected\":false},\"selectedCount\":0,\"title\":\"Lollipop\"},{\"childCategory\":false,\"count\":827,\"highlighted\":false,\"leafNode\":false,\"parentCategory\":false,\"resource\":{\"params\":\"facets.operating_system_version_name%5B%5D=Marshmallow\",\"selected\":false},\"selectedCount\":0,\"title\":\"Marshmallow\"},{\"childCategory\":false,\"count\":823,\"highlighted\":false,\"leafNode\":false,\"parentCategory\":false,\"resource\":{\"params\":\"facets.operating_system_version_name%5B%5D=Nougat\",\"selected\":false},\"selectedCount\":0,\"title\":\"Nougat\"},{\"childCategory\":false,\"count\":759,\"highlighted\":false,\"leafNode\":false,\"parentCategory\":false,\"resource\":{\"params\":\"facets.operating_system_version_name%5B%5D=Oreo\",\"selected\":false},\"selectedCount\":0,\"title\":\"Oreo\"},{\"childCategory\":false,\"count\":588,\"highlighted\":false,\"leafNode\":false,\"parentCategory\":false,\"resource\":{\"params\":\"facets.operating_system_version_name%5B%5D=Pie\",\"selected\":false},\"selectedCount\":0,\"title\":\"Pie\"},{\"childCategory\":false,\"count\":47,\"highlighted\":false,\"leafNode\":false,\"parentCategory\":false,\"resource\":{\"params\":\"facets.operating_system_version_name%5B%5D=Series+30\",\"selected\":false},\"selectedCount\":0,\"title\":\"Series 30\"},{\"childCategory\":false,\"count\":21,\"highlighted\":false,\"leafNode\":false,\"parentCategory\":false,\"resource\":{\"params\":\"facets.operating_system_version_name%5B%5D=Series+40\",\"selected\":false},\"selectedCount\":0,\"title\":\"Series 40\"},{\"childCategory\":false,\"count\":24,\"highlighted\":false,\"leafNode\":false,\"parentCategory\":false,\"resource\":{\"params\":\"facets.operating_system_version_name%5B%5D=Series+60\",\"selected\":false},\"selectedCount\":0,\"title\":\"Series 60\"}]}]},{\"type\":\"scrollableView\",\"id\":\"availability\",\"metadata\":{\"showCount\":false,\"subtext\":\"\",\"facetCountThreshold\":30,\"nested\":false},\"title\":\"Availability\",\"values\":[{\"type\":\"checkbox\",\"id\":\"alphabetical\",\"values\":[{\"childCategory\":false,\"count\":8,\"highlighted\":false,\"leafNode\":false,\"parentCategory\":false,\"resource\":{\"params\":\"facets.availability%5B%5D=Exclude+Out+of+Stock\",\"selected\":false},\"selectedCount\":0,\"title\":\"Exclude Out of Stock\"}]}]},{\"type\":\"scrollableView\",\"id\":\"clock_speed\",\"metadata\":{\"showCount\":false,\"subtext\":\"\",\"facetCountThreshold\":30,\"nested\":false},\"title\":\"Clock Speed\",\"values\":[{\"type\":\"checkbox\",\"id\":\"alphabetical\",\"values\":[{\"childCategory\":false,\"count\":3378,\"highlighted\":false,\"leafNode\":false,\"parentCategory\":false,\"resource\":{\"params\":\"facets.clock_speed%5B%5D=1+-+1.5+GHz\",\"selected\":false},\"selectedCount\":0,\"title\":\"1 - 1.5 GHz\"},{\"childCategory\":false,\"count\":801,\"highlighted\":false,\"leafNode\":false,\"parentCategory\":false,\"resource\":{\"params\":\"facets.clock_speed%5B%5D=1.5+-+1.9+GHz\",\"selected\":false},\"selectedCount\":0,\"title\":\"1.5 - 1.9 GHz\"},{\"childCategory\":false,\"count\":968,\"highlighted\":false,\"leafNode\":false,\"parentCategory\":false,\"resource\":{\"params\":\"facets.clock_speed%5B%5D=2+-+2.5+GHz\",\"selected\":false},\"selectedCount\":0,\"title\":\"2 - 2.5 GHz\"},{\"childCategory\":false,\"count\":211,\"highlighted\":false,\"leafNode\":false,\"parentCategory\":false,\"resource\":{\"params\":\"facets.clock_speed%5B%5D=2.5+GHz+%26+Above\",\"selected\":false},\"selectedCount\":0,\"title\":\"2.5 GHz & Above\"},{\"childCategory\":false,\"count\":3610,\"highlighted\":false,\"leafNode\":false,\"parentCategory\":false,\"resource\":{\"params\":\"facets.clock_speed%5B%5D=Less+than+900+MHz\",\"selected\":false},\"selectedCount\":0,\"title\":\"Less than 900 MHz\"}]}]},{\"type\":\"scrollableView\",\"id\":\"features\",\"metadata\":{\"multiselect\":\"true\",\"showCount\":false,\"subtext\":\"\",\"facetCountThreshold\":30,\"nested\":false},\"title\":\"Features\",\"values\":[{\"type\":\"checkbox\",\"id\":\"count\",\"values\":[{\"childCategory\":false,\"count\":5364,\"highlighted\":false,\"leafNode\":false,\"parentCategory\":false,\"resource\":{\"params\":\"facets.features%5B%5D=FM+Player\",\"selected\":false},\"selectedCount\":0,\"title\":\"FM Player\"},{\"childCategory\":false,\"count\":4281,\"highlighted\":false,\"leafNode\":false,\"parentCategory\":false,\"resource\":{\"params\":\"facets.features%5B%5D=WiFi\",\"selected\":false},\"selectedCount\":0,\"title\":\"WiFi\"},{\"childCategory\":false,\"count\":2403,\"highlighted\":false,\"leafNode\":false,\"parentCategory\":false,\"resource\":{\"params\":\"facets.features%5B%5D=HD+Recording\",\"selected\":false},\"selectedCount\":0,\"title\":\"HD Recording\"},{\"childCategory\":false,\"count\":1539,\"highlighted\":false,\"leafNode\":false,\"parentCategory\":false,\"resource\":{\"params\":\"facets.features%5B%5D=Music+Player\",\"selected\":false},\"selectedCount\":0,\"title\":\"Music Player\"},{\"childCategory\":false,\"count\":639,\"highlighted\":false,\"leafNode\":false,\"parentCategory\":false,\"resource\":{\"params\":\"facets.features%5B%5D=NFC\",\"selected\":false},\"selectedCount\":0,\"title\":\"NFC\"},{\"childCategory\":false,\"count\":95,\"highlighted\":false,\"leafNode\":false,\"parentCategory\":false,\"resource\":{\"params\":\"facets.features%5B%5D=Bluetooth\",\"selected\":false},\"selectedCount\":0,\"title\":\"Bluetooth\"},{\"childCategory\":false,\"count\":55,\"highlighted\":false,\"leafNode\":false,\"parentCategory\":false,\"resource\":{\"params\":\"facets.features%5B%5D=USB\",\"selected\":false},\"selectedCount\":0,\"title\":\"USB\"},{\"childCategory\":false,\"count\":39,\"highlighted\":false,\"leafNode\":false,\"parentCategory\":false,\"resource\":{\"params\":\"facets.features%5B%5D=GPRS\",\"selected\":false},\"selectedCount\":0,\"title\":\"GPRS\"}]}]},{\"type\":\"scrollableView\",\"id\":\"number_of_cores\",\"metadata\":{\"showCount\":false,\"subtext\":\"\",\"facetCountThreshold\":30,\"nested\":false},\"title\":\"Number of Cores\",\"values\":[{\"type\":\"checkbox\",\"id\":\"alphabetical\",\"values\":[{\"childCategory\":false,\"count\":378,\"highlighted\":false,\"leafNode\":false,\"parentCategory\":false,\"resource\":{\"params\":\"facets.number_of_cores%5B%5D=Dual+Core\",\"selected\":false},\"selectedCount\":0,\"title\":\"Dual Core\"},{\"childCategory\":false,\"count\":24,\"highlighted\":false,\"leafNode\":false,\"parentCategory\":false,\"resource\":{\"params\":\"facets.number_of_cores%5B%5D=Hexa+Core\",\"selected\":false},\"selectedCount\":0,\"title\":\"Hexa Core\"},{\"childCategory\":false,\"count\":1806,\"highlighted\":false,\"leafNode\":false,\"parentCategory\":false,\"resource\":{\"params\":\"facets.number_of_cores%5B%5D=Octa+Core\",\"selected\":false},\"selectedCount\":0,\"title\":\"Octa Core\"},{\"childCategory\":false,\"count\":2354,\"highlighted\":false,\"leafNode\":false,\"parentCategory\":false,\"resource\":{\"params\":\"facets.number_of_cores%5B%5D=Quad+Core\",\"selected\":false},\"selectedCount\":0,\"title\":\"Quad Core\"},{\"childCategory\":false,\"count\":302,\"highlighted\":false,\"leafNode\":false,\"parentCategory\":false,\"resource\":{\"params\":\"facets.number_of_cores%5B%5D=Single+Core\",\"selected\":false},\"selectedCount\":0,\"title\":\"Single Core\"}]}]},{\"type\":\"scrollableView\",\"id\":\"budget\",\"metadata\":{\"multiselect\":\"true\",\"showCount\":false,\"subtext\":\"\",\"prefix\":\"\\xe2\\x82\\xb9\",\"noFilter\":true,\"facetCountThreshold\":30,\"nested\":false},\"title\":\"Budget\",\"values\":[{\"type\":\"checkbox\",\"id\":\"first-numeric\",\"values\":[{\"childCategory\":false,\"count\":8,\"highlighted\":false,\"leafNode\":false,\"parentCategory\":false,\"resource\":{\"params\":\"facets.budget%5B%5D=Rs.+5000+and+below\",\"selected\":false},\"selectedCount\":0,\"title\":\"Rs. 5000 and below\"},{\"childCategory\":false,\"count\":8,\"highlighted\":false,\"leafNode\":false,\"parentCategory\":false,\"resource\":{\"params\":\"facets.budget%5B%5D=Rs.+5000+to+Rs.+9999\",\"selected\":false},\"selectedCount\":0,\"title\":\"Rs. 5000 to Rs. 9999\"},{\"childCategory\":false,\"count\":8,\"highlighted\":false,\"leafNode\":false,\"parentCategory\":false,\"resource\":{\"params\":\"facets.budget%5B%5D=Rs.+10000+to+Rs.+14999\",\"selected\":false},\"selectedCount\":0,\"title\":\"Rs. 10000 to Rs. 14999\"},{\"childCategory\":false,\"count\":8,\"highlighted\":false,\"leafNode\":false,\"parentCategory\":false,\"resource\":{\"params\":\"facets.budget%5B%5D=Rs.+15000+to+Rs.+29999\",\"selected\":false},\"selectedCount\":0,\"title\":\"Rs. 15000 to Rs. 29999\"},{\"childCategory\":false,\"count\":7,\"highlighted\":false,\"leafNode\":false,\"parentCategory\":false,\"resource\":{\"params\":\"facets.budget%5B%5D=Rs.+30000+and+above\",\"selected\":false},\"selectedCount\":0,\"title\":\"Rs. 30000 and above\"}]}]}],\"filtersApplied\":{\"filterCount\":0},\"parentMetaInfoList\":[{\"id\":\"tyy\",\"title\":\"Mobiles & Accessories\",\"totalProduct\":0,\"uri\":\"/mobiles-accessories/pr?sid=tyy\"},{\"id\":\"tyy/4io\",\"title\":\"Mobiles\",\"totalProduct\":0,\"uri\":\"/mobiles/pr?sid=tyy,4io\",\"child\":[]}]}},\"store\":\"tyy/4io\"}}},{\"slotType\":\"WIDGET\",\"id\":3,\"parentId\":10002,\"layoutParams\":{\"orientation\":\"\",\"widgetHeight\":300,\"widgetWidth\":12},\"dataId\":\"-487727923\",\"elementId\":\"3-BUYING_GUIDE_ANNOUNCEMENT\",\"hasWidgetDataChanged\":true,\"ttl\":3000,\"widget\":{\"type\":\"BUYING_GUIDE_ANNOUNCEMENT\",\"data\":{\"renderableComponents\":[{\"action\":{\"constraints\":null,\"fallback\":null,\"loginType\":\"LOGIN_NOT_REQUIRED\",\"omnitureData\":null,\"originalUrl\":\"/buying-guide/mobiles?sid=tyy,4io\",\"params\":{\"screenName\":\"clp\",\"store\":\"tyy,4io\",\"url\":\"http://www.flipkart.com/buying-guide/mobiles?sid=tyy,4io\"},\"screenType\":\"multiWidgetPage\",\"tracking\":{},\"type\":\"NAVIGATION\",\"url\":\"/buying-guide/mobiles?sid=tyy,4io\"},\"metaData\":null,\"tracking\":null,\"trackingData\":null,\"value\":{\"type\":\"AnnouncementValue\",\"subTitle\":\"Go To\",\"title\":\"Mobiles buying guide\"}}]}}}],\"10003\":[{\"slotType\":\"LOGICAL\",\"id\":10004,\"parentId\":10003,\"layoutParams\":{\"alignItems\":\"flex-end\",\"backgroundColor\":\"#ffffff\",\"orientation\":\"\",\"widgetHeight\":150,\"widgetWidth\":12},\"childArrangement\":\"ADJACENT\"},{\"slotType\":\"WIDGET\",\"id\":6001000,\"parentId\":10003,\"layoutParams\":{\"orientation\":\"\",\"widgetHeight\":150,\"widgetWidth\":12},\"dataId\":\"-206231905\",\"elementId\":\"6001000-PRODUCT_SUMMARY\",\"hasWidgetDataChanged\":true,\"ttl\":3000,\"widget\":{\"type\":\"PRODUCT_SUMMARY\",\"viewType\":\"LIST_LARGE\",\"data\":{\"maxCardCount\":1,\"products\":[{\"addToWishlist\":{\"action\":{\"constraints\":null,\"fallback\":null,\"loginType\":\"LOGIN_NOT_REQUIRED\",\"omnitureData\":null,\"originalUrl\":null,\"params\":{\"valid\":true,\"productId\":\"MOBFNG3GNW3BU2XE\"},\"screenType\":\"multiWidgetPage\",\"tracking\":{},\"type\":\"WISHLIST_ADD\",\"url\":null},\"metaData\":null,\"tracking\":null,\"trackingData\":null,\"value\":{\"type\":\"ProductActionValue\",\"actionType\":\"ADD_TO_WISHLIST\",\"enabled\":true}},\"productInfo\":{\"action\":{\"constraints\":null,\"fallback\":null,\"loginType\":\"LOGIN_NOT_REQUIRED\",\"omnitureData\":\"deep_linking\",\"originalUrl\":null,\"params\":{\"valid\":true,\"productId\":\"MOBFNG3GNW3BU2XE\",\"marketplace\":\"FLIPKART\",\"screenName\":\"PRODUCT_PAGE\",\"listingId\":\"LSTMOBFNG3GNW3BU2XERAL9TG\",\"pids\":[\"MOBFNG3GNW3BU2XE\"],\"loadingStateKey\":\"LoadingStateDefaultNew\",\"lids\":[\"LSTMOBFNG3GNW3BU2XERAL9TG\"]},\"screenType\":\"productPage\",\"tracking\":{\"impressionId\":\"ca2a97c1-5bf3-41f3-b761-d5131d72f603.MOBFNG3GNW3BU2XE.SEARCH\",\"prop64\":\"SS_ncemi:exco\",\"position\":\"1\",\"contentType\":\"productCard\",\"contextType\":\"widget\"},\"type\":\"NAVIGATION\",\"url\":\"/realme-5i-forest-green-64-gb/p/itmdac0da867a9fa?pid=MOBFNG3GNW3BU2XE&lid=LSTMOBFNG3GNW3BU2XERAL9TG&marketplace=FLIPKART\"},\"metaData\":null,\"tracking\":{\"impressionId\":\"ca2a97c1-5bf3-41f3-b761-d5131d72f603.MOBFNG3GNW3BU2XE.SEARCH\",\"prop64\":\"SS_ncemi:exco\",\"position\":\"1\",\"contentType\":\"productCard\",\"contextType\":\"widget\"},\"trackingData\":null,\"value\":{\"type\":\"ProductSummaryValue\",\"analyticsData\":{\"category\":\"Mobile\",\"subCategory\":\"Handset\",\"superCategory\":\"Mobile\",\"vertical\":\"Handset\"},\"availability\":{\"MessageIntent\":\"positive\",\"displayState\":\"IN_STOCK\",\"intent\":\"positive\",\"showMessage\":false},\"baseUrl\":\"/realme-5i-forest-green-64-gb/p/itmdac0da867a9fa?pid=MOBFNG3GNW3BU2XE\",\"buyability\":{\"intent\":\"positive\",\"message\":null,\"showMessage\":false},\"conditionCallout\":false,\"flags\":{\"enableChat\":true,\"enableCompare\":true,\"enableFlipkartAdvantage\":true,\"enableOfferTag\":true,\"enableVisualDiscovery\":false,\"enableWishlist\":true,\"showSecondaryTitle\":true,\"swatchAvailableOnBrowsePage\":true},\"grade\":{\"color\":null,\"id\":null,\"name\":null,\"shortDesc\":null},\"id\":\"MOBFNG3GNW3BU2XE\",\"itemId\":\"ITMDAC0DA867A9FA\",\"keySpecs\":[\"4 GB RAM | 64 GB ROM |\",\"16.56 cm (6.52 inch) HD+ Display\",\"12MP + 8MP + 2MP + 2MP | 8MP Front Camera\",\"5000 mAh Battery\",\"Qualcomm Snapdragon 665 2 GHz Processor\",\"Sunrise Design\",\"Reverse Charging\"],\"listingId\":\"LSTMOBFNG3GNW3BU2XERAL9TG\",\"media\":{\"images\":[{\"aspectRatio\":null,\"contentInfo\":null,\"height\":null,\"url\":\"http://rukmini1.flixcart.com/image/{@width}/{@height}/k51cpe80/mobile/2/x/e/realme-5i-rmx2030-original-imafnsx5bj4yqhas.jpeg?q={@quality}\",\"width\":null},{\"aspectRatio\":null,\"contentInfo\":null,\"height\":null,\"url\":\"http://rukmini1.flixcart.com/image/{@width}/{@height}/k572gsw0/mobile/2/x/e/realme-5i-rmx2030-original-imafnu45yjymghwj.jpeg?q={@quality}\",\"width\":null},{\"aspectRatio\":null,\"contentInfo\":null,\"height\":null,\"url\":\"http://rukmini1.flixcart.com/image/{@width}/{@height}/k51cpe80/mobile/2/x/e/realme-5i-rmx2030-original-imafnsx5kbyhjpnt.jpeg?q={@quality}\",\"width\":null},{\"aspectRatio\":null,\"contentInfo\":null,\"height\":null,\"url\":\"http://rukmini1.flixcart.com/image/{@width}/{@height}/k51cpe80/mobile/2/x/e/realme-5i-rmx2030-original-imafnsx5mfgeudbh.jpeg?q={@quality}\",\"width\":null},{\"aspectRatio\":null,\"contentInfo\":null,\"height\":null,\"url\":\"http://rukmini1.flixcart.com/image/{@width}/{@height}/k51cpe80/mobile/2/x/e/realme-5i-rmx2030-original-imafnsx6ekfqyq7v.jpeg?q={@quality}\",\"width\":null},{\"aspectRatio\":null,\"contentInfo\":null,\"height\":null,\"url\":\"http://rukmini1.flixcart.com/image/{@width}/{@height}/k51cpe80/mobile/2/x/e/realme-5i-rmx2030-original-imafnsx5tm8tehvc.jpeg?q={@quality}\",\"width\":null},{\"aspectRatio\":null,\"contentInfo\":null,\"height\":null,\"url\":\"http://rukmini1.flixcart.com/image/{@width}/{@height}/k51cpe80/mobile/2/x/e/realme-5i-rmx2030-original-imafnsx6zpnkajx2.jpeg?q={@quality}\",\"width\":null},{\"aspectRatio\":null,\"contentInfo\":null,\"height\":null,\"url\":\"http://rukmini1.flixcart.com/image/{@width}/{@height}/k51cpe80/mobile/2/x/e/realme-5i-rmx2030-original-imafnsx52wfqhz5e.jpeg?q={@quality}\",\"width\":null},{\"aspectRatio\":null,\"contentInfo\":null,\"height\":null,\"url\":\"http://rukmini1.flixcart.com/image/{@width}/{@height}/k51cpe80/mobile/2/x/e/realme-5i-rmx2030-original-imafnsx54gwdvqer.jpeg?q={@quality}\",\"width\":null}],\"videos\":[{\"height\":null,\"videoId\":\"c1qxJZia-2k\",\"videoProvider\":\"YOUTUBE\",\"videoType\":\"THUMBNAIL\",\"width\":null}]},\"minKeySpecs\":[\"4 GB RAM | 64 GB Storage\",\"16.56 cm (6.52 inch) HD+ Display\",\"5000 mAh\",\"12MP + 8MP + 2MP + 2MP\",\"8MP Front Camera\"],\"pricing\":{\"type\":\"ListingPriceValue\",\"deliveryCharge\":{\"additionalText\":null,\"currency\":\"INR\",\"decimalValue\":\"0.00\",\"discount\":null,\"downpaymentRate\":0,\"downpaymentRequired\":false,\"name\":\"Delivery Charges\",\"priceType\":null,\"strikeOff\":false,\"value\":0},\"discountAmount\":2000,\"extraDiscount\":null,\"finalPrice\":{\"additionalText\":null,\"currency\":\"INR\",\"decimalValue\":\"8999.00\",\"discount\":null,\"downpaymentRate\":0,\"downpaymentRequired\":false,\"name\":\"Total\",\"priceType\":null,\"strikeOff\":false,\"value\":8999},\"finalSavingsText\":null,\"knowMore\":null,\"mrp\":{\"additionalText\":\"(incl. of all taxes)\",\"currency\":\"INR\",\"decimalValue\":\"10999.00\",\"discount\":null,\"downpaymentRate\":0,\"downpaymentRequired\":false,\"name\":\"Maximum Retail Price\",\"priceType\":null,\"strikeOff\":true,\"value\":10999},\"partPriceInfo\":null,\"plusPriceInfo\":null,\"priceDescriptions\":null,\"pricePerUnit\":null,\"priceTags\":null,\"prices\":[{\"additionalText\":null,\"currency\":\"INR\",\"decimalValue\":\"10999.00\",\"discount\":18,\"downpaymentRate\":0,\"downpaymentRequired\":false,\"name\":\"Selling Price\",\"priceType\":\"FSP\",\"strikeOff\":true,\"value\":10999},{\"additionalText\":null,\"currency\":\"INR\",\"decimalValue\":\"8999.00\",\"discount\":null,\"downpaymentRate\":0,\"downpaymentRequired\":false,\"name\":\"Special Price\",\"priceType\":\"SPECIAL_PRICE\",\"strikeOff\":false,\"value\":8999}],\"showDiscountAsAmount\":false,\"totalDiscount\":18},\"productBrand\":\"Realme\",\"productCardTagDetails\":[{\"image\":{\"type\":\"ImageValue\",\"dynamicImageUrl\":\"https://rukminim1.flixcart.com/www/{@width}/{@height}/promos/21/07/2017/e8625e14-3277-4f16-a4d4-df8ed525905b.png?q={@quality}\",\"height\":0,\"width\":0},\"tagDetails\":null,\"type\":\"F_ASSURED\"}],\"rating\":{\"type\":\"RatingValue\",\"average\":4.5,\"base\":5,\"breakup\":[818,364,1238,3965,15381],\"count\":21766,\"histogramBaseCount\":15381,\"reviewCount\":1870},\"smartUrl\":\"http://dl.flipkart.com/dl/realme-5i-forest-green-64-gb/p/itmdac0da867a9fa?pid=MOBFNG3GNW3BU2XE\",\"tags\":[\"Exchange Offer\"],\"titles\":{\"subtitle\":\"4 GB RAM\",\"title\":\"Realme 5i (Forest Green, 64 GB)\"},\"vertical\":\"mobile\",\"warrantySummary\":\"Brand Warranty of 1 Year Available for Mobile and 6 Months for Accessories\"}},\"snippets\":[{\"type\":\"FormattedMessageValue\",\"data\":[{\"type\":\"FormattedRichTextData\",\"value\":{\"type\":\"RichTextValue\",\"style\":{\"color\":\"#000000\",\"fontSize\":14,\"fontStyle\":\"normal\",\"fontWeight\":\"normal\"},\"text\":\"No Cost EMI\"}}]},{\"type\":\"FormattedMessageValue\",\"data\":[{\"type\":\"FormattedRichTextData\",\"value\":{\"type\":\"RichTextValue\",\"style\":{\"color\":\"#000000\",\"fontSize\":14,\"fontStyle\":\"normal\",\"fontWeight\":\"normal\"},\"text\":\"Upto \"}},{\"type\":\"FormattedRichTextData\",\"value\":{\"type\":\"RichTextValue\",\"style\":{\"color\":\"#000000\",\"fontSize\":14,\"fontStyle\":\"normal\",\"fontWeight\":\"bold\"},\"text\":\"\\xe2\\x82\\xb98,850\"}},{\"type\":\"FormattedRichTextData\",\"value\":{\"type\":\"RichTextValue\",\"style\":{\"color\":\"#000000\",\"fontSize\":14,\"fontStyle\":\"normal\",\"fontWeight\":\"normal\"},\"text\":\" Off on Exchange\"}}]}]}]}}},{\"slotType\":\"WIDGET\",\"id\":6001001,\"parentId\":10003,\"layoutParams\":{\"orientation\":\"\",\"widgetHeight\":150,\"widgetWidth\":12},\"dataId\":\"-184430952\",\"elementId\":\"6001001-PRODUCT_SUMMARY\",\"hasWidgetDataChanged\":true,\"ttl\":3000,\"widget\":{\"type\":\"PRODUCT_SUMMARY\",\"viewType\":\"LIST_LARGE\",\"data\":{\"maxCardCount\":1,\"products\":[{\"addToWishlist\":{\"action\":{\"constraints\":null,\"fallback\":null,\"loginType\":\"LOGIN_NOT_REQUIRED\",\"omnitureData\":null,\"originalUrl\":null,\"params\":{\"valid\":true,\"productId\":\"MOBFNG3GZXCV63BE\"},\"screenType\":\"multiWidgetPage\",\"tracking\":{},\"type\":\"WISHLIST_ADD\",\"url\":null},\"metaData\":null,\"tracking\":null,\"trackingData\":null,\"value\":{\"type\":\"ProductActionValue\",\"actionType\":\"ADD_TO_WISHLIST\",\"enabled\":true}},\"productInfo\":{\"action\":{\"constraints\":null,\"fallback\":null,\"loginType\":\"LOGIN_NOT_REQUIRED\",\"omnitureData\":\"deep_linking\",\"originalUrl\":null,\"params\":{\"valid\":true,\"productId\":\"MOBFNG3GZXCV63BE\",\"marketplace\":\"FLIPKART\",\"screenName\":\"PRODUCT_PAGE\",\"listingId\":\"LSTMOBFNG3GZXCV63BEMPJERT\",\"pids\":[\"MOBFNG3GZXCV63BE\"],\"loadingStateKey\":\"LoadingStateDefaultNew\",\"lids\":[\"LSTMOBFNG3GZXCV63BEMPJERT\"]},\"screenType\":\"productPage\",\"tracking\":{\"impressionId\":\"af2f18bc-ab2e-42a9-9590-0c0f5aa74c83.MOBFNG3GZXCV63BE.SEARCH\",\"prop64\":\"SS_ncemi:exco\",\"position\":\"2\",\"contentType\":\"productCard\",\"contextType\":\"widget\"},\"type\":\"NAVIGATION\",\"url\":\"/realme-5i-aqua-blue-64-gb/p/itmdac0da867a9fa?pid=MOBFNG3GZXCV63BE&lid=LSTMOBFNG3GZXCV63BEMPJERT&marketplace=FLIPKART\"},\"metaData\":null,\"tracking\":{\"impressionId\":\"af2f18bc-ab2e-42a9-9590-0c0f5aa74c83.MOBFNG3GZXCV63BE.SEARCH\",\"prop64\":\"SS_ncemi:exco\",\"position\":\"2\",\"contentType\":\"productCard\",\"contextType\":\"widget\"},\"trackingData\":null,\"value\":{\"type\":\"ProductSummaryValue\",\"analyticsData\":{\"category\":\"Mobile\",\"subCategory\":\"Handset\",\"superCategory\":\"Mobile\",\"vertical\":\"Handset\"},\"availability\":{\"MessageIntent\":\"positive\",\"displayState\":\"IN_STOCK\",\"intent\":\"positive\",\"showMessage\":false},\"baseUrl\":\"/realme-5i-aqua-blue-64-gb/p/itmdac0da867a9fa?pid=MOBFNG3GZXCV63BE\",\"buyability\":{\"intent\":\"positive\",\"message\":null,\"showMessage\":false},\"conditionCallout\":false,\"flags\":{\"enableChat\":true,\"enableCompare\":true,\"enableFlipkartAdvantage\":true,\"enableOfferTag\":true,\"enableVisualDiscovery\":false,\"enableWishlist\":true,\"showSecondaryTitle\":true,\"swatchAvailableOnBrowsePage\":true},\"grade\":{\"color\":null,\"id\":null,\"name\":null,\"shortDesc\":null},\"id\":\"MOBFNG3GZXCV63BE\",\"itemId\":\"ITMDAC0DA867A9FA\",\"keySpecs\":[\"4 GB RAM | 64 GB ROM |\",\"16.56 cm (6.52 inch) HD+ Display\",\"12MP + 8MP + 2MP + 2MP | 8MP Front Camera\",\"5000 mAh Battery\",\"Qualcomm Snapdragon 665 2 GHz Processor\",\"Sunrise Design\",\"Reverse Charging\"],\"listingId\":\"LSTMOBFNG3GZXCV63BEMPJERT\",\"media\":{\"images\":[{\"aspectRatio\":null,\"contentInfo\":null,\"height\":null,\"url\":\"http://rukmini1.flixcart.com/image/{@width}/{@height}/k51cpe80/mobile/3/b/e/realme-5i-rmx2030-original-imafnsx5pakdfdpb.jpeg?q={@quality}\",\"width\":null},{\"aspectRatio\":null,\"contentInfo\":null,\"height\":null,\"url\":\"http://rukmini1.flixcart.com/image/{@width}/{@height}/k52s58w0/mobile/3/b/e/realme-5i-rmx2030-original-imafnu45u2yefqvc.jpeg?q={@quality}\",\"width\":null},{\"aspectRatio\":null,\"contentInfo\":null,\"height\":null,\"url\":\"http://rukmini1.flixcart.com/image/{@width}/{@height}/k51cpe80/mobile/3/b/e/realme-5i-rmx2030-original-imafnsx5b3z6nyyh.jpeg?q={@quality}\",\"width\":null},{\"aspectRatio\":null,\"contentInfo\":null,\"height\":null,\"url\":\"http://rukmini1.flixcart.com/image/{@width}/{@height}/k51cpe80/mobile/3/b/e/realme-5i-rmx2030-original-imafnsx5fthhprgp.jpeg?q={@quality}\",\"width\":null},{\"aspectRatio\":null,\"contentInfo\":null,\"height\":null,\"url\":\"http://rukmini1.flixcart.com/image/{@width}/{@height}/k51cpe80/mobile/3/b/e/realme-5i-rmx2030-original-imafnsx5qszzpthw.jpeg?q={@quality}\",\"width\":null},{\"aspectRatio\":null,\"contentInfo\":null,\"height\":null,\"url\":\"http://rukmini1.flixcart.com/image/{@width}/{@height}/k51cpe80/mobile/3/b/e/realme-5i-rmx2030-original-imafnsx5htsevwcx.jpeg?q={@quality}\",\"width\":null},{\"aspectRatio\":null,\"contentInfo\":null,\"height\":null,\"url\":\"http://rukmini1.flixcart.com/image/{@width}/{@height}/k51cpe80/mobile/3/b/e/realme-5i-rmx2030-original-imafnsx5zs6agyhm.jpeg?q={@quality}\",\"width\":null},{\"aspectRatio\":null,\"contentInfo\":null,\"height\":null,\"url\":\"http://rukmini1.flixcart.com/image/{@width}/{@height}/k51cpe80/mobile/3/b/e/realme-5i-rmx2030-original-imafnsx5zedv98df.jpeg?q={@quality}\",\"width\":null},{\"aspectRatio\":null,\"contentInfo\":null,\"height\":null,\"url\":\"http://rukmini1.flixcart.com/image/{@width}/{@height}/k51cpe80/mobile/3/b/e/realme-5i-rmx2030-original-imafnsx5pxkqzqnd.jpeg?q={@quality}\",\"width\":null}],\"videos\":[{\"height\":null,\"videoId\":\"c1qxJZia-2k\",\"videoProvider\":\"YOUTUBE\",\"videoType\":\"THUMBNAIL\",\"width\":null}]},\"minKeySpecs\":[\"4 GB RAM | 64 GB Storage\",\"16.56 cm (6.52 inch) HD+ Display\",\"5000 mAh\",\"12MP + 8MP + 2MP + 2MP\",\"8MP Front Camera\"],\"pricing\":{\"type\":\"ListingPriceValue\",\"deliveryCharge\":{\"additionalText\":null,\"currency\":\"INR\",\"decimalValue\":\"0.00\",\"discount\":null,\"downpaymentRate\":0,\"downpaymentRequired\":false,\"name\":\"Delivery Charges\",\"priceType\":null,\"strikeOff\":false,\"value\":0},\"discountAmount\":2000,\"extraDiscount\":null,\"finalPrice\":{\"additionalText\":null,\"currency\":\"INR\",\"decimalValue\":\"8999.00\",\"discount\":null,\"downpaymentRate\":0,\"downpaymentRequired\":false,\"name\":\"Total\",\"priceType\":null,\"strikeOff\":false,\"value\":8999},\"finalSavingsText\":null,\"knowMore\":null,\"mrp\":{\"additionalText\":\"(incl. of all taxes)\",\"currency\":\"INR\",\"decimalValue\":\"10999.00\",\"discount\":null,\"downpaymentRate\":0,\"downpaymentRequired\":false,\"name\":\"Maximum Retail Price\",\"priceType\":null,\"strikeOff\":true,\"value\":10999},\"partPriceInfo\":null,\"plusPriceInfo\":null,\"priceDescriptions\":null,\"pricePerUnit\":null,\"priceTags\":null,\"prices\":[{\"additionalText\":null,\"currency\":\"INR\",\"decimalValue\":\"10999.00\",\"discount\":18,\"downpaymentRate\":0,\"downpaymentRequired\":false,\"name\":\"Selling Price\",\"priceType\":\"FSP\",\"strikeOff\":true,\"value\":10999},{\"additionalText\":null,\"currency\":\"INR\",\"decimalValue\":\"8999.00\",\"discount\":null,\"downpaymentRate\":0,\"downpaymentRequired\":false,\"name\":\"Special Price\",\"priceType\":\"SPECIAL_PRICE\",\"strikeOff\":false,\"value\":8999}],\"showDiscountAsAmount\":false,\"totalDiscount\":18},\"productBrand\":\"Realme\",\"productCardTagDetails\":[{\"image\":{\"type\":\"ImageValue\",\"dynamicImageUrl\":\"https://rukminim1.flixcart.com/www/{@width}/{@height}/promos/21/07/2017/e8625e14-3277-4f16-a4d4-df8ed525905b.png?q={@quality}\",\"height\":0,\"width\":0},\"tagDetails\":null,\"type\":\"F_ASSURED\"}],\"rating\":{\"type\":\"RatingValue\",\"average\":4.5,\"base\":5,\"breakup\":[818,364,1238,3965,15381],\"count\":21766,\"histogramBaseCount\":15381,\"reviewCount\":1870},\"smartUrl\":\"http://dl.flipkart.com/dl/realme-5i-aqua-blue-64-gb/p/itmdac0da867a9fa?pid=MOBFNG3GZXCV63BE\",\"tags\":[\"Exchange Offer\"],\"titles\":{\"subtitle\":\"4 GB RAM\",\"title\":\"Realme 5i (Aqua Blue, 64 GB)\"},\"vertical\":\"mobile\",\"warrantySummary\":\"Brand Warranty of 1 Year Available for Mobile and 6 Months for Accessories\"}},\"snippets\":[{\"type\":\"FormattedMessageValue\",\"data\":[{\"type\":\"FormattedRichTextData\",\"value\":{\"type\":\"RichTextValue\",\"style\":{\"color\":\"#000000\",\"fontSize\":14,\"fontStyle\":\"normal\",\"fontWeight\":\"normal\"},\"text\":\"No Cost EMI\"}}]},{\"type\":\"FormattedMessageValue\",\"data\":[{\"type\":\"FormattedRichTextData\",\"value\":{\"type\":\"RichTextValue\",\"style\":{\"color\":\"#000000\",\"fontSize\":14,\"fontStyle\":\"normal\",\"fontWeight\":\"normal\"},\"text\":\"Upto \"}},{\"type\":\"FormattedRichTextData\",\"value\":{\"type\":\"RichTextValue\",\"style\":{\"color\":\"#000000\",\"fontSize\":14,\"fontStyle\":\"normal\",\"fontWeight\":\"bold\"},\"text\":\"\\xe2\\x82\\xb98,850\"}},{\"type\":\"FormattedRichTextData\",\"value\":{\"type\":\"RichTextValue\",\"style\":{\"color\":\"#000000\",\"fontSize\":14,\"fontStyle\":\"normal\",\"fontWeight\":\"normal\"},\"text\":\" Off on Exchange\"}}]}]}]}}},{\"slotType\":\"WIDGET\",\"id\":6001002,\"parentId\":10003,\"layoutParams\":{\"orientation\":\"\",\"widgetHeight\":150,\"widgetWidth\":12},\"dataId\":\"-1821468301\",\"elementId\":\"6001002-PRODUCT_SUMMARY\",\"hasWidgetDataChanged\":true,\"ttl\":3000,\"widget\":{\"type\":\"PRODUCT_SUMMARY\",\"viewType\":\"LIST_LARGE\",\"data\":{\"maxCardCount\":1,\"products\":[{\"addToWishlist\":{\"action\":{\"constraints\":null,\"fallback\":null,\"loginType\":\"LOGIN_NOT_REQUIRED\",\"omnitureData\":null,\"originalUrl\":null,\"params\":{\"valid\":true,\"productId\":\"MOBFKPYDENDXZZ7U\"},\"screenType\":\"multiWidgetPage\",\"tracking\":{},\"type\":\"WISHLIST_ADD\",\"url\":null},\"metaData\":null,\"tracking\":null,\"trackingData\":null,\"value\":{\"type\":\"ProductActionValue\",\"actionType\":\"ADD_TO_WISHLIST\",\"enabled\":true}},\"productInfo\":{\"action\":{\"constraints\":null,\"fallback\":null,\"loginType\":\"LOGIN_NOT_REQUIRED\",\"omnitureData\":\"deep_linking\",\"originalUrl\":null,\"params\":{\"valid\":true,\"productId\":\"MOBFKPYDENDXZZ7U\",\"marketplace\":\"FLIPKART\",\"screenName\":\"PRODUCT_PAGE\",\"listingId\":\"LSTMOBFKPYDENDXZZ7U5KFCKA\",\"pids\":[\"MOBFKPYDENDXZZ7U\"],\"loadingStateKey\":\"LoadingStateDefaultNew\",\"lids\":[\"LSTMOBFKPYDENDXZZ7U5KFCKA\"]},\"screenType\":\"productPage\",\"tracking\":{\"impressionId\":\"df4b0fa5-af8b-4e25-bd21-a054f0050258.MOBFKPYDENDXZZ7U.SEARCH\",\"prop64\":\"SS_ncemi:exco\",\"position\":\"3\",\"contentType\":\"productCard\",\"contextType\":\"widget\"},\"type\":\"NAVIGATION\",\"url\":\"/redmi-8-sapphire-blue-64-gb/p/itme9614ba9b9bda?pid=MOBFKPYDENDXZZ7U&lid=LSTMOBFKPYDENDXZZ7U5KFCKA&marketplace=FLIPKART\"},\"metaData\":null,\"tracking\":{\"impressionId\":\"df4b0fa5-af8b-4e25-bd21-a054f0050258.MOBFKPYDENDXZZ7U.SEARCH\",\"prop64\":\"SS_ncemi:exco\",\"position\":\"3\",\"contentType\":\"productCard\",\"contextType\":\"widget\"},\"trackingData\":null,\"value\":{\"type\":\"ProductSummaryValue\",\"analyticsData\":{\"category\":\"Mobile\",\"subCategory\":\"Handset\",\"superCategory\":\"Mobile\",\"vertical\":\"Handset\"},\"availability\":{\"MessageIntent\":\"positive\",\"displayState\":\"IN_STOCK\",\"intent\":\"positive\",\"showMessage\":false},\"baseUrl\":\"/redmi-8-sapphire-blue-64-gb/p/itme9614ba9b9bda?pid=MOBFKPYDENDXZZ7U\",\"buyability\":{\"intent\":\"positive\",\"message\":null,\"showMessage\":false},\"conditionCallout\":false,\"exclusiveTag\":\"#JustHere\",\"flags\":{\"enableChat\":true,\"enableCompare\":true,\"enableFlipkartAdvantage\":true,\"enableOfferTag\":true,\"enableVisualDiscovery\":false,\"enableWishlist\":true,\"showSecondaryTitle\":true,\"swatchAvailableOnBrowsePage\":true},\"grade\":{\"color\":null,\"id\":null,\"name\":null,\"shortDesc\":null},\"id\":\"MOBFKPYDENDXZZ7U\",\"itemId\":\"ITME9614BA9B9BDA\",\"keySpecs\":[\"4 GB RAM | 64 GB ROM | Expandable Upto 512 GB\",\"15.8 cm (6.22 inch) HD+ Display\",\"12MP + 2MP | 8MP Front Camera\",\"5000 mAh Battery\",\"Qualcomm Snapdragon 439 Processor\"],\"listingId\":\"LSTMOBFKPYDENDXZZ7U5KFCKA\",\"media\":{\"images\":[{\"aspectRatio\":null,\"contentInfo\":null,\"height\":null,\"url\":\"http://rukmini1.flixcart.com/image/{@width}/{@height}/k1fbmvk0/mobile/g/y/q/mi-redmi-8-mzb8253in-original-imafhyacjwjwxmsx.jpeg?q={@quality}\",\"width\":null},{\"aspectRatio\":null,\"contentInfo\":null,\"height\":null,\"url\":\"http://rukmini1.flixcart.com/image/{@width}/{@height}/k1l1ea80/mobile/g/y/q/mi-redmi-8-mzb8253in-original-imafh23tht7qd2gt.jpeg?q={@quality}\",\"width\":null},{\"aspectRatio\":null,\"contentInfo\":null,\"height\":null,\"url\":\"http://rukmini1.flixcart.com/image/{@width}/{@height}/k1fbmvk0/mobile/g/y/q/mi-redmi-8-mzb8253in-original-imafhyacjhwhhpqf.jpeg?q={@quality}\",\"width\":null},{\"aspectRatio\":null,\"contentInfo\":null,\"height\":null,\"url\":\"http://rukmini1.flixcart.com/image/{@width}/{@height}/k1l1ea80/mobile/g/y/q/mi-redmi-8-mzb8253in-original-imafh23tdfuv6zjt.jpeg?q={@quality}\",\"width\":null},{\"aspectRatio\":null,\"contentInfo\":null,\"height\":null,\"url\":\"http://rukmini1.flixcart.com/image/{@width}/{@height}/k1l1ea80/mobile/g/y/q/mi-redmi-8-mzb8253in-original-imafh23tzxmqz2tn.jpeg?q={@quality}\",\"width\":null},{\"aspectRatio\":null,\"contentInfo\":null,\"height\":null,\"url\":\"http://rukmini1.flixcart.com/image/{@width}/{@height}/k1l1ea80/mobile/g/y/q/mi-redmi-8-mzb8253in-original-imafh23t5hqtukch.jpeg?q={@quality}\",\"width\":null},{\"aspectRatio\":null,\"contentInfo\":null,\"height\":null,\"url\":\"http://rukmini1.flixcart.com/image/{@width}/{@height}/k1l1ea80/mobile/g/y/q/mi-redmi-8-mzb8253in-original-imafh23tp69cqkyz.jpeg?q={@quality}\",\"width\":null},{\"aspectRatio\":null,\"contentInfo\":null,\"height\":null,\"url\":\"http://rukmini1.flixcart.com/image/{@width}/{@height}/k1fbmvk0/mobile/g/y/q/mi-redmi-8-mzb8253in-original-imafhyacubegqtft.jpeg?q={@quality}\",\"width\":null},{\"aspectRatio\":null,\"contentInfo\":null,\"height\":null,\"url\":\"http://rukmini1.flixcart.com/image/{@width}/{@height}/k1fbmvk0/mobile/g/y/q/mi-redmi-8-mzb8253in-original-imafhyacrzmtuczu.jpeg?q={@quality}\",\"width\":null}],\"videos\":[{\"height\":null,\"videoId\":\"SNp1C7910iA\",\"videoProvider\":\"YOUTUBE\",\"videoType\":\"THUMBNAIL\",\"width\":null}]},\"minKeySpecs\":[\"4 GB RAM | 64 GB Storage\",\"15.8 cm (6.22 inch) HD+ Display\",\"5000 mAh\",\"12MP + 2MP\",\"8MP Front Camera\"],\"pricing\":{\"type\":\"ListingPriceValue\",\"deliveryCharge\":{\"additionalText\":null,\"currency\":\"INR\",\"decimalValue\":\"0.00\",\"discount\":null,\"downpaymentRate\":0,\"downpaymentRequired\":false,\"name\":\"Delivery Charges\",\"priceType\":null,\"strikeOff\":false,\"value\":0},\"discountAmount\":3000,\"extraDiscount\":null,\"finalPrice\":{\"additionalText\":null,\"currency\":\"INR\",\"decimalValue\":\"7999.00\",\"discount\":null,\"downpaymentRate\":0,\"downpaymentRequired\":false,\"name\":\"Total\",\"priceType\":null,\"strikeOff\":false,\"value\":7999},\"finalSavingsText\":null,\"knowMore\":null,\"mrp\":{\"additionalText\":\"(incl. of all taxes)\",\"currency\":\"INR\",\"decimalValue\":\"10999.00\",\"discount\":null,\"downpaymentRate\":0,\"downpaymentRequired\":false,\"name\":\"Maximum Retail Price\",\"priceType\":null,\"strikeOff\":true,\"value\":10999},\"partPriceInfo\":null,\"plusPriceInfo\":null,\"priceDescriptions\":null,\"pricePerUnit\":null,\"priceTags\":null,\"prices\":[{\"additionalText\":null,\"currency\":\"INR\",\"decimalValue\":\"10999.00\",\"discount\":27,\"downpaymentRate\":0,\"downpaymentRequired\":false,\"name\":\"Selling Price\",\"priceType\":\"FSP\",\"strikeOff\":true,\"value\":10999},{\"additionalText\":null,\"currency\":\"INR\",\"decimalValue\":\"7999.00\",\"discount\":null,\"downpaymentRate\":0,\"downpaymentRequired\":false,\"name\":\"Special Price\",\"priceType\":\"SPECIAL_PRICE\",\"strikeOff\":false,\"value\":7999}],\"showDiscountAsAmount\":false,\"totalDiscount\":27},\"productBrand\":\"Mi\",\"productCardTagDetails\":[{\"image\":{\"type\":\"ImageValue\",\"dynamicImageUrl\":\"https://rukminim1.flixcart.com/www/{@width}/{@height}/promos/21/07/2017/e8625e14-3277-4f16-a4d4-df8ed525905b.png?q={@quality}\",\"height\":0,\"width\":0},\"tagDetails\":null,\"type\":\"F_ASSURED\"}],\"rating\":{\"type\":\"RatingValue\",\"average\":4.4,\"base\":5,\"breakup\":[13747,6451,19627,63561,205562],\"count\":308948,\"histogramBaseCount\":205562,\"reviewCount\":27494},\"smartUrl\":\"http://dl.flipkart.com/dl/redmi-8-sapphire-blue-64-gb/p/itme9614ba9b9bda?pid=MOBFKPYDENDXZZ7U\",\"tags\":[\"Exchange Offer\"],\"titles\":{\"subtitle\":\"4 GB RAM\",\"title\":\"Redmi 8 (Sapphire Blue, 64 GB)\"},\"vertical\":\"mobile\",\"warrantySummary\":\"Brand Warranty of 1 Year Available for Mobile and 6 Months for Accessories\"}},\"snippets\":[{\"type\":\"FormattedMessageValue\",\"data\":[{\"type\":\"FormattedRichTextData\",\"value\":{\"type\":\"RichTextValue\",\"style\":{\"color\":\"#000000\",\"fontSize\":14,\"fontStyle\":\"normal\",\"fontWeight\":\"normal\"},\"text\":\"No Cost EMI\"}}]},{\"type\":\"FormattedMessageValue\",\"data\":[{\"type\":\"FormattedRichTextData\",\"value\":{\"type\":\"RichTextValue\",\"style\":{\"color\":\"#000000\",\"fontSize\":14,\"fontStyle\":\"normal\",\"fontWeight\":\"normal\"},\"text\":\"Upto \"}},{\"type\":\"FormattedRichTextData\",\"value\":{\"type\":\"RichTextValue\",\"style\":{\"color\":\"#000000\",\"fontSize\":14,\"fontStyle\":\"normal\",\"fontWeight\":\"bold\"},\"text\":\"\\xe2\\x82\\xb97,950\"}},{\"type\":\"FormattedRichTextData\",\"value\":{\"type\":\"RichTextValue\",\"style\":{\"color\":\"#000000\",\"fontSize\":14,\"fontStyle\":\"normal\",\"fontWeight\":\"normal\"},\"text\":\" Off on Exchange\"}}]}]}]}}},{\"slotType\":\"WIDGET\",\"id\":6001003,\"parentId\":10003,\"layoutParams\":{\"orientation\":\"\",\"widgetHeight\":150,\"widgetWidth\":12},\"dataId\":\"-449137207\",\"elementId\":\"6001003-PRODUCT_SUMMARY\",\"hasWidgetDataChanged\":true,\"ttl\":3000,\"widget\":{\"type\":\"PRODUCT_SUMMARY\",\"viewType\":\"LIST_LARGE\",\"data\":{\"maxCardCount\":1,\"products\":[{\"addToWishlist\":{\"action\":{\"constraints\":null,\"fallback\":null,\"loginType\":\"LOGIN_NOT_REQUIRED\",\"omnitureData\":null,\"originalUrl\":null,\"params\":{\"valid\":true,\"productId\":\"MOBFKPYDZJQHGJXA\"},\"screenType\":\"multiWidgetPage\",\"tracking\":{},\"type\":\"WISHLIST_ADD\",\"url\":null},\"metaData\":null,\"tracking\":null,\"trackingData\":null,\"value\":{\"type\":\"ProductActionValue\",\"actionType\":\"ADD_TO_WISHLIST\",\"enabled\":true}},\"productInfo\":{\"action\":{\"constraints\":null,\"fallback\":null,\"loginType\":\"LOGIN_NOT_REQUIRED\",\"omnitureData\":\"deep_linking\",\"originalUrl\":null,\"params\":{\"valid\":true,\"productId\":\"MOBFKPYDZJQHGJXA\",\"marketplace\":\"FLIPKART\",\"screenName\":\"PRODUCT_PAGE\",\"listingId\":\"LSTMOBFKPYDZJQHGJXA5X8Q5G\",\"pids\":[\"MOBFKPYDZJQHGJXA\"],\"loadingStateKey\":\"LoadingStateDefaultNew\",\"lids\":[\"LSTMOBFKPYDZJQHGJXA5X8Q5G\"]},\"screenType\":\"productPage\",\"tracking\":{\"impressionId\":\"8850c621-ebaf-4ffa-9319-6a59a48a766a.MOBFKPYDZJQHGJXA.SEARCH\",\"prop64\":\"SS_ncemi:exco\",\"position\":\"4\",\"contentType\":\"productCard\",\"contextType\":\"widget\"},\"type\":\"NAVIGATION\",\"url\":\"/redmi-8-onyx-black-64-gb/p/itmaf669d074ff27?pid=MOBFKPYDZJQHGJXA&lid=LSTMOBFKPYDZJQHGJXA5X8Q5G&marketplace=FLIPKART\"},\"metaData\":null,\"tracking\":{\"impressionId\":\"8850c621-ebaf-4ffa-9319-6a59a48a766a.MOBFKPYDZJQHGJXA.SEARCH\",\"prop64\":\"SS_ncemi:exco\",\"position\":\"4\",\"contentType\":\"productCard\",\"contextType\":\"widget\"},\"trackingData\":null,\"value\":{\"type\":\"ProductSummaryValue\",\"analyticsData\":{\"category\":\"Mobile\",\"subCategory\":\"Handset\",\"superCategory\":\"Mobile\",\"vertical\":\"Handset\"},\"availability\":{\"MessageIntent\":\"positive\",\"displayState\":\"IN_STOCK\",\"intent\":\"positive\",\"showMessage\":false},\"baseUrl\":\"/redmi-8-onyx-black-64-gb/p/itmaf669d074ff27?pid=MOBFKPYDZJQHGJXA\",\"buyability\":{\"intent\":\"positive\",\"message\":null,\"showMessage\":false},\"conditionCallout\":false,\"exclusiveTag\":\"#JustHere\",\"flags\":{\"enableChat\":true,\"enableCompare\":true,\"enableFlipkartAdvantage\":true,\"enableOfferTag\":true,\"enableVisualDiscovery\":false,\"enableWishlist\":true,\"showSecondaryTitle\":true,\"swatchAvailableOnBrowsePage\":true},\"grade\":{\"color\":null,\"id\":null,\"name\":null,\"shortDesc\":null},\"id\":\"MOBFKPYDZJQHGJXA\",\"itemId\":\"ITMAF669D074FF27\",\"keySpecs\":[\"4 GB RAM | 64 GB ROM | Expandable Upto 512 GB\",\"15.8 cm (6.22 inch) HD+ Display\",\"12MP + 2MP | 8MP Front Camera\",\"5000 mAh Battery\",\"Qualcomm Snapdragon 439 Processor\"],\"listingId\":\"LSTMOBFKPYDZJQHGJXA5X8Q5G\",\"media\":{\"images\":[{\"aspectRatio\":null,\"contentInfo\":null,\"height\":null,\"url\":\"http://rukmini1.flixcart.com/image/{@width}/{@height}/k1fbmvk0/mobile/k/b/e/mi-redmi-8-mzb8250in-original-imafhyabpggagngr.jpeg?q={@quality}\",\"width\":null},{\"aspectRatio\":null,\"contentInfo\":null,\"height\":null,\"url\":\"http://rukmini1.flixcart.com/image/{@width}/{@height}/k1l1ea80/mobile/k/b/e/mi-redmi-8-mzb8250in-original-imafh23tshazfms4.jpeg?q={@quality}\",\"width\":null},{\"aspectRatio\":null,\"contentInfo\":null,\"height\":null,\"url\":\"http://rukmini1.flixcart.com/image/{@width}/{@height}/k1fbmvk0/mobile/k/b/e/mi-redmi-8-mzb8250in-original-imafhyaccfdmhfdq.jpeg?q={@quality}\",\"width\":null},{\"aspectRatio\":null,\"contentInfo\":null,\"height\":null,\"url\":\"http://rukmini1.flixcart.com/image/{@width}/{@height}/k1i6ikw0/mobile/j/x/a/mi-redmi-8-mzb8254in-original-imafh23ush7m566a.jpeg?q={@quality}\",\"width\":null},{\"aspectRatio\":null,\"contentInfo\":null,\"height\":null,\"url\":\"http://rukmini1.flixcart.com/image/{@width}/{@height}/k1l1ea80/mobile/k/b/e/mi-redmi-8-mzb8250in-original-imafh23uguztgdm7.jpeg?q={@quality}\",\"width\":null},{\"aspectRatio\":null,\"contentInfo\":null,\"height\":null,\"url\":\"http://rukmini1.flixcart.com/image/{@width}/{@height}/k1l1ea80/mobile/k/b/e/mi-redmi-8-mzb8250in-original-imafh23udtmyqpdj.jpeg?q={@quality}\",\"width\":null},{\"aspectRatio\":null,\"contentInfo\":null,\"height\":null,\"url\":\"http://rukmini1.flixcart.com/image/{@width}/{@height}/k1fbmvk0/mobile/k/b/e/mi-redmi-8-mzb8250in-original-imafhyacnzpg5wwp.jpeg?q={@quality}\",\"width\":null},{\"aspectRatio\":null,\"contentInfo\":null,\"height\":null,\"url\":\"http://rukmini1.flixcart.com/image/{@width}/{@height}/k1fbmvk0/mobile/k/b/e/mi-redmi-8-mzb8250in-original-imafhyachk5mazru.jpeg?q={@quality}\",\"width\":null}],\"videos\":[{\"height\":null,\"videoId\":\"SNp1C7910iA\",\"videoProvider\":\"YOUTUBE\",\"videoType\":\"THUMBNAIL\",\"width\":null}]},\"minKeySpecs\":[\"4 GB RAM | 64 GB Storage\",\"15.8 cm (6.22 inch) HD+ Display\",\"5000 mAh\",\"12MP + 2MP\",\"8MP Front Camera\"],\"pricing\":{\"type\":\"ListingPriceValue\",\"deliveryCharge\":{\"additionalText\":null,\"currency\":\"INR\",\"decimalValue\":\"0.00\",\"discount\":null,\"downpaymentRate\":0,\"downpaymentRequired\":false,\"name\":\"Delivery Charges\",\"priceType\":null,\"strikeOff\":false,\"value\":0},\"discountAmount\":3000,\"extraDiscount\":null,\"finalPrice\":{\"additionalText\":null,\"currency\":\"INR\",\"decimalValue\":\"7999.00\",\"discount\":null,\"downpaymentRate\":0,\"downpaymentRequired\":false,\"name\":\"Total\",\"priceType\":null,\"strikeOff\":false,\"value\":7999},\"finalSavingsText\":null,\"knowMore\":null,\"mrp\":{\"additionalText\":\"(incl. of all taxes)\",\"currency\":\"INR\",\"decimalValue\":\"10999.00\",\"discount\":null,\"downpaymentRate\":0,\"downpaymentRequired\":false,\"name\":\"Maximum Retail Price\",\"priceType\":null,\"strikeOff\":true,\"value\":10999},\"partPriceInfo\":null,\"plusPriceInfo\":null,\"priceDescriptions\":null,\"pricePerUnit\":null,\"priceTags\":null,\"prices\":[{\"additionalText\":null,\"currency\":\"INR\",\"decimalValue\":\"10999.00\",\"discount\":27,\"downpaymentRate\":0,\"downpaymentRequired\":false,\"name\":\"Selling Price\",\"priceType\":\"FSP\",\"strikeOff\":true,\"value\":10999},{\"additionalText\":null,\"currency\":\"INR\",\"decimalValue\":\"7999.00\",\"discount\":null,\"downpaymentRate\":0,\"downpaymentRequired\":false,\"name\":\"Special Price\",\"priceType\":\"SPECIAL_PRICE\",\"strikeOff\":false,\"value\":7999}],\"showDiscountAsAmount\":false,\"totalDiscount\":27},\"productBrand\":\"Mi\",\"productCardTagDetails\":[{\"image\":{\"type\":\"ImageValue\",\"dynamicImageUrl\":\"https://rukminim1.flixcart.com/www/{@width}/{@height}/promos/21/07/2017/e8625e14-3277-4f16-a4d4-df8ed525905b.png?q={@quality}\",\"height\":0,\"width\":0},\"tagDetails\":null,\"type\":\"F_ASSURED\"}],\"rating\":{\"type\":\"RatingValue\",\"average\":4.4,\"base\":5,\"breakup\":[13747,6451,19627,63561,205562],\"count\":308948,\"histogramBaseCount\":205562,\"reviewCount\":27494},\"smartUrl\":\"http://dl.flipkart.com/dl/redmi-8-onyx-black-64-gb/p/itmaf669d074ff27?pid=MOBFKPYDZJQHGJXA\",\"tags\":[\"Exchange Offer\"],\"titles\":{\"subtitle\":\"4 GB RAM\",\"title\":\"Redmi 8 (Onyx Black, 64 GB)\"},\"vertical\":\"mobile\",\"warrantySummary\":\"Brand Warranty of 1 Year Available for Mobile and 6 Months for Accessories\"}},\"snippets\":[{\"type\":\"FormattedMessageValue\",\"data\":[{\"type\":\"FormattedRichTextData\",\"value\":{\"type\":\"RichTextValue\",\"style\":{\"color\":\"#000000\",\"fontSize\":14,\"fontStyle\":\"normal\",\"fontWeight\":\"normal\"},\"text\":\"No Cost EMI\"}}]},{\"type\":\"FormattedMessageValue\",\"data\":[{\"type\":\"FormattedRichTextData\",\"value\":{\"type\":\"RichTextValue\",\"style\":{\"color\":\"#000000\",\"fontSize\":14,\"fontStyle\":\"normal\",\"fontWeight\":\"normal\"},\"text\":\"Upto \"}},{\"type\":\"FormattedRichTextData\",\"value\":{\"type\":\"RichTextValue\",\"style\":{\"color\":\"#000000\",\"fontSize\":14,\"fontStyle\":\"normal\",\"fontWeight\":\"bold\"},\"text\":\"\\xe2\\x82\\xb97,950\"}},{\"type\":\"FormattedRichTextData\",\"value\":{\"type\":\"RichTextValue\",\"style\":{\"color\":\"#000000\",\"fontSize\":14,\"fontStyle\":\"normal\",\"fontWeight\":\"normal\"},\"text\":\" Off on Exchange\"}}]}]}]}}},{\"slotType\":\"WIDGET\",\"id\":6001004,\"parentId\":10003,\"layoutParams\":{\"orientation\":\"\",\"widgetHeight\":150,\"widgetWidth\":12},\"dataId\":\"-1112522813\",\"elementId\":\"6001004-PRODUCT_SUMMARY\",\"hasWidgetDataChanged\":true,\"ttl\":3000,\"widget\":{\"type\":\"PRODUCT_SUMMARY\",\"viewType\":\"LIST_LARGE\",\"data\":{\"maxCardCount\":1,\"products\":[{\"addToWishlist\":{\"action\":{\"constraints\":null,\"fallback\":null,\"loginType\":\"LOGIN_NOT_REQUIRED\",\"omnitureData\":null,\"originalUrl\":null,\"params\":{\"valid\":true,\"productId\":\"MOBFKF98BHTYSAHZ\"},\"screenType\":\"multiWidgetPage\",\"tracking\":{},\"type\":\"WISHLIST_ADD\",\"url\":null},\"metaData\":null,\"tracking\":null,\"trackingData\":null,\"value\":{\"type\":\"ProductActionValue\",\"actionType\":\"ADD_TO_WISHLIST\",\"enabled\":true}},\"productInfo\":{\"action\":{\"constraints\":null,\"fallback\":null,\"loginType\":\"LOGIN_NOT_REQUIRED\",\"omnitureData\":\"deep_linking\",\"originalUrl\":null,\"params\":{\"valid\":true,\"productId\":\"MOBFKF98BHTYSAHZ\",\"marketplace\":\"FLIPKART\",\"screenName\":\"PRODUCT_PAGE\",\"listingId\":\"LSTMOBFKF98BHTYSAHZCWZX8V\",\"pids\":[\"MOBFKF98BHTYSAHZ\"],\"loadingStateKey\":\"LoadingStateDefaultNew\",\"lids\":[\"LSTMOBFKF98BHTYSAHZCWZX8V\"]},\"screenType\":\"productPage\",\"tracking\":{\"impressionId\":\"cb9a9d4f-5775-4485-b87e-8f4458821942.MOBFKF98BHTYSAHZ.SEARCH\",\"prop64\":\"SS_ncemi:exco\",\"position\":\"5\",\"contentType\":\"productCard\",\"contextType\":\"widget\"},\"type\":\"NAVIGATION\",\"url\":\"/redmi-8a-ocean-blue-32-gb/p/itm1f8d1cbb1d232?pid=MOBFKF98BHTYSAHZ&lid=LSTMOBFKF98BHTYSAHZCWZX8V&marketplace=FLIPKART\"},\"metaData\":null,\"tracking\":{\"impressionId\":\"cb9a9d4f-5775-4485-b87e-8f4458821942.MOBFKF98BHTYSAHZ.SEARCH\",\"prop64\":\"SS_ncemi:exco\",\"position\":\"5\",\"contentType\":\"productCard\",\"contextType\":\"widget\"},\"trackingData\":null,\"value\":{\"type\":\"ProductSummaryValue\",\"analyticsData\":{\"category\":\"Mobile\",\"subCategory\":\"Handset\",\"superCategory\":\"Mobile\",\"vertical\":\"Handset\"},\"availability\":{\"MessageIntent\":\"positive\",\"displayState\":\"IN_STOCK\",\"intent\":\"positive\",\"showMessage\":false},\"baseUrl\":\"/redmi-8a-ocean-blue-32-gb/p/itm1f8d1cbb1d232?pid=MOBFKF98BHTYSAHZ\",\"buyability\":{\"intent\":\"positive\",\"message\":null,\"showMessage\":false},\"conditionCallout\":false,\"exclusiveTag\":\"#JustHere\",\"flags\":{\"enableChat\":true,\"enableCompare\":true,\"enableFlipkartAdvantage\":true,\"enableOfferTag\":true,\"enableVisualDiscovery\":false,\"enableWishlist\":true,\"showSecondaryTitle\":true,\"swatchAvailableOnBrowsePage\":true},\"grade\":{\"color\":null,\"id\":null,\"name\":null,\"shortDesc\":null},\"id\":\"MOBFKF98BHTYSAHZ\",\"itemId\":\"ITM1F8D1CBB1D232\",\"keySpecs\":[\"2 GB RAM | 32 GB ROM | Expandable Upto 512 GB\",\"15.8 cm (6.22 inch) HD+ Display\",\"12MP Rear Camera | 8MP Front Camera\",\"5000 mAh Battery\",\"Qualcomm Snapdragon 439 Processor\"],\"listingId\":\"LSTMOBFKF98BHTYSAHZCWZX8V\",\"media\":{\"images\":[{\"aspectRatio\":null,\"contentInfo\":null,\"height\":null,\"url\":\"http://rukmini1.flixcart.com/image/{@width}/{@height}/k0y6cnk0/mobile/u/e/p/mi-redmi-8a-mzb8458in-original-imafkmhycvhcsrzm.jpeg?q={@quality}\",\"width\":null},{\"aspectRatio\":null,\"contentInfo\":null,\"height\":null,\"url\":\"http://rukmini1.flixcart.com/image/{@width}/{@height}/k1118cw0/mobile/u/e/p/mi-redmi-8a-mzb8458in-original-imafkznjvkspdayc.jpeg?q={@quality}\",\"width\":null},{\"aspectRatio\":null,\"contentInfo\":null,\"height\":null,\"url\":\"http://rukmini1.flixcart.com/image/{@width}/{@height}/k0y6cnk0/mobile/u/e/p/mi-redmi-8a-mzb8458in-original-imafkmhyerhrfhnp.jpeg?q={@quality}\",\"width\":null},{\"aspectRatio\":null,\"contentInfo\":null,\"height\":null,\"url\":\"http://rukmini1.flixcart.com/image/{@width}/{@height}/k0zlsi80/mobile/a/h/z/mi-redmi-8a-mzb8299in-original-imafknzybhxzqggg.jpeg?q={@quality}\",\"width\":null},{\"aspectRatio\":null,\"contentInfo\":null,\"height\":null,\"url\":\"http://rukmini1.flixcart.com/image/{@width}/{@height}/k0zlsi80/mobile/a/h/z/mi-redmi-8a-mzb8299in-original-imafknzyzkfgazcv.jpeg?q={@quality}\",\"width\":null},{\"aspectRatio\":null,\"contentInfo\":null,\"height\":null,\"url\":\"http://rukmini1.flixcart.com/image/{@width}/{@height}/k0zlsi80/mobile/a/h/z/mi-redmi-8a-mzb8299in-original-imafknzffwahdrtj.jpeg?q={@quality}\",\"width\":null},{\"aspectRatio\":null,\"contentInfo\":null,\"height\":null,\"url\":\"http://rukmini1.flixcart.com/image/{@width}/{@height}/k0zlsi80/mobile/a/h/z/mi-redmi-8a-mzb8299in-original-imafknzf44gs3znh.jpeg?q={@quality}\",\"width\":null},{\"aspectRatio\":null,\"contentInfo\":null,\"height\":null,\"url\":\"http://rukmini1.flixcart.com/image/{@width}/{@height}/k0y6cnk0/mobile/u/e/p/mi-redmi-8a-mzb8458in-original-imafkmhygmywhptp.jpeg?q={@quality}\",\"width\":null},{\"aspectRatio\":null,\"contentInfo\":null,\"height\":null,\"url\":\"http://rukmini1.flixcart.com/image/{@width}/{@height}/k0y6cnk0/mobile/u/e/p/mi-redmi-8a-mzb8458in-original-imafkmhy6nkjndzt.jpeg?q={@quality}\",\"width\":null}]},\"minKeySpecs\":[\"2 GB RAM | 32 GB Storage\",\"15.8 cm (6.22 inch) HD+ Display\",\"5000 mAh\",\"12MP Rear Camera\",\"8MP Front Camera\"],\"pricing\":{\"type\":\"ListingPriceValue\",\"deliveryCharge\":{\"additionalText\":null,\"currency\":\"INR\",\"decimalValue\":\"0.00\",\"discount\":null,\"downpaymentRate\":0,\"downpaymentRequired\":false,\"name\":\"Delivery Charges\",\"priceType\":null,\"strikeOff\":false,\"value\":0},\"discountAmount\":1500,\"extraDiscount\":null,\"finalPrice\":{\"additionalText\":null,\"currency\":\"INR\",\"decimalValue\":\"6499.00\",\"discount\":null,\"downpaymentRate\":0,\"downpaymentRequired\":false,\"name\":\"Total\",\"priceType\":null,\"strikeOff\":false,\"value\":6499},\"finalSavingsText\":null,\"knowMore\":null,\"mrp\":{\"additionalText\":\"(incl. of all taxes)\",\"currency\":\"INR\",\"decimalValue\":\"7999.00\",\"discount\":null,\"downpaymentRate\":0,\"downpaymentRequired\":false,\"name\":\"Maximum Retail Price\",\"priceType\":null,\"strikeOff\":true,\"value\":7999},\"partPriceInfo\":null,\"plusPriceInfo\":null,\"priceDescriptions\":null,\"pricePerUnit\":null,\"priceTags\":null,\"prices\":[{\"additionalText\":null,\"currency\":\"INR\",\"decimalValue\":\"7999.00\",\"discount\":18,\"downpaymentRate\":0,\"downpaymentRequired\":false,\"name\":\"Selling Price\",\"priceType\":\"FSP\",\"strikeOff\":true,\"value\":7999},{\"additionalText\":null,\"currency\":\"INR\",\"decimalValue\":\"6499.00\",\"discount\":null,\"downpaymentRate\":0,\"downpaymentRequired\":false,\"name\":\"Special Price\",\"priceType\":\"SPECIAL_PRICE\",\"strikeOff\":false,\"value\":6499}],\"showDiscountAsAmount\":false,\"totalDiscount\":18},\"productBrand\":\"Mi\",\"productCardTagDetails\":[{\"image\":{\"type\":\"ImageValue\",\"dynamicImageUrl\":\"https://rukminim1.flixcart.com/www/{@width}/{@height}/promos/21/07/2017/e8625e14-3277-4f16-a4d4-df8ed525905b.png?q={@quality}\",\"height\":0,\"width\":0},\"tagDetails\":null,\"type\":\"F_ASSURED\"}],\"rating\":{\"type\":\"RatingValue\",\"average\":4.4,\"base\":5,\"breakup\":[3219,1636,5809,18340,51616],\"count\":80620,\"histogramBaseCount\":51616,\"reviewCount\":6311},\"smartUrl\":\"http://dl.flipkart.com/dl/redmi-8a-ocean-blue-32-gb/p/itm1f8d1cbb1d232?pid=MOBFKF98BHTYSAHZ\",\"tags\":[\"Exchange Offer\"],\"titles\":{\"subtitle\":\"2 GB RAM\",\"title\":\"Redmi 8A (Ocean Blue, 32 GB)\"},\"vertical\":\"mobile\",\"warrantySummary\":\"Brand Warranty of 1 Year Available for Mobile and 6 Months for Accessories\"}},\"snippets\":[{\"type\":\"FormattedMessageValue\",\"data\":[{\"type\":\"FormattedRichTextData\",\"value\":{\"type\":\"RichTextValue\",\"style\":{\"color\":\"#000000\",\"fontSize\":14,\"fontStyle\":\"normal\",\"fontWeight\":\"normal\"},\"text\":\"No Cost EMI\"}}]},{\"type\":\"FormattedMessageValue\",\"data\":[{\"type\":\"FormattedRichTextData\",\"value\":{\"type\":\"RichTextValue\",\"style\":{\"color\":\"#000000\",\"fontSize\":14,\"fontStyle\":\"normal\",\"fontWeight\":\"normal\"},\"text\":\"Upto \"}},{\"type\":\"FormattedRichTextData\",\"value\":{\"type\":\"RichTextValue\",\"style\":{\"color\":\"#000000\",\"fontSize\":14,\"fontStyle\":\"normal\",\"fontWeight\":\"bold\"},\"text\":\"\\xe2\\x82\\xb96,450\"}},{\"type\":\"FormattedRichTextData\",\"value\":{\"type\":\"RichTextValue\",\"style\":{\"color\":\"#000000\",\"fontSize\":14,\"fontStyle\":\"normal\",\"fontWeight\":\"normal\"},\"text\":\" Off on Exchange\"}}]}]}]}}},{\"slotType\":\"WIDGET\",\"id\":6001005,\"parentId\":10003,\"layoutParams\":{\"orientation\":\"\",\"widgetHeight\":150,\"widgetWidth\":12},\"dataId\":\"2074994814\",\"elementId\":\"6001005-PRODUCT_SUMMARY\",\"hasWidgetDataChanged\":true,\"ttl\":3000,\"widget\":{\"type\":\"PRODUCT_SUMMARY\",\"viewType\":\"LIST_LARGE\",\"data\":{\"maxCardCount\":1,\"products\":[{\"addToWishlist\":{\"action\":{\"constraints\":null,\"fallback\":null,\"loginType\":\"LOGIN_NOT_REQUIRED\",\"omnitureData\":null,\"originalUrl\":null,\"params\":{\"valid\":true,\"productId\":\"MOBFKF98FTTEN832\"},\"screenType\":\"multiWidgetPage\",\"tracking\":{},\"type\":\"WISHLIST_ADD\",\"url\":null},\"metaData\":null,\"tracking\":null,\"trackingData\":null,\"value\":{\"type\":\"ProductActionValue\",\"actionType\":\"ADD_TO_WISHLIST\",\"enabled\":true}},\"productInfo\":{\"action\":{\"constraints\":null,\"fallback\":null,\"loginType\":\"LOGIN_NOT_REQUIRED\",\"omnitureData\":\"deep_linking\",\"originalUrl\":null,\"params\":{\"valid\":true,\"productId\":\"MOBFKF98FTTEN832\",\"marketplace\":\"FLIPKART\",\"screenName\":\"PRODUCT_PAGE\",\"listingId\":\"LSTMOBFKF98FTTEN832NKEHTF\",\"pids\":[\"MOBFKF98FTTEN832\"],\"loadingStateKey\":\"LoadingStateDefaultNew\",\"lids\":[\"LSTMOBFKF98FTTEN832NKEHTF\"]},\"screenType\":\"productPage\",\"tracking\":{\"impressionId\":\"a0b11b01-b393-4f17-acd8-8754999f5bdb.MOBFKF98FTTEN832.SEARCH\",\"prop64\":\"SS_ncemi:exco\",\"position\":\"6\",\"contentType\":\"productCard\",\"contextType\":\"widget\"},\"type\":\"NAVIGATION\",\"url\":\"/redmi-8a-sunset-red-32-gb/p/itm5474ed67d23bf?pid=MOBFKF98FTTEN832&lid=LSTMOBFKF98FTTEN832NKEHTF&marketplace=FLIPKART\"},\"metaData\":null,\"tracking\":{\"impressionId\":\"a0b11b01-b393-4f17-acd8-8754999f5bdb.MOBFKF98FTTEN832.SEARCH\",\"prop64\":\"SS_ncemi:exco\",\"position\":\"6\",\"contentType\":\"productCard\",\"contextType\":\"widget\"},\"trackingData\":null,\"value\":{\"type\":\"ProductSummaryValue\",\"analyticsData\":{\"category\":\"Mobile\",\"subCategory\":\"Handset\",\"superCategory\":\"Mobile\",\"vertical\":\"Handset\"},\"availability\":{\"MessageIntent\":\"positive\",\"displayState\":\"IN_STOCK\",\"intent\":\"positive\",\"showMessage\":false},\"baseUrl\":\"/redmi-8a-sunset-red-32-gb/p/itm5474ed67d23bf?pid=MOBFKF98FTTEN832\",\"buyability\":{\"intent\":\"positive\",\"message\":null,\"showMessage\":false},\"conditionCallout\":false,\"exclusiveTag\":\"#JustHere\",\"flags\":{\"enableChat\":true,\"enableCompare\":true,\"enableFlipkartAdvantage\":true,\"enableOfferTag\":true,\"enableVisualDiscovery\":false,\"enableWishlist\":true,\"showSecondaryTitle\":true,\"swatchAvailableOnBrowsePage\":true},\"grade\":{\"color\":null,\"id\":null,\"name\":null,\"shortDesc\":null},\"id\":\"MOBFKF98FTTEN832\",\"itemId\":\"ITM5474ED67D23BF\",\"keySpecs\":[\"2 GB RAM | 32 GB ROM | Expandable Upto 512 GB\",\"15.8 cm (6.22 inch) HD+ Display\",\"12MP Rear Camera | 8MP Front Camera\",\"5000 mAh Battery\",\"Qualcomm Snapdragon 439 Processor\"],\"listingId\":\"LSTMOBFKF98FTTEN832NKEHTF\",\"media\":{\"images\":[{\"aspectRatio\":null,\"contentInfo\":null,\"height\":null,\"url\":\"http://rukmini1.flixcart.com/image/{@width}/{@height}/k0y6cnk0/mobile/p/4/x/mi-redmi-8a-mzb8459in-original-imafkmg2mza82yyu.jpeg?q={@quality}\",\"width\":null},{\"aspectRatio\":null,\"contentInfo\":null,\"height\":null,\"url\":\"http://rukmini1.flixcart.com/image/{@width}/{@height}/k1118cw0/mobile/8/3/2/mi-redmi-8a-mzb8369in-original-imafkzz7hjsz4up6.jpeg?q={@quality}\",\"width\":null},{\"aspectRatio\":null,\"contentInfo\":null,\"height\":null,\"url\":\"http://rukmini1.flixcart.com/image/{@width}/{@height}/k0y6cnk0/mobile/p/4/x/mi-redmi-8a-mzb8459in-original-imafkmg2z8yv3zst.jpeg?q={@quality}\",\"width\":null},{\"aspectRatio\":null,\"contentInfo\":null,\"height\":null,\"url\":\"http://rukmini1.flixcart.com/image/{@width}/{@height}/k0zlsi80/mobile/8/3/2/mi-redmi-8a-mzb8369in-original-imafknzf7hzngfeg.jpeg?q={@quality}\",\"width\":null},{\"aspectRatio\":null,\"contentInfo\":null,\"height\":null,\"url\":\"http://rukmini1.flixcart.com/image/{@width}/{@height}/k0zlsi80/mobile/8/3/2/mi-redmi-8a-mzb8369in-original-imafknz2ejnzcfp9.jpeg?q={@quality}\",\"width\":null},{\"aspectRatio\":null,\"contentInfo\":null,\"height\":null,\"url\":\"http://rukmini1.flixcart.com/image/{@width}/{@height}/k0zlsi80/mobile/8/3/2/mi-redmi-8a-mzb8369in-original-imafknz2mk9tjxfg.jpeg?q={@quality}\",\"width\":null},{\"aspectRatio\":null,\"contentInfo\":null,\"height\":null,\"url\":\"http://rukmini1.flixcart.com/image/{@width}/{@height}/k0zlsi80/mobile/8/3/2/mi-redmi-8a-mzb8369in-original-imafknz22tmck7vv.jpeg?q={@quality}\",\"width\":null},{\"aspectRatio\":null,\"contentInfo\":null,\"height\":null,\"url\":\"http://rukmini1.flixcart.com/image/{@width}/{@height}/k0y6cnk0/mobile/p/4/x/mi-redmi-8a-mzb8459in-original-imafkmg2zhzqb2zh.jpeg?q={@quality}\",\"width\":null},{\"aspectRatio\":null,\"contentInfo\":null,\"height\":null,\"url\":\"http://rukmini1.flixcart.com/image/{@width}/{@height}/k0y6cnk0/mobile/p/4/x/mi-redmi-8a-mzb8459in-original-imafkmg2bbeecatm.jpeg?q={@quality}\",\"width\":null}]},\"minKeySpecs\":[\"2 GB RAM | 32 GB Storage\",\"15.8 cm (6.22 inch) HD+ Display\",\"5000 mAh\",\"12MP Rear Camera\",\"8MP Front Camera\"],\"pricing\":{\"type\":\"ListingPriceValue\",\"deliveryCharge\":{\"additionalText\":null,\"currency\":\"INR\",\"decimalValue\":\"0.00\",\"discount\":null,\"downpaymentRate\":0,\"downpaymentRequired\":false,\"name\":\"Delivery Charges\",\"priceType\":null,\"strikeOff\":false,\"value\":0},\"discountAmount\":1500,\"extraDiscount\":null,\"finalPrice\":{\"additionalText\":null,\"currency\":\"INR\",\"decimalValue\":\"6499.00\",\"discount\":null,\"downpaymentRate\":0,\"downpaymentRequired\":false,\"name\":\"Total\",\"priceType\":null,\"strikeOff\":false,\"value\":6499},\"finalSavingsText\":null,\"knowMore\":null,\"mrp\":{\"additionalText\":\"(incl. of all taxes)\",\"currency\":\"INR\",\"decimalValue\":\"7999.00\",\"discount\":null,\"downpaymentRate\":0,\"downpaymentRequired\":false,\"name\":\"Maximum Retail Price\",\"priceType\":null,\"strikeOff\":true,\"value\":7999},\"partPriceInfo\":null,\"plusPriceInfo\":null,\"priceDescriptions\":null,\"pricePerUnit\":null,\"priceTags\":null,\"prices\":[{\"additionalText\":null,\"currency\":\"INR\",\"decimalValue\":\"7999.00\",\"discount\":18,\"downpaymentRate\":0,\"downpaymentRequired\":false,\"name\":\"Selling Price\",\"priceType\":\"FSP\",\"strikeOff\":true,\"value\":7999},{\"additionalText\":null,\"currency\":\"INR\",\"decimalValue\":\"6499.00\",\"discount\":null,\"downpaymentRate\":0,\"downpaymentRequired\":false,\"name\":\"Special Price\",\"priceType\":\"SPECIAL_PRICE\",\"strikeOff\":false,\"value\":6499}],\"showDiscountAsAmount\":false,\"totalDiscount\":18},\"productBrand\":\"Mi\",\"productCardTagDetails\":[{\"image\":{\"type\":\"ImageValue\",\"dynamicImageUrl\":\"https://rukminim1.flixcart.com/www/{@width}/{@height}/promos/21/07/2017/e8625e14-3277-4f16-a4d4-df8ed525905b.png?q={@quality}\",\"height\":0,\"width\":0},\"tagDetails\":null,\"type\":\"F_ASSURED\"}],\"rating\":{\"type\":\"RatingValue\",\"average\":4.4,\"base\":5,\"breakup\":[3219,1636,5809,18340,51616],\"count\":80620,\"histogramBaseCount\":51616,\"reviewCount\":6311},\"smartUrl\":\"http://dl.flipkart.com/dl/redmi-8a-sunset-red-32-gb/p/itm5474ed67d23bf?pid=MOBFKF98FTTEN832\",\"tags\":[\"Exchange Offer\"],\"titles\":{\"subtitle\":\"2 GB RAM\",\"title\":\"Redmi 8A (Sunset Red, 32 GB)\"},\"vertical\":\"mobile\",\"warrantySummary\":\"Brand Warranty of 1 Year Available for Mobile and 6 Months for Accessories\"}},\"snippets\":[{\"type\":\"FormattedMessageValue\",\"data\":[{\"type\":\"FormattedRichTextData\",\"value\":{\"type\":\"RichTextValue\",\"style\":{\"color\":\"#000000\",\"fontSize\":14,\"fontStyle\":\"normal\",\"fontWeight\":\"normal\"},\"text\":\"No Cost EMI\"}}]},{\"type\":\"FormattedMessageValue\",\"data\":[{\"type\":\"FormattedRichTextData\",\"value\":{\"type\":\"RichTextValue\",\"style\":{\"color\":\"#000000\",\"fontSize\":14,\"fontStyle\":\"normal\",\"fontWeight\":\"normal\"},\"text\":\"Upto \"}},{\"type\":\"FormattedRichTextData\",\"value\":{\"type\":\"RichTextValue\",\"style\":{\"color\":\"#000000\",\"fontSize\":14,\"fontStyle\":\"normal\",\"fontWeight\":\"bold\"},\"text\":\"\\xe2\\x82\\xb96,450\"}},{\"type\":\"FormattedRichTextData\",\"value\":{\"type\":\"RichTextValue\",\"style\":{\"color\":\"#000000\",\"fontSize\":14,\"fontStyle\":\"normal\",\"fontWeight\":\"normal\"},\"text\":\" Off on Exchange\"}}]}]}]}}},{\"slotType\":\"WIDGET\",\"id\":6001006,\"parentId\":10003,\"layoutParams\":{\"orientation\":\"\",\"widgetHeight\":150,\"widgetWidth\":12},\"dataId\":\"-1139371622\",\"elementId\":\"6001006-PRODUCT_SUMMARY\",\"hasWidgetDataChanged\":true,\"ttl\":3000,\"widget\":{\"type\":\"PRODUCT_SUMMARY\",\"viewType\":\"LIST_LARGE\",\"data\":{\"maxCardCount\":1,\"products\":[{\"addToWishlist\":{\"action\":{\"constraints\":null,\"fallback\":null,\"loginType\":\"LOGIN_NOT_REQUIRED\",\"omnitureData\":null,\"originalUrl\":null,\"params\":{\"valid\":true,\"productId\":\"MOBFKF98FFAAY8EB\"},\"screenType\":\"multiWidgetPage\",\"tracking\":{},\"type\":\"WISHLIST_ADD\",\"url\":null},\"metaData\":null,\"tracking\":null,\"trackingData\":null,\"value\":{\"type\":\"ProductActionValue\",\"actionType\":\"ADD_TO_WISHLIST\",\"enabled\":true}},\"productInfo\":{\"action\":{\"constraints\":null,\"fallback\":null,\"loginType\":\"LOGIN_NOT_REQUIRED\",\"omnitureData\":\"deep_linking\",\"originalUrl\":null,\"params\":{\"valid\":true,\"productId\":\"MOBFKF98FFAAY8EB\",\"marketplace\":\"FLIPKART\",\"screenName\":\"PRODUCT_PAGE\",\"listingId\":\"LSTMOBFKF98FFAAY8EBS8FFCJ\",\"pids\":[\"MOBFKF98FFAAY8EB\"],\"loadingStateKey\":\"LoadingStateDefaultNew\",\"lids\":[\"LSTMOBFKF98FFAAY8EBS8FFCJ\"]},\"screenType\":\"productPage\",\"tracking\":{\"impressionId\":\"d560703a-01fd-467e-bc5a-515a96c836a5.MOBFKF98FFAAY8EB.SEARCH\",\"prop64\":\"SS_ncemi:exco\",\"position\":\"7\",\"contentType\":\"productCard\",\"contextType\":\"widget\"},\"type\":\"NAVIGATION\",\"url\":\"/redmi-8a-midnight-black-32-gb/p/itme2e12a5859993?pid=MOBFKF98FFAAY8EB&lid=LSTMOBFKF98FFAAY8EBS8FFCJ&marketplace=FLIPKART\"},\"metaData\":null,\"tracking\":{\"impressionId\":\"d560703a-01fd-467e-bc5a-515a96c836a5.MOBFKF98FFAAY8EB.SEARCH\",\"prop64\":\"SS_ncemi:exco\",\"position\":\"7\",\"contentType\":\"productCard\",\"contextType\":\"widget\"},\"trackingData\":null,\"value\":{\"type\":\"ProductSummaryValue\",\"analyticsData\":{\"category\":\"Mobile\",\"subCategory\":\"Handset\",\"superCategory\":\"Mobile\",\"vertical\":\"Handset\"},\"availability\":{\"MessageIntent\":\"positive\",\"displayState\":\"IN_STOCK\",\"intent\":\"positive\",\"showMessage\":false},\"baseUrl\":\"/redmi-8a-midnight-black-32-gb/p/itme2e12a5859993?pid=MOBFKF98FFAAY8EB\",\"buyability\":{\"intent\":\"positive\",\"message\":null,\"showMessage\":false},\"conditionCallout\":false,\"exclusiveTag\":\"#JustHere\",\"flags\":{\"enableChat\":true,\"enableCompare\":true,\"enableFlipkartAdvantage\":true,\"enableOfferTag\":true,\"enableVisualDiscovery\":false,\"enableWishlist\":true,\"showSecondaryTitle\":true,\"swatchAvailableOnBrowsePage\":true},\"grade\":{\"color\":null,\"id\":null,\"name\":null,\"shortDesc\":null},\"id\":\"MOBFKF98FFAAY8EB\",\"itemId\":\"ITME2E12A5859993\",\"keySpecs\":[\"2 GB RAM | 32 GB ROM | Expandable Upto 512 GB\",\"15.8 cm (6.22 inch) HD+ Display\",\"12MP Rear Camera | 8MP Front Camera\",\"5000 mAh Battery\",\"Qualcomm Snapdragon 439 Processor\"],\"listingId\":\"LSTMOBFKF98FFAAY8EBS8FFCJ\",\"media\":{\"images\":[{\"aspectRatio\":null,\"contentInfo\":null,\"height\":null,\"url\":\"http://rukmini1.flixcart.com/image/{@width}/{@height}/k12go7k0/mobile/8/e/b/mi-redmi-8a-mzb8298in-original-imafkmhqztfbabww.jpeg?q={@quality}\",\"width\":null},{\"aspectRatio\":null,\"contentInfo\":null,\"height\":null,\"url\":\"http://rukmini1.flixcart.com/image/{@width}/{@height}/k1118cw0/mobile/d/c/c/mi-redmi-8a-mzb8457in-original-imafkzz8tuu5zzny.jpeg?q={@quality}\",\"width\":null},{\"aspectRatio\":null,\"contentInfo\":null,\"height\":null,\"url\":\"http://rukmini1.flixcart.com/image/{@width}/{@height}/k0y6cnk0/mobile/d/c/c/mi-redmi-8a-mzb8457in-original-imafkmhujrqmhfhe.jpeg?q={@quality}\",\"width\":null},{\"aspectRatio\":null,\"contentInfo\":null,\"height\":null,\"url\":\"http://rukmini1.flixcart.com/image/{@width}/{@height}/k0zlsi80/mobile/8/e/b/mi-redmi-8a-mzb8298in-original-imafknzyhxzxzy69.jpeg?q={@quality}\",\"width\":null},{\"aspectRatio\":null,\"contentInfo\":null,\"height\":null,\"url\":\"http://rukmini1.flixcart.com/image/{@width}/{@height}/k12go7k0/mobile/8/e/b/mi-redmi-8a-mzb8298in-original-imafknhvzpzqwytv.jpeg?q={@quality}\",\"width\":null},{\"aspectRatio\":null,\"contentInfo\":null,\"height\":null,\"url\":\"http://rukmini1.flixcart.com/image/{@width}/{@height}/k0zlsi80/mobile/8/e/b/mi-redmi-8a-mzb8298in-original-imafknzy4he6tzdj.jpeg?q={@quality}\",\"width\":null},{\"aspectRatio\":null,\"contentInfo\":null,\"height\":null,\"url\":\"http://rukmini1.flixcart.com/image/{@width}/{@height}/k0zlsi80/mobile/8/e/b/mi-redmi-8a-mzb8298in-original-imafknzywqmvspuy.jpeg?q={@quality}\",\"width\":null},{\"aspectRatio\":null,\"contentInfo\":null,\"height\":null,\"url\":\"http://rukmini1.flixcart.com/image/{@width}/{@height}/k12go7k0/mobile/8/e/b/mi-redmi-8a-mzb8298in-original-imafkmq7ghtfnpyu.jpeg?q={@quality}\",\"width\":null},{\"aspectRatio\":null,\"contentInfo\":null,\"height\":null,\"url\":\"http://rukmini1.flixcart.com/image/{@width}/{@height}/k0y6cnk0/mobile/d/c/c/mi-redmi-8a-mzb8457in-original-imafkmhuw2yyvf6u.jpeg?q={@quality}\",\"width\":null},{\"aspectRatio\":null,\"contentInfo\":null,\"height\":null,\"url\":\"http://rukmini1.flixcart.com/image/{@width}/{@height}/k0y6cnk0/mobile/d/c/c/mi-redmi-8a-mzb8457in-original-imafkmhvxskyyjmh.jpeg?q={@quality}\",\"width\":null}]},\"minKeySpecs\":[\"2 GB RAM | 32 GB Storage\",\"15.8 cm (6.22 inch) HD+ Display\",\"5000 mAh\",\"12MP Rear Camera\",\"8MP Front Camera\"],\"pricing\":{\"type\":\"ListingPriceValue\",\"deliveryCharge\":{\"additionalText\":null,\"currency\":\"INR\",\"decimalValue\":\"0.00\",\"discount\":null,\"downpaymentRate\":0,\"downpaymentRequired\":false,\"name\":\"Delivery Charges\",\"priceType\":null,\"strikeOff\":false,\"value\":0},\"discountAmount\":1500,\"extraDiscount\":null,\"finalPrice\":{\"additionalText\":null,\"currency\":\"INR\",\"decimalValue\":\"6499.00\",\"discount\":null,\"downpaymentRate\":0,\"downpaymentRequired\":false,\"name\":\"Total\",\"priceType\":null,\"strikeOff\":false,\"value\":6499},\"finalSavingsText\":null,\"knowMore\":null,\"mrp\":{\"additionalText\":\"(incl. of all taxes)\",\"currency\":\"INR\",\"decimalValue\":\"7999.00\",\"discount\":null,\"downpaymentRate\":0,\"downpaymentRequired\":false,\"name\":\"Maximum Retail Price\",\"priceType\":null,\"strikeOff\":true,\"value\":7999},\"partPriceInfo\":null,\"plusPriceInfo\":null,\"priceDescriptions\":null,\"pricePerUnit\":null,\"priceTags\":null,\"prices\":[{\"additionalText\":null,\"currency\":\"INR\",\"decimalValue\":\"7999.00\",\"discount\":18,\"downpaymentRate\":0,\"downpaymentRequired\":false,\"name\":\"Selling Price\",\"priceType\":\"FSP\",\"strikeOff\":true,\"value\":7999},{\"additionalText\":null,\"currency\":\"INR\",\"decimalValue\":\"6499.00\",\"discount\":null,\"downpaymentRate\":0,\"downpaymentRequired\":false,\"name\":\"Special Price\",\"priceType\":\"SPECIAL_PRICE\",\"strikeOff\":false,\"value\":6499}],\"showDiscountAsAmount\":false,\"totalDiscount\":18},\"productBrand\":\"Mi\",\"productCardTagDetails\":[{\"image\":{\"type\":\"ImageValue\",\"dynamicImageUrl\":\"https://rukminim1.flixcart.com/www/{@width}/{@height}/promos/21/07/2017/e8625e14-3277-4f16-a4d4-df8ed525905b.png?q={@quality}\",\"height\":0,\"width\":0},\"tagDetails\":null,\"type\":\"F_ASSURED\"}],\"rating\":{\"type\":\"RatingValue\",\"average\":4.4,\"base\":5,\"breakup\":[3219,1636,5809,18340,51616],\"count\":80620,\"histogramBaseCount\":51616,\"reviewCount\":6311},\"smartUrl\":\"http://dl.flipkart.com/dl/redmi-8a-midnight-black-32-gb/p/itme2e12a5859993?pid=MOBFKF98FFAAY8EB\",\"tags\":[\"Exchange Offer\"],\"titles\":{\"subtitle\":\"2 GB RAM\",\"title\":\"Redmi 8A (Midnight Black, 32 GB)\"},\"vertical\":\"mobile\",\"warrantySummary\":\"Brand Warranty of 1 Year Available for Mobile and 6 Months for Accessories\"}},\"snippets\":[{\"type\":\"FormattedMessageValue\",\"data\":[{\"type\":\"FormattedRichTextData\",\"value\":{\"type\":\"RichTextValue\",\"style\":{\"color\":\"#000000\",\"fontSize\":14,\"fontStyle\":\"normal\",\"fontWeight\":\"normal\"},\"text\":\"No Cost EMI\"}}]},{\"type\":\"FormattedMessageValue\",\"data\":[{\"type\":\"FormattedRichTextData\",\"value\":{\"type\":\"RichTextValue\",\"style\":{\"color\":\"#000000\",\"fontSize\":14,\"fontStyle\":\"normal\",\"fontWeight\":\"normal\"},\"text\":\"Upto \"}},{\"type\":\"FormattedRichTextData\",\"value\":{\"type\":\"RichTextValue\",\"style\":{\"color\":\"#000000\",\"fontSize\":14,\"fontStyle\":\"normal\",\"fontWeight\":\"bold\"},\"text\":\"\\xe2\\x82\\xb96,450\"}},{\"type\":\"FormattedRichTextData\",\"value\":{\"type\":\"RichTextValue\",\"style\":{\"color\":\"#000000\",\"fontSize\":14,\"fontStyle\":\"normal\",\"fontWeight\":\"normal\"},\"text\":\" Off on Exchange\"}}]}]}]}}},{\"slotType\":\"WIDGET\",\"id\":6001007,\"parentId\":10003,\"layoutParams\":{\"orientation\":\"\",\"widgetHeight\":150,\"widgetWidth\":12},\"dataId\":\"-2124646714\",\"elementId\":\"6001007-PRODUCT_SUMMARY\",\"hasWidgetDataChanged\":true,\"ttl\":3000,\"widget\":{\"type\":\"PRODUCT_SUMMARY\",\"viewType\":\"LIST_LARGE\",\"data\":{\"maxCardCount\":1,\"products\":[{\"addToWishlist\":{\"action\":{\"constraints\":null,\"fallback\":null,\"loginType\":\"LOGIN_NOT_REQUIRED\",\"omnitureData\":null,\"originalUrl\":null,\"params\":{\"valid\":true,\"productId\":\"MOBFM2WZW8VZEXK3\"},\"screenType\":\"multiWidgetPage\",\"tracking\":{},\"type\":\"WISHLIST_ADD\",\"url\":null},\"metaData\":null,\"tracking\":null,\"trackingData\":null,\"value\":{\"type\":\"ProductActionValue\",\"actionType\":\"ADD_TO_WISHLIST\",\"enabled\":true}},\"productInfo\":{\"action\":{\"constraints\":null,\"fallback\":null,\"loginType\":\"LOGIN_NOT_REQUIRED\",\"omnitureData\":\"deep_linking\",\"originalUrl\":null,\"params\":{\"valid\":true,\"productId\":\"MOBFM2WZW8VZEXK3\",\"marketplace\":\"FLIPKART\",\"screenName\":\"PRODUCT_PAGE\",\"listingId\":\"LSTMOBFM2WZW8VZEXK34R7HCI\",\"pids\":[\"MOBFM2WZW8VZEXK3\"],\"loadingStateKey\":\"LoadingStateDefaultNew\",\"lids\":[\"LSTMOBFM2WZW8VZEXK34R7HCI\"]},\"screenType\":\"productPage\",\"tracking\":{\"impressionId\":\"8db96bcd-fa87-4932-8522-ef5cdc038a1e.MOBFM2WZW8VZEXK3.SEARCH\",\"prop64\":\"SS_ncemi:exco\",\"position\":\"8\",\"contentType\":\"productCard\",\"contextType\":\"widget\"},\"type\":\"NAVIGATION\",\"url\":\"/realme-5s-crystal-blue-128-gb/p/itm592977b0ba210?pid=MOBFM2WZW8VZEXK3&lid=LSTMOBFM2WZW8VZEXK34R7HCI&marketplace=FLIPKART\"},\"metaData\":null,\"tracking\":{\"impressionId\":\"8db96bcd-fa87-4932-8522-ef5cdc038a1e.MOBFM2WZW8VZEXK3.SEARCH\",\"prop64\":\"SS_ncemi:exco\",\"position\":\"8\",\"contentType\":\"productCard\",\"contextType\":\"widget\"},\"trackingData\":null,\"value\":{\"type\":\"ProductSummaryValue\",\"analyticsData\":{\"category\":\"Mobile\",\"subCategory\":\"Handset\",\"superCategory\":\"Mobile\",\"vertical\":\"Handset\"},\"availability\":{\"MessageIntent\":\"positive\",\"displayState\":\"IN_STOCK\",\"intent\":\"positive\",\"showMessage\":false},\"baseUrl\":\"/realme-5s-crystal-blue-128-gb/p/itm592977b0ba210?pid=MOBFM2WZW8VZEXK3\",\"buyability\":{\"intent\":\"positive\",\"message\":null,\"showMessage\":false},\"conditionCallout\":false,\"flags\":{\"enableChat\":true,\"enableCompare\":true,\"enableFlipkartAdvantage\":true,\"enableOfferTag\":true,\"enableVisualDiscovery\":false,\"enableWishlist\":true,\"showSecondaryTitle\":true,\"swatchAvailableOnBrowsePage\":true},\"grade\":{\"color\":null,\"id\":null,\"name\":null,\"shortDesc\":null},\"id\":\"MOBFM2WZW8VZEXK3\",\"itemId\":\"ITM592977B0BA210\",\"keySpecs\":[\"4 GB RAM | 128 GB ROM | Expandable Upto 256 GB\",\"16.51 cm (6.5 inch) HD+ Display\",\"48MP + 8MP + 2MP + 2MP | 13MP Front Camera\",\"5000 mAh Battery\",\"Qualcomm Snapdragon 665 Processor\",\"HD+ Mini Drop Display\",\"48 MP AI Quad camera\"],\"listingId\":\"LSTMOBFM2WZW8VZEXK34R7HCI\",\"media\":{\"images\":[{\"aspectRatio\":null,\"contentInfo\":null,\"height\":null,\"url\":\"http://rukmini1.flixcart.com/image/{@width}/{@height}/k34rki80/mobile/t/t/z/realme-5s-rmx1925-original-imafmbm6hatkkzys.jpeg?q={@quality}\",\"width\":null},{\"aspectRatio\":null,\"contentInfo\":null,\"height\":null,\"url\":\"http://rukmini1.flixcart.com/image/{@width}/{@height}/k34rki80/mobile/t/t/z/realme-5s-rmx1925-original-imafmbm6tpkregsq.jpeg?q={@quality}\",\"width\":null},{\"aspectRatio\":null,\"contentInfo\":null,\"height\":null,\"url\":\"http://rukmini1.flixcart.com/image/{@width}/{@height}/k34rki80/mobile/t/t/z/realme-5s-rmx1925-original-imafmbm65dwgffqg.jpeg?q={@quality}\",\"width\":null},{\"aspectRatio\":null,\"contentInfo\":null,\"height\":null,\"url\":\"http://rukmini1.flixcart.com/image/{@width}/{@height}/k34rki80/mobile/t/t/z/realme-5s-rmx1925-original-imafmbm6e3szwd72.jpeg?q={@quality}\",\"width\":null},{\"aspectRatio\":null,\"contentInfo\":null,\"height\":null,\"url\":\"http://rukmini1.flixcart.com/image/{@width}/{@height}/k34rki80/mobile/t/t/z/realme-5s-rmx1925-original-imafmbm6d6sjyhae.jpeg?q={@quality}\",\"width\":null},{\"aspectRatio\":null,\"contentInfo\":null,\"height\":null,\"url\":\"http://rukmini1.flixcart.com/image/{@width}/{@height}/k34rki80/mobile/t/t/z/realme-5s-rmx1925-original-imafmbm6wcagxhhy.jpeg?q={@quality}\",\"width\":null},{\"aspectRatio\":null,\"contentInfo\":null,\"height\":null,\"url\":\"http://rukmini1.flixcart.com/image/{@width}/{@height}/k34rki80/mobile/t/t/z/realme-5s-rmx1925-original-imafmbm67vvxya5c.jpeg?q={@quality}\",\"width\":null},{\"aspectRatio\":null,\"contentInfo\":null,\"height\":null,\"url\":\"http://rukmini1.flixcart.com/image/{@width}/{@height}/k34rki80/mobile/t/t/z/realme-5s-rmx1925-original-imafmbm6shwwzh9d.jpeg?q={@quality}\",\"width\":null}],\"videos\":[{\"height\":null,\"videoId\":\"ga073rf8Hj4\",\"videoProvider\":\"YOUTUBE\",\"videoType\":\"THUMBNAIL\",\"width\":null}]},\"minKeySpecs\":[\"4 GB RAM | 128 GB Storage\",\"16.51 cm (6.5 inch) HD+ Display\",\"5000 mAh\",\"48MP + 8MP + 2MP + 2MP\",\"13MP Front Camera\"],\"pricing\":{\"type\":\"ListingPriceValue\",\"deliveryCharge\":{\"additionalText\":null,\"currency\":\"INR\",\"decimalValue\":\"0.00\",\"discount\":null,\"downpaymentRate\":0,\"downpaymentRequired\":false,\"name\":\"Delivery Charges\",\"priceType\":null,\"strikeOff\":false,\"value\":0},\"discountAmount\":2000,\"extraDiscount\":null,\"finalPrice\":{\"additionalText\":null,\"currency\":\"INR\",\"decimalValue\":\"10999.00\",\"discount\":null,\"downpaymentRate\":0,\"downpaymentRequired\":false,\"name\":\"Total\",\"priceType\":null,\"strikeOff\":false,\"value\":10999},\"finalSavingsText\":null,\"knowMore\":null,\"mrp\":{\"additionalText\":\"(incl. of all taxes)\",\"currency\":\"INR\",\"decimalValue\":\"12999.00\",\"discount\":null,\"downpaymentRate\":0,\"downpaymentRequired\":false,\"name\":\"Maximum Retail Price\",\"priceType\":null,\"strikeOff\":true,\"value\":12999},\"partPriceInfo\":null,\"plusPriceInfo\":null,\"priceDescriptions\":null,\"pricePerUnit\":null,\"priceTags\":null,\"prices\":[{\"additionalText\":null,\"currency\":\"INR\",\"decimalValue\":\"12999.00\",\"discount\":15,\"downpaymentRate\":0,\"downpaymentRequired\":false,\"name\":\"Selling Price\",\"priceType\":\"FSP\",\"strikeOff\":true,\"value\":12999},{\"additionalText\":null,\"currency\":\"INR\",\"decimalValue\":\"10999.00\",\"discount\":null,\"downpaymentRate\":0,\"downpaymentRequired\":false,\"name\":\"Special Price\",\"priceType\":\"SPECIAL_PRICE\",\"strikeOff\":false,\"value\":10999}],\"showDiscountAsAmount\":false,\"totalDiscount\":15},\"productBrand\":\"Realme\",\"productCardTagDetails\":[{\"image\":{\"type\":\"ImageValue\",\"dynamicImageUrl\":\"https://rukminim1.flixcart.com/www/{@width}/{@height}/promos/21/07/2017/e8625e14-3277-4f16-a4d4-df8ed525905b.png?q={@quality}\",\"height\":0,\"width\":0},\"tagDetails\":null,\"type\":\"F_ASSURED\"}],\"rating\":{\"type\":\"RatingValue\",\"average\":4.4,\"base\":5,\"breakup\":[5941,2730,8558,28524,93975],\"count\":139728,\"histogramBaseCount\":93975,\"reviewCount\":13248},\"smartUrl\":\"http://dl.flipkart.com/dl/realme-5s-crystal-blue-128-gb/p/itm592977b0ba210?pid=MOBFM2WZW8VZEXK3\",\"tags\":[\"Exchange Offer\"],\"titles\":{\"subtitle\":\"4 GB RAM\",\"title\":\"Realme 5s (Crystal Blue, 128 GB)\"},\"vertical\":\"mobile\",\"warrantySummary\":\"Brand Warranty of 1 Year Available for Mobile and 6 Months for Accessories\"}},\"snippets\":[{\"type\":\"FormattedMessageValue\",\"data\":[{\"type\":\"FormattedRichTextData\",\"value\":{\"type\":\"RichTextValue\",\"style\":{\"color\":\"#000000\",\"fontSize\":14,\"fontStyle\":\"normal\",\"fontWeight\":\"normal\"},\"text\":\"No Cost EMI\"}}]},{\"type\":\"FormattedMessageValue\",\"data\":[{\"type\":\"FormattedRichTextData\",\"value\":{\"type\":\"RichTextValue\",\"style\":{\"color\":\"#000000\",\"fontSize\":14,\"fontStyle\":\"normal\",\"fontWeight\":\"normal\"},\"text\":\"Upto \"}},{\"type\":\"FormattedRichTextData\",\"value\":{\"type\":\"RichTextValue\",\"style\":{\"color\":\"#000000\",\"fontSize\":14,\"fontStyle\":\"normal\",\"fontWeight\":\"bold\"},\"text\":\"\\xe2\\x82\\xb910,750\"}},{\"type\":\"FormattedRichTextData\",\"value\":{\"type\":\"RichTextValue\",\"style\":{\"color\":\"#000000\",\"fontSize\":14,\"fontStyle\":\"normal\",\"fontWeight\":\"normal\"},\"text\":\" Off on Exchange\"}}]}]}]}}},{\"slotType\":\"WIDGET\",\"id\":6001008,\"parentId\":10003,\"layoutParams\":{\"orientation\":\"\",\"widgetHeight\":150,\"widgetWidth\":12},\"dataId\":\"-605383355\",\"elementId\":\"6001008-PRODUCT_SUMMARY\",\"hasWidgetDataChanged\":true,\"ttl\":3000,\"widget\":{\"type\":\"PRODUCT_SUMMARY\",\"viewType\":\"LIST_LARGE\",\"data\":{\"maxCardCount\":1,\"products\":[{\"addToWishlist\":{\"action\":{\"constraints\":null,\"fallback\":null,\"loginType\":\"LOGIN_NOT_REQUIRED\",\"omnitureData\":null,\"originalUrl\":null,\"params\":{\"valid\":true,\"productId\":\"MOBFM2WZGMU7DPZQ\"},\"screenType\":\"multiWidgetPage\",\"tracking\":{},\"type\":\"WISHLIST_ADD\",\"url\":null},\"metaData\":null,\"tracking\":null,\"trackingData\":null,\"value\":{\"type\":\"ProductActionValue\",\"actionType\":\"ADD_TO_WISHLIST\",\"enabled\":true}},\"productInfo\":{\"action\":{\"constraints\":null,\"fallback\":null,\"loginType\":\"LOGIN_NOT_REQUIRED\",\"omnitureData\":\"deep_linking\",\"originalUrl\":null,\"params\":{\"valid\":true,\"productId\":\"MOBFM2WZGMU7DPZQ\",\"marketplace\":\"FLIPKART\",\"screenName\":\"PRODUCT_PAGE\",\"listingId\":\"LSTMOBFM2WZGMU7DPZQGXSMJB\",\"pids\":[\"MOBFM2WZGMU7DPZQ\"],\"loadingStateKey\":\"LoadingStateDefaultNew\",\"lids\":[\"LSTMOBFM2WZGMU7DPZQGXSMJB\"]},\"screenType\":\"productPage\",\"tracking\":{\"impressionId\":\"e2aadff2-70f0-4556-83f6-dc3af3f628db.MOBFM2WZGMU7DPZQ.SEARCH\",\"prop64\":\"SS_ncemi:exco\",\"position\":\"9\",\"contentType\":\"productCard\",\"contextType\":\"widget\"},\"type\":\"NAVIGATION\",\"url\":\"/realme-5s-crystal-purple-64-gb/p/itm592977b0ba210?pid=MOBFM2WZGMU7DPZQ&lid=LSTMOBFM2WZGMU7DPZQGXSMJB&marketplace=FLIPKART\"},\"metaData\":null,\"tracking\":{\"impressionId\":\"e2aadff2-70f0-4556-83f6-dc3af3f628db.MOBFM2WZGMU7DPZQ.SEARCH\",\"prop64\":\"SS_ncemi:exco\",\"position\":\"9\",\"contentType\":\"productCard\",\"contextType\":\"widget\"},\"trackingData\":null,\"value\":{\"type\":\"ProductSummaryValue\",\"analyticsData\":{\"category\":\"Mobile\",\"subCategory\":\"Handset\",\"superCategory\":\"Mobile\",\"vertical\":\"Handset\"},\"availability\":{\"MessageIntent\":\"positive\",\"displayState\":\"IN_STOCK\",\"intent\":\"positive\",\"showMessage\":false},\"baseUrl\":\"/realme-5s-crystal-purple-64-gb/p/itm592977b0ba210?pid=MOBFM2WZGMU7DPZQ\",\"buyability\":{\"intent\":\"positive\",\"message\":null,\"showMessage\":false},\"conditionCallout\":false,\"flags\":{\"enableChat\":true,\"enableCompare\":true,\"enableFlipkartAdvantage\":true,\"enableOfferTag\":true,\"enableVisualDiscovery\":false,\"enableWishlist\":true,\"showSecondaryTitle\":true,\"swatchAvailableOnBrowsePage\":true},\"grade\":{\"color\":null,\"id\":null,\"name\":null,\"shortDesc\":null},\"id\":\"MOBFM2WZGMU7DPZQ\",\"itemId\":\"ITM592977B0BA210\",\"keySpecs\":[\"4 GB RAM | 64 GB ROM | Expandable Upto 256 GB\",\"16.51 cm (6.5 inch) HD+ Display\",\"48MP + 8MP + 2MP + 2MP | 13MP Front Camera\",\"5000 mAh Battery\",\"Qualcomm Snapdragon 665 Processor\",\"HD+ Mini Drop Display\",\"48 MP AI Quad camera\"],\"listingId\":\"LSTMOBFM2WZGMU7DPZQGXSMJB\",\"media\":{\"images\":[{\"aspectRatio\":null,\"contentInfo\":null,\"height\":null,\"url\":\"http://rukmini1.flixcart.com/image/{@width}/{@height}/k34rki80/mobile/p/z/q/realme-5s-rmx1925-original-imafmbm6hp9eutam.jpeg?q={@quality}\",\"width\":null},{\"aspectRatio\":null,\"contentInfo\":null,\"height\":null,\"url\":\"http://rukmini1.flixcart.com/image/{@width}/{@height}/k34rki80/mobile/p/z/q/realme-5s-rmx1925-original-imafmbm6chrqnf83.jpeg?q={@quality}\",\"width\":null},{\"aspectRatio\":null,\"contentInfo\":null,\"height\":null,\"url\":\"http://rukmini1.flixcart.com/image/{@width}/{@height}/k34rki80/mobile/p/z/q/realme-5s-rmx1925-original-imafmbm6fdnyehht.jpeg?q={@quality}\",\"width\":null},{\"aspectRatio\":null,\"contentInfo\":null,\"height\":null,\"url\":\"http://rukmini1.flixcart.com/image/{@width}/{@height}/k34rki80/mobile/p/z/q/realme-5s-rmx1925-original-imafmbm6jbwwbbf2.jpeg?q={@quality}\",\"width\":null},{\"aspectRatio\":null,\"contentInfo\":null,\"height\":null,\"url\":\"http://rukmini1.flixcart.com/image/{@width}/{@height}/k34rki80/mobile/p/z/q/realme-5s-rmx1925-original-imafmbm6xxbfxfm8.jpeg?q={@quality}\",\"width\":null},{\"aspectRatio\":null,\"contentInfo\":null,\"height\":null,\"url\":\"http://rukmini1.flixcart.com/image/{@width}/{@height}/k34rki80/mobile/p/z/q/realme-5s-rmx1925-original-imafmbm6zzezebz5.jpeg?q={@quality}\",\"width\":null},{\"aspectRatio\":null,\"contentInfo\":null,\"height\":null,\"url\":\"http://rukmini1.flixcart.com/image/{@width}/{@height}/k34rki80/mobile/p/z/q/realme-5s-rmx1925-original-imafmbm65kyagbwy.jpeg?q={@quality}\",\"width\":null},{\"aspectRatio\":null,\"contentInfo\":null,\"height\":null,\"url\":\"http://rukmini1.flixcart.com/image/{@width}/{@height}/k34rki80/mobile/p/z/q/realme-5s-rmx1925-original-imafmbm662gyxyqq.jpeg?q={@quality}\",\"width\":null}],\"videos\":[{\"height\":null,\"videoId\":\"ga073rf8Hj4\",\"videoProvider\":\"YOUTUBE\",\"videoType\":\"THUMBNAIL\",\"width\":null}]},\"minKeySpecs\":[\"4 GB RAM | 64 GB Storage\",\"16.51 cm (6.5 inch) HD+ Display\",\"5000 mAh\",\"48MP + 8MP + 2MP + 2MP\",\"13MP Front Camera\"],\"pricing\":{\"type\":\"ListingPriceValue\",\"deliveryCharge\":{\"additionalText\":null,\"currency\":\"INR\",\"decimalValue\":\"0.00\",\"discount\":null,\"downpaymentRate\":0,\"downpaymentRequired\":false,\"name\":\"Delivery Charges\",\"priceType\":null,\"strikeOff\":false,\"value\":0},\"discountAmount\":2000,\"extraDiscount\":null,\"finalPrice\":{\"additionalText\":null,\"currency\":\"INR\",\"decimalValue\":\"9999.00\",\"discount\":null,\"downpaymentRate\":0,\"downpaymentRequired\":false,\"name\":\"Total\",\"priceType\":null,\"strikeOff\":false,\"value\":9999},\"finalSavingsText\":null,\"knowMore\":null,\"mrp\":{\"additionalText\":\"(incl. of all taxes)\",\"currency\":\"INR\",\"decimalValue\":\"11999.00\",\"discount\":null,\"downpaymentRate\":0,\"downpaymentRequired\":false,\"name\":\"Maximum Retail Price\",\"priceType\":null,\"strikeOff\":true,\"value\":11999},\"partPriceInfo\":null,\"plusPriceInfo\":null,\"priceDescriptions\":null,\"pricePerUnit\":null,\"priceTags\":null,\"prices\":[{\"additionalText\":null,\"currency\":\"INR\",\"decimalValue\":\"11999.00\",\"discount\":16,\"downpaymentRate\":0,\"downpaymentRequired\":false,\"name\":\"Selling Price\",\"priceType\":\"FSP\",\"strikeOff\":true,\"value\":11999},{\"additionalText\":null,\"currency\":\"INR\",\"decimalValue\":\"9999.00\",\"discount\":null,\"downpaymentRate\":0,\"downpaymentRequired\":false,\"name\":\"Special Price\",\"priceType\":\"SPECIAL_PRICE\",\"strikeOff\":false,\"value\":9999}],\"showDiscountAsAmount\":false,\"totalDiscount\":16},\"productBrand\":\"Realme\",\"productCardTagDetails\":[{\"image\":{\"type\":\"ImageValue\",\"dynamicImageUrl\":\"https://rukminim1.flixcart.com/www/{@width}/{@height}/promos/21/07/2017/e8625e14-3277-4f16-a4d4-df8ed525905b.png?q={@quality}\",\"height\":0,\"width\":0},\"tagDetails\":null,\"type\":\"F_ASSURED\"}],\"rating\":{\"type\":\"RatingValue\",\"average\":4.4,\"base\":5,\"breakup\":[5941,2730,8558,28524,93975],\"count\":139728,\"histogramBaseCount\":93975,\"reviewCount\":13248},\"smartUrl\":\"http://dl.flipkart.com/dl/realme-5s-crystal-purple-64-gb/p/itm592977b0ba210?pid=MOBFM2WZGMU7DPZQ\",\"tags\":[\"Exchange Offer\"],\"titles\":{\"subtitle\":\"4 GB RAM\",\"title\":\"Realme 5s (Crystal Purple, 64 GB)\"},\"vertical\":\"mobile\",\"warrantySummary\":\"Brand Warranty of 1 Year Available for Mobile and 6 Months for Accessories\"}},\"snippets\":[{\"type\":\"FormattedMessageValue\",\"data\":[{\"type\":\"FormattedRichTextData\",\"value\":{\"type\":\"RichTextValue\",\"style\":{\"color\":\"#000000\",\"fontSize\":14,\"fontStyle\":\"normal\",\"fontWeight\":\"normal\"},\"text\":\"No Cost EMI\"}}]},{\"type\":\"FormattedMessageValue\",\"data\":[{\"type\":\"FormattedRichTextData\",\"value\":{\"type\":\"RichTextValue\",\"style\":{\"color\":\"#000000\",\"fontSize\":14,\"fontStyle\":\"normal\",\"fontWeight\":\"normal\"},\"text\":\"Upto \"}},{\"type\":\"FormattedRichTextData\",\"value\":{\"type\":\"RichTextValue\",\"style\":{\"color\":\"#000000\",\"fontSize\":14,\"fontStyle\":\"normal\",\"fontWeight\":\"bold\"},\"text\":\"\\xe2\\x82\\xb99,750\"}},{\"type\":\"FormattedRichTextData\",\"value\":{\"type\":\"RichTextValue\",\"style\":{\"color\":\"#000000\",\"fontSize\":14,\"fontStyle\":\"normal\",\"fontWeight\":\"normal\"},\"text\":\" Off on Exchange\"}}]}]}]}}},{\"slotType\":\"WIDGET\",\"id\":6001009,\"parentId\":10003,\"layoutParams\":{\"orientation\":\"\",\"widgetHeight\":150,\"widgetWidth\":12},\"dataId\":\"53624405\",\"elementId\":\"6001009-PRODUCT_SUMMARY\",\"hasWidgetDataChanged\":true,\"ttl\":3000,\"widget\":{\"type\":\"PRODUCT_SUMMARY\",\"viewType\":\"LIST_LARGE\",\"data\":{\"maxCardCount\":1,\"products\":[{\"addToWishlist\":{\"action\":{\"constraints\":null,\"fallback\":null,\"loginType\":\"LOGIN_NOT_REQUIRED\",\"omnitureData\":null,\"originalUrl\":null,\"params\":{\"valid\":true,\"productId\":\"MOBFM2WZ9AZUPTTZ\"},\"screenType\":\"multiWidgetPage\",\"tracking\":{},\"type\":\"WISHLIST_ADD\",\"url\":null},\"metaData\":null,\"tracking\":null,\"trackingData\":null,\"value\":{\"type\":\"ProductActionValue\",\"actionType\":\"ADD_TO_WISHLIST\",\"enabled\":true}},\"productInfo\":{\"action\":{\"constraints\":null,\"fallback\":null,\"loginType\":\"LOGIN_NOT_REQUIRED\",\"omnitureData\":\"deep_linking\",\"originalUrl\":null,\"params\":{\"valid\":true,\"productId\":\"MOBFM2WZ9AZUPTTZ\",\"marketplace\":\"FLIPKART\",\"screenName\":\"PRODUCT_PAGE\",\"listingId\":\"LSTMOBFM2WZ9AZUPTTZXXEDBC\",\"pids\":[\"MOBFM2WZ9AZUPTTZ\"],\"loadingStateKey\":\"LoadingStateDefaultNew\",\"lids\":[\"LSTMOBFM2WZ9AZUPTTZXXEDBC\"]},\"screenType\":\"productPage\",\"tracking\":{\"impressionId\":\"8c77cac4-4468-428e-b56a-96b3e0c6e1c0.MOBFM2WZ9AZUPTTZ.SEARCH\",\"prop64\":\"SS_ncemi:exco\",\"position\":\"10\",\"contentType\":\"productCard\",\"contextType\":\"widget\"},\"type\":\"NAVIGATION\",\"url\":\"/realme-5s-crystal-blue-64-gb/p/itm592977b0ba210?pid=MOBFM2WZ9AZUPTTZ&lid=LSTMOBFM2WZ9AZUPTTZXXEDBC&marketplace=FLIPKART\"},\"metaData\":null,\"tracking\":{\"impressionId\":\"8c77cac4-4468-428e-b56a-96b3e0c6e1c0.MOBFM2WZ9AZUPTTZ.SEARCH\",\"prop64\":\"SS_ncemi:exco\",\"position\":\"10\",\"contentType\":\"productCard\",\"contextType\":\"widget\"},\"trackingData\":null,\"value\":{\"type\":\"ProductSummaryValue\",\"analyticsData\":{\"category\":\"Mobile\",\"subCategory\":\"Handset\",\"superCategory\":\"Mobile\",\"vertical\":\"Handset\"},\"availability\":{\"MessageIntent\":\"positive\",\"displayState\":\"IN_STOCK\",\"intent\":\"positive\",\"showMessage\":false},\"baseUrl\":\"/realme-5s-crystal-blue-64-gb/p/itm592977b0ba210?pid=MOBFM2WZ9AZUPTTZ\",\"buyability\":{\"intent\":\"positive\",\"message\":null,\"showMessage\":false},\"conditionCallout\":false,\"flags\":{\"enableChat\":true,\"enableCompare\":true,\"enableFlipkartAdvantage\":true,\"enableOfferTag\":true,\"enableVisualDiscovery\":false,\"enableWishlist\":true,\"showSecondaryTitle\":true,\"swatchAvailableOnBrowsePage\":true},\"grade\":{\"color\":null,\"id\":null,\"name\":null,\"shortDesc\":null},\"id\":\"MOBFM2WZ9AZUPTTZ\",\"itemId\":\"ITM592977B0BA210\",\"keySpecs\":[\"4 GB RAM | 64 GB ROM | Expandable Upto 256 GB\",\"16.51 cm (6.5 inch) HD+ Display\",\"48MP + 8MP + 2MP + 2MP | 13MP Front Camera\",\"5000 mAh Battery\",\"Qualcomm Snapdragon 665 Processor\",\"HD+ Mini Drop Display\",\"48 MP AI Quad camera\"],\"listingId\":\"LSTMOBFM2WZ9AZUPTTZXXEDBC\",\"media\":{\"images\":[{\"aspectRatio\":null,\"contentInfo\":null,\"height\":null,\"url\":\"http://rukmini1.flixcart.com/image/{@width}/{@height}/k34rki80/mobile/t/t/z/realme-5s-rmx1925-original-imafmbm6hatkkzys.jpeg?q={@quality}\",\"width\":null},{\"aspectRatio\":null,\"contentInfo\":null,\"height\":null,\"url\":\"http://rukmini1.flixcart.com/image/{@width}/{@height}/k34rki80/mobile/t/t/z/realme-5s-rmx1925-original-imafmbm6tpkregsq.jpeg?q={@quality}\",\"width\":null},{\"aspectRatio\":null,\"contentInfo\":null,\"height\":null,\"url\":\"http://rukmini1.flixcart.com/image/{@width}/{@height}/k34rki80/mobile/t/t/z/realme-5s-rmx1925-original-imafmbm65dwgffqg.jpeg?q={@quality}\",\"width\":null},{\"aspectRatio\":null,\"contentInfo\":null,\"height\":null,\"url\":\"http://rukmini1.flixcart.com/image/{@width}/{@height}/k34rki80/mobile/t/t/z/realme-5s-rmx1925-original-imafmbm6e3szwd72.jpeg?q={@quality}\",\"width\":null},{\"aspectRatio\":null,\"contentInfo\":null,\"height\":null,\"url\":\"http://rukmini1.flixcart.com/image/{@width}/{@height}/k34rki80/mobile/t/t/z/realme-5s-rmx1925-original-imafmbm6d6sjyhae.jpeg?q={@quality}\",\"width\":null},{\"aspectRatio\":null,\"contentInfo\":null,\"height\":null,\"url\":\"http://rukmini1.flixcart.com/image/{@width}/{@height}/k34rki80/mobile/t/t/z/realme-5s-rmx1925-original-imafmbm6wcagxhhy.jpeg?q={@quality}\",\"width\":null},{\"aspectRatio\":null,\"contentInfo\":null,\"height\":null,\"url\":\"http://rukmini1.flixcart.com/image/{@width}/{@height}/k34rki80/mobile/t/t/z/realme-5s-rmx1925-original-imafmbm67vvxya5c.jpeg?q={@quality}\",\"width\":null},{\"aspectRatio\":null,\"contentInfo\":null,\"height\":null,\"url\":\"http://rukmini1.flixcart.com/image/{@width}/{@height}/k34rki80/mobile/t/t/z/realme-5s-rmx1925-original-imafmbm6shwwzh9d.jpeg?q={@quality}\",\"width\":null}],\"videos\":[{\"height\":null,\"videoId\":\"ga073rf8Hj4\",\"videoProvider\":\"YOUTUBE\",\"videoType\":\"THUMBNAIL\",\"width\":null}]},\"minKeySpecs\":[\"4 GB RAM | 64 GB Storage\",\"16.51 cm (6.5 inch) HD+ Display\",\"5000 mAh\",\"48MP + 8MP + 2MP + 2MP\",\"13MP Front Camera\"],\"pricing\":{\"type\":\"ListingPriceValue\",\"deliveryCharge\":{\"additionalText\":null,\"currency\":\"INR\",\"decimalValue\":\"0.00\",\"discount\":null,\"downpaymentRate\":0,\"downpaymentRequired\":false,\"name\":\"Delivery Charges\",\"priceType\":null,\"strikeOff\":false,\"value\":0},\"discountAmount\":2000,\"extraDiscount\":null,\"finalPrice\":{\"additionalText\":null,\"currency\":\"INR\",\"decimalValue\":\"9999.00\",\"discount\":null,\"downpaymentRate\":0,\"downpaymentRequired\":false,\"name\":\"Total\",\"priceType\":null,\"strikeOff\":false,\"value\":9999},\"finalSavingsText\":null,\"knowMore\":null,\"mrp\":{\"additionalText\":\"(incl. of all taxes)\",\"currency\":\"INR\",\"decimalValue\":\"11999.00\",\"discount\":null,\"downpaymentRate\":0,\"downpaymentRequired\":false,\"name\":\"Maximum Retail Price\",\"priceType\":null,\"strikeOff\":true,\"value\":11999},\"partPriceInfo\":null,\"plusPriceInfo\":null,\"priceDescriptions\":null,\"pricePerUnit\":null,\"priceTags\":null,\"prices\":[{\"additionalText\":null,\"currency\":\"INR\",\"decimalValue\":\"11999.00\",\"discount\":16,\"downpaymentRate\":0,\"downpaymentRequired\":false,\"name\":\"Selling Price\",\"priceType\":\"FSP\",\"strikeOff\":true,\"value\":11999},{\"additionalText\":null,\"currency\":\"INR\",\"decimalValue\":\"9999.00\",\"discount\":null,\"downpaymentRate\":0,\"downpaymentRequired\":false,\"name\":\"Special Price\",\"priceType\":\"SPECIAL_PRICE\",\"strikeOff\":false,\"value\":9999}],\"showDiscountAsAmount\":false,\"totalDiscount\":16},\"productBrand\":\"Realme\",\"productCardTagDetails\":[{\"image\":{\"type\":\"ImageValue\",\"dynamicImageUrl\":\"https://rukminim1.flixcart.com/www/{@width}/{@height}/promos/21/07/2017/e8625e14-3277-4f16-a4d4-df8ed525905b.png?q={@quality}\",\"height\":0,\"width\":0},\"tagDetails\":null,\"type\":\"F_ASSURED\"}],\"rating\":{\"type\":\"RatingValue\",\"average\":4.4,\"base\":5,\"breakup\":[5941,2730,8558,28524,93975],\"count\":139728,\"histogramBaseCount\":93975,\"reviewCount\":13248},\"smartUrl\":\"http://dl.flipkart.com/dl/realme-5s-crystal-blue-64-gb/p/itm592977b0ba210?pid=MOBFM2WZ9AZUPTTZ\",\"tags\":[\"Exchange Offer\"],\"titles\":{\"subtitle\":\"4 GB RAM\",\"title\":\"Realme 5s (Crystal Blue, 64 GB)\"},\"vertical\":\"mobile\",\"warrantySummary\":\"Brand Warranty of 1 Year Available for Mobile and 6 Months for Accessories\"}},\"snippets\":[{\"type\":\"FormattedMessageValue\",\"data\":[{\"type\":\"FormattedRichTextData\",\"value\":{\"type\":\"RichTextValue\",\"style\":{\"color\":\"#000000\",\"fontSize\":14,\"fontStyle\":\"normal\",\"fontWeight\":\"normal\"},\"text\":\"No Cost EMI\"}}]},{\"type\":\"FormattedMessageValue\",\"data\":[{\"type\":\"FormattedRichTextData\",\"value\":{\"type\":\"RichTextValue\",\"style\":{\"color\":\"#000000\",\"fontSize\":14,\"fontStyle\":\"normal\",\"fontWeight\":\"normal\"},\"text\":\"Upto \"}},{\"type\":\"FormattedRichTextData\",\"value\":{\"type\":\"RichTextValue\",\"style\":{\"color\":\"#000000\",\"fontSize\":14,\"fontStyle\":\"normal\",\"fontWeight\":\"bold\"},\"text\":\"\\xe2\\x82\\xb99,750\"}},{\"type\":\"FormattedRichTextData\",\"value\":{\"type\":\"RichTextValue\",\"style\":{\"color\":\"#000000\",\"fontSize\":14,\"fontStyle\":\"normal\",\"fontWeight\":\"normal\"},\"text\":\" Off on Exchange\"}}]}]}]}}},{\"slotType\":\"WIDGET\",\"id\":6001010,\"parentId\":10003,\"layoutParams\":{\"orientation\":\"\",\"widgetHeight\":150,\"widgetWidth\":12},\"dataId\":\"197606881\",\"elementId\":\"6001010-PRODUCT_SUMMARY\",\"hasWidgetDataChanged\":true,\"ttl\":3000,\"widget\":{\"type\":\"PRODUCT_SUMMARY\",\"viewType\":\"LIST_LARGE\",\"data\":{\"maxCardCount\":1,\"products\":[{\"addToWishlist\":{\"action\":{\"constraints\":null,\"fallback\":null,\"loginType\":\"LOGIN_NOT_REQUIRED\",\"omnitureData\":null,\"originalUrl\":null,\"params\":{\"valid\":true,\"productId\":\"MOBFKPYDCVSCZBYR\"},\"screenType\":\"multiWidgetPage\",\"tracking\":{},\"type\":\"WISHLIST_ADD\",\"url\":null},\"metaData\":null,\"tracking\":null,\"trackingData\":null,\"value\":{\"type\":\"ProductActionValue\",\"actionType\":\"ADD_TO_WISHLIST\",\"enabled\":true}},\"productInfo\":{\"action\":{\"constraints\":null,\"fallback\":null,\"loginType\":\"LOGIN_NOT_REQUIRED\",\"omnitureData\":\"deep_linking\",\"originalUrl\":null,\"params\":{\"valid\":true,\"productId\":\"MOBFKPYDCVSCZBYR\",\"marketplace\":\"FLIPKART\",\"screenName\":\"PRODUCT_PAGE\",\"listingId\":\"LSTMOBFKPYDCVSCZBYRIZZUTP\",\"pids\":[\"MOBFKPYDCVSCZBYR\"],\"loadingStateKey\":\"LoadingStateDefaultNew\",\"lids\":[\"LSTMOBFKPYDCVSCZBYRIZZUTP\"]},\"screenType\":\"productPage\",\"tracking\":{\"impressionId\":\"5d53c871-53ac-477e-97fb-bf9d0821d97e.MOBFKPYDCVSCZBYR.SEARCH\",\"prop64\":\"SS_ncemi:exco\",\"position\":\"11\",\"contentType\":\"productCard\",\"contextType\":\"widget\"},\"type\":\"NAVIGATION\",\"url\":\"/redmi-8-ruby-red-64-gb/p/itm77e109b951360?pid=MOBFKPYDCVSCZBYR&lid=LSTMOBFKPYDCVSCZBYRIZZUTP&marketplace=FLIPKART\"},\"metaData\":null,\"tracking\":{\"impressionId\":\"5d53c871-53ac-477e-97fb-bf9d0821d97e.MOBFKPYDCVSCZBYR.SEARCH\",\"prop64\":\"SS_ncemi:exco\",\"position\":\"11\",\"contentType\":\"productCard\",\"contextType\":\"widget\"},\"trackingData\":null,\"value\":{\"type\":\"ProductSummaryValue\",\"analyticsData\":{\"category\":\"Mobile\",\"subCategory\":\"Handset\",\"superCategory\":\"Mobile\",\"vertical\":\"Handset\"},\"availability\":{\"MessageIntent\":\"positive\",\"displayState\":\"IN_STOCK\",\"intent\":\"positive\",\"showMessage\":false},\"baseUrl\":\"/redmi-8-ruby-red-64-gb/p/itm77e109b951360?pid=MOBFKPYDCVSCZBYR\",\"buyability\":{\"intent\":\"positive\",\"message\":null,\"showMessage\":false},\"conditionCallout\":false,\"exclusiveTag\":\"#JustHere\",\"flags\":{\"enableChat\":true,\"enableCompare\":true,\"enableFlipkartAdvantage\":true,\"enableOfferTag\":true,\"enableVisualDiscovery\":false,\"enableWishlist\":true,\"showSecondaryTitle\":true,\"swatchAvailableOnBrowsePage\":true},\"grade\":{\"color\":null,\"id\":null,\"name\":null,\"shortDesc\":null},\"id\":\"MOBFKPYDCVSCZBYR\",\"itemId\":\"ITM77E109B951360\",\"keySpecs\":[\"4 GB RAM | 64 GB ROM | Expandable Upto 512 GB\",\"15.8 cm (6.22 inch) HD+ Display\",\"12MP + 2MP | 8MP Front Camera\",\"5000 mAh Battery\",\"Qualcomm Snapdragon 439 Processor\"],\"listingId\":\"LSTMOBFKPYDCVSCZBYRIZZUTP\",\"media\":{\"images\":[{\"aspectRatio\":null,\"contentInfo\":null,\"height\":null,\"url\":\"http://rukmini1.flixcart.com/image/{@width}/{@height}/k1fbmvk0/mobile/4/f/f/mi-redmi-8-mzb8251in-original-imafhyacmxaefxgw.jpeg?q={@quality}\",\"width\":null},{\"aspectRatio\":null,\"contentInfo\":null,\"height\":null,\"url\":\"http://rukmini1.flixcart.com/image/{@width}/{@height}/k1l1ea80/mobile/4/f/f/mi-redmi-8-mzb8251in-original-imafh23t7q7ghkuq.jpeg?q={@quality}\",\"width\":null},{\"aspectRatio\":null,\"contentInfo\":null,\"height\":null,\"url\":\"http://rukmini1.flixcart.com/image/{@width}/{@height}/k1fbmvk0/mobile/4/f/f/mi-redmi-8-mzb8251in-original-imafhyacvweh9gxf.jpeg?q={@quality}\",\"width\":null},{\"aspectRatio\":null,\"contentInfo\":null,\"height\":null,\"url\":\"http://rukmini1.flixcart.com/image/{@width}/{@height}/k1l1ea80/mobile/4/f/f/mi-redmi-8-mzb8251in-original-imafh23tghpnfj4h.jpeg?q={@quality}\",\"width\":null},{\"aspectRatio\":null,\"contentInfo\":null,\"height\":null,\"url\":\"http://rukmini1.flixcart.com/image/{@width}/{@height}/k1l1ea80/mobile/4/f/f/mi-redmi-8-mzb8251in-original-imafh23th3bqw8dr.jpeg?q={@quality}\",\"width\":null},{\"aspectRatio\":null,\"contentInfo\":null,\"height\":null,\"url\":\"http://rukmini1.flixcart.com/image/{@width}/{@height}/k1l1ea80/mobile/4/f/f/mi-redmi-8-mzb8251in-original-imafh23tzhbyfpx2.jpeg?q={@quality}\",\"width\":null},{\"aspectRatio\":null,\"contentInfo\":null,\"height\":null,\"url\":\"http://rukmini1.flixcart.com/image/{@width}/{@height}/k1l1ea80/mobile/4/f/f/mi-redmi-8-mzb8251in-original-imafh23td7cg8cth.jpeg?q={@quality}\",\"width\":null},{\"aspectRatio\":null,\"contentInfo\":null,\"height\":null,\"url\":\"http://rukmini1.flixcart.com/image/{@width}/{@height}/k1fbmvk0/mobile/4/f/f/mi-redmi-8-mzb8251in-original-imafhyacng8eqqwb.jpeg?q={@quality}\",\"width\":null},{\"aspectRatio\":null,\"contentInfo\":null,\"height\":null,\"url\":\"http://rukmini1.flixcart.com/image/{@width}/{@height}/k1fbmvk0/mobile/4/f/f/mi-redmi-8-mzb8251in-original-imafhyacqsf5fktx.jpeg?q={@quality}\",\"width\":null}],\"videos\":[{\"height\":null,\"videoId\":\"SNp1C7910iA\",\"videoProvider\":\"YOUTUBE\",\"videoType\":\"THUMBNAIL\",\"width\":null}]},\"minKeySpecs\":[\"4 GB RAM | 64 GB Storage\",\"15.8 cm (6.22 inch) HD+ Display\",\"5000 mAh\",\"12MP + 2MP\",\"8MP Front Camera\"],\"pricing\":{\"type\":\"ListingPriceValue\",\"deliveryCharge\":{\"additionalText\":null,\"currency\":\"INR\",\"decimalValue\":\"0.00\",\"discount\":null,\"downpaymentRate\":0,\"downpaymentRequired\":false,\"name\":\"Delivery Charges\",\"priceType\":null,\"strikeOff\":false,\"value\":0},\"discountAmount\":3000,\"extraDiscount\":null,\"finalPrice\":{\"additionalText\":null,\"currency\":\"INR\",\"decimalValue\":\"7999.00\",\"discount\":null,\"downpaymentRate\":0,\"downpaymentRequired\":false,\"name\":\"Total\",\"priceType\":null,\"strikeOff\":false,\"value\":7999},\"finalSavingsText\":null,\"knowMore\":null,\"mrp\":{\"additionalText\":\"(incl. of all taxes)\",\"currency\":\"INR\",\"decimalValue\":\"10999.00\",\"discount\":null,\"downpaymentRate\":0,\"downpaymentRequired\":false,\"name\":\"Maximum Retail Price\",\"priceType\":null,\"strikeOff\":true,\"value\":10999},\"partPriceInfo\":null,\"plusPriceInfo\":null,\"priceDescriptions\":null,\"pricePerUnit\":null,\"priceTags\":null,\"prices\":[{\"additionalText\":null,\"currency\":\"INR\",\"decimalValue\":\"10999.00\",\"discount\":27,\"downpaymentRate\":0,\"downpaymentRequired\":false,\"name\":\"Selling Price\",\"priceType\":\"FSP\",\"strikeOff\":true,\"value\":10999},{\"additionalText\":null,\"currency\":\"INR\",\"decimalValue\":\"7999.00\",\"discount\":null,\"downpaymentRate\":0,\"downpaymentRequired\":false,\"name\":\"Special Price\",\"priceType\":\"SPECIAL_PRICE\",\"strikeOff\":false,\"value\":7999}],\"showDiscountAsAmount\":false,\"totalDiscount\":27},\"productBrand\":\"Mi\",\"productCardTagDetails\":[{\"image\":{\"type\":\"ImageValue\",\"dynamicImageUrl\":\"https://rukminim1.flixcart.com/www/{@width}/{@height}/promos/21/07/2017/e8625e14-3277-4f16-a4d4-df8ed525905b.png?q={@quality}\",\"height\":0,\"width\":0},\"tagDetails\":null,\"type\":\"F_ASSURED\"}],\"rating\":{\"type\":\"RatingValue\",\"average\":4.4,\"base\":5,\"breakup\":[13747,6451,19627,63561,205562],\"count\":308948,\"histogramBaseCount\":205562,\"reviewCount\":27494},\"smartUrl\":\"http://dl.flipkart.com/dl/redmi-8-ruby-red-64-gb/p/itm77e109b951360?pid=MOBFKPYDCVSCZBYR\",\"tags\":[\"Exchange Offer\"],\"titles\":{\"subtitle\":\"4 GB RAM\",\"title\":\"Redmi 8 (Ruby Red, 64 GB)\"},\"vertical\":\"mobile\",\"warrantySummary\":\"Brand Warranty of 1 Year Available for Mobile and 6 Months for Accessories\"}},\"snippets\":[{\"type\":\"FormattedMessageValue\",\"data\":[{\"type\":\"FormattedRichTextData\",\"value\":{\"type\":\"RichTextValue\",\"style\":{\"color\":\"#000000\",\"fontSize\":14,\"fontStyle\":\"normal\",\"fontWeight\":\"normal\"},\"text\":\"No Cost EMI\"}}]},{\"type\":\"FormattedMessageValue\",\"data\":[{\"type\":\"FormattedRichTextData\",\"value\":{\"type\":\"RichTextValue\",\"style\":{\"color\":\"#000000\",\"fontSize\":14,\"fontStyle\":\"normal\",\"fontWeight\":\"normal\"},\"text\":\"Upto \"}},{\"type\":\"FormattedRichTextData\",\"value\":{\"type\":\"RichTextValue\",\"style\":{\"color\":\"#000000\",\"fontSize\":14,\"fontStyle\":\"normal\",\"fontWeight\":\"bold\"},\"text\":\"\\xe2\\x82\\xb97,950\"}},{\"type\":\"FormattedRichTextData\",\"value\":{\"type\":\"RichTextValue\",\"style\":{\"color\":\"#000000\",\"fontSize\":14,\"fontStyle\":\"normal\",\"fontWeight\":\"normal\"},\"text\":\" Off on Exchange\"}}]}]}]}}},{\"slotType\":\"WIDGET\",\"id\":6001011,\"parentId\":10003,\"layoutParams\":{\"orientation\":\"\",\"widgetHeight\":150,\"widgetWidth\":12},\"dataId\":\"-1704464489\",\"elementId\":\"6001011-PRODUCT_SUMMARY\",\"hasWidgetDataChanged\":true,\"ttl\":3000,\"widget\":{\"type\":\"PRODUCT_SUMMARY\",\"viewType\":\"LIST_LARGE\",\"data\":{\"maxCardCount\":1,\"products\":[{\"addToWishlist\":{\"action\":{\"constraints\":null,\"fallback\":null,\"loginType\":\"LOGIN_NOT_REQUIRED\",\"omnitureData\":null,\"originalUrl\":null,\"params\":{\"valid\":true,\"productId\":\"MOBFHHT5DEGWB9JE\"},\"screenType\":\"multiWidgetPage\",\"tracking\":{},\"type\":\"WISHLIST_ADD\",\"url\":null},\"metaData\":null,\"tracking\":null,\"trackingData\":null,\"value\":{\"type\":\"ProductActionValue\",\"actionType\":\"ADD_TO_WISHLIST\",\"enabled\":true}},\"productInfo\":{\"action\":{\"constraints\":null,\"fallback\":null,\"loginType\":\"LOGIN_NOT_REQUIRED\",\"omnitureData\":\"deep_linking\",\"originalUrl\":null,\"params\":{\"valid\":true,\"productId\":\"MOBFHHT5DEGWB9JE\",\"marketplace\":\"FLIPKART\",\"screenName\":\"PRODUCT_PAGE\",\"listingId\":\"LSTMOBFHHT5DEGWB9JEJSQP1F\",\"pids\":[\"MOBFHHT5DEGWB9JE\"],\"loadingStateKey\":\"LoadingStateDefaultNew\",\"lids\":[\"LSTMOBFHHT5DEGWB9JEJSQP1F\"]},\"screenType\":\"productPage\",\"tracking\":{\"impressionId\":\"49569d13-9caa-4943-a2f2-1f4982af467e.MOBFHHT5DEGWB9JE.SEARCH\",\"prop64\":\"SS_ncemi:exco\",\"position\":\"12\",\"contentType\":\"productCard\",\"contextType\":\"widget\"},\"type\":\"NAVIGATION\",\"url\":\"/vivo-z1pro-sonic-black-64-gb/p/itmfghyebfrvjzfs?pid=MOBFHHT5DEGWB9JE&lid=LSTMOBFHHT5DEGWB9JEJSQP1F&marketplace=FLIPKART\"},\"metaData\":null,\"tracking\":{\"impressionId\":\"49569d13-9caa-4943-a2f2-1f4982af467e.MOBFHHT5DEGWB9JE.SEARCH\",\"prop64\":\"SS_ncemi:exco\",\"position\":\"12\",\"contentType\":\"productCard\",\"contextType\":\"widget\"},\"trackingData\":null,\"value\":{\"type\":\"ProductSummaryValue\",\"analyticsData\":{\"category\":\"Mobile\",\"subCategory\":\"Handset\",\"superCategory\":\"Mobile\",\"vertical\":\"Handset\"},\"availability\":{\"MessageIntent\":\"positive\",\"displayState\":\"IN_STOCK\",\"intent\":\"positive\",\"showMessage\":false},\"baseUrl\":\"/vivo-z1pro-sonic-black-64-gb/p/itmfghyebfrvjzfs?pid=MOBFHHT5DEGWB9JE\",\"buyability\":{\"intent\":\"positive\",\"message\":null,\"showMessage\":false},\"conditionCallout\":false,\"exclusiveTag\":\"#JustHere\",\"flags\":{\"enableChat\":true,\"enableCompare\":true,\"enableFlipkartAdvantage\":true,\"enableOfferTag\":true,\"enableVisualDiscovery\":false,\"enableWishlist\":true,\"showSecondaryTitle\":true,\"swatchAvailableOnBrowsePage\":true},\"grade\":{\"color\":null,\"id\":null,\"name\":null,\"shortDesc\":null},\"id\":\"MOBFHHT5DEGWB9JE\",\"itemId\":\"ITMFGHYEBFRVJZFS\",\"keySpecs\":[\"6 GB RAM | 64 GB ROM | Expandable Upto 256 GB\",\"16.59 cm (6.53 inch) Full HD+ Display\",\"16MP + 2MP + 8MP | 32MP Front Camera\",\"5000 mAh Battery\",\"Qualcomm Snapdragon 712 AIE Octa Core 2.3GHz Processor\",\"Fast Charging\",\"Triple Card Slot\"],\"listingId\":\"LSTMOBFHHT5DEGWB9JEJSQP1F\",\"media\":{\"images\":[{\"aspectRatio\":null,\"contentInfo\":null,\"height\":null,\"url\":\"http://rukmini1.flixcart.com/image/{@width}/{@height}/k2jbyq80pkrrdj/mobile-refurbished/u/n/j/z1pro-64-d-1951-pd1911f-ex-vivo-6-original-imafhmyaytjannkv.jpeg?q={@quality}\",\"width\":null},{\"aspectRatio\":null,\"contentInfo\":null,\"height\":null,\"url\":\"http://rukmini1.flixcart.com/image/{@width}/{@height}/k2jbyq80pkrrdj/mobile-refurbished/u/n/j/z1pro-64-d-1951-pd1911f-ex-vivo-6-original-imafhmyahpruezkd.jpeg?q={@quality}\",\"width\":null},{\"aspectRatio\":null,\"contentInfo\":null,\"height\":null,\"url\":\"http://rukmini1.flixcart.com/image/{@width}/{@height}/k2jbyq80pkrrdj/mobile-refurbished/p/u/e/z1pro-64-a-1951-pd1911f-ex-vivo-4-original-imafhmyawwnvdg85.jpeg?q={@quality}\",\"width\":null},{\"aspectRatio\":null,\"contentInfo\":null,\"height\":null,\"url\":\"http://rukmini1.flixcart.com/image/{@width}/{@height}/k2jbyq80pkrrdj/mobile-refurbished/z/6/f/z1pro-128-a-1951-pd1911f-ex-vivo-6-original-imafhmyagrwwjtst.jpeg?q={@quality}\",\"width\":null},{\"aspectRatio\":null,\"contentInfo\":null,\"height\":null,\"url\":\"http://rukmini1.flixcart.com/image/{@width}/{@height}/k2jbyq80pkrrdj/mobile-refurbished/y/b/y/z1pro-128-d-1951-pd1911f-ex-vivo-6-original-imafhmyabthxrdmb.jpeg?q={@quality}\",\"width\":null},{\"aspectRatio\":null,\"contentInfo\":null,\"height\":null,\"url\":\"http://rukmini1.flixcart.com/image/{@width}/{@height}/k2jbyq80pkrrdj/mobile-refurbished/z/6/f/z1pro-128-a-1951-pd1911f-ex-vivo-6-original-imafhmya7bcvgfae.jpeg?q={@quality}\",\"width\":null},{\"aspectRatio\":null,\"contentInfo\":null,\"height\":null,\"url\":\"http://rukmini1.flixcart.com/image/{@width}/{@height}/k2jbyq80pkrrdj/mobile-refurbished/d/s/7/z1pro-64-d-1951-pd1911f-ex-vivo-4-original-imafhmyaafnsskjx.jpeg?q={@quality}\",\"width\":null},{\"aspectRatio\":null,\"contentInfo\":null,\"height\":null,\"url\":\"http://rukmini1.flixcart.com/image/{@width}/{@height}/k2jbyq80pkrrdj/mobile-refurbished/z/6/f/z1pro-128-a-1951-pd1911f-ex-vivo-6-original-imafhmyajjs7yfbc.jpeg?q={@quality}\",\"width\":null}]},\"minKeySpecs\":[\"6 GB RAM | 64 GB Storage\",\"16.59 cm (6.53 inch) Full HD+ Display\",\"5000 mAh\",\"16MP + 2MP + 8MP\",\"32MP Front Camera\"],\"pricing\":{\"type\":\"ListingPriceValue\",\"deliveryCharge\":{\"additionalText\":null,\"currency\":\"INR\",\"decimalValue\":\"0.00\",\"discount\":null,\"downpaymentRate\":0,\"downpaymentRequired\":false,\"name\":\"Delivery Charges\",\"priceType\":null,\"strikeOff\":false,\"value\":0},\"discountAmount\":4000,\"extraDiscount\":null,\"finalPrice\":{\"additionalText\":null,\"currency\":\"INR\",\"decimalValue\":\"13990.00\",\"discount\":null,\"downpaymentRate\":0,\"downpaymentRequired\":false,\"name\":\"Total\",\"priceType\":null,\"strikeOff\":false,\"value\":13990},\"finalSavingsText\":null,\"knowMore\":null,\"mrp\":{\"additionalText\":\"(incl. of all taxes)\",\"currency\":\"INR\",\"decimalValue\":\"17990.00\",\"discount\":null,\"downpaymentRate\":0,\"downpaymentRequired\":false,\"name\":\"Maximum Retail Price\",\"priceType\":null,\"strikeOff\":true,\"value\":17990},\"partPriceInfo\":null,\"plusPriceInfo\":null,\"priceDescriptions\":null,\"pricePerUnit\":null,\"priceTags\":null,\"prices\":[{\"additionalText\":null,\"currency\":\"INR\",\"decimalValue\":\"17990.00\",\"discount\":22,\"downpaymentRate\":0,\"downpaymentRequired\":false,\"name\":\"Selling Price\",\"priceType\":\"FSP\",\"strikeOff\":true,\"value\":17990},{\"additionalText\":null,\"currency\":\"INR\",\"decimalValue\":\"13990.00\",\"discount\":null,\"downpaymentRate\":0,\"downpaymentRequired\":false,\"name\":\"Special Price\",\"priceType\":\"SPECIAL_PRICE\",\"strikeOff\":false,\"value\":13990}],\"showDiscountAsAmount\":false,\"totalDiscount\":22},\"productBrand\":\"Vivo\",\"productCardTagDetails\":[{\"image\":{\"type\":\"ImageValue\",\"dynamicImageUrl\":\"https://rukminim1.flixcart.com/www/{@width}/{@height}/promos/21/07/2017/e8625e14-3277-4f16-a4d4-df8ed525905b.png?q={@quality}\",\"height\":0,\"width\":0},\"tagDetails\":null,\"type\":\"F_ASSURED\"}],\"rating\":{\"type\":\"RatingValue\",\"average\":4.5,\"base\":5,\"breakup\":[4192,1621,5485,21633,73114],\"count\":106045,\"histogramBaseCount\":73114,\"reviewCount\":10665},\"smartUrl\":\"http://dl.flipkart.com/dl/vivo-z1pro-sonic-black-64-gb/p/itmfghyebfrvjzfs?pid=MOBFHHT5DEGWB9JE\",\"tags\":[\"Exchange Offer\"],\"titles\":{\"subtitle\":\"6 GB RAM\",\"title\":\"Vivo Z1Pro (Sonic Black, 64 GB)\"},\"vertical\":\"mobile\",\"warrantySummary\":\"Brand Warranty of 1 Year Available for Mobile and 6 Months for Accessories\"}},\"snippets\":[{\"type\":\"FormattedMessageValue\",\"data\":[{\"type\":\"FormattedRichTextData\",\"value\":{\"type\":\"RichTextValue\",\"style\":{\"color\":\"#000000\",\"fontSize\":14,\"fontStyle\":\"normal\",\"fontWeight\":\"normal\"},\"text\":\"No Cost EMI\"}}]},{\"type\":\"FormattedMessageValue\",\"data\":[{\"type\":\"FormattedRichTextData\",\"value\":{\"type\":\"RichTextValue\",\"style\":{\"color\":\"#000000\",\"fontSize\":14,\"fontStyle\":\"normal\",\"fontWeight\":\"normal\"},\"text\":\"Upto \"}},{\"type\":\"FormattedRichTextData\",\"value\":{\"type\":\"RichTextValue\",\"style\":{\"color\":\"#000000\",\"fontSize\":14,\"fontStyle\":\"normal\",\"fontWeight\":\"bold\"},\"text\":\"\\xe2\\x82\\xb913,650\"}},{\"type\":\"FormattedRichTextData\",\"value\":{\"type\":\"RichTextValue\",\"style\":{\"color\":\"#000000\",\"fontSize\":14,\"fontStyle\":\"normal\",\"fontWeight\":\"normal\"},\"text\":\" Off on Exchange\"}}]}]}]}}},{\"slotType\":\"WIDGET\",\"id\":6001012,\"parentId\":10003,\"layoutParams\":{\"orientation\":\"\",\"widgetHeight\":150,\"widgetWidth\":12},\"dataId\":\"817618272\",\"elementId\":\"6001012-PRODUCT_SUMMARY\",\"hasWidgetDataChanged\":true,\"ttl\":3000,\"widget\":{\"type\":\"PRODUCT_SUMMARY\",\"viewType\":\"LIST_LARGE\",\"data\":{\"maxCardCount\":1,\"products\":[{\"addToWishlist\":{\"action\":{\"constraints\":null,\"fallback\":null,\"loginType\":\"LOGIN_NOT_REQUIRED\",\"omnitureData\":null,\"originalUrl\":null,\"params\":{\"valid\":true,\"productId\":\"MOBFHHT56NTTZKZ5\"},\"screenType\":\"multiWidgetPage\",\"tracking\":{},\"type\":\"WISHLIST_ADD\",\"url\":null},\"metaData\":null,\"tracking\":null,\"trackingData\":null,\"value\":{\"type\":\"ProductActionValue\",\"actionType\":\"ADD_TO_WISHLIST\",\"enabled\":true}},\"productInfo\":{\"action\":{\"constraints\":null,\"fallback\":null,\"loginType\":\"LOGIN_NOT_REQUIRED\",\"omnitureData\":\"deep_linking\",\"originalUrl\":null,\"params\":{\"valid\":true,\"productId\":\"MOBFHHT56NTTZKZ5\",\"marketplace\":\"FLIPKART\",\"screenName\":\"PRODUCT_PAGE\",\"listingId\":\"LSTMOBFHHT56NTTZKZ5PWUNSS\",\"pids\":[\"MOBFHHT56NTTZKZ5\"],\"loadingStateKey\":\"LoadingStateDefaultNew\",\"lids\":[\"LSTMOBFHHT56NTTZKZ5PWUNSS\"]},\"screenType\":\"productPage\",\"tracking\":{\"impressionId\":\"d0630e11-cbe1-4f54-820d-409507ed7b13.MOBFHHT56NTTZKZ5.SEARCH\",\"prop64\":\"SS_ncemi:exco\",\"position\":\"13\",\"contentType\":\"productCard\",\"contextType\":\"widget\"},\"type\":\"NAVIGATION\",\"url\":\"/vivo-z1pro-sonic-black-64-gb/p/itmfghyebfrvjzfs?pid=MOBFHHT56NTTZKZ5&lid=LSTMOBFHHT56NTTZKZ5PWUNSS&marketplace=FLIPKART\"},\"metaData\":null,\"tracking\":{\"impressionId\":\"d0630e11-cbe1-4f54-820d-409507ed7b13.MOBFHHT56NTTZKZ5.SEARCH\",\"prop64\":\"SS_ncemi:exco\",\"position\":\"13\",\"contentType\":\"productCard\",\"contextType\":\"widget\"},\"trackingData\":null,\"value\":{\"type\":\"ProductSummaryValue\",\"analyticsData\":{\"category\":\"Mobile\",\"subCategory\":\"Handset\",\"superCategory\":\"Mobile\",\"vertical\":\"Handset\"},\"availability\":{\"MessageIntent\":\"positive\",\"displayState\":\"IN_STOCK\",\"intent\":\"positive\",\"showMessage\":false},\"baseUrl\":\"/vivo-z1pro-sonic-black-64-gb/p/itmfghyebfrvjzfs?pid=MOBFHHT56NTTZKZ5\",\"buyability\":{\"intent\":\"positive\",\"message\":null,\"showMessage\":false},\"conditionCallout\":false,\"exclusiveTag\":\"#JustHere\",\"flags\":{\"enableChat\":true,\"enableCompare\":true,\"enableFlipkartAdvantage\":true,\"enableOfferTag\":true,\"enableVisualDiscovery\":false,\"enableWishlist\":true,\"showSecondaryTitle\":true,\"swatchAvailableOnBrowsePage\":true},\"grade\":{\"color\":null,\"id\":null,\"name\":null,\"shortDesc\":null},\"id\":\"MOBFHHT56NTTZKZ5\",\"itemId\":\"ITMFGHYEBFRVJZFS\",\"keySpecs\":[\"4 GB RAM | 64 GB ROM | Expandable Upto 256 GB\",\"16.59 cm (6.53 inch) Full HD+ Display\",\"16MP + 2MP + 8MP | 32MP Front Camera\",\"5000 mAh Battery\",\"Qualcomm Snapdragon 712 AIE Octa Core 2.3GHz Processor\",\"Fast Charging\",\"Triple Card Slot\"],\"listingId\":\"LSTMOBFHHT56NTTZKZ5PWUNSS\",\"media\":{\"images\":[{\"aspectRatio\":null,\"contentInfo\":null,\"height\":null,\"url\":\"http://rukmini1.flixcart.com/image/{@width}/{@height}/k2jbyq80pkrrdj/mobile-refurbished/u/n/j/z1pro-64-d-1951-pd1911f-ex-vivo-6-original-imafhmyaytjannkv.jpeg?q={@quality}\",\"width\":null},{\"aspectRatio\":null,\"contentInfo\":null,\"height\":null,\"url\":\"http://rukmini1.flixcart.com/image/{@width}/{@height}/k2jbyq80pkrrdj/mobile-refurbished/p/u/e/z1pro-64-a-1951-pd1911f-ex-vivo-4-original-imafhmyavthzc6jz.jpeg?q={@quality}\",\"width\":null},{\"aspectRatio\":null,\"contentInfo\":null,\"height\":null,\"url\":\"http://rukmini1.flixcart.com/image/{@width}/{@height}/k2jbyq80pkrrdj/mobile-refurbished/p/u/e/z1pro-64-a-1951-pd1911f-ex-vivo-4-original-imafhmyawwnvdg85.jpeg?q={@quality}\",\"width\":null},{\"aspectRatio\":null,\"contentInfo\":null,\"height\":null,\"url\":\"http://rukmini1.flixcart.com/image/{@width}/{@height}/k2jbyq80pkrrdj/mobile-refurbished/q/c/g/z1pro-64-b-1951-pd1911f-ex-vivo-4-original-imafkt2wvnzjmzwh.jpeg?q={@quality}\",\"width\":null},{\"aspectRatio\":null,\"contentInfo\":null,\"height\":null,\"url\":\"http://rukmini1.flixcart.com/image/{@width}/{@height}/k2jbyq80pkrrdj/mobile-refurbished/z/6/f/z1pro-128-a-1951-pd1911f-ex-vivo-6-original-imafhmyagrwwjtst.jpeg?q={@quality}\",\"width\":null},{\"aspectRatio\":null,\"contentInfo\":null,\"height\":null,\"url\":\"http://rukmini1.flixcart.com/image/{@width}/{@height}/k2jbyq80pkrrdj/mobile-refurbished/y/b/y/z1pro-128-d-1951-pd1911f-ex-vivo-6-original-imafhmyabthxrdmb.jpeg?q={@quality}\",\"width\":null},{\"aspectRatio\":null,\"contentInfo\":null,\"height\":null,\"url\":\"http://rukmini1.flixcart.com/image/{@width}/{@height}/k2jbyq80pkrrdj/mobile-refurbished/z/6/f/z1pro-128-a-1951-pd1911f-ex-vivo-6-original-imafhmya7bcvgfae.jpeg?q={@quality}\",\"width\":null},{\"aspectRatio\":null,\"contentInfo\":null,\"height\":null,\"url\":\"http://rukmini1.flixcart.com/image/{@width}/{@height}/k2jbyq80pkrrdj/mobile-refurbished/d/s/7/z1pro-64-d-1951-pd1911f-ex-vivo-4-original-imafhmyaafnsskjx.jpeg?q={@quality}\",\"width\":null},{\"aspectRatio\":null,\"contentInfo\":null,\"height\":null,\"url\":\"http://rukmini1.flixcart.com/image/{@width}/{@height}/k2jbyq80pkrrdj/mobile-refurbished/z/6/f/z1pro-128-a-1951-pd1911f-ex-vivo-6-original-imafhmyajjs7yfbc.jpeg?q={@quality}\",\"width\":null}]},\"minKeySpecs\":[\"4 GB RAM | 64 GB Storage\",\"16.59 cm (6.53 inch) Full HD+ Display\",\"5000 mAh\",\"16MP + 2MP + 8MP\",\"32MP Front Camera\"],\"pricing\":{\"type\":\"ListingPriceValue\",\"deliveryCharge\":{\"additionalText\":null,\"currency\":\"INR\",\"decimalValue\":\"0.00\",\"discount\":null,\"downpaymentRate\":0,\"downpaymentRequired\":false,\"name\":\"Delivery Charges\",\"priceType\":null,\"strikeOff\":false,\"value\":0},\"discountAmount\":3000,\"extraDiscount\":null,\"finalPrice\":{\"additionalText\":null,\"currency\":\"INR\",\"decimalValue\":\"12990.00\",\"discount\":null,\"downpaymentRate\":0,\"downpaymentRequired\":false,\"name\":\"Total\",\"priceType\":null,\"strikeOff\":false,\"value\":12990},\"finalSavingsText\":null,\"knowMore\":null,\"mrp\":{\"additionalText\":\"(incl. of all taxes)\",\"currency\":\"INR\",\"decimalValue\":\"15990.00\",\"discount\":null,\"downpaymentRate\":0,\"downpaymentRequired\":false,\"name\":\"Maximum Retail Price\",\"priceType\":null,\"strikeOff\":true,\"value\":15990},\"partPriceInfo\":null,\"plusPriceInfo\":null,\"priceDescriptions\":null,\"pricePerUnit\":null,\"priceTags\":null,\"prices\":[{\"additionalText\":null,\"currency\":\"INR\",\"decimalValue\":\"15990.00\",\"discount\":18,\"downpaymentRate\":0,\"downpaymentRequired\":false,\"name\":\"Selling Price\",\"priceType\":\"FSP\",\"strikeOff\":true,\"value\":15990},{\"additionalText\":null,\"currency\":\"INR\",\"decimalValue\":\"12990.00\",\"discount\":null,\"downpaymentRate\":0,\"downpaymentRequired\":false,\"name\":\"Special Price\",\"priceType\":\"SPECIAL_PRICE\",\"strikeOff\":false,\"value\":12990}],\"showDiscountAsAmount\":false,\"totalDiscount\":18},\"productBrand\":\"Vivo\",\"productCardTagDetails\":[{\"image\":{\"type\":\"ImageValue\",\"dynamicImageUrl\":\"https://rukminim1.flixcart.com/www/{@width}/{@height}/promos/21/07/2017/e8625e14-3277-4f16-a4d4-df8ed525905b.png?q={@quality}\",\"height\":0,\"width\":0},\"tagDetails\":null,\"type\":\"F_ASSURED\"}],\"rating\":{\"type\":\"RatingValue\",\"average\":4.5,\"base\":5,\"breakup\":[10245,4407,14600,57897,191093],\"count\":278242,\"histogramBaseCount\":191093,\"reviewCount\":28623},\"smartUrl\":\"http://dl.flipkart.com/dl/vivo-z1pro-sonic-black-64-gb/p/itmfghyebfrvjzfs?pid=MOBFHHT56NTTZKZ5\",\"tags\":[\"Exchange Offer\"],\"titles\":{\"subtitle\":\"4 GB RAM\",\"title\":\"Vivo Z1Pro (Sonic Black, 64 GB)\"},\"vertical\":\"mobile\",\"warrantySummary\":\"Brand Warranty of 1 Year Available for Mobile and 6 Months for Accessories\"}},\"snippets\":[{\"type\":\"FormattedMessageValue\",\"data\":[{\"type\":\"FormattedRichTextData\",\"value\":{\"type\":\"RichTextValue\",\"style\":{\"color\":\"#000000\",\"fontSize\":14,\"fontStyle\":\"normal\",\"fontWeight\":\"normal\"},\"text\":\"No Cost EMI\"}}]},{\"type\":\"FormattedMessageValue\",\"data\":[{\"type\":\"FormattedRichTextData\",\"value\":{\"type\":\"RichTextValue\",\"style\":{\"color\":\"#000000\",\"fontSize\":14,\"fontStyle\":\"normal\",\"fontWeight\":\"normal\"},\"text\":\"Upto \"}},{\"type\":\"FormattedRichTextData\",\"value\":{\"type\":\"RichTextValue\",\"style\":{\"color\":\"#000000\",\"fontSize\":14,\"fontStyle\":\"normal\",\"fontWeight\":\"bold\"},\"text\":\"\\xe2\\x82\\xb911,700\"}},{\"type\":\"FormattedRichTextData\",\"value\":{\"type\":\"RichTextValue\",\"style\":{\"color\":\"#000000\",\"fontSize\":14,\"fontStyle\":\"normal\",\"fontWeight\":\"normal\"},\"text\":\" Off on Exchange\"}}]}]}]}}},{\"slotType\":\"WIDGET\",\"id\":6001013,\"parentId\":10003,\"layoutParams\":{\"orientation\":\"\",\"widgetHeight\":150,\"widgetWidth\":12},\"dataId\":\"-620546347\",\"elementId\":\"6001013-PRODUCT_SUMMARY\",\"hasWidgetDataChanged\":true,\"ttl\":3000,\"widget\":{\"type\":\"PRODUCT_SUMMARY\",\"viewType\":\"LIST_LARGE\",\"data\":{\"maxCardCount\":1,\"products\":[{\"adInfo\":{\"bannerId\":\"149668798\",\"impressionId\":\"en_D29BGRD9O6bWEOF9mExIhzsZtSz3ijdz12pZy/Yo1/tCjVqPg8kOzgZy5FcK4BBm/wyXBPMCDcyIKhYqPR40AQ==\",\"listingId\":\"LSTMOBFNFGYPF5PRDQKTGKHD5\",\"numResults\":11018,\"productId\":\"MOBFNFGYPF5PRDQK\",\"responseId\":\"86407e7d-062e-4286-9a1b-30f6539b0fa2\"},\"addToWishlist\":{\"action\":{\"constraints\":null,\"fallback\":null,\"loginType\":\"LOGIN_NOT_REQUIRED\",\"omnitureData\":null,\"originalUrl\":null,\"params\":{\"valid\":true,\"productId\":\"MOBFNFGYPF5PRDQK\"},\"screenType\":\"multiWidgetPage\",\"tracking\":{},\"type\":\"WISHLIST_ADD\",\"url\":null},\"metaData\":null,\"tracking\":null,\"trackingData\":null,\"value\":{\"type\":\"ProductActionValue\",\"actionType\":\"ADD_TO_WISHLIST\",\"enabled\":true}},\"productInfo\":{\"action\":{\"constraints\":null,\"fallback\":null,\"loginType\":\"LOGIN_NOT_REQUIRED\",\"omnitureData\":\"deep_linking\",\"originalUrl\":null,\"params\":{\"valid\":true,\"productId\":\"MOBFNFGYPF5PRDQK\",\"marketplace\":\"FLIPKART\",\"screenName\":\"PRODUCT_PAGE\",\"listingId\":\"LSTMOBFNFGYPF5PRDQKTGKHD5\",\"pids\":[\"MOBFNFGYPF5PRDQK\"],\"loadingStateKey\":\"LoadingStateDefaultNew\",\"lids\":[\"LSTMOBFNFGYPF5PRDQKTGKHD5\"]},\"screenType\":\"productPage\",\"tracking\":{\"impressionId\":\"en_D29BGRD9O6bWEOF9mExIhzsZtSz3ijdz12pZy/Yo1/tCjVqPg8kOzgZy5FcK4BBm/wyXBPMCDcyIKhYqPR40AQ==\",\"position\":\"14\",\"contentType\":\"productCard\",\"contextType\":\"widget\"},\"type\":\"NAVIGATION\",\"url\":\"/kall-k1000-green-64-gb/p/itm56e7fe626a312?pid=MOBFNFGYPF5PRDQK&lid=LSTMOBFNFGYPF5PRDQKTGKHD5&marketplace=FLIPKART\"},\"metaData\":null,\"tracking\":{\"impressionId\":\"en_D29BGRD9O6bWEOF9mExIhzsZtSz3ijdz12pZy/Yo1/tCjVqPg8kOzgZy5FcK4BBm/wyXBPMCDcyIKhYqPR40AQ==\",\"position\":\"14\",\"contentType\":\"productCard\",\"contextType\":\"widget\"},\"trackingData\":null,\"value\":{\"type\":\"ProductSummaryValue\",\"analyticsData\":{\"category\":\"Mobile\",\"subCategory\":\"Handset\",\"superCategory\":\"Mobile\",\"vertical\":\"Handset\"},\"availability\":{\"MessageIntent\":\"positive\",\"displayState\":\"IN_STOCK\",\"intent\":\"positive\",\"showMessage\":false},\"baseUrl\":\"/kall-k1000-green-64-gb/p/itm56e7fe626a312?pid=MOBFNFGYPF5PRDQK\",\"buyability\":{\"intent\":\"positive\",\"message\":null,\"showMessage\":false},\"conditionCallout\":false,\"exclusiveTag\":\"#JustHere\",\"flags\":{\"enableChat\":true,\"enableCompare\":true,\"enableFlipkartAdvantage\":true,\"enableOfferTag\":true,\"enableVisualDiscovery\":false,\"enableWishlist\":true,\"showSecondaryTitle\":true,\"swatchAvailableOnBrowsePage\":true},\"grade\":{\"color\":null,\"id\":null,\"name\":null,\"shortDesc\":null},\"id\":\"MOBFNFGYPF5PRDQK\",\"itemId\":\"ITM56E7FE626A312\",\"keySpecs\":[\"4 GB RAM | 64 GB ROM |\",\"15.24 cm (6 inch) Display\",\"8MP Rear Camera | 5MP Front Camera\",\"3000 mAh Battery\"],\"listingId\":\"LSTMOBFNFGYPF5PRDQKTGKHD5\",\"media\":{\"images\":[{\"aspectRatio\":null,\"contentInfo\":null,\"height\":null,\"url\":\"http://rukmini1.flixcart.com/image/{@width}/{@height}/k41mp3k0/mobile/d/q/k/i-kall-k1000-k1000-original-imafnfhaf8dchxqb.jpeg?q={@quality}\",\"width\":null},{\"aspectRatio\":null,\"contentInfo\":null,\"height\":null,\"url\":\"http://rukmini1.flixcart.com/image/{@width}/{@height}/k41mp3k0/mobile/d/q/k/i-kall-k1000-k1000-original-imafnfk32hhaaxuj.jpeg?q={@quality}\",\"width\":null},{\"aspectRatio\":null,\"contentInfo\":null,\"height\":null,\"url\":\"http://rukmini1.flixcart.com/image/{@width}/{@height}/k41mp3k0/mobile/d/q/k/i-kall-k1000-k1000-original-imafnfhepeahcpgk.jpeg?q={@quality}\",\"width\":null},{\"aspectRatio\":null,\"contentInfo\":null,\"height\":null,\"url\":\"http://rukmini1.flixcart.com/image/{@width}/{@height}/k41mp3k0/mobile/d/q/k/i-kall-k1000-k1000-original-imafnfk3jj434tb6.jpeg?q={@quality}\",\"width\":null},{\"aspectRatio\":null,\"contentInfo\":null,\"height\":null,\"url\":\"http://rukmini1.flixcart.com/image/{@width}/{@height}/k41mp3k0/mobile/d/q/k/i-kall-k1000-k1000-original-imafnfhghvnywmrz.jpeg?q={@quality}\",\"width\":null}]},\"minKeySpecs\":[\"4 GB RAM | 64 GB Storage\",\"15.24 cm (6 inch) Display\",\"3000 mAh\",\"8MP Rear Camera\",\"5MP Front Camera\"],\"pricing\":{\"type\":\"ListingPriceValue\",\"deliveryCharge\":{\"additionalText\":null,\"currency\":\"INR\",\"decimalValue\":\"0.00\",\"discount\":null,\"downpaymentRate\":0,\"downpaymentRequired\":false,\"name\":\"Delivery Charges\",\"priceType\":null,\"strikeOff\":false,\"value\":0},\"discountAmount\":3000,\"extraDiscount\":null,\"finalPrice\":{\"additionalText\":null,\"currency\":\"INR\",\"decimalValue\":\"4999.00\",\"discount\":null,\"downpaymentRate\":0,\"downpaymentRequired\":false,\"name\":\"Total\",\"priceType\":null,\"strikeOff\":false,\"value\":4999},\"finalSavingsText\":null,\"knowMore\":null,\"mrp\":{\"additionalText\":\"(incl. of all taxes)\",\"currency\":\"INR\",\"decimalValue\":\"7999.00\",\"discount\":null,\"downpaymentRate\":0,\"downpaymentRequired\":false,\"name\":\"Maximum Retail Price\",\"priceType\":null,\"strikeOff\":true,\"value\":7999},\"partPriceInfo\":null,\"plusPriceInfo\":null,\"priceDescriptions\":null,\"pricePerUnit\":null,\"priceTags\":null,\"prices\":[{\"additionalText\":null,\"currency\":\"INR\",\"decimalValue\":\"7999.00\",\"discount\":37,\"downpaymentRate\":0,\"downpaymentRequired\":false,\"name\":\"Selling Price\",\"priceType\":\"FSP\",\"strikeOff\":true,\"value\":7999},{\"additionalText\":null,\"currency\":\"INR\",\"decimalValue\":\"4999.00\",\"discount\":null,\"downpaymentRate\":0,\"downpaymentRequired\":false,\"name\":\"Special Price\",\"priceType\":\"SPECIAL_PRICE\",\"strikeOff\":false,\"value\":4999}],\"showDiscountAsAmount\":false,\"totalDiscount\":37},\"productBrand\":\"I Kall\",\"productCardTagDetails\":[{\"image\":{\"type\":\"ImageValue\",\"dynamicImageUrl\":\"https://rukminim1.flixcart.com/www/{@width}/{@height}/promos/21/07/2017/e8625e14-3277-4f16-a4d4-df8ed525905b.png?q={@quality}\",\"height\":0,\"width\":0},\"tagDetails\":null,\"type\":\"F_ASSURED\"}],\"rating\":{\"type\":\"RatingValue\",\"average\":3.7,\"base\":5,\"breakup\":[3,0,0,1,6],\"count\":10,\"histogramBaseCount\":6,\"reviewCount\":2},\"smartUrl\":\"http://dl.flipkart.com/dl/kall-k1000-green-64-gb/p/itm56e7fe626a312?pid=MOBFNFGYPF5PRDQK\",\"tags\":[],\"titles\":{\"subtitle\":\"4 GB RAM\",\"title\":\"I Kall K1000 (Green, 64 GB)\"},\"vertical\":\"mobile\",\"warrantySummary\":\"Brand Warranty of 1 Year Available for Mobile and 6 Months for Accessories\"}}}]}}},{\"slotType\":\"WIDGET\",\"id\":6001014,\"parentId\":10003,\"layoutParams\":{\"orientation\":\"\",\"widgetHeight\":150,\"widgetWidth\":12},\"dataId\":\"-1134826156\",\"elementId\":\"6001014-PRODUCT_SUMMARY\",\"hasWidgetDataChanged\":true,\"ttl\":3000,\"widget\":{\"type\":\"PRODUCT_SUMMARY\",\"viewType\":\"LIST_LARGE\",\"data\":{\"maxCardCount\":1,\"products\":[{\"addToWishlist\":{\"action\":{\"constraints\":null,\"fallback\":null,\"loginType\":\"LOGIN_NOT_REQUIRED\",\"omnitureData\":null,\"originalUrl\":null,\"params\":{\"valid\":true,\"productId\":\"MOBFHHT5ZETVHC4H\"},\"screenType\":\"multiWidgetPage\",\"tracking\":{},\"type\":\"WISHLIST_ADD\",\"url\":null},\"metaData\":null,\"tracking\":null,\"trackingData\":null,\"value\":{\"type\":\"ProductActionValue\",\"actionType\":\"ADD_TO_WISHLIST\",\"enabled\":true}},\"productInfo\":{\"action\":{\"constraints\":null,\"fallback\":null,\"loginType\":\"LOGIN_NOT_REQUIRED\",\"omnitureData\":\"deep_linking\",\"originalUrl\":null,\"params\":{\"valid\":true,\"productId\":\"MOBFHHT5ZETVHC4H\",\"marketplace\":\"FLIPKART\",\"screenName\":\"PRODUCT_PAGE\",\"listingId\":\"LSTMOBFHHT5ZETVHC4H1MJSRL\",\"pids\":[\"MOBFHHT5ZETVHC4H\"],\"loadingStateKey\":\"LoadingStateDefaultNew\",\"lids\":[\"LSTMOBFHHT5ZETVHC4H1MJSRL\"]},\"screenType\":\"productPage\",\"tracking\":{\"impressionId\":\"ecf01924-a3ae-4be4-9159-7cb2bf5d9614.MOBFHHT5ZETVHC4H.SEARCH\",\"prop64\":\"SS_ncemi:exco\",\"position\":\"15\",\"contentType\":\"productCard\",\"contextType\":\"widget\"},\"type\":\"NAVIGATION\",\"url\":\"/vivo-z1pro-sonic-blue-64-gb/p/itmfghyebfrvjzfs?pid=MOBFHHT5ZETVHC4H&lid=LSTMOBFHHT5ZETVHC4H1MJSRL&marketplace=FLIPKART\"},\"metaData\":null,\"tracking\":{\"impressionId\":\"ecf01924-a3ae-4be4-9159-7cb2bf5d9614.MOBFHHT5ZETVHC4H.SEARCH\",\"prop64\":\"SS_ncemi:exco\",\"position\":\"15\",\"contentType\":\"productCard\",\"contextType\":\"widget\"},\"trackingData\":null,\"value\":{\"type\":\"ProductSummaryValue\",\"analyticsData\":{\"category\":\"Mobile\",\"subCategory\":\"Handset\",\"superCategory\":\"Mobile\",\"vertical\":\"Handset\"},\"availability\":{\"MessageIntent\":\"positive\",\"displayState\":\"IN_STOCK\",\"intent\":\"positive\",\"showMessage\":false},\"baseUrl\":\"/vivo-z1pro-sonic-blue-64-gb/p/itmfghyebfrvjzfs?pid=MOBFHHT5ZETVHC4H\",\"buyability\":{\"intent\":\"positive\",\"message\":null,\"showMessage\":false},\"conditionCallout\":false,\"exclusiveTag\":\"#JustHere\",\"flags\":{\"enableChat\":true,\"enableCompare\":true,\"enableFlipkartAdvantage\":true,\"enableOfferTag\":true,\"enableVisualDiscovery\":false,\"enableWishlist\":true,\"showSecondaryTitle\":true,\"swatchAvailableOnBrowsePage\":true},\"grade\":{\"color\":null,\"id\":null,\"name\":null,\"shortDesc\":null},\"id\":\"MOBFHHT5ZETVHC4H\",\"itemId\":\"ITMFGHYEBFRVJZFS\",\"keySpecs\":[\"6 GB RAM | 64 GB ROM | Expandable Upto 256 GB\",\"16.59 cm (6.53 inch) Full HD+ Display\",\"16MP + 2MP + 8MP | 32MP Front Camera\",\"5000 mAh Battery\",\"Qualcomm Snapdragon 712 AIE Octa Core 2.3GHz Processor\",\"Fast Charging\",\"Triple Card Slot\"],\"listingId\":\"LSTMOBFHHT5ZETVHC4H1MJSRL\",\"media\":{\"images\":[{\"aspectRatio\":null,\"contentInfo\":null,\"height\":null,\"url\":\"http://rukmini1.flixcart.com/image/{@width}/{@height}/k2jbyq80pkrrdj/mobile-refurbished/t/z/g/z1pro-128-u-1951-pd1911f-ex-vivo-6-original-imafhmyayxdjghhm.jpeg?q={@quality}\",\"width\":null},{\"aspectRatio\":null,\"contentInfo\":null,\"height\":null,\"url\":\"http://rukmini1.flixcart.com/image/{@width}/{@height}/k2jbyq80pkrrdj/mobile-refurbished/f/h/n/z1pro-64-b-1951-pd1911f-ex-vivo-6-original-imafhmyayz7wjdtz.jpeg?q={@quality}\",\"width\":null},{\"aspectRatio\":null,\"contentInfo\":null,\"height\":null,\"url\":\"http://rukmini1.flixcart.com/image/{@width}/{@height}/k2jbyq80pkrrdj/mobile-refurbished/t/z/g/z1pro-128-u-1951-pd1911f-ex-vivo-6-original-imafhmya5cshtzbj.jpeg?q={@quality}\",\"width\":null},{\"aspectRatio\":null,\"contentInfo\":null,\"height\":null,\"url\":\"http://rukmini1.flixcart.com/image/{@width}/{@height}/k2jbyq80pkrrdj/mobile-refurbished/w/a/w/z1pro-64-u-1951-pd1911f-ex-vivo-4-original-imafhmyadgby4kha.jpeg?q={@quality}\",\"width\":null},{\"aspectRatio\":null,\"contentInfo\":null,\"height\":null,\"url\":\"http://rukmini1.flixcart.com/image/{@width}/{@height}/k2jbyq80pkrrdj/mobile-refurbished/t/z/g/z1pro-128-u-1951-pd1911f-ex-vivo-6-original-imafhmya9f2z4n7y.jpeg?q={@quality}\",\"width\":null},{\"aspectRatio\":null,\"contentInfo\":null,\"height\":null,\"url\":\"http://rukmini1.flixcart.com/image/{@width}/{@height}/k2jbyq80pkrrdj/mobile-refurbished/t/z/g/z1pro-128-u-1951-pd1911f-ex-vivo-6-original-imafhmyasbuwvehv.jpeg?q={@quality}\",\"width\":null},{\"aspectRatio\":null,\"contentInfo\":null,\"height\":null,\"url\":\"http://rukmini1.flixcart.com/image/{@width}/{@height}/k2jbyq80pkrrdj/mobile-refurbished/y/z/m/z1pro-64-b-1951-pd1911f-ex-vivo-4-original-imafhmyafq9w5vet.jpeg?q={@quality}\",\"width\":null},{\"aspectRatio\":null,\"contentInfo\":null,\"height\":null,\"url\":\"http://rukmini1.flixcart.com/image/{@width}/{@height}/k2jbyq80pkrrdj/mobile-refurbished/y/z/m/z1pro-64-b-1951-pd1911f-ex-vivo-4-original-imafhmyanfgtjrae.jpeg?q={@quality}\",\"width\":null}]},\"minKeySpecs\":[\"6 GB RAM | 64 GB Storage\",\"16.59 cm (6.53 inch) Full HD+ Display\",\"5000 mAh\",\"16MP + 2MP + 8MP\",\"32MP Front Camera\"],\"pricing\":{\"type\":\"ListingPriceValue\",\"deliveryCharge\":{\"additionalText\":null,\"currency\":\"INR\",\"decimalValue\":\"0.00\",\"discount\":null,\"downpaymentRate\":0,\"downpaymentRequired\":false,\"name\":\"Delivery Charges\",\"priceType\":null,\"strikeOff\":false,\"value\":0},\"discountAmount\":4000,\"extraDiscount\":null,\"finalPrice\":{\"additionalText\":null,\"currency\":\"INR\",\"decimalValue\":\"13990.00\",\"discount\":null,\"downpaymentRate\":0,\"downpaymentRequired\":false,\"name\":\"Total\",\"priceType\":null,\"strikeOff\":false,\"value\":13990},\"finalSavingsText\":null,\"knowMore\":null,\"mrp\":{\"additionalText\":\"(incl. of all taxes)\",\"currency\":\"INR\",\"decimalValue\":\"17990.00\",\"discount\":null,\"downpaymentRate\":0,\"downpaymentRequired\":false,\"name\":\"Maximum Retail Price\",\"priceType\":null,\"strikeOff\":true,\"value\":17990},\"partPriceInfo\":null,\"plusPriceInfo\":null,\"priceDescriptions\":null,\"pricePerUnit\":null,\"priceTags\":null,\"prices\":[{\"additionalText\":null,\"currency\":\"INR\",\"decimalValue\":\"17990.00\",\"discount\":22,\"downpaymentRate\":0,\"downpaymentRequired\":false,\"name\":\"Selling Price\",\"priceType\":\"FSP\",\"strikeOff\":true,\"value\":17990},{\"additionalText\":null,\"currency\":\"INR\",\"decimalValue\":\"13990.00\",\"discount\":null,\"downpaymentRate\":0,\"downpaymentRequired\":false,\"name\":\"Special Price\",\"priceType\":\"SPECIAL_PRICE\",\"strikeOff\":false,\"value\":13990}],\"showDiscountAsAmount\":false,\"totalDiscount\":22},\"productBrand\":\"Vivo\",\"productCardTagDetails\":[{\"image\":{\"type\":\"ImageValue\",\"dynamicImageUrl\":\"https://rukminim1.flixcart.com/www/{@width}/{@height}/promos/21/07/2017/e8625e14-3277-4f16-a4d4-df8ed525905b.png?q={@quality}\",\"height\":0,\"width\":0},\"tagDetails\":null,\"type\":\"F_ASSURED\"}],\"rating\":{\"type\":\"RatingValue\",\"average\":4.5,\"base\":5,\"breakup\":[4192,1621,5485,21633,73114],\"count\":106045,\"histogramBaseCount\":73114,\"reviewCount\":10665},\"smartUrl\":\"http://dl.flipkart.com/dl/vivo-z1pro-sonic-blue-64-gb/p/itmfghyebfrvjzfs?pid=MOBFHHT5ZETVHC4H\",\"tags\":[\"Exchange Offer\"],\"titles\":{\"subtitle\":\"6 GB RAM\",\"title\":\"Vivo Z1Pro (Sonic Blue, 64 GB)\"},\"vertical\":\"mobile\",\"warrantySummary\":\"Brand Warranty of 1 Year Available for Mobile and 6 Months for Accessories\"}},\"snippets\":[{\"type\":\"FormattedMessageValue\",\"data\":[{\"type\":\"FormattedRichTextData\",\"value\":{\"type\":\"RichTextValue\",\"style\":{\"color\":\"#000000\",\"fontSize\":14,\"fontStyle\":\"normal\",\"fontWeight\":\"normal\"},\"text\":\"No Cost EMI\"}}]},{\"type\":\"FormattedMessageValue\",\"data\":[{\"type\":\"FormattedRichTextData\",\"value\":{\"type\":\"RichTextValue\",\"style\":{\"color\":\"#000000\",\"fontSize\":14,\"fontStyle\":\"normal\",\"fontWeight\":\"normal\"},\"text\":\"Upto \"}},{\"type\":\"FormattedRichTextData\",\"value\":{\"type\":\"RichTextValue\",\"style\":{\"color\":\"#000000\",\"fontSize\":14,\"fontStyle\":\"normal\",\"fontWeight\":\"bold\"},\"text\":\"\\xe2\\x82\\xb913,650\"}},{\"type\":\"FormattedRichTextData\",\"value\":{\"type\":\"RichTextValue\",\"style\":{\"color\":\"#000000\",\"fontSize\":14,\"fontStyle\":\"normal\",\"fontWeight\":\"normal\"},\"text\":\" Off on Exchange\"}}]}]}]}}},{\"slotType\":\"WIDGET\",\"id\":6001015,\"parentId\":10003,\"layoutParams\":{\"orientation\":\"\",\"widgetHeight\":150,\"widgetWidth\":12},\"dataId\":\"186141005\",\"elementId\":\"6001015-PRODUCT_SUMMARY\",\"hasWidgetDataChanged\":true,\"ttl\":3000,\"widget\":{\"type\":\"PRODUCT_SUMMARY\",\"viewType\":\"LIST_LARGE\",\"data\":{\"maxCardCount\":1,\"products\":[{\"addToWishlist\":{\"action\":{\"constraints\":null,\"fallback\":null,\"loginType\":\"LOGIN_NOT_REQUIRED\",\"omnitureData\":null,\"originalUrl\":null,\"params\":{\"valid\":true,\"productId\":\"MOBFHHT5NZH8XCGB\"},\"screenType\":\"multiWidgetPage\",\"tracking\":{},\"type\":\"WISHLIST_ADD\",\"url\":null},\"metaData\":null,\"tracking\":null,\"trackingData\":null,\"value\":{\"type\":\"ProductActionValue\",\"actionType\":\"ADD_TO_WISHLIST\",\"enabled\":true}},\"productInfo\":{\"action\":{\"constraints\":null,\"fallback\":null,\"loginType\":\"LOGIN_NOT_REQUIRED\",\"omnitureData\":\"deep_linking\",\"originalUrl\":null,\"params\":{\"valid\":true,\"productId\":\"MOBFHHT5NZH8XCGB\",\"marketplace\":\"FLIPKART\",\"screenName\":\"PRODUCT_PAGE\",\"listingId\":\"LSTMOBFHHT5NZH8XCGBSRHJKG\",\"pids\":[\"MOBFHHT5NZH8XCGB\"],\"loadingStateKey\":\"LoadingStateDefaultNew\",\"lids\":[\"LSTMOBFHHT5NZH8XCGBSRHJKG\"]},\"screenType\":\"productPage\",\"tracking\":{\"impressionId\":\"3bb44e82-954b-4f3f-83e6-b440e8066880.MOBFHHT5NZH8XCGB.SEARCH\",\"prop64\":\"SS_ncemi:exco\",\"position\":\"16\",\"contentType\":\"productCard\",\"contextType\":\"widget\"},\"type\":\"NAVIGATION\",\"url\":\"/vivo-z1pro-sonic-blue-64-gb/p/itmfghyebfrvjzfs?pid=MOBFHHT5NZH8XCGB&lid=LSTMOBFHHT5NZH8XCGBSRHJKG&marketplace=FLIPKART\"},\"metaData\":null,\"tracking\":{\"impressionId\":\"3bb44e82-954b-4f3f-83e6-b440e8066880.MOBFHHT5NZH8XCGB.SEARCH\",\"prop64\":\"SS_ncemi:exco\",\"position\":\"16\",\"contentType\":\"productCard\",\"contextType\":\"widget\"},\"trackingData\":null,\"value\":{\"type\":\"ProductSummaryValue\",\"analyticsData\":{\"category\":\"Mobile\",\"subCategory\":\"Handset\",\"superCategory\":\"Mobile\",\"vertical\":\"Handset\"},\"availability\":{\"MessageIntent\":\"positive\",\"displayState\":\"IN_STOCK\",\"intent\":\"positive\",\"showMessage\":false},\"baseUrl\":\"/vivo-z1pro-sonic-blue-64-gb/p/itmfghyebfrvjzfs?pid=MOBFHHT5NZH8XCGB\",\"buyability\":{\"intent\":\"positive\",\"message\":null,\"showMessage\":false},\"conditionCallout\":false,\"exclusiveTag\":\"#JustHere\",\"flags\":{\"enableChat\":true,\"enableCompare\":true,\"enableFlipkartAdvantage\":true,\"enableOfferTag\":true,\"enableVisualDiscovery\":false,\"enableWishlist\":true,\"showSecondaryTitle\":true,\"swatchAvailableOnBrowsePage\":true},\"grade\":{\"color\":null,\"id\":null,\"name\":null,\"shortDesc\":null},\"id\":\"MOBFHHT5NZH8XCGB\",\"itemId\":\"ITMFGHYEBFRVJZFS\",\"keySpecs\":[\"4 GB RAM | 64 GB ROM | Expandable Upto 256 GB\",\"16.59 cm (6.53 inch) Full HD+ Display\",\"16MP + 2MP + 8MP | 32MP Front Camera\",\"5000 mAh Battery\",\"Qualcomm Snapdragon 712 AIE Octa Core 2.3GHz Processor\",\"Fast Charging\",\"Triple Card Slot\"],\"listingId\":\"LSTMOBFHHT5NZH8XCGBSRHJKG\",\"media\":{\"images\":[{\"aspectRatio\":null,\"contentInfo\":null,\"height\":null,\"url\":\"http://rukmini1.flixcart.com/image/{@width}/{@height}/k2jbyq80pkrrdj/mobile-refurbished/t/z/g/z1pro-128-u-1951-pd1911f-ex-vivo-6-original-imafhmyayxdjghhm.jpeg?q={@quality}\",\"width\":null},{\"aspectRatio\":null,\"contentInfo\":null,\"height\":null,\"url\":\"http://rukmini1.flixcart.com/image/{@width}/{@height}/k2jbyq80pkrrdj/mobile-refurbished/g/p/w/z1pro-64-d-1951-pd1911f-ex-vivo-4-original-imafhmyapghybsbr.jpeg?q={@quality}\",\"width\":null},{\"aspectRatio\":null,\"contentInfo\":null,\"height\":null,\"url\":\"http://rukmini1.flixcart.com/image/{@width}/{@height}/k2jbyq80pkrrdj/mobile-refurbished/t/z/g/z1pro-128-u-1951-pd1911f-ex-vivo-6-original-imafhmya5cshtzbj.jpeg?q={@quality}\",\"width\":null},{\"aspectRatio\":null,\"contentInfo\":null,\"height\":null,\"url\":\"http://rukmini1.flixcart.com/image/{@width}/{@height}/k2jbyq80pkrrdj/mobile-refurbished/y/z/m/z1pro-64-b-1951-pd1911f-ex-vivo-4-original-imafkt2wjks8p8zb.jpeg?q={@quality}\",\"width\":null},{\"aspectRatio\":null,\"contentInfo\":null,\"height\":null,\"url\":\"http://rukmini1.flixcart.com/image/{@width}/{@height}/k2jbyq80pkrrdj/mobile-refurbished/w/a/w/z1pro-64-u-1951-pd1911f-ex-vivo-4-original-imafhmyadgby4kha.jpeg?q={@quality}\",\"width\":null},{\"aspectRatio\":null,\"contentInfo\":null,\"height\":null,\"url\":\"http://rukmini1.flixcart.com/image/{@width}/{@height}/k2jbyq80pkrrdj/mobile-refurbished/t/z/g/z1pro-128-u-1951-pd1911f-ex-vivo-6-original-imafhmya9f2z4n7y.jpeg?q={@quality}\",\"width\":null},{\"aspectRatio\":null,\"contentInfo\":null,\"height\":null,\"url\":\"http://rukmini1.flixcart.com/image/{@width}/{@height}/k2jbyq80pkrrdj/mobile-refurbished/t/z/g/z1pro-128-u-1951-pd1911f-ex-vivo-6-original-imafhmyasbuwvehv.jpeg?q={@quality}\",\"width\":null},{\"aspectRatio\":null,\"contentInfo\":null,\"height\":null,\"url\":\"http://rukmini1.flixcart.com/image/{@width}/{@height}/k2jbyq80pkrrdj/mobile-refurbished/y/z/m/z1pro-64-b-1951-pd1911f-ex-vivo-4-original-imafhmyafq9w5vet.jpeg?q={@quality}\",\"width\":null},{\"aspectRatio\":null,\"contentInfo\":null,\"height\":null,\"url\":\"http://rukmini1.flixcart.com/image/{@width}/{@height}/k2jbyq80pkrrdj/mobile-refurbished/y/z/m/z1pro-64-b-1951-pd1911f-ex-vivo-4-original-imafhmyanfgtjrae.jpeg?q={@quality}\",\"width\":null}]},\"minKeySpecs\":[\"4 GB RAM | 64 GB Storage\",\"16.59 cm (6.53 inch) Full HD+ Display\",\"5000 mAh\",\"16MP + 2MP + 8MP\",\"32MP Front Camera\"],\"pricing\":{\"type\":\"ListingPriceValue\",\"deliveryCharge\":{\"additionalText\":null,\"currency\":\"INR\",\"decimalValue\":\"0.00\",\"discount\":null,\"downpaymentRate\":0,\"downpaymentRequired\":false,\"name\":\"Delivery Charges\",\"priceType\":null,\"strikeOff\":false,\"value\":0},\"discountAmount\":3000,\"extraDiscount\":null,\"finalPrice\":{\"additionalText\":null,\"currency\":\"INR\",\"decimalValue\":\"12990.00\",\"discount\":null,\"downpaymentRate\":0,\"downpaymentRequired\":false,\"name\":\"Total\",\"priceType\":null,\"strikeOff\":false,\"value\":12990},\"finalSavingsText\":null,\"knowMore\":null,\"mrp\":{\"additionalText\":\"(incl. of all taxes)\",\"currency\":\"INR\",\"decimalValue\":\"15990.00\",\"discount\":null,\"downpaymentRate\":0,\"downpaymentRequired\":false,\"name\":\"Maximum Retail Price\",\"priceType\":null,\"strikeOff\":true,\"value\":15990},\"partPriceInfo\":null,\"plusPriceInfo\":null,\"priceDescriptions\":null,\"pricePerUnit\":null,\"priceTags\":null,\"prices\":[{\"additionalText\":null,\"currency\":\"INR\",\"decimalValue\":\"15990.00\",\"discount\":18,\"downpaymentRate\":0,\"downpaymentRequired\":false,\"name\":\"Selling Price\",\"priceType\":\"FSP\",\"strikeOff\":true,\"value\":15990},{\"additionalText\":null,\"currency\":\"INR\",\"decimalValue\":\"12990.00\",\"discount\":null,\"downpaymentRate\":0,\"downpaymentRequired\":false,\"name\":\"Special Price\",\"priceType\":\"SPECIAL_PRICE\",\"strikeOff\":false,\"value\":12990}],\"showDiscountAsAmount\":false,\"totalDiscount\":18},\"productBrand\":\"Vivo\",\"productCardTagDetails\":[{\"image\":{\"type\":\"ImageValue\",\"dynamicImageUrl\":\"https://rukminim1.flixcart.com/www/{@width}/{@height}/promos/21/07/2017/e8625e14-3277-4f16-a4d4-df8ed525905b.png?q={@quality}\",\"height\":0,\"width\":0},\"tagDetails\":null,\"type\":\"F_ASSURED\"}],\"rating\":{\"type\":\"RatingValue\",\"average\":4.5,\"base\":5,\"breakup\":[10245,4407,14600,57897,191093],\"count\":278242,\"histogramBaseCount\":191093,\"reviewCount\":28623},\"smartUrl\":\"http://dl.flipkart.com/dl/vivo-z1pro-sonic-blue-64-gb/p/itmfghyebfrvjzfs?pid=MOBFHHT5NZH8XCGB\",\"tags\":[\"Exchange Offer\"],\"titles\":{\"subtitle\":\"4 GB RAM\",\"title\":\"Vivo Z1Pro (Sonic Blue, 64 GB)\"},\"vertical\":\"mobile\",\"warrantySummary\":\"Brand Warranty of 1 Year Available for Mobile and 6 Months for Accessories\"}},\"snippets\":[{\"type\":\"FormattedMessageValue\",\"data\":[{\"type\":\"FormattedRichTextData\",\"value\":{\"type\":\"RichTextValue\",\"style\":{\"color\":\"#000000\",\"fontSize\":14,\"fontStyle\":\"normal\",\"fontWeight\":\"normal\"},\"text\":\"No Cost EMI\"}}]},{\"type\":\"FormattedMessageValue\",\"data\":[{\"type\":\"FormattedRichTextData\",\"value\":{\"type\":\"RichTextValue\",\"style\":{\"color\":\"#000000\",\"fontSize\":14,\"fontStyle\":\"normal\",\"fontWeight\":\"normal\"},\"text\":\"Upto \"}},{\"type\":\"FormattedRichTextData\",\"value\":{\"type\":\"RichTextValue\",\"style\":{\"color\":\"#000000\",\"fontSize\":14,\"fontStyle\":\"normal\",\"fontWeight\":\"bold\"},\"text\":\"\\xe2\\x82\\xb911,700\"}},{\"type\":\"FormattedRichTextData\",\"value\":{\"type\":\"RichTextValue\",\"style\":{\"color\":\"#000000\",\"fontSize\":14,\"fontStyle\":\"normal\",\"fontWeight\":\"normal\"},\"text\":\" Off on Exchange\"}}]}]}]}}},{\"slotType\":\"WIDGET\",\"id\":6001016,\"parentId\":10003,\"layoutParams\":{\"orientation\":\"\",\"widgetHeight\":150,\"widgetWidth\":12},\"dataId\":\"1253497007\",\"elementId\":\"6001016-PRODUCT_SUMMARY\",\"hasWidgetDataChanged\":true,\"ttl\":3000,\"widget\":{\"type\":\"PRODUCT_SUMMARY\",\"viewType\":\"LIST_LARGE\",\"data\":{\"maxCardCount\":1,\"products\":[{\"addToWishlist\":{\"action\":{\"constraints\":null,\"fallback\":null,\"loginType\":\"LOGIN_NOT_REQUIRED\",\"omnitureData\":null,\"originalUrl\":null,\"params\":{\"valid\":true,\"productId\":\"MOBFHHT529KQHT8Z\"},\"screenType\":\"multiWidgetPage\",\"tracking\":{},\"type\":\"WISHLIST_ADD\",\"url\":null},\"metaData\":null,\"tracking\":null,\"trackingData\":null,\"value\":{\"type\":\"ProductActionValue\",\"actionType\":\"ADD_TO_WISHLIST\",\"enabled\":true}},\"productInfo\":{\"action\":{\"constraints\":null,\"fallback\":null,\"loginType\":\"LOGIN_NOT_REQUIRED\",\"omnitureData\":\"deep_linking\",\"originalUrl\":null,\"params\":{\"valid\":true,\"productId\":\"MOBFHHT529KQHT8Z\",\"marketplace\":\"FLIPKART\",\"screenName\":\"PRODUCT_PAGE\",\"listingId\":\"LSTMOBFHHT529KQHT8Z7WZJL1\",\"pids\":[\"MOBFHHT529KQHT8Z\"],\"loadingStateKey\":\"LoadingStateDefaultNew\",\"lids\":[\"LSTMOBFHHT529KQHT8Z7WZJL1\"]},\"screenType\":\"productPage\",\"tracking\":{\"impressionId\":\"ecccecca-0783-4073-a4df-b439f7c562d2.MOBFHHT529KQHT8Z.SEARCH\",\"prop64\":\"SS_ncemi:exco\",\"position\":\"17\",\"contentType\":\"productCard\",\"contextType\":\"widget\"},\"type\":\"NAVIGATION\",\"url\":\"/vivo-z1pro-sonic-black-128-gb/p/itmfghyebfrvjzfs?pid=MOBFHHT529KQHT8Z&lid=LSTMOBFHHT529KQHT8Z7WZJL1&marketplace=FLIPKART\"},\"metaData\":null,\"tracking\":{\"impressionId\":\"ecccecca-0783-4073-a4df-b439f7c562d2.MOBFHHT529KQHT8Z.SEARCH\",\"prop64\":\"SS_ncemi:exco\",\"position\":\"17\",\"contentType\":\"productCard\",\"contextType\":\"widget\"},\"trackingData\":null,\"value\":{\"type\":\"ProductSummaryValue\",\"analyticsData\":{\"category\":\"Mobile\",\"subCategory\":\"Handset\",\"superCategory\":\"Mobile\",\"vertical\":\"Handset\"},\"availability\":{\"MessageIntent\":\"positive\",\"displayState\":\"IN_STOCK\",\"intent\":\"positive\",\"showMessage\":false},\"baseUrl\":\"/vivo-z1pro-sonic-black-128-gb/p/itmfghyebfrvjzfs?pid=MOBFHHT529KQHT8Z\",\"buyability\":{\"intent\":\"positive\",\"message\":null,\"showMessage\":false},\"conditionCallout\":false,\"exclusiveTag\":\"#JustHere\",\"flags\":{\"enableChat\":true,\"enableCompare\":true,\"enableFlipkartAdvantage\":true,\"enableOfferTag\":true,\"enableVisualDiscovery\":false,\"enableWishlist\":true,\"showSecondaryTitle\":true,\"swatchAvailableOnBrowsePage\":true},\"grade\":{\"color\":null,\"id\":null,\"name\":null,\"shortDesc\":null},\"id\":\"MOBFHHT529KQHT8Z\",\"itemId\":\"ITMFGHYEBFRVJZFS\",\"keySpecs\":[\"6 GB RAM | 128 GB ROM | Expandable Upto 256 GB\",\"16.59 cm (6.53 inch) Full HD+ Display\",\"16MP + 2MP + 8MP | 32MP Front Camera\",\"5000 mAh Battery\",\"Qualcomm Snapdragon 712 AIE Octa Core 2.3GHz Processor\",\"Fast Charging\",\"Triple Card Slot\"],\"listingId\":\"LSTMOBFHHT529KQHT8Z7WZJL1\",\"media\":{\"images\":[{\"aspectRatio\":null,\"contentInfo\":null,\"height\":null,\"url\":\"http://rukmini1.flixcart.com/image/{@width}/{@height}/k2jbyq80pkrrdj/mobile-refurbished/u/n/j/z1pro-64-d-1951-pd1911f-ex-vivo-6-original-imafhmyaytjannkv.jpeg?q={@quality}\",\"width\":null},{\"aspectRatio\":null,\"contentInfo\":null,\"height\":null,\"url\":\"http://rukmini1.flixcart.com/image/{@width}/{@height}/k2jbyq80pkrrdj/mobile-refurbished/h/3/x/z1pro-128-u-1951-pd1911f-ex-vivo-6-original-imafhmyagxubzhrj.jpeg?q={@quality}\",\"width\":null},{\"aspectRatio\":null,\"contentInfo\":null,\"height\":null,\"url\":\"http://rukmini1.flixcart.com/image/{@width}/{@height}/k2jbyq80pkrrdj/mobile-refurbished/p/u/e/z1pro-64-a-1951-pd1911f-ex-vivo-4-original-imafhmyawwnvdg85.jpeg?q={@quality}\",\"width\":null},{\"aspectRatio\":null,\"contentInfo\":null,\"height\":null,\"url\":\"http://rukmini1.flixcart.com/image/{@width}/{@height}/k2jbyq80pkrrdj/mobile-refurbished/h/3/x/z1pro-128-u-1951-pd1911f-ex-vivo-6-original-imafkt2w4dznabrj.jpeg?q={@quality}\",\"width\":null},{\"aspectRatio\":null,\"contentInfo\":null,\"height\":null,\"url\":\"http://rukmini1.flixcart.com/image/{@width}/{@height}/k2jbyq80pkrrdj/mobile-refurbished/z/6/f/z1pro-128-a-1951-pd1911f-ex-vivo-6-original-imafhmyagrwwjtst.jpeg?q={@quality}\",\"width\":null},{\"aspectRatio\":null,\"contentInfo\":null,\"height\":null,\"url\":\"http://rukmini1.flixcart.com/image/{@width}/{@height}/k2jbyq80pkrrdj/mobile-refurbished/y/b/y/z1pro-128-d-1951-pd1911f-ex-vivo-6-original-imafhmyabthxrdmb.jpeg?q={@quality}\",\"width\":null},{\"aspectRatio\":null,\"contentInfo\":null,\"height\":null,\"url\":\"http://rukmini1.flixcart.com/image/{@width}/{@height}/k2jbyq80pkrrdj/mobile-refurbished/z/6/f/z1pro-128-a-1951-pd1911f-ex-vivo-6-original-imafhmya7bcvgfae.jpeg?q={@quality}\",\"width\":null},{\"aspectRatio\":null,\"contentInfo\":null,\"height\":null,\"url\":\"http://rukmini1.flixcart.com/image/{@width}/{@height}/k2jbyq80pkrrdj/mobile-refurbished/d/s/7/z1pro-64-d-1951-pd1911f-ex-vivo-4-original-imafhmyaafnsskjx.jpeg?q={@quality}\",\"width\":null},{\"aspectRatio\":null,\"contentInfo\":null,\"height\":null,\"url\":\"http://rukmini1.flixcart.com/image/{@width}/{@height}/k2jbyq80pkrrdj/mobile-refurbished/z/6/f/z1pro-128-a-1951-pd1911f-ex-vivo-6-original-imafhmyajjs7yfbc.jpeg?q={@quality}\",\"width\":null}]},\"minKeySpecs\":[\"6 GB RAM | 128 GB Storage\",\"16.59 cm (6.53 inch) Full HD+ Display\",\"5000 mAh\",\"16MP + 2MP + 8MP\",\"32MP Front Camera\"],\"pricing\":{\"type\":\"ListingPriceValue\",\"deliveryCharge\":{\"additionalText\":null,\"currency\":\"INR\",\"decimalValue\":\"0.00\",\"discount\":null,\"downpaymentRate\":0,\"downpaymentRequired\":false,\"name\":\"Delivery Charges\",\"priceType\":null,\"strikeOff\":false,\"value\":0},\"discountAmount\":5000,\"extraDiscount\":null,\"finalPrice\":{\"additionalText\":null,\"currency\":\"INR\",\"decimalValue\":\"15990.00\",\"discount\":null,\"downpaymentRate\":0,\"downpaymentRequired\":false,\"name\":\"Total\",\"priceType\":null,\"strikeOff\":false,\"value\":15990},\"finalSavingsText\":null,\"knowMore\":null,\"mrp\":{\"additionalText\":\"(incl. of all taxes)\",\"currency\":\"INR\",\"decimalValue\":\"20990.00\",\"discount\":null,\"downpaymentRate\":0,\"downpaymentRequired\":false,\"name\":\"Maximum Retail Price\",\"priceType\":null,\"strikeOff\":true,\"value\":20990},\"partPriceInfo\":null,\"plusPriceInfo\":null,\"priceDescriptions\":null,\"pricePerUnit\":null,\"priceTags\":null,\"prices\":[{\"additionalText\":null,\"currency\":\"INR\",\"decimalValue\":\"20990.00\",\"discount\":23,\"downpaymentRate\":0,\"downpaymentRequired\":false,\"name\":\"Selling Price\",\"priceType\":\"FSP\",\"strikeOff\":true,\"value\":20990},{\"additionalText\":null,\"currency\":\"INR\",\"decimalValue\":\"15990.00\",\"discount\":null,\"downpaymentRate\":0,\"downpaymentRequired\":false,\"name\":\"Special Price\",\"priceType\":\"SPECIAL_PRICE\",\"strikeOff\":false,\"value\":15990}],\"showDiscountAsAmount\":false,\"totalDiscount\":23},\"productBrand\":\"Vivo\",\"productCardTagDetails\":[{\"image\":{\"type\":\"ImageValue\",\"dynamicImageUrl\":\"https://rukminim1.flixcart.com/www/{@width}/{@height}/promos/21/07/2017/e8625e14-3277-4f16-a4d4-df8ed525905b.png?q={@quality}\",\"height\":0,\"width\":0},\"tagDetails\":null,\"type\":\"F_ASSURED\"}],\"rating\":{\"type\":\"RatingValue\",\"average\":4.5,\"base\":5,\"breakup\":[4192,1621,5485,21633,73114],\"count\":106045,\"histogramBaseCount\":73114,\"reviewCount\":10665},\"smartUrl\":\"http://dl.flipkart.com/dl/vivo-z1pro-sonic-black-128-gb/p/itmfghyebfrvjzfs?pid=MOBFHHT529KQHT8Z\",\"tags\":[\"Exchange Offer\"],\"titles\":{\"subtitle\":\"6 GB RAM\",\"title\":\"Vivo Z1Pro (Sonic Black, 128 GB)\"},\"vertical\":\"mobile\",\"warrantySummary\":\"Brand Warranty of 1 Year Available for Mobile and 6 Months for Accessories\"}},\"snippets\":[{\"type\":\"FormattedMessageValue\",\"data\":[{\"type\":\"FormattedRichTextData\",\"value\":{\"type\":\"RichTextValue\",\"style\":{\"color\":\"#000000\",\"fontSize\":14,\"fontStyle\":\"normal\",\"fontWeight\":\"normal\"},\"text\":\"No Cost EMI\"}}]},{\"type\":\"FormattedMessageValue\",\"data\":[{\"type\":\"FormattedRichTextData\",\"value\":{\"type\":\"RichTextValue\",\"style\":{\"color\":\"#000000\",\"fontSize\":14,\"fontStyle\":\"normal\",\"fontWeight\":\"normal\"},\"text\":\"Upto \"}},{\"type\":\"FormattedRichTextData\",\"value\":{\"type\":\"RichTextValue\",\"style\":{\"color\":\"#000000\",\"fontSize\":14,\"fontStyle\":\"normal\",\"fontWeight\":\"bold\"},\"text\":\"\\xe2\\x82\\xb914,050\"}},{\"type\":\"FormattedRichTextData\",\"value\":{\"type\":\"RichTextValue\",\"style\":{\"color\":\"#000000\",\"fontSize\":14,\"fontStyle\":\"normal\",\"fontWeight\":\"normal\"},\"text\":\" Off on Exchange\"}}]}]}]}}},{\"slotType\":\"WIDGET\",\"id\":6001017,\"parentId\":10003,\"layoutParams\":{\"orientation\":\"\",\"widgetHeight\":150,\"widgetWidth\":12},\"dataId\":\"-924345752\",\"elementId\":\"6001017-PRODUCT_SUMMARY\",\"hasWidgetDataChanged\":true,\"ttl\":3000,\"widget\":{\"type\":\"PRODUCT_SUMMARY\",\"viewType\":\"LIST_LARGE\",\"data\":{\"maxCardCount\":1,\"products\":[{\"addToWishlist\":{\"action\":{\"constraints\":null,\"fallback\":null,\"loginType\":\"LOGIN_NOT_REQUIRED\",\"omnitureData\":null,\"originalUrl\":null,\"params\":{\"valid\":true,\"productId\":\"MOBFKF98ZVHXHUEP\"},\"screenType\":\"multiWidgetPage\",\"tracking\":{},\"type\":\"WISHLIST_ADD\",\"url\":null},\"metaData\":null,\"tracking\":null,\"trackingData\":null,\"value\":{\"type\":\"ProductActionValue\",\"actionType\":\"ADD_TO_WISHLIST\",\"enabled\":true}},\"productInfo\":{\"action\":{\"constraints\":null,\"fallback\":null,\"loginType\":\"LOGIN_NOT_REQUIRED\",\"omnitureData\":\"deep_linking\",\"originalUrl\":null,\"params\":{\"valid\":true,\"productId\":\"MOBFKF98ZVHXHUEP\",\"marketplace\":\"FLIPKART\",\"screenName\":\"PRODUCT_PAGE\",\"listingId\":\"LSTMOBFKF98ZVHXHUEPBOY0ET\",\"pids\":[\"MOBFKF98ZVHXHUEP\"],\"loadingStateKey\":\"LoadingStateDefaultNew\",\"lids\":[\"LSTMOBFKF98ZVHXHUEPBOY0ET\"]},\"screenType\":\"productPage\",\"tracking\":{\"impressionId\":\"4815a901-c6d2-46ad-ab47-ae33e0a91c65.MOBFKF98ZVHXHUEP.SEARCH\",\"prop64\":\"SS_ncemi:exco\",\"position\":\"18\",\"contentType\":\"productCard\",\"contextType\":\"widget\"},\"type\":\"NAVIGATION\",\"url\":\"/redmi-8a-ocean-blue-32-gb/p/itmeeddf84c49585?pid=MOBFKF98ZVHXHUEP&lid=LSTMOBFKF98ZVHXHUEPBOY0ET&marketplace=FLIPKART\"},\"metaData\":null,\"tracking\":{\"impressionId\":\"4815a901-c6d2-46ad-ab47-ae33e0a91c65.MOBFKF98ZVHXHUEP.SEARCH\",\"prop64\":\"SS_ncemi:exco\",\"position\":\"18\",\"contentType\":\"productCard\",\"contextType\":\"widget\"},\"trackingData\":null,\"value\":{\"type\":\"ProductSummaryValue\",\"analyticsData\":{\"category\":\"Mobile\",\"subCategory\":\"Handset\",\"superCategory\":\"Mobile\",\"vertical\":\"Handset\"},\"availability\":{\"MessageIntent\":\"positive\",\"displayState\":\"IN_STOCK\",\"intent\":\"positive\",\"showMessage\":false},\"baseUrl\":\"/redmi-8a-ocean-blue-32-gb/p/itmeeddf84c49585?pid=MOBFKF98ZVHXHUEP\",\"buyability\":{\"intent\":\"positive\",\"message\":null,\"showMessage\":false},\"conditionCallout\":false,\"exclusiveTag\":\"#JustHere\",\"flags\":{\"enableChat\":true,\"enableCompare\":true,\"enableFlipkartAdvantage\":true,\"enableOfferTag\":true,\"enableVisualDiscovery\":false,\"enableWishlist\":true,\"showSecondaryTitle\":true,\"swatchAvailableOnBrowsePage\":true},\"grade\":{\"color\":null,\"id\":null,\"name\":null,\"shortDesc\":null},\"id\":\"MOBFKF98ZVHXHUEP\",\"itemId\":\"ITMEEDDF84C49585\",\"keySpecs\":[\"3 GB RAM | 32 GB ROM | Expandable Upto 512 GB\",\"15.8 cm (6.22 inch) HD+ Display\",\"12MP Rear Camera | 8MP Front Camera\",\"5000 mAh Battery\",\"Qualcomm Snapdragon 439 Processor\"],\"listingId\":\"LSTMOBFKF98ZVHXHUEPBOY0ET\",\"media\":{\"images\":[{\"aspectRatio\":null,\"contentInfo\":null,\"height\":null,\"url\":\"http://rukmini1.flixcart.com/image/{@width}/{@height}/k0y6cnk0/mobile/u/e/p/mi-redmi-8a-mzb8458in-original-imafkmhycvhcsrzm.jpeg?q={@quality}\",\"width\":null},{\"aspectRatio\":null,\"contentInfo\":null,\"height\":null,\"url\":\"http://rukmini1.flixcart.com/image/{@width}/{@height}/k1118cw0/mobile/u/e/p/mi-redmi-8a-mzb8458in-original-imafkznjvkspdayc.jpeg?q={@quality}\",\"width\":null},{\"aspectRatio\":null,\"contentInfo\":null,\"height\":null,\"url\":\"http://rukmini1.flixcart.com/image/{@width}/{@height}/k0y6cnk0/mobile/u/e/p/mi-redmi-8a-mzb8458in-original-imafkmhyerhrfhnp.jpeg?q={@quality}\",\"width\":null},{\"aspectRatio\":null,\"contentInfo\":null,\"height\":null,\"url\":\"http://rukmini1.flixcart.com/image/{@width}/{@height}/k0zlsi80/mobile/u/e/p/mi-redmi-8a-mzb8458in-original-imafknz3sfg5juz9.jpeg?q={@quality}\",\"width\":null},{\"aspectRatio\":null,\"contentInfo\":null,\"height\":null,\"url\":\"http://rukmini1.flixcart.com/image/{@width}/{@height}/k0zlsi80/mobile/u/e/p/mi-redmi-8a-mzb8458in-original-imafknz3k5yyfzfj.jpeg?q={@quality}\",\"width\":null},{\"aspectRatio\":null,\"contentInfo\":null,\"height\":null,\"url\":\"http://rukmini1.flixcart.com/image/{@width}/{@height}/k37mg7k0/mobile/u/e/p/mi-redmi-8a-mzb8458in-original-imafme2rzkrwfhfg.jpeg?q={@quality}\",\"width\":null},{\"aspectRatio\":null,\"contentInfo\":null,\"height\":null,\"url\":\"http://rukmini1.flixcart.com/image/{@width}/{@height}/k0zlsi80/mobile/u/e/p/mi-redmi-8a-mzb8458in-original-imafknz3dgvgctzf.jpeg?q={@quality}\",\"width\":null},{\"aspectRatio\":null,\"contentInfo\":null,\"height\":null,\"url\":\"http://rukmini1.flixcart.com/image/{@width}/{@height}/k0zlsi80/mobile/u/e/p/mi-redmi-8a-mzb8458in-original-imafknz4de2uydqx.jpeg?q={@quality}\",\"width\":null},{\"aspectRatio\":null,\"contentInfo\":null,\"height\":null,\"url\":\"http://rukmini1.flixcart.com/image/{@width}/{@height}/k0y6cnk0/mobile/u/e/p/mi-redmi-8a-mzb8458in-original-imafkmhygmywhptp.jpeg?q={@quality}\",\"width\":null},{\"aspectRatio\":null,\"contentInfo\":null,\"height\":null,\"url\":\"http://rukmini1.flixcart.com/image/{@width}/{@height}/k0y6cnk0/mobile/u/e/p/mi-redmi-8a-mzb8458in-original-imafkmhy6nkjndzt.jpeg?q={@quality}\",\"width\":null}]},\"minKeySpecs\":[\"3 GB RAM | 32 GB Storage\",\"15.8 cm (6.22 inch) HD+ Display\",\"5000 mAh\",\"12MP Rear Camera\",\"8MP Front Camera\"],\"pricing\":{\"type\":\"ListingPriceValue\",\"deliveryCharge\":{\"additionalText\":null,\"currency\":\"INR\",\"decimalValue\":\"0.00\",\"discount\":null,\"downpaymentRate\":0,\"downpaymentRequired\":false,\"name\":\"Delivery Charges\",\"priceType\":null,\"strikeOff\":false,\"value\":0},\"discountAmount\":2000,\"extraDiscount\":null,\"finalPrice\":{\"additionalText\":null,\"currency\":\"INR\",\"decimalValue\":\"6999.00\",\"discount\":null,\"downpaymentRate\":0,\"downpaymentRequired\":false,\"name\":\"Total\",\"priceType\":null,\"strikeOff\":false,\"value\":6999},\"finalSavingsText\":null,\"knowMore\":null,\"mrp\":{\"additionalText\":\"(incl. of all taxes)\",\"currency\":\"INR\",\"decimalValue\":\"8999.00\",\"discount\":null,\"downpaymentRate\":0,\"downpaymentRequired\":false,\"name\":\"Maximum Retail Price\",\"priceType\":null,\"strikeOff\":true,\"value\":8999},\"partPriceInfo\":null,\"plusPriceInfo\":null,\"priceDescriptions\":null,\"pricePerUnit\":null,\"priceTags\":null,\"prices\":[{\"additionalText\":null,\"currency\":\"INR\",\"decimalValue\":\"8999.00\",\"discount\":22,\"downpaymentRate\":0,\"downpaymentRequired\":false,\"name\":\"Selling Price\",\"priceType\":\"FSP\",\"strikeOff\":true,\"value\":8999},{\"additionalText\":null,\"currency\":\"INR\",\"decimalValue\":\"6999.00\",\"discount\":null,\"downpaymentRate\":0,\"downpaymentRequired\":false,\"name\":\"Special Price\",\"priceType\":\"SPECIAL_PRICE\",\"strikeOff\":false,\"value\":6999}],\"showDiscountAsAmount\":false,\"totalDiscount\":22},\"productBrand\":\"Mi\",\"productCardTagDetails\":[{\"image\":{\"type\":\"ImageValue\",\"dynamicImageUrl\":\"https://rukminim1.flixcart.com/www/{@width}/{@height}/promos/21/07/2017/e8625e14-3277-4f16-a4d4-df8ed525905b.png?q={@quality}\",\"height\":0,\"width\":0},\"tagDetails\":null,\"type\":\"F_ASSURED\"}],\"rating\":{\"type\":\"RatingValue\",\"average\":4.4,\"base\":5,\"breakup\":[3276,1691,5700,18711,46401],\"count\":75779,\"histogramBaseCount\":46401,\"reviewCount\":6320},\"smartUrl\":\"http://dl.flipkart.com/dl/redmi-8a-ocean-blue-32-gb/p/itmeeddf84c49585?pid=MOBFKF98ZVHXHUEP\",\"tags\":[\"Exchange Offer\"],\"titles\":{\"subtitle\":\"3 GB RAM\",\"title\":\"Redmi 8A (Ocean Blue, 32 GB)\"},\"vertical\":\"mobile\",\"warrantySummary\":\"Brand Warranty of 1 Year Available for Mobile and 6 Months for Accessories\"}},\"snippets\":[{\"type\":\"FormattedMessageValue\",\"data\":[{\"type\":\"FormattedRichTextData\",\"value\":{\"type\":\"RichTextValue\",\"style\":{\"color\":\"#000000\",\"fontSize\":14,\"fontStyle\":\"normal\",\"fontWeight\":\"normal\"},\"text\":\"No Cost EMI\"}}]},{\"type\":\"FormattedMessageValue\",\"data\":[{\"type\":\"FormattedRichTextData\",\"value\":{\"type\":\"RichTextValue\",\"style\":{\"color\":\"#000000\",\"fontSize\":14,\"fontStyle\":\"normal\",\"fontWeight\":\"normal\"},\"text\":\"Upto \"}},{\"type\":\"FormattedRichTextData\",\"value\":{\"type\":\"RichTextValue\",\"style\":{\"color\":\"#000000\",\"fontSize\":14,\"fontStyle\":\"normal\",\"fontWeight\":\"bold\"},\"text\":\"\\xe2\\x82\\xb96,950\"}},{\"type\":\"FormattedRichTextData\",\"value\":{\"type\":\"RichTextValue\",\"style\":{\"color\":\"#000000\",\"fontSize\":14,\"fontStyle\":\"normal\",\"fontWeight\":\"normal\"},\"text\":\" Off on Exchange\"}}]}]}]}}},{\"slotType\":\"WIDGET\",\"id\":6001018,\"parentId\":10003,\"layoutParams\":{\"orientation\":\"\",\"widgetHeight\":150,\"widgetWidth\":12},\"dataId\":\"1430785952\",\"elementId\":\"6001018-PRODUCT_SUMMARY\",\"hasWidgetDataChanged\":true,\"ttl\":3000,\"widget\":{\"type\":\"PRODUCT_SUMMARY\",\"viewType\":\"LIST_LARGE\",\"data\":{\"maxCardCount\":1,\"products\":[{\"addToWishlist\":{\"action\":{\"constraints\":null,\"fallback\":null,\"loginType\":\"LOGIN_NOT_REQUIRED\",\"omnitureData\":null,\"originalUrl\":null,\"params\":{\"valid\":true,\"productId\":\"MOBFM2WZG7AGFGJE\"},\"screenType\":\"multiWidgetPage\",\"tracking\":{},\"type\":\"WISHLIST_ADD\",\"url\":null},\"metaData\":null,\"tracking\":null,\"trackingData\":null,\"value\":{\"type\":\"ProductActionValue\",\"actionType\":\"ADD_TO_WISHLIST\",\"enabled\":true}},\"productInfo\":{\"action\":{\"constraints\":null,\"fallback\":null,\"loginType\":\"LOGIN_NOT_REQUIRED\",\"omnitureData\":\"deep_linking\",\"originalUrl\":null,\"params\":{\"valid\":true,\"productId\":\"MOBFM2WZG7AGFGJE\",\"marketplace\":\"FLIPKART\",\"screenName\":\"PRODUCT_PAGE\",\"listingId\":\"LSTMOBFM2WZG7AGFGJEXD8LE2\",\"pids\":[\"MOBFM2WZG7AGFGJE\"],\"loadingStateKey\":\"LoadingStateDefaultNew\",\"lids\":[\"LSTMOBFM2WZG7AGFGJEXD8LE2\"]},\"screenType\":\"productPage\",\"tracking\":{\"impressionId\":\"bfadb053-49b0-4c11-a928-6ed3643d9fc5.MOBFM2WZG7AGFGJE.SEARCH\",\"prop64\":\"SS_ncemi:exco\",\"position\":\"19\",\"contentType\":\"productCard\",\"contextType\":\"widget\"},\"type\":\"NAVIGATION\",\"url\":\"/realme-5s-crystal-purple-128-gb/p/itm592977b0ba210?pid=MOBFM2WZG7AGFGJE&lid=LSTMOBFM2WZG7AGFGJEXD8LE2&marketplace=FLIPKART\"},\"metaData\":null,\"tracking\":{\"impressionId\":\"bfadb053-49b0-4c11-a928-6ed3643d9fc5.MOBFM2WZG7AGFGJE.SEARCH\",\"prop64\":\"SS_ncemi:exco\",\"position\":\"19\",\"contentType\":\"productCard\",\"contextType\":\"widget\"},\"trackingData\":null,\"value\":{\"type\":\"ProductSummaryValue\",\"analyticsData\":{\"category\":\"Mobile\",\"subCategory\":\"Handset\",\"superCategory\":\"Mobile\",\"vertical\":\"Handset\"},\"availability\":{\"MessageIntent\":\"positive\",\"displayState\":\"IN_STOCK\",\"intent\":\"positive\",\"showMessage\":false},\"baseUrl\":\"/realme-5s-crystal-purple-128-gb/p/itm592977b0ba210?pid=MOBFM2WZG7AGFGJE\",\"buyability\":{\"intent\":\"positive\",\"message\":null,\"showMessage\":false},\"conditionCallout\":false,\"flags\":{\"enableChat\":true,\"enableCompare\":true,\"enableFlipkartAdvantage\":true,\"enableOfferTag\":true,\"enableVisualDiscovery\":false,\"enableWishlist\":true,\"showSecondaryTitle\":true,\"swatchAvailableOnBrowsePage\":true},\"grade\":{\"color\":null,\"id\":null,\"name\":null,\"shortDesc\":null},\"id\":\"MOBFM2WZG7AGFGJE\",\"itemId\":\"ITM592977B0BA210\",\"keySpecs\":[\"4 GB RAM | 128 GB ROM | Expandable Upto 256 GB\",\"16.51 cm (6.5 inch) HD+ Display\",\"48MP + 8MP + 2MP + 2MP | 13MP Front Camera\",\"5000 mAh Battery\",\"Qualcomm Snapdragon 665 Processor\",\"HD+ Mini Drop Display\",\"48 MP AI Quad camera\"],\"listingId\":\"LSTMOBFM2WZG7AGFGJEXD8LE2\",\"media\":{\"images\":[{\"aspectRatio\":null,\"contentInfo\":null,\"height\":null,\"url\":\"http://rukmini1.flixcart.com/image/{@width}/{@height}/k34rki80/mobile/p/z/q/realme-5s-rmx1925-original-imafmbm6hp9eutam.jpeg?q={@quality}\",\"width\":null},{\"aspectRatio\":null,\"contentInfo\":null,\"height\":null,\"url\":\"http://rukmini1.flixcart.com/image/{@width}/{@height}/k34rki80/mobile/p/z/q/realme-5s-rmx1925-original-imafmbm6chrqnf83.jpeg?q={@quality}\",\"width\":null},{\"aspectRatio\":null,\"contentInfo\":null,\"height\":null,\"url\":\"http://rukmini1.flixcart.com/image/{@width}/{@height}/k34rki80/mobile/p/z/q/realme-5s-rmx1925-original-imafmbm6fdnyehht.jpeg?q={@quality}\",\"width\":null},{\"aspectRatio\":null,\"contentInfo\":null,\"height\":null,\"url\":\"http://rukmini1.flixcart.com/image/{@width}/{@height}/k34rki80/mobile/p/z/q/realme-5s-rmx1925-original-imafmbm6jbwwbbf2.jpeg?q={@quality}\",\"width\":null},{\"aspectRatio\":null,\"contentInfo\":null,\"height\":null,\"url\":\"http://rukmini1.flixcart.com/image/{@width}/{@height}/k34rki80/mobile/p/z/q/realme-5s-rmx1925-original-imafmbm6xxbfxfm8.jpeg?q={@quality}\",\"width\":null},{\"aspectRatio\":null,\"contentInfo\":null,\"height\":null,\"url\":\"http://rukmini1.flixcart.com/image/{@width}/{@height}/k34rki80/mobile/p/z/q/realme-5s-rmx1925-original-imafmbm6zzezebz5.jpeg?q={@quality}\",\"width\":null},{\"aspectRatio\":null,\"contentInfo\":null,\"height\":null,\"url\":\"http://rukmini1.flixcart.com/image/{@width}/{@height}/k34rki80/mobile/p/z/q/realme-5s-rmx1925-original-imafmbm65kyagbwy.jpeg?q={@quality}\",\"width\":null},{\"aspectRatio\":null,\"contentInfo\":null,\"height\":null,\"url\":\"http://rukmini1.flixcart.com/image/{@width}/{@height}/k34rki80/mobile/p/z/q/realme-5s-rmx1925-original-imafmbm662gyxyqq.jpeg?q={@quality}\",\"width\":null}],\"videos\":[{\"height\":null,\"videoId\":\"ga073rf8Hj4\",\"videoProvider\":\"YOUTUBE\",\"videoType\":\"THUMBNAIL\",\"width\":null}]},\"minKeySpecs\":[\"4 GB RAM | 128 GB Storage\",\"16.51 cm (6.5 inch) HD+ Display\",\"5000 mAh\",\"48MP + 8MP + 2MP + 2MP\",\"13MP Front Camera\"],\"pricing\":{\"type\":\"ListingPriceValue\",\"deliveryCharge\":{\"additionalText\":null,\"currency\":\"INR\",\"decimalValue\":\"0.00\",\"discount\":null,\"downpaymentRate\":0,\"downpaymentRequired\":false,\"name\":\"Delivery Charges\",\"priceType\":null,\"strikeOff\":false,\"value\":0},\"discountAmount\":2000,\"extraDiscount\":null,\"finalPrice\":{\"additionalText\":null,\"currency\":\"INR\",\"decimalValue\":\"10999.00\",\"discount\":null,\"downpaymentRate\":0,\"downpaymentRequired\":false,\"name\":\"Total\",\"priceType\":null,\"strikeOff\":false,\"value\":10999},\"finalSavingsText\":null,\"knowMore\":null,\"mrp\":{\"additionalText\":\"(incl. of all taxes)\",\"currency\":\"INR\",\"decimalValue\":\"12999.00\",\"discount\":null,\"downpaymentRate\":0,\"downpaymentRequired\":false,\"name\":\"Maximum Retail Price\",\"priceType\":null,\"strikeOff\":true,\"value\":12999},\"partPriceInfo\":null,\"plusPriceInfo\":null,\"priceDescriptions\":null,\"pricePerUnit\":null,\"priceTags\":null,\"prices\":[{\"additionalText\":null,\"currency\":\"INR\",\"decimalValue\":\"12999.00\",\"discount\":15,\"downpaymentRate\":0,\"downpaymentRequired\":false,\"name\":\"Selling Price\",\"priceType\":\"FSP\",\"strikeOff\":true,\"value\":12999},{\"additionalText\":null,\"currency\":\"INR\",\"decimalValue\":\"10999.00\",\"discount\":null,\"downpaymentRate\":0,\"downpaymentRequired\":false,\"name\":\"Special Price\",\"priceType\":\"SPECIAL_PRICE\",\"strikeOff\":false,\"value\":10999}],\"showDiscountAsAmount\":false,\"totalDiscount\":15},\"productBrand\":\"Realme\",\"productCardTagDetails\":[{\"image\":{\"type\":\"ImageValue\",\"dynamicImageUrl\":\"https://rukminim1.flixcart.com/www/{@width}/{@height}/promos/21/07/2017/e8625e14-3277-4f16-a4d4-df8ed525905b.png?q={@quality}\",\"height\":0,\"width\":0},\"tagDetails\":null,\"type\":\"F_ASSURED\"}],\"rating\":{\"type\":\"RatingValue\",\"average\":4.4,\"base\":5,\"breakup\":[5941,2730,8558,28524,93975],\"count\":139728,\"histogramBaseCount\":93975,\"reviewCount\":13248},\"smartUrl\":\"http://dl.flipkart.com/dl/realme-5s-crystal-purple-128-gb/p/itm592977b0ba210?pid=MOBFM2WZG7AGFGJE\",\"tags\":[\"Exchange Offer\"],\"titles\":{\"subtitle\":\"4 GB RAM\",\"title\":\"Realme 5s (Crystal Purple, 128 GB)\"},\"vertical\":\"mobile\",\"warrantySummary\":\"Brand Warranty of 1 Year Available for Mobile and 6 Months for Accessories\"}},\"snippets\":[{\"type\":\"FormattedMessageValue\",\"data\":[{\"type\":\"FormattedRichTextData\",\"value\":{\"type\":\"RichTextValue\",\"style\":{\"color\":\"#000000\",\"fontSize\":14,\"fontStyle\":\"normal\",\"fontWeight\":\"normal\"},\"text\":\"No Cost EMI\"}}]},{\"type\":\"FormattedMessageValue\",\"data\":[{\"type\":\"FormattedRichTextData\",\"value\":{\"type\":\"RichTextValue\",\"style\":{\"color\":\"#000000\",\"fontSize\":14,\"fontStyle\":\"normal\",\"fontWeight\":\"normal\"},\"text\":\"Upto \"}},{\"type\":\"FormattedRichTextData\",\"value\":{\"type\":\"RichTextValue\",\"style\":{\"color\":\"#000000\",\"fontSize\":14,\"fontStyle\":\"normal\",\"fontWeight\":\"bold\"},\"text\":\"\\xe2\\x82\\xb910,750\"}},{\"type\":\"FormattedRichTextData\",\"value\":{\"type\":\"RichTextValue\",\"style\":{\"color\":\"#000000\",\"fontSize\":14,\"fontStyle\":\"normal\",\"fontWeight\":\"normal\"},\"text\":\" Off on Exchange\"}}]}]}]}}},{\"slotType\":\"WIDGET\",\"id\":6001019,\"parentId\":10003,\"layoutParams\":{\"orientation\":\"\",\"widgetHeight\":150,\"widgetWidth\":12},\"dataId\":\"-1538990588\",\"elementId\":\"6001019-PRODUCT_SUMMARY\",\"hasWidgetDataChanged\":true,\"ttl\":3000,\"widget\":{\"type\":\"PRODUCT_SUMMARY\",\"viewType\":\"LIST_LARGE\",\"data\":{\"maxCardCount\":1,\"products\":[{\"adInfo\":{\"bannerId\":\"149668797\",\"impressionId\":\"en_D29BGRD9O6bWEOF9mExIhzsZtSz3ijdz12pZy/Yo1/uy8R6ZfuzPGvtIvqaYD6iTpqjoiBQlzCKf1qkyZf2F/g==\",\"listingId\":\"LSTMOBFNFHDSY8B5CKVZHB7WJ\",\"numResults\":11018,\"productId\":\"MOBFNFHDSY8B5CKV\",\"responseId\":\"86407e7d-062e-4286-9a1b-30f6539b0fa2\"},\"addToWishlist\":{\"action\":{\"constraints\":null,\"fallback\":null,\"loginType\":\"LOGIN_NOT_REQUIRED\",\"omnitureData\":null,\"originalUrl\":null,\"params\":{\"valid\":true,\"productId\":\"MOBFNFHDSY8B5CKV\"},\"screenType\":\"multiWidgetPage\",\"tracking\":{},\"type\":\"WISHLIST_ADD\",\"url\":null},\"metaData\":null,\"tracking\":null,\"trackingData\":null,\"value\":{\"type\":\"ProductActionValue\",\"actionType\":\"ADD_TO_WISHLIST\",\"enabled\":true}},\"productInfo\":{\"action\":{\"constraints\":null,\"fallback\":null,\"loginType\":\"LOGIN_NOT_REQUIRED\",\"omnitureData\":\"deep_linking\",\"originalUrl\":null,\"params\":{\"valid\":true,\"productId\":\"MOBFNFHDSY8B5CKV\",\"marketplace\":\"FLIPKART\",\"screenName\":\"PRODUCT_PAGE\",\"listingId\":\"LSTMOBFNFHDSY8B5CKVZHB7WJ\",\"pids\":[\"MOBFNFHDSY8B5CKV\"],\"loadingStateKey\":\"LoadingStateDefaultNew\",\"lids\":[\"LSTMOBFNFHDSY8B5CKVZHB7WJ\"]},\"screenType\":\"productPage\",\"tracking\":{\"impressionId\":\"en_D29BGRD9O6bWEOF9mExIhzsZtSz3ijdz12pZy/Yo1/uy8R6ZfuzPGvtIvqaYD6iTpqjoiBQlzCKf1qkyZf2F/g==\",\"position\":\"20\",\"contentType\":\"productCard\",\"contextType\":\"widget\"},\"type\":\"NAVIGATION\",\"url\":\"/kall-k1000-blue-64-gb/p/itm56e7fe626a312?pid=MOBFNFHDSY8B5CKV&lid=LSTMOBFNFHDSY8B5CKVZHB7WJ&marketplace=FLIPKART\"},\"metaData\":null,\"tracking\":{\"impressionId\":\"en_D29BGRD9O6bWEOF9mExIhzsZtSz3ijdz12pZy/Yo1/uy8R6ZfuzPGvtIvqaYD6iTpqjoiBQlzCKf1qkyZf2F/g==\",\"position\":\"20\",\"contentType\":\"productCard\",\"contextType\":\"widget\"},\"trackingData\":null,\"value\":{\"type\":\"ProductSummaryValue\",\"analyticsData\":{\"category\":\"Mobile\",\"subCategory\":\"Handset\",\"superCategory\":\"Mobile\",\"vertical\":\"Handset\"},\"availability\":{\"MessageIntent\":\"positive\",\"displayState\":\"IN_STOCK\",\"intent\":\"positive\",\"showMessage\":false},\"baseUrl\":\"/kall-k1000-blue-64-gb/p/itm56e7fe626a312?pid=MOBFNFHDSY8B5CKV\",\"buyability\":{\"intent\":\"positive\",\"message\":null,\"showMessage\":false},\"conditionCallout\":false,\"exclusiveTag\":\"#JustHere\",\"flags\":{\"enableChat\":true,\"enableCompare\":true,\"enableFlipkartAdvantage\":true,\"enableOfferTag\":true,\"enableVisualDiscovery\":false,\"enableWishlist\":true,\"showSecondaryTitle\":true,\"swatchAvailableOnBrowsePage\":true},\"grade\":{\"color\":null,\"id\":null,\"name\":null,\"shortDesc\":null},\"id\":\"MOBFNFHDSY8B5CKV\",\"itemId\":\"ITM56E7FE626A312\",\"keySpecs\":[\"4 GB RAM | 64 GB ROM |\",\"15.24 cm (6 inch) Display\",\"8MP Rear Camera | 5MP Front Camera\",\"3000 mAh Battery\"],\"listingId\":\"LSTMOBFNFHDSY8B5CKVZHB7WJ\",\"media\":{\"images\":[{\"aspectRatio\":null,\"contentInfo\":null,\"height\":null,\"url\":\"http://rukmini1.flixcart.com/image/{@width}/{@height}/k41mp3k0/mobile/c/k/v/i-kall-k1000-k1000-original-imafnfjazuwct6hn.jpeg?q={@quality}\",\"width\":null},{\"aspectRatio\":null,\"contentInfo\":null,\"height\":null,\"url\":\"http://rukmini1.flixcart.com/image/{@width}/{@height}/k41mp3k0/mobile/c/k/v/i-kall-k1000-k1000-original-imafnfhakdnvfgg9.jpeg?q={@quality}\",\"width\":null},{\"aspectRatio\":null,\"contentInfo\":null,\"height\":null,\"url\":\"http://rukmini1.flixcart.com/image/{@width}/{@height}/k41mp3k0/mobile/c/k/v/i-kall-k1000-k1000-original-imafnfh5hkrcnkcz.jpeg?q={@quality}\",\"width\":null},{\"aspectRatio\":null,\"contentInfo\":null,\"height\":null,\"url\":\"http://rukmini1.flixcart.com/image/{@width}/{@height}/k41mp3k0/mobile/c/k/v/i-kall-k1000-k1000-original-imafnfjgj76bzh46.jpeg?q={@quality}\",\"width\":null},{\"aspectRatio\":null,\"contentInfo\":null,\"height\":null,\"url\":\"http://rukmini1.flixcart.com/image/{@width}/{@height}/k41mp3k0/mobile/c/k/v/i-kall-k1000-k1000-original-imafnfjatbp2hmvm.jpeg?q={@quality}\",\"width\":null}]},\"minKeySpecs\":[\"4 GB RAM | 64 GB Storage\",\"15.24 cm (6 inch) Display\",\"3000 mAh\",\"8MP Rear Camera\",\"5MP Front Camera\"],\"pricing\":{\"type\":\"ListingPriceValue\",\"deliveryCharge\":{\"additionalText\":null,\"currency\":\"INR\",\"decimalValue\":\"0.00\",\"discount\":null,\"downpaymentRate\":0,\"downpaymentRequired\":false,\"name\":\"Delivery Charges\",\"priceType\":null,\"strikeOff\":false,\"value\":0},\"discountAmount\":3000,\"extraDiscount\":null,\"finalPrice\":{\"additionalText\":null,\"currency\":\"INR\",\"decimalValue\":\"4999.00\",\"discount\":null,\"downpaymentRate\":0,\"downpaymentRequired\":false,\"name\":\"Total\",\"priceType\":null,\"strikeOff\":false,\"value\":4999},\"finalSavingsText\":null,\"knowMore\":null,\"mrp\":{\"additionalText\":\"(incl. of all taxes)\",\"currency\":\"INR\",\"decimalValue\":\"7999.00\",\"discount\":null,\"downpaymentRate\":0,\"downpaymentRequired\":false,\"name\":\"Maximum Retail Price\",\"priceType\":null,\"strikeOff\":true,\"value\":7999},\"partPriceInfo\":null,\"plusPriceInfo\":null,\"priceDescriptions\":null,\"pricePerUnit\":null,\"priceTags\":null,\"prices\":[{\"additionalText\":null,\"currency\":\"INR\",\"decimalValue\":\"7999.00\",\"discount\":37,\"downpaymentRate\":0,\"downpaymentRequired\":false,\"name\":\"Selling Price\",\"priceType\":\"FSP\",\"strikeOff\":true,\"value\":7999},{\"additionalText\":null,\"currency\":\"INR\",\"decimalValue\":\"4999.00\",\"discount\":null,\"downpaymentRate\":0,\"downpaymentRequired\":false,\"name\":\"Special Price\",\"priceType\":\"SPECIAL_PRICE\",\"strikeOff\":false,\"value\":4999}],\"showDiscountAsAmount\":false,\"totalDiscount\":37},\"productBrand\":\"I Kall\",\"productCardTagDetails\":[{\"image\":{\"type\":\"ImageValue\",\"dynamicImageUrl\":\"https://rukminim1.flixcart.com/www/{@width}/{@height}/promos/21/07/2017/e8625e14-3277-4f16-a4d4-df8ed525905b.png?q={@quality}\",\"height\":0,\"width\":0},\"tagDetails\":null,\"type\":\"F_ASSURED\"}],\"rating\":{\"type\":\"RatingValue\",\"average\":3.7,\"base\":5,\"breakup\":[3,0,0,1,6],\"count\":10,\"histogramBaseCount\":6,\"reviewCount\":2},\"smartUrl\":\"http://dl.flipkart.com/dl/kall-k1000-blue-64-gb/p/itm56e7fe626a312?pid=MOBFNFHDSY8B5CKV\",\"tags\":[],\"titles\":{\"subtitle\":\"4 GB RAM\",\"title\":\"I Kall K1000 (Blue, 64 GB)\"},\"vertical\":\"mobile\",\"warrantySummary\":\"Brand Warranty of 1 Year Available for Mobile and 6 Months for Accessories\"}}}]}}},{\"slotType\":\"WIDGET\",\"id\":6001020,\"parentId\":10003,\"layoutParams\":{\"orientation\":\"\",\"widgetHeight\":150,\"widgetWidth\":12},\"dataId\":\"-1159669909\",\"elementId\":\"6001020-PRODUCT_SUMMARY\",\"hasWidgetDataChanged\":true,\"ttl\":3000,\"widget\":{\"type\":\"PRODUCT_SUMMARY\",\"viewType\":\"LIST_LARGE\",\"data\":{\"maxCardCount\":1,\"products\":[{\"addToWishlist\":{\"action\":{\"constraints\":null,\"fallback\":null,\"loginType\":\"LOGIN_NOT_REQUIRED\",\"omnitureData\":null,\"originalUrl\":null,\"params\":{\"valid\":true,\"productId\":\"MOBFKPYDTSZ8SFHH\"},\"screenType\":\"multiWidgetPage\",\"tracking\":{},\"type\":\"WISHLIST_ADD\",\"url\":null},\"metaData\":null,\"tracking\":null,\"trackingData\":null,\"value\":{\"type\":\"ProductActionValue\",\"actionType\":\"ADD_TO_WISHLIST\",\"enabled\":true}},\"productInfo\":{\"action\":{\"constraints\":null,\"fallback\":null,\"loginType\":\"LOGIN_NOT_REQUIRED\",\"omnitureData\":\"deep_linking\",\"originalUrl\":null,\"params\":{\"valid\":true,\"productId\":\"MOBFKPYDTSZ8SFHH\",\"marketplace\":\"FLIPKART\",\"screenName\":\"PRODUCT_PAGE\",\"listingId\":\"LSTMOBFKPYDTSZ8SFHHCHXWZT\",\"pids\":[\"MOBFKPYDTSZ8SFHH\"],\"loadingStateKey\":\"LoadingStateDefaultNew\",\"lids\":[\"LSTMOBFKPYDTSZ8SFHHCHXWZT\"]},\"screenType\":\"productPage\",\"tracking\":{\"impressionId\":\"630bd8d0-8ea8-4769-894f-7cf474a01e84.MOBFKPYDTSZ8SFHH.SEARCH\",\"prop64\":\"SS_ncemi:exco\",\"position\":\"21\",\"contentType\":\"productCard\",\"contextType\":\"widget\"},\"type\":\"NAVIGATION\",\"url\":\"/redmi-8-emerald-green-64-gb/p/itm19c0fbd7fc3a2?pid=MOBFKPYDTSZ8SFHH&lid=LSTMOBFKPYDTSZ8SFHHCHXWZT&marketplace=FLIPKART\"},\"metaData\":null,\"tracking\":{\"impressionId\":\"630bd8d0-8ea8-4769-894f-7cf474a01e84.MOBFKPYDTSZ8SFHH.SEARCH\",\"prop64\":\"SS_ncemi:exco\",\"position\":\"21\",\"contentType\":\"productCard\",\"contextType\":\"widget\"},\"trackingData\":null,\"value\":{\"type\":\"ProductSummaryValue\",\"analyticsData\":{\"category\":\"Mobile\",\"subCategory\":\"Handset\",\"superCategory\":\"Mobile\",\"vertical\":\"Handset\"},\"availability\":{\"MessageIntent\":\"positive\",\"displayState\":\"IN_STOCK\",\"intent\":\"positive\",\"showMessage\":false},\"baseUrl\":\"/redmi-8-emerald-green-64-gb/p/itm19c0fbd7fc3a2?pid=MOBFKPYDTSZ8SFHH\",\"buyability\":{\"intent\":\"positive\",\"message\":null,\"showMessage\":false},\"conditionCallout\":false,\"exclusiveTag\":\"#JustHere\",\"flags\":{\"enableChat\":true,\"enableCompare\":true,\"enableFlipkartAdvantage\":true,\"enableOfferTag\":true,\"enableVisualDiscovery\":false,\"enableWishlist\":true,\"showSecondaryTitle\":true,\"swatchAvailableOnBrowsePage\":true},\"grade\":{\"color\":null,\"id\":null,\"name\":null,\"shortDesc\":null},\"id\":\"MOBFKPYDTSZ8SFHH\",\"itemId\":\"ITM19C0FBD7FC3A2\",\"keySpecs\":[\"4 GB RAM | 64 GB ROM | Expandable Upto 512 GB\",\"15.8 cm (6.22 inch) HD+ Display\",\"12MP + 2MP | 8MP Front Camera\",\"5000 mAh Battery\",\"Qualcomm Snapdragon 439 Processor\"],\"listingId\":\"LSTMOBFKPYDTSZ8SFHHCHXWZT\",\"media\":{\"images\":[{\"aspectRatio\":null,\"contentInfo\":null,\"height\":null,\"url\":\"http://rukmini1.flixcart.com/image/{@width}/{@height}/k1fbmvk0/mobile/9/e/m/mi-redmi-8-mzb8252in-original-imafhyacczv2h27n.jpeg?q={@quality}\",\"width\":null},{\"aspectRatio\":null,\"contentInfo\":null,\"height\":null,\"url\":\"http://rukmini1.flixcart.com/image/{@width}/{@height}/k1l1ea80/mobile/9/e/m/mi-redmi-8-mzb8252in-original-imafh23tta9yyxcg.jpeg?q={@quality}\",\"width\":null},{\"aspectRatio\":null,\"contentInfo\":null,\"height\":null,\"url\":\"http://rukmini1.flixcart.com/image/{@width}/{@height}/k1fbmvk0/mobile/9/e/m/mi-redmi-8-mzb8252in-original-imafhyacaez7yunk.jpeg?q={@quality}\",\"width\":null},{\"aspectRatio\":null,\"contentInfo\":null,\"height\":null,\"url\":\"http://rukmini1.flixcart.com/image/{@width}/{@height}/k1l1ea80/mobile/9/e/m/mi-redmi-8-mzb8252in-original-imafh23t4h8gcymm.jpeg?q={@quality}\",\"width\":null},{\"aspectRatio\":null,\"contentInfo\":null,\"height\":null,\"url\":\"http://rukmini1.flixcart.com/image/{@width}/{@height}/k1l1ea80/mobile/9/e/m/mi-redmi-8-mzb8252in-original-imafh23tfhx5ezj2.jpeg?q={@quality}\",\"width\":null},{\"aspectRatio\":null,\"contentInfo\":null,\"height\":null,\"url\":\"http://rukmini1.flixcart.com/image/{@width}/{@height}/k1l1ea80/mobile/9/e/m/mi-redmi-8-mzb8252in-original-imafh23tphgndbch.jpeg?q={@quality}\",\"width\":null},{\"aspectRatio\":null,\"contentInfo\":null,\"height\":null,\"url\":\"http://rukmini1.flixcart.com/image/{@width}/{@height}/k1l1ea80/mobile/9/e/m/mi-redmi-8-mzb8252in-original-imafh23the4gf578.jpeg?q={@quality}\",\"width\":null},{\"aspectRatio\":null,\"contentInfo\":null,\"height\":null,\"url\":\"http://rukmini1.flixcart.com/image/{@width}/{@height}/k1fbmvk0/mobile/9/e/m/mi-redmi-8-mzb8252in-original-imafhyactrab4es9.jpeg?q={@quality}\",\"width\":null},{\"aspectRatio\":null,\"contentInfo\":null,\"height\":null,\"url\":\"http://rukmini1.flixcart.com/image/{@width}/{@height}/k1fbmvk0/mobile/9/e/m/mi-redmi-8-mzb8252in-original-imafhyachaehwp5w.jpeg?q={@quality}\",\"width\":null}],\"videos\":[{\"height\":null,\"videoId\":\"SNp1C7910iA\",\"videoProvider\":\"YOUTUBE\",\"videoType\":\"THUMBNAIL\",\"width\":null}]},\"minKeySpecs\":[\"4 GB RAM | 64 GB Storage\",\"15.8 cm (6.22 inch) HD+ Display\",\"5000 mAh\",\"12MP + 2MP\",\"8MP Front Camera\"],\"pricing\":{\"type\":\"ListingPriceValue\",\"deliveryCharge\":{\"additionalText\":null,\"currency\":\"INR\",\"decimalValue\":\"0.00\",\"discount\":null,\"downpaymentRate\":0,\"downpaymentRequired\":false,\"name\":\"Delivery Charges\",\"priceType\":null,\"strikeOff\":false,\"value\":0},\"discountAmount\":3000,\"extraDiscount\":null,\"finalPrice\":{\"additionalText\":null,\"currency\":\"INR\",\"decimalValue\":\"7999.00\",\"discount\":null,\"downpaymentRate\":0,\"downpaymentRequired\":false,\"name\":\"Total\",\"priceType\":null,\"strikeOff\":false,\"value\":7999},\"finalSavingsText\":null,\"knowMore\":null,\"mrp\":{\"additionalText\":\"(incl. of all taxes)\",\"currency\":\"INR\",\"decimalValue\":\"10999.00\",\"discount\":null,\"downpaymentRate\":0,\"downpaymentRequired\":false,\"name\":\"Maximum Retail Price\",\"priceType\":null,\"strikeOff\":true,\"value\":10999},\"partPriceInfo\":null,\"plusPriceInfo\":null,\"priceDescriptions\":null,\"pricePerUnit\":null,\"priceTags\":null,\"prices\":[{\"additionalText\":null,\"currency\":\"INR\",\"decimalValue\":\"10999.00\",\"discount\":27,\"downpaymentRate\":0,\"downpaymentRequired\":false,\"name\":\"Selling Price\",\"priceType\":\"FSP\",\"strikeOff\":true,\"value\":10999},{\"additionalText\":null,\"currency\":\"INR\",\"decimalValue\":\"7999.00\",\"discount\":null,\"downpaymentRate\":0,\"downpaymentRequired\":false,\"name\":\"Special Price\",\"priceType\":\"SPECIAL_PRICE\",\"strikeOff\":false,\"value\":7999}],\"showDiscountAsAmount\":false,\"totalDiscount\":27},\"productBrand\":\"Mi\",\"productCardTagDetails\":[{\"image\":{\"type\":\"ImageValue\",\"dynamicImageUrl\":\"https://rukminim1.flixcart.com/www/{@width}/{@height}/promos/21/07/2017/e8625e14-3277-4f16-a4d4-df8ed525905b.png?q={@quality}\",\"height\":0,\"width\":0},\"tagDetails\":null,\"type\":\"F_ASSURED\"}],\"rating\":{\"type\":\"RatingValue\",\"average\":4.4,\"base\":5,\"breakup\":[13747,6451,19627,63561,205562],\"count\":308948,\"histogramBaseCount\":205562,\"reviewCount\":27494},\"smartUrl\":\"http://dl.flipkart.com/dl/redmi-8-emerald-green-64-gb/p/itm19c0fbd7fc3a2?pid=MOBFKPYDTSZ8SFHH\",\"tags\":[\"Exchange Offer\"],\"titles\":{\"subtitle\":\"4 GB RAM\",\"title\":\"Redmi 8 (Emerald Green, 64 GB)\"},\"vertical\":\"mobile\",\"warrantySummary\":\"Brand Warranty of 1 Year Available for Mobile and 6 Months for Accessories\"}},\"snippets\":[{\"type\":\"FormattedMessageValue\",\"data\":[{\"type\":\"FormattedRichTextData\",\"value\":{\"type\":\"RichTextValue\",\"style\":{\"color\":\"#000000\",\"fontSize\":14,\"fontStyle\":\"normal\",\"fontWeight\":\"normal\"},\"text\":\"No Cost EMI\"}}]},{\"type\":\"FormattedMessageValue\",\"data\":[{\"type\":\"FormattedRichTextData\",\"value\":{\"type\":\"RichTextValue\",\"style\":{\"color\":\"#000000\",\"fontSize\":14,\"fontStyle\":\"normal\",\"fontWeight\":\"normal\"},\"text\":\"Upto \"}},{\"type\":\"FormattedRichTextData\",\"value\":{\"type\":\"RichTextValue\",\"style\":{\"color\":\"#000000\",\"fontSize\":14,\"fontStyle\":\"normal\",\"fontWeight\":\"bold\"},\"text\":\"\\xe2\\x82\\xb97,950\"}},{\"type\":\"FormattedRichTextData\",\"value\":{\"type\":\"RichTextValue\",\"style\":{\"color\":\"#000000\",\"fontSize\":14,\"fontStyle\":\"normal\",\"fontWeight\":\"normal\"},\"text\":\" Off on Exchange\"}}]}]}]}}},{\"slotType\":\"WIDGET\",\"id\":6001021,\"parentId\":10003,\"layoutParams\":{\"orientation\":\"\",\"widgetHeight\":150,\"widgetWidth\":12},\"dataId\":\"1574225223\",\"elementId\":\"6001021-PRODUCT_SUMMARY\",\"hasWidgetDataChanged\":true,\"ttl\":3000,\"widget\":{\"type\":\"PRODUCT_SUMMARY\",\"viewType\":\"LIST_LARGE\",\"data\":{\"maxCardCount\":1,\"products\":[{\"addToWishlist\":{\"action\":{\"constraints\":null,\"fallback\":null,\"loginType\":\"LOGIN_NOT_REQUIRED\",\"omnitureData\":null,\"originalUrl\":null,\"params\":{\"valid\":true,\"productId\":\"MOBFHBZ4MDMCNHNK\"},\"screenType\":\"multiWidgetPage\",\"tracking\":{},\"type\":\"WISHLIST_ADD\",\"url\":null},\"metaData\":null,\"tracking\":null,\"trackingData\":null,\"value\":{\"type\":\"ProductActionValue\",\"actionType\":\"ADD_TO_WISHLIST\",\"enabled\":true}},\"productInfo\":{\"action\":{\"constraints\":null,\"fallback\":null,\"loginType\":\"LOGIN_NOT_REQUIRED\",\"omnitureData\":\"deep_linking\",\"originalUrl\":null,\"params\":{\"valid\":true,\"productId\":\"MOBFHBZ4MDMCNHNK\",\"marketplace\":\"FLIPKART\",\"screenName\":\"PRODUCT_PAGE\",\"listingId\":\"LSTMOBFHBZ4MDMCNHNKOFORJ3\",\"pids\":[\"MOBFHBZ4MDMCNHNK\"],\"loadingStateKey\":\"LoadingStateDefaultNew\",\"lids\":[\"LSTMOBFHBZ4MDMCNHNKOFORJ3\"]},\"screenType\":\"productPage\",\"tracking\":{\"impressionId\":\"02460f57-057f-447d-9475-cbb876262c11.MOBFHBZ4MDMCNHNK.SEARCH\",\"prop64\":\"SS_ncemi:exco\",\"position\":\"22\",\"contentType\":\"productCard\",\"contextType\":\"widget\"},\"type\":\"NAVIGATION\",\"url\":\"/realme-c2-diamond-black-32-gb/p/itmfgwba8kmejqpe?pid=MOBFHBZ4MDMCNHNK&lid=LSTMOBFHBZ4MDMCNHNKOFORJ3&marketplace=FLIPKART\"},\"metaData\":null,\"tracking\":{\"impressionId\":\"02460f57-057f-447d-9475-cbb876262c11.MOBFHBZ4MDMCNHNK.SEARCH\",\"prop64\":\"SS_ncemi:exco\",\"position\":\"22\",\"contentType\":\"productCard\",\"contextType\":\"widget\"},\"trackingData\":null,\"value\":{\"type\":\"ProductSummaryValue\",\"analyticsData\":{\"category\":\"Mobile\",\"subCategory\":\"Handset\",\"superCategory\":\"Mobile\",\"vertical\":\"Handset\"},\"availability\":{\"MessageIntent\":\"positive\",\"displayState\":\"IN_STOCK\",\"intent\":\"positive\",\"showMessage\":false},\"baseUrl\":\"/realme-c2-diamond-black-32-gb/p/itmfgwba8kmejqpe?pid=MOBFHBZ4MDMCNHNK\",\"buyability\":{\"intent\":\"positive\",\"message\":null,\"showMessage\":false},\"conditionCallout\":false,\"exclusiveTag\":\"#JustHere\",\"flags\":{\"enableChat\":true,\"enableCompare\":true,\"enableFlipkartAdvantage\":true,\"enableOfferTag\":true,\"enableVisualDiscovery\":false,\"enableWishlist\":true,\"showSecondaryTitle\":true,\"swatchAvailableOnBrowsePage\":true},\"grade\":{\"color\":null,\"id\":null,\"name\":null,\"shortDesc\":null},\"id\":\"MOBFHBZ4MDMCNHNK\",\"itemId\":\"ITMFGWBA8KMEJQPE\",\"keySpecs\":[\"2 GB RAM | 32 GB ROM | Expandable Upto 256 GB\",\"15.49 cm (6.1 inch) HD+ Display\",\"13MP + 2MP | 5MP Front Camera\",\"4000 mAh Battery\",\"MediaTek P22 Octa Core 2.0 GHz Processor\",\"Dual Nano SIM slots and Memory Card Slot\",\"Face Unlock\"],\"listingId\":\"LSTMOBFHBZ4MDMCNHNKOFORJ3\",\"media\":{\"images\":[{\"aspectRatio\":null,\"contentInfo\":null,\"height\":null,\"url\":\"http://rukmini1.flixcart.com/image/{@width}/{@height}/jzrb53k0pkrrdj/mobile/a/f/u/realme-c2-rmx1941-original-imaffnumfyvfzc8y.jpeg?q={@quality}\",\"width\":null},{\"aspectRatio\":null,\"contentInfo\":null,\"height\":null,\"url\":\"http://rukmini1.flixcart.com/image/{@width}/{@height}/jzrb53k0pkrrdj/mobile/a/f/u/realme-c2-rmx1941-original-imaffnum83kjzqek.jpeg?q={@quality}\",\"width\":null},{\"aspectRatio\":null,\"contentInfo\":null,\"height\":null,\"url\":\"http://rukmini1.flixcart.com/image/{@width}/{@height}/jzrb53k0pkrrdj/mobile/a/f/u/realme-c2-rmx1941-original-imaffnumckqmgcce.jpeg?q={@quality}\",\"width\":null},{\"aspectRatio\":null,\"contentInfo\":null,\"height\":null,\"url\":\"http://rukmini1.flixcart.com/image/{@width}/{@height}/k16qzrk0/mobile/h/n/k/realme-c2-rmx1941-original-imafkt2wkgjyqtxq.jpeg?q={@quality}\",\"width\":null},{\"aspectRatio\":null,\"contentInfo\":null,\"height\":null,\"url\":\"http://rukmini1.flixcart.com/image/{@width}/{@height}/jzrb53k0pkrrdj/mobile/a/f/u/realme-c2-rmx1941-original-imaffnumubg5amcz.jpeg?q={@quality}\",\"width\":null},{\"aspectRatio\":null,\"contentInfo\":null,\"height\":null,\"url\":\"http://rukmini1.flixcart.com/image/{@width}/{@height}/jzrb53k0pkrrdj/mobile/a/f/u/realme-c2-rmx1941-original-imaffnumzpnjz72f.jpeg?q={@quality}\",\"width\":null},{\"aspectRatio\":null,\"contentInfo\":null,\"height\":null,\"url\":\"http://rukmini1.flixcart.com/image/{@width}/{@height}/jzrb53k0pkrrdj/mobile/a/f/u/realme-c2-rmx1941-original-imaffnumumfq7wpj.jpeg?q={@quality}\",\"width\":null},{\"aspectRatio\":null,\"contentInfo\":null,\"height\":null,\"url\":\"http://rukmini1.flixcart.com/image/{@width}/{@height}/jzrb53k0pkrrdj/mobile/a/f/u/realme-c2-rmx1941-original-imaffnumrgyfbp8r.jpeg?q={@quality}\",\"width\":null},{\"aspectRatio\":null,\"contentInfo\":null,\"height\":null,\"url\":\"http://rukmini1.flixcart.com/image/{@width}/{@height}/jzrb53k0pkrrdj/mobile/a/f/u/realme-c2-rmx1941-original-imaffnumcbhwwzws.jpeg?q={@quality}\",\"width\":null},{\"aspectRatio\":null,\"contentInfo\":null,\"height\":null,\"url\":\"http://rukmini1.flixcart.com/image/{@width}/{@height}/jzrb53k0pkrrdj/mobile/a/f/u/realme-c2-rmx1941-original-imaffnumhnmnzd8j.jpeg?q={@quality}\",\"width\":null}],\"videos\":[{\"height\":null,\"videoId\":\"5FSBbvLPc4w\",\"videoProvider\":\"YOUTUBE\",\"videoType\":\"THUMBNAIL\",\"width\":null}]},\"minKeySpecs\":[\"2 GB RAM | 32 GB Storage\",\"15.49 cm (6.1 inch) HD+ Display\",\"4000 mAh\",\"13MP + 2MP\",\"5MP Front Camera\"],\"pricing\":{\"type\":\"ListingPriceValue\",\"deliveryCharge\":{\"additionalText\":null,\"currency\":\"INR\",\"decimalValue\":\"0.00\",\"discount\":null,\"downpaymentRate\":0,\"downpaymentRequired\":false,\"name\":\"Delivery Charges\",\"priceType\":null,\"strikeOff\":false,\"value\":0},\"discountAmount\":2000,\"extraDiscount\":null,\"finalPrice\":{\"additionalText\":null,\"currency\":\"INR\",\"decimalValue\":\"5999.00\",\"discount\":null,\"downpaymentRate\":0,\"downpaymentRequired\":false,\"name\":\"Total\",\"priceType\":null,\"strikeOff\":false,\"value\":5999},\"finalSavingsText\":null,\"knowMore\":null,\"mrp\":{\"additionalText\":\"(incl. of all taxes)\",\"currency\":\"INR\",\"decimalValue\":\"7999.00\",\"discount\":null,\"downpaymentRate\":0,\"downpaymentRequired\":false,\"name\":\"Maximum Retail Price\",\"priceType\":null,\"strikeOff\":true,\"value\":7999},\"partPriceInfo\":null,\"plusPriceInfo\":null,\"priceDescriptions\":null,\"pricePerUnit\":null,\"priceTags\":null,\"prices\":[{\"additionalText\":null,\"currency\":\"INR\",\"decimalValue\":\"7999.00\",\"discount\":25,\"downpaymentRate\":0,\"downpaymentRequired\":false,\"name\":\"Selling Price\",\"priceType\":\"FSP\",\"strikeOff\":true,\"value\":7999},{\"additionalText\":null,\"currency\":\"INR\",\"decimalValue\":\"5999.00\",\"discount\":null,\"downpaymentRate\":0,\"downpaymentRequired\":false,\"name\":\"Special Price\",\"priceType\":\"SPECIAL_PRICE\",\"strikeOff\":false,\"value\":5999}],\"showDiscountAsAmount\":false,\"totalDiscount\":25},\"productBrand\":\"Realme\",\"productCardTagDetails\":[{\"image\":{\"type\":\"ImageValue\",\"dynamicImageUrl\":\"https://rukminim1.flixcart.com/www/{@width}/{@height}/promos/21/07/2017/e8625e14-3277-4f16-a4d4-df8ed525905b.png?q={@quality}\",\"height\":0,\"width\":0},\"tagDetails\":null,\"type\":\"F_ASSURED\"}],\"rating\":{\"type\":\"RatingValue\",\"average\":4.4,\"base\":5,\"breakup\":[28454,15412,48471,142520,437721],\"count\":672578,\"histogramBaseCount\":437721,\"reviewCount\":58645},\"smartUrl\":\"http://dl.flipkart.com/dl/realme-c2-diamond-black-32-gb/p/itmfgwba8kmejqpe?pid=MOBFHBZ4MDMCNHNK\",\"tags\":[\"Exchange Offer\"],\"titles\":{\"subtitle\":\"2 GB RAM\",\"title\":\"Realme C2 (Diamond Black, 32 GB)\"},\"vertical\":\"mobile\",\"warrantySummary\":\"Brand Warranty of 1 Year Available for Mobile and 6 Months for Accessories\"}},\"snippets\":[{\"type\":\"FormattedMessageValue\",\"data\":[{\"type\":\"FormattedRichTextData\",\"value\":{\"type\":\"RichTextValue\",\"style\":{\"color\":\"#000000\",\"fontSize\":14,\"fontStyle\":\"normal\",\"fontWeight\":\"normal\"},\"text\":\"No Cost EMI\"}}]},{\"type\":\"FormattedMessageValue\",\"data\":[{\"type\":\"FormattedRichTextData\",\"value\":{\"type\":\"RichTextValue\",\"style\":{\"color\":\"#000000\",\"fontSize\":14,\"fontStyle\":\"normal\",\"fontWeight\":\"normal\"},\"text\":\"Upto \"}},{\"type\":\"FormattedRichTextData\",\"value\":{\"type\":\"RichTextValue\",\"style\":{\"color\":\"#000000\",\"fontSize\":14,\"fontStyle\":\"normal\",\"fontWeight\":\"bold\"},\"text\":\"\\xe2\\x82\\xb95,950\"}},{\"type\":\"FormattedRichTextData\",\"value\":{\"type\":\"RichTextValue\",\"style\":{\"color\":\"#000000\",\"fontSize\":14,\"fontStyle\":\"normal\",\"fontWeight\":\"normal\"},\"text\":\" Off on Exchange\"}}]}]}]}}},{\"slotType\":\"WIDGET\",\"id\":6001022,\"parentId\":10003,\"layoutParams\":{\"orientation\":\"\",\"widgetHeight\":150,\"widgetWidth\":12},\"dataId\":\"1252017879\",\"elementId\":\"6001022-PRODUCT_SUMMARY\",\"hasWidgetDataChanged\":true,\"ttl\":3000,\"widget\":{\"type\":\"PRODUCT_SUMMARY\",\"viewType\":\"LIST_LARGE\",\"data\":{\"maxCardCount\":1,\"products\":[{\"addToWishlist\":{\"action\":{\"constraints\":null,\"fallback\":null,\"loginType\":\"LOGIN_NOT_REQUIRED\",\"omnitureData\":null,\"originalUrl\":null,\"params\":{\"valid\":true,\"productId\":\"MOBFHBZ4ZQB3CTZW\"},\"screenType\":\"multiWidgetPage\",\"tracking\":{},\"type\":\"WISHLIST_ADD\",\"url\":null},\"metaData\":null,\"tracking\":null,\"trackingData\":null,\"value\":{\"type\":\"ProductActionValue\",\"actionType\":\"ADD_TO_WISHLIST\",\"enabled\":true}},\"productInfo\":{\"action\":{\"constraints\":null,\"fallback\":null,\"loginType\":\"LOGIN_NOT_REQUIRED\",\"omnitureData\":\"deep_linking\",\"originalUrl\":null,\"params\":{\"valid\":true,\"productId\":\"MOBFHBZ4ZQB3CTZW\",\"marketplace\":\"FLIPKART\",\"screenName\":\"PRODUCT_PAGE\",\"listingId\":\"LSTMOBFHBZ4ZQB3CTZWUFZDQI\",\"pids\":[\"MOBFHBZ4ZQB3CTZW\"],\"loadingStateKey\":\"LoadingStateDefaultNew\",\"lids\":[\"LSTMOBFHBZ4ZQB3CTZWUFZDQI\"]},\"screenType\":\"productPage\",\"tracking\":{\"impressionId\":\"f9ad3851-c452-4ff8-a559-cf0f2d46ba3c.MOBFHBZ4ZQB3CTZW.SEARCH\",\"prop64\":\"SS_ncemi:exco\",\"position\":\"23\",\"contentType\":\"productCard\",\"contextType\":\"widget\"},\"type\":\"NAVIGATION\",\"url\":\"/realme-c2-diamond-blue-32-gb/p/itmfgwba8kmejqpe?pid=MOBFHBZ4ZQB3CTZW&lid=LSTMOBFHBZ4ZQB3CTZWUFZDQI&marketplace=FLIPKART\"},\"metaData\":null,\"tracking\":{\"impressionId\":\"f9ad3851-c452-4ff8-a559-cf0f2d46ba3c.MOBFHBZ4ZQB3CTZW.SEARCH\",\"prop64\":\"SS_ncemi:exco\",\"position\":\"23\",\"contentType\":\"productCard\",\"contextType\":\"widget\"},\"trackingData\":null,\"value\":{\"type\":\"ProductSummaryValue\",\"analyticsData\":{\"category\":\"Mobile\",\"subCategory\":\"Handset\",\"superCategory\":\"Mobile\",\"vertical\":\"Handset\"},\"availability\":{\"MessageIntent\":\"positive\",\"displayState\":\"IN_STOCK\",\"intent\":\"positive\",\"showMessage\":false},\"baseUrl\":\"/realme-c2-diamond-blue-32-gb/p/itmfgwba8kmejqpe?pid=MOBFHBZ4ZQB3CTZW\",\"buyability\":{\"intent\":\"positive\",\"message\":null,\"showMessage\":false},\"conditionCallout\":false,\"exclusiveTag\":\"#JustHere\",\"flags\":{\"enableChat\":true,\"enableCompare\":true,\"enableFlipkartAdvantage\":true,\"enableOfferTag\":true,\"enableVisualDiscovery\":false,\"enableWishlist\":true,\"showSecondaryTitle\":true,\"swatchAvailableOnBrowsePage\":true},\"grade\":{\"color\":null,\"id\":null,\"name\":null,\"shortDesc\":null},\"id\":\"MOBFHBZ4ZQB3CTZW\",\"itemId\":\"ITMFGWBA8KMEJQPE\",\"keySpecs\":[\"2 GB RAM | 32 GB ROM | Expandable Upto 256 GB\",\"15.49 cm (6.1 inch) HD+ Display\",\"13MP + 2MP | 5MP Front Camera\",\"4000 mAh Battery\",\"MediaTek P22 Octa Core 2.0 GHz Processor\",\"Dual Nano SIM slots and Memory Card Slot\",\"Face Unlock\"],\"listingId\":\"LSTMOBFHBZ4ZQB3CTZWUFZDQI\",\"media\":{\"images\":[{\"aspectRatio\":null,\"contentInfo\":null,\"height\":null,\"url\":\"http://rukmini1.flixcart.com/image/{@width}/{@height}/k0lbdzk0pkrrdj/mobile-refurbished/z/j/2/c2-16-u-rmx1945-realme-2-original-imaffnumygt8wgfx.jpeg?q={@quality}\",\"width\":null},{\"aspectRatio\":null,\"contentInfo\":null,\"height\":null,\"url\":\"http://rukmini1.flixcart.com/image/{@width}/{@height}/k0lbdzk0pkrrdj/mobile-refurbished/z/j/2/c2-16-u-rmx1945-realme-2-original-imaffnumzgfyzzp5.jpeg?q={@quality}\",\"width\":null},{\"aspectRatio\":null,\"contentInfo\":null,\"height\":null,\"url\":\"http://rukmini1.flixcart.com/image/{@width}/{@height}/k0lbdzk0pkrrdj/mobile-refurbished/z/j/2/c2-16-u-rmx1945-realme-2-original-imaffnumzt47udgg.jpeg?q={@quality}\",\"width\":null},{\"aspectRatio\":null,\"contentInfo\":null,\"height\":null,\"url\":\"http://rukmini1.flixcart.com/image/{@width}/{@height}/k16qzrk0/mobile/t/z/w/realme-c2-rmx1941-original-imafkt2wegb94aeg.jpeg?q={@quality}\",\"width\":null},{\"aspectRatio\":null,\"contentInfo\":null,\"height\":null,\"url\":\"http://rukmini1.flixcart.com/image/{@width}/{@height}/k0lbdzk0pkrrdj/mobile-refurbished/z/j/2/c2-16-u-rmx1945-realme-2-original-imaffnumjbvkwrcj.jpeg?q={@quality}\",\"width\":null},{\"aspectRatio\":null,\"contentInfo\":null,\"height\":null,\"url\":\"http://rukmini1.flixcart.com/image/{@width}/{@height}/k0lbdzk0pkrrdj/mobile-refurbished/z/j/2/c2-16-u-rmx1945-realme-2-original-imaffnumfyggayzm.jpeg?q={@quality}\",\"width\":null},{\"aspectRatio\":null,\"contentInfo\":null,\"height\":null,\"url\":\"http://rukmini1.flixcart.com/image/{@width}/{@height}/k0lbdzk0pkrrdj/mobile-refurbished/z/j/2/c2-16-u-rmx1945-realme-2-original-imaffnumgzgrjpst.jpeg?q={@quality}\",\"width\":null},{\"aspectRatio\":null,\"contentInfo\":null,\"height\":null,\"url\":\"http://rukmini1.flixcart.com/image/{@width}/{@height}/k0lbdzk0pkrrdj/mobile-refurbished/m/8/q/c2-16-a-rmx1945-realme-2-original-imaffnumc6cqzpz9.jpeg?q={@quality}\",\"width\":null},{\"aspectRatio\":null,\"contentInfo\":null,\"height\":null,\"url\":\"http://rukmini1.flixcart.com/image/{@width}/{@height}/k0lbdzk0pkrrdj/mobile-refurbished/z/j/2/c2-16-u-rmx1945-realme-2-original-imaffnumjheh4g5t.jpeg?q={@quality}\",\"width\":null},{\"aspectRatio\":null,\"contentInfo\":null,\"height\":null,\"url\":\"http://rukmini1.flixcart.com/image/{@width}/{@height}/k0lbdzk0pkrrdj/mobile-refurbished/z/j/2/c2-16-u-rmx1945-realme-2-original-imaffnumnu2qvh5t.jpeg?q={@quality}\",\"width\":null}],\"videos\":[{\"height\":null,\"videoId\":\"5FSBbvLPc4w\",\"videoProvider\":\"YOUTUBE\",\"videoType\":\"THUMBNAIL\",\"width\":null}]},\"minKeySpecs\":[\"2 GB RAM | 32 GB Storage\",\"15.49 cm (6.1 inch) HD+ Display\",\"4000 mAh\",\"13MP + 2MP\",\"5MP Front Camera\"],\"pricing\":{\"type\":\"ListingPriceValue\",\"deliveryCharge\":{\"additionalText\":null,\"currency\":\"INR\",\"decimalValue\":\"0.00\",\"discount\":null,\"downpaymentRate\":0,\"downpaymentRequired\":false,\"name\":\"Delivery Charges\",\"priceType\":null,\"strikeOff\":false,\"value\":0},\"discountAmount\":2000,\"extraDiscount\":null,\"finalPrice\":{\"additionalText\":null,\"currency\":\"INR\",\"decimalValue\":\"5999.00\",\"discount\":null,\"downpaymentRate\":0,\"downpaymentRequired\":false,\"name\":\"Total\",\"priceType\":null,\"strikeOff\":false,\"value\":5999},\"finalSavingsText\":null,\"knowMore\":null,\"mrp\":{\"additionalText\":\"(incl. of all taxes)\",\"currency\":\"INR\",\"decimalValue\":\"7999.00\",\"discount\":null,\"downpaymentRate\":0,\"downpaymentRequired\":false,\"name\":\"Maximum Retail Price\",\"priceType\":null,\"strikeOff\":true,\"value\":7999},\"partPriceInfo\":null,\"plusPriceInfo\":null,\"priceDescriptions\":null,\"pricePerUnit\":null,\"priceTags\":null,\"prices\":[{\"additionalText\":null,\"currency\":\"INR\",\"decimalValue\":\"7999.00\",\"discount\":25,\"downpaymentRate\":0,\"downpaymentRequired\":false,\"name\":\"Selling Price\",\"priceType\":\"FSP\",\"strikeOff\":true,\"value\":7999},{\"additionalText\":null,\"currency\":\"INR\",\"decimalValue\":\"5999.00\",\"discount\":null,\"downpaymentRate\":0,\"downpaymentRequired\":false,\"name\":\"Special Price\",\"priceType\":\"SPECIAL_PRICE\",\"strikeOff\":false,\"value\":5999}],\"showDiscountAsAmount\":false,\"totalDiscount\":25},\"productBrand\":\"Realme\",\"productCardTagDetails\":[{\"image\":{\"type\":\"ImageValue\",\"dynamicImageUrl\":\"https://rukminim1.flixcart.com/www/{@width}/{@height}/promos/21/07/2017/e8625e14-3277-4f16-a4d4-df8ed525905b.png?q={@quality}\",\"height\":0,\"width\":0},\"tagDetails\":null,\"type\":\"F_ASSURED\"}],\"rating\":{\"type\":\"RatingValue\",\"average\":4.4,\"base\":5,\"breakup\":[28454,15412,48471,142520,437721],\"count\":672578,\"histogramBaseCount\":437721,\"reviewCount\":58645},\"smartUrl\":\"http://dl.flipkart.com/dl/realme-c2-diamond-blue-32-gb/p/itmfgwba8kmejqpe?pid=MOBFHBZ4ZQB3CTZW\",\"tags\":[\"Exchange Offer\"],\"titles\":{\"subtitle\":\"2 GB RAM\",\"title\":\"Realme C2 (Diamond Blue, 32 GB)\"},\"vertical\":\"mobile\",\"warrantySummary\":\"Brand Warranty of 1 Year Available for Mobile and 6 Months for Accessories\"}},\"snippets\":[{\"type\":\"FormattedMessageValue\",\"data\":[{\"type\":\"FormattedRichTextData\",\"value\":{\"type\":\"RichTextValue\",\"style\":{\"color\":\"#000000\",\"fontSize\":14,\"fontStyle\":\"normal\",\"fontWeight\":\"normal\"},\"text\":\"No Cost EMI\"}}]},{\"type\":\"FormattedMessageValue\",\"data\":[{\"type\":\"FormattedRichTextData\",\"value\":{\"type\":\"RichTextValue\",\"style\":{\"color\":\"#000000\",\"fontSize\":14,\"fontStyle\":\"normal\",\"fontWeight\":\"normal\"},\"text\":\"Upto \"}},{\"type\":\"FormattedRichTextData\",\"value\":{\"type\":\"RichTextValue\",\"style\":{\"color\":\"#000000\",\"fontSize\":14,\"fontStyle\":\"normal\",\"fontWeight\":\"bold\"},\"text\":\"\\xe2\\x82\\xb95,950\"}},{\"type\":\"FormattedRichTextData\",\"value\":{\"type\":\"RichTextValue\",\"style\":{\"color\":\"#000000\",\"fontSize\":14,\"fontStyle\":\"normal\",\"fontWeight\":\"normal\"},\"text\":\" Off on Exchange\"}}]}]}]}}},{\"slotType\":\"WIDGET\",\"id\":6001023,\"parentId\":10003,\"layoutParams\":{\"orientation\":\"\",\"widgetHeight\":150,\"widgetWidth\":12},\"dataId\":\"276781987\",\"elementId\":\"6001023-PRODUCT_SUMMARY\",\"hasWidgetDataChanged\":true,\"ttl\":3000,\"widget\":{\"type\":\"PRODUCT_SUMMARY\",\"viewType\":\"LIST_LARGE\",\"data\":{\"maxCardCount\":1,\"products\":[{\"adInfo\":{\"bannerId\":\"149668842\",\"impressionId\":\"en_D29BGRD9O6bWEOF9mExIhzsZtSz3ijdz12pZy/Yo1/s/PE6io5CJuVaDBEF75VpyGgzvwa+yTrUAwjZoXR766g==\",\"listingId\":\"LSTMOBFMYZZJJ4FPE3UDAUHAH\",\"numResults\":11018,\"productId\":\"MOBFMYZZJJ4FPE3U\",\"responseId\":\"86407e7d-062e-4286-9a1b-30f6539b0fa2\"},\"addToWishlist\":{\"action\":{\"constraints\":null,\"fallback\":null,\"loginType\":\"LOGIN_NOT_REQUIRED\",\"omnitureData\":null,\"originalUrl\":null,\"params\":{\"valid\":true,\"productId\":\"MOBFMYZZJJ4FPE3U\"},\"screenType\":\"multiWidgetPage\",\"tracking\":{},\"type\":\"WISHLIST_ADD\",\"url\":null},\"metaData\":null,\"tracking\":null,\"trackingData\":null,\"value\":{\"type\":\"ProductActionValue\",\"actionType\":\"ADD_TO_WISHLIST\",\"enabled\":true}},\"productInfo\":{\"action\":{\"constraints\":null,\"fallback\":null,\"loginType\":\"LOGIN_NOT_REQUIRED\",\"omnitureData\":\"deep_linking\",\"originalUrl\":null,\"params\":{\"valid\":true,\"productId\":\"MOBFMYZZJJ4FPE3U\",\"marketplace\":\"FLIPKART\",\"screenName\":\"PRODUCT_PAGE\",\"listingId\":\"LSTMOBFMYZZJJ4FPE3UDAUHAH\",\"pids\":[\"MOBFMYZZJJ4FPE3U\"],\"loadingStateKey\":\"LoadingStateDefaultNew\",\"lids\":[\"LSTMOBFMYZZJJ4FPE3UDAUHAH\"]},\"screenType\":\"productPage\",\"tracking\":{\"impressionId\":\"en_D29BGRD9O6bWEOF9mExIhzsZtSz3ijdz12pZy/Yo1/s/PE6io5CJuVaDBEF75VpyGgzvwa+yTrUAwjZoXR766g==\",\"position\":\"24\",\"contentType\":\"productCard\",\"contextType\":\"widget\"},\"type\":\"NAVIGATION\",\"url\":\"/kall-k900-dark-blue-64-gb/p/itmc5f10316af1f1?pid=MOBFMYZZJJ4FPE3U&lid=LSTMOBFMYZZJJ4FPE3UDAUHAH&marketplace=FLIPKART\"},\"metaData\":null,\"tracking\":{\"impressionId\":\"en_D29BGRD9O6bWEOF9mExIhzsZtSz3ijdz12pZy/Yo1/s/PE6io5CJuVaDBEF75VpyGgzvwa+yTrUAwjZoXR766g==\",\"position\":\"24\",\"contentType\":\"productCard\",\"contextType\":\"widget\"},\"trackingData\":null,\"value\":{\"type\":\"ProductSummaryValue\",\"analyticsData\":{\"category\":\"Mobile\",\"subCategory\":\"Handset\",\"superCategory\":\"Mobile\",\"vertical\":\"Handset\"},\"availability\":{\"MessageIntent\":\"positive\",\"displayState\":\"IN_STOCK\",\"intent\":\"positive\",\"showMessage\":false},\"baseUrl\":\"/kall-k900-dark-blue-64-gb/p/itmc5f10316af1f1?pid=MOBFMYZZJJ4FPE3U\",\"buyability\":{\"intent\":\"positive\",\"message\":null,\"showMessage\":false},\"conditionCallout\":false,\"exclusiveTag\":\"#JustHere\",\"flags\":{\"enableChat\":true,\"enableCompare\":true,\"enableFlipkartAdvantage\":true,\"enableOfferTag\":true,\"enableVisualDiscovery\":false,\"enableWishlist\":true,\"showSecondaryTitle\":true,\"swatchAvailableOnBrowsePage\":true},\"grade\":{\"color\":null,\"id\":null,\"name\":null,\"shortDesc\":null},\"id\":\"MOBFMYZZJJ4FPE3U\",\"itemId\":\"ITMC5F10316AF1F1\",\"keySpecs\":[\"4 GB RAM | 64 GB ROM |\",\"13.97 cm (5.5 inch) Display\",\"8MP Rear Camera | 5MP Front Camera\",\"3000 mAh Battery\"],\"listingId\":\"LSTMOBFMYZZJJ4FPE3UDAUHAH\",\"media\":{\"images\":[{\"aspectRatio\":null,\"contentInfo\":null,\"height\":null,\"url\":\"http://rukmini1.flixcart.com/image/{@width}/{@height}/k5cs87k0/mobile/e/3/u/i-kall-k900-k900-original-imafzyta8uqp2hmk.jpeg?q={@quality}\",\"width\":null},{\"aspectRatio\":null,\"contentInfo\":null,\"height\":null,\"url\":\"http://rukmini1.flixcart.com/image/{@width}/{@height}/k40798w0/mobile/e/3/u/i-kall-k900-k900-original-imafnyftvz8ey4uj.jpeg?q={@quality}\",\"width\":null},{\"aspectRatio\":null,\"contentInfo\":null,\"height\":null,\"url\":\"http://rukmini1.flixcart.com/image/{@width}/{@height}/k572gsw0/mobile/e/3/u/i-kall-k900-k900-original-imafnxg93xqzyvpv.jpeg?q={@quality}\",\"width\":null},{\"aspectRatio\":null,\"contentInfo\":null,\"height\":null,\"url\":\"http://rukmini1.flixcart.com/image/{@width}/{@height}/k40798w0/mobile/e/3/u/i-kall-k900-k900-original-imafnyfvpherrhjf.jpeg?q={@quality}\",\"width\":null},{\"aspectRatio\":null,\"contentInfo\":null,\"height\":null,\"url\":\"http://rukmini1.flixcart.com/image/{@width}/{@height}/k40798w0/mobile/e/3/u/i-kall-k900-k900-original-imafnyfttbkv5qnj.jpeg?q={@quality}\",\"width\":null},{\"aspectRatio\":null,\"contentInfo\":null,\"height\":null,\"url\":\"http://rukmini1.flixcart.com/image/{@width}/{@height}/k40798w0/mobile/e/3/u/i-kall-k900-k900-original-imafnyg5s3nw49tw.jpeg?q={@quality}\",\"width\":null}]},\"minKeySpecs\":[\"4 GB RAM | 64 GB Storage\",\"13.97 cm (5.5 inch) Display\",\"3000 mAh\",\"8MP Rear Camera\",\"5MP Front Camera\"],\"pricing\":{\"type\":\"ListingPriceValue\",\"deliveryCharge\":{\"additionalText\":null,\"currency\":\"INR\",\"decimalValue\":\"0.00\",\"discount\":null,\"downpaymentRate\":0,\"downpaymentRequired\":false,\"name\":\"Delivery Charges\",\"priceType\":null,\"strikeOff\":false,\"value\":0},\"discountAmount\":3500,\"extraDiscount\":null,\"finalPrice\":{\"additionalText\":null,\"currency\":\"INR\",\"decimalValue\":\"4499.00\",\"discount\":null,\"downpaymentRate\":0,\"downpaymentRequired\":false,\"name\":\"Total\",\"priceType\":null,\"strikeOff\":false,\"value\":4499},\"finalSavingsText\":null,\"knowMore\":null,\"mrp\":{\"additionalText\":\"(incl. of all taxes)\",\"currency\":\"INR\",\"decimalValue\":\"7999.00\",\"discount\":null,\"downpaymentRate\":0,\"downpaymentRequired\":false,\"name\":\"Maximum Retail Price\",\"priceType\":null,\"strikeOff\":true,\"value\":7999},\"partPriceInfo\":null,\"plusPriceInfo\":null,\"priceDescriptions\":null,\"pricePerUnit\":null,\"priceTags\":null,\"prices\":[{\"additionalText\":null,\"currency\":\"INR\",\"decimalValue\":\"7999.00\",\"discount\":43,\"downpaymentRate\":0,\"downpaymentRequired\":false,\"name\":\"Selling Price\",\"priceType\":\"FSP\",\"strikeOff\":true,\"value\":7999},{\"additionalText\":null,\"currency\":\"INR\",\"decimalValue\":\"4499.00\",\"discount\":null,\"downpaymentRate\":0,\"downpaymentRequired\":false,\"name\":\"Special Price\",\"priceType\":\"SPECIAL_PRICE\",\"strikeOff\":false,\"value\":4499}],\"showDiscountAsAmount\":false,\"totalDiscount\":43},\"productBrand\":\"I Kall\",\"productCardTagDetails\":[{\"image\":{\"type\":\"ImageValue\",\"dynamicImageUrl\":\"https://rukminim1.flixcart.com/www/{@width}/{@height}/promos/21/07/2017/e8625e14-3277-4f16-a4d4-df8ed525905b.png?q={@quality}\",\"height\":0,\"width\":0},\"tagDetails\":null,\"type\":\"F_ASSURED\"}],\"rating\":{\"type\":\"RatingValue\",\"average\":3.5,\"base\":5,\"breakup\":[73,18,35,40,131],\"count\":297,\"histogramBaseCount\":131,\"reviewCount\":27},\"smartUrl\":\"http://dl.flipkart.com/dl/kall-k900-dark-blue-64-gb/p/itmc5f10316af1f1?pid=MOBFMYZZJJ4FPE3U\",\"tags\":[],\"titles\":{\"subtitle\":\"4 GB RAM\",\"title\":\"I Kall K900 (Dark Blue, 64 GB)\"},\"vertical\":\"mobile\",\"warrantySummary\":\"1 year manufacturing warranty for mobile and 6 months for box accessories\"}}}]}}},{\"slotType\":\"WIDGET\",\"id\":7,\"parentId\":10003,\"layoutParams\":{\"orientation\":\"\",\"widgetHeight\":150,\"widgetWidth\":12},\"dataId\":\"879523284\",\"elementId\":\"7-PAGINATION_BAR\",\"hasWidgetDataChanged\":true,\"paginatedWidget\":true,\"ttl\":3000,\"widget\":{\"type\":\"PAGINATION_BAR\",\"data\":{\"currentPage\":1,\"navigationPages\":[{\"number\":1,\"param\":\"page=1\",\"selected\":true},{\"number\":2,\"param\":\"page=2\",\"selected\":false},{\"number\":3,\"param\":\"page=3\",\"selected\":false},{\"number\":4,\"param\":\"page=4\",\"selected\":false},{\"number\":5,\"param\":\"page=5\",\"selected\":false},{\"number\":6,\"param\":\"page=6\",\"selected\":false},{\"number\":7,\"param\":\"page=7\",\"selected\":false},{\"number\":8,\"param\":\"page=8\",\"selected\":false},{\"number\":9,\"param\":\"page=9\",\"selected\":false},{\"number\":10,\"param\":\"page=10\",\"selected\":false}],\"totalPages\":459}}},{\"slotType\":\"WIDGET\",\"id\":8,\"parentId\":10003,\"layoutParams\":{\"orientation\":\"\",\"spacing\":\"10,0,0,0\",\"widgetHeight\":150,\"widgetWidth\":12},\"dataId\":\"-1419285508\",\"elementId\":\"8-FEEDBACK_WIDGET\",\"hasWidgetDataChanged\":true,\"paginatedWidget\":true,\"ttl\":3000,\"widget\":{\"type\":\"FEEDBACK_WIDGET\",\"data\":{\"answerData\":{\"positiveAnswerData\":{\"insideTextBoxMessage\":\"Please note that we may not be able to respond directly to feedback submitted through this form.\",\"showTextBox\":true,\"text\":\"We\\xe2\\x80\\x99d love to hear from you about our search experience. Your feedback will help us improve Flipkart for everyone.\",\"textBoxCharSize\":1000},\"negativeAnswerData\":{\"insideTextBoxMessage\":\"Please note that we may not be able to respond directly to feedback submitted through this form.\",\"options\":[{\"action\":null,\"metaData\":null,\"tracking\":null,\"trackingData\":null,\"value\":{\"type\":\"SelectableButtonValue\",\"buttonType\":\"DEFAULT\",\"id\":\"2\",\"selected\":false,\"title\":\"Irrelevant results\"}},{\"action\":null,\"metaData\":null,\"tracking\":null,\"trackingData\":null,\"value\":{\"type\":\"SelectableButtonValue\",\"buttonType\":\"DEFAULT\",\"id\":\"5\",\"selected\":false,\"title\":\"Above my budget\"}},{\"action\":null,\"metaData\":null,\"tracking\":null,\"trackingData\":null,\"value\":{\"type\":\"SelectableButtonValue\",\"buttonType\":\"DEFAULT\",\"id\":\"4\",\"selected\":false,\"title\":\"Out of stock\"}},{\"action\":null,\"metaData\":null,\"tracking\":null,\"trackingData\":null,\"value\":{\"type\":\"SelectableButtonValue\",\"buttonType\":\"DEFAULT\",\"id\":\"8\",\"selected\":false,\"title\":\"Not available on Flipkart\"}},{\"action\":null,\"metaData\":null,\"tracking\":null,\"trackingData\":null,\"value\":{\"type\":\"SelectableButtonValue\",\"buttonType\":\"DEFAULT\",\"id\":\"12\",\"selected\":false,\"title\":\"Not enough variety or choice\"}},{\"action\":null,\"metaData\":null,\"tracking\":null,\"trackingData\":null,\"value\":{\"type\":\"SelectableButtonValue\",\"buttonType\":\"DEFAULT\",\"id\":\"11\",\"selected\":false,\"title\":\"Cannot be delivered at my pincode\"}},{\"action\":null,\"metaData\":null,\"tracking\":null,\"trackingData\":null,\"value\":{\"type\":\"SelectableButtonValue\",\"buttonType\":\"DEFAULT\",\"id\":\"3\",\"selected\":false,\"title\":\"Sort/Filter option isn\\'t helpful\"}}],\"optionsTitle\":\"Choose an option that best describes your problem.\",\"showTextBox\":true,\"text\":\"Please share any more details around the issue. Your feedback will help us improve Flipkart for everyone.\",\"textBoxCharSize\":1000}},\"onSubmitMessage\":\"Thank you for your feedback.\",\"question\":{\"type\":\"TextValue\",\"title\":\"Did you find what you were looking for?\"},\"questionActions\":[{\"action\":null,\"metaData\":null,\"tracking\":null,\"trackingData\":null,\"value\":{\"type\":\"FeedbackWidgetButtonValue\",\"id\":\"1_Y\",\"referenceId\":\"positiveAnswerData\",\"title\":\"Yes\"}},{\"action\":null,\"metaData\":null,\"tracking\":null,\"trackingData\":null,\"value\":{\"type\":\"FeedbackWidgetButtonValue\",\"id\":\"1_N\",\"referenceId\":\"negativeAnswerData\",\"title\":\"No\"}}],\"submitButton\":{\"action\":null,\"metaData\":null,\"tracking\":null,\"trackingData\":null,\"value\":{\"type\":\"ButtonValue\",\"title\":\"Submit\"}}},\"tracking\":{\"impressionId\":\"86407e7d-062e-4286-9a1b-30f6539b0fa2\",\"storePath\":\"tyy/4io\",\"userInputQuery\":null,\"requestType\":\"browse\",\"searchQuery\":null,\"sqid\":null,\"ssid\":null,\"position\":29}}}],\"10004\":[{\"slotType\":\"WIDGET\",\"id\":4,\"parentId\":10004,\"layoutParams\":{\"flexibleWidth\":true,\"orientation\":\"\",\"widgetHeight\":150,\"widgetWidth\":9},\"dataId\":\"640734321\",\"elementId\":\"4-FILTER_SORT_OPTIONS\",\"hasWidgetDataChanged\":true,\"paginatedWidget\":true,\"ttl\":3000,\"widget\":{\"type\":\"FILTER_SORT_OPTIONS\",\"data\":{\"breadCrumbs\":[{\"title\":\"Home\",\"url\":\"/\"},{\"title\":\"Mobiles & Accessories\",\"url\":\"/mobiles-accessories/pr?sid=tyy&marketplace=FLIPKART\"},{\"title\":\"Mobiles\",\"url\":\"/mobiles/pr?sid=tyy,4io&marketplace=FLIPKART\"}],\"productEndIndex\":24,\"productStartIndex\":1,\"sortOptions\":[{\"action\":{\"constraints\":null,\"fallback\":null,\"loginType\":\"LOGIN_NOT_REQUIRED\",\"omnitureData\":null,\"originalUrl\":null,\"params\":{\"type\":\"UPDATE\",\"value\":\"popularity\",\"key\":\"sort\"},\"screenType\":null,\"tracking\":{},\"type\":\"URL_UPDATE\",\"url\":null},\"metaData\":null,\"tracking\":null,\"trackingData\":null,\"value\":{\"type\":\"SelectableButtonValue\",\"buttonType\":\"DEFAULT\",\"selected\":false,\"title\":\"Popularity\"}},{\"action\":{\"constraints\":null,\"fallback\":null,\"loginType\":\"LOGIN_NOT_REQUIRED\",\"omnitureData\":null,\"originalUrl\":null,\"params\":{\"type\":\"UPDATE\",\"value\":\"price_asc\",\"key\":\"sort\"},\"screenType\":null,\"tracking\":{},\"type\":\"URL_UPDATE\",\"url\":null},\"metaData\":null,\"tracking\":null,\"trackingData\":null,\"value\":{\"type\":\"SelectableButtonValue\",\"buttonType\":\"DEFAULT\",\"selected\":false,\"title\":\"Price -- Low to High\"}},{\"action\":{\"constraints\":null,\"fallback\":null,\"loginType\":\"LOGIN_NOT_REQUIRED\",\"omnitureData\":null,\"originalUrl\":null,\"params\":{\"type\":\"UPDATE\",\"value\":\"price_desc\",\"key\":\"sort\"},\"screenType\":null,\"tracking\":{},\"type\":\"URL_UPDATE\",\"url\":null},\"metaData\":null,\"tracking\":null,\"trackingData\":null,\"value\":{\"type\":\"SelectableButtonValue\",\"buttonType\":\"DEFAULT\",\"selected\":false,\"title\":\"Price -- High to Low\"}},{\"action\":{\"constraints\":null,\"fallback\":null,\"loginType\":\"LOGIN_NOT_REQUIRED\",\"omnitureData\":null,\"originalUrl\":null,\"params\":{\"type\":\"UPDATE\",\"value\":\"recency_desc\",\"key\":\"sort\"},\"screenType\":null,\"tracking\":{},\"type\":\"URL_UPDATE\",\"url\":null},\"metaData\":null,\"tracking\":null,\"trackingData\":null,\"value\":{\"type\":\"SelectableButtonValue\",\"buttonType\":\"DEFAULT\",\"selected\":false,\"title\":\"Newest First\"}}],\"title\":\"Mobiles\",\"totalProducts\":11018}}}],\"ROOT\":[{\"slotType\":\"LOGICAL\",\"id\":10000,\"parentId\":0,\"childArrangement\":\"ADJACENT\"},{\"slotType\":\"WIDGET\",\"id\":10,\"parentId\":0,\"layoutParams\":{\"margin\":\"0,16,0,0\",\"orientation\":\"\",\"widgetHeight\":150,\"widgetWidth\":12},\"dataId\":\"1488671711\",\"elementId\":\"10-RICH_PMU\",\"hasWidgetDataChanged\":true,\"ttl\":3000,\"widget\":{\"type\":\"RICH_PMU\",\"data\":{\"renderableComponents\":[{\"action\":{\"constraints\":null,\"fallback\":null,\"loginType\":\"LOGIN_NOT_REQUIRED\",\"omnitureData\":null,\"originalUrl\":\"/realme-5s-crystal-blue-128-gb/p/itm592977b0ba210?pid=MOBFM2WZW8VZEXK3&marketplace=FLIPKART\",\"params\":{\"valid\":true,\"marketplace\":\"FLIPKART\",\"pid\":\"MOBFM2WZW8VZEXK3\",\"pids\":[\"MOBFM2WZW8VZEXK3\"]},\"screenType\":\"productPage\",\"tracking\":{},\"type\":\"NAVIGATION\",\"url\":\"/realme-5s-crystal-blue-128-gb/p/itm592977b0ba210?pid=MOBFM2WZW8VZEXK3&marketplace=FLIPKART\"},\"metaData\":null,\"tracking\":null,\"trackingData\":null,\"value\":{\"type\":\"RichProductValue\",\"averageRating\":4.4,\"gradeInfo\":{\"color\":null,\"id\":null,\"name\":null,\"shortDesc\":null},\"imageUrl\":\"http://rukmini1.flixcart.com/image/{@width}/{@height}/k34rki80/mobile/t/t/z/realme-5s-rmx1925-original-imafmbm6hatkkzys.jpeg?q={@quality}\",\"itemId\":\"ITM592977B0BA210\",\"keySpec\":[\"4 GB RAM | 128 GB ROM | Expandable Upto 256 GB\",\"16.51 cm (6.5 inch) HD+ Display\",\"48MP + 8MP + 2MP + 2MP | 13MP Front Camera\",\"5000 mAh Battery\",\"Qualcomm Snapdragon 665 Processor\"],\"mostHelpful\":{\"type\":\"BaseProductReviewValue\",\"author\":\"Ramavatar Singh  Dhaked\",\"certifiedBuyer\":true,\"created\":\"1 month ago\",\"helpfulCount\":0,\"id\":\"cd88812d-eed9-44bd-8f98-723aa8e841bf\",\"images\":null,\"rating\":5,\"reviewPropertyMap\":null,\"text\":\"beautiful camera.. high quality picture click.. screen is very good performance.....high processor.... very nice mobile.....\",\"title\":\"Awesome\",\"totalCount\":0},\"mostRecent\":{\"type\":\"BaseProductReviewValue\",\"author\":\"Flipkart Customer\",\"certifiedBuyer\":true,\"created\":\"Today\",\"helpfulCount\":0,\"id\":\"df28e632-7f3b-4f31-9747-4887d36bb7b7\",\"images\":null,\"rating\":4,\"reviewPropertyMap\":null,\"text\":\"excellent camera but battery is not long lasting. I have to charge it daily the charging is finishing very fast. rest other features of phone are good.\",\"title\":\"Good quality product\",\"totalCount\":0},\"pricing\":{\"type\":\"ListingPriceValueV4\",\"balancePayDate\":{\"endDate\":null,\"startDate\":null},\"currency\":\"INR\",\"deliveryCharge\":{\"name\":\"Delivery Charges\",\"priceType\":\"DELIVERY_CHARGE\",\"value\":0},\"discountAmount\":2000,\"finalPrice\":{\"name\":\"Total\",\"priceType\":\"TOTAL\",\"value\":10999},\"mrp\":{\"name\":\"Maximum Retail Price\",\"priceType\":\"MRP\",\"value\":12999},\"payLaterPrice\":null,\"payNowPrice\":null,\"plusPriceInfo\":null,\"preOrderAvailable\":false,\"preOrderDiscount\":null,\"pricePerUnit\":null,\"prices\":[{\"name\":\"Selling Price\",\"priceType\":\"FSP\",\"value\":12999},{\"name\":\"Special Price\",\"priceType\":\"SPECIAL_PRICE\",\"value\":10999}],\"salePrice\":null,\"showDiscountAsAmount\":false,\"strikeOff\":true,\"totalDiscount\":15},\"productId\":\"MOBFM2WZW8VZEXK3\",\"ratingHistogram\":[5941,2730,8559,28523,93975],\"subTitle\":null,\"title\":\"Realme 5s (Crystal Blue, 128 GB)\",\"totalRatingCount\":139728,\"totalReviewCount\":13248}},{\"action\":{\"constraints\":null,\"fallback\":null,\"loginType\":\"LOGIN_NOT_REQUIRED\",\"omnitureData\":null,\"originalUrl\":\"/vivo-z1pro-sonic-black-64-gb/p/itmfghyebfrvjzfs?pid=MOBFHHT56NTTZKZ5&marketplace=FLIPKART\",\"params\":{\"valid\":true,\"marketplace\":\"FLIPKART\",\"pid\":\"MOBFHHT56NTTZKZ5\",\"pids\":[\"MOBFHHT56NTTZKZ5\"]},\"screenType\":\"productPage\",\"tracking\":{},\"type\":\"NAVIGATION\",\"url\":\"/vivo-z1pro-sonic-black-64-gb/p/itmfghyebfrvjzfs?pid=MOBFHHT56NTTZKZ5&marketplace=FLIPKART\"},\"metaData\":null,\"tracking\":null,\"trackingData\":null,\"value\":{\"type\":\"RichProductValue\",\"averageRating\":4.5,\"gradeInfo\":{\"color\":null,\"id\":null,\"name\":null,\"shortDesc\":null},\"imageUrl\":\"http://rukmini1.flixcart.com/image/{@width}/{@height}/k2jbyq80pkrrdj/mobile-refurbished/u/n/j/z1pro-64-d-1951-pd1911f-ex-vivo-6-original-imafhmyaytjannkv.jpeg?q={@quality}\",\"itemId\":\"ITMFGHYEBFRVJZFS\",\"keySpec\":[\"4 GB RAM | 64 GB ROM | Expandable Upto 256 GB\",\"16.59 cm (6.53 inch) Full HD+ Display\",\"16MP + 2MP + 8MP | 32MP Front Camera\",\"5000 mAh Battery\",\"Qualcomm Snapdragon 712 AIE Octa Core 2.3GHz Processor\"],\"mostHelpful\":{\"type\":\"BaseProductReviewValue\",\"author\":\"Swaraj Mukherjee\",\"certifiedBuyer\":true,\"created\":\"6 months ago\",\"helpfulCount\":0,\"id\":\"152b90af-0949-4418-8e20-397ccf459ae8\",\"images\":null,\"rating\":5,\"reviewPropertyMap\":null,\"text\":\"absolutely amazing device in this price range ... In hand feel is awesome , Thank you team #vivo @vivo for provide such an amazing device , it has decent camera , decent battery backup , good sound quality and others necessary things ..\",\"title\":\"Great product\",\"totalCount\":0},\"mostRecent\":{\"type\":\"BaseProductReviewValue\",\"author\":\"ravi kumar reddy tangella\",\"certifiedBuyer\":true,\"created\":\"Today\",\"helpfulCount\":0,\"id\":\"276e4df6-5382-43b5-8827-d633dc9c4532\",\"images\":null,\"rating\":5,\"reviewPropertyMap\":null,\"text\":\"Review After the 4 months usage of the mobile..\\\\nPro\\'s: 1. 712 AIE processor\\\\n           2. Bigger Battery of 5000mah with 18 watt fast                       Charger inside the box.\\\\n           3. No heating issues\\\\n           4. Punch hole camera\\\\n           5. Earphones inside the box\\\\n           6.faster face detection & finger print scanner\\\\n           7.powerfull cameras with so many filters.\\\\n           8. Whatever work,game it will not hang.\\\\n\\\\nCon\\'s 1.display(no protection,not sAmoled)\\\\n           2.sound(it good, but when compare to other mobile it is quite less sound)\",\"title\":\"Brilliant\",\"totalCount\":0},\"pricing\":{\"type\":\"ListingPriceValueV4\",\"balancePayDate\":{\"endDate\":null,\"startDate\":null},\"currency\":\"INR\",\"deliveryCharge\":{\"name\":\"Delivery Charges\",\"priceType\":\"DELIVERY_CHARGE\",\"value\":0},\"discountAmount\":3000,\"finalPrice\":{\"name\":\"Total\",\"priceType\":\"TOTAL\",\"value\":12990},\"mrp\":{\"name\":\"Maximum Retail Price\",\"priceType\":\"MRP\",\"value\":15990},\"payLaterPrice\":null,\"payNowPrice\":null,\"plusPriceInfo\":null,\"preOrderAvailable\":false,\"preOrderDiscount\":null,\"pricePerUnit\":null,\"prices\":[{\"name\":\"Selling Price\",\"priceType\":\"FSP\",\"value\":15990},{\"name\":\"Special Price\",\"priceType\":\"SPECIAL_PRICE\",\"value\":12990}],\"salePrice\":null,\"showDiscountAsAmount\":false,\"strikeOff\":true,\"totalDiscount\":18},\"productId\":\"MOBFHHT56NTTZKZ5\",\"ratingHistogram\":[10245,4407,14600,57895,191092],\"subTitle\":null,\"title\":\"Vivo Z1Pro (Sonic Black, 64 GB)\",\"totalRatingCount\":278239,\"totalReviewCount\":28623}},{\"action\":{\"constraints\":null,\"fallback\":null,\"loginType\":\"LOGIN_NOT_REQUIRED\",\"omnitureData\":null,\"originalUrl\":\"/redmi-8-sapphire-blue-64-gb/p/itme9614ba9b9bda?pid=MOBFKPYDENDXZZ7U&marketplace=FLIPKART\",\"params\":{\"valid\":true,\"marketplace\":\"FLIPKART\",\"pid\":\"MOBFKPYDENDXZZ7U\",\"pids\":[\"MOBFKPYDENDXZZ7U\"]},\"screenType\":\"productPage\",\"tracking\":{},\"type\":\"NAVIGATION\",\"url\":\"/redmi-8-sapphire-blue-64-gb/p/itme9614ba9b9bda?pid=MOBFKPYDENDXZZ7U&marketplace=FLIPKART\"},\"metaData\":null,\"tracking\":null,\"trackingData\":null,\"value\":{\"type\":\"RichProductValue\",\"averageRating\":4.4,\"gradeInfo\":{\"color\":null,\"id\":null,\"name\":null,\"shortDesc\":null},\"imageUrl\":\"http://rukmini1.flixcart.com/image/{@width}/{@height}/k1fbmvk0/mobile/g/y/q/mi-redmi-8-mzb8253in-original-imafhyacjwjwxmsx.jpeg?q={@quality}\",\"itemId\":\"ITME9614BA9B9BDA\",\"keySpec\":[\"4 GB RAM | 64 GB ROM | Expandable Upto 512 GB\",\"15.8 cm (6.22 inch) HD+ Display\",\"12MP + 2MP | 8MP Front Camera\",\"5000 mAh Battery\",\"Qualcomm Snapdragon 439 Processor\"],\"mostHelpful\":{\"type\":\"BaseProductReviewValue\",\"author\":\"Arpan Dawn\",\"certifiedBuyer\":true,\"created\":\"3 months ago\",\"helpfulCount\":0,\"id\":\"4676e4d6-16fa-46cd-8a07-6b810f2e077b\",\"images\":null,\"rating\":5,\"reviewPropertyMap\":null,\"text\":\"Ah. At last a budget phone with massive 5000 mAh battery and superb camera.\\\\nBTW, If you want a good smartphone in this price segment I will highly recommend this phone. Go for it blindly.\\\\n\\\\nSo, first of all, Thank you Flipkart for delivering instead two days. I wasn\\'t expecting such a quick delivery, since I don\\'t live in a metro, I live in Chandrakona (West Bengal).\\\\nI ordered first day of sale at 12 A.M., 12th October.\\\\n(colour- sapphire blue, Variant- 4 GB Ram & 64 GB Rom)\\\\n\\\\nNow let me start about with the pros & cons about the new \\\\\"Redmi 8\\\\\" ---\\\\n\\\\n\\\\nPros :)\\\\n1. 5000 mAh high capacity battery (That is enough...!)\\\\n2. The new Aura Mirror design (Looks very attractive...!)\\\\n3. Corning Gorilla glass 5 protection (Front side)\\\\n4. 18W fast charging supported with Type-C port. (Type-C port is available in box.)\\\\n5. 2+1 dedicated micro SD slot.\\\\n6. 15.8cm (6.22) Dot Notch Display.\\\\n7. 12+2 MP AI Dual back Camera (Sony IMX363 sensor.)\\\\n8. 8 MP AI Selfie camera.\\\\n9.  It has Android 9 with MIUI 10.\\\\n9. Dedicated face recognition scanner which actually works in the DARK !\\\\n\\\\n\\\\nCons :(\\\\n1. Polycarbonate body (I won\\'t say really this a con but it feels just like metal to be honest.)\\\\n2. Fast charger is not available in box.\\\\n3. No headphone available as Xiaomi did everytime.\\\\n\\\\n***PROCESSOR - Now we talk about the processor of this mobile. I think Qualcomm Snapdragon 439 is not suitable in this mobile. If you\\'re a PUBG or other high defination game lover, than this is not for u (they can be played but not so smooth). And in Redmi 7a, there is same processor available. So, it\\'s a funny part of this mobile.\\\\n\\\\nBTW, If you planning to buy this mobile then, go for it, bcoz in this price segment MI did an great work for ourselves (expect processor). \\\\n\\\\ndon\\'t use the Super Slim Soft case as a primary case. Buy a heavy durable one. Use the soft one until you get a highly durable case.\\\\n\\\\nBuy a screen protector too.\\\\n\\\\nIf it helps, please click the like button. It will help a lot of people. Will add images afterwards.\",\"title\":\"Highly recommended\",\"totalCount\":0},\"mostRecent\":{\"type\":\"BaseProductReviewValue\",\"author\":\"Mahendhran\",\"certifiedBuyer\":true,\"created\":\"Today\",\"helpfulCount\":0,\"id\":\"be65c5b7-3f4f-4ce9-af7b-5c9cd4a9757f\",\"images\":null,\"rating\":4,\"reviewPropertyMap\":null,\"text\":\"Ordered Sapphire Blue. It looks good. \\\\n\\\\nLike the high capacity battery. All features satisfactory considering its 8k price.\",\"title\":\"Really Nice\",\"totalCount\":0},\"pricing\":{\"type\":\"ListingPriceValueV4\",\"balancePayDate\":{\"endDate\":null,\"startDate\":null},\"currency\":\"INR\",\"deliveryCharge\":{\"name\":\"Delivery Charges\",\"priceType\":\"DELIVERY_CHARGE\",\"value\":0},\"discountAmount\":3000,\"finalPrice\":{\"name\":\"Total\",\"priceType\":\"TOTAL\",\"value\":7999},\"mrp\":{\"name\":\"Maximum Retail Price\",\"priceType\":\"MRP\",\"value\":10999},\"payLaterPrice\":null,\"payNowPrice\":null,\"plusPriceInfo\":null,\"preOrderAvailable\":false,\"preOrderDiscount\":null,\"pricePerUnit\":null,\"prices\":[{\"name\":\"Selling Price\",\"priceType\":\"FSP\",\"value\":10999},{\"name\":\"Special Price\",\"priceType\":\"SPECIAL_PRICE\",\"value\":7999}],\"salePrice\":null,\"showDiscountAsAmount\":false,\"strikeOff\":true,\"totalDiscount\":27},\"productId\":\"MOBFKPYDENDXZZ7U\",\"ratingHistogram\":[13747,6450,19627,63561,205562],\"subTitle\":null,\"title\":\"Redmi 8 (Sapphire Blue, 64 GB)\",\"totalRatingCount\":308947,\"totalReviewCount\":27494}},{\"action\":{\"constraints\":null,\"fallback\":null,\"loginType\":\"LOGIN_NOT_REQUIRED\",\"omnitureData\":null,\"originalUrl\":\"/realme-5s-crystal-purple-64-gb/p/itm592977b0ba210?pid=MOBFM2WZGMU7DPZQ&marketplace=FLIPKART\",\"params\":{\"valid\":true,\"marketplace\":\"FLIPKART\",\"pid\":\"MOBFM2WZGMU7DPZQ\",\"pids\":[\"MOBFM2WZGMU7DPZQ\"]},\"screenType\":\"productPage\",\"tracking\":{},\"type\":\"NAVIGATION\",\"url\":\"/realme-5s-crystal-purple-64-gb/p/itm592977b0ba210?pid=MOBFM2WZGMU7DPZQ&marketplace=FLIPKART\"},\"metaData\":null,\"tracking\":null,\"trackingData\":null,\"value\":{\"type\":\"RichProductValue\",\"averageRating\":4.4,\"gradeInfo\":{\"color\":null,\"id\":null,\"name\":null,\"shortDesc\":null},\"imageUrl\":\"http://rukmini1.flixcart.com/image/{@width}/{@height}/k34rki80/mobile/p/z/q/realme-5s-rmx1925-original-imafmbm6hp9eutam.jpeg?q={@quality}\",\"itemId\":\"ITM592977B0BA210\",\"keySpec\":[\"4 GB RAM | 64 GB ROM | Expandable Upto 256 GB\",\"16.51 cm (6.5 inch) HD+ Display\",\"48MP + 8MP + 2MP + 2MP | 13MP Front Camera\",\"5000 mAh Battery\",\"Qualcomm Snapdragon 665 Processor\"],\"mostHelpful\":{\"type\":\"BaseProductReviewValue\",\"author\":\"Amarjit  Das\",\"certifiedBuyer\":true,\"created\":\"1 month ago\",\"helpfulCount\":0,\"id\":\"d42c7942-d7b8-434f-bc32-645493fef5c8\",\"images\":null,\"rating\":5,\"reviewPropertyMap\":null,\"text\":\"Nice performance at this price range also google looking style but display performance average. Battery backup also super by realme and Thanks to flipkart for such a good & fast \\xf0\\x9f\\x93\\xaedelivery.\",\"title\":\"Terrific purchase\",\"totalCount\":0},\"mostRecent\":{\"type\":\"BaseProductReviewValue\",\"author\":\"Roushan Raj\",\"certifiedBuyer\":true,\"created\":\"Today\",\"helpfulCount\":0,\"id\":\"e09a0b7f-d869-4256-a45a-bcc2060f8f09\",\"images\":null,\"rating\":5,\"reviewPropertyMap\":null,\"text\":\"Camera not like pro.. but its good \\\\nbattery is awesome \\\\nand gaming me to bawaal\",\"title\":\"Worth every penny\",\"totalCount\":0},\"pricing\":{\"type\":\"ListingPriceValueV4\",\"balancePayDate\":{\"endDate\":null,\"startDate\":null},\"currency\":\"INR\",\"deliveryCharge\":{\"name\":\"Delivery Charges\",\"priceType\":\"DELIVERY_CHARGE\",\"value\":0},\"discountAmount\":2000,\"finalPrice\":{\"name\":\"Total\",\"priceType\":\"TOTAL\",\"value\":9999},\"mrp\":{\"name\":\"Maximum Retail Price\",\"priceType\":\"MRP\",\"value\":11999},\"payLaterPrice\":null,\"payNowPrice\":null,\"plusPriceInfo\":null,\"preOrderAvailable\":false,\"preOrderDiscount\":null,\"pricePerUnit\":null,\"prices\":[{\"name\":\"Selling Price\",\"priceType\":\"FSP\",\"value\":11999},{\"name\":\"Special Price\",\"priceType\":\"SPECIAL_PRICE\",\"value\":9999}],\"salePrice\":null,\"showDiscountAsAmount\":false,\"strikeOff\":true,\"totalDiscount\":16},\"productId\":\"MOBFM2WZGMU7DPZQ\",\"ratingHistogram\":[5941,2730,8559,28523,93975],\"subTitle\":null,\"title\":\"Realme 5s (Crystal Purple, 64 GB)\",\"totalRatingCount\":139728,\"totalReviewCount\":13248}},{\"action\":{\"constraints\":null,\"fallback\":null,\"loginType\":\"LOGIN_NOT_REQUIRED\",\"omnitureData\":null,\"originalUrl\":\"/vivo-z1pro-sonic-blue-64-gb/p/itmfghyebfrvjzfs?pid=MOBFHHT5NZH8XCGB&marketplace=FLIPKART\",\"params\":{\"valid\":true,\"marketplace\":\"FLIPKART\",\"pid\":\"MOBFHHT5NZH8XCGB\",\"pids\":[\"MOBFHHT5NZH8XCGB\"]},\"screenType\":\"productPage\",\"tracking\":{},\"type\":\"NAVIGATION\",\"url\":\"/vivo-z1pro-sonic-blue-64-gb/p/itmfghyebfrvjzfs?pid=MOBFHHT5NZH8XCGB&marketplace=FLIPKART\"},\"metaData\":null,\"tracking\":null,\"trackingData\":null,\"value\":{\"type\":\"RichProductValue\",\"averageRating\":4.5,\"gradeInfo\":{\"color\":null,\"id\":null,\"name\":null,\"shortDesc\":null},\"imageUrl\":\"http://rukmini1.flixcart.com/image/{@width}/{@height}/k2jbyq80pkrrdj/mobile-refurbished/t/z/g/z1pro-128-u-1951-pd1911f-ex-vivo-6-original-imafhmyayxdjghhm.jpeg?q={@quality}\",\"itemId\":\"ITMFGHYEBFRVJZFS\",\"keySpec\":[\"4 GB RAM | 64 GB ROM | Expandable Upto 256 GB\",\"16.59 cm (6.53 inch) Full HD+ Display\",\"16MP + 2MP + 8MP | 32MP Front Camera\",\"5000 mAh Battery\",\"Qualcomm Snapdragon 712 AIE Octa Core 2.3GHz Processor\"],\"mostHelpful\":{\"type\":\"BaseProductReviewValue\",\"author\":\"Sagar verma Verma\",\"certifiedBuyer\":true,\"created\":\"5 months ago\",\"helpfulCount\":0,\"id\":\"2dd453b4-240f-4766-b332-ab5255793058\",\"images\":null,\"rating\":5,\"reviewPropertyMap\":null,\"text\":\"awesome phone in this price segment \\xf0\\x9f\\x98\\x8a\\xf0\\x9f\\x98\\x8a\\xf0\\x9f\\x98\\x8a\\xf0\\x9f\\x98\\x8a\\xf0\\x9f\\x98\\x8a       face detection  very fast.... i love face detection feature of vivo z1 pro\",\"title\":\"Best in the market!\",\"totalCount\":0},\"mostRecent\":{\"type\":\"BaseProductReviewValue\",\"author\":\"Rahul  Kumar\",\"certifiedBuyer\":true,\"created\":\"Today\",\"helpfulCount\":0,\"id\":\"436e19b6-66fb-472d-bfd1-51bbc4967aed\",\"images\":null,\"rating\":5,\"reviewPropertyMap\":null,\"text\":\"This phone is outstanding at its price. but if u buy at 12k of 6 gb variant. screen is very fluidic of 6.5 inch big screen.its punch hole camera make this phone almost full view display. And the most important aspect of this devise is its processor which is sd 712..which makes this phone more smoother..camera is good , it will not let u desperate..its 5000mah battery is also quite good.for the pubg player this will be the best budget centric phone which provide much. facility or features unlike other midrange devises...one   cons in this phone is its micro usb port but for the price it comes after many offers it should not be concidered.\",\"title\":\"Mind-blowing purchase\",\"totalCount\":0},\"pricing\":{\"type\":\"ListingPriceValueV4\",\"balancePayDate\":{\"endDate\":null,\"startDate\":null},\"currency\":\"INR\",\"deliveryCharge\":{\"name\":\"Delivery Charges\",\"priceType\":\"DELIVERY_CHARGE\",\"value\":0},\"discountAmount\":3000,\"finalPrice\":{\"name\":\"Total\",\"priceType\":\"TOTAL\",\"value\":12990},\"mrp\":{\"name\":\"Maximum Retail Price\",\"priceType\":\"MRP\",\"value\":15990},\"payLaterPrice\":null,\"payNowPrice\":null,\"plusPriceInfo\":null,\"preOrderAvailable\":false,\"preOrderDiscount\":null,\"pricePerUnit\":null,\"prices\":[{\"name\":\"Selling Price\",\"priceType\":\"FSP\",\"value\":15990},{\"name\":\"Special Price\",\"priceType\":\"SPECIAL_PRICE\",\"value\":12990}],\"salePrice\":null,\"showDiscountAsAmount\":false,\"strikeOff\":true,\"totalDiscount\":18},\"productId\":\"MOBFHHT5NZH8XCGB\",\"ratingHistogram\":[10245,4407,14600,57895,191092],\"subTitle\":null,\"title\":\"Vivo Z1Pro (Sonic Blue, 64 GB)\",\"totalRatingCount\":278239,\"totalReviewCount\":28623}}]},\"header\":{\"action\":null,\"metaData\":null,\"tracking\":null,\"trackingData\":null,\"value\":{\"type\":\"HeaderValue\",\"actionButton\":null,\"actionButtonArrowEnable\":null,\"actionButtonEnable\":null,\"actionButtonTextValue\":null,\"collapsed\":false,\"collapsible\":false,\"headerDetailsValue\":null,\"imageValue\":null,\"referenceImageValue\":null,\"showActionButton\":false,\"showHeader\":true,\"subTitleValue\":null,\"tags\":null,\"timerValue\":null,\"titleValue\":{\"type\":\"TitleValue\",\"image\":null,\"style\":null,\"text\":\"Reviews for Popular Mobiles\"}}}}},{\"slotType\":\"WIDGET\",\"id\":11,\"parentId\":0,\"layoutParams\":{\"orientation\":\"\",\"widgetHeight\":150,\"widgetWidth\":12},\"dataId\":\"-2020861713\",\"elementId\":\"11-ANSWER_BOX\",\"hasWidgetDataChanged\":true,\"ttl\":3000,\"widget\":{\"type\":\"ANSWER_BOX\",\"data\":{\"renderableComponents\":[{\"action\":null,\"metaData\":null,\"tracking\":null,\"trackingData\":null,\"value\":{\"type\":\"AnswerBoxValue\",\"data\":[{\"title\":\"Redmi 8A (Sunset Red, 32 GB)\",\"url\":\"/redmi-8a-sunset-red-32-gb/p/itm5474ed67d23bf?pid=MOBFKF98FTTEN832&lid=LSTMOBFKF98FTTEN832NKEHTF&marketplace=FLIPKART\",\"values\":[\"Rs. 6499\"]},{\"title\":\"Realme 5i (Forest Green, 64 GB)\",\"url\":\"/realme-5i-forest-green-64-gb/p/itmdac0da867a9fa?pid=MOBFNG3GNW3BU2XE&lid=LSTMOBFNG3GNW3BU2XERAL9TG&marketplace=FLIPKART\",\"values\":[\"Rs. 8999\"]},{\"title\":\"Vivo Z1Pro (Sonic Blue, 64 GB)\",\"url\":\"/vivo-z1pro-sonic-blue-64-gb/p/itmfghyebfrvjzfs?pid=MOBFHHT5ZETVHC4H&lid=LSTMOBFHHT5ZETVHC4H1MJSRL&marketplace=FLIPKART\",\"values\":[\"Rs. 13990\"]},{\"title\":\"Vivo Z1Pro (Sonic Black, 64 GB)\",\"url\":\"/vivo-z1pro-sonic-black-64-gb/p/itmfghyebfrvjzfs?pid=MOBFHHT5DEGWB9JE&lid=LSTMOBFHHT5DEGWB9JEJSQP1F&marketplace=FLIPKART\",\"values\":[\"Rs. 13990\"]},{\"title\":\"Vivo Z1Pro (Sonic Black, 64 GB)\",\"url\":\"/vivo-z1pro-sonic-black-64-gb/p/itmfghyebfrvjzfs?pid=MOBFHHT56NTTZKZ5&lid=LSTMOBFHHT56NTTZKZ5PWUNSS&marketplace=FLIPKART\",\"values\":[\"Rs. 12990\"]},{\"title\":\"Redmi 8 (Sapphire Blue, 64 GB)\",\"url\":\"/redmi-8-sapphire-blue-64-gb/p/itme9614ba9b9bda?pid=MOBFKPYDENDXZZ7U&lid=LSTMOBFKPYDENDXZZ7U5KFCKA&marketplace=FLIPKART\",\"values\":[\"Rs. 7999\"]},{\"title\":\"I Kall K1000 (Green, 64 GB)\",\"url\":\"/kall-k1000-green-64-gb/p/itm56e7fe626a312?pid=MOBFNFGYPF5PRDQK&lid=LSTMOBFNFGYPF5PRDQKTGKHD5&marketplace=FLIPKART\",\"values\":[\"Rs. 4999\"]},{\"title\":\"Realme C2 (Diamond Black, 32 GB)\",\"url\":\"/realme-c2-diamond-black-32-gb/p/itmfgwba8kmejqpe?pid=MOBFHBZ4MDMCNHNK&lid=LSTMOBFHBZ4MDMCNHNKOFORJ3&marketplace=FLIPKART\",\"values\":[\"Rs. 5999\"]},{\"title\":\"Realme 5s (Crystal Purple, 128 GB)\",\"url\":\"/realme-5s-crystal-purple-128-gb/p/itm592977b0ba210?pid=MOBFM2WZG7AGFGJE&lid=LSTMOBFM2WZG7AGFGJEXD8LE2&marketplace=FLIPKART\",\"values\":[\"Rs. 10999\"]},{\"title\":\"Realme C2 (Diamond Blue, 32 GB)\",\"url\":\"/realme-c2-diamond-blue-32-gb/p/itmfgwba8kmejqpe?pid=MOBFHBZ4ZQB3CTZW&lid=LSTMOBFHBZ4ZQB3CTZWUFZDQI&marketplace=FLIPKART\",\"values\":[\"Rs. 5999\"]}],\"footer\":\"This data was last updated on 2020/01/27\",\"heading\":{\"title\":\"Mobiles\",\"values\":[\"Price\"]}}}]},\"header\":{\"action\":null,\"metaData\":null,\"tracking\":null,\"trackingData\":null,\"value\":{\"type\":\"HeaderValue\",\"actionButton\":null,\"actionButtonArrowEnable\":null,\"actionButtonEnable\":null,\"actionButtonTextValue\":null,\"collapsed\":false,\"collapsible\":false,\"headerDetailsValue\":null,\"imageValue\":null,\"referenceImageValue\":null,\"showActionButton\":false,\"showHeader\":true,\"subTitleValue\":null,\"tags\":null,\"timerValue\":null,\"titleValue\":{\"type\":\"TitleValue\",\"image\":null,\"style\":null,\"text\":\"Mobiles Price List\"}}}}}]},\"pageNumber\":1,\"timeStamp\":1580111835944,\"prevPageType\":\"Browse\",\"pageType\":\"Browse\",\"reload\":false,\"fetchId\":\"86407e7d-062e-4286-9a1b-30f6539b0fa2\",\"responseHeaderObject\":{\"xReqId\":\"86407e7d-062e-4286-9a1b-30f6539b0fa2\",\"xParentReqId\":\"\",\"xTabId\":\"\"},\"pageData\":{\"backTTL\":30000,\"elementId\":\"page\",\"hardTTL\":2147483647,\"hasMorePages\":true,\"infinitePage\":true,\"layoutParams\":{\"orientation\":\"\"},\"pageHash\":\"-736924055\",\"pageLevelSlots\":{},\"pageTTL\":30000,\"pageTags\":{\"tags\":[]},\"pageTitle\":\"Mobiles\",\"paginationContextMap\":{\"federator\":{\"FILTER_NAVIGATION\":0,\"pageNumber\":1,\"FILTER_TAB\":0,\"AUGMENTATION_CARD\":0,\"INLINE_GUIDE\":0,\"MESSAGING_CARD\":0,\"SERVICEABILITY_FILTER\":0,\"ANNOUNCEMENTS_NAVIGATION\":0,\"feedbackMap\":{},\"view.store.path\":\"tyy/4io\",\"SPECIAL_ADS\":0,\"SERVICEABILITY_CARD\":0,\"ADS\":3,\"MERCH_CARD\":0,\"PAGINATION_BAR\":0,\"CATEGORY_VALUES\":0,\"FILTER_SORT_OPTIONS\":0,\"PRODUCT\":21,\"priceSortSlots\":[],\"CLEAR_FILTERS\":0,\"EMPTY_SEARCH\":0,\"SPECIAL_PRODUCTS\":0,\"FILTER_FOOTER\":0,\"store.path\":\"tyy/4io\",\"layout\":\"list\",\"COMPARE_OPTIONS\":0,\"INLINE_FILTER\":0,\"droppedContents\":{},\"FILTER_VALUES\":0,\"SEARCH_FEEDBACK_CARD\":0}},\"seoData\":{\"seo\":{\"alexaVerifyId\":false,\"content\":\"<p></p><h2>Mobile Phones Online @ Best Price</h2><div><br/></div><div><br/></div><div>Everyone is in a constant hunt for the <a href=\\\\\"/mobile-phones-store\\\\\">mobile</a> phone, or more correctly called the smartphone, that will fit all his/her requirements and would assure a guarantee of good performance. With a plethora of mobile phone brands foraying on a regular basis into the market, it&#8217;s a tough a call for the consumer to pick the right one. It&#8217;s always a wiser idea to buy mobile phones online, as the internet is the best place you can invest your time into, in order to conduct your share of investigation about the right smartphone by analysing mobile phone online reviews.&#160;</div><div><br/></div><div><br/></div><h2>Best mobile brands to look out for</h2><p><br/></p><div>There have been some brands in the market which have stayed for the longest time and have earned the trust of consumers. These brands offer you a minimum guarantee regarding the performance and longevity of the smartphone. But again, it depends on your requirements about which brand you must choose. For instance, the Xiaomi phones are quite a sought-after brand these days. They are high on demand for their battery life and performance. Xiaomi phones are perfect budget Android mobile and they are pretty reasonably priced for their features. On the other hand, if you are looking for a high-end technology mobile with ultimate security, sophisticated software and great design, the iPhone by Apple would be the first and last choice. Although these are priced higher than mobile phones from other brands, the iOS software based on which iPhone operates is unbeatable.If you are a fan of great design and style along with feature-richness in your smartphone, <a href=\\\\\"/mobiles/samsung~brand/pr?sid=tyy,4io\\\\\">Samsung mobiles</a> are the ones to own.Samsung keeps refreshing their phone design and style, and you are sure to find a phone that fits your style.Lenovo and Motorola are two other brands that have become quite popular. Consumers can get budget phones from these brands as well as expensive phones.</div><div>Lenovo mobiles have caught the eye of consumers with their great display, battery power and other features. Motorola has always been a safe choice and provides the guarantee that a good, feature rich smartphone should give.</div><div><br/></div><h2>How to buy a good mobile phone online?</h2><div><br/></div><div>When one plans to buy a mobile phone online, It&#8217;s advised that she/he considers factors like the network type, screen size, battery capacity, internal memory storage, sim type, the resolution of the front and back camera lens, what operating system and the specific version of operating system is used, how many cores are present in the processor, resolution of the screen and the like. These factors are very important to be considered as filtering out these will tell you exactly which smartphone to buy. If you are a light user you can easily go for a dual core mobile phone. If you are a gamer or someone who used his smartphone for a lot of high-speed activities, you must go for a hexa-core or octa-core phone. Similarly, all other factors have to be considered, or else, you might end up buying a phone that does not fit your requirements, or in another case one that is too sophisticated for your requirements.</div><div><br/></div><h2>Other popular smartphone brands</h2><div><br/></div><div>Some other top brands in mobiles that will suit your requirements and style would be from Vivo mobiles,Panasonic mobiles, Asus mobiles,LG mobiles and the like. Lately popular phone Lyf has been purchased by lakhs of consumers for its highlight data providing feature along with other features..HTC is another sought-after brand which provides expensive as well as budget phones with awesome features. They provide some great phones like HTC Desire 620G, HTC Desire 626 and more. Windows based Nokia and Micromax are brands that give you most of the necessary features at a pretty low price.</div><div><br/></div><div><a href=\\\\\"/mobiles/oppo~brand/pr?sid=tyy,4io\\\\\">Oppo mobiles</a> are widely purchased for their top notch hardware specifications, awesome display and amazing camera.<a href=\\\\\"/oppo-f1-plus-gold-64-gb/p/itmehzhgq9rsyyzb\\\\\">Oppo f1 plus</a>, Oppo A57,<a href=\\\\\"/oppo-f1s-gold-32-gb/p/itmehcwevtzgv5ft\\\\\">Oppo f1S</a>, <a href=\\\\\"/oppo-k1-astral-blue-64-gb/p/itmfdy9keddxqvbt\\\\\">Oppo K1</a> are some of them that you don&#8217;t want to miss. Sony has always stood out against the competition. Their front and rear glass panels set a trend with their IP68 waterproof feature being a highlight.</div><div><br/></div><h2>What&#8217;s trending in mobile phones?</h2><div><br/></div><div>Stay plugged into what&#8217;s happening latest in the smartphone world by getting regularly updated online. All best brands try experimenting with their products with varying features and specifications. One phone you need to look out for is the Redmi Note 4 which gives you a great hand feel with its curvy design, 4GB RAM and awesome camera specs. The latest dual sim phone Lenovo K6 Power has a 3GB RAM and 32GB internal storage is a budget phone with striking features.</div><div><br/></div><div>Samsung Galaxy On Nxt is one of the sought-after mobile phones which has 1.6 GHz octa-core processor with 3GB RAM.With a high-resolution camera, this is definitely one to look out for. With advanced digital sound technology, Full HD display and large battery one that is selling like hot cakes is the Lenovo Vibe K5 Note. Yet another budget phone with great features has been launched by Mi, called the Redmi 3S.Much lighter and thinner than its predecessor Redmi 2, this piece of technology has a large battery, great design and great processor. Other phones that have to be unboxed and discovered for yourself are the iPhone7, Google Pixel, Samsung Galaxy On 8, Galaxy J5-6,Moto M and the like.</div><p><br/></p><h2>Realme 3i - The Construct of Smartphones Re imagined</h2><p><br/></p><p>The Realme 3i smartphone is designed for everyone, regardless of whether you&#8217;re someone who is all about a phone that looks good, someone who prioritizes the camera quality of a phone over everything else, or if you&#8217;re a gamer who wants a handheld device that facilitates smooth gaming.&#160;</p><p><br/></p><h2>Let&#8217;s Explore Some of the Specifications and Features That Make the Realme 3i a Catch:</h2><p><br/></p><p>Powered by an octa-core CPU and a high-performance GPU, the&#160;<a href=\\\\\"/realme-3i-diamond-blue-32-gb/p/itmfgybqvazmnmmd\\\\\">Realme 3i</a>&#160;boasts a boost in efficiency even when you&#8217;re playing data-heavy games on your phone. Throughout this time, its 12 nm process technology ensures an efficient power consumption without any compromise on the phone&#8217;s performance.&#160;</p><p><br/></p><p>What is a smartphone if it doesn&#8217;t have a good camera system, right? Not one to disappoint, the Realme 3i comes with a 13 MP high-definition front camera. This selfie camera is further aided by a 5 P high-concentration lens which results in the phone&#8217;s selfie camera clearly identifying multiple face points, details which are as minute as your eyelashes.</p><p><br/></p><p>The Realme 3i&#8217;s 13 MP + 2 MP dual-rear camera system is equipped with an f/1.8-large aperture and the super nightscape feature which deliver night-scenery pictures that clearly capture the beauty of the scenic view around you. Added features, such as Scene Recognition, Chroma Boost, and AI Engine work to recognize different scenes so every picture you click using the Realme 3i boasts accurate colours.&#160;</p><p><br/></p><p>Discover &#8216;Beauty without boundaries&#8217; with the Realme 3i&#8217;s ColorOS 6. This operating system is based on the Android P. With this AI operating system in place, the Realme 3i smartphone boasts a boosted performance and reduced power consumption.</p><p><br/></p><h2>Buy Realme 3i Phone Online</h2><p><br/></p><p>Buy the Realme 3i phone online to enjoy the luxury of familiarising yourself with its features, checking out its price, and reading reviews left by other interested buyers/users, all with just a few mouse-button clicks/phone-swipes. On our online mobile store, you also stand the chance to avail enticing offers and discounts on the Realme 3i phone and even the Realme X phone!&#160;</p><p><br/></p><h2>Realme X - Made for the Pop-up Generation</h2><p><br/></p><p>Say hello to the&#160;<a href=\\\\\"/realme-x-space-blue-128-gb/p/itmfgybqzcgbxs26\\\\\">Realme X</a>&#160;smartphone whose set of features will make it your new favourite go-to for all your work and entertainment needs. From its pop-up camera to its AMOLED full-screen display, the Realme X smartphone&#8217;s specifications and features will enliven your smartphone experience. You can head to your favourite shopping app and buy the Realme X smartphone online. So, let&#8217;s have a look at some of its features that make it a phone totally worth its price, what say?</p><p><br/></p><h2>Click Selfies with the Realme X Smartphone&#8217;s Pop-up Camera</h2><p><br/></p><p>The next time you are clicking a selfie, do so in style, with this smartphone&#8217;s pop-up camera. It&#8217;s time to raise the bar of your selfies because of this phone&#8217;s 16 MP camera that lets you click immersive ultra HD selfies. This camera&#8217;s advanced pulse motor ensures that it pops up quickly when you opt for the front camera mode so that you can click your selfie without any delay.&#160;</p><p><br/></p><h2>In-display Fingerprint Scanner</h2><p><br/></p><p>Unlocking your phone will be simpler and fuss-free with this smartphone in your hands. It features an in-display fingerprint scanner that uses DSP acceleration engine and light compensation solutions for quick unlocking.&#160;</p><p><br/></p><h2>Dual-rear Camera (48 MP + 5 MP)</h2><p><br/></p><p>Whether it&#8217;s the beautiful landscapes of your hometown or just a daily object that you want to click, this smartphone&#8217;s 48 MP + 5 MP dual-rear camera system with the Sony IMX 586 sensor lets you click stunning images. With features, such as the Super Nightscape mode, you can continue to click beautiful pictures even in the night.&#160;</p><p><br/></p><h2>VOOC Flash Charge 3.0</h2><p><br/></p><p>When it comes to charging, this smartphone is a mile ahead, thanks to the VOOC Flash Charge 3.0 charging technology. So, the next time you are engrossed in playing your favourite game, you can count on this phone to get charged quickly and get you back on track.</p><p><br/></p><h2>Hyper Boost 2.0 Acceleration Engine</h2><p><br/></p><p>Now that we are talking about gaming, this smartphone has one more feature to enhance your gaming experience - the Hyper Boost 2.0 acceleration engine. With the presence of features, such as the Game Space and Game Assistant, you can be assured to have a fuss-free gaming session on your phone.&#160;</p><p>Meet the Awe-inspiring Redmi Note 7S<br/></p><p><br/></p><p>Are you someone who clicks a lot of pictures and selfies? Are you someone who plays a lot of games? Or, are you someone who watches videos and listens to songs all day? No matter what you might be into, the Redmi Note 7S goes above and beyond in meeting your expectations. Featuring a 48 MP + 5 MP AI dual camera, a 13 MP AI front camera, a powerful Qualcomm Snapdragon 660 AIE processor, a 16-cm (6.3) FHD+ Dot Notch display and a massive 4000 mAh battery, the Redmi Note 7S comes with specifications &amp; features that easily provide you with an enriched smartphone experience.</p><p><br/></p><h2>Let&#8217;s dig a little deeper and take a closer look at a few features of the Redmi Note 7S:</h2><p><br/></p><p><span>Click Stunning Pictures</span></p><p><br/></p><p>For those who are bitten by the photography bug, the&#160;<a href=\\\\\"/redmi-note-7s-sapphire-blue-64-gb/p/itmfgjfjujkgyrax\\\\\">Redmi Note 7S</a>&#160;comes as a boon with its 48 MP + 5 MP AI dual camera. Packing four times the pixels than a typical 12 MP sensor, the Redmi Note 7S captures more details, and delivers crisp and clear pictures. It also features a 13 MP AI front camera which lets you click amazing selfies for your Instagram page.</p><p><br/></p><p><span>Night Mode</span></p><p><br/></p><p>Whether you&#8217;re clicking a picture in a dimly-lit theatre or at a party, the Night Mode takes in more details even in low-lighting conditions. Also, it captures multiple images to deliver a brilliant low-light photo.</p><p><br/></p><p><span>Redmi Note 7S&#8217;s Next-level Performance</span></p><p><br/></p><p>This smartphone features a Qualcomm Snapdragon 660 AIE 2.2 GHz 14nm octa-core Kryo processor and 4 GB of RAM. Also, with its expandable storage capacity of up to 256 GB, storing and accessing your pictures, music, videos, and other files are easy. It also comes with a massive 4000 mAh battery, so you don&#8217;t need to worry about your phone running out of juice that easily.</p><p><br/></p><p><span>Built to Last</span></p><p><br/></p><p>Featuring a Corning Gorilla Glass 5 on the front and the back, a 2.5D glass back, and four reinforced corners, the Redmi Note 7S is highly durable.</p><p><br/></p><p><span>Splash-proof</span></p><p><br/></p><p>If you&#8217;re worried about getting a few splashes on your phone, don&#8217;t. The Redmi Note 7S is protected against liquid damage, thanks to P2i\\'s pulsed plasma deposition process.</p><p><br/></p><p><span>Buy the Redmi Note 7S Online</span></p><p><br/></p><p>With such enticing features, there is hardly any reason to wait. So, go ahead. Check out the price, the awesome specifications &amp; features, and buy Redmi Note 7S online to enjoy a smartphone experience like never before!</p><h2>Redmi K20 and Redmi K20 Pro - Get Ready to Be Wowed</h2><p><br/></p><p>Redmi has been on a roll since its launch a few years ago and has become one of the most successful models to be introduced by Xiaomi. The latest offering from the Redmi stable - the Redmi K20 and the Redmi K20 Pro are being touted as powerhouses of entertainment and performance.</p><p><br/></p><p><span>AI Camera</span></p><p>With the&#160;<a href=\\\\\"/redmi-k20-carbon-black-128-gb/p/itmfggktjkrahjwm\\\\\">Redmi K20</a>&#160;and&#160;<a href=\\\\\"/redmi-k20-pro-flame-red-128-gb/p/itmfg7uysw6gs55a\\\\\">Redmi K20 Pro</a>, capturing images will never be the same. The primary 48 MP Sony ultra-high-resolution sensor, a 13 MP 124.8 degree FOV ultra-wide-angle camera and the 8 MP telephoto camera work in sync to help you capture your precious moments in unmatched detail. Aided by AI, the triple camera setup lets you view the world around you from a different perspective. The phone also comes with a 20 MP pop-up selfie camera so that you look your best in all your social media posts. You can also record 4K videos at 60 fps as well as 960 fps slo-mo videos.</p><p><br/></p><p><span>Flagship Performance</span></p><p>The Redmi K20 and Redmi K20 Pro come with blazing-fast processors so that there&#8217;s no lag while multitasking on the phone. The Redmi K20 Pro comes equipped with the Qualcomm Snapdragon 855, while Redmi K20 comes with Qualcomm Snapdragon 730. Both these processors are not only known for their performance but also for managing the phone&#8217;s vitals in the best possible manner.</p><p><br/></p><p><span>For the Gamer in You</span></p><p>With flagship-level specs, the Redmi K20 series brings the ultimate gaming experience to the table. The phones also come with the 2nd generation Game Turbo mode that not only reduces network delay but also optimizes the touch latency for you to have the best gaming action possible.</p><p><br/></p><p><span>Display</span></p><p>The Redmi K20 series comes with the company&#8217;s innovative Horizon AMOLED Display. The 16.23 cm (6.39) AMOLED display is a visual treat to the eyes. The impressive 91.9% screen-to-body ratio is sure to make all your media content visually impressive. With the Corning Gorilla Glass 5 and the 3D curved glass on the back, the phone is incredible to hold.</p><p><br/></p><p><span>Battery</span></p><p>The Redmi K20 series comes with a 4000 mAh battery that lets you work and play uninterrupted for hours together. Both phones come with a fast-charging feature. The Redmi K20 supports 18 W fast-charging while the Redmi K20 Pro supports 27 W fast-charging.</p><p><br/></p><p>The Redmi K20 series phones come with the Qualcomm WCD9340 audio chip which provides 192 kHz/24 bit audio playback. It also comes with a 3.5 mm audio jack, so that you can plug in your favourite headset to listen to your favourite band. With a dual-band GPS feature that helps improve navigation accuracy, and an advanced 7th generation in-display fingerprint sensor, you know that the Redmi K20 and Redmi K20 Pro have arrived to give you the mobile experience that you had always craved for.</p><p><br/></p><p><br/></p><div><br/></div><p><span>Trending in Mobile Phones</span>&#160;:&#160;<a href=\\\\\"/mobiles/~infinix-zero-5-series/pr?sid=tyy,4io\\\\\">Infinix Zero 5 Series</a>&#160;,&#160;&#160;<a href=\\\\\"/mobiles/~vivo-v7/pr?sid=tyy,4io\\\\\">Vivo V7</a>,&#160;<a href=\\\\\"/mobiles/~nokia-5/pr?sid=tyy,4io\\\\\">Nokia 5</a>&#160;,&#160;<a href=\\\\\"/mobiles/~lava-zseries/pr?sid=tyy,4io\\\\\">Lava Z Series</a>,&#160;<a href=\\\\\"/mi-mix-2-black-128-gb/p/itmeyk8z8cwf6faz\\\\\">Mi Mix 2</a>,&#160;<a href=\\\\\"/honor-9i-prestige-gold-64-gb/p/itmexnp94kcvdnqw\\\\\">Honor 9i</a>,&#160;<a href=\\\\\"/mobiles/~iphone-8-and-8-plus/pr?sid=tyy,4io\\\\\">iphone 8&#160;Plus</a>&#160;,&#160;<a href=\\\\\"/mobiles/~vivo-v7-plus/pr?sid=tyy,4io\\\\\">VIVO V7 Plus</a>,&#160;<a href=\\\\\"/mobiles/~mia1/pr?sid=tyy%2C4io\\\\\">Mi A1</a>,&#160;<a href=\\\\\"/mobiles/~vivo-y69/pr?sid=tyy,4io\\\\\">VIVO Y69</a>,&#160;<a href=\\\\\"/mobiles/~redmi-4a/pr?sid=tyy%2C4io\\\\\">Redmi 4A</a>,&#160;<a href=\\\\\"/mobiles/~redmi-note-4/pr?sid=tyy,4io\\\\\">Redmi Note 4</a>,&#160;<a href=\\\\\"/mobiles/~panasonic-p77/pr?sid=tyy,4io\\\\\">Panasonic P77</a>,&#160;<a href=\\\\\"/apple-iphone-6-gold-32-gb/p/itmewxhuufbzchrn\\\\\">iphone 6 Gold 32 GB</a>,&#160;<a href=\\\\\"/mi-max-2-black-64-gb/p/itmevkftufr4d5e2\\\\\">Mi Max 2</a>&#160;,&#160;<a href=\\\\\"/mobiles/infinix~brand/pr?sid=tyy,4io\\\\\">Infinix Mobile</a>,&#160;<a href=\\\\\"/infinix-note-4-champagne-gold-32-gb/p/itmewf3utfdfh3nf\\\\\">Infinix Note 4</a>,&#160;<a href=\\\\\"/infinix-hot-4-pro-quartz-black-16-gb/p/itmeuyd9kzvzmyx6\\\\\">Infinix Hot 4 Pro</a>,&#160;<a href=\\\\\"/xolo-era-3-slate-black-8-gb/p/itmeycfmg2fmfggf\\\\\">Xolo Era 3&#160;</a>,&#160;<a href=\\\\\"/xolo-era-2v-jet-black-16-gb/p/itmeycfmvmzghzsu\\\\\">Xolo Era 2V&#160;</a>,&#160;<a href=\\\\\"/xolo-era-3x-posh-black-16-gb/p/itmeycfmgwgdhywy\\\\\">Xolo Era 3X</a><br/></p><p><span>Launches</span>:&#160;<a href=\\\\\"/mobiles/~oppo-f5/pr?sid=tyy,4io\\\\\">Oppo F5</a>&#160;,&#160;<a href=\\\\\"/mobiles/~iphone-x-64gb-and-256gb/pr?sid=tyy,4io\\\\\">iPhone X</a>,&#160;<a href=\\\\\"/lenovo-k8-plus-venom-black-32-gb/p/itmex9kpgkxmgpzc\\\\\">Lenovo K8 Plus</a>,&#160;<a href=\\\\\"/mobiles/~samsung-on-max/pr?sid=tyy,4io\\\\\">Samsung On Max</a>,&#160;<a href=\\\\\"/mobiles/~moto-e4-plus/pr?sid=tyy,4io\\\\\">Moto E4 Plus</a></p><p></p>\",\"description\":\"Buy Mobile by comparing prices of different mobile brands.Check specification and read user reviews to choose the best mobile phone at Flipkart.\",\"googleSiteVerification\":false,\"h1\":\"\",\"headerContent\":\"\",\"keywords\":\"Mobiles, Mobiles online,mobile price\",\"noIndexSeo\":true,\"ogTitle\":\"Mobile Price List | Compare Mobiles and Buy Online @ Flipkart\",\"redirectUrl\":{\"incorrectUrl\":false,\"overrideQueryParams\":null,\"path\":null},\"seoFooterTitle\":\"More about Mobiles \",\"title\":\"Mobile Price List | Compare Mobiles and Buy Online @ Flipkart\"}},\"sharedData\":{},\"trackingContext\":{\"navigationalPageName\":\"browse\",\"navigationalPageType\":\"browse\",\"pageName\":\"productListView\",\"pageType\":\"dynamic\",\"tracking\":{\"payloadID\":\"97fb7631-9ec4-4f3a-9aa6-acfa1c09c07e\",\"storePath\":\"tyy,4io\",\"maxProductsCount\":\"11018\",\"loginStatus\":\"logout\"}}},\"pageMeta\":{\"baseImpressionId\":\"86407e7d-062e-4286-9a1b-30f6539b0fa2\",\"pageNotChanged\":false,\"prefetchPage\":{\"enablePrefetch\":false}}},\"modal\":{\"asyncStatus\":\"INIT\",\"data\":{\"ROOT\":[]},\"pageNumber\":0,\"timeStamp\":1579161422861,\"derivedMetaData\":{}},\"tabs\":{\"asyncStatus\":\"INIT\",\"data\":{\"ROOT\":[]},\"pageNumber\":0,\"timeStamp\":1579161422861,\"derivedMetaData\":{}},\"browseMetadata\":{\"adProducts\":[{\"bannerId\":\"149668798\",\"impressionId\":\"en_D29BGRD9O6bWEOF9mExIhzsZtSz3ijdz12pZy/Yo1/tCjVqPg8kOzgZy5FcK4BBm/wyXBPMCDcyIKhYqPR40AQ==\",\"responseId\":\"86407e7d-062e-4286-9a1b-30f6539b0fa2\"},{\"bannerId\":\"149668797\",\"impressionId\":\"en_D29BGRD9O6bWEOF9mExIhzsZtSz3ijdz12pZy/Yo1/uy8R6ZfuzPGvtIvqaYD6iTpqjoiBQlzCKf1qkyZf2F/g==\",\"responseId\":\"86407e7d-062e-4286-9a1b-30f6539b0fa2\"},{\"bannerId\":\"149668842\",\"impressionId\":\"en_D29BGRD9O6bWEOF9mExIhzsZtSz3ijdz12pZy/Yo1/s/PE6io5CJuVaDBEF75VpyGgzvwa+yTrUAwjZoXR766g==\",\"responseId\":\"86407e7d-062e-4286-9a1b-30f6539b0fa2\"}],\"seoPagination\":{\"nextUrl\":\"/mobiles/pr?sid=tyy%2C4io&marketplace=FLIPKART&page=2\"},\"productList\":[\"MOBFNG3GNW3BU2XE\",\"MOBFNG3GZXCV63BE\",\"MOBFKPYDENDXZZ7U\",\"MOBFKPYDZJQHGJXA\",\"MOBFKF98BHTYSAHZ\",\"MOBFKF98FTTEN832\",\"MOBFKF98FFAAY8EB\",\"MOBFM2WZW8VZEXK3\",\"MOBFM2WZGMU7DPZQ\",\"MOBFM2WZ9AZUPTTZ\",\"MOBFKPYDCVSCZBYR\",\"MOBFHHT5DEGWB9JE\",\"MOBFHHT56NTTZKZ5\",\"MOBFNFGYPF5PRDQK\",\"MOBFHHT5ZETVHC4H\",\"MOBFHHT5NZH8XCGB\",\"MOBFHHT529KQHT8Z\",\"MOBFKF98ZVHXHUEP\",\"MOBFM2WZG7AGFGJE\",\"MOBFNFHDSY8B5CKV\",\"MOBFKPYDTSZ8SFHH\",\"MOBFHBZ4MDMCNHNK\",\"MOBFHBZ4ZQB3CTZW\",\"MOBFMYZZJJ4FPE3U\"],\"storeMetaInfo\":[{\"id\":\"tyy\",\"title\":\"Mobiles & Accessories\",\"totalProduct\":0,\"uri\":\"/mobiles-accessories/pr?sid=tyy\"},{\"id\":\"tyy/4io\",\"title\":\"Mobiles\",\"totalProduct\":0,\"uri\":\"/mobiles/pr?sid=tyy,4io\",\"child\":[]}],\"q\":\"\",\"totalProducts\":11018,\"currentCount\":24,\"isAugmented\":false,\"breadcrumbsData\":[{\"title\":\"Home\",\"url\":\"/\"},{\"title\":\"Mobiles & Accessories\",\"url\":\"/mobiles-accessories/pr?sid=tyy&marketplace=FLIPKART\"},{\"title\":\"Mobiles\",\"url\":\"/mobiles/pr?sid=tyy,4io&marketplace=FLIPKART\"}],\"viewType\":\"LIST_LARGE\",\"productAnalyticsData\":{\"category\":\"Mobile\",\"subCategory\":\"Handset\",\"superCategory\":\"Mobile\",\"vertical\":\"Handset\"},\"seoSchema\":{\"@context\":\"http://schema.org\",\"@type\":\"ItemList\",\"itemListElement\":[{\"@type\":\"ListItem\",\"position\":1,\"url\":\"https://www.flipkart.com/realme-5i-forest-green-64-gb/p/itmdac0da867a9fa?pid=MOBFNG3GNW3BU2XE&lid=LSTMOBFNG3GNW3BU2XERAL9TG&marketplace=FLIPKART\",\"name\":\"Realme 5i (Forest Green, 64 GB)\"},{\"@type\":\"ListItem\",\"position\":2,\"url\":\"https://www.flipkart.com/realme-5i-aqua-blue-64-gb/p/itmdac0da867a9fa?pid=MOBFNG3GZXCV63BE&lid=LSTMOBFNG3GZXCV63BEMPJERT&marketplace=FLIPKART\",\"name\":\"Realme 5i (Aqua Blue, 64 GB)\"},{\"@type\":\"ListItem\",\"position\":3,\"url\":\"https://www.flipkart.com/redmi-8-sapphire-blue-64-gb/p/itme9614ba9b9bda?pid=MOBFKPYDENDXZZ7U&lid=LSTMOBFKPYDENDXZZ7U5KFCKA&marketplace=FLIPKART\",\"name\":\"Redmi 8 (Sapphire Blue, 64 GB)\"},{\"@type\":\"ListItem\",\"position\":4,\"url\":\"https://www.flipkart.com/redmi-8-onyx-black-64-gb/p/itmaf669d074ff27?pid=MOBFKPYDZJQHGJXA&lid=LSTMOBFKPYDZJQHGJXA5X8Q5G&marketplace=FLIPKART\",\"name\":\"Redmi 8 (Onyx Black, 64 GB)\"},{\"@type\":\"ListItem\",\"position\":5,\"url\":\"https://www.flipkart.com/redmi-8a-ocean-blue-32-gb/p/itm1f8d1cbb1d232?pid=MOBFKF98BHTYSAHZ&lid=LSTMOBFKF98BHTYSAHZCWZX8V&marketplace=FLIPKART\",\"name\":\"Redmi 8A (Ocean Blue, 32 GB)\"},{\"@type\":\"ListItem\",\"position\":6,\"url\":\"https://www.flipkart.com/redmi-8a-sunset-red-32-gb/p/itm5474ed67d23bf?pid=MOBFKF98FTTEN832&lid=LSTMOBFKF98FTTEN832NKEHTF&marketplace=FLIPKART\",\"name\":\"Redmi 8A (Sunset Red, 32 GB)\"},{\"@type\":\"ListItem\",\"position\":7,\"url\":\"https://www.flipkart.com/redmi-8a-midnight-black-32-gb/p/itme2e12a5859993?pid=MOBFKF98FFAAY8EB&lid=LSTMOBFKF98FFAAY8EBS8FFCJ&marketplace=FLIPKART\",\"name\":\"Redmi 8A (Midnight Black, 32 GB)\"},{\"@type\":\"ListItem\",\"position\":8,\"url\":\"https://www.flipkart.com/realme-5s-crystal-blue-128-gb/p/itm592977b0ba210?pid=MOBFM2WZW8VZEXK3&lid=LSTMOBFM2WZW8VZEXK34R7HCI&marketplace=FLIPKART\",\"name\":\"Realme 5s (Crystal Blue, 128 GB)\"},{\"@type\":\"ListItem\",\"position\":9,\"url\":\"https://www.flipkart.com/realme-5s-crystal-purple-64-gb/p/itm592977b0ba210?pid=MOBFM2WZGMU7DPZQ&lid=LSTMOBFM2WZGMU7DPZQGXSMJB&marketplace=FLIPKART\",\"name\":\"Realme 5s (Crystal Purple, 64 GB)\"},{\"@type\":\"ListItem\",\"position\":10,\"url\":\"https://www.flipkart.com/realme-5s-crystal-blue-64-gb/p/itm592977b0ba210?pid=MOBFM2WZ9AZUPTTZ&lid=LSTMOBFM2WZ9AZUPTTZXXEDBC&marketplace=FLIPKART\",\"name\":\"Realme 5s (Crystal Blue, 64 GB)\"}]},\"sqid\":\"0w26ftlwjk0000001580111835186\",\"ssid\":\"mq8eg6kd280000001580111835186\"},\"productPageMetadata\":{},\"lookDetailsPageMetadata\":{},\"analtyticsData\":{\"omnitureData\":{},\"omnitureEvents\":[]}},\"payments\":{\"paymentOptions\":{\"asyncStatus\":\"INIT\"},\"paymentAsyncStatus\":\"INIT\",\"selectedPaymentOption\":{\"mainOption\":\"\",\"emiCard\":\"\"},\"instrumentCheck\":{},\"payWithDetails\":{\"asyncStatus\":\"INIT\"},\"payByInstrumentType\":{\"asyncStatus\":\"INIT\"},\"emiTerms\":{\"asyncStatus\":\"INIT\"},\"emiState\":{\"selectedBank\":\"\",\"selectedBankEmiType\":\"\",\"selectedTenure\":\"\",\"selectedSection\":\"\",\"selectedSectionKey\":\"\"},\"captcha\":{\"asyncStatus\":\"INIT\"},\"emiCards\":{\"asyncStatus\":\"INIT\"},\"emiBanks\":{},\"emiTenures\":{},\"emiItemLevelBreakup\":{\"asyncStatus\":\"INIT\",\"breakup\":[],\"error\":null},\"netOptions\":{\"asyncStatus\":\"INIT\"},\"payViaWallet\":{\"asyncStatus\":\"INIT\"},\"adjustments\":{},\"otpModes\":{\"asyncStatus\":\"INIT\"},\"otpSubmitState\":{\"asyncStatus\":\"INIT\"},\"advancePaymentBreakup\":{\"asyncStatus\":\"INIT\"},\"selectInstrument\":{\"asyncStatus\":\"INIT\"},\"errorOverlay\":{},\"emiOnSavedCards\":{}},\"paymentToken\":{\"asyncStatus\":\"INIT\",\"tokenVersion\":\"v3\",\"dcId\":\"1\",\"hasDegraded\":false,\"error\":null},\"pincodeData\":{\"localPincodes\":[],\"suggestions\":[],\"regionFilters\":{},\"invalid\":false,\"state\":null,\"error\":null,\"asyncStatus\":\"INIT\"},\"productBuyBack\":{\"asyncStatus\":\"INIT\"},\"productInfo\":{\"ttl\":{}},\"productPage\":{\"verifyImeiInfo\":{\"asyncStatus\":\"INIT\"},\"exchangeTooltip\":{\"asyncStatus\":\"INIT\",\"data\":{\"ROOT\":[]},\"pageNumber\":0,\"timeStamp\":1579161422861,\"derivedMetaData\":{}},\"exchangeTermsInfo\":{\"asyncStatus\":\"INIT\"},\"productSimilarReco\":{\"asyncStatus\":\"INIT\"},\"productCrossVerticalReco\":{\"asyncStatus\":\"INIT\"},\"productBrowsingHistoryReco\":{\"asyncStatus\":\"INIT\"},\"productDetails\":{\"asyncStatus\":\"INIT\"},\"productActions\":{\"share\":{\"asyncStatus\":\"INIT\"}},\"productReservation\":{\"asyncStatus\":\"INIT\"},\"productLayout\":{\"asyncStatus\":\"INIT\"},\"productImage\":{\"defaultMedia\":null},\"wiggleSwatches\":{},\"productABBData\":{\"asyncStatus\":\"INIT\"},\"recommendations\":{}},\"productSummary\":{},\"questionAndAnswer\":{\"pageData\":{\"asyncStatus\":\"INIT\"},\"inputValue\":{\"asyncStatus\":\"INIT\"},\"deleteAnswer\":{\"asyncStatus\":\"INIT\"},\"allAnswers\":{\"asyncStatus\":\"INIT\"},\"moreContent\":{\"asyncStatus\":\"INIT\"},\"searchQnAData\":{\"asyncStatus\":\"INIT\"}},\"ratingsAndReviews\":{\"imageReviews\":{},\"gallery\":{\"url\":\"\",\"asyncStatus\":\"INIT\",\"images\":[],\"imagePositionMap\":{},\"pageNumber\":1,\"hasMorePages\":true}},\"recentlyViewed\":{\"asyncStatus\":\"INIT\"},\"reviewPageData\":{\"asyncStatus\":\"INIT\"},\"reviewPageTitle\":{\"asyncStatus\":\"INIT\"},\"reviewsConfirmationPage\":{\"asyncStatus\":\"INIT\"},\"saalListingsData\":{\"listings\":[]},\"sale\":{\"asmData\":null,\"index\":0,\"asyncStatus\":\"INIT\",\"popup\":null,\"error\":null},\"selfServe\":{\"appContext\":{\"context\":{\"maxPageLength\":10},\"pageLoadEvents\":[]},\"deliverySlots\":{\"asyncStatus\":\"INIT\"},\"dogfoodingData\":{\"asyncStatus\":\"INIT\",\"topics\":{}},\"ifscFinderData\":{\"asyncStatus\":\"INIT\"},\"myOrders\":{\"asyncStatus\":\"INIT\"},\"myOrdersV2\":{\"asyncStatus\":\"INIT\"},\"orderAddress\":{\"asyncStatus\":\"INIT\"},\"orderCancellation\":{\"asyncStatus\":\"INIT\"},\"orderConfirmationPage\":{\"asyncStatus\":\"INIT\"},\"orderConfirmationPagePS2\":{\"asyncStatus\":\"INIT\"},\"orderConfirmationReco\":{\"asyncStatus\":\"INIT\"},\"postOrderDetails\":{\"asyncStatus\":\"INIT\"},\"postOrderDetailsV2\":{\"asyncStatus\":\"INIT\"},\"returnAddress\":{\"asyncStatus\":\"INIT\"},\"returns\":{\"asyncStatus\":\"INIT\",\"subStatus\":\"REASON\"},\"trackOrder\":{\"data\":{},\"asyncStatus\":\"INIT\"},\"bnplData\":{\"asyncStatus\":\"INIT\"},\"subscribeUnsubscribeData\":{\"asyncStatus\":\"INIT\"},\"returnVisualState\":{\"orderedSteps\":[],\"stepVisualStates\":{\"REASON\":\"COLLAPSED\",\"PICKUP_ADDRESS\":\"COLLAPSED\",\"IMAGE_UPLOAD\":\"COLLAPSED\",\"RETURN_ACTION\":\"COLLAPSED\"}},\"returnToken\":{\"reasonToken\":null,\"addressToken\":null,\"actionsToken\":null},\"neftData\":{\"asyncStatus\":\"INIT\"},\"neftIfscFinderData\":{\"asyncStatus\":\"INIT\"},\"cancelReturnData\":{\"asyncStatus\":\"INIT\"},\"payNow\":{\"asyncStatus\":\"INIT\"},\"ndrData\":{\"asyncStatus\":\"INIT\"},\"reschedule\":{},\"addressChange\":{\"asyncStatus\":\"INIT\"},\"fileManager\":{\"files\":[],\"filesSize\":0,\"dataURLs\":[]},\"imageInstructions\":{\"asyncStatus\":\"INIT\"},\"serviceListing\":{},\"payNowPreorder\":{\"asyncStatus\":\"INIT\"},\"prexoChecks\":{\"asyncStatus\":\"INIT\"},\"userInfo\":null,\"blobIO\":{\"asyncStatus\":\"INIT\"}},\"sellerDetails\":{\"asyncStatus\":\"INIT\",\"data\":[]},\"sellersPage\":{\"asyncStatus\":\"INIT\"},\"seoMeta\":{\"isFetching\":false,\"metadata\":{\"seo\":{\"alexaVerifyId\":false,\"content\":\"<p></p><h2>Mobile Phones Online @ Best Price</h2><div><br/></div><div><br/></div><div>Everyone is in a constant hunt for the <a href=\\\\\"/mobile-phones-store\\\\\">mobile</a> phone, or more correctly called the smartphone, that will fit all his/her requirements and would assure a guarantee of good performance. With a plethora of mobile phone brands foraying on a regular basis into the market, it&#8217;s a tough a call for the consumer to pick the right one. It&#8217;s always a wiser idea to buy mobile phones online, as the internet is the best place you can invest your time into, in order to conduct your share of investigation about the right smartphone by analysing mobile phone online reviews.&#160;</div><div><br/></div><div><br/></div><h2>Best mobile brands to look out for</h2><p><br/></p><div>There have been some brands in the market which have stayed for the longest time and have earned the trust of consumers. These brands offer you a minimum guarantee regarding the performance and longevity of the smartphone. But again, it depends on your requirements about which brand you must choose. For instance, the Xiaomi phones are quite a sought-after brand these days. They are high on demand for their battery life and performance. Xiaomi phones are perfect budget Android mobile and they are pretty reasonably priced for their features. On the other hand, if you are looking for a high-end technology mobile with ultimate security, sophisticated software and great design, the iPhone by Apple would be the first and last choice. Although these are priced higher than mobile phones from other brands, the iOS software based on which iPhone operates is unbeatable.If you are a fan of great design and style along with feature-richness in your smartphone, <a href=\\\\\"/mobiles/samsung~brand/pr?sid=tyy,4io\\\\\">Samsung mobiles</a> are the ones to own.Samsung keeps refreshing their phone design and style, and you are sure to find a phone that fits your style.Lenovo and Motorola are two other brands that have become quite popular. Consumers can get budget phones from these brands as well as expensive phones.</div><div>Lenovo mobiles have caught the eye of consumers with their great display, battery power and other features. Motorola has always been a safe choice and provides the guarantee that a good, feature rich smartphone should give.</div><div><br/></div><h2>How to buy a good mobile phone online?</h2><div><br/></div><div>When one plans to buy a mobile phone online, It&#8217;s advised that she/he considers factors like the network type, screen size, battery capacity, internal memory storage, sim type, the resolution of the front and back camera lens, what operating system and the specific version of operating system is used, how many cores are present in the processor, resolution of the screen and the like. These factors are very important to be considered as filtering out these will tell you exactly which smartphone to buy. If you are a light user you can easily go for a dual core mobile phone. If you are a gamer or someone who used his smartphone for a lot of high-speed activities, you must go for a hexa-core or octa-core phone. Similarly, all other factors have to be considered, or else, you might end up buying a phone that does not fit your requirements, or in another case one that is too sophisticated for your requirements.</div><div><br/></div><h2>Other popular smartphone brands</h2><div><br/></div><div>Some other top brands in mobiles that will suit your requirements and style would be from Vivo mobiles,Panasonic mobiles, Asus mobiles,LG mobiles and the like. Lately popular phone Lyf has been purchased by lakhs of consumers for its highlight data providing feature along with other features..HTC is another sought-after brand which provides expensive as well as budget phones with awesome features. They provide some great phones like HTC Desire 620G, HTC Desire 626 and more. Windows based Nokia and Micromax are brands that give you most of the necessary features at a pretty low price.</div><div><br/></div><div><a href=\\\\\"/mobiles/oppo~brand/pr?sid=tyy,4io\\\\\">Oppo mobiles</a> are widely purchased for their top notch hardware specifications, awesome display and amazing camera.<a href=\\\\\"/oppo-f1-plus-gold-64-gb/p/itmehzhgq9rsyyzb\\\\\">Oppo f1 plus</a>, Oppo A57,<a href=\\\\\"/oppo-f1s-gold-32-gb/p/itmehcwevtzgv5ft\\\\\">Oppo f1S</a>, <a href=\\\\\"/oppo-k1-astral-blue-64-gb/p/itmfdy9keddxqvbt\\\\\">Oppo K1</a> are some of them that you don&#8217;t want to miss. Sony has always stood out against the competition. Their front and rear glass panels set a trend with their IP68 waterproof feature being a highlight.</div><div><br/></div><h2>What&#8217;s trending in mobile phones?</h2><div><br/></div><div>Stay plugged into what&#8217;s happening latest in the smartphone world by getting regularly updated online. All best brands try experimenting with their products with varying features and specifications. One phone you need to look out for is the Redmi Note 4 which gives you a great hand feel with its curvy design, 4GB RAM and awesome camera specs. The latest dual sim phone Lenovo K6 Power has a 3GB RAM and 32GB internal storage is a budget phone with striking features.</div><div><br/></div><div>Samsung Galaxy On Nxt is one of the sought-after mobile phones which has 1.6 GHz octa-core processor with 3GB RAM.With a high-resolution camera, this is definitely one to look out for. With advanced digital sound technology, Full HD display and large battery one that is selling like hot cakes is the Lenovo Vibe K5 Note. Yet another budget phone with great features has been launched by Mi, called the Redmi 3S.Much lighter and thinner than its predecessor Redmi 2, this piece of technology has a large battery, great design and great processor. Other phones that have to be unboxed and discovered for yourself are the iPhone7, Google Pixel, Samsung Galaxy On 8, Galaxy J5-6,Moto M and the like.</div><p><br/></p><h2>Realme 3i - The Construct of Smartphones Re imagined</h2><p><br/></p><p>The Realme 3i smartphone is designed for everyone, regardless of whether you&#8217;re someone who is all about a phone that looks good, someone who prioritizes the camera quality of a phone over everything else, or if you&#8217;re a gamer who wants a handheld device that facilitates smooth gaming.&#160;</p><p><br/></p><h2>Let&#8217;s Explore Some of the Specifications and Features That Make the Realme 3i a Catch:</h2><p><br/></p><p>Powered by an octa-core CPU and a high-performance GPU, the&#160;<a href=\\\\\"/realme-3i-diamond-blue-32-gb/p/itmfgybqvazmnmmd\\\\\">Realme 3i</a>&#160;boasts a boost in efficiency even when you&#8217;re playing data-heavy games on your phone. Throughout this time, its 12 nm process technology ensures an efficient power consumption without any compromise on the phone&#8217;s performance.&#160;</p><p><br/></p><p>What is a smartphone if it doesn&#8217;t have a good camera system, right? Not one to disappoint, the Realme 3i comes with a 13 MP high-definition front camera. This selfie camera is further aided by a 5 P high-concentration lens which results in the phone&#8217;s selfie camera clearly identifying multiple face points, details which are as minute as your eyelashes.</p><p><br/></p><p>The Realme 3i&#8217;s 13 MP + 2 MP dual-rear camera system is equipped with an f/1.8-large aperture and the super nightscape feature which deliver night-scenery pictures that clearly capture the beauty of the scenic view around you. Added features, such as Scene Recognition, Chroma Boost, and AI Engine work to recognize different scenes so every picture you click using the Realme 3i boasts accurate colours.&#160;</p><p><br/></p><p>Discover &#8216;Beauty without boundaries&#8217; with the Realme 3i&#8217;s ColorOS 6. This operating system is based on the Android P. With this AI operating system in place, the Realme 3i smartphone boasts a boosted performance and reduced power consumption.</p><p><br/></p><h2>Buy Realme 3i Phone Online</h2><p><br/></p><p>Buy the Realme 3i phone online to enjoy the luxury of familiarising yourself with its features, checking out its price, and reading reviews left by other interested buyers/users, all with just a few mouse-button clicks/phone-swipes. On our online mobile store, you also stand the chance to avail enticing offers and discounts on the Realme 3i phone and even the Realme X phone!&#160;</p><p><br/></p><h2>Realme X - Made for the Pop-up Generation</h2><p><br/></p><p>Say hello to the&#160;<a href=\\\\\"/realme-x-space-blue-128-gb/p/itmfgybqzcgbxs26\\\\\">Realme X</a>&#160;smartphone whose set of features will make it your new favourite go-to for all your work and entertainment needs. From its pop-up camera to its AMOLED full-screen display, the Realme X smartphone&#8217;s specifications and features will enliven your smartphone experience. You can head to your favourite shopping app and buy the Realme X smartphone online. So, let&#8217;s have a look at some of its features that make it a phone totally worth its price, what say?</p><p><br/></p><h2>Click Selfies with the Realme X Smartphone&#8217;s Pop-up Camera</h2><p><br/></p><p>The next time you are clicking a selfie, do so in style, with this smartphone&#8217;s pop-up camera. It&#8217;s time to raise the bar of your selfies because of this phone&#8217;s 16 MP camera that lets you click immersive ultra HD selfies. This camera&#8217;s advanced pulse motor ensures that it pops up quickly when you opt for the front camera mode so that you can click your selfie without any delay.&#160;</p><p><br/></p><h2>In-display Fingerprint Scanner</h2><p><br/></p><p>Unlocking your phone will be simpler and fuss-free with this smartphone in your hands. It features an in-display fingerprint scanner that uses DSP acceleration engine and light compensation solutions for quick unlocking.&#160;</p><p><br/></p><h2>Dual-rear Camera (48 MP + 5 MP)</h2><p><br/></p><p>Whether it&#8217;s the beautiful landscapes of your hometown or just a daily object that you want to click, this smartphone&#8217;s 48 MP + 5 MP dual-rear camera system with the Sony IMX 586 sensor lets you click stunning images. With features, such as the Super Nightscape mode, you can continue to click beautiful pictures even in the night.&#160;</p><p><br/></p><h2>VOOC Flash Charge 3.0</h2><p><br/></p><p>When it comes to charging, this smartphone is a mile ahead, thanks to the VOOC Flash Charge 3.0 charging technology. So, the next time you are engrossed in playing your favourite game, you can count on this phone to get charged quickly and get you back on track.</p><p><br/></p><h2>Hyper Boost 2.0 Acceleration Engine</h2><p><br/></p><p>Now that we are talking about gaming, this smartphone has one more feature to enhance your gaming experience - the Hyper Boost 2.0 acceleration engine. With the presence of features, such as the Game Space and Game Assistant, you can be assured to have a fuss-free gaming session on your phone.&#160;</p><p>Meet the Awe-inspiring Redmi Note 7S<br/></p><p><br/></p><p>Are you someone who clicks a lot of pictures and selfies? Are you someone who plays a lot of games? Or, are you someone who watches videos and listens to songs all day? No matter what you might be into, the Redmi Note 7S goes above and beyond in meeting your expectations. Featuring a 48 MP + 5 MP AI dual camera, a 13 MP AI front camera, a powerful Qualcomm Snapdragon 660 AIE processor, a 16-cm (6.3) FHD+ Dot Notch display and a massive 4000 mAh battery, the Redmi Note 7S comes with specifications &amp; features that easily provide you with an enriched smartphone experience.</p><p><br/></p><h2>Let&#8217;s dig a little deeper and take a closer look at a few features of the Redmi Note 7S:</h2><p><br/></p><p><span>Click Stunning Pictures</span></p><p><br/></p><p>For those who are bitten by the photography bug, the&#160;<a href=\\\\\"/redmi-note-7s-sapphire-blue-64-gb/p/itmfgjfjujkgyrax\\\\\">Redmi Note 7S</a>&#160;comes as a boon with its 48 MP + 5 MP AI dual camera. Packing four times the pixels than a typical 12 MP sensor, the Redmi Note 7S captures more details, and delivers crisp and clear pictures. It also features a 13 MP AI front camera which lets you click amazing selfies for your Instagram page.</p><p><br/></p><p><span>Night Mode</span></p><p><br/></p><p>Whether you&#8217;re clicking a picture in a dimly-lit theatre or at a party, the Night Mode takes in more details even in low-lighting conditions. Also, it captures multiple images to deliver a brilliant low-light photo.</p><p><br/></p><p><span>Redmi Note 7S&#8217;s Next-level Performance</span></p><p><br/></p><p>This smartphone features a Qualcomm Snapdragon 660 AIE 2.2 GHz 14nm octa-core Kryo processor and 4 GB of RAM. Also, with its expandable storage capacity of up to 256 GB, storing and accessing your pictures, music, videos, and other files are easy. It also comes with a massive 4000 mAh battery, so you don&#8217;t need to worry about your phone running out of juice that easily.</p><p><br/></p><p><span>Built to Last</span></p><p><br/></p><p>Featuring a Corning Gorilla Glass 5 on the front and the back, a 2.5D glass back, and four reinforced corners, the Redmi Note 7S is highly durable.</p><p><br/></p><p><span>Splash-proof</span></p><p><br/></p><p>If you&#8217;re worried about getting a few splashes on your phone, don&#8217;t. The Redmi Note 7S is protected against liquid damage, thanks to P2i\\'s pulsed plasma deposition process.</p><p><br/></p><p><span>Buy the Redmi Note 7S Online</span></p><p><br/></p><p>With such enticing features, there is hardly any reason to wait. So, go ahead. Check out the price, the awesome specifications &amp; features, and buy Redmi Note 7S online to enjoy a smartphone experience like never before!</p><h2>Redmi K20 and Redmi K20 Pro - Get Ready to Be Wowed</h2><p><br/></p><p>Redmi has been on a roll since its launch a few years ago and has become one of the most successful models to be introduced by Xiaomi. The latest offering from the Redmi stable - the Redmi K20 and the Redmi K20 Pro are being touted as powerhouses of entertainment and performance.</p><p><br/></p><p><span>AI Camera</span></p><p>With the&#160;<a href=\\\\\"/redmi-k20-carbon-black-128-gb/p/itmfggktjkrahjwm\\\\\">Redmi K20</a>&#160;and&#160;<a href=\\\\\"/redmi-k20-pro-flame-red-128-gb/p/itmfg7uysw6gs55a\\\\\">Redmi K20 Pro</a>, capturing images will never be the same. The primary 48 MP Sony ultra-high-resolution sensor, a 13 MP 124.8 degree FOV ultra-wide-angle camera and the 8 MP telephoto camera work in sync to help you capture your precious moments in unmatched detail. Aided by AI, the triple camera setup lets you view the world around you from a different perspective. The phone also comes with a 20 MP pop-up selfie camera so that you look your best in all your social media posts. You can also record 4K videos at 60 fps as well as 960 fps slo-mo videos.</p><p><br/></p><p><span>Flagship Performance</span></p><p>The Redmi K20 and Redmi K20 Pro come with blazing-fast processors so that there&#8217;s no lag while multitasking on the phone. The Redmi K20 Pro comes equipped with the Qualcomm Snapdragon 855, while Redmi K20 comes with Qualcomm Snapdragon 730. Both these processors are not only known for their performance but also for managing the phone&#8217;s vitals in the best possible manner.</p><p><br/></p><p><span>For the Gamer in You</span></p><p>With flagship-level specs, the Redmi K20 series brings the ultimate gaming experience to the table. The phones also come with the 2nd generation Game Turbo mode that not only reduces network delay but also optimizes the touch latency for you to have the best gaming action possible.</p><p><br/></p><p><span>Display</span></p><p>The Redmi K20 series comes with the company&#8217;s innovative Horizon AMOLED Display. The 16.23 cm (6.39) AMOLED display is a visual treat to the eyes. The impressive 91.9% screen-to-body ratio is sure to make all your media content visually impressive. With the Corning Gorilla Glass 5 and the 3D curved glass on the back, the phone is incredible to hold.</p><p><br/></p><p><span>Battery</span></p><p>The Redmi K20 series comes with a 4000 mAh battery that lets you work and play uninterrupted for hours together. Both phones come with a fast-charging feature. The Redmi K20 supports 18 W fast-charging while the Redmi K20 Pro supports 27 W fast-charging.</p><p><br/></p><p>The Redmi K20 series phones come with the Qualcomm WCD9340 audio chip which provides 192 kHz/24 bit audio playback. It also comes with a 3.5 mm audio jack, so that you can plug in your favourite headset to listen to your favourite band. With a dual-band GPS feature that helps improve navigation accuracy, and an advanced 7th generation in-display fingerprint sensor, you know that the Redmi K20 and Redmi K20 Pro have arrived to give you the mobile experience that you had always craved for.</p><p><br/></p><p><br/></p><div><br/></div><p><span>Trending in Mobile Phones</span>&#160;:&#160;<a href=\\\\\"/mobiles/~infinix-zero-5-series/pr?sid=tyy,4io\\\\\">Infinix Zero 5 Series</a>&#160;,&#160;&#160;<a href=\\\\\"/mobiles/~vivo-v7/pr?sid=tyy,4io\\\\\">Vivo V7</a>,&#160;<a href=\\\\\"/mobiles/~nokia-5/pr?sid=tyy,4io\\\\\">Nokia 5</a>&#160;,&#160;<a href=\\\\\"/mobiles/~lava-zseries/pr?sid=tyy,4io\\\\\">Lava Z Series</a>,&#160;<a href=\\\\\"/mi-mix-2-black-128-gb/p/itmeyk8z8cwf6faz\\\\\">Mi Mix 2</a>,&#160;<a href=\\\\\"/honor-9i-prestige-gold-64-gb/p/itmexnp94kcvdnqw\\\\\">Honor 9i</a>,&#160;<a href=\\\\\"/mobiles/~iphone-8-and-8-plus/pr?sid=tyy,4io\\\\\">iphone 8&#160;Plus</a>&#160;,&#160;<a href=\\\\\"/mobiles/~vivo-v7-plus/pr?sid=tyy,4io\\\\\">VIVO V7 Plus</a>,&#160;<a href=\\\\\"/mobiles/~mia1/pr?sid=tyy%2C4io\\\\\">Mi A1</a>,&#160;<a href=\\\\\"/mobiles/~vivo-y69/pr?sid=tyy,4io\\\\\">VIVO Y69</a>,&#160;<a href=\\\\\"/mobiles/~redmi-4a/pr?sid=tyy%2C4io\\\\\">Redmi 4A</a>,&#160;<a href=\\\\\"/mobiles/~redmi-note-4/pr?sid=tyy,4io\\\\\">Redmi Note 4</a>,&#160;<a href=\\\\\"/mobiles/~panasonic-p77/pr?sid=tyy,4io\\\\\">Panasonic P77</a>,&#160;<a href=\\\\\"/apple-iphone-6-gold-32-gb/p/itmewxhuufbzchrn\\\\\">iphone 6 Gold 32 GB</a>,&#160;<a href=\\\\\"/mi-max-2-black-64-gb/p/itmevkftufr4d5e2\\\\\">Mi Max 2</a>&#160;,&#160;<a href=\\\\\"/mobiles/infinix~brand/pr?sid=tyy,4io\\\\\">Infinix Mobile</a>,&#160;<a href=\\\\\"/infinix-note-4-champagne-gold-32-gb/p/itmewf3utfdfh3nf\\\\\">Infinix Note 4</a>,&#160;<a href=\\\\\"/infinix-hot-4-pro-quartz-black-16-gb/p/itmeuyd9kzvzmyx6\\\\\">Infinix Hot 4 Pro</a>,&#160;<a href=\\\\\"/xolo-era-3-slate-black-8-gb/p/itmeycfmg2fmfggf\\\\\">Xolo Era 3&#160;</a>,&#160;<a href=\\\\\"/xolo-era-2v-jet-black-16-gb/p/itmeycfmvmzghzsu\\\\\">Xolo Era 2V&#160;</a>,&#160;<a href=\\\\\"/xolo-era-3x-posh-black-16-gb/p/itmeycfmgwgdhywy\\\\\">Xolo Era 3X</a><br/></p><p><span>Launches</span>:&#160;<a href=\\\\\"/mobiles/~oppo-f5/pr?sid=tyy,4io\\\\\">Oppo F5</a>&#160;,&#160;<a href=\\\\\"/mobiles/~iphone-x-64gb-and-256gb/pr?sid=tyy,4io\\\\\">iPhone X</a>,&#160;<a href=\\\\\"/lenovo-k8-plus-venom-black-32-gb/p/itmex9kpgkxmgpzc\\\\\">Lenovo K8 Plus</a>,&#160;<a href=\\\\\"/mobiles/~samsung-on-max/pr?sid=tyy,4io\\\\\">Samsung On Max</a>,&#160;<a href=\\\\\"/mobiles/~moto-e4-plus/pr?sid=tyy,4io\\\\\">Moto E4 Plus</a></p><p></p>\",\"description\":\"Buy Mobile by comparing prices of different mobile brands.Check specification and read user reviews to choose the best mobile phone at Flipkart.\",\"googleSiteVerification\":false,\"h1\":\"\",\"headerContent\":\"\",\"keywords\":\"Mobiles, Mobiles online,mobile price\",\"noIndexSeo\":true,\"ogTitle\":\"Mobile Price List | Compare Mobiles and Buy Online @ Flipkart\",\"redirectUrl\":{\"incorrectUrl\":false,\"overrideQueryParams\":null,\"path\":null},\"seoFooterTitle\":\"More about Mobiles \",\"title\":\"Mobile Price List | Compare Mobiles and Buy Online @ Flipkart\"}},\"asyncStatus\":\"SUCCESS\",\"answerBox\":{\"type\":\"ANSWER_BOX\",\"data\":{\"renderableComponents\":[{\"action\":null,\"metaData\":null,\"tracking\":null,\"trackingData\":null,\"value\":{\"type\":\"AnswerBoxValue\",\"data\":[{\"title\":\"Redmi 8A (Sunset Red, 32 GB)\",\"url\":\"/redmi-8a-sunset-red-32-gb/p/itm5474ed67d23bf?pid=MOBFKF98FTTEN832&lid=LSTMOBFKF98FTTEN832NKEHTF&marketplace=FLIPKART\",\"values\":[\"Rs. 6499\"]},{\"title\":\"Realme 5i (Forest Green, 64 GB)\",\"url\":\"/realme-5i-forest-green-64-gb/p/itmdac0da867a9fa?pid=MOBFNG3GNW3BU2XE&lid=LSTMOBFNG3GNW3BU2XERAL9TG&marketplace=FLIPKART\",\"values\":[\"Rs. 8999\"]},{\"title\":\"Vivo Z1Pro (Sonic Blue, 64 GB)\",\"url\":\"/vivo-z1pro-sonic-blue-64-gb/p/itmfghyebfrvjzfs?pid=MOBFHHT5ZETVHC4H&lid=LSTMOBFHHT5ZETVHC4H1MJSRL&marketplace=FLIPKART\",\"values\":[\"Rs. 13990\"]},{\"title\":\"Vivo Z1Pro (Sonic Black, 64 GB)\",\"url\":\"/vivo-z1pro-sonic-black-64-gb/p/itmfghyebfrvjzfs?pid=MOBFHHT5DEGWB9JE&lid=LSTMOBFHHT5DEGWB9JEJSQP1F&marketplace=FLIPKART\",\"values\":[\"Rs. 13990\"]},{\"title\":\"Vivo Z1Pro (Sonic Black, 64 GB)\",\"url\":\"/vivo-z1pro-sonic-black-64-gb/p/itmfghyebfrvjzfs?pid=MOBFHHT56NTTZKZ5&lid=LSTMOBFHHT56NTTZKZ5PWUNSS&marketplace=FLIPKART\",\"values\":[\"Rs. 12990\"]},{\"title\":\"Redmi 8 (Sapphire Blue, 64 GB)\",\"url\":\"/redmi-8-sapphire-blue-64-gb/p/itme9614ba9b9bda?pid=MOBFKPYDENDXZZ7U&lid=LSTMOBFKPYDENDXZZ7U5KFCKA&marketplace=FLIPKART\",\"values\":[\"Rs. 7999\"]},{\"title\":\"I Kall K1000 (Green, 64 GB)\",\"url\":\"/kall-k1000-green-64-gb/p/itm56e7fe626a312?pid=MOBFNFGYPF5PRDQK&lid=LSTMOBFNFGYPF5PRDQKTGKHD5&marketplace=FLIPKART\",\"values\":[\"Rs. 4999\"]},{\"title\":\"Realme C2 (Diamond Black, 32 GB)\",\"url\":\"/realme-c2-diamond-black-32-gb/p/itmfgwba8kmejqpe?pid=MOBFHBZ4MDMCNHNK&lid=LSTMOBFHBZ4MDMCNHNKOFORJ3&marketplace=FLIPKART\",\"values\":[\"Rs. 5999\"]},{\"title\":\"Realme 5s (Crystal Purple, 128 GB)\",\"url\":\"/realme-5s-crystal-purple-128-gb/p/itm592977b0ba210?pid=MOBFM2WZG7AGFGJE&lid=LSTMOBFM2WZG7AGFGJEXD8LE2&marketplace=FLIPKART\",\"values\":[\"Rs. 10999\"]},{\"title\":\"Realme C2 (Diamond Blue, 32 GB)\",\"url\":\"/realme-c2-diamond-blue-32-gb/p/itmfgwba8kmejqpe?pid=MOBFHBZ4ZQB3CTZW&lid=LSTMOBFHBZ4ZQB3CTZWUFZDQI&marketplace=FLIPKART\",\"values\":[\"Rs. 5999\"]}],\"footer\":\"This data was last updated on 2020/01/27\",\"heading\":{\"title\":\"Mobiles\",\"values\":[\"Price\"]}}}]},\"header\":{\"action\":null,\"metaData\":null,\"tracking\":null,\"trackingData\":null,\"value\":{\"type\":\"HeaderValue\",\"actionButton\":null,\"actionButtonArrowEnable\":null,\"actionButtonEnable\":null,\"actionButtonTextValue\":null,\"collapsed\":false,\"collapsible\":false,\"headerDetailsValue\":null,\"imageValue\":null,\"referenceImageValue\":null,\"showActionButton\":false,\"showHeader\":true,\"subTitleValue\":null,\"tags\":null,\"timerValue\":null,\"titleValue\":{\"type\":\"TitleValue\",\"image\":null,\"style\":null,\"text\":\"Mobiles Price List\"}}}}},\"singleReview\":{\"asyncStatus\":\"INIT\"},\"stickyBasket\":{\"data\":{}},\"subscription\":{\"asyncStatus\":\"INIT\"},\"suggestions\":{},\"surveyState\":{\"asyncStatus\":\"INIT\"},\"swatches\":{\"asyncStatus\":\"INIT\",\"productSwatchDetails\":{}},\"tooltip\":{\"id\":null},\"userState\":{\"cart\":{\"fkItems\":[],\"groceryItems\":[],\"items\":[]},\"asyncStatus\":\"SUCCESS\",\"abResponse\":{\"abDataId\":-1076319304,\"abExperiments\":[{\"abId\":\"20fdaef5\",\"appId\":\"sherlock\",\"expId\":\"Vernac_Hindi_Queries_30th_December\",\"layerName\":\"sherlock-matching\",\"metadata\":{\"bucket[]\":\"vernacEnable\",\"trackingId\":\"vernacEnable\"}},{\"abId\":\"2743a205\",\"appId\":\"TNS\",\"expId\":\"mlModelV4\",\"layerName\":\"rto_cod\",\"metadata\":{\"ruleModel\":\"ruleModelV1\",\"tnsModel\":\"mlModelV5dot1\"}},{\"abId\":\"314125c2\",\"appId\":\"DiscJockey\",\"expId\":\"Reco PP Control 19 Dec\",\"layerName\":\"Product Page\",\"metadata\":{\"Header.X-RECO-CONTROLPP\":true}},{\"abId\":\"463707bf\",\"appId\":\"Checkout\",\"expId\":\"CnC 2FA enabled - Test Bucket\",\"layerName\":\"Paymets\",\"metadata\":{\"cnc_strong_auth_enabled\":true}},{\"abId\":\"4778f558\",\"appId\":\"Mapi\",\"expId\":\"MGD - 25thJan2020\",\"layerName\":\"HomePage\",\"metadata\":{\"newap-homep-d9b50\":\"mgd16-homep-8f308\",\"newap-homep-55db3\":\"mgd16-homep-55c67\"}},{\"abId\":\"654a29d3\",\"appId\":\"Mapi\",\"expId\":\"Voice Test RDay Sale\",\"layerName\":\"Supermart\",\"metadata\":{\"bbdgr-categ-097db\":\"groce-categ-89abf\"}},{\"abId\":\"732dadd2\",\"appId\":\"FlipkartIdeas\",\"expId\":\"Recency for Trending Posts\",\"layerName\":\"flipkartideas\",\"metadata\":{\"SAVE_RELATION_DECAY_FUNCTION\":\"HAS_POST_SAVED_RANKED_WITH_TIME_DECAY_D1\"}},{\"abId\":\"7be10420\",\"appId\":\"CRM\",\"expId\":\"Model Experiment\",\"layerName\":\"Push Notifications\",\"metadata\":{\"model_version\":\"some_version\",\"model_name\":\"crm_pctr\",\"allocator_type\":\"MODEL_ALLOCATOR\"}},{\"abId\":\"8761dc32\",\"appId\":\"sherlock\",\"expId\":\"nrt_AB_16_Jan\",\"layerName\":\"search-ranking\",\"metadata\":{\"rankingBucket\":\"nrt_AB_19dec\"}},{\"abId\":\"b4c397dd\",\"appId\":\"CXSelfServe\",\"expId\":\"Reachout No Email\",\"layerName\":\"PostOrderRelated\",\"metadata\":{\"stop_email_ab\":true}},{\"abId\":\"b9cc4de3\",\"appId\":\"sherlock\",\"expId\":\"Spotlight_Reverse_13th_Dec19\",\"layerName\":\"sherlock-experience\",\"metadata\":{\"spotlightRulesAbBucket\":\"reverse\"}},{\"abId\":\"bff0b708\",\"appId\":\"DiscJockey\",\"expId\":\"HP Control 27th December\",\"layerName\":\"Merchandising Homepage\",\"metadata\":{\"Header.X-RECO-CONTROL\":true}},{\"abId\":\"dace4df5\",\"appId\":\"Mapi\",\"expId\":\"Address Page - Phone number - EXP\",\"layerName\":\"Transact\",\"metadata\":{\"phoneNoPersistExp\":true}},{\"abId\":\"e0778606\",\"appId\":\"CXSelfServe\",\"expId\":\"Self Serve survey\",\"layerName\":\"ContactUs\",\"metadata\":{\"survey\":true}},{\"abId\":\"f1b1c8b9\",\"appId\":\"sherlock\",\"expId\":\"Autosuggest_control_samecache\",\"layerName\":\"sherlock-autosuggest\",\"metadata\":{}}]},\"groceryEnabled\":true,\"locale\":\"en\",\"location\":{\"communityStore\":null,\"selectedLocation\":null},\"lockinResponse\":{\"flipkartLogoAction\":{\"constraints\":null,\"fallback\":null,\"loginType\":\"LOGIN_NOT_REQUIRED\",\"omnitureData\":null,\"originalUrl\":\"/plus\",\"params\":{\"valid\":true,\"screenName\":\"LOYALTY_PAGE\"},\"screenType\":\"multiWidgetPage\",\"tracking\":{},\"type\":\"NAVIGATION\",\"url\":\"/plus\"},\"userMembershipState\":\"NON_LOGGED_IN\"},\"tmxTransactionId\":\"f57b059a-c3b0-4e00-b929-0008f66b560f\",\"accountId\":null,\"asn\":null,\"firstName\":null,\"flipkartFirstUser\":false,\"isLoggedIn\":false,\"lastName\":null,\"ts\":0,\"twoFa\":false,\"userEmail\":null},\"winnerList\":{\"asyncStatus\":\"INIT\"},\"wishlistItemDetails\":{\"asyncStatus\":\"INIT\"},\"redeemVoucherReducer\":{\"asyncStatus\":\"INIT\"},\"apiError\":{},\"richNavigation\":{\"widget\":null},\"floodLights\":{\"visible\":false,\"isClickTriggered\":false},\"userAddressData\":{\"asyncStatus\":\"INIT\",\"data\":null},\"locationUpdate\":{\"asyncStatus\":\"INIT\",\"data\":{\"currentPincode\":\"\"}},\"productServiceabilityInfo\":{\"asyncStatus\":\"INIT\",\"data\":null},\"validate2Fa\":{\"asyncStatus\":\"INIT\"},\"actionViewReducer\":{\"asyncStatus\":\"INIT\"},\"notifPrefsAccordion\":{\"items\":[]}};\\n</script>\\n\\n<script nonce=\"10424577359185374968\" >\\n\\twindow.__BUNDLE_IDS__ = {};\\n</script>\\n\\n<script nonce=\"10424577359185374968\">\\n\\twindow.omniture={tpv:[],tl:[]};window.omniture.trackPageView=function(){window.omniture.tpv.push(arguments)};window.omniture.trackLink=function(){window.omniture.tl.push(arguments)}\\n\\n    if(window.location.host === \\'www.flipkart.com\\' || /\\\\.store\\\\.flipkart\\\\.com/i.test(window.location.host)){\\n        window.s_account = \"flipkart-prd\"; //omniture account id\\n    }else{\\n        window.s_account = \"flipkart-prd-test\";\\n    }\\n    window.s_isDesktop = true;\\n\\n\\tif (\\'serviceWorker\\' in navigator && navigator.userAgent.indexOf(\"Mobile\") === -1) {\\n\\t\\tnavigator.serviceWorker.register(\\'/sw.js\\').then(function(registration) {\\n\\t\\t\\tconsole.log(\\'ServiceWorker registration successful with scope: \\', registration.scope);\\n\\t\\t\\tnavigator.onLine && navigator.serviceWorker.controller && navigator.serviceWorker.controller.postMessage(\\'BANDWIDTH_COMPUTE\\');\\n\\t\\t\\tnavigator.serviceWorker.addEventListener(\\'message\\', function (event) {\\n\\t\\t\\t\\ttry {\\n\\t\\t\\t\\t\\tconst bandwidthData = JSON.parse(event.data);\\n\\t\\t\\t\\t\\tif (bandwidthData && bandwidthData.data) {\\n\\t\\t\\t\\t\\t\\twindow.bandwidth = bandwidthData.data.downlink + \\'_\\' + bandwidthData.data.computeMethod + \\'_\\' + bandwidthData.data.effectiveType + \\'_\\' + bandwidthData.data.type;\\n\\t\\t\\t\\t\\t}\\n\\t\\t\\t\\t}catch(err) {\\n\\t\\t\\t\\t\\tconsole.error(\\'JSON.parse failed:\\', err);\\n\\t\\t\\t\\t}\\n\\t\\t\\t});\\n\\t\\t})\\n\\t\\t.catch(function(err) {\\n\\t\\t\\tconsole.error(\\'ServiceWorker registration failed: \\', err);\\n\\t\\t});\\n\\t} else if(\\'serviceWorker\\' in navigator && navigator.userAgent.indexOf(\"Mobile\") > -1){\\n        navigator.serviceWorker.getRegistration().then(function(registration) {\\n            var serviceWorkerUnregistered=false;\\n            if(registration) {\\n                registration.unregister();\\n                serviceWorkerUnregistered=true;\\n            }\\n            serviceWorkerUnregistered && window.location.reload();\\n        });\\n    }\\n\\n\\n</script>\\n\\n<script src=\"//img1a.flixcart.com/www/linchpin/batman-returns/omni/omni16.js\" defer async nonce=\"10424577359185374968\"></script>\\n</body>\\n</html>\\n'\n"
     ]
    }
   ],
   "source": [
    "print(response.content)"
   ]
  },
  {
   "cell_type": "code",
   "execution_count": 9,
   "metadata": {},
   "outputs": [],
   "source": [
    "soup = BeautifulSoup(response.content,\"html.parser\")"
   ]
  },
  {
   "cell_type": "code",
   "execution_count": null,
   "metadata": {},
   "outputs": [],
   "source": [
    "find(\"div\")\n",
    "find_all(\"div\")\n",
    "\n",
    "find_parent(\"a\")\n",
    "find_parents(\"a\")\n"
   ]
  },
  {
   "cell_type": "code",
   "execution_count": 10,
   "metadata": {},
   "outputs": [
    {
     "name": "stdout",
     "output_type": "stream",
     "text": [
      "Realme 5i (Forest Green, 64 GB)\n"
     ]
    }
   ],
   "source": [
    "title_div = soup.find(\"div\",attrs={\"class\":\"_3wU53n\"})\n",
    "print(title_div.text)"
   ]
  },
  {
   "cell_type": "code",
   "execution_count": 11,
   "metadata": {},
   "outputs": [
    {
     "name": "stdout",
     "output_type": "stream",
     "text": [
      "['Realme 5i (Forest Green, 64 GB)', 'Realme 5i (Aqua Blue, 64 GB)', 'Redmi 8 (Sapphire Blue, 64 GB)', 'Redmi 8 (Onyx Black, 64 GB)', 'Redmi 8A (Ocean Blue, 32 GB)', 'Redmi 8A (Sunset Red, 32 GB)', 'Redmi 8A (Midnight Black, 32 GB)', 'Realme 5s (Crystal Blue, 128 GB)', 'Realme 5s (Crystal Purple, 64 GB)', 'Realme 5s (Crystal Blue, 64 GB)', 'Redmi 8 (Ruby Red, 64 GB)', 'Vivo Z1Pro (Sonic Black, 64 GB)', 'Vivo Z1Pro (Sonic Black, 64 GB)', 'I Kall K1000 (Green, 64 GB)', 'Vivo Z1Pro (Sonic Blue, 64 GB)', 'Vivo Z1Pro (Sonic Blue, 64 GB)', 'Vivo Z1Pro (Sonic Black, 128 GB)', 'Redmi 8A (Ocean Blue, 32 GB)', 'Realme 5s (Crystal Purple, 128 GB)', 'I Kall K1000 (Blue, 64 GB)', 'Redmi 8 (Emerald Green, 64 GB)', 'Realme C2 (Diamond Black, 32 GB)', 'Realme C2 (Diamond Blue, 32 GB)', 'I Kall K900 (Dark Blue, 64 GB)']\n"
     ]
    }
   ],
   "source": [
    "title_divs = soup.find_all(\"div\",attrs={\"class\":\"_3wU53n\"})\n",
    "titles = [title.text for title in title_divs]\n",
    "print(titles)"
   ]
  },
  {
   "cell_type": "code",
   "execution_count": 12,
   "metadata": {},
   "outputs": [
    {
     "name": "stdout",
     "output_type": "stream",
     "text": [
      "Realme 5i (Forest Green, 64 GB) ₹8,999 4.5 Vision Star4.9\n"
     ]
    }
   ],
   "source": [
    "card = soup.find(\"div\",attrs = {\"class\":\"_1UoZlX\"})\n",
    "title_div = card.find(\"div\",attrs={\"class\":\"_3wU53n\"})\n",
    "title_text = title_div.text\n",
    "\n",
    "price_div = card.find(\"div\",attrs={\"class\":\"_2rQ-NK\"})\n",
    "price_text = price_div.text\n",
    "\n",
    "rating_div = card.find(\"div\",attrs = {\"class\":\"hGSR34\"})\n",
    "rating_text = rating_div.text\n",
    "\n",
    "\n",
    "detail_page_link = card.find(\"a\",attrs = {\"class\":\"_31qSD5\"})\n",
    "home_url = \"https://www.flipkart.com\"\n",
    "\n",
    "mob_page_url = home_url+detail_page_link.get(\"href\")\n",
    "\n",
    "\n",
    "response3 = requests.get(mob_page_url)\n",
    "\n",
    "\n",
    "soup3 = BeautifulSoup(response3.content,\"html.parser\")\n",
    "\n",
    "seller_name = soup3.find(\"div\",attrs = {\"id\":\"sellerName\"})\n",
    "seller_text = seller_name.text\n",
    "\n",
    "print(\"{} {} {} {}\".format(title_text,price_text,rating_text,seller_text))"
   ]
  },
  {
   "cell_type": "code",
   "execution_count": 13,
   "metadata": {},
   "outputs": [
    {
     "name": "stdout",
     "output_type": "stream",
     "text": [
      "Realme 5i (Forest Green, 64 GB) ₹8,999 4.5 Vision Star4.9\n",
      "Realme 5i (Aqua Blue, 64 GB) ₹8,999 4.5 Vision Star4.9\n",
      "Redmi 8 (Sapphire Blue, 64 GB) ₹7,999 4.4 Flashstar Commerce4.9\n",
      "Redmi 8 (Onyx Black, 64 GB) ₹7,999 4.4 Flashstar Commerce4.9\n",
      "Redmi 8A (Ocean Blue, 32 GB) ₹6,499 4.4 Flashstar Commerce4.9\n",
      "Redmi 8A (Sunset Red, 32 GB) ₹6,499 4.4 Flashstar Commerce4.9\n",
      "Redmi 8A (Midnight Black, 32 GB) ₹6,499 4.4 Flashstar Commerce4.9\n"
     ]
    },
    {
     "ename": "AttributeError",
     "evalue": "'NoneType' object has no attribute 'text'",
     "output_type": "error",
     "traceback": [
      "\u001b[1;31m---------------------------------------------------------------------------\u001b[0m",
      "\u001b[1;31mAttributeError\u001b[0m                            Traceback (most recent call last)",
      "\u001b[1;32m<ipython-input-13-67a86d9f723b>\u001b[0m in \u001b[0;36m<module>\u001b[1;34m\u001b[0m\n\u001b[0;32m     25\u001b[0m \u001b[1;33m\u001b[0m\u001b[0m\n\u001b[0;32m     26\u001b[0m     \u001b[0mseller_name\u001b[0m \u001b[1;33m=\u001b[0m \u001b[0msoup3\u001b[0m\u001b[1;33m.\u001b[0m\u001b[0mfind\u001b[0m\u001b[1;33m(\u001b[0m\u001b[1;34m\"div\"\u001b[0m\u001b[1;33m,\u001b[0m\u001b[0mattrs\u001b[0m \u001b[1;33m=\u001b[0m \u001b[1;33m{\u001b[0m\u001b[1;34m\"id\"\u001b[0m\u001b[1;33m:\u001b[0m\u001b[1;34m\"sellerName\"\u001b[0m\u001b[1;33m}\u001b[0m\u001b[1;33m)\u001b[0m\u001b[1;33m\u001b[0m\u001b[1;33m\u001b[0m\u001b[0m\n\u001b[1;32m---> 27\u001b[1;33m     \u001b[0mseller_text\u001b[0m \u001b[1;33m=\u001b[0m \u001b[0mseller_name\u001b[0m\u001b[1;33m.\u001b[0m\u001b[0mtext\u001b[0m\u001b[1;33m\u001b[0m\u001b[1;33m\u001b[0m\u001b[0m\n\u001b[0m\u001b[0;32m     28\u001b[0m \u001b[1;33m\u001b[0m\u001b[0m\n\u001b[0;32m     29\u001b[0m     \u001b[0mprint\u001b[0m\u001b[1;33m(\u001b[0m\u001b[1;34m\"{} {} {} {}\"\u001b[0m\u001b[1;33m.\u001b[0m\u001b[0mformat\u001b[0m\u001b[1;33m(\u001b[0m\u001b[0mtitle_text\u001b[0m\u001b[1;33m,\u001b[0m\u001b[0mprice_text\u001b[0m\u001b[1;33m,\u001b[0m\u001b[0mrating_text\u001b[0m\u001b[1;33m,\u001b[0m\u001b[0mseller_text\u001b[0m\u001b[1;33m)\u001b[0m\u001b[1;33m)\u001b[0m\u001b[1;33m\u001b[0m\u001b[1;33m\u001b[0m\u001b[0m\n",
      "\u001b[1;31mAttributeError\u001b[0m: 'NoneType' object has no attribute 'text'"
     ]
    }
   ],
   "source": [
    "cards = soup.find_all(\"div\",attrs = {\"class\":\"_1UoZlX\"})\n",
    "\n",
    "for card in cards:\n",
    "\n",
    "    title_div = card.find(\"div\",attrs={\"class\":\"_3wU53n\"})\n",
    "    title_text = title_div.text\n",
    "\n",
    "    price_div = card.find(\"div\",attrs={\"class\":\"_2rQ-NK\"})\n",
    "    price_text = price_div.text\n",
    "\n",
    "    rating_div = card.find(\"div\",attrs = {\"class\":\"hGSR34\"})\n",
    "    rating_text = rating_div.text\n",
    "\n",
    "\n",
    "    detail_page_link = card.find(\"a\",attrs = {\"class\":\"_31qSD5\"})\n",
    "    home_url = \"https://www.flipkart.com\"\n",
    "\n",
    "    mob_page_url = home_url+detail_page_link.get(\"href\")\n",
    "\n",
    "\n",
    "    response3 = requests.get(mob_page_url)\n",
    "\n",
    "\n",
    "    soup3 = BeautifulSoup(response3.content,\"html.parser\")\n",
    "\n",
    "    seller_name = soup3.find(\"div\",attrs = {\"id\":\"sellerName\"})\n",
    "    seller_text = seller_name.text\n",
    "\n",
    "    print(\"{} {} {} {}\".format(title_text,price_text,rating_text,seller_text))"
   ]
  },
  {
   "cell_type": "code",
   "execution_count": 14,
   "metadata": {},
   "outputs": [
    {
     "name": "stdout",
     "output_type": "stream",
     "text": [
      "/mobiles/pr?sid=tyy%2C4io&marketplace=FLIPKART&page=2\n",
      "https://www.flipkart.com/mobiles/pr?sid=tyy%2C4io&marketplace=FLIPKART&page=2\n"
     ]
    }
   ],
   "source": [
    "next_btn_link = soup.find(\"a\",attrs={\"class\":\"_3fVaIS\"})\n",
    "print(next_btn_link.get(\"href\"))\n",
    "home_url = \"https://www.flipkart.com\"\n",
    "new_url = home_url+next_btn_link.get(\"href\")\n",
    "print(new_url)"
   ]
  },
  {
   "cell_type": "code",
   "execution_count": 15,
   "metadata": {},
   "outputs": [
    {
     "name": "stdout",
     "output_type": "stream",
     "text": [
      "<Response [200]>\n"
     ]
    }
   ],
   "source": [
    "response2 = requests.get(new_url)\n",
    "print(response2)"
   ]
  },
  {
   "cell_type": "code",
   "execution_count": 16,
   "metadata": {},
   "outputs": [
    {
     "name": "stdout",
     "output_type": "stream",
     "text": [
      "Redmi 8A (Midnight Black, 32 GB) ₹6,999 4.4\n",
      "Infinix Hot 8 (Quetzal Cyan, 64 GB) ₹6,999 4.5\n",
      "Infinix Hot 8 (Cosmic Purple, 64 GB) ₹6,999 4.5\n",
      "OPPO A7 (Glaring Gold, 64 GB) ₹9,990 4.4\n",
      "Realme 3 (Dynamic Black, 64 GB) ₹8,999 4.4\n",
      "I Kall K1000 (Green, 64 GB) ₹4,999 3.7\n",
      "Realme 3i (Diamond Red, 64 GB) ₹9,999 4.4\n",
      "Realme 5 Pro (Crystal Green, 128 GB) ₹15,999 4.5\n",
      "Realme 5 Pro (Crystal Green, 64 GB) ₹13,999 4.5\n",
      "I Kall K1000 (Blue, 64 GB) ₹4,999 3.7\n",
      "Realme 5 Pro (Sparkling Blue, 128 GB) ₹15,999 4.5\n",
      "Redmi 8A (Sunset Red, 32 GB) ₹6,999 4.4\n",
      "Redmi Note 7 Pro (Nebula Red, 64 GB) ₹9,999 4.5\n",
      "Redmi Note 7 Pro (Neptune Blue, 64 GB) ₹10,999 4.5\n",
      "Realme X2 (Pearl Green, 128 GB) ₹18,999 4.5\n",
      "I Kall K900 (Dark Blue, 64 GB) ₹4,499 3.5\n",
      "Realme X2 (Pearl Blue, 128 GB) ₹19,999 4.5\n",
      "Apple iPhone 7 (Black, 32 GB) ₹27,999 4.5\n",
      "Redmi Note 7 Pro (Space Black, 64 GB) ₹9,999 4.5\n",
      "I Kall K900 (Sky Blue, 64 GB) ₹4,499 3.5\n",
      "Vivo U10 (Electric Blue, 32 GB) ₹8,990 4.4\n",
      "Redmi 7A (Matte Black, 16 GB) ₹4,999 4.3\n",
      "Redmi 7A (Matte Blue, 32 GB) ₹5,499 4.3\n",
      "Realme XT (Pearl Blue, 128 GB) ₹18,999 4.5\n"
     ]
    }
   ],
   "source": [
    "soup2 = BeautifulSoup(response2.content,\"html.parser\")\n",
    "cards = soup2.find_all(\"div\",attrs = {\"class\":\"_1UoZlX\"})\n",
    "\n",
    "for card in cards:\n",
    "\n",
    "    title_div = card.find(\"div\",attrs={\"class\":\"_3wU53n\"})\n",
    "    title_text = title_div.text\n",
    "\n",
    "    price_div = card.find(\"div\",attrs={\"class\":\"_2rQ-NK\"})\n",
    "    price_text = price_div.text\n",
    "\n",
    "    rating_div = card.find(\"div\",attrs = {\"class\":\"hGSR34\"})\n",
    "    rating_text = rating_div.text\n",
    "    print(\"{} {} {}\".format(title_text,price_text,rating_text))"
   ]
  },
  {
   "cell_type": "markdown",
   "metadata": {},
   "source": [
    "# Extended  Iterable  Unpacking"
   ]
  },
  {
   "cell_type": "code",
   "execution_count": 2,
   "metadata": {},
   "outputs": [
    {
     "name": "stdout",
     "output_type": "stream",
     "text": [
      "1 [2, 3, 4, 5] 6\n"
     ]
    }
   ],
   "source": [
    "# Abstract\n",
    "# a change to iterable unpacking syntax, allowing to specify a \"catch-all\" \n",
    "# name which will be assigned a list of all items not assigned to a \"regular\" name.\n",
    "arr = [1,2,3,4,5,6]\n",
    "a,*b,c = arr\n",
    "print(a,b,c)"
   ]
  },
  {
   "cell_type": "code",
   "execution_count": 4,
   "metadata": {},
   "outputs": [
    {
     "name": "stdout",
     "output_type": "stream",
     "text": [
      "1 [2, 3, 4, 5, 6]\n",
      "1 [2, 3, 4, 5, 6]\n"
     ]
    }
   ],
   "source": [
    "# Rationale\n",
    "# Many algorithms require splitting a sequence in a \"first, rest\" pair. With the new syntax,\n",
    "first, rest = arr[0], arr[1:]\n",
    "print(first, rest)\n",
    "\n",
    "# is replaced by the cleaner and probably more efficient:\n",
    "first, *rest = arr\n",
    "print(first, rest)"
   ]
  },
  {
   "cell_type": "code",
   "execution_count": null,
   "metadata": {},
   "outputs": [],
   "source": [
    "#For more complex unpacking patterns, the new syntax looks even cleaner, and the clumsy index handling is not necessary anymore.\n",
    "\n",
    "#Also, if the right-hand value is not a list, but an iterable,it has to be converted to a list before being able to do slicing; \n",
    "# to avoid creating this temporary list, one has to resort to\n",
    "\n",
    "it = iter(arr)\n",
    "first = it.next()\n",
    "rest = list(it)"
   ]
  },
  {
   "cell_type": "code",
   "execution_count": 6,
   "metadata": {},
   "outputs": [
    {
     "name": "stdout",
     "output_type": "stream",
     "text": [
      "1 [2, 3, 4, 5] 6\n",
      "1 [2, 3, 4, 5] 6\n",
      "1 [2, 3, 4, 5] 6\n"
     ]
    }
   ],
   "source": [
    "# Specification\n",
    "# if arr is a slicable sequence, all the following assignments are equivalent if arr has at least two elements:\n",
    "\n",
    "a, b, c = arr[0], list(arr[1:-1]), arr[-1]\n",
    "print(a,b,c)\n",
    "\n",
    "a, *b, c = arr\n",
    "print(a,b,c)\n",
    "\n",
    "[a, *b, c] = arr\n",
    "print(a,b,c)\n",
    "\n",
    "\n",
    "# It is an error (as it is currently) if the iterable doesn't contain enough items to assign to all the mandatory expressions."
   ]
  },
  {
   "cell_type": "code",
   "execution_count": 7,
   "metadata": {},
   "outputs": [
    {
     "ename": "SyntaxError",
     "evalue": "starred assignment target must be in a list or tuple (<ipython-input-7-696740340402>, line 6)",
     "output_type": "error",
     "traceback": [
      "\u001b[1;36m  File \u001b[1;32m\"<ipython-input-7-696740340402>\"\u001b[1;36m, line \u001b[1;32m6\u001b[0m\n\u001b[1;31mSyntaxError\u001b[0m\u001b[1;31m:\u001b[0m starred assignment target must be in a list or tuple\n"
     ]
    }
   ],
   "source": [
    "# It is also an error to use the starred expression as a lone assignment target, as in\n",
    "\n",
    "*a = range(1,5)"
   ]
  },
  {
   "cell_type": "code",
   "execution_count": 9,
   "metadata": {},
   "outputs": [
    {
     "name": "stdout",
     "output_type": "stream",
     "text": [
      "[1, 2, 3, 4]\n"
     ]
    }
   ],
   "source": [
    "# This is valid\n",
    "*a, = range(1,5)\n",
    "print(a)"
   ]
  },
  {
   "cell_type": "code",
   "execution_count": 10,
   "metadata": {},
   "outputs": [
    {
     "name": "stdout",
     "output_type": "stream",
     "text": [
      "[2, 3]\n",
      "[5, 6, 7]\n"
     ]
    }
   ],
   "source": [
    "# Note that this proposal also applies to tuples in implicit assignment context, such as in a for statement:\n",
    "\n",
    "for a, *b in [(1, 2, 3), (4, 5, 6, 7)]:\n",
    "    print(b)\n",
    "    \n",
    "# would print:"
   ]
  },
  {
   "cell_type": "code",
   "execution_count": null,
   "metadata": {},
   "outputs": [],
   "source": [
    "Starred expressions are only allowed as assignment targets, using them anywhere else \n",
    "(except for star-args in function calls, of course) is an error."
   ]
  },
  {
   "cell_type": "code",
   "execution_count": null,
   "metadata": {},
   "outputs": [],
   "source": []
  }
 ],
 "metadata": {
  "kernelspec": {
   "display_name": "Python 3",
   "language": "python",
   "name": "python3"
  },
  "language_info": {
   "codemirror_mode": {
    "name": "ipython",
    "version": 3
   },
   "file_extension": ".py",
   "mimetype": "text/x-python",
   "name": "python",
   "nbconvert_exporter": "python",
   "pygments_lexer": "ipython3",
   "version": "3.7.3"
  }
 },
 "nbformat": 4,
 "nbformat_minor": 2
}
